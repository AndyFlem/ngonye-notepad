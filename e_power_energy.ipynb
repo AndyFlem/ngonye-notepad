{
 "cells": [
  {
   "cell_type": "markdown",
   "metadata": {},
   "source": [
    "## Libraries and Setup"
   ]
  },
  {
   "cell_type": "code",
   "execution_count": 55,
   "metadata": {},
   "outputs": [],
   "source": [
    "import numpy as np\n",
    "import pandas as pd\n",
    "from scipy import interpolate\n",
    "import math"
   ]
  },
  {
   "cell_type": "markdown",
   "metadata": {},
   "source": [
    "## Parameters"
   ]
  },
  {
   "cell_type": "code",
   "execution_count": 56,
   "metadata": {},
   "outputs": [],
   "source": [
    "input_data='./input_data/'\n",
    "output_data='./output_data/'"
   ]
  },
  {
   "cell_type": "code",
   "execution_count": 57,
   "metadata": {},
   "outputs": [],
   "source": [
    "model_name='Fixed Tailwater'#MW162 'Fixed Tailwater' 'Base Case' Headpond50cm EWRAllCs\n",
    "dryrun=False #Dont write output files"
   ]
  },
  {
   "cell_type": "code",
   "execution_count": 58,
   "metadata": {},
   "outputs": [
    {
     "data": {
      "text/plain": [
       "OutputPrefix                                  fixedtail\n",
       "Description       Tailwater level remains fixed at 970m\n",
       "EWRCatSet                              Recommendation 1\n",
       "HeadpondLift                                          0\n",
       "Capacity                                            180\n",
       "FixedTailwater                                      970\n",
       "Mean                                             831429\n",
       "P95                                              628030\n",
       "P90                                              681508\n",
       "P75                                              777449\n",
       "P50                                              837483\n",
       "P25                                              919293\n",
       "P10                                              988011\n",
       "P5                                          1.01648e+06\n",
       "StDev                                            125170\n",
       "CoefVar                                        0.150549\n",
       "Max                                         1.06441e+06\n",
       "Min                                              405737\n",
       "CapFactor                                      0.527289\n",
       "CalYearMean                                      831459\n",
       "CalYearStDev                                     128603\n",
       "CalYearCoefVar                                 0.154672\n",
       "Name: Fixed Tailwater, dtype: object"
      ]
     },
     "execution_count": 58,
     "metadata": {},
     "output_type": "execute_result"
    }
   ],
   "source": [
    "models=pd.read_csv(input_data + \"models.csv\").set_index('ModelName')\n",
    "model=models.loc[model_name]\n",
    "\n",
    "out_prefix=model['OutputPrefix']#'base'\n",
    "if out_prefix!='base':\n",
    "    out_prefix=\"scenarios/\" + out_prefix\n",
    "\n",
    "category_set_name=model['EWRCatSet']#'Recommendation 1'\n",
    "headpond_lift=model['HeadpondLift']#0\n",
    "plant_capacity=model['Capacity']#180\n",
    "canal_capacity=plant_capacity/180*1100#1100\n",
    "fixed_tailwater_level=model['FixedTailwater']#False #970 \n",
    "\n",
    "model\n"
   ]
  },
  {
   "cell_type": "code",
   "execution_count": null,
   "metadata": {},
   "outputs": [],
   "source": []
  },
  {
   "cell_type": "markdown",
   "metadata": {},
   "source": [
    "## Load Daily Data\n",
    "\n",
    "Load the daily time series which includes the exceedance values used for calculating daily EWRs."
   ]
  },
  {
   "cell_type": "code",
   "execution_count": 59,
   "metadata": {},
   "outputs": [
    {
     "name": "stdout",
     "output_type": "stream",
     "text": [
      "<class 'pandas.core.frame.DataFrame'>\n",
      "DatetimeIndex: 33968 entries, 1924-10-01 to 2017-09-30\n",
      "Data columns (total 15 columns):\n",
      " #   Column            Non-Null Count  Dtype  \n",
      "---  ------            --------------  -----  \n",
      " 0   LaggedDate        33968 non-null  object \n",
      " 1   VicFalls          33968 non-null  float64\n",
      " 2   Conversion        33968 non-null  float64\n",
      " 3   Flow              33968 non-null  float64\n",
      " 4   Exceedance        33968 non-null  float64\n",
      " 5   Year              33968 non-null  int64  \n",
      " 6   Month             33968 non-null  int64  \n",
      " 7   Day               33968 non-null  int64  \n",
      " 8   MonthId           33968 non-null  float64\n",
      " 9   WaterYear         33968 non-null  int64  \n",
      " 10  WaterMonth        33968 non-null  int64  \n",
      " 11  WaterDay          33968 non-null  int64  \n",
      " 12  WaterWeek         33968 non-null  int32  \n",
      " 13  Volume            33968 non-null  float64\n",
      " 14  EWRRefExceedance  33968 non-null  float64\n",
      "dtypes: float64(7), int32(1), int64(6), object(1)\n",
      "memory usage: 4.0+ MB\n"
     ]
    }
   ],
   "source": [
    "daily=pd.read_csv(output_data + \"ngonye_flow_daily_ewrx.csv\")\n",
    "daily=daily.set_index(pd.to_datetime(daily['Date'],format=\"%Y-%m-%d\"))\n",
    "daily=daily.drop('Date',axis=1)\n",
    "daily=daily.astype({'WaterWeek': 'int32'})\n",
    "daily.info()"
   ]
  },
  {
   "cell_type": "markdown",
   "metadata": {},
   "source": [
    "## EWR Assurance Category Sets\n",
    "Load the available EWR assurance category sets"
   ]
  },
  {
   "cell_type": "code",
   "execution_count": 60,
   "metadata": {},
   "outputs": [
    {
     "data": {
      "text/html": [
       "<div>\n",
       "<style scoped>\n",
       "    .dataframe tbody tr th:only-of-type {\n",
       "        vertical-align: middle;\n",
       "    }\n",
       "\n",
       "    .dataframe tbody tr th {\n",
       "        vertical-align: top;\n",
       "    }\n",
       "\n",
       "    .dataframe thead th {\n",
       "        text-align: right;\n",
       "    }\n",
       "</style>\n",
       "<table border=\"1\" class=\"dataframe\">\n",
       "  <thead>\n",
       "    <tr style=\"text-align: right;\">\n",
       "      <th></th>\n",
       "      <th>Section</th>\n",
       "      <th>Recommendation 1</th>\n",
       "      <th>All Cs</th>\n",
       "      <th>All Bs</th>\n",
       "      <th>All As</th>\n",
       "    </tr>\n",
       "  </thead>\n",
       "  <tbody>\n",
       "    <tr>\n",
       "      <th>0</th>\n",
       "      <td>A</td>\n",
       "      <td>B</td>\n",
       "      <td>C</td>\n",
       "      <td>B</td>\n",
       "      <td>A</td>\n",
       "    </tr>\n",
       "    <tr>\n",
       "      <th>1</th>\n",
       "      <td>C</td>\n",
       "      <td>B</td>\n",
       "      <td>C</td>\n",
       "      <td>B</td>\n",
       "      <td>A</td>\n",
       "    </tr>\n",
       "    <tr>\n",
       "      <th>2</th>\n",
       "      <td>D</td>\n",
       "      <td>B</td>\n",
       "      <td>C</td>\n",
       "      <td>B</td>\n",
       "      <td>A</td>\n",
       "    </tr>\n",
       "    <tr>\n",
       "      <th>3</th>\n",
       "      <td>E</td>\n",
       "      <td>B</td>\n",
       "      <td>C</td>\n",
       "      <td>B</td>\n",
       "      <td>A</td>\n",
       "    </tr>\n",
       "    <tr>\n",
       "      <th>4</th>\n",
       "      <td>FG</td>\n",
       "      <td>C</td>\n",
       "      <td>C</td>\n",
       "      <td>B</td>\n",
       "      <td>A</td>\n",
       "    </tr>\n",
       "  </tbody>\n",
       "</table>\n",
       "</div>"
      ],
      "text/plain": [
       "  Section Recommendation 1 All Cs All Bs All As\n",
       "0       A                B      C      B      A\n",
       "1       C                B      C      B      A\n",
       "2       D                B      C      B      A\n",
       "3       E                B      C      B      A\n",
       "4      FG                C      C      B      A"
      ]
     },
     "execution_count": 60,
     "metadata": {},
     "output_type": "execute_result"
    }
   ],
   "source": [
    "category_sets=pd.read_csv(input_data + \"ewr_section_categories.csv\")\n",
    "category_sets"
   ]
  },
  {
   "cell_type": "markdown",
   "metadata": {},
   "source": [
    "## EWR Assurance Category Set\n",
    "Select the category set given as a variable in  the setup above"
   ]
  },
  {
   "cell_type": "code",
   "execution_count": 61,
   "metadata": {},
   "outputs": [
    {
     "data": {
      "text/html": [
       "<div>\n",
       "<style scoped>\n",
       "    .dataframe tbody tr th:only-of-type {\n",
       "        vertical-align: middle;\n",
       "    }\n",
       "\n",
       "    .dataframe tbody tr th {\n",
       "        vertical-align: top;\n",
       "    }\n",
       "\n",
       "    .dataframe thead th {\n",
       "        text-align: right;\n",
       "    }\n",
       "</style>\n",
       "<table border=\"1\" class=\"dataframe\">\n",
       "  <thead>\n",
       "    <tr style=\"text-align: right;\">\n",
       "      <th></th>\n",
       "      <th>Section</th>\n",
       "      <th>Category</th>\n",
       "    </tr>\n",
       "  </thead>\n",
       "  <tbody>\n",
       "    <tr>\n",
       "      <th>0</th>\n",
       "      <td>A</td>\n",
       "      <td>B</td>\n",
       "    </tr>\n",
       "    <tr>\n",
       "      <th>1</th>\n",
       "      <td>C</td>\n",
       "      <td>B</td>\n",
       "    </tr>\n",
       "    <tr>\n",
       "      <th>2</th>\n",
       "      <td>D</td>\n",
       "      <td>B</td>\n",
       "    </tr>\n",
       "    <tr>\n",
       "      <th>3</th>\n",
       "      <td>E</td>\n",
       "      <td>B</td>\n",
       "    </tr>\n",
       "    <tr>\n",
       "      <th>4</th>\n",
       "      <td>FG</td>\n",
       "      <td>C</td>\n",
       "    </tr>\n",
       "  </tbody>\n",
       "</table>\n",
       "</div>"
      ],
      "text/plain": [
       "  Section Category\n",
       "0       A        B\n",
       "1       C        B\n",
       "2       D        B\n",
       "3       E        B\n",
       "4      FG        C"
      ]
     },
     "execution_count": 61,
     "metadata": {},
     "output_type": "execute_result"
    }
   ],
   "source": [
    "category_set=category_sets.loc[:,['Section',category_set_name]]\n",
    "category_set=category_set.rename(columns={category_set_name:'Category'})\n",
    "category_set"
   ]
  },
  {
   "cell_type": "markdown",
   "metadata": {},
   "source": [
    "Load the EWR Flow Sets which specify the required EWRs by assurance category, channel section and calendar month"
   ]
  },
  {
   "cell_type": "code",
   "execution_count": 62,
   "metadata": {},
   "outputs": [
    {
     "data": {
      "text/html": [
       "<div>\n",
       "<style scoped>\n",
       "    .dataframe tbody tr th:only-of-type {\n",
       "        vertical-align: middle;\n",
       "    }\n",
       "\n",
       "    .dataframe tbody tr th {\n",
       "        vertical-align: top;\n",
       "    }\n",
       "\n",
       "    .dataframe thead th {\n",
       "        text-align: right;\n",
       "    }\n",
       "</style>\n",
       "<table border=\"1\" class=\"dataframe\">\n",
       "  <thead>\n",
       "    <tr style=\"text-align: right;\">\n",
       "      <th></th>\n",
       "      <th></th>\n",
       "      <th>Month</th>\n",
       "      <th>Wet</th>\n",
       "      <th>Mod_Wet</th>\n",
       "      <th>Normal</th>\n",
       "      <th>Mod_Dry</th>\n",
       "      <th>Dry</th>\n",
       "    </tr>\n",
       "    <tr>\n",
       "      <th>Section</th>\n",
       "      <th>Category</th>\n",
       "      <th></th>\n",
       "      <th></th>\n",
       "      <th></th>\n",
       "      <th></th>\n",
       "      <th></th>\n",
       "      <th></th>\n",
       "    </tr>\n",
       "  </thead>\n",
       "  <tbody>\n",
       "    <tr>\n",
       "      <th rowspan=\"5\" valign=\"top\">A</th>\n",
       "      <th>A</th>\n",
       "      <td>10</td>\n",
       "      <td>75</td>\n",
       "      <td>70</td>\n",
       "      <td>60</td>\n",
       "      <td>47</td>\n",
       "      <td>38</td>\n",
       "    </tr>\n",
       "    <tr>\n",
       "      <th>A</th>\n",
       "      <td>11</td>\n",
       "      <td>73</td>\n",
       "      <td>69</td>\n",
       "      <td>58</td>\n",
       "      <td>45</td>\n",
       "      <td>37</td>\n",
       "    </tr>\n",
       "    <tr>\n",
       "      <th>A</th>\n",
       "      <td>12</td>\n",
       "      <td>77</td>\n",
       "      <td>72</td>\n",
       "      <td>62</td>\n",
       "      <td>48</td>\n",
       "      <td>40</td>\n",
       "    </tr>\n",
       "    <tr>\n",
       "      <th>A</th>\n",
       "      <td>1</td>\n",
       "      <td>83</td>\n",
       "      <td>77</td>\n",
       "      <td>66</td>\n",
       "      <td>52</td>\n",
       "      <td>46</td>\n",
       "    </tr>\n",
       "    <tr>\n",
       "      <th>A</th>\n",
       "      <td>2</td>\n",
       "      <td>90</td>\n",
       "      <td>81</td>\n",
       "      <td>69</td>\n",
       "      <td>56</td>\n",
       "      <td>51</td>\n",
       "    </tr>\n",
       "    <tr>\n",
       "      <th>...</th>\n",
       "      <th>...</th>\n",
       "      <td>...</td>\n",
       "      <td>...</td>\n",
       "      <td>...</td>\n",
       "      <td>...</td>\n",
       "      <td>...</td>\n",
       "      <td>...</td>\n",
       "    </tr>\n",
       "    <tr>\n",
       "      <th rowspan=\"5\" valign=\"top\">FG</th>\n",
       "      <th>D</th>\n",
       "      <td>5</td>\n",
       "      <td>76</td>\n",
       "      <td>76</td>\n",
       "      <td>66</td>\n",
       "      <td>49</td>\n",
       "      <td>42</td>\n",
       "    </tr>\n",
       "    <tr>\n",
       "      <th>D</th>\n",
       "      <td>6</td>\n",
       "      <td>70</td>\n",
       "      <td>57</td>\n",
       "      <td>46</td>\n",
       "      <td>39</td>\n",
       "      <td>31</td>\n",
       "    </tr>\n",
       "    <tr>\n",
       "      <th>D</th>\n",
       "      <td>7</td>\n",
       "      <td>64</td>\n",
       "      <td>53</td>\n",
       "      <td>41</td>\n",
       "      <td>31</td>\n",
       "      <td>27</td>\n",
       "    </tr>\n",
       "    <tr>\n",
       "      <th>D</th>\n",
       "      <td>8</td>\n",
       "      <td>51</td>\n",
       "      <td>43</td>\n",
       "      <td>32</td>\n",
       "      <td>25</td>\n",
       "      <td>22</td>\n",
       "    </tr>\n",
       "    <tr>\n",
       "      <th>D</th>\n",
       "      <td>9</td>\n",
       "      <td>36</td>\n",
       "      <td>31</td>\n",
       "      <td>23</td>\n",
       "      <td>17</td>\n",
       "      <td>15</td>\n",
       "    </tr>\n",
       "  </tbody>\n",
       "</table>\n",
       "<p>240 rows × 6 columns</p>\n",
       "</div>"
      ],
      "text/plain": [
       "                  Month  Wet  Mod_Wet  Normal  Mod_Dry  Dry\n",
       "Section Category                                           \n",
       "A       A            10   75       70      60       47   38\n",
       "        A            11   73       69      58       45   37\n",
       "        A            12   77       72      62       48   40\n",
       "        A             1   83       77      66       52   46\n",
       "        A             2   90       81      69       56   51\n",
       "...                 ...  ...      ...     ...      ...  ...\n",
       "FG      D             5   76       76      66       49   42\n",
       "        D             6   70       57      46       39   31\n",
       "        D             7   64       53      41       31   27\n",
       "        D             8   51       43      32       25   22\n",
       "        D             9   36       31      23       17   15\n",
       "\n",
       "[240 rows x 6 columns]"
      ]
     },
     "execution_count": 62,
     "metadata": {},
     "output_type": "execute_result"
    }
   ],
   "source": [
    "ewr_flow_sets=pd.read_csv(input_data + \"ewr_flow_sets.csv\")\n",
    "ewr_flow_sets=ewr_flow_sets.set_index(['Section','Category'])\n",
    "ewr_flow_sets"
   ]
  },
  {
   "cell_type": "markdown",
   "metadata": {},
   "source": [
    "## EWR Flow Sets\n",
    "Select the EWR Flow Set for each channel section according to the Category Set chosen above (eg *Recommendation 1*)"
   ]
  },
  {
   "cell_type": "code",
   "execution_count": 63,
   "metadata": {},
   "outputs": [
    {
     "data": {
      "text/html": [
       "<div>\n",
       "<style scoped>\n",
       "    .dataframe tbody tr th:only-of-type {\n",
       "        vertical-align: middle;\n",
       "    }\n",
       "\n",
       "    .dataframe tbody tr th {\n",
       "        vertical-align: top;\n",
       "    }\n",
       "\n",
       "    .dataframe thead th {\n",
       "        text-align: right;\n",
       "    }\n",
       "</style>\n",
       "<table border=\"1\" class=\"dataframe\">\n",
       "  <thead>\n",
       "    <tr style=\"text-align: right;\">\n",
       "      <th></th>\n",
       "      <th>Category</th>\n",
       "      <th>Wet</th>\n",
       "      <th>Mod_Wet</th>\n",
       "      <th>Normal</th>\n",
       "      <th>Mod_Dry</th>\n",
       "      <th>Dry</th>\n",
       "    </tr>\n",
       "    <tr>\n",
       "      <th>Month</th>\n",
       "      <th></th>\n",
       "      <th></th>\n",
       "      <th></th>\n",
       "      <th></th>\n",
       "      <th></th>\n",
       "      <th></th>\n",
       "    </tr>\n",
       "  </thead>\n",
       "  <tbody>\n",
       "    <tr>\n",
       "      <th>10</th>\n",
       "      <td>B</td>\n",
       "      <td>44</td>\n",
       "      <td>41</td>\n",
       "      <td>37</td>\n",
       "      <td>31</td>\n",
       "      <td>24</td>\n",
       "    </tr>\n",
       "    <tr>\n",
       "      <th>11</th>\n",
       "      <td>B</td>\n",
       "      <td>42</td>\n",
       "      <td>40</td>\n",
       "      <td>36</td>\n",
       "      <td>29</td>\n",
       "      <td>23</td>\n",
       "    </tr>\n",
       "    <tr>\n",
       "      <th>12</th>\n",
       "      <td>B</td>\n",
       "      <td>44</td>\n",
       "      <td>42</td>\n",
       "      <td>38</td>\n",
       "      <td>31</td>\n",
       "      <td>26</td>\n",
       "    </tr>\n",
       "    <tr>\n",
       "      <th>1</th>\n",
       "      <td>B</td>\n",
       "      <td>49</td>\n",
       "      <td>46</td>\n",
       "      <td>41</td>\n",
       "      <td>34</td>\n",
       "      <td>29</td>\n",
       "    </tr>\n",
       "    <tr>\n",
       "      <th>2</th>\n",
       "      <td>B</td>\n",
       "      <td>55</td>\n",
       "      <td>49</td>\n",
       "      <td>43</td>\n",
       "      <td>36</td>\n",
       "      <td>31</td>\n",
       "    </tr>\n",
       "    <tr>\n",
       "      <th>3</th>\n",
       "      <td>B</td>\n",
       "      <td>68</td>\n",
       "      <td>59</td>\n",
       "      <td>49</td>\n",
       "      <td>41</td>\n",
       "      <td>36</td>\n",
       "    </tr>\n",
       "    <tr>\n",
       "      <th>4</th>\n",
       "      <td>B</td>\n",
       "      <td>84</td>\n",
       "      <td>70</td>\n",
       "      <td>54</td>\n",
       "      <td>45</td>\n",
       "      <td>40</td>\n",
       "    </tr>\n",
       "    <tr>\n",
       "      <th>5</th>\n",
       "      <td>B</td>\n",
       "      <td>71</td>\n",
       "      <td>65</td>\n",
       "      <td>55</td>\n",
       "      <td>47</td>\n",
       "      <td>42</td>\n",
       "    </tr>\n",
       "    <tr>\n",
       "      <th>6</th>\n",
       "      <td>B</td>\n",
       "      <td>67</td>\n",
       "      <td>62</td>\n",
       "      <td>53</td>\n",
       "      <td>45</td>\n",
       "      <td>39</td>\n",
       "    </tr>\n",
       "    <tr>\n",
       "      <th>7</th>\n",
       "      <td>B</td>\n",
       "      <td>63</td>\n",
       "      <td>58</td>\n",
       "      <td>50</td>\n",
       "      <td>42</td>\n",
       "      <td>37</td>\n",
       "    </tr>\n",
       "    <tr>\n",
       "      <th>8</th>\n",
       "      <td>B</td>\n",
       "      <td>58</td>\n",
       "      <td>54</td>\n",
       "      <td>47</td>\n",
       "      <td>39</td>\n",
       "      <td>34</td>\n",
       "    </tr>\n",
       "    <tr>\n",
       "      <th>9</th>\n",
       "      <td>B</td>\n",
       "      <td>48</td>\n",
       "      <td>46</td>\n",
       "      <td>40</td>\n",
       "      <td>34</td>\n",
       "      <td>30</td>\n",
       "    </tr>\n",
       "  </tbody>\n",
       "</table>\n",
       "</div>"
      ],
      "text/plain": [
       "      Category  Wet  Mod_Wet  Normal  Mod_Dry  Dry\n",
       "Month                                             \n",
       "10           B   44       41      37       31   24\n",
       "11           B   42       40      36       29   23\n",
       "12           B   44       42      38       31   26\n",
       "1            B   49       46      41       34   29\n",
       "2            B   55       49      43       36   31\n",
       "3            B   68       59      49       41   36\n",
       "4            B   84       70      54       45   40\n",
       "5            B   71       65      55       47   42\n",
       "6            B   67       62      53       45   39\n",
       "7            B   63       58      50       42   37\n",
       "8            B   58       54      47       39   34\n",
       "9            B   48       46      40       34   30"
      ]
     },
     "execution_count": 63,
     "metadata": {},
     "output_type": "execute_result"
    }
   ],
   "source": [
    "ewrs=category_set.join(ewr_flow_sets,on=['Section','Category']).set_index(['Section','Month'])\n",
    "ewrs_A=ewrs.loc['A']\n",
    "ewrs_C=ewrs.loc['C']\n",
    "ewrs_D=ewrs.loc['D']\n",
    "ewrs_E=ewrs.loc['E']\n",
    "ewrs_FG=ewrs.loc['FG']\n",
    "\n",
    "ewrs_A\n"
   ]
  },
  {
   "cell_type": "markdown",
   "metadata": {},
   "source": [
    "## EWR Flow Bands\n",
    "Annotate the daily flow series with the EWR Flow Band (Wet, Very Wet, Dry etc) - a lookup against the EWR Exceedance"
   ]
  },
  {
   "cell_type": "code",
   "execution_count": 64,
   "metadata": {},
   "outputs": [],
   "source": [
    "def flowBandNo(exceed):\n",
    "    if exceed <= 0.1:\n",
    "        return 1\n",
    "    elif  exceed <= 0.4:\n",
    "        return 2\n",
    "    elif  exceed <= 0.7:\n",
    "        return 3\n",
    "    elif  exceed <= 0.9:\n",
    "        return 4\n",
    "    else:\n",
    "        return 5\n",
    "    \n",
    "def flowBandLabel(bandNo):\n",
    "    if bandNo == 1:\n",
    "        return 'Wet'\n",
    "    elif  bandNo == 2:\n",
    "        return 'Mod_Wet'\n",
    "    elif  bandNo == 3:\n",
    "        return 'Normal'\n",
    "    elif  bandNo ==4:\n",
    "        return 'Mod_Dry'\n",
    "    else:\n",
    "        return 'Dry'    \n",
    "    \n",
    "def ewrLookup(section, band, month):\n",
    "    return ewrs.loc[(section,month)][band]"
   ]
  },
  {
   "cell_type": "code",
   "execution_count": 65,
   "metadata": {},
   "outputs": [],
   "source": [
    "\n",
    "daily['EWRBandNo']=daily.apply(lambda x: flowBandNo(x['EWRRefExceedance']),axis=1) \n",
    "daily['EWRBandLabel']=daily.apply(lambda x: flowBandLabel(x['EWRBandNo']),axis=1) "
   ]
  },
  {
   "cell_type": "markdown",
   "metadata": {},
   "source": [
    "## EWR Flows"
   ]
  },
  {
   "cell_type": "code",
   "execution_count": 66,
   "metadata": {},
   "outputs": [],
   "source": [
    "\n",
    "daily['EWRChannelA']=ewrs_A.lookup(daily['Month'],daily['EWRBandLabel'])\n",
    "daily['EWRChannelC']=ewrs_C.lookup(daily['Month'],daily['EWRBandLabel'])\n",
    "daily['EWRChannelD']=ewrs_D.lookup(daily['Month'],daily['EWRBandLabel'])\n",
    "daily['EWRChannelE']=ewrs_E.lookup(daily['Month'],daily['EWRBandLabel'])\n",
    "daily['EWRChannelFG']=ewrs_FG.lookup(daily['Month'],daily['EWRBandLabel'])\n"
   ]
  },
  {
   "cell_type": "code",
   "execution_count": 67,
   "metadata": {},
   "outputs": [],
   "source": [
    "daily['EWRTotal']=daily['EWRChannelA']+daily['EWRChannelC']+daily['EWRChannelD']+daily['EWRChannelE']+daily['EWRChannelFG']\n",
    "daily['EWRProportion']=daily['EWRTotal']/daily['Flow']"
   ]
  },
  {
   "cell_type": "markdown",
   "metadata": {},
   "source": [
    "## Spill and channel flows"
   ]
  },
  {
   "cell_type": "code",
   "execution_count": 68,
   "metadata": {},
   "outputs": [],
   "source": [
    "daily['FlowCanal']=np.where(daily['Flow']-daily['EWRTotal']>canal_capacity,canal_capacity,daily['Flow']-daily['EWRTotal'])\n",
    "daily['FlowSpill']=np.where(daily['Flow']-daily['EWRTotal']<=canal_capacity,0,daily['Flow']-daily['EWRTotal']-canal_capacity)\n",
    "\n",
    "daily['SpillChannelA']=daily['FlowSpill']*(daily['EWRChannelA']/daily['EWRTotal'])\n",
    "daily['SpillChannelC']=daily['FlowSpill']*(daily['EWRChannelC']/daily['EWRTotal'])\n",
    "daily['SpillChannelD']=daily['FlowSpill']*(daily['EWRChannelD']/daily['EWRTotal'])\n",
    "daily['SpillChannelE']=daily['FlowSpill']*(daily['EWRChannelE']/daily['EWRTotal'])\n",
    "daily['SpillChannelFG']=daily['FlowSpill']*(daily['EWRChannelFG']/daily['EWRTotal'])\n",
    "\n",
    "daily['FlowChannelA']=daily['SpillChannelA']+daily['EWRChannelA']\n",
    "daily['FlowChannelC']=daily['SpillChannelC']+daily['EWRChannelC']\n",
    "daily['FlowChannelD']=daily['SpillChannelD']+daily['EWRChannelD']\n",
    "daily['FlowChannelE']=daily['SpillChannelE']+daily['EWRChannelE']\n",
    "\n",
    "daily['TmpA']=np.where(daily['FlowChannelA']>100,daily['FlowChannelA']-100,0)\n",
    "daily['SpillChannelA']=daily['SpillChannelA']-daily['TmpA']\n",
    "daily['FlowChannelA']=daily['FlowChannelA']-daily['TmpA']\n",
    "daily['SpillChannelFG']=daily['SpillChannelFG']+daily['TmpA']\n",
    "\n",
    "daily['TmpC']=np.where(daily['FlowChannelC']>18,daily['FlowChannelC']-18,0)\n",
    "daily['SpillChannelC']=daily['SpillChannelC']-daily['TmpC']\n",
    "daily['FlowChannelC']=daily['FlowChannelC']-daily['TmpC']\n",
    "daily['SpillChannelFG']=daily['SpillChannelFG']+daily['TmpC']\n",
    "\n",
    "daily['TmpD']=np.where(daily['FlowChannelD']>25,daily['FlowChannelD']-25,0)\n",
    "daily['SpillChannelD']=daily['SpillChannelD']-daily['TmpD']\n",
    "daily['FlowChannelD']=daily['FlowChannelD']-daily['TmpD']\n",
    "daily['SpillChannelFG']=daily['SpillChannelFG']+daily['TmpD']\n",
    "\n",
    "daily['TmpE']=np.where(daily['FlowChannelE']>80,daily['FlowChannelE']-80,0)\n",
    "daily['SpillChannelE']=daily['SpillChannelE']-daily['TmpE']\n",
    "daily['FlowChannelE']=daily['FlowChannelE']-daily['TmpE']\n",
    "daily['SpillChannelFG']=daily['SpillChannelFG']+daily['TmpE']\n",
    "\n",
    "daily['FlowChannelFG']=daily['SpillChannelFG']+daily['EWRChannelFG']\n",
    "daily=daily.drop(['TmpA','TmpC','TmpD','TmpE'],axis=1)\n",
    "\n",
    "daily['FlowLeftChannel']=daily['FlowChannelA']+daily['FlowChannelC']+daily['FlowChannelD']+daily['FlowCanal']\n"
   ]
  },
  {
   "cell_type": "code",
   "execution_count": 69,
   "metadata": {},
   "outputs": [],
   "source": [
    "\n",
    "daily['Turbines']=daily.apply(lambda x: math.ceil(x['FlowCanal'] / (canal_capacity/4)),axis=1)\n",
    "daily.loc[daily['FlowCanal']<=plant_capacity/180*50,'Turbines']=0"
   ]
  },
  {
   "cell_type": "code",
   "execution_count": 70,
   "metadata": {},
   "outputs": [],
   "source": [
    "daily['FlowTurbine1']=np.where(daily['Turbines']>=1,daily['FlowCanal']/daily['Turbines'],np.nan)\n",
    "daily['FlowTurbine2']=np.where(daily['Turbines']>=2,daily['FlowCanal']/daily['Turbines'],np.nan)\n",
    "daily['FlowTurbine3']=np.where(daily['Turbines']>=3,daily['FlowCanal']/daily['Turbines'],np.nan)\n",
    "daily['FlowTurbine4']=np.where(daily['Turbines']==4,daily['FlowCanal']/daily['Turbines'],np.nan)"
   ]
  },
  {
   "cell_type": "markdown",
   "metadata": {},
   "source": [
    "## Levels, headloss and head\n",
    "\\begin{equation*}\n",
    "Headloss Powerhouse=0.00000702Q^2 + 0.00002226Q - 0.00207422\n",
    "\\end{equation*}"
   ]
  },
  {
   "cell_type": "markdown",
   "metadata": {},
   "source": [
    "\\begin{equation*}\n",
    "Tailwater Level=6.0977*log(Q)^2-27.598*log(Q)+995.82\n",
    "\\end{equation*}\n",
    "\n",
    "\\begin{equation}\n",
    "  Headpond Level=\\begin{cases}\n",
    "    990.0, & \\text{if $Q<5000$}.\\\\\n",
    "    0.000081307*Q+989.6, & \\text{if $Q<7500$}.\\\\\n",
    "    0.000240*Q+988.4, & \\text{otherwise}.\n",
    "  \\end{cases}\n",
    "\\end{equation}\n"
   ]
  },
  {
   "cell_type": "code",
   "execution_count": 71,
   "metadata": {},
   "outputs": [],
   "source": [
    "def headpondLevel(flow):\n",
    "    if flow<5000:\n",
    "        return 990.0 + headpond_lift\n",
    "    elif flow<7500:\n",
    "        return 0.000081307*flow+989.6 + headpond_lift\n",
    "    else:\n",
    "        return 0.000240*flow+988.4 + headpond_lift"
   ]
  },
  {
   "cell_type": "code",
   "execution_count": 72,
   "metadata": {},
   "outputs": [],
   "source": [
    "def tailwaterLevel(flow):\n",
    "    if fixed_tailwater_level>0:\n",
    "        return fixed_tailwater_level\n",
    "    else:\n",
    "        log_flow=math.log10(flow)\n",
    "        if log_flow>=3.8:\n",
    "            return -21.429*log_flow**2+182.03*log_flow+597.15   \n",
    "        elif log_flow>=2.3:\n",
    "            return 6.5299*log_flow**2-30.155*log_flow+999.52   \n",
    "        else:\n",
    "            return -2.6828*log_flow**2+11.265*log_flow+952.68"
   ]
  },
  {
   "cell_type": "code",
   "execution_count": 73,
   "metadata": {},
   "outputs": [],
   "source": [
    "daily['LevelTailwater']=daily['Flow'].apply(tailwaterLevel)\n",
    "daily['LevelHeadpond']=daily['Flow'].apply(headpondLevel)"
   ]
  },
  {
   "cell_type": "code",
   "execution_count": 74,
   "metadata": {},
   "outputs": [],
   "source": [
    "headloss_leftchannel=pd.read_csv(input_data + \"headloss_leftchannel.csv\")\n",
    "fHeadlossLeftChannel = interpolate.interp1d(headloss_leftchannel['FlowLeftChannel'], headloss_leftchannel['HeadlossLeftChannel'])\n",
    "daily['HeadlossLeftChannel']=daily['FlowLeftChannel'].apply(fHeadlossLeftChannel)\n"
   ]
  },
  {
   "cell_type": "code",
   "execution_count": 75,
   "metadata": {},
   "outputs": [],
   "source": [
    "headloss_canal=pd.read_csv(input_data + \"headloss_canal.csv\")\n",
    "fHeadlossCanal = interpolate.interp1d(headloss_canal['FlowCanal'], headloss_canal['HeadlossCanal'])\n",
    "\n",
    "daily['HeadlossCanal']=daily['FlowCanal'].apply(fHeadlossCanal)\n",
    "daily['LevelForebay']=daily['LevelHeadpond']-daily['HeadlossLeftChannel']-daily['HeadlossCanal']"
   ]
  },
  {
   "cell_type": "code",
   "execution_count": 76,
   "metadata": {},
   "outputs": [],
   "source": [
    "def turbineHeadloss(flow):\n",
    "    if np.isnan(flow):\n",
    "        return np.nan\n",
    "    elif flow==0:\n",
    "        return 0\n",
    "    else:\n",
    "        return 0.00000702*flow**2+0.00002226*flow-0.00207422"
   ]
  },
  {
   "cell_type": "code",
   "execution_count": 77,
   "metadata": {},
   "outputs": [],
   "source": [
    "daily['HeadlossTurbine1']=daily['FlowTurbine1'].apply(turbineHeadloss)\n",
    "daily['HeadlossTurbine2']=daily['FlowTurbine2'].apply(turbineHeadloss)\n",
    "daily['HeadlossTurbine3']=daily['FlowTurbine3'].apply(turbineHeadloss)\n",
    "daily['HeadlossTurbine4']=daily['FlowTurbine4'].apply(turbineHeadloss)"
   ]
  },
  {
   "cell_type": "code",
   "execution_count": 78,
   "metadata": {},
   "outputs": [],
   "source": [
    "daily['HeadTurbine1']=np.where(daily['FlowTurbine1']>0,daily['LevelForebay']-daily['LevelTailwater']-daily['HeadlossTurbine1'],np.nan)\n",
    "daily['HeadTurbine2']=np.where(daily['FlowTurbine2']>0,daily['LevelForebay']-daily['LevelTailwater']-daily['HeadlossTurbine2'],np.nan)\n",
    "daily['HeadTurbine3']=np.where(daily['FlowTurbine3']>0,daily['LevelForebay']-daily['LevelTailwater']-daily['HeadlossTurbine3'],np.nan)\n",
    "daily['HeadTurbine4']=np.where(daily['FlowTurbine4']>0,daily['LevelForebay']-daily['LevelTailwater']-daily['HeadlossTurbine4'],np.nan)\n",
    "daily.loc[daily['HeadTurbine1']<=10,'Turbines']=0"
   ]
  },
  {
   "cell_type": "markdown",
   "metadata": {},
   "source": [
    "## Turbine and generator efficiency"
   ]
  },
  {
   "cell_type": "code",
   "execution_count": 79,
   "metadata": {},
   "outputs": [],
   "source": [
    "def turbineEfficiency(q_actual,h):\n",
    "    \n",
    "    #Scale flow to installed capacity\n",
    "    q=q_actual*(180/plant_capacity)\n",
    "    \n",
    "    if np.isnan(h) or np.isnan(q):\n",
    "        return np.nan\n",
    "    \n",
    "    if h<=10:\n",
    "        return 0\n",
    "    \n",
    "    if q==0:\n",
    "        return 0\n",
    "    elif q<53.5:\n",
    "        return 0.77\n",
    "    elif q<55:\n",
    "        return 0.78\n",
    "    elif q<58.5:\n",
    "        return 0.79\n",
    "    elif q<62:\n",
    "        return 0.80\n",
    "    elif q<64:\n",
    "        return 0.81\n",
    "    elif q<66.5:\n",
    "        return 0.82\n",
    "    elif q<70:\n",
    "        return 0.83\n",
    "    elif q<72:\n",
    "        return 0.84\n",
    "    elif q<74.5:\n",
    "        return 0.85\n",
    "    elif q<82.5:\n",
    "        return 0.86\n",
    "    elif q<91.5:\n",
    "        return 0.87\n",
    "    elif q<100.5:\n",
    "        return 0.88\n",
    "    elif q<109.72:\n",
    "        return 0.89\n",
    "    elif q<121.77:\n",
    "        return 0.90\n",
    "    elif q<146.8:\n",
    "        return 0.91\n",
    "    elif q<169.545:\n",
    "        return 0.92\n",
    "    elif q<173.1:\n",
    "        if h<24.65:\n",
    "            return 0.92\n",
    "        else:\n",
    "            return 0.93\n",
    "    elif q<199.8:\n",
    "        return 0.93\n",
    "    elif q<211.2:\n",
    "        if h<23:\n",
    "            return 0.93\n",
    "        else:\n",
    "            return 0.94\n",
    "    elif q<247.05:\n",
    "        return 0.94\n",
    "    elif q<250:\n",
    "        if h<24.16:\n",
    "            return 0.94\n",
    "        else:\n",
    "            return 0.95\n",
    "    elif q<260:\n",
    "        if h<23.6:\n",
    "            return 0.94\n",
    "        else:\n",
    "            return 0.95\n",
    "    elif q<275:\n",
    "        if h<22.5:\n",
    "            return 0.94\n",
    "        else:\n",
    "            return 0.95\n",
    "    else:\n",
    "        return -0.0015*h**2 + 0.0565*h + 0.4"
   ]
  },
  {
   "cell_type": "code",
   "execution_count": 80,
   "metadata": {},
   "outputs": [],
   "source": [
    "daily['EffTurbine1']=daily.apply(lambda x: turbineEfficiency(x['FlowTurbine1'],x['HeadTurbine1']),axis=1)\n",
    "daily['EffTurbine2']=daily.apply(lambda x: turbineEfficiency(x['FlowTurbine2'],x['HeadTurbine2']),axis=1)\n",
    "daily['EffTurbine3']=daily.apply(lambda x: turbineEfficiency(x['FlowTurbine3'],x['HeadTurbine3']),axis=1)\n",
    "daily['EffTurbine4']=daily.apply(lambda x: turbineEfficiency(x['FlowTurbine4'],x['HeadTurbine4']),axis=1)"
   ]
  },
  {
   "cell_type": "code",
   "execution_count": 81,
   "metadata": {},
   "outputs": [],
   "source": [
    "daily['LoadFactorTurbine1']=daily['FlowTurbine1']/250*(plant_capacity/180)\n",
    "daily['LoadFactorTurbine2']=daily['FlowTurbine2']/250*(plant_capacity/180)\n",
    "daily['LoadFactorTurbine3']=daily['FlowTurbine3']/250*(plant_capacity/180)\n",
    "daily['LoadFactorTurbine4']=daily['FlowTurbine4']/250*(plant_capacity/180)"
   ]
  },
  {
   "cell_type": "code",
   "execution_count": null,
   "metadata": {},
   "outputs": [],
   "source": []
  },
  {
   "cell_type": "code",
   "execution_count": 82,
   "metadata": {},
   "outputs": [],
   "source": [
    "def generatorEff(load_fact):\n",
    "    if np.isnan(load_fact):\n",
    "        return np.nan\n",
    "    \n",
    "    if load_fact==0:\n",
    "        return 0\n",
    "    elif load_fact<=0.45:\n",
    "        return 0.96\n",
    "    elif load_fact<=0.85:\n",
    "        return 0.97\n",
    "    else:\n",
    "        return 0.98"
   ]
  },
  {
   "cell_type": "code",
   "execution_count": 83,
   "metadata": {},
   "outputs": [],
   "source": [
    "daily['EffGen1']=daily['LoadFactorTurbine1'].apply(generatorEff)\n",
    "daily['EffGen2']=daily['LoadFactorTurbine2'].apply(generatorEff)\n",
    "daily['EffGen3']=daily['LoadFactorTurbine3'].apply(generatorEff)\n",
    "daily['EffGen4']=daily['LoadFactorTurbine4'].apply(generatorEff)"
   ]
  },
  {
   "cell_type": "markdown",
   "metadata": {},
   "source": [
    "## Power and energy"
   ]
  },
  {
   "cell_type": "code",
   "execution_count": 84,
   "metadata": {},
   "outputs": [],
   "source": [
    "daily['PowerTurbine1']=daily['FlowTurbine1']*daily['HeadTurbine1']*daily['EffTurbine1']*daily['EffGen1']*9.81/1000\n",
    "daily['PowerTurbine2']=daily['FlowTurbine2']*daily['HeadTurbine2']*daily['EffTurbine2']*daily['EffGen2']*9.81/1000\n",
    "daily['PowerTurbine3']=daily['FlowTurbine3']*daily['HeadTurbine3']*daily['EffTurbine3']*daily['EffGen3']*9.81/1000\n",
    "daily['PowerTurbine4']=daily['FlowTurbine4']*daily['HeadTurbine4']*daily['EffTurbine4']*daily['EffGen4']*9.81/1000\n",
    "daily['Power']=np.nan_to_num(daily['PowerTurbine1'])+np.nan_to_num(daily['PowerTurbine2'])+np.nan_to_num(daily['PowerTurbine3'])+np.nan_to_num(daily['PowerTurbine4'])\n",
    "daily['Energy']=daily['Power']*24\n",
    "daily['PerfMwPerCumec']=daily['Power']/daily['Flow']"
   ]
  },
  {
   "cell_type": "code",
   "execution_count": 85,
   "metadata": {},
   "outputs": [],
   "source": [
    "if dryrun==False:\n",
    "    daily.to_csv(output_data+out_prefix+'_pe_daily.csv')"
   ]
  }
 ],
 "metadata": {
  "kernelspec": {
   "display_name": "Python 3",
   "language": "python",
   "name": "python3"
  },
  "language_info": {
   "codemirror_mode": {
    "name": "ipython",
    "version": 3
   },
   "file_extension": ".py",
   "mimetype": "text/x-python",
   "name": "python",
   "nbconvert_exporter": "python",
   "pygments_lexer": "ipython3",
   "version": "3.8.1"
  }
 },
 "nbformat": 4,
 "nbformat_minor": 4
}
