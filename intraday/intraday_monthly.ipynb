{
 "cells": [
  {
   "cell_type": "markdown",
   "metadata": {},
   "source": [
    "# Analysis of intraday storage\n",
    "\n",
    "Using the base case hydrology and P&E modelling, determine the maximum volume of water that can be held back during two offpeak periods and then released during morning and evening peak hour periods. \n",
    "\n",
    "Calculate the energy transferred from the storage (off-peak) to peak periods.\n",
    "\n",
    "Calculate the rise in the headpond and tailrace during each storage period (and therefore fall during each peak period). "
   ]
  },
  {
   "cell_type": "markdown",
   "metadata": {},
   "source": [
    "### Setup"
   ]
  },
  {
   "cell_type": "code",
   "execution_count": 233,
   "metadata": {
    "tags": []
   },
   "outputs": [],
   "source": [
    "import numpy as np\n",
    "import pandas as pd\n",
    "import datetime\n",
    "import math"
   ]
  },
  {
   "cell_type": "code",
   "execution_count": 234,
   "metadata": {
    "tags": []
   },
   "outputs": [],
   "source": [
    "def tailwaterLevel(flow):\n",
    "    if fixed_tailwater_level>0:\n",
    "        return fixed_tailwater_level\n",
    "    else:\n",
    "        log_flow=math.log10(flow)\n",
    "        if log_flow>=3.8:\n",
    "            return -21.429*log_flow**2+182.03*log_flow+597.15   \n",
    "        elif log_flow>=2.3:\n",
    "            return 6.5299*log_flow**2-30.155*log_flow+999.52   \n",
    "        else:\n",
    "            return -2.6828*log_flow**2+11.265*log_flow+952.68"
   ]
  },
  {
   "cell_type": "code",
   "execution_count": 413,
   "metadata": {
    "tags": []
   },
   "outputs": [],
   "source": [
    "flow_data='../output_data/ngonye_flow_monthly.csv'\n",
    "energy_data='../output_data/base_pe_monthly.csv'\n",
    "dam_data='dam_calmonthly.csv'\n",
    "\n",
    "canal_capacity=1100\n",
    "rated_flow_unit=250\n",
    "\n",
    "#offpeak_min_flow=rated_flow_unit\n",
    "#offpeak_min_flow=rated_flow_unit * 0.5\n",
    "#offpeak_min_flow=50\n",
    "\n",
    "\n",
    "storage_curve=10 # 10 Mm3/m headpond rise - From Feasibility Study Rev D Appendix H - Mott MacDonald\n",
    "max_power=185 # Max output for whole plant\n",
    "#max_power=205\n",
    "fixed_tailwater_level = 0\n",
    "\n",
    "night_hours = 10 # Night off-peak\n",
    "morning_hours = 3 # Length of morning peak\n",
    "standard_hours = 9 # Time between morning peak and evening peak when storing can occur\n",
    "evening_hours = 2 # Length of evening peak\n",
    "\n",
    "nostore=False"
   ]
  },
  {
   "cell_type": "markdown",
   "metadata": {},
   "source": [
    "### Load data"
   ]
  },
  {
   "cell_type": "code",
   "execution_count": 414,
   "metadata": {
    "tags": []
   },
   "outputs": [
    {
     "data": {
      "text/plain": [
       "Index(['Unnamed: 0', 'day_of_week', 'value_mean', 'price_weight_mean',\n",
       "       'price_max', 'price_min', 'price_mean', 'power_max', 'power_min',\n",
       "       'power_mean', 'price_morning_max', 'price_evening_max',\n",
       "       'price_standard', 'off_price_mean', 'standard_price_mean',\n",
       "       'morning_price_mean', 'evening_price_mean', 'off_hour_mean',\n",
       "       'standard_hour_mean', 'morning_hour_mean', 'evening_hour_mean',\n",
       "       'off_value', 'standard_value', 'morning_value', 'evening_value',\n",
       "       'volume', 'off_volume', 'standard_volume', 'morning_volume',\n",
       "       'evening_volume', 'value'],\n",
       "      dtype='object')"
      ]
     },
     "execution_count": 414,
     "metadata": {},
     "output_type": "execute_result"
    }
   ],
   "source": [
    "dam = pd.read_csv(dam_data).set_index('month')\n",
    "dam.columns"
   ]
  },
  {
   "cell_type": "code",
   "execution_count": 415,
   "metadata": {
    "tags": []
   },
   "outputs": [
    {
     "data": {
      "text/plain": [
       "Index(['Flow', 'Exceedance', 'Year', 'Month', 'WaterYear', 'WaterMonth',\n",
       "       'Flow_difference', 'Flow_difference_pct', 'EWRChannelA', 'EWRChannelC',\n",
       "       'EWRChannelD', 'EWRChannelE', 'EWRChannelFG', 'EWRTotal',\n",
       "       'EWRProportion', 'FlowAvailableForGeneration', 'FlowCanal',\n",
       "       'LowFlowShutoff', 'Turbines', 'FlowTurbine1', 'FlowTurbine2',\n",
       "       'FlowTurbine3', 'FlowTurbine4', 'FlowSpill', 'SpillChannelA',\n",
       "       'SpillChannelC', 'SpillChannelD', 'SpillChannelE', 'SpillChannelFG',\n",
       "       'FlowChannelA', 'FlowChannelC', 'FlowChannelD', 'FlowChannelE',\n",
       "       'FlowChannelFG', 'FlowLeftChannel', 'LevelTailwater', 'LevelHeadpond',\n",
       "       'HeadlossLeftChannel', 'HeadlossCanal', 'LevelForebay',\n",
       "       'HeadlossTurbine1', 'HeadlossTurbine2', 'HeadlossTurbine3',\n",
       "       'HeadlossTurbine4', 'HeadTurbine1', 'HeadTurbine2', 'HeadTurbine3',\n",
       "       'HeadTurbine4', 'LowHeadShutoff', 'LoadFactorTurbine1',\n",
       "       'LoadFactorTurbine2', 'LoadFactorTurbine3', 'LoadFactorTurbine4',\n",
       "       'EffTurbine1', 'EffTurbine2', 'EffTurbine3', 'EffTurbine4', 'EffGen1',\n",
       "       'EffGen2', 'EffGen3', 'EffGen4', 'PowerTurbine1', 'PowerTurbine2',\n",
       "       'PowerTurbine3', 'PowerTurbine4', 'Power', 'PerfMwPerCumec',\n",
       "       'PotentialPower1u', 'PotentialPower2u', 'PotentialPower3u',\n",
       "       'PotentialPower4u', 'ExceedanceRnd', 'Power_max', 'Power_min',\n",
       "       'Turbines_max', 'Turbines_min', 'Energy',\n",
       "       'FlowAvailableForGeneration_min', 'Days', 'CapFactor'],\n",
       "      dtype='object')"
      ]
     },
     "execution_count": 415,
     "metadata": {},
     "output_type": "execute_result"
    }
   ],
   "source": [
    "pe = pd.read_csv(energy_data).set_index('MonthId')\n",
    "pe.columns"
   ]
  },
  {
   "cell_type": "code",
   "execution_count": 416,
   "metadata": {},
   "outputs": [],
   "source": [
    "effective_efficiency = 0.9211999999999999"
   ]
  },
  {
   "cell_type": "code",
   "execution_count": 417,
   "metadata": {},
   "outputs": [
    {
     "data": {
      "text/plain": [
       "Index(['Year', 'Month', 'WaterYear', 'WaterMonth', 'Days', 'LowHeadShutoff',\n",
       "       'Flow', 'EWRTotal', 'FlowSpill', 'FlowAvailableForGeneration',\n",
       "       'FlowCanal', 'Power', 'Energy', 'LevelHeadpond', 'LevelTailwater',\n",
       "       'HeadTurbine1'],\n",
       "      dtype='object')"
      ]
     },
     "execution_count": 417,
     "metadata": {},
     "output_type": "execute_result"
    }
   ],
   "source": [
    "tmp=pe[['Year','Month','WaterYear','WaterMonth','Days','LowHeadShutoff','Flow','EWRTotal','FlowSpill','FlowAvailableForGeneration','FlowCanal','Power','Energy','LevelHeadpond','LevelTailwater', 'HeadTurbine1']].copy()\n",
    "\n",
    "tmp['LowHeadShutoff'] = tmp['LowHeadShutoff'].fillna(0)\n",
    "work=tmp\n",
    "work.columns"
   ]
  },
  {
   "cell_type": "markdown",
   "metadata": {},
   "source": [
    "### Peak Periods Requirements for maximum output"
   ]
  },
  {
   "cell_type": "code",
   "execution_count": 418,
   "metadata": {},
   "outputs": [],
   "source": [
    "#Total generation volume Mm3\n",
    "work['GenerationVol'] = work['FlowCanal'] * (24 * 60 * 60) / 1e+06\n",
    "\n",
    "#Rough calculation of the maximum flow during peak time - flow that produced maximum output at current head and high efficiency\n",
    "work['MaxGenerationFlow'] = max_power / work['HeadTurbine1'] / 9.81 / effective_efficiency * 1000\n",
    "#Limit maximum flow to canal capacity\n",
    "work['MaxGenerationFlow'] = np.minimum(work['MaxGenerationFlow'],canal_capacity)\n",
    "\n",
    "#Maximum flow that could be used by the peaks from storage m3/s\n",
    "work['MaxFlowFromStore'] = work['MaxGenerationFlow'] - work['FlowCanal']\n",
    "\n",
    "#Max volume that could be used by the peaks Mm3\n",
    "work['MorningMaxVolFromStore'] = work['MaxFlowFromStore'] * (morning_hours * 60 * 60) / 1e+06\n",
    "work['EveningMaxVolFromStore'] = work['MaxFlowFromStore'] * (evening_hours * 60 * 60) / 1e+06\n"
   ]
  },
  {
   "cell_type": "markdown",
   "metadata": {
    "tags": []
   },
   "source": [
    "### Max volume which the off-peak (night) and standard (day) periods can store"
   ]
  },
  {
   "cell_type": "code",
   "execution_count": 419,
   "metadata": {},
   "outputs": [],
   "source": [
    "if (nostore):\n",
    "    #Max volume that could be taken from the night period for storage Mm3\n",
    "    work['NightMaxVolToStore'] = 0\n",
    "\n",
    "    #Max volume that could be taken from the standard period for storage Mm3\n",
    "    work['StandardMaxVolToStore'] = 0\n",
    "\n",
    "else:  \n",
    "    #Max volume that could be taken from the night period for storage Mm3\n",
    "    work['NightMaxVolToStore'] = ((work['FlowAvailableForGeneration'] - offpeak_min_flow) * (night_hours * 60 * 60) / 1e+06).clip(lower=0)\n",
    "\n",
    "    #Max volume that could be taken from the standard period for storage Mm3\n",
    "    work['StandardMaxVolToStore'] = ((work['FlowAvailableForGeneration'] - offpeak_min_flow) * (standard_hours * 60 * 60) / 1e+06).clip(lower=0)\n",
    "\n",
    "    "
   ]
  },
  {
   "cell_type": "markdown",
   "metadata": {},
   "source": [
    "### Storage volumes"
   ]
  },
  {
   "cell_type": "code",
   "execution_count": 420,
   "metadata": {},
   "outputs": [],
   "source": [
    "#Volume per night that will be stored (min of available or needed)\n",
    "work['NightStoreVol'] = work[['MorningMaxVolFromStore','NightMaxVolToStore']].min(axis=1)\n",
    "\n",
    "#Not enough head for generation so no point storing\n",
    "work.loc[work['LowHeadShutoff'] == 1.0, 'NightStoreVol'] = 0\n",
    "\n",
    "#Volume per standard period that will be stored (min of available or needed)\n",
    "work['StandardStoreVol'] = work[['EveningMaxVolFromStore','StandardMaxVolToStore']].min(axis=1)\n",
    "\n",
    "#Not enough head for generation so no point storing\n",
    "work.loc[work['LowHeadShutoff'] == 1.0, 'NightStoreVol'] = 0\n"
   ]
  },
  {
   "cell_type": "markdown",
   "metadata": {},
   "source": [
    "### Flows"
   ]
  },
  {
   "cell_type": "code",
   "execution_count": 421,
   "metadata": {},
   "outputs": [],
   "source": [
    "#Night\n",
    "work['NightExtraFlow']=(work['NightStoreVol'] / (60 * 60 * night_hours / 1e+06)) # Flow diverted to storage during night\n",
    "work['NightFlowCanal']=work['FlowCanal'] - work['NightExtraFlow'] #Resulting canal flow during off-peak\n",
    "\n",
    "#Morning\n",
    "work['MorningExtraFlow']=(work['NightStoreVol'] / (60 * 60 * morning_hours / 1e+06)) # Extra flow from storage during morning peak \n",
    "work['MorningFlowCanal']=work['FlowCanal'] + work['MorningExtraFlow'] #Resulting canal flow during morning peak\n",
    "\n",
    "#Standard\n",
    "work['StandardExtraFlow']=(work['StandardStoreVol'] / (60 * 60 * standard_hours / 1e+06)) # Flow diverted to storage during standard period\n",
    "work['StandardFlowCanal']=work['FlowCanal'] - work['StandardExtraFlow'] #Resulting canal flow during standard period\n",
    "\n",
    "#Evening\n",
    "work['EveningExtraFlow']=(work['StandardStoreVol'] / (60 * 60 * evening_hours / 1e+06)) # Extra flow from storage during evening peak \n",
    "work['EveningFlowCanal']=work['FlowCanal'] + work['EveningExtraFlow'] #Resulting canal flow during evening peak"
   ]
  },
  {
   "cell_type": "markdown",
   "metadata": {},
   "source": [
    "### Total flow"
   ]
  },
  {
   "cell_type": "code",
   "execution_count": 422,
   "metadata": {},
   "outputs": [],
   "source": [
    "work['NightTotalFlow']=work['FlowSpill'] + work['EWRTotal'] + work['NightFlowCanal']\n",
    "work['MorningTotalFlow']=work['FlowSpill'] + work['EWRTotal'] + work['MorningFlowCanal']\n",
    "work['StandardTotalFlow']=work['FlowSpill'] + work['EWRTotal'] + work['StandardFlowCanal']\n",
    "work['EveningTotalFlow']=work['FlowSpill'] + work['EWRTotal'] + work['EveningFlowCanal']"
   ]
  },
  {
   "cell_type": "markdown",
   "metadata": {},
   "source": [
    "### Total volumes"
   ]
  },
  {
   "cell_type": "code",
   "execution_count": 423,
   "metadata": {},
   "outputs": [],
   "source": [
    "work['NightVol']=work['NightFlowCanal'] * night_hours * 60 * 60 / 1e+06\n",
    "work['MorningVol']=work['MorningFlowCanal'] * morning_hours * 60 * 60 / 1e+06\n",
    "work['StandardVol']=work['StandardFlowCanal'] * standard_hours * 60 * 60 / 1e+06\n",
    "work['EveningVol']=work['EveningFlowCanal'] * evening_hours * 60 * 60 / 1e+06"
   ]
  },
  {
   "cell_type": "markdown",
   "metadata": {},
   "source": [
    "### Energy"
   ]
  },
  {
   "cell_type": "code",
   "execution_count": 424,
   "metadata": {},
   "outputs": [],
   "source": [
    "work['NightEnergy'] = work['Energy'] / work['GenerationVol'] * work['NightVol']\n",
    "work['MorningEnergy'] = work['Energy'] / work['GenerationVol'] * work['MorningVol']\n",
    "work['StandardEnergy'] = work['Energy'] / work['GenerationVol'] * work['StandardVol']\n",
    "work['EveningEnergy'] = work['Energy'] / work['GenerationVol'] * work['EveningVol']\n",
    "\n",
    "work['MorningEnergyTransfer'] = work['Energy'] / work['GenerationVol'] * work['NightStoreVol']\n",
    "work['EveningEnergyTransfer'] = work['Energy'] / work['GenerationVol'] * work['StandardStoreVol']\n"
   ]
  },
  {
   "cell_type": "markdown",
   "metadata": {},
   "source": [
    "### Power"
   ]
  },
  {
   "cell_type": "code",
   "execution_count": 425,
   "metadata": {},
   "outputs": [],
   "source": [
    "work['NightPower'] = work['NightEnergy'] / night_hours\n",
    "work['MorningPower'] = work['MorningEnergy'] / morning_hours\n",
    "work['StandardPower'] = work['StandardEnergy'] / standard_hours\n",
    "work['EveningPower'] = work['EveningEnergy'] / evening_hours"
   ]
  },
  {
   "cell_type": "markdown",
   "metadata": {},
   "source": [
    "### Headpond levels"
   ]
  },
  {
   "cell_type": "code",
   "execution_count": 426,
   "metadata": {},
   "outputs": [],
   "source": [
    "work['NightHeadpondChange']=work['NightStoreVol'] / storage_curve\n",
    "work['StandardHeadpondChange']=work['StandardStoreVol'] / storage_curve"
   ]
  },
  {
   "cell_type": "markdown",
   "metadata": {},
   "source": [
    "### Tailwater levels"
   ]
  },
  {
   "cell_type": "code",
   "execution_count": 427,
   "metadata": {},
   "outputs": [],
   "source": [
    "work['NightTailwaterLevel']=work['NightTotalFlow'].apply(tailwaterLevel) \n",
    "work['MorningTailwaterLevel']=work['MorningTotalFlow'].apply(tailwaterLevel) \n",
    "work['StandardTailwaterLevel']=work['StandardTotalFlow'].apply(tailwaterLevel) \n",
    "work['EveningTailwaterLevel']=work['EveningTotalFlow'].apply(tailwaterLevel) \n",
    "\n",
    "work['NightTailwaterChange']=work['MorningTailwaterLevel'] - work['NightTailwaterLevel']\n",
    "work['StandardTailwaterChange']=work['EveningTailwaterLevel'] - work['StandardTailwaterLevel']\n",
    "\n"
   ]
  },
  {
   "cell_type": "code",
   "execution_count": 428,
   "metadata": {},
   "outputs": [
    {
     "name": "stdout",
     "output_type": "stream",
     "text": [
      "<class 'pandas.core.frame.DataFrame'>\n",
      "Float64Index: 1116 entries, 1924.1 to 2017.09\n",
      "Data columns (total 61 columns):\n",
      " #   Column                      Non-Null Count  Dtype  \n",
      "---  ------                      --------------  -----  \n",
      " 0   Year                        1116 non-null   float64\n",
      " 1   Month                       1116 non-null   float64\n",
      " 2   WaterYear                   1116 non-null   float64\n",
      " 3   WaterMonth                  1116 non-null   float64\n",
      " 4   Days                        1116 non-null   int64  \n",
      " 5   LowHeadShutoff              1116 non-null   float64\n",
      " 6   Flow                        1116 non-null   float64\n",
      " 7   EWRTotal                    1116 non-null   float64\n",
      " 8   FlowSpill                   1116 non-null   float64\n",
      " 9   FlowAvailableForGeneration  1116 non-null   float64\n",
      " 10  FlowCanal                   1116 non-null   float64\n",
      " 11  Power                       1116 non-null   float64\n",
      " 12  Energy                      1116 non-null   float64\n",
      " 13  LevelHeadpond               1116 non-null   float64\n",
      " 14  LevelTailwater              1116 non-null   float64\n",
      " 15  HeadTurbine1                1116 non-null   float64\n",
      " 16  GenerationVol               1116 non-null   float64\n",
      " 17  MaxGenerationFlow           1116 non-null   float64\n",
      " 18  MaxFlowFromStore            1116 non-null   float64\n",
      " 19  MorningMaxVolFromStore      1116 non-null   float64\n",
      " 20  EveningMaxVolFromStore      1116 non-null   float64\n",
      " 21  NightMaxVolToStore          1116 non-null   float64\n",
      " 22  StandardMaxVolToStore       1116 non-null   float64\n",
      " 23  NightStoreVol               1116 non-null   float64\n",
      " 24  StandardStoreVol            1116 non-null   float64\n",
      " 25  NightExtraFlow              1116 non-null   float64\n",
      " 26  NightFlowCanal              1116 non-null   float64\n",
      " 27  MorningExtraFlow            1116 non-null   float64\n",
      " 28  MorningFlowCanal            1116 non-null   float64\n",
      " 29  StandardExtraFlow           1116 non-null   float64\n",
      " 30  StandardFlowCanal           1116 non-null   float64\n",
      " 31  EveningExtraFlow            1116 non-null   float64\n",
      " 32  EveningFlowCanal            1116 non-null   float64\n",
      " 33  NightTotalFlow              1116 non-null   float64\n",
      " 34  MorningTotalFlow            1116 non-null   float64\n",
      " 35  StandardTotalFlow           1116 non-null   float64\n",
      " 36  EveningTotalFlow            1116 non-null   float64\n",
      " 37  NightVol                    1116 non-null   float64\n",
      " 38  MorningVol                  1116 non-null   float64\n",
      " 39  StandardVol                 1116 non-null   float64\n",
      " 40  EveningVol                  1116 non-null   float64\n",
      " 41  NightEnergy                 1114 non-null   float64\n",
      " 42  MorningEnergy               1114 non-null   float64\n",
      " 43  StandardEnergy              1114 non-null   float64\n",
      " 44  EveningEnergy               1114 non-null   float64\n",
      " 45  MorningEnergyTransfer       1114 non-null   float64\n",
      " 46  EveningEnergyTransfer       1114 non-null   float64\n",
      " 47  NightPower                  1114 non-null   float64\n",
      " 48  MorningPower                1114 non-null   float64\n",
      " 49  StandardPower               1114 non-null   float64\n",
      " 50  EveningPower                1114 non-null   float64\n",
      " 51  NightHeadpondChange         1116 non-null   float64\n",
      " 52  StandardHeadpondChange      1116 non-null   float64\n",
      " 53  NightTailwaterLevel         1116 non-null   float64\n",
      " 54  MorningTailwaterLevel       1116 non-null   float64\n",
      " 55  StandardTailwaterLevel      1116 non-null   float64\n",
      " 56  EveningTailwaterLevel       1116 non-null   float64\n",
      " 57  NightTailwaterChange        1116 non-null   float64\n",
      " 58  StandardTailwaterChange     1116 non-null   float64\n",
      " 59  NightSupplyLimit            1116 non-null   object \n",
      " 60  StandardSupplyLimit         1116 non-null   object \n",
      "dtypes: float64(58), int64(1), object(2)\n",
      "memory usage: 540.6+ KB\n"
     ]
    }
   ],
   "source": [
    "\n",
    "work.loc[work['MorningMaxVolFromStore'] < work['NightMaxVolToStore'],'NightSupplyLimit'] = 'False'\n",
    "work.loc[work['MorningMaxVolFromStore'] > work['NightMaxVolToStore'],'NightSupplyLimit'] = 'True'\n",
    "work.loc[work['EveningMaxVolFromStore'] < work['StandardMaxVolToStore'],'StandardSupplyLimit'] = 'False'\n",
    "work.loc[work['EveningMaxVolFromStore'] > work['StandardMaxVolToStore'],'StandardSupplyLimit'] = 'True'\n",
    "\n",
    "work.info()"
   ]
  },
  {
   "cell_type": "code",
   "execution_count": 429,
   "metadata": {},
   "outputs": [
    {
     "data": {
      "text/html": [
       "<div>\n",
       "<style scoped>\n",
       "    .dataframe tbody tr th:only-of-type {\n",
       "        vertical-align: middle;\n",
       "    }\n",
       "\n",
       "    .dataframe tbody tr th {\n",
       "        vertical-align: top;\n",
       "    }\n",
       "\n",
       "    .dataframe thead th {\n",
       "        text-align: right;\n",
       "    }\n",
       "</style>\n",
       "<table border=\"1\" class=\"dataframe\">\n",
       "  <thead>\n",
       "    <tr style=\"text-align: right;\">\n",
       "      <th></th>\n",
       "      <th>Value</th>\n",
       "      <th>Energy</th>\n",
       "      <th>Price</th>\n",
       "    </tr>\n",
       "    <tr>\n",
       "      <th>MonthId</th>\n",
       "      <th></th>\n",
       "      <th></th>\n",
       "      <th></th>\n",
       "    </tr>\n",
       "  </thead>\n",
       "  <tbody>\n",
       "    <tr>\n",
       "      <th>1924.10</th>\n",
       "      <td>0.402405</td>\n",
       "      <td>6668.218097</td>\n",
       "      <td>60.346717</td>\n",
       "    </tr>\n",
       "    <tr>\n",
       "      <th>1924.11</th>\n",
       "      <td>1.041438</td>\n",
       "      <td>15948.234986</td>\n",
       "      <td>65.301150</td>\n",
       "    </tr>\n",
       "    <tr>\n",
       "      <th>1924.12</th>\n",
       "      <td>2.784171</td>\n",
       "      <td>35452.577303</td>\n",
       "      <td>78.532252</td>\n",
       "    </tr>\n",
       "    <tr>\n",
       "      <th>1925.01</th>\n",
       "      <td>5.567236</td>\n",
       "      <td>87660.499151</td>\n",
       "      <td>63.509055</td>\n",
       "    </tr>\n",
       "    <tr>\n",
       "      <th>1925.02</th>\n",
       "      <td>7.609005</td>\n",
       "      <td>122211.453841</td>\n",
       "      <td>62.260984</td>\n",
       "    </tr>\n",
       "    <tr>\n",
       "      <th>...</th>\n",
       "      <td>...</td>\n",
       "      <td>...</td>\n",
       "      <td>...</td>\n",
       "    </tr>\n",
       "    <tr>\n",
       "      <th>2017.05</th>\n",
       "      <td>7.266267</td>\n",
       "      <td>119278.435042</td>\n",
       "      <td>60.918527</td>\n",
       "    </tr>\n",
       "    <tr>\n",
       "      <th>2017.06</th>\n",
       "      <td>8.847277</td>\n",
       "      <td>112359.569599</td>\n",
       "      <td>78.740748</td>\n",
       "    </tr>\n",
       "    <tr>\n",
       "      <th>2017.07</th>\n",
       "      <td>5.208842</td>\n",
       "      <td>46774.689331</td>\n",
       "      <td>111.360277</td>\n",
       "    </tr>\n",
       "    <tr>\n",
       "      <th>2017.08</th>\n",
       "      <td>3.415022</td>\n",
       "      <td>33234.232059</td>\n",
       "      <td>102.756151</td>\n",
       "    </tr>\n",
       "    <tr>\n",
       "      <th>2017.09</th>\n",
       "      <td>1.474807</td>\n",
       "      <td>20685.967427</td>\n",
       "      <td>71.295050</td>\n",
       "    </tr>\n",
       "  </tbody>\n",
       "</table>\n",
       "<p>1116 rows × 3 columns</p>\n",
       "</div>"
      ],
      "text/plain": [
       "            Value         Energy       Price\n",
       "MonthId                                     \n",
       "1924.10  0.402405    6668.218097   60.346717\n",
       "1924.11  1.041438   15948.234986   65.301150\n",
       "1924.12  2.784171   35452.577303   78.532252\n",
       "1925.01  5.567236   87660.499151   63.509055\n",
       "1925.02  7.609005  122211.453841   62.260984\n",
       "...           ...            ...         ...\n",
       "2017.05  7.266267  119278.435042   60.918527\n",
       "2017.06  8.847277  112359.569599   78.740748\n",
       "2017.07  5.208842   46774.689331  111.360277\n",
       "2017.08  3.415022   33234.232059  102.756151\n",
       "2017.09  1.474807   20685.967427   71.295050\n",
       "\n",
       "[1116 rows x 3 columns]"
      ]
     },
     "execution_count": 429,
     "metadata": {},
     "output_type": "execute_result"
    }
   ],
   "source": [
    "work['NightValue']=work['NightEnergy']*work.join(dam, on='Month')['off_price_mean']/1000000\n",
    "work['MorningValue']=work['MorningEnergy']*work.join(dam, on='Month')['morning_price_mean']/1000000\n",
    "work['StandardValue']=work['StandardEnergy']*work.join(dam, on='Month')['standard_price_mean']/1000000\n",
    "work['EveningValue']=work['EveningEnergy']*work.join(dam, on='Month')['evening_price_mean']/1000000\n",
    "\n",
    "work['Value']=work['NightValue'] + work['MorningValue'] + work['StandardValue'] + work['EveningValue']\n",
    "work['Price']=work['Value']/work['Energy']*1000000\n",
    "\n",
    "work[['Value','Energy','Price']]"
   ]
  },
  {
   "cell_type": "code",
   "execution_count": null,
   "metadata": {},
   "outputs": [],
   "source": []
  },
  {
   "cell_type": "code",
   "execution_count": 430,
   "metadata": {},
   "outputs": [
    {
     "data": {
      "text/html": [
       "<div>\n",
       "<style scoped>\n",
       "    .dataframe tbody tr th:only-of-type {\n",
       "        vertical-align: middle;\n",
       "    }\n",
       "\n",
       "    .dataframe tbody tr th {\n",
       "        vertical-align: top;\n",
       "    }\n",
       "\n",
       "    .dataframe thead th {\n",
       "        text-align: right;\n",
       "    }\n",
       "</style>\n",
       "<table border=\"1\" class=\"dataframe\">\n",
       "  <thead>\n",
       "    <tr style=\"text-align: right;\">\n",
       "      <th></th>\n",
       "      <th>Energy</th>\n",
       "      <th>Value</th>\n",
       "      <th>Price</th>\n",
       "      <th>NightEnergy</th>\n",
       "      <th>MorningEnergy</th>\n",
       "      <th>StandardEnergy</th>\n",
       "      <th>EveningEnergy</th>\n",
       "      <th>NightValue</th>\n",
       "      <th>MorningValue</th>\n",
       "      <th>StandardValue</th>\n",
       "      <th>EveningValue</th>\n",
       "      <th>MorningEnergyTransfer</th>\n",
       "      <th>EveningEnergyTransfer</th>\n",
       "    </tr>\n",
       "    <tr>\n",
       "      <th>Month</th>\n",
       "      <th></th>\n",
       "      <th></th>\n",
       "      <th></th>\n",
       "      <th></th>\n",
       "      <th></th>\n",
       "      <th></th>\n",
       "      <th></th>\n",
       "      <th></th>\n",
       "      <th></th>\n",
       "      <th></th>\n",
       "      <th></th>\n",
       "      <th></th>\n",
       "      <th></th>\n",
       "    </tr>\n",
       "  </thead>\n",
       "  <tbody>\n",
       "    <tr>\n",
       "      <th>1.0</th>\n",
       "      <td>83903.037082</td>\n",
       "      <td>5.376567</td>\n",
       "      <td>64.759688</td>\n",
       "      <td>28508.631826</td>\n",
       "      <td>16938.846594</td>\n",
       "      <td>27142.264641</td>\n",
       "      <td>11313.294022</td>\n",
       "      <td>1.013798</td>\n",
       "      <td>1.298689</td>\n",
       "      <td>1.963105</td>\n",
       "      <td>1.100976</td>\n",
       "      <td>6450.966958</td>\n",
       "      <td>4321.374265</td>\n",
       "    </tr>\n",
       "    <tr>\n",
       "      <th>2.0</th>\n",
       "      <td>98181.956051</td>\n",
       "      <td>6.269525</td>\n",
       "      <td>64.439596</td>\n",
       "      <td>38350.909677</td>\n",
       "      <td>14830.983184</td>\n",
       "      <td>35054.812881</td>\n",
       "      <td>9945.250309</td>\n",
       "      <td>1.363589</td>\n",
       "      <td>1.197828</td>\n",
       "      <td>2.656607</td>\n",
       "      <td>1.051501</td>\n",
       "      <td>2558.238677</td>\n",
       "      <td>1763.420638</td>\n",
       "    </tr>\n",
       "    <tr>\n",
       "      <th>3.0</th>\n",
       "      <td>103752.601623</td>\n",
       "      <td>5.995014</td>\n",
       "      <td>58.462967</td>\n",
       "      <td>42954.818683</td>\n",
       "      <td>13855.369434</td>\n",
       "      <td>38498.346326</td>\n",
       "      <td>9571.812850</td>\n",
       "      <td>1.375201</td>\n",
       "      <td>1.065148</td>\n",
       "      <td>2.598334</td>\n",
       "      <td>0.956332</td>\n",
       "      <td>745.326022</td>\n",
       "      <td>831.783909</td>\n",
       "    </tr>\n",
       "    <tr>\n",
       "      <th>4.0</th>\n",
       "      <td>98323.751796</td>\n",
       "      <td>5.740601</td>\n",
       "      <td>58.290614</td>\n",
       "      <td>41243.019758</td>\n",
       "      <td>12594.578033</td>\n",
       "      <td>37002.699669</td>\n",
       "      <td>8552.190769</td>\n",
       "      <td>1.294673</td>\n",
       "      <td>0.981102</td>\n",
       "      <td>2.566312</td>\n",
       "      <td>0.898515</td>\n",
       "      <td>170.517004</td>\n",
       "      <td>269.483417</td>\n",
       "    </tr>\n",
       "    <tr>\n",
       "      <th>5.0</th>\n",
       "      <td>114093.640328</td>\n",
       "      <td>6.988330</td>\n",
       "      <td>61.332286</td>\n",
       "      <td>47068.414113</td>\n",
       "      <td>14732.307732</td>\n",
       "      <td>42437.188440</td>\n",
       "      <td>9855.730044</td>\n",
       "      <td>1.543243</td>\n",
       "      <td>1.237968</td>\n",
       "      <td>3.096995</td>\n",
       "      <td>1.110125</td>\n",
       "      <td>470.602691</td>\n",
       "      <td>347.926683</td>\n",
       "    </tr>\n",
       "    <tr>\n",
       "      <th>6.0</th>\n",
       "      <td>105046.469668</td>\n",
       "      <td>8.359584</td>\n",
       "      <td>80.920859</td>\n",
       "      <td>40949.429773</td>\n",
       "      <td>15950.741297</td>\n",
       "      <td>37463.272888</td>\n",
       "      <td>10683.025710</td>\n",
       "      <td>1.632885</td>\n",
       "      <td>1.941499</td>\n",
       "      <td>3.295975</td>\n",
       "      <td>1.489226</td>\n",
       "      <td>2819.932589</td>\n",
       "      <td>1929.153238</td>\n",
       "    </tr>\n",
       "    <tr>\n",
       "      <th>7.0</th>\n",
       "      <td>60456.620121</td>\n",
       "      <td>6.014047</td>\n",
       "      <td>101.695399</td>\n",
       "      <td>16817.710050</td>\n",
       "      <td>15929.625849</td>\n",
       "      <td>16842.663997</td>\n",
       "      <td>10866.620226</td>\n",
       "      <td>0.725774</td>\n",
       "      <td>2.107417</td>\n",
       "      <td>1.588167</td>\n",
       "      <td>1.592689</td>\n",
       "      <td>8372.548334</td>\n",
       "      <td>5828.568549</td>\n",
       "    </tr>\n",
       "    <tr>\n",
       "      <th>8.0</th>\n",
       "      <td>36940.203080</td>\n",
       "      <td>3.827327</td>\n",
       "      <td>102.754316</td>\n",
       "      <td>9043.496763</td>\n",
       "      <td>10965.779906</td>\n",
       "      <td>8641.894483</td>\n",
       "      <td>8289.031929</td>\n",
       "      <td>0.365540</td>\n",
       "      <td>1.424256</td>\n",
       "      <td>0.798495</td>\n",
       "      <td>1.239036</td>\n",
       "      <td>6348.254521</td>\n",
       "      <td>5210.681672</td>\n",
       "    </tr>\n",
       "    <tr>\n",
       "      <th>9.0</th>\n",
       "      <td>26741.073843</td>\n",
       "      <td>2.163719</td>\n",
       "      <td>79.146492</td>\n",
       "      <td>8145.621120</td>\n",
       "      <td>6339.127212</td>\n",
       "      <td>7426.115780</td>\n",
       "      <td>4830.209732</td>\n",
       "      <td>0.301044</td>\n",
       "      <td>0.621031</td>\n",
       "      <td>0.584080</td>\n",
       "      <td>0.657565</td>\n",
       "      <td>2996.492981</td>\n",
       "      <td>2601.786912</td>\n",
       "    </tr>\n",
       "    <tr>\n",
       "      <th>10.0</th>\n",
       "      <td>23414.406713</td>\n",
       "      <td>1.569006</td>\n",
       "      <td>65.349392</td>\n",
       "      <td>8094.311699</td>\n",
       "      <td>4588.491937</td>\n",
       "      <td>7340.672356</td>\n",
       "      <td>3390.930721</td>\n",
       "      <td>0.269812</td>\n",
       "      <td>0.387861</td>\n",
       "      <td>0.509066</td>\n",
       "      <td>0.402266</td>\n",
       "      <td>1661.691098</td>\n",
       "      <td>1439.730161</td>\n",
       "    </tr>\n",
       "    <tr>\n",
       "      <th>11.0</th>\n",
       "      <td>29245.593608</td>\n",
       "      <td>2.341387</td>\n",
       "      <td>78.395693</td>\n",
       "      <td>8423.351365</td>\n",
       "      <td>7418.011840</td>\n",
       "      <td>7766.133531</td>\n",
       "      <td>5638.096872</td>\n",
       "      <td>0.286304</td>\n",
       "      <td>0.686706</td>\n",
       "      <td>0.577271</td>\n",
       "      <td>0.791106</td>\n",
       "      <td>3762.312639</td>\n",
       "      <td>3200.964072</td>\n",
       "    </tr>\n",
       "    <tr>\n",
       "      <th>12.0</th>\n",
       "      <td>52385.097344</td>\n",
       "      <td>4.004194</td>\n",
       "      <td>77.394721</td>\n",
       "      <td>12863.887594</td>\n",
       "      <td>15511.373467</td>\n",
       "      <td>13128.385348</td>\n",
       "      <td>10881.450935</td>\n",
       "      <td>0.467986</td>\n",
       "      <td>1.187785</td>\n",
       "      <td>0.956733</td>\n",
       "      <td>1.391689</td>\n",
       "      <td>8963.236299</td>\n",
       "      <td>6516.026156</td>\n",
       "    </tr>\n",
       "  </tbody>\n",
       "</table>\n",
       "</div>"
      ],
      "text/plain": [
       "              Energy     Value       Price   NightEnergy  MorningEnergy  \\\n",
       "Month                                                                     \n",
       "1.0     83903.037082  5.376567   64.759688  28508.631826   16938.846594   \n",
       "2.0     98181.956051  6.269525   64.439596  38350.909677   14830.983184   \n",
       "3.0    103752.601623  5.995014   58.462967  42954.818683   13855.369434   \n",
       "4.0     98323.751796  5.740601   58.290614  41243.019758   12594.578033   \n",
       "5.0    114093.640328  6.988330   61.332286  47068.414113   14732.307732   \n",
       "6.0    105046.469668  8.359584   80.920859  40949.429773   15950.741297   \n",
       "7.0     60456.620121  6.014047  101.695399  16817.710050   15929.625849   \n",
       "8.0     36940.203080  3.827327  102.754316   9043.496763   10965.779906   \n",
       "9.0     26741.073843  2.163719   79.146492   8145.621120    6339.127212   \n",
       "10.0    23414.406713  1.569006   65.349392   8094.311699    4588.491937   \n",
       "11.0    29245.593608  2.341387   78.395693   8423.351365    7418.011840   \n",
       "12.0    52385.097344  4.004194   77.394721  12863.887594   15511.373467   \n",
       "\n",
       "       StandardEnergy  EveningEnergy  NightValue  MorningValue  StandardValue  \\\n",
       "Month                                                                           \n",
       "1.0      27142.264641   11313.294022    1.013798      1.298689       1.963105   \n",
       "2.0      35054.812881    9945.250309    1.363589      1.197828       2.656607   \n",
       "3.0      38498.346326    9571.812850    1.375201      1.065148       2.598334   \n",
       "4.0      37002.699669    8552.190769    1.294673      0.981102       2.566312   \n",
       "5.0      42437.188440    9855.730044    1.543243      1.237968       3.096995   \n",
       "6.0      37463.272888   10683.025710    1.632885      1.941499       3.295975   \n",
       "7.0      16842.663997   10866.620226    0.725774      2.107417       1.588167   \n",
       "8.0       8641.894483    8289.031929    0.365540      1.424256       0.798495   \n",
       "9.0       7426.115780    4830.209732    0.301044      0.621031       0.584080   \n",
       "10.0      7340.672356    3390.930721    0.269812      0.387861       0.509066   \n",
       "11.0      7766.133531    5638.096872    0.286304      0.686706       0.577271   \n",
       "12.0     13128.385348   10881.450935    0.467986      1.187785       0.956733   \n",
       "\n",
       "       EveningValue  MorningEnergyTransfer  EveningEnergyTransfer  \n",
       "Month                                                              \n",
       "1.0        1.100976            6450.966958            4321.374265  \n",
       "2.0        1.051501            2558.238677            1763.420638  \n",
       "3.0        0.956332             745.326022             831.783909  \n",
       "4.0        0.898515             170.517004             269.483417  \n",
       "5.0        1.110125             470.602691             347.926683  \n",
       "6.0        1.489226            2819.932589            1929.153238  \n",
       "7.0        1.592689            8372.548334            5828.568549  \n",
       "8.0        1.239036            6348.254521            5210.681672  \n",
       "9.0        0.657565            2996.492981            2601.786912  \n",
       "10.0       0.402266            1661.691098            1439.730161  \n",
       "11.0       0.791106            3762.312639            3200.964072  \n",
       "12.0       1.391689            8963.236299            6516.026156  "
      ]
     },
     "execution_count": 430,
     "metadata": {},
     "output_type": "execute_result"
    }
   ],
   "source": [
    "calmonths=work.reset_index()[[\n",
    "    'Month','Energy','Value','Price',\n",
    "    'NightEnergy','MorningEnergy','StandardEnergy','EveningEnergy',\n",
    "    'NightValue','MorningValue','StandardValue','EveningValue',\n",
    "    'MorningEnergyTransfer','EveningEnergyTransfer']].groupby('Month').mean()\n",
    "\n",
    "calmonths"
   ]
  },
  {
   "cell_type": "code",
   "execution_count": 431,
   "metadata": {},
   "outputs": [],
   "source": [
    "#months.to_csv('../intraday/intraday_monthly_nostore.csv')\n",
    "#months.to_csv('../intraday/intraday_monthly_rated.csv')\n",
    "#months.to_csv('../intraday/intraday_monthly_halfrated.csv')\n",
    "months.to_csv('../intraday/intraday_monthly_50cumec.csv')\n",
    "#months.to_csv('../intraday/intraday_monthly_50cumec_205mw.csv')\n",
    "\n",
    "#calmonths.to_csv('../intraday/intraday_calmonthly_nostore.csv')\n",
    "#calmonths.to_csv('../intraday/intraday_calmonthly_rated.csv')\n",
    "#calmonths.to_csv('../intraday/intraday_calmonthly_halfrated.csv')\n",
    "calmonths.to_csv('../intraday/intraday_calmonthly_50cumec.csv')\n",
    "#months.to_csv('../intraday/intraday_calmonthly_50cumec_205mw.csv')"
   ]
  }
 ],
 "metadata": {
  "kernelspec": {
   "display_name": "Python 3",
   "language": "python",
   "name": "python3"
  },
  "language_info": {
   "codemirror_mode": {
    "name": "ipython",
    "version": 3
   },
   "file_extension": ".py",
   "mimetype": "text/x-python",
   "name": "python",
   "nbconvert_exporter": "python",
   "pygments_lexer": "ipython3",
   "version": "3.8.1"
  }
 },
 "nbformat": 4,
 "nbformat_minor": 4
}
