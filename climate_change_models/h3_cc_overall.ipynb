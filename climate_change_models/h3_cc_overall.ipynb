{
 "cells": [
  {
   "cell_type": "code",
   "execution_count": 9,
   "metadata": {},
   "outputs": [],
   "source": [
    "import numpy as np\n",
    "import pandas as pd"
   ]
  },
  {
   "cell_type": "code",
   "execution_count": 10,
   "metadata": {},
   "outputs": [],
   "source": [
    "output_data='./output_data/CC/'"
   ]
  },
  {
   "cell_type": "code",
   "execution_count": 11,
   "metadata": {},
   "outputs": [],
   "source": [
    "cc_case='WC2'"
   ]
  },
  {
   "cell_type": "code",
   "execution_count": 12,
   "metadata": {},
   "outputs": [
    {
     "data": {
      "text/html": [
       "<div>\n",
       "<style scoped>\n",
       "    .dataframe tbody tr th:only-of-type {\n",
       "        vertical-align: middle;\n",
       "    }\n",
       "\n",
       "    .dataframe tbody tr th {\n",
       "        vertical-align: top;\n",
       "    }\n",
       "\n",
       "    .dataframe thead th {\n",
       "        text-align: right;\n",
       "    }\n",
       "</style>\n",
       "<table border=\"1\" class=\"dataframe\">\n",
       "  <thead>\n",
       "    <tr style=\"text-align: right;\">\n",
       "      <th></th>\n",
       "      <th>StartDate</th>\n",
       "      <th>Mean_2023_2040</th>\n",
       "      <th>Mean_2023_2052</th>\n",
       "    </tr>\n",
       "    <tr>\n",
       "      <th>SimNo</th>\n",
       "      <th></th>\n",
       "      <th></th>\n",
       "      <th></th>\n",
       "    </tr>\n",
       "  </thead>\n",
       "  <tbody>\n",
       "    <tr>\n",
       "      <th>1</th>\n",
       "      <td>1933-10-01</td>\n",
       "      <td>935.332432</td>\n",
       "      <td>1006.073676</td>\n",
       "    </tr>\n",
       "    <tr>\n",
       "      <th>2</th>\n",
       "      <td>1934-10-01</td>\n",
       "      <td>977.133796</td>\n",
       "      <td>1010.648809</td>\n",
       "    </tr>\n",
       "    <tr>\n",
       "      <th>3</th>\n",
       "      <td>1935-10-01</td>\n",
       "      <td>984.615994</td>\n",
       "      <td>1015.168524</td>\n",
       "    </tr>\n",
       "  </tbody>\n",
       "</table>\n",
       "</div>"
      ],
      "text/plain": [
       "        StartDate  Mean_2023_2040  Mean_2023_2052\n",
       "SimNo                                            \n",
       "1      1933-10-01      935.332432     1006.073676\n",
       "2      1934-10-01      977.133796     1010.648809\n",
       "3      1935-10-01      984.615994     1015.168524"
      ]
     },
     "execution_count": 12,
     "metadata": {},
     "output_type": "execute_result"
    }
   ],
   "source": [
    "sims=pd.read_csv(output_data+'climate_change_sims_' + cc_case + '.csv').set_index('SimNo')\n",
    "sims.head(3)"
   ]
  },
  {
   "cell_type": "code",
   "execution_count": 13,
   "metadata": {},
   "outputs": [],
   "source": [
    "for sim in sims.itertuples():\n",
    "    yearly=pd.read_csv(output_data+'ngonye_daily_' + cc_case + '_' + str(sim.Index) + '_base_pe_yearly.csv')\n",
    "    sims.at[sim.Index,'Energy_mean']=yearly['Energy'].mean()/1000\n",
    "    sims.at[sim.Index,'Energy_median']=yearly['Energy'].median()/1000\n",
    "    sims.at[sim.Index,'Energy_mean_2023_2040']=yearly.loc[(yearly['WaterYear']>=2023) & (yearly['WaterYear']<=2040)]['Energy'].mean()/1000\n",
    "    sims.at[sim.Index,'Energy_mean_2023_2052']=yearly.loc[(yearly['WaterYear']>=2023) & (yearly['WaterYear']<=2052)]['Energy'].mean()/1000\n",
    "    sims.at[sim.Index,'Energy_mean_2025_2042']=yearly.loc[(yearly['WaterYear']>=2025) & (yearly['WaterYear']<=2042)]['Energy'].mean()/1000\n",
    "    sims.at[sim.Index,'Energy_mean_2025_2049']=yearly.loc[(yearly['WaterYear']>=2025) & (yearly['WaterYear']<=2049)]['Energy'].mean()/1000\n",
    "    "
   ]
  },
  {
   "cell_type": "code",
   "execution_count": 14,
   "metadata": {},
   "outputs": [
    {
     "data": {
      "text/plain": [
       "787.2909938662548"
      ]
     },
     "execution_count": 14,
     "metadata": {},
     "output_type": "execute_result"
    }
   ],
   "source": [
    "yearly.loc[(yearly['WaterYear']>=2023) & (yearly['WaterYear']<=2040)]['Energy'].mean()/1000"
   ]
  },
  {
   "cell_type": "code",
   "execution_count": 15,
   "metadata": {},
   "outputs": [
    {
     "data": {
      "text/html": [
       "<div>\n",
       "<style scoped>\n",
       "    .dataframe tbody tr th:only-of-type {\n",
       "        vertical-align: middle;\n",
       "    }\n",
       "\n",
       "    .dataframe tbody tr th {\n",
       "        vertical-align: top;\n",
       "    }\n",
       "\n",
       "    .dataframe thead th {\n",
       "        text-align: right;\n",
       "    }\n",
       "</style>\n",
       "<table border=\"1\" class=\"dataframe\">\n",
       "  <thead>\n",
       "    <tr style=\"text-align: right;\">\n",
       "      <th></th>\n",
       "      <th>StartDate</th>\n",
       "      <th>Mean_2023_2040</th>\n",
       "      <th>Mean_2023_2052</th>\n",
       "      <th>Energy_mean</th>\n",
       "      <th>Energy_median</th>\n",
       "      <th>Energy_mean_2023_2040</th>\n",
       "      <th>Energy_mean_2023_2052</th>\n",
       "      <th>Energy_mean_2025_2042</th>\n",
       "      <th>Energy_mean_2025_2049</th>\n",
       "    </tr>\n",
       "    <tr>\n",
       "      <th>SimNo</th>\n",
       "      <th></th>\n",
       "      <th></th>\n",
       "      <th></th>\n",
       "      <th></th>\n",
       "      <th></th>\n",
       "      <th></th>\n",
       "      <th></th>\n",
       "      <th></th>\n",
       "      <th></th>\n",
       "    </tr>\n",
       "  </thead>\n",
       "  <tbody>\n",
       "    <tr>\n",
       "      <th>1</th>\n",
       "      <td>1933-10-01</td>\n",
       "      <td>935.332432</td>\n",
       "      <td>1006.073676</td>\n",
       "      <td>771.357674</td>\n",
       "      <td>772.724675</td>\n",
       "      <td>758.626049</td>\n",
       "      <td>771.150767</td>\n",
       "      <td>751.126943</td>\n",
       "      <td>766.233487</td>\n",
       "    </tr>\n",
       "    <tr>\n",
       "      <th>2</th>\n",
       "      <td>1934-10-01</td>\n",
       "      <td>977.133796</td>\n",
       "      <td>1010.648809</td>\n",
       "      <td>778.074797</td>\n",
       "      <td>776.221196</td>\n",
       "      <td>753.586291</td>\n",
       "      <td>775.703528</td>\n",
       "      <td>756.825688</td>\n",
       "      <td>772.058562</td>\n",
       "    </tr>\n",
       "    <tr>\n",
       "      <th>3</th>\n",
       "      <td>1935-10-01</td>\n",
       "      <td>984.615994</td>\n",
       "      <td>1015.168524</td>\n",
       "      <td>780.890501</td>\n",
       "      <td>777.873859</td>\n",
       "      <td>755.771421</td>\n",
       "      <td>778.490453</td>\n",
       "      <td>761.123319</td>\n",
       "      <td>778.010034</td>\n",
       "    </tr>\n",
       "    <tr>\n",
       "      <th>4</th>\n",
       "      <td>1936-10-01</td>\n",
       "      <td>1007.841821</td>\n",
       "      <td>1021.473712</td>\n",
       "      <td>782.699923</td>\n",
       "      <td>782.303210</td>\n",
       "      <td>761.612061</td>\n",
       "      <td>782.592463</td>\n",
       "      <td>766.124294</td>\n",
       "      <td>778.857541</td>\n",
       "    </tr>\n",
       "    <tr>\n",
       "      <th>5</th>\n",
       "      <td>1937-10-01</td>\n",
       "      <td>1044.625840</td>\n",
       "      <td>1022.378299</td>\n",
       "      <td>776.385032</td>\n",
       "      <td>779.958973</td>\n",
       "      <td>763.718849</td>\n",
       "      <td>777.200201</td>\n",
       "      <td>772.164209</td>\n",
       "      <td>784.210763</td>\n",
       "    </tr>\n",
       "  </tbody>\n",
       "</table>\n",
       "</div>"
      ],
      "text/plain": [
       "        StartDate  Mean_2023_2040  Mean_2023_2052  Energy_mean  Energy_median  \\\n",
       "SimNo                                                                           \n",
       "1      1933-10-01      935.332432     1006.073676   771.357674     772.724675   \n",
       "2      1934-10-01      977.133796     1010.648809   778.074797     776.221196   \n",
       "3      1935-10-01      984.615994     1015.168524   780.890501     777.873859   \n",
       "4      1936-10-01     1007.841821     1021.473712   782.699923     782.303210   \n",
       "5      1937-10-01     1044.625840     1022.378299   776.385032     779.958973   \n",
       "\n",
       "       Energy_mean_2023_2040  Energy_mean_2023_2052  Energy_mean_2025_2042  \\\n",
       "SimNo                                                                        \n",
       "1                 758.626049             771.150767             751.126943   \n",
       "2                 753.586291             775.703528             756.825688   \n",
       "3                 755.771421             778.490453             761.123319   \n",
       "4                 761.612061             782.592463             766.124294   \n",
       "5                 763.718849             777.200201             772.164209   \n",
       "\n",
       "       Energy_mean_2025_2049  \n",
       "SimNo                         \n",
       "1                 766.233487  \n",
       "2                 772.058562  \n",
       "3                 778.010034  \n",
       "4                 778.857541  \n",
       "5                 784.210763  "
      ]
     },
     "execution_count": 15,
     "metadata": {},
     "output_type": "execute_result"
    }
   ],
   "source": [
    "sims.head(5)"
   ]
  },
  {
   "cell_type": "code",
   "execution_count": 16,
   "metadata": {},
   "outputs": [],
   "source": [
    "sims.to_csv(output_data+'climate_change_sims_' + cc_case + '.csv')"
   ]
  }
 ],
 "metadata": {
  "kernelspec": {
   "display_name": "Python 3",
   "language": "python",
   "name": "python3"
  },
  "language_info": {
   "codemirror_mode": {
    "name": "ipython",
    "version": 3
   },
   "file_extension": ".py",
   "mimetype": "text/x-python",
   "name": "python",
   "nbconvert_exporter": "python",
   "pygments_lexer": "ipython3",
   "version": "3.8.1"
  }
 },
 "nbformat": 4,
 "nbformat_minor": 4
}
