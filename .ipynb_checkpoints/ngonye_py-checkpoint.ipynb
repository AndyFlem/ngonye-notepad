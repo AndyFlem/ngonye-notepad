{
 "cells": [
  {
   "cell_type": "markdown",
   "metadata": {},
   "source": [
    "# Setup"
   ]
  },
  {
   "cell_type": "code",
   "execution_count": 6,
   "metadata": {},
   "outputs": [],
   "source": [
    "import numpy as np\n",
    "import pandas as pd\n",
    "import matplotlib.pyplot as plt\n",
    "import matplotlib.ticker as ticker\n",
    "from scipy import signal\n",
    "from scipy.interpolate import splrep, splev\n",
    "\n",
    "import plotly.graph_objects as go\n"
   ]
  },
  {
   "cell_type": "markdown",
   "metadata": {},
   "source": [
    "# Setup the Daily data\n",
    "\n",
    "Load the daily flow series, index by date and add some other columns for later use. \n",
    "\n",
    "Add a column for *WaterYear* which starts on 1st October and runs to 31st September the following year."
   ]
  },
  {
   "cell_type": "code",
   "execution_count": 52,
   "metadata": {},
   "outputs": [
    {
     "data": {
      "text/html": [
       "<div>\n",
       "<style scoped>\n",
       "    .dataframe tbody tr th:only-of-type {\n",
       "        vertical-align: middle;\n",
       "    }\n",
       "\n",
       "    .dataframe tbody tr th {\n",
       "        vertical-align: top;\n",
       "    }\n",
       "\n",
       "    .dataframe thead th {\n",
       "        text-align: right;\n",
       "    }\n",
       "</style>\n",
       "<table border=\"1\" class=\"dataframe\">\n",
       "  <thead>\n",
       "    <tr style=\"text-align: right;\">\n",
       "      <th></th>\n",
       "      <th>Flow</th>\n",
       "      <th>Year</th>\n",
       "      <th>Month</th>\n",
       "      <th>Day</th>\n",
       "      <th>MonthId</th>\n",
       "      <th>WaterYear</th>\n",
       "    </tr>\n",
       "    <tr>\n",
       "      <th>Date</th>\n",
       "      <th></th>\n",
       "      <th></th>\n",
       "      <th></th>\n",
       "      <th></th>\n",
       "      <th></th>\n",
       "      <th></th>\n",
       "    </tr>\n",
       "  </thead>\n",
       "  <tbody>\n",
       "    <tr>\n",
       "      <th>1924-10-01</th>\n",
       "      <td>111</td>\n",
       "      <td>1924</td>\n",
       "      <td>10</td>\n",
       "      <td>1</td>\n",
       "      <td>1924.1</td>\n",
       "      <td>1924.0</td>\n",
       "    </tr>\n",
       "    <tr>\n",
       "      <th>1924-10-02</th>\n",
       "      <td>111</td>\n",
       "      <td>1924</td>\n",
       "      <td>10</td>\n",
       "      <td>2</td>\n",
       "      <td>1924.1</td>\n",
       "      <td>1924.0</td>\n",
       "    </tr>\n",
       "    <tr>\n",
       "      <th>1924-10-03</th>\n",
       "      <td>111</td>\n",
       "      <td>1924</td>\n",
       "      <td>10</td>\n",
       "      <td>3</td>\n",
       "      <td>1924.1</td>\n",
       "      <td>1924.0</td>\n",
       "    </tr>\n",
       "  </tbody>\n",
       "</table>\n",
       "</div>"
      ],
      "text/plain": [
       "            Flow  Year  Month  Day  MonthId  WaterYear\n",
       "Date                                                  \n",
       "1924-10-01   111  1924     10    1   1924.1     1924.0\n",
       "1924-10-02   111  1924     10    2   1924.1     1924.0\n",
       "1924-10-03   111  1924     10    3   1924.1     1924.0"
      ]
     },
     "execution_count": 52,
     "metadata": {},
     "output_type": "execute_result"
    }
   ],
   "source": [
    "daily = pd.read_csv(\"daily.csv\")\n",
    "\n",
    "daily['Date']=pd.to_datetime(daily['Date'],format=\"%d/%m/%Y\")\n",
    "daily=daily.set_index(pd.DatetimeIndex(daily['Date']))\n",
    "daily=daily.drop(['Date'],axis=1)\n",
    "\n",
    "daily['Year']=daily.index.year\n",
    "daily['Month']=daily.index.month\n",
    "daily['Day']=daily.index.day\n",
    "daily['MonthId']=daily['Year']+daily['Month']/100\n",
    "daily['WaterYear']=daily.apply((lambda x: (x['Year'] if x['Month']>=10 else x['Year']-1)),axis=1)\n",
    "\n",
    "daily.head(3)"
   ]
  },
  {
   "cell_type": "markdown",
   "metadata": {},
   "source": [
    "# Setup the Monthly Data\n",
    "\n",
    "Load the monthly data, set the index and add additional columns for later use."
   ]
  },
  {
   "cell_type": "code",
   "execution_count": 51,
   "metadata": {},
   "outputs": [
    {
     "data": {
      "text/html": [
       "<div>\n",
       "<style scoped>\n",
       "    .dataframe tbody tr th:only-of-type {\n",
       "        vertical-align: middle;\n",
       "    }\n",
       "\n",
       "    .dataframe tbody tr th {\n",
       "        vertical-align: top;\n",
       "    }\n",
       "\n",
       "    .dataframe thead th {\n",
       "        text-align: right;\n",
       "    }\n",
       "</style>\n",
       "<table border=\"1\" class=\"dataframe\">\n",
       "  <thead>\n",
       "    <tr style=\"text-align: right;\">\n",
       "      <th></th>\n",
       "      <th>Year</th>\n",
       "      <th>MonthName</th>\n",
       "      <th>Energy</th>\n",
       "      <th>Month</th>\n",
       "      <th>DateFrom</th>\n",
       "      <th>MonthDecimal</th>\n",
       "      <th>WaterYear</th>\n",
       "      <th>WaterMonth</th>\n",
       "    </tr>\n",
       "    <tr>\n",
       "      <th>MonthId</th>\n",
       "      <th></th>\n",
       "      <th></th>\n",
       "      <th></th>\n",
       "      <th></th>\n",
       "      <th></th>\n",
       "      <th></th>\n",
       "      <th></th>\n",
       "      <th></th>\n",
       "    </tr>\n",
       "  </thead>\n",
       "  <tbody>\n",
       "    <tr>\n",
       "      <th>1924.10</th>\n",
       "      <td>1924</td>\n",
       "      <td>Oct</td>\n",
       "      <td>0.0</td>\n",
       "      <td>10</td>\n",
       "      <td>1924-10-01</td>\n",
       "      <td>1924.833333</td>\n",
       "      <td>1924</td>\n",
       "      <td>1</td>\n",
       "    </tr>\n",
       "    <tr>\n",
       "      <th>1924.11</th>\n",
       "      <td>1924</td>\n",
       "      <td>Nov</td>\n",
       "      <td>7.7</td>\n",
       "      <td>11</td>\n",
       "      <td>1924-11-01</td>\n",
       "      <td>1924.916667</td>\n",
       "      <td>1924</td>\n",
       "      <td>2</td>\n",
       "    </tr>\n",
       "    <tr>\n",
       "      <th>1924.12</th>\n",
       "      <td>1924</td>\n",
       "      <td>Dec</td>\n",
       "      <td>24.3</td>\n",
       "      <td>12</td>\n",
       "      <td>1924-12-01</td>\n",
       "      <td>1925.000000</td>\n",
       "      <td>1924</td>\n",
       "      <td>3</td>\n",
       "    </tr>\n",
       "    <tr>\n",
       "      <th>1925.01</th>\n",
       "      <td>1925</td>\n",
       "      <td>Jan</td>\n",
       "      <td>61.8</td>\n",
       "      <td>1</td>\n",
       "      <td>1925-01-01</td>\n",
       "      <td>1925.083333</td>\n",
       "      <td>1924</td>\n",
       "      <td>4</td>\n",
       "    </tr>\n",
       "    <tr>\n",
       "      <th>1925.02</th>\n",
       "      <td>1925</td>\n",
       "      <td>Feb</td>\n",
       "      <td>109.5</td>\n",
       "      <td>2</td>\n",
       "      <td>1925-02-01</td>\n",
       "      <td>1925.166667</td>\n",
       "      <td>1924</td>\n",
       "      <td>5</td>\n",
       "    </tr>\n",
       "    <tr>\n",
       "      <th>...</th>\n",
       "      <td>...</td>\n",
       "      <td>...</td>\n",
       "      <td>...</td>\n",
       "      <td>...</td>\n",
       "      <td>...</td>\n",
       "      <td>...</td>\n",
       "      <td>...</td>\n",
       "      <td>...</td>\n",
       "    </tr>\n",
       "    <tr>\n",
       "      <th>2016.05</th>\n",
       "      <td>2016</td>\n",
       "      <td>May</td>\n",
       "      <td>139.0</td>\n",
       "      <td>5</td>\n",
       "      <td>2016-05-01</td>\n",
       "      <td>2016.416667</td>\n",
       "      <td>2015</td>\n",
       "      <td>8</td>\n",
       "    </tr>\n",
       "    <tr>\n",
       "      <th>2016.06</th>\n",
       "      <td>2016</td>\n",
       "      <td>Jun</td>\n",
       "      <td>128.9</td>\n",
       "      <td>6</td>\n",
       "      <td>2016-06-01</td>\n",
       "      <td>2016.500000</td>\n",
       "      <td>2015</td>\n",
       "      <td>9</td>\n",
       "    </tr>\n",
       "    <tr>\n",
       "      <th>2016.07</th>\n",
       "      <td>2016</td>\n",
       "      <td>Jul</td>\n",
       "      <td>81.4</td>\n",
       "      <td>7</td>\n",
       "      <td>2016-07-01</td>\n",
       "      <td>2016.583333</td>\n",
       "      <td>2015</td>\n",
       "      <td>10</td>\n",
       "    </tr>\n",
       "    <tr>\n",
       "      <th>2016.08</th>\n",
       "      <td>2016</td>\n",
       "      <td>Aug</td>\n",
       "      <td>48.2</td>\n",
       "      <td>8</td>\n",
       "      <td>2016-08-01</td>\n",
       "      <td>2016.666667</td>\n",
       "      <td>2015</td>\n",
       "      <td>11</td>\n",
       "    </tr>\n",
       "    <tr>\n",
       "      <th>2016.09</th>\n",
       "      <td>2016</td>\n",
       "      <td>Sep</td>\n",
       "      <td>31.2</td>\n",
       "      <td>9</td>\n",
       "      <td>2016-09-01</td>\n",
       "      <td>2016.750000</td>\n",
       "      <td>2015</td>\n",
       "      <td>12</td>\n",
       "    </tr>\n",
       "  </tbody>\n",
       "</table>\n",
       "<p>1104 rows × 8 columns</p>\n",
       "</div>"
      ],
      "text/plain": [
       "         Year MonthName  Energy  Month   DateFrom  MonthDecimal  WaterYear  \\\n",
       "MonthId                                                                      \n",
       "1924.10  1924      Oct      0.0     10 1924-10-01   1924.833333       1924   \n",
       "1924.11  1924      Nov      7.7     11 1924-11-01   1924.916667       1924   \n",
       "1924.12  1924      Dec     24.3     12 1924-12-01   1925.000000       1924   \n",
       "1925.01  1925      Jan     61.8      1 1925-01-01   1925.083333       1924   \n",
       "1925.02  1925      Feb    109.5      2 1925-02-01   1925.166667       1924   \n",
       "...       ...       ...     ...    ...        ...           ...        ...   \n",
       "2016.05  2016      May    139.0      5 2016-05-01   2016.416667       2015   \n",
       "2016.06  2016      Jun    128.9      6 2016-06-01   2016.500000       2015   \n",
       "2016.07  2016      Jul     81.4      7 2016-07-01   2016.583333       2015   \n",
       "2016.08  2016      Aug     48.2      8 2016-08-01   2016.666667       2015   \n",
       "2016.09  2016      Sep     31.2      9 2016-09-01   2016.750000       2015   \n",
       "\n",
       "         WaterMonth  \n",
       "MonthId              \n",
       "1924.10           1  \n",
       "1924.11           2  \n",
       "1924.12           3  \n",
       "1925.01           4  \n",
       "1925.02           5  \n",
       "...             ...  \n",
       "2016.05           8  \n",
       "2016.06           9  \n",
       "2016.07          10  \n",
       "2016.08          11  \n",
       "2016.09          12  \n",
       "\n",
       "[1104 rows x 8 columns]"
      ]
     },
     "execution_count": 51,
     "metadata": {},
     "output_type": "execute_result"
    }
   ],
   "source": [
    "monthly = pd.read_csv(\"monthly.csv\")\n",
    "monthly['Month']=monthly['MonthNo']\n",
    "monthly=monthly.drop('MonthNo',1)\n",
    "monthly['MonthId']=monthly['Year']+monthly['Month']/100\n",
    "monthly=monthly.set_index(pd.Index(monthly['MonthId']))\n",
    "monthly=monthly.drop(['MonthId'],axis=1)\n",
    "\n",
    "monthly['Day']=1\n",
    "monthly['DateFrom']=pd.to_datetime(monthly[['Year','Month','Day']])\n",
    "monthly=monthly.drop('Day',1)\n",
    "\n",
    "\n",
    "monthly['MonthDecimal']=monthly['Year']+monthly['Month']/12\n",
    "monthly['WaterYear']=monthly.apply((lambda x: (x['Year'] if x['Month']>=10 else x['Year']-1)),axis=1)\n",
    "monthly['WaterMonth']=monthly.apply((lambda x: (x['Month']-9 if x['Month']>=10 else x['Month']+3)),axis=1)\n",
    "\n",
    "monthly"
   ]
  },
  {
   "cell_type": "code",
   "execution_count": 43,
   "metadata": {},
   "outputs": [],
   "source": [
    "tmp=monthly.loc[:,['Year','MonthNo']]\n"
   ]
  },
  {
   "cell_type": "markdown",
   "metadata": {},
   "source": [
    "# Monthly flow summaries\n",
    "\n",
    "Add flow summaries to the monthly data"
   ]
  },
  {
   "cell_type": "code",
   "execution_count": 53,
   "metadata": {},
   "outputs": [
    {
     "data": {
      "text/html": [
       "<div>\n",
       "<style scoped>\n",
       "    .dataframe tbody tr th:only-of-type {\n",
       "        vertical-align: middle;\n",
       "    }\n",
       "\n",
       "    .dataframe tbody tr th {\n",
       "        vertical-align: top;\n",
       "    }\n",
       "\n",
       "    .dataframe thead th {\n",
       "        text-align: right;\n",
       "    }\n",
       "</style>\n",
       "<table border=\"1\" class=\"dataframe\">\n",
       "  <thead>\n",
       "    <tr style=\"text-align: right;\">\n",
       "      <th></th>\n",
       "      <th>Year</th>\n",
       "      <th>MonthName</th>\n",
       "      <th>Energy</th>\n",
       "      <th>Month</th>\n",
       "      <th>DateFrom</th>\n",
       "      <th>MonthDecimal</th>\n",
       "      <th>WaterYear</th>\n",
       "      <th>WaterMonth</th>\n",
       "      <th>Flow_min</th>\n",
       "      <th>Flow_mean</th>\n",
       "      <th>Flow_median</th>\n",
       "      <th>Flow_max</th>\n",
       "      <th>Flow_range</th>\n",
       "    </tr>\n",
       "    <tr>\n",
       "      <th>MonthId</th>\n",
       "      <th></th>\n",
       "      <th></th>\n",
       "      <th></th>\n",
       "      <th></th>\n",
       "      <th></th>\n",
       "      <th></th>\n",
       "      <th></th>\n",
       "      <th></th>\n",
       "      <th></th>\n",
       "      <th></th>\n",
       "      <th></th>\n",
       "      <th></th>\n",
       "      <th></th>\n",
       "    </tr>\n",
       "  </thead>\n",
       "  <tbody>\n",
       "    <tr>\n",
       "      <th>1924.10</th>\n",
       "      <td>1924</td>\n",
       "      <td>Oct</td>\n",
       "      <td>0.0</td>\n",
       "      <td>10</td>\n",
       "      <td>1924-10-01</td>\n",
       "      <td>1924.833333</td>\n",
       "      <td>1924</td>\n",
       "      <td>1</td>\n",
       "      <td>111</td>\n",
       "      <td>116.096774</td>\n",
       "      <td>111.0</td>\n",
       "      <td>127</td>\n",
       "      <td>16</td>\n",
       "    </tr>\n",
       "    <tr>\n",
       "      <th>1924.11</th>\n",
       "      <td>1924</td>\n",
       "      <td>Nov</td>\n",
       "      <td>7.7</td>\n",
       "      <td>11</td>\n",
       "      <td>1924-11-01</td>\n",
       "      <td>1924.916667</td>\n",
       "      <td>1924</td>\n",
       "      <td>2</td>\n",
       "      <td>128</td>\n",
       "      <td>154.066667</td>\n",
       "      <td>145.0</td>\n",
       "      <td>191</td>\n",
       "      <td>63</td>\n",
       "    </tr>\n",
       "    <tr>\n",
       "      <th>1924.12</th>\n",
       "      <td>1924</td>\n",
       "      <td>Dec</td>\n",
       "      <td>24.3</td>\n",
       "      <td>12</td>\n",
       "      <td>1924-12-01</td>\n",
       "      <td>1925.000000</td>\n",
       "      <td>1924</td>\n",
       "      <td>3</td>\n",
       "      <td>193</td>\n",
       "      <td>275.677419</td>\n",
       "      <td>271.0</td>\n",
       "      <td>440</td>\n",
       "      <td>247</td>\n",
       "    </tr>\n",
       "    <tr>\n",
       "      <th>1925.01</th>\n",
       "      <td>1925</td>\n",
       "      <td>Jan</td>\n",
       "      <td>61.8</td>\n",
       "      <td>1</td>\n",
       "      <td>1925-01-01</td>\n",
       "      <td>1925.083333</td>\n",
       "      <td>1924</td>\n",
       "      <td>4</td>\n",
       "      <td>418</td>\n",
       "      <td>692.774194</td>\n",
       "      <td>596.0</td>\n",
       "      <td>1183</td>\n",
       "      <td>765</td>\n",
       "    </tr>\n",
       "    <tr>\n",
       "      <th>1925.02</th>\n",
       "      <td>1925</td>\n",
       "      <td>Feb</td>\n",
       "      <td>109.5</td>\n",
       "      <td>2</td>\n",
       "      <td>1925-02-01</td>\n",
       "      <td>1925.166667</td>\n",
       "      <td>1924</td>\n",
       "      <td>5</td>\n",
       "      <td>1108</td>\n",
       "      <td>1193.750000</td>\n",
       "      <td>1151.0</td>\n",
       "      <td>1437</td>\n",
       "      <td>329</td>\n",
       "    </tr>\n",
       "    <tr>\n",
       "      <th>1925.03</th>\n",
       "      <td>1925</td>\n",
       "      <td>Mar</td>\n",
       "      <td>137.4</td>\n",
       "      <td>3</td>\n",
       "      <td>1925-03-01</td>\n",
       "      <td>1925.250000</td>\n",
       "      <td>1924</td>\n",
       "      <td>6</td>\n",
       "      <td>1384</td>\n",
       "      <td>1926.419355</td>\n",
       "      <td>1493.0</td>\n",
       "      <td>3452</td>\n",
       "      <td>2068</td>\n",
       "    </tr>\n",
       "  </tbody>\n",
       "</table>\n",
       "</div>"
      ],
      "text/plain": [
       "         Year MonthName  Energy  Month   DateFrom  MonthDecimal  WaterYear  \\\n",
       "MonthId                                                                      \n",
       "1924.10  1924      Oct      0.0     10 1924-10-01   1924.833333       1924   \n",
       "1924.11  1924      Nov      7.7     11 1924-11-01   1924.916667       1924   \n",
       "1924.12  1924      Dec     24.3     12 1924-12-01   1925.000000       1924   \n",
       "1925.01  1925      Jan     61.8      1 1925-01-01   1925.083333       1924   \n",
       "1925.02  1925      Feb    109.5      2 1925-02-01   1925.166667       1924   \n",
       "1925.03  1925      Mar    137.4      3 1925-03-01   1925.250000       1924   \n",
       "\n",
       "         WaterMonth  Flow_min    Flow_mean  Flow_median  Flow_max  Flow_range  \n",
       "MonthId                                                                        \n",
       "1924.10           1       111   116.096774        111.0       127          16  \n",
       "1924.11           2       128   154.066667        145.0       191          63  \n",
       "1924.12           3       193   275.677419        271.0       440         247  \n",
       "1925.01           4       418   692.774194        596.0      1183         765  \n",
       "1925.02           5      1108  1193.750000       1151.0      1437         329  \n",
       "1925.03           6      1384  1926.419355       1493.0      3452        2068  "
      ]
     },
     "execution_count": 53,
     "metadata": {},
     "output_type": "execute_result"
    }
   ],
   "source": [
    "monthly['Flow_min']=daily[['MonthId','Flow']].groupby('MonthId').min()\n",
    "monthly['Flow_mean']=daily[['MonthId','Flow']].groupby('MonthId').mean()\n",
    "monthly['Flow_median']=daily[['MonthId','Flow']].groupby('MonthId').median()\n",
    "monthly['Flow_max']=daily[['MonthId','Flow']].groupby('MonthId').max()\n",
    "monthly['Flow_range']=monthly['Flow_max']-monthly['Flow_min']\n",
    "monthly.head(6)"
   ]
  },
  {
   "cell_type": "markdown",
   "metadata": {},
   "source": [
    "# Annual summaries\n",
    "\n",
    "Flow and energy summaries by water year."
   ]
  },
  {
   "cell_type": "code",
   "execution_count": 10,
   "metadata": {},
   "outputs": [
    {
     "data": {
      "text/html": [
       "<div>\n",
       "<style scoped>\n",
       "    .dataframe tbody tr th:only-of-type {\n",
       "        vertical-align: middle;\n",
       "    }\n",
       "\n",
       "    .dataframe tbody tr th {\n",
       "        vertical-align: top;\n",
       "    }\n",
       "\n",
       "    .dataframe thead th {\n",
       "        text-align: right;\n",
       "    }\n",
       "</style>\n",
       "<table border=\"1\" class=\"dataframe\">\n",
       "  <thead>\n",
       "    <tr style=\"text-align: right;\">\n",
       "      <th></th>\n",
       "      <th>YearDecimal</th>\n",
       "      <th>Flow_min</th>\n",
       "      <th>Flow_median</th>\n",
       "      <th>Flow_mean</th>\n",
       "      <th>Flow_max</th>\n",
       "      <th>Flow_range</th>\n",
       "      <th>Flow_sum</th>\n",
       "      <th>Energy</th>\n",
       "      <th>Energy_min</th>\n",
       "      <th>Energy_max</th>\n",
       "    </tr>\n",
       "    <tr>\n",
       "      <th>WaterYear</th>\n",
       "      <th></th>\n",
       "      <th></th>\n",
       "      <th></th>\n",
       "      <th></th>\n",
       "      <th></th>\n",
       "      <th></th>\n",
       "      <th></th>\n",
       "      <th></th>\n",
       "      <th></th>\n",
       "      <th></th>\n",
       "    </tr>\n",
       "  </thead>\n",
       "  <tbody>\n",
       "    <tr>\n",
       "      <th>1924</th>\n",
       "      <td>1925.25</td>\n",
       "      <td>111</td>\n",
       "      <td>563.0</td>\n",
       "      <td>992.093151</td>\n",
       "      <td>3452</td>\n",
       "      <td>3341</td>\n",
       "      <td>362114</td>\n",
       "      <td>841.2</td>\n",
       "      <td>0.0</td>\n",
       "      <td>137.4</td>\n",
       "    </tr>\n",
       "    <tr>\n",
       "      <th>1925</th>\n",
       "      <td>1926.25</td>\n",
       "      <td>159</td>\n",
       "      <td>495.0</td>\n",
       "      <td>1111.873973</td>\n",
       "      <td>4501</td>\n",
       "      <td>4342</td>\n",
       "      <td>405834</td>\n",
       "      <td>801.0</td>\n",
       "      <td>14.7</td>\n",
       "      <td>127.8</td>\n",
       "    </tr>\n",
       "    <tr>\n",
       "      <th>1926</th>\n",
       "      <td>1927.25</td>\n",
       "      <td>193</td>\n",
       "      <td>563.0</td>\n",
       "      <td>990.427397</td>\n",
       "      <td>3313</td>\n",
       "      <td>3120</td>\n",
       "      <td>361506</td>\n",
       "      <td>910.7</td>\n",
       "      <td>20.6</td>\n",
       "      <td>137.0</td>\n",
       "    </tr>\n",
       "    <tr>\n",
       "      <th>1927</th>\n",
       "      <td>1928.25</td>\n",
       "      <td>180</td>\n",
       "      <td>512.0</td>\n",
       "      <td>848.065574</td>\n",
       "      <td>2261</td>\n",
       "      <td>2081</td>\n",
       "      <td>310392</td>\n",
       "      <td>863.3</td>\n",
       "      <td>18.6</td>\n",
       "      <td>126.2</td>\n",
       "    </tr>\n",
       "  </tbody>\n",
       "</table>\n",
       "</div>"
      ],
      "text/plain": [
       "           YearDecimal  Flow_min  Flow_median    Flow_mean  Flow_max  \\\n",
       "WaterYear                                                              \n",
       "1924           1925.25       111        563.0   992.093151      3452   \n",
       "1925           1926.25       159        495.0  1111.873973      4501   \n",
       "1926           1927.25       193        563.0   990.427397      3313   \n",
       "1927           1928.25       180        512.0   848.065574      2261   \n",
       "\n",
       "           Flow_range  Flow_sum  Energy  Energy_min  Energy_max  \n",
       "WaterYear                                                        \n",
       "1924             3341    362114   841.2         0.0       137.4  \n",
       "1925             4342    405834   801.0        14.7       127.8  \n",
       "1926             3120    361506   910.7        20.6       137.0  \n",
       "1927             2081    310392   863.3        18.6       126.2  "
      ]
     },
     "execution_count": 10,
     "metadata": {},
     "output_type": "execute_result"
    }
   ],
   "source": [
    "yearly=monthly[['WaterYear']].groupby('WaterYear').count()\n",
    "yearly['YearDecimal']=yearly.index+1.25\n",
    "yearly['Flow_min']=daily[['WaterYear','Flow']].groupby('WaterYear').min()\n",
    "yearly['Flow_median']=daily[['WaterYear','Flow']].groupby('WaterYear').median()\n",
    "yearly['Flow_mean']=daily[['WaterYear','Flow']].groupby('WaterYear').mean()\n",
    "yearly['Flow_max']=daily[['WaterYear','Flow']].groupby('WaterYear').max()\n",
    "yearly['Flow_range']=yearly['Flow_max']-yearly['Flow_min']\n",
    "yearly['Flow_sum']=daily[['WaterYear','Flow']].groupby('WaterYear').sum()\n",
    "\n",
    "\n",
    "yearly['Energy']=monthly[['WaterYear','Energy']].groupby('WaterYear').sum()\n",
    "yearly['Energy_min']=monthly[['WaterYear','Energy']].groupby('WaterYear').min()\n",
    "yearly['Energy_max']=monthly[['WaterYear','Energy']].groupby('WaterYear').max()\n",
    "\n",
    "yearly.head(4)"
   ]
  },
  {
   "cell_type": "markdown",
   "metadata": {},
   "source": [
    "# Calendar months\n",
    "\n",
    "Produce summaries of flow and energy by calendar month"
   ]
  },
  {
   "cell_type": "code",
   "execution_count": 54,
   "metadata": {},
   "outputs": [
    {
     "data": {
      "text/html": [
       "<div>\n",
       "<style scoped>\n",
       "    .dataframe tbody tr th:only-of-type {\n",
       "        vertical-align: middle;\n",
       "    }\n",
       "\n",
       "    .dataframe tbody tr th {\n",
       "        vertical-align: top;\n",
       "    }\n",
       "\n",
       "    .dataframe thead th {\n",
       "        text-align: right;\n",
       "    }\n",
       "</style>\n",
       "<table border=\"1\" class=\"dataframe\">\n",
       "  <thead>\n",
       "    <tr style=\"text-align: right;\">\n",
       "      <th></th>\n",
       "      <th>WaterMonth</th>\n",
       "      <th>MonthName</th>\n",
       "      <th>Flow_min</th>\n",
       "      <th>Flow_mean</th>\n",
       "      <th>Flow_median</th>\n",
       "      <th>Flow_max</th>\n",
       "      <th>Energy_min</th>\n",
       "      <th>Energy_mean</th>\n",
       "      <th>Energy_median</th>\n",
       "      <th>Energy_max</th>\n",
       "    </tr>\n",
       "  </thead>\n",
       "  <tbody>\n",
       "    <tr>\n",
       "      <th>10</th>\n",
       "      <td>1</td>\n",
       "      <td>Oct</td>\n",
       "      <td>105</td>\n",
       "      <td>238.687131</td>\n",
       "      <td>227</td>\n",
       "      <td>470</td>\n",
       "      <td>0.0</td>\n",
       "      <td>28.659783</td>\n",
       "      <td>28.10</td>\n",
       "      <td>55.5</td>\n",
       "    </tr>\n",
       "    <tr>\n",
       "      <th>11</th>\n",
       "      <td>2</td>\n",
       "      <td>Nov</td>\n",
       "      <td>103</td>\n",
       "      <td>275.917921</td>\n",
       "      <td>262</td>\n",
       "      <td>648</td>\n",
       "      <td>5.0</td>\n",
       "      <td>27.920652</td>\n",
       "      <td>26.65</td>\n",
       "      <td>61.1</td>\n",
       "    </tr>\n",
       "    <tr>\n",
       "      <th>12</th>\n",
       "      <td>3</td>\n",
       "      <td>Dec</td>\n",
       "      <td>189</td>\n",
       "      <td>432.308706</td>\n",
       "      <td>409</td>\n",
       "      <td>1128</td>\n",
       "      <td>20.3</td>\n",
       "      <td>46.028261</td>\n",
       "      <td>45.35</td>\n",
       "      <td>89.4</td>\n",
       "    </tr>\n",
       "    <tr>\n",
       "      <th>1</th>\n",
       "      <td>4</td>\n",
       "      <td>Jan</td>\n",
       "      <td>271</td>\n",
       "      <td>719.188692</td>\n",
       "      <td>630</td>\n",
       "      <td>3886</td>\n",
       "      <td>36.7</td>\n",
       "      <td>74.801087</td>\n",
       "      <td>70.10</td>\n",
       "      <td>126.6</td>\n",
       "    </tr>\n",
       "    <tr>\n",
       "      <th>2</th>\n",
       "      <td>5</td>\n",
       "      <td>Feb</td>\n",
       "      <td>389</td>\n",
       "      <td>1347.295013</td>\n",
       "      <td>971</td>\n",
       "      <td>9912</td>\n",
       "      <td>46.3</td>\n",
       "      <td>90.465217</td>\n",
       "      <td>90.80</td>\n",
       "      <td>117.5</td>\n",
       "    </tr>\n",
       "    <tr>\n",
       "      <th>3</th>\n",
       "      <td>6</td>\n",
       "      <td>Mar</td>\n",
       "      <td>512</td>\n",
       "      <td>2530.635102</td>\n",
       "      <td>2169</td>\n",
       "      <td>9530</td>\n",
       "      <td>0.0</td>\n",
       "      <td>108.032609</td>\n",
       "      <td>115.20</td>\n",
       "      <td>137.4</td>\n",
       "    </tr>\n",
       "    <tr>\n",
       "      <th>4</th>\n",
       "      <td>7</td>\n",
       "      <td>Apr</td>\n",
       "      <td>685</td>\n",
       "      <td>2965.058065</td>\n",
       "      <td>2960</td>\n",
       "      <td>8540</td>\n",
       "      <td>0.0</td>\n",
       "      <td>99.172826</td>\n",
       "      <td>104.85</td>\n",
       "      <td>133.0</td>\n",
       "    </tr>\n",
       "    <tr>\n",
       "      <th>5</th>\n",
       "      <td>8</td>\n",
       "      <td>May</td>\n",
       "      <td>421</td>\n",
       "      <td>2219.389178</td>\n",
       "      <td>2155</td>\n",
       "      <td>5673</td>\n",
       "      <td>43.0</td>\n",
       "      <td>112.230435</td>\n",
       "      <td>113.35</td>\n",
       "      <td>139.7</td>\n",
       "    </tr>\n",
       "    <tr>\n",
       "      <th>6</th>\n",
       "      <td>9</td>\n",
       "      <td>Jun</td>\n",
       "      <td>271</td>\n",
       "      <td>1202.737993</td>\n",
       "      <td>1128</td>\n",
       "      <td>3920</td>\n",
       "      <td>50.1</td>\n",
       "      <td>115.981522</td>\n",
       "      <td>122.80</td>\n",
       "      <td>131.3</td>\n",
       "    </tr>\n",
       "    <tr>\n",
       "      <th>7</th>\n",
       "      <td>10</td>\n",
       "      <td>Jul</td>\n",
       "      <td>222</td>\n",
       "      <td>589.291363</td>\n",
       "      <td>533</td>\n",
       "      <td>1872</td>\n",
       "      <td>31.7</td>\n",
       "      <td>88.206522</td>\n",
       "      <td>90.00</td>\n",
       "      <td>131.8</td>\n",
       "    </tr>\n",
       "    <tr>\n",
       "      <th>8</th>\n",
       "      <td>11</td>\n",
       "      <td>Aug</td>\n",
       "      <td>177</td>\n",
       "      <td>384.986472</td>\n",
       "      <td>370</td>\n",
       "      <td>905</td>\n",
       "      <td>23.5</td>\n",
       "      <td>56.088043</td>\n",
       "      <td>53.90</td>\n",
       "      <td>102.6</td>\n",
       "    </tr>\n",
       "    <tr>\n",
       "      <th>9</th>\n",
       "      <td>12</td>\n",
       "      <td>Sep</td>\n",
       "      <td>133</td>\n",
       "      <td>287.562366</td>\n",
       "      <td>274</td>\n",
       "      <td>551</td>\n",
       "      <td>14.2</td>\n",
       "      <td>38.154348</td>\n",
       "      <td>37.80</td>\n",
       "      <td>68.9</td>\n",
       "    </tr>\n",
       "  </tbody>\n",
       "</table>\n",
       "</div>"
      ],
      "text/plain": [
       "    WaterMonth MonthName  Flow_min    Flow_mean  Flow_median  Flow_max  \\\n",
       "10           1       Oct       105   238.687131          227       470   \n",
       "11           2       Nov       103   275.917921          262       648   \n",
       "12           3       Dec       189   432.308706          409      1128   \n",
       "1            4       Jan       271   719.188692          630      3886   \n",
       "2            5       Feb       389  1347.295013          971      9912   \n",
       "3            6       Mar       512  2530.635102         2169      9530   \n",
       "4            7       Apr       685  2965.058065         2960      8540   \n",
       "5            8       May       421  2219.389178         2155      5673   \n",
       "6            9       Jun       271  1202.737993         1128      3920   \n",
       "7           10       Jul       222   589.291363          533      1872   \n",
       "8           11       Aug       177   384.986472          370       905   \n",
       "9           12       Sep       133   287.562366          274       551   \n",
       "\n",
       "    Energy_min  Energy_mean  Energy_median  Energy_max  \n",
       "10         0.0    28.659783          28.10        55.5  \n",
       "11         5.0    27.920652          26.65        61.1  \n",
       "12        20.3    46.028261          45.35        89.4  \n",
       "1         36.7    74.801087          70.10       126.6  \n",
       "2         46.3    90.465217          90.80       117.5  \n",
       "3          0.0   108.032609         115.20       137.4  \n",
       "4          0.0    99.172826         104.85       133.0  \n",
       "5         43.0   112.230435         113.35       139.7  \n",
       "6         50.1   115.981522         122.80       131.3  \n",
       "7         31.7    88.206522          90.00       131.8  \n",
       "8         23.5    56.088043          53.90       102.6  \n",
       "9         14.2    38.154348          37.80        68.9  "
      ]
     },
     "execution_count": 54,
     "metadata": {},
     "output_type": "execute_result"
    }
   ],
   "source": [
    "calmonthly=pd.DataFrame({'WaterMonth': [1,2,3,4,5,6,7,8,9,10,11,12],'MonthName': ['Oct','Nov','Dec','Jan','Feb','Mar','Apr','May','Jun','Jul','Aug','Sep']}, index=[10,11,12,1,2,3,4,5,6,7,8,9])\n",
    "\n",
    "calmonthly['Flow_min']=daily[['Month','Flow']].groupby('Month').min()\n",
    "calmonthly['Flow_mean']=daily[['Month','Flow']].groupby('Month').mean()\n",
    "calmonthly['Flow_median']=daily[['Month','Flow']].groupby('Month').median()\n",
    "calmonthly['Flow_max']=daily[['Month','Flow']].groupby('Month').max()\n",
    "\n",
    "calmonthly['Energy_min']=monthly[['Month','Energy']].groupby('Month').min()\n",
    "calmonthly['Energy_mean']=monthly[['Month','Energy']].groupby('Month').mean()\n",
    "calmonthly['Energy_median']=monthly[['Month','Energy']].groupby('Month').median()\n",
    "calmonthly['Energy_max']=monthly[['Month','Energy']].groupby('Month').max()\n",
    "\n",
    "calmonthly"
   ]
  },
  {
   "cell_type": "code",
   "execution_count": 56,
   "metadata": {},
   "outputs": [
    {
     "data": {
      "text/html": [
       "<div>\n",
       "<style scoped>\n",
       "    .dataframe tbody tr th:only-of-type {\n",
       "        vertical-align: middle;\n",
       "    }\n",
       "\n",
       "    .dataframe tbody tr th {\n",
       "        vertical-align: top;\n",
       "    }\n",
       "\n",
       "    .dataframe thead th {\n",
       "        text-align: right;\n",
       "    }\n",
       "</style>\n",
       "<table border=\"1\" class=\"dataframe\">\n",
       "  <thead>\n",
       "    <tr style=\"text-align: right;\">\n",
       "      <th></th>\n",
       "      <th>WaterMonth</th>\n",
       "      <th>MonthName</th>\n",
       "      <th>P95</th>\n",
       "      <th>P90</th>\n",
       "      <th>P80</th>\n",
       "      <th>P75</th>\n",
       "      <th>P50</th>\n",
       "      <th>P25</th>\n",
       "      <th>P20</th>\n",
       "      <th>P10</th>\n",
       "      <th>P05</th>\n",
       "    </tr>\n",
       "  </thead>\n",
       "  <tbody>\n",
       "    <tr>\n",
       "      <th>10</th>\n",
       "      <td>1</td>\n",
       "      <td>Oct</td>\n",
       "      <td>15.565</td>\n",
       "      <td>17.32</td>\n",
       "      <td>21.14</td>\n",
       "      <td>22.875</td>\n",
       "      <td>28.10</td>\n",
       "      <td>34.625</td>\n",
       "      <td>35.62</td>\n",
       "      <td>42.13</td>\n",
       "      <td>45.270</td>\n",
       "    </tr>\n",
       "    <tr>\n",
       "      <th>11</th>\n",
       "      <td>2</td>\n",
       "      <td>Nov</td>\n",
       "      <td>13.235</td>\n",
       "      <td>17.21</td>\n",
       "      <td>20.70</td>\n",
       "      <td>21.450</td>\n",
       "      <td>26.65</td>\n",
       "      <td>32.975</td>\n",
       "      <td>35.78</td>\n",
       "      <td>40.66</td>\n",
       "      <td>46.235</td>\n",
       "    </tr>\n",
       "    <tr>\n",
       "      <th>12</th>\n",
       "      <td>3</td>\n",
       "      <td>Dec</td>\n",
       "      <td>27.340</td>\n",
       "      <td>30.91</td>\n",
       "      <td>35.02</td>\n",
       "      <td>36.375</td>\n",
       "      <td>45.35</td>\n",
       "      <td>53.450</td>\n",
       "      <td>54.10</td>\n",
       "      <td>63.53</td>\n",
       "      <td>69.665</td>\n",
       "    </tr>\n",
       "    <tr>\n",
       "      <th>1</th>\n",
       "      <td>4</td>\n",
       "      <td>Jan</td>\n",
       "      <td>51.365</td>\n",
       "      <td>54.11</td>\n",
       "      <td>58.84</td>\n",
       "      <td>61.625</td>\n",
       "      <td>70.10</td>\n",
       "      <td>87.150</td>\n",
       "      <td>91.76</td>\n",
       "      <td>102.28</td>\n",
       "      <td>110.930</td>\n",
       "    </tr>\n",
       "    <tr>\n",
       "      <th>2</th>\n",
       "      <td>5</td>\n",
       "      <td>Feb</td>\n",
       "      <td>64.620</td>\n",
       "      <td>69.33</td>\n",
       "      <td>77.10</td>\n",
       "      <td>80.175</td>\n",
       "      <td>90.80</td>\n",
       "      <td>103.300</td>\n",
       "      <td>106.88</td>\n",
       "      <td>112.80</td>\n",
       "      <td>115.890</td>\n",
       "    </tr>\n",
       "    <tr>\n",
       "      <th>3</th>\n",
       "      <td>6</td>\n",
       "      <td>Mar</td>\n",
       "      <td>51.675</td>\n",
       "      <td>82.03</td>\n",
       "      <td>97.56</td>\n",
       "      <td>99.350</td>\n",
       "      <td>115.20</td>\n",
       "      <td>123.600</td>\n",
       "      <td>125.46</td>\n",
       "      <td>127.38</td>\n",
       "      <td>129.680</td>\n",
       "    </tr>\n",
       "    <tr>\n",
       "      <th>4</th>\n",
       "      <td>7</td>\n",
       "      <td>Apr</td>\n",
       "      <td>43.600</td>\n",
       "      <td>67.54</td>\n",
       "      <td>81.86</td>\n",
       "      <td>85.275</td>\n",
       "      <td>104.85</td>\n",
       "      <td>119.125</td>\n",
       "      <td>120.00</td>\n",
       "      <td>126.12</td>\n",
       "      <td>130.090</td>\n",
       "    </tr>\n",
       "    <tr>\n",
       "      <th>5</th>\n",
       "      <td>8</td>\n",
       "      <td>May</td>\n",
       "      <td>82.395</td>\n",
       "      <td>91.36</td>\n",
       "      <td>100.82</td>\n",
       "      <td>102.375</td>\n",
       "      <td>113.35</td>\n",
       "      <td>125.200</td>\n",
       "      <td>127.80</td>\n",
       "      <td>133.06</td>\n",
       "      <td>135.675</td>\n",
       "    </tr>\n",
       "    <tr>\n",
       "      <th>6</th>\n",
       "      <td>9</td>\n",
       "      <td>Jun</td>\n",
       "      <td>72.460</td>\n",
       "      <td>96.71</td>\n",
       "      <td>110.82</td>\n",
       "      <td>114.925</td>\n",
       "      <td>122.80</td>\n",
       "      <td>126.800</td>\n",
       "      <td>127.18</td>\n",
       "      <td>127.90</td>\n",
       "      <td>128.790</td>\n",
       "    </tr>\n",
       "    <tr>\n",
       "      <th>7</th>\n",
       "      <td>10</td>\n",
       "      <td>Jul</td>\n",
       "      <td>45.940</td>\n",
       "      <td>54.21</td>\n",
       "      <td>66.62</td>\n",
       "      <td>71.575</td>\n",
       "      <td>90.00</td>\n",
       "      <td>108.800</td>\n",
       "      <td>113.98</td>\n",
       "      <td>122.43</td>\n",
       "      <td>127.495</td>\n",
       "    </tr>\n",
       "    <tr>\n",
       "      <th>8</th>\n",
       "      <td>11</td>\n",
       "      <td>Aug</td>\n",
       "      <td>33.465</td>\n",
       "      <td>38.62</td>\n",
       "      <td>42.90</td>\n",
       "      <td>43.925</td>\n",
       "      <td>53.90</td>\n",
       "      <td>66.000</td>\n",
       "      <td>68.16</td>\n",
       "      <td>76.68</td>\n",
       "      <td>84.260</td>\n",
       "    </tr>\n",
       "    <tr>\n",
       "      <th>9</th>\n",
       "      <td>12</td>\n",
       "      <td>Sep</td>\n",
       "      <td>22.870</td>\n",
       "      <td>26.38</td>\n",
       "      <td>28.54</td>\n",
       "      <td>30.800</td>\n",
       "      <td>37.80</td>\n",
       "      <td>45.425</td>\n",
       "      <td>46.54</td>\n",
       "      <td>51.09</td>\n",
       "      <td>56.220</td>\n",
       "    </tr>\n",
       "  </tbody>\n",
       "</table>\n",
       "</div>"
      ],
      "text/plain": [
       "    WaterMonth MonthName     P95    P90     P80      P75     P50      P25  \\\n",
       "10           1       Oct  15.565  17.32   21.14   22.875   28.10   34.625   \n",
       "11           2       Nov  13.235  17.21   20.70   21.450   26.65   32.975   \n",
       "12           3       Dec  27.340  30.91   35.02   36.375   45.35   53.450   \n",
       "1            4       Jan  51.365  54.11   58.84   61.625   70.10   87.150   \n",
       "2            5       Feb  64.620  69.33   77.10   80.175   90.80  103.300   \n",
       "3            6       Mar  51.675  82.03   97.56   99.350  115.20  123.600   \n",
       "4            7       Apr  43.600  67.54   81.86   85.275  104.85  119.125   \n",
       "5            8       May  82.395  91.36  100.82  102.375  113.35  125.200   \n",
       "6            9       Jun  72.460  96.71  110.82  114.925  122.80  126.800   \n",
       "7           10       Jul  45.940  54.21   66.62   71.575   90.00  108.800   \n",
       "8           11       Aug  33.465  38.62   42.90   43.925   53.90   66.000   \n",
       "9           12       Sep  22.870  26.38   28.54   30.800   37.80   45.425   \n",
       "\n",
       "       P20     P10      P05  \n",
       "10   35.62   42.13   45.270  \n",
       "11   35.78   40.66   46.235  \n",
       "12   54.10   63.53   69.665  \n",
       "1    91.76  102.28  110.930  \n",
       "2   106.88  112.80  115.890  \n",
       "3   125.46  127.38  129.680  \n",
       "4   120.00  126.12  130.090  \n",
       "5   127.80  133.06  135.675  \n",
       "6   127.18  127.90  128.790  \n",
       "7   113.98  122.43  127.495  \n",
       "8    68.16   76.68   84.260  \n",
       "9    46.54   51.09   56.220  "
      ]
     },
     "execution_count": 56,
     "metadata": {},
     "output_type": "execute_result"
    }
   ],
   "source": [
    "calmonthly_ps=pd.DataFrame({'WaterMonth': [1,2,3,4,5,6,7,8,9,10,11,12],'MonthName': ['Oct','Nov','Dec','Jan','Feb','Mar','Apr','May','Jun','Jul','Aug','Sep']}, index=[10,11,12,1,2,3,4,5,6,7,8,9])\n",
    "\n",
    "calmonthly_ps['P95']=monthly[['Month','Energy']].groupby('Month').quantile(0.05)\n",
    "calmonthly_ps['P90']=monthly[['Month','Energy']].groupby('Month').quantile(0.1)\n",
    "calmonthly_ps['P80']=monthly[['Month','Energy']].groupby('Month').quantile(0.2)\n",
    "calmonthly_ps['P75']=monthly[['Month','Energy']].groupby('Month').quantile(0.25)\n",
    "calmonthly_ps['P50']=monthly[['Month','Energy']].groupby('Month').quantile(0.5)\n",
    "calmonthly_ps['P25']=monthly[['Month','Energy']].groupby('Month').quantile(0.75)\n",
    "calmonthly_ps['P20']=monthly[['Month','Energy']].groupby('Month').quantile(0.8)\n",
    "calmonthly_ps['P10']=monthly[['Month','Energy']].groupby('Month').quantile(0.9)\n",
    "calmonthly_ps['P05']=monthly[['Month','Energy']].groupby('Month').quantile(0.95)\n",
    "\n",
    "calmonthly_ps"
   ]
  },
  {
   "cell_type": "code",
   "execution_count": 171,
   "metadata": {},
   "outputs": [
    {
     "data": {
      "application/vnd.plotly.v1+json": {
       "config": {
        "plotlyServerURL": "https://plot.ly"
       },
       "data": [
        {
         "fill": "toself",
         "fillcolor": "rgba(100,100,100,0.2)",
         "hoverinfo": "none",
         "line": {
          "shape": "spline",
          "width": 0
         },
         "showlegend": false,
         "type": "scatter",
         "x": [
          "Oct",
          "Nov",
          "Dec",
          "Jan",
          "Feb",
          "Mar",
          "Apr",
          "May",
          "Jun",
          "Jul",
          "Aug",
          "Sep",
          "Sep",
          "Aug",
          "Jul",
          "Jun",
          "May",
          "Apr",
          "Mar",
          "Feb",
          "Jan",
          "Dec",
          "Nov",
          "Oct"
         ],
         "y": [
          22.875,
          21.45,
          36.375,
          61.625,
          80.175,
          99.35,
          85.27499999999999,
          102.375,
          114.925,
          71.575,
          43.925,
          30.799999999999997,
          45.425,
          66,
          108.80000000000001,
          126.8,
          125.2,
          119.125,
          123.6,
          103.30000000000001,
          87.15,
          53.45,
          32.975,
          34.625
         ]
        },
        {
         "hoverinfo": "none",
         "line": {
          "color": "royalblue",
          "dash": "dash",
          "shape": "spline",
          "width": 1
         },
         "mode": "lines",
         "name": "P25",
         "type": "scatter",
         "x": [
          "Oct",
          "Nov",
          "Dec",
          "Jan",
          "Feb",
          "Mar",
          "Apr",
          "May",
          "Jun",
          "Jul",
          "Aug",
          "Sep"
         ],
         "y": [
          34.625,
          32.975,
          53.45,
          87.15,
          103.30000000000001,
          123.6,
          119.125,
          125.2,
          126.8,
          108.80000000000001,
          66,
          45.425
         ]
        },
        {
         "hoverlabel": {
          "bgcolor": "rgba(200,200,200,0.2)"
         },
         "hovertemplate": "%{x}: %{y:0f} GWhr</br><extra></extra>",
         "line": {
          "color": "red",
          "shape": "spline",
          "width": 2
         },
         "name": "Median (P50)",
         "type": "scatter",
         "x": [
          "Oct",
          "Nov",
          "Dec",
          "Jan",
          "Feb",
          "Mar",
          "Apr",
          "May",
          "Jun",
          "Jul",
          "Aug",
          "Sep"
         ],
         "y": [
          28.1,
          26.65,
          45.35,
          70.1,
          90.80000000000001,
          115.2,
          104.85,
          113.35,
          122.8,
          90,
          53.9,
          37.8
         ]
        },
        {
         "hoverinfo": "none",
         "line": {
          "color": "royalblue",
          "dash": "dash",
          "shape": "spline",
          "width": 1
         },
         "mode": "lines",
         "name": "P75",
         "type": "scatter",
         "x": [
          "Oct",
          "Nov",
          "Dec",
          "Jan",
          "Feb",
          "Mar",
          "Apr",
          "May",
          "Jun",
          "Jul",
          "Aug",
          "Sep"
         ],
         "y": [
          22.875,
          21.45,
          36.375,
          61.625,
          80.175,
          99.35,
          85.27499999999999,
          102.375,
          114.925,
          71.575,
          43.925,
          30.799999999999997
         ]
        }
       ],
       "layout": {
        "autosize": false,
        "height": 450,
        "plot_bgcolor": "white",
        "template": {
         "data": {
          "bar": [
           {
            "error_x": {
             "color": "#2a3f5f"
            },
            "error_y": {
             "color": "#2a3f5f"
            },
            "marker": {
             "line": {
              "color": "#E5ECF6",
              "width": 0.5
             }
            },
            "type": "bar"
           }
          ],
          "barpolar": [
           {
            "marker": {
             "line": {
              "color": "#E5ECF6",
              "width": 0.5
             }
            },
            "type": "barpolar"
           }
          ],
          "carpet": [
           {
            "aaxis": {
             "endlinecolor": "#2a3f5f",
             "gridcolor": "white",
             "linecolor": "white",
             "minorgridcolor": "white",
             "startlinecolor": "#2a3f5f"
            },
            "baxis": {
             "endlinecolor": "#2a3f5f",
             "gridcolor": "white",
             "linecolor": "white",
             "minorgridcolor": "white",
             "startlinecolor": "#2a3f5f"
            },
            "type": "carpet"
           }
          ],
          "choropleth": [
           {
            "colorbar": {
             "outlinewidth": 0,
             "ticks": ""
            },
            "type": "choropleth"
           }
          ],
          "contour": [
           {
            "colorbar": {
             "outlinewidth": 0,
             "ticks": ""
            },
            "colorscale": [
             [
              0,
              "#0d0887"
             ],
             [
              0.1111111111111111,
              "#46039f"
             ],
             [
              0.2222222222222222,
              "#7201a8"
             ],
             [
              0.3333333333333333,
              "#9c179e"
             ],
             [
              0.4444444444444444,
              "#bd3786"
             ],
             [
              0.5555555555555556,
              "#d8576b"
             ],
             [
              0.6666666666666666,
              "#ed7953"
             ],
             [
              0.7777777777777778,
              "#fb9f3a"
             ],
             [
              0.8888888888888888,
              "#fdca26"
             ],
             [
              1,
              "#f0f921"
             ]
            ],
            "type": "contour"
           }
          ],
          "contourcarpet": [
           {
            "colorbar": {
             "outlinewidth": 0,
             "ticks": ""
            },
            "type": "contourcarpet"
           }
          ],
          "heatmap": [
           {
            "colorbar": {
             "outlinewidth": 0,
             "ticks": ""
            },
            "colorscale": [
             [
              0,
              "#0d0887"
             ],
             [
              0.1111111111111111,
              "#46039f"
             ],
             [
              0.2222222222222222,
              "#7201a8"
             ],
             [
              0.3333333333333333,
              "#9c179e"
             ],
             [
              0.4444444444444444,
              "#bd3786"
             ],
             [
              0.5555555555555556,
              "#d8576b"
             ],
             [
              0.6666666666666666,
              "#ed7953"
             ],
             [
              0.7777777777777778,
              "#fb9f3a"
             ],
             [
              0.8888888888888888,
              "#fdca26"
             ],
             [
              1,
              "#f0f921"
             ]
            ],
            "type": "heatmap"
           }
          ],
          "heatmapgl": [
           {
            "colorbar": {
             "outlinewidth": 0,
             "ticks": ""
            },
            "colorscale": [
             [
              0,
              "#0d0887"
             ],
             [
              0.1111111111111111,
              "#46039f"
             ],
             [
              0.2222222222222222,
              "#7201a8"
             ],
             [
              0.3333333333333333,
              "#9c179e"
             ],
             [
              0.4444444444444444,
              "#bd3786"
             ],
             [
              0.5555555555555556,
              "#d8576b"
             ],
             [
              0.6666666666666666,
              "#ed7953"
             ],
             [
              0.7777777777777778,
              "#fb9f3a"
             ],
             [
              0.8888888888888888,
              "#fdca26"
             ],
             [
              1,
              "#f0f921"
             ]
            ],
            "type": "heatmapgl"
           }
          ],
          "histogram": [
           {
            "marker": {
             "colorbar": {
              "outlinewidth": 0,
              "ticks": ""
             }
            },
            "type": "histogram"
           }
          ],
          "histogram2d": [
           {
            "colorbar": {
             "outlinewidth": 0,
             "ticks": ""
            },
            "colorscale": [
             [
              0,
              "#0d0887"
             ],
             [
              0.1111111111111111,
              "#46039f"
             ],
             [
              0.2222222222222222,
              "#7201a8"
             ],
             [
              0.3333333333333333,
              "#9c179e"
             ],
             [
              0.4444444444444444,
              "#bd3786"
             ],
             [
              0.5555555555555556,
              "#d8576b"
             ],
             [
              0.6666666666666666,
              "#ed7953"
             ],
             [
              0.7777777777777778,
              "#fb9f3a"
             ],
             [
              0.8888888888888888,
              "#fdca26"
             ],
             [
              1,
              "#f0f921"
             ]
            ],
            "type": "histogram2d"
           }
          ],
          "histogram2dcontour": [
           {
            "colorbar": {
             "outlinewidth": 0,
             "ticks": ""
            },
            "colorscale": [
             [
              0,
              "#0d0887"
             ],
             [
              0.1111111111111111,
              "#46039f"
             ],
             [
              0.2222222222222222,
              "#7201a8"
             ],
             [
              0.3333333333333333,
              "#9c179e"
             ],
             [
              0.4444444444444444,
              "#bd3786"
             ],
             [
              0.5555555555555556,
              "#d8576b"
             ],
             [
              0.6666666666666666,
              "#ed7953"
             ],
             [
              0.7777777777777778,
              "#fb9f3a"
             ],
             [
              0.8888888888888888,
              "#fdca26"
             ],
             [
              1,
              "#f0f921"
             ]
            ],
            "type": "histogram2dcontour"
           }
          ],
          "mesh3d": [
           {
            "colorbar": {
             "outlinewidth": 0,
             "ticks": ""
            },
            "type": "mesh3d"
           }
          ],
          "parcoords": [
           {
            "line": {
             "colorbar": {
              "outlinewidth": 0,
              "ticks": ""
             }
            },
            "type": "parcoords"
           }
          ],
          "pie": [
           {
            "automargin": true,
            "type": "pie"
           }
          ],
          "scatter": [
           {
            "marker": {
             "colorbar": {
              "outlinewidth": 0,
              "ticks": ""
             }
            },
            "type": "scatter"
           }
          ],
          "scatter3d": [
           {
            "line": {
             "colorbar": {
              "outlinewidth": 0,
              "ticks": ""
             }
            },
            "marker": {
             "colorbar": {
              "outlinewidth": 0,
              "ticks": ""
             }
            },
            "type": "scatter3d"
           }
          ],
          "scattercarpet": [
           {
            "marker": {
             "colorbar": {
              "outlinewidth": 0,
              "ticks": ""
             }
            },
            "type": "scattercarpet"
           }
          ],
          "scattergeo": [
           {
            "marker": {
             "colorbar": {
              "outlinewidth": 0,
              "ticks": ""
             }
            },
            "type": "scattergeo"
           }
          ],
          "scattergl": [
           {
            "marker": {
             "colorbar": {
              "outlinewidth": 0,
              "ticks": ""
             }
            },
            "type": "scattergl"
           }
          ],
          "scattermapbox": [
           {
            "marker": {
             "colorbar": {
              "outlinewidth": 0,
              "ticks": ""
             }
            },
            "type": "scattermapbox"
           }
          ],
          "scatterpolar": [
           {
            "marker": {
             "colorbar": {
              "outlinewidth": 0,
              "ticks": ""
             }
            },
            "type": "scatterpolar"
           }
          ],
          "scatterpolargl": [
           {
            "marker": {
             "colorbar": {
              "outlinewidth": 0,
              "ticks": ""
             }
            },
            "type": "scatterpolargl"
           }
          ],
          "scatterternary": [
           {
            "marker": {
             "colorbar": {
              "outlinewidth": 0,
              "ticks": ""
             }
            },
            "type": "scatterternary"
           }
          ],
          "surface": [
           {
            "colorbar": {
             "outlinewidth": 0,
             "ticks": ""
            },
            "colorscale": [
             [
              0,
              "#0d0887"
             ],
             [
              0.1111111111111111,
              "#46039f"
             ],
             [
              0.2222222222222222,
              "#7201a8"
             ],
             [
              0.3333333333333333,
              "#9c179e"
             ],
             [
              0.4444444444444444,
              "#bd3786"
             ],
             [
              0.5555555555555556,
              "#d8576b"
             ],
             [
              0.6666666666666666,
              "#ed7953"
             ],
             [
              0.7777777777777778,
              "#fb9f3a"
             ],
             [
              0.8888888888888888,
              "#fdca26"
             ],
             [
              1,
              "#f0f921"
             ]
            ],
            "type": "surface"
           }
          ],
          "table": [
           {
            "cells": {
             "fill": {
              "color": "#EBF0F8"
             },
             "line": {
              "color": "white"
             }
            },
            "header": {
             "fill": {
              "color": "#C8D4E3"
             },
             "line": {
              "color": "white"
             }
            },
            "type": "table"
           }
          ]
         },
         "layout": {
          "annotationdefaults": {
           "arrowcolor": "#2a3f5f",
           "arrowhead": 0,
           "arrowwidth": 1
          },
          "coloraxis": {
           "colorbar": {
            "outlinewidth": 0,
            "ticks": ""
           }
          },
          "colorscale": {
           "diverging": [
            [
             0,
             "#8e0152"
            ],
            [
             0.1,
             "#c51b7d"
            ],
            [
             0.2,
             "#de77ae"
            ],
            [
             0.3,
             "#f1b6da"
            ],
            [
             0.4,
             "#fde0ef"
            ],
            [
             0.5,
             "#f7f7f7"
            ],
            [
             0.6,
             "#e6f5d0"
            ],
            [
             0.7,
             "#b8e186"
            ],
            [
             0.8,
             "#7fbc41"
            ],
            [
             0.9,
             "#4d9221"
            ],
            [
             1,
             "#276419"
            ]
           ],
           "sequential": [
            [
             0,
             "#0d0887"
            ],
            [
             0.1111111111111111,
             "#46039f"
            ],
            [
             0.2222222222222222,
             "#7201a8"
            ],
            [
             0.3333333333333333,
             "#9c179e"
            ],
            [
             0.4444444444444444,
             "#bd3786"
            ],
            [
             0.5555555555555556,
             "#d8576b"
            ],
            [
             0.6666666666666666,
             "#ed7953"
            ],
            [
             0.7777777777777778,
             "#fb9f3a"
            ],
            [
             0.8888888888888888,
             "#fdca26"
            ],
            [
             1,
             "#f0f921"
            ]
           ],
           "sequentialminus": [
            [
             0,
             "#0d0887"
            ],
            [
             0.1111111111111111,
             "#46039f"
            ],
            [
             0.2222222222222222,
             "#7201a8"
            ],
            [
             0.3333333333333333,
             "#9c179e"
            ],
            [
             0.4444444444444444,
             "#bd3786"
            ],
            [
             0.5555555555555556,
             "#d8576b"
            ],
            [
             0.6666666666666666,
             "#ed7953"
            ],
            [
             0.7777777777777778,
             "#fb9f3a"
            ],
            [
             0.8888888888888888,
             "#fdca26"
            ],
            [
             1,
             "#f0f921"
            ]
           ]
          },
          "colorway": [
           "#636efa",
           "#EF553B",
           "#00cc96",
           "#ab63fa",
           "#FFA15A",
           "#19d3f3",
           "#FF6692",
           "#B6E880",
           "#FF97FF",
           "#FECB52"
          ],
          "font": {
           "color": "#2a3f5f"
          },
          "geo": {
           "bgcolor": "white",
           "lakecolor": "white",
           "landcolor": "#E5ECF6",
           "showlakes": true,
           "showland": true,
           "subunitcolor": "white"
          },
          "hoverlabel": {
           "align": "left"
          },
          "hovermode": "closest",
          "mapbox": {
           "style": "light"
          },
          "paper_bgcolor": "white",
          "plot_bgcolor": "#E5ECF6",
          "polar": {
           "angularaxis": {
            "gridcolor": "white",
            "linecolor": "white",
            "ticks": ""
           },
           "bgcolor": "#E5ECF6",
           "radialaxis": {
            "gridcolor": "white",
            "linecolor": "white",
            "ticks": ""
           }
          },
          "scene": {
           "xaxis": {
            "backgroundcolor": "#E5ECF6",
            "gridcolor": "white",
            "gridwidth": 2,
            "linecolor": "white",
            "showbackground": true,
            "ticks": "",
            "zerolinecolor": "white"
           },
           "yaxis": {
            "backgroundcolor": "#E5ECF6",
            "gridcolor": "white",
            "gridwidth": 2,
            "linecolor": "white",
            "showbackground": true,
            "ticks": "",
            "zerolinecolor": "white"
           },
           "zaxis": {
            "backgroundcolor": "#E5ECF6",
            "gridcolor": "white",
            "gridwidth": 2,
            "linecolor": "white",
            "showbackground": true,
            "ticks": "",
            "zerolinecolor": "white"
           }
          },
          "shapedefaults": {
           "line": {
            "color": "#2a3f5f"
           }
          },
          "ternary": {
           "aaxis": {
            "gridcolor": "white",
            "linecolor": "white",
            "ticks": ""
           },
           "baxis": {
            "gridcolor": "white",
            "linecolor": "white",
            "ticks": ""
           },
           "bgcolor": "#E5ECF6",
           "caxis": {
            "gridcolor": "white",
            "linecolor": "white",
            "ticks": ""
           }
          },
          "title": {
           "x": 0.05
          },
          "xaxis": {
           "automargin": true,
           "gridcolor": "white",
           "linecolor": "white",
           "ticks": "",
           "title": {
            "standoff": 15
           },
           "zerolinecolor": "white",
           "zerolinewidth": 2
          },
          "yaxis": {
           "automargin": true,
           "gridcolor": "white",
           "linecolor": "white",
           "ticks": "",
           "title": {
            "standoff": 15
           },
           "zerolinecolor": "white",
           "zerolinewidth": 2
          }
         }
        },
        "title": {
         "text": "Energy Production"
        },
        "width": 800,
        "xaxis": {
         "autorange": true,
         "range": [
          -0.701780415430267,
          11.701780415430267
         ],
         "showgrid": false,
         "showline": false,
         "showticklabels": true,
         "ticks": "outside",
         "type": "category"
        },
        "yaxis": {
         "gridcolor": "rgb(204, 204, 204)",
         "range": [
          0,
          140
         ],
         "showgrid": true,
         "showline": false,
         "showticklabels": true,
         "title": {
          "text": "Energy (GWhr)"
         },
         "type": "linear"
        }
       }
      },
      "image/png": "[encoded data removed]",
      "text/html": [
       "<div>\n",
       "        \n",
       "        \n",
       "            <div id=\"c51b7e95-6150-4a77-a6b2-170fd0514859\" class=\"plotly-graph-div\" style=\"height:525px; width:800px;\"></div>\n",
       "            <script type=\"text/javascript\">\n",
       "                require([\"plotly\"], function(Plotly) {\n",
       "                    window.PLOTLYENV=window.PLOTLYENV || {};\n",
       "                    \n",
       "                if (document.getElementById(\"c51b7e95-6150-4a77-a6b2-170fd0514859\")) {\n",
       "                    Plotly.newPlot(\n",
       "                        'c51b7e95-6150-4a77-a6b2-170fd0514859',\n",
       "                        [{\"fill\": \"toself\", \"fillcolor\": \"rgba(100,100,100,0.2)\", \"hoverinfo\": \"none\", \"line\": {\"shape\": \"spline\", \"width\": 0}, \"showlegend\": false, \"type\": \"scatter\", \"x\": [\"Oct\", \"Nov\", \"Dec\", \"Jan\", \"Feb\", \"Mar\", \"Apr\", \"May\", \"Jun\", \"Jul\", \"Aug\", \"Sep\", \"Sep\", \"Aug\", \"Jul\", \"Jun\", \"May\", \"Apr\", \"Mar\", \"Feb\", \"Jan\", \"Dec\", \"Nov\", \"Oct\"], \"y\": [22.875, 21.45, 36.375, 61.625, 80.175, 99.35, 85.27499999999999, 102.375, 114.925, 71.575, 43.925, 30.799999999999997, 45.425, 66.0, 108.80000000000001, 126.8, 125.2, 119.125, 123.6, 103.30000000000001, 87.15, 53.45, 32.975, 34.625]}, {\"hoverinfo\": \"none\", \"line\": {\"color\": \"royalblue\", \"dash\": \"dash\", \"shape\": \"spline\", \"width\": 1}, \"mode\": \"lines\", \"name\": \"P25\", \"type\": \"scatter\", \"x\": [\"Oct\", \"Nov\", \"Dec\", \"Jan\", \"Feb\", \"Mar\", \"Apr\", \"May\", \"Jun\", \"Jul\", \"Aug\", \"Sep\"], \"y\": [34.625, 32.975, 53.45, 87.15, 103.30000000000001, 123.6, 119.125, 125.2, 126.8, 108.80000000000001, 66.0, 45.425]}, {\"hoverlabel\": {\"bgcolor\": \"rgba(200,200,200,0.2)\"}, \"hovertemplate\": \"%{x}: %{y:0f} GWhr</br><extra></extra>\", \"line\": {\"color\": \"red\", \"shape\": \"spline\", \"width\": 2}, \"name\": \"Median (P50)\", \"type\": \"scatter\", \"x\": [\"Oct\", \"Nov\", \"Dec\", \"Jan\", \"Feb\", \"Mar\", \"Apr\", \"May\", \"Jun\", \"Jul\", \"Aug\", \"Sep\"], \"y\": [28.1, 26.65, 45.35, 70.1, 90.80000000000001, 115.2, 104.85, 113.35, 122.8, 90.0, 53.9, 37.8]}, {\"hoverinfo\": \"none\", \"line\": {\"color\": \"royalblue\", \"dash\": \"dash\", \"shape\": \"spline\", \"width\": 1}, \"mode\": \"lines\", \"name\": \"P75\", \"type\": \"scatter\", \"x\": [\"Oct\", \"Nov\", \"Dec\", \"Jan\", \"Feb\", \"Mar\", \"Apr\", \"May\", \"Jun\", \"Jul\", \"Aug\", \"Sep\"], \"y\": [22.875, 21.45, 36.375, 61.625, 80.175, 99.35, 85.27499999999999, 102.375, 114.925, 71.575, 43.925, 30.799999999999997]}],\n",
       "                        {\"autosize\": false, \"plot_bgcolor\": \"white\", \"template\": {\"data\": {\"bar\": [{\"error_x\": {\"color\": \"#2a3f5f\"}, \"error_y\": {\"color\": \"#2a3f5f\"}, \"marker\": {\"line\": {\"color\": \"#E5ECF6\", \"width\": 0.5}}, \"type\": \"bar\"}], \"barpolar\": [{\"marker\": {\"line\": {\"color\": \"#E5ECF6\", \"width\": 0.5}}, \"type\": \"barpolar\"}], \"carpet\": [{\"aaxis\": {\"endlinecolor\": \"#2a3f5f\", \"gridcolor\": \"white\", \"linecolor\": \"white\", \"minorgridcolor\": \"white\", \"startlinecolor\": \"#2a3f5f\"}, \"baxis\": {\"endlinecolor\": \"#2a3f5f\", \"gridcolor\": \"white\", \"linecolor\": \"white\", \"minorgridcolor\": \"white\", \"startlinecolor\": \"#2a3f5f\"}, \"type\": \"carpet\"}], \"choropleth\": [{\"colorbar\": {\"outlinewidth\": 0, \"ticks\": \"\"}, \"type\": \"choropleth\"}], \"contour\": [{\"colorbar\": {\"outlinewidth\": 0, \"ticks\": \"\"}, \"colorscale\": [[0.0, \"#0d0887\"], [0.1111111111111111, \"#46039f\"], [0.2222222222222222, \"#7201a8\"], [0.3333333333333333, \"#9c179e\"], [0.4444444444444444, \"#bd3786\"], [0.5555555555555556, \"#d8576b\"], [0.6666666666666666, \"#ed7953\"], [0.7777777777777778, \"#fb9f3a\"], [0.8888888888888888, \"#fdca26\"], [1.0, \"#f0f921\"]], \"type\": \"contour\"}], \"contourcarpet\": [{\"colorbar\": {\"outlinewidth\": 0, \"ticks\": \"\"}, \"type\": \"contourcarpet\"}], \"heatmap\": [{\"colorbar\": {\"outlinewidth\": 0, \"ticks\": \"\"}, \"colorscale\": [[0.0, \"#0d0887\"], [0.1111111111111111, \"#46039f\"], [0.2222222222222222, \"#7201a8\"], [0.3333333333333333, \"#9c179e\"], [0.4444444444444444, \"#bd3786\"], [0.5555555555555556, \"#d8576b\"], [0.6666666666666666, \"#ed7953\"], [0.7777777777777778, \"#fb9f3a\"], [0.8888888888888888, \"#fdca26\"], [1.0, \"#f0f921\"]], \"type\": \"heatmap\"}], \"heatmapgl\": [{\"colorbar\": {\"outlinewidth\": 0, \"ticks\": \"\"}, \"colorscale\": [[0.0, \"#0d0887\"], [0.1111111111111111, \"#46039f\"], [0.2222222222222222, \"#7201a8\"], [0.3333333333333333, \"#9c179e\"], [0.4444444444444444, \"#bd3786\"], [0.5555555555555556, \"#d8576b\"], [0.6666666666666666, \"#ed7953\"], [0.7777777777777778, \"#fb9f3a\"], [0.8888888888888888, \"#fdca26\"], [1.0, \"#f0f921\"]], \"type\": \"heatmapgl\"}], \"histogram\": [{\"marker\": {\"colorbar\": {\"outlinewidth\": 0, \"ticks\": \"\"}}, \"type\": \"histogram\"}], \"histogram2d\": [{\"colorbar\": {\"outlinewidth\": 0, \"ticks\": \"\"}, \"colorscale\": [[0.0, \"#0d0887\"], [0.1111111111111111, \"#46039f\"], [0.2222222222222222, \"#7201a8\"], [0.3333333333333333, \"#9c179e\"], [0.4444444444444444, \"#bd3786\"], [0.5555555555555556, \"#d8576b\"], [0.6666666666666666, \"#ed7953\"], [0.7777777777777778, \"#fb9f3a\"], [0.8888888888888888, \"#fdca26\"], [1.0, \"#f0f921\"]], \"type\": \"histogram2d\"}], \"histogram2dcontour\": [{\"colorbar\": {\"outlinewidth\": 0, \"ticks\": \"\"}, \"colorscale\": [[0.0, \"#0d0887\"], [0.1111111111111111, \"#46039f\"], [0.2222222222222222, \"#7201a8\"], [0.3333333333333333, \"#9c179e\"], [0.4444444444444444, \"#bd3786\"], [0.5555555555555556, \"#d8576b\"], [0.6666666666666666, \"#ed7953\"], [0.7777777777777778, \"#fb9f3a\"], [0.8888888888888888, \"#fdca26\"], [1.0, \"#f0f921\"]], \"type\": \"histogram2dcontour\"}], \"mesh3d\": [{\"colorbar\": {\"outlinewidth\": 0, \"ticks\": \"\"}, \"type\": \"mesh3d\"}], \"parcoords\": [{\"line\": {\"colorbar\": {\"outlinewidth\": 0, \"ticks\": \"\"}}, \"type\": \"parcoords\"}], \"pie\": [{\"automargin\": true, \"type\": \"pie\"}], \"scatter\": [{\"marker\": {\"colorbar\": {\"outlinewidth\": 0, \"ticks\": \"\"}}, \"type\": \"scatter\"}], \"scatter3d\": [{\"line\": {\"colorbar\": {\"outlinewidth\": 0, \"ticks\": \"\"}}, \"marker\": {\"colorbar\": {\"outlinewidth\": 0, \"ticks\": \"\"}}, \"type\": \"scatter3d\"}], \"scattercarpet\": [{\"marker\": {\"colorbar\": {\"outlinewidth\": 0, \"ticks\": \"\"}}, \"type\": \"scattercarpet\"}], \"scattergeo\": [{\"marker\": {\"colorbar\": {\"outlinewidth\": 0, \"ticks\": \"\"}}, \"type\": \"scattergeo\"}], \"scattergl\": [{\"marker\": {\"colorbar\": {\"outlinewidth\": 0, \"ticks\": \"\"}}, \"type\": \"scattergl\"}], \"scattermapbox\": [{\"marker\": {\"colorbar\": {\"outlinewidth\": 0, \"ticks\": \"\"}}, \"type\": \"scattermapbox\"}], \"scatterpolar\": [{\"marker\": {\"colorbar\": {\"outlinewidth\": 0, \"ticks\": \"\"}}, \"type\": \"scatterpolar\"}], \"scatterpolargl\": [{\"marker\": {\"colorbar\": {\"outlinewidth\": 0, \"ticks\": \"\"}}, \"type\": \"scatterpolargl\"}], \"scatterternary\": [{\"marker\": {\"colorbar\": {\"outlinewidth\": 0, \"ticks\": \"\"}}, \"type\": \"scatterternary\"}], \"surface\": [{\"colorbar\": {\"outlinewidth\": 0, \"ticks\": \"\"}, \"colorscale\": [[0.0, \"#0d0887\"], [0.1111111111111111, \"#46039f\"], [0.2222222222222222, \"#7201a8\"], [0.3333333333333333, \"#9c179e\"], [0.4444444444444444, \"#bd3786\"], [0.5555555555555556, \"#d8576b\"], [0.6666666666666666, \"#ed7953\"], [0.7777777777777778, \"#fb9f3a\"], [0.8888888888888888, \"#fdca26\"], [1.0, \"#f0f921\"]], \"type\": \"surface\"}], \"table\": [{\"cells\": {\"fill\": {\"color\": \"#EBF0F8\"}, \"line\": {\"color\": \"white\"}}, \"header\": {\"fill\": {\"color\": \"#C8D4E3\"}, \"line\": {\"color\": \"white\"}}, \"type\": \"table\"}]}, \"layout\": {\"annotationdefaults\": {\"arrowcolor\": \"#2a3f5f\", \"arrowhead\": 0, \"arrowwidth\": 1}, \"coloraxis\": {\"colorbar\": {\"outlinewidth\": 0, \"ticks\": \"\"}}, \"colorscale\": {\"diverging\": [[0, \"#8e0152\"], [0.1, \"#c51b7d\"], [0.2, \"#de77ae\"], [0.3, \"#f1b6da\"], [0.4, \"#fde0ef\"], [0.5, \"#f7f7f7\"], [0.6, \"#e6f5d0\"], [0.7, \"#b8e186\"], [0.8, \"#7fbc41\"], [0.9, \"#4d9221\"], [1, \"#276419\"]], \"sequential\": [[0.0, \"#0d0887\"], [0.1111111111111111, \"#46039f\"], [0.2222222222222222, \"#7201a8\"], [0.3333333333333333, \"#9c179e\"], [0.4444444444444444, \"#bd3786\"], [0.5555555555555556, \"#d8576b\"], [0.6666666666666666, \"#ed7953\"], [0.7777777777777778, \"#fb9f3a\"], [0.8888888888888888, \"#fdca26\"], [1.0, \"#f0f921\"]], \"sequentialminus\": [[0.0, \"#0d0887\"], [0.1111111111111111, \"#46039f\"], [0.2222222222222222, \"#7201a8\"], [0.3333333333333333, \"#9c179e\"], [0.4444444444444444, \"#bd3786\"], [0.5555555555555556, \"#d8576b\"], [0.6666666666666666, \"#ed7953\"], [0.7777777777777778, \"#fb9f3a\"], [0.8888888888888888, \"#fdca26\"], [1.0, \"#f0f921\"]]}, \"colorway\": [\"#636efa\", \"#EF553B\", \"#00cc96\", \"#ab63fa\", \"#FFA15A\", \"#19d3f3\", \"#FF6692\", \"#B6E880\", \"#FF97FF\", \"#FECB52\"], \"font\": {\"color\": \"#2a3f5f\"}, \"geo\": {\"bgcolor\": \"white\", \"lakecolor\": \"white\", \"landcolor\": \"#E5ECF6\", \"showlakes\": true, \"showland\": true, \"subunitcolor\": \"white\"}, \"hoverlabel\": {\"align\": \"left\"}, \"hovermode\": \"closest\", \"mapbox\": {\"style\": \"light\"}, \"paper_bgcolor\": \"white\", \"plot_bgcolor\": \"#E5ECF6\", \"polar\": {\"angularaxis\": {\"gridcolor\": \"white\", \"linecolor\": \"white\", \"ticks\": \"\"}, \"bgcolor\": \"#E5ECF6\", \"radialaxis\": {\"gridcolor\": \"white\", \"linecolor\": \"white\", \"ticks\": \"\"}}, \"scene\": {\"xaxis\": {\"backgroundcolor\": \"#E5ECF6\", \"gridcolor\": \"white\", \"gridwidth\": 2, \"linecolor\": \"white\", \"showbackground\": true, \"ticks\": \"\", \"zerolinecolor\": \"white\"}, \"yaxis\": {\"backgroundcolor\": \"#E5ECF6\", \"gridcolor\": \"white\", \"gridwidth\": 2, \"linecolor\": \"white\", \"showbackground\": true, \"ticks\": \"\", \"zerolinecolor\": \"white\"}, \"zaxis\": {\"backgroundcolor\": \"#E5ECF6\", \"gridcolor\": \"white\", \"gridwidth\": 2, \"linecolor\": \"white\", \"showbackground\": true, \"ticks\": \"\", \"zerolinecolor\": \"white\"}}, \"shapedefaults\": {\"line\": {\"color\": \"#2a3f5f\"}}, \"ternary\": {\"aaxis\": {\"gridcolor\": \"white\", \"linecolor\": \"white\", \"ticks\": \"\"}, \"baxis\": {\"gridcolor\": \"white\", \"linecolor\": \"white\", \"ticks\": \"\"}, \"bgcolor\": \"#E5ECF6\", \"caxis\": {\"gridcolor\": \"white\", \"linecolor\": \"white\", \"ticks\": \"\"}}, \"title\": {\"x\": 0.05}, \"xaxis\": {\"automargin\": true, \"gridcolor\": \"white\", \"linecolor\": \"white\", \"ticks\": \"\", \"title\": {\"standoff\": 15}, \"zerolinecolor\": \"white\", \"zerolinewidth\": 2}, \"yaxis\": {\"automargin\": true, \"gridcolor\": \"white\", \"linecolor\": \"white\", \"ticks\": \"\", \"title\": {\"standoff\": 15}, \"zerolinecolor\": \"white\", \"zerolinewidth\": 2}}}, \"title\": {\"text\": \"Energy Production\"}, \"width\": 800, \"xaxis\": {\"showgrid\": false, \"showline\": false, \"showticklabels\": true, \"ticks\": \"outside\"}, \"yaxis\": {\"gridcolor\": \"rgb(204, 204, 204)\", \"range\": [0, 140], \"showgrid\": true, \"showline\": false, \"showticklabels\": true, \"title\": {\"text\": \"Energy (GWhr)\"}}},\n",
       "                        {\"responsive\": true}\n",
       "                    ).then(function(){\n",
       "                            \n",
       "var gd = document.getElementById('c51b7e95-6150-4a77-a6b2-170fd0514859');\n",
       "var x = new MutationObserver(function (mutations, observer) {{\n",
       "        var display = window.getComputedStyle(gd).display;\n",
       "        if (!display || display === 'none') {{\n",
       "            console.log([gd, 'removed!']);\n",
       "            Plotly.purge(gd);\n",
       "            observer.disconnect();\n",
       "        }}\n",
       "}});\n",
       "\n",
       "// Listen for the removal of the full notebook cells\n",
       "var notebookContainer = gd.closest('#notebook-container');\n",
       "if (notebookContainer) {{\n",
       "    x.observe(notebookContainer, {childList: true});\n",
       "}}\n",
       "\n",
       "// Listen for the clearing of the current output cell\n",
       "var outputEl = gd.closest('.output');\n",
       "if (outputEl) {{\n",
       "    x.observe(outputEl, {childList: true});\n",
       "}}\n",
       "\n",
       "                        })\n",
       "                };\n",
       "                });\n",
       "            </script>\n",
       "        </div>"
      ]
     },
     "metadata": {},
     "output_type": "display_data"
    }
   ],
   "source": [
    "fig = go.Figure(\n",
    "    data=[\n",
    "        go.Scatter(\n",
    "            x=pd.concat([calmonthly_ps['MonthName'],calmonthly_ps['MonthName'][::-1]]), \n",
    "            y=pd.concat([calmonthly_ps['P75'],calmonthly_ps['P25'][::-1]]),\n",
    "            fill='toself',\n",
    "            fillcolor='rgba(100,100,100,0.2)',\n",
    "            line_shape='spline',\n",
    "            line_width=0,\n",
    "            hoverinfo='none',\n",
    "            showlegend=False),\n",
    "        go.Scatter(\n",
    "            x=calmonthly_ps['MonthName'], \n",
    "            y=calmonthly_ps['P25'],\n",
    "            hoverlabel=dict(bgcolor='rgba(200,200,200,0.2)'),\n",
    "            hovertemplate='%{x}: %{y:0f} GWhr</br><extra></extra>',\n",
    "            line_shape='spline',name='P25',mode='lines',line = dict(color='royalblue', width=1, dash='dash')),\n",
    "        go.Scatter(\n",
    "            x=calmonthly['MonthName'], \n",
    "            y=calmonthly['Energy_median'],\n",
    "            hoverlabel=dict(bgcolor='rgba(200,200,200,0.2)'),\n",
    "            hovertemplate='%{x}: %{y:0f} GWhr</br><extra></extra>',\n",
    "            line_shape='spline',name='Median (P50)',line = dict(color='red', width=2)\n",
    "        ),\n",
    "        go.Scatter(\n",
    "            x=calmonthly_ps['MonthName'], \n",
    "            y=calmonthly_ps['P75'],\n",
    "            hoverlabel=dict(bgcolor='rgba(200,200,200,0.2)'),\n",
    "            hovertemplate='%{x}: %{y:0f} GWhr</br><extra></extra>',\n",
    "            line_shape='spline', name='P75',mode='lines',line = dict(color='royalblue', width=1, dash='dash'))\n",
    "    ],\n",
    ")\n",
    "fig.update_layout(\n",
    "    xaxis=dict(\n",
    "        showline=False,\n",
    "        showgrid=False,\n",
    "        showticklabels=True,\n",
    "        ticks='outside',\n",
    "    ),\n",
    "    yaxis=dict(\n",
    "        title_text='Energy (GWhr)',\n",
    "        showline=False,\n",
    "        showgrid=True,\n",
    "        showticklabels=True,\n",
    "        gridcolor='rgb(204, 204, 204)',\n",
    "        range=(0,140),\n",
    "    ),\n",
    "    width=800,\n",
    "    autosize=False,\n",
    "    title_text='Energy Production',\n",
    "    plot_bgcolor='white'\n",
    ")\n",
    "fig.show()"
   ]
  },
  {
   "cell_type": "markdown",
   "metadata": {},
   "source": [
    "# Plot"
   ]
  },
  {
   "cell_type": "code",
   "execution_count": 95,
   "metadata": {},
   "outputs": [
    {
     "data": {
      "application/vnd.plotly.v1+json": {
       "config": {
        "plotlyServerURL": "https://plot.ly"
       },
       "data": [
        {
         "type": "scatter",
         "x": [
          "1924-10-01T00:00:00",
          "1924-11-01T00:00:00",
          "1924-12-01T00:00:00",
          "1925-01-01T00:00:00",
          "1925-02-01T00:00:00",
          "1925-03-01T00:00:00",
          "1925-04-01T00:00:00",
          "1925-05-01T00:00:00",
          "1925-06-01T00:00:00",
          "1925-07-01T00:00:00",
          "1925-08-01T00:00:00",
          "1925-09-01T00:00:00",
          "1925-10-01T00:00:00",
          "1925-11-01T00:00:00",
          "1925-12-01T00:00:00",
          "1926-01-01T00:00:00",
          "1926-02-01T00:00:00",
          "1926-03-01T00:00:00",
          "1926-04-01T00:00:00",
          "1926-05-01T00:00:00",
          "1926-06-01T00:00:00",
          "1926-07-01T00:00:00",
          "1926-08-01T00:00:00",
          "1926-09-01T00:00:00",
          "1926-10-01T00:00:00",
          "1926-11-01T00:00:00",
          "1926-12-01T00:00:00",
          "1927-01-01T00:00:00",
          "1927-02-01T00:00:00",
          "1927-03-01T00:00:00",
          "1927-04-01T00:00:00",
          "1927-05-01T00:00:00",
          "1927-06-01T00:00:00",
          "1927-07-01T00:00:00",
          "1927-08-01T00:00:00",
          "1927-09-01T00:00:00",
          "1927-10-01T00:00:00",
          "1927-11-01T00:00:00",
          "1927-12-01T00:00:00",
          "1928-01-01T00:00:00",
          "1928-02-01T00:00:00",
          "1928-03-01T00:00:00",
          "1928-04-01T00:00:00",
          "1928-05-01T00:00:00",
          "1928-06-01T00:00:00",
          "1928-07-01T00:00:00",
          "1928-08-01T00:00:00",
          "1928-09-01T00:00:00",
          "1928-10-01T00:00:00",
          "1928-11-01T00:00:00",
          "1928-12-01T00:00:00",
          "1929-01-01T00:00:00",
          "1929-02-01T00:00:00",
          "1929-03-01T00:00:00",
          "1929-04-01T00:00:00",
          "1929-05-01T00:00:00",
          "1929-06-01T00:00:00",
          "1929-07-01T00:00:00",
          "1929-08-01T00:00:00",
          "1929-09-01T00:00:00",
          "1929-10-01T00:00:00",
          "1929-11-01T00:00:00",
          "1929-12-01T00:00:00",
          "1930-01-01T00:00:00",
          "1930-02-01T00:00:00",
          "1930-03-01T00:00:00",
          "1930-04-01T00:00:00",
          "1930-05-01T00:00:00",
          "1930-06-01T00:00:00",
          "1930-07-01T00:00:00",
          "1930-08-01T00:00:00",
          "1930-09-01T00:00:00",
          "1930-10-01T00:00:00",
          "1930-11-01T00:00:00",
          "1930-12-01T00:00:00",
          "1931-01-01T00:00:00",
          "1931-02-01T00:00:00",
          "1931-03-01T00:00:00",
          "1931-04-01T00:00:00",
          "1931-05-01T00:00:00",
          "1931-06-01T00:00:00",
          "1931-07-01T00:00:00",
          "1931-08-01T00:00:00",
          "1931-09-01T00:00:00",
          "1931-10-01T00:00:00",
          "1931-11-01T00:00:00",
          "1931-12-01T00:00:00",
          "1932-01-01T00:00:00",
          "1932-02-01T00:00:00",
          "1932-03-01T00:00:00",
          "1932-04-01T00:00:00",
          "1932-05-01T00:00:00",
          "1932-06-01T00:00:00",
          "1932-07-01T00:00:00",
          "1932-08-01T00:00:00",
          "1932-09-01T00:00:00",
          "1932-10-01T00:00:00",
          "1932-11-01T00:00:00",
          "1932-12-01T00:00:00",
          "1933-01-01T00:00:00",
          "1933-02-01T00:00:00",
          "1933-03-01T00:00:00",
          "1933-04-01T00:00:00",
          "1933-05-01T00:00:00",
          "1933-06-01T00:00:00",
          "1933-07-01T00:00:00",
          "1933-08-01T00:00:00",
          "1933-09-01T00:00:00",
          "1933-10-01T00:00:00",
          "1933-11-01T00:00:00",
          "1933-12-01T00:00:00",
          "1934-01-01T00:00:00",
          "1934-02-01T00:00:00",
          "1934-03-01T00:00:00",
          "1934-04-01T00:00:00",
          "1934-05-01T00:00:00",
          "1934-06-01T00:00:00",
          "1934-07-01T00:00:00",
          "1934-08-01T00:00:00",
          "1934-09-01T00:00:00",
          "1934-10-01T00:00:00",
          "1934-11-01T00:00:00",
          "1934-12-01T00:00:00",
          "1935-01-01T00:00:00",
          "1935-02-01T00:00:00",
          "1935-03-01T00:00:00",
          "1935-04-01T00:00:00",
          "1935-05-01T00:00:00",
          "1935-06-01T00:00:00",
          "1935-07-01T00:00:00",
          "1935-08-01T00:00:00",
          "1935-09-01T00:00:00",
          "1935-10-01T00:00:00",
          "1935-11-01T00:00:00",
          "1935-12-01T00:00:00",
          "1936-01-01T00:00:00",
          "1936-02-01T00:00:00",
          "1936-03-01T00:00:00",
          "1936-04-01T00:00:00",
          "1936-05-01T00:00:00",
          "1936-06-01T00:00:00",
          "1936-07-01T00:00:00",
          "1936-08-01T00:00:00",
          "1936-09-01T00:00:00",
          "1936-10-01T00:00:00",
          "1936-11-01T00:00:00",
          "1936-12-01T00:00:00",
          "1937-01-01T00:00:00",
          "1937-02-01T00:00:00",
          "1937-03-01T00:00:00",
          "1937-04-01T00:00:00",
          "1937-05-01T00:00:00",
          "1937-06-01T00:00:00",
          "1937-07-01T00:00:00",
          "1937-08-01T00:00:00",
          "1937-09-01T00:00:00",
          "1937-10-01T00:00:00",
          "1937-11-01T00:00:00",
          "1937-12-01T00:00:00",
          "1938-01-01T00:00:00",
          "1938-02-01T00:00:00",
          "1938-03-01T00:00:00",
          "1938-04-01T00:00:00",
          "1938-05-01T00:00:00",
          "1938-06-01T00:00:00",
          "1938-07-01T00:00:00",
          "1938-08-01T00:00:00",
          "1938-09-01T00:00:00",
          "1938-10-01T00:00:00",
          "1938-11-01T00:00:00",
          "1938-12-01T00:00:00",
          "1939-01-01T00:00:00",
          "1939-02-01T00:00:00",
          "1939-03-01T00:00:00",
          "1939-04-01T00:00:00",
          "1939-05-01T00:00:00",
          "1939-06-01T00:00:00",
          "1939-07-01T00:00:00",
          "1939-08-01T00:00:00",
          "1939-09-01T00:00:00",
          "1939-10-01T00:00:00",
          "1939-11-01T00:00:00",
          "1939-12-01T00:00:00",
          "1940-01-01T00:00:00",
          "1940-02-01T00:00:00",
          "1940-03-01T00:00:00",
          "1940-04-01T00:00:00",
          "1940-05-01T00:00:00",
          "1940-06-01T00:00:00",
          "1940-07-01T00:00:00",
          "1940-08-01T00:00:00",
          "1940-09-01T00:00:00",
          "1940-10-01T00:00:00",
          "1940-11-01T00:00:00",
          "1940-12-01T00:00:00",
          "1941-01-01T00:00:00",
          "1941-02-01T00:00:00",
          "1941-03-01T00:00:00",
          "1941-04-01T00:00:00",
          "1941-05-01T00:00:00",
          "1941-06-01T00:00:00",
          "1941-07-01T00:00:00",
          "1941-08-01T00:00:00",
          "1941-09-01T00:00:00",
          "1941-10-01T00:00:00",
          "1941-11-01T00:00:00",
          "1941-12-01T00:00:00",
          "1942-01-01T00:00:00",
          "1942-02-01T00:00:00",
          "1942-03-01T00:00:00",
          "1942-04-01T00:00:00",
          "1942-05-01T00:00:00",
          "1942-06-01T00:00:00",
          "1942-07-01T00:00:00",
          "1942-08-01T00:00:00",
          "1942-09-01T00:00:00",
          "1942-10-01T00:00:00",
          "1942-11-01T00:00:00",
          "1942-12-01T00:00:00",
          "1943-01-01T00:00:00",
          "1943-02-01T00:00:00",
          "1943-03-01T00:00:00",
          "1943-04-01T00:00:00",
          "1943-05-01T00:00:00",
          "1943-06-01T00:00:00",
          "1943-07-01T00:00:00",
          "1943-08-01T00:00:00",
          "1943-09-01T00:00:00",
          "1943-10-01T00:00:00",
          "1943-11-01T00:00:00",
          "1943-12-01T00:00:00",
          "1944-01-01T00:00:00",
          "1944-02-01T00:00:00",
          "1944-03-01T00:00:00",
          "1944-04-01T00:00:00",
          "1944-05-01T00:00:00",
          "1944-06-01T00:00:00",
          "1944-07-01T00:00:00",
          "1944-08-01T00:00:00",
          "1944-09-01T00:00:00",
          "1944-10-01T00:00:00",
          "1944-11-01T00:00:00",
          "1944-12-01T00:00:00",
          "1945-01-01T00:00:00",
          "1945-02-01T00:00:00",
          "1945-03-01T00:00:00",
          "1945-04-01T00:00:00",
          "1945-05-01T00:00:00",
          "1945-06-01T00:00:00",
          "1945-07-01T00:00:00",
          "1945-08-01T00:00:00",
          "1945-09-01T00:00:00",
          "1945-10-01T00:00:00",
          "1945-11-01T00:00:00",
          "1945-12-01T00:00:00",
          "1946-01-01T00:00:00",
          "1946-02-01T00:00:00",
          "1946-03-01T00:00:00",
          "1946-04-01T00:00:00",
          "1946-05-01T00:00:00",
          "1946-06-01T00:00:00",
          "1946-07-01T00:00:00",
          "1946-08-01T00:00:00",
          "1946-09-01T00:00:00",
          "1946-10-01T00:00:00",
          "1946-11-01T00:00:00",
          "1946-12-01T00:00:00",
          "1947-01-01T00:00:00",
          "1947-02-01T00:00:00",
          "1947-03-01T00:00:00",
          "1947-04-01T00:00:00",
          "1947-05-01T00:00:00",
          "1947-06-01T00:00:00",
          "1947-07-01T00:00:00",
          "1947-08-01T00:00:00",
          "1947-09-01T00:00:00",
          "1947-10-01T00:00:00",
          "1947-11-01T00:00:00",
          "1947-12-01T00:00:00",
          "1948-01-01T00:00:00",
          "1948-02-01T00:00:00",
          "1948-03-01T00:00:00",
          "1948-04-01T00:00:00",
          "1948-05-01T00:00:00",
          "1948-06-01T00:00:00",
          "1948-07-01T00:00:00",
          "1948-08-01T00:00:00",
          "1948-09-01T00:00:00",
          "1948-10-01T00:00:00",
          "1948-11-01T00:00:00",
          "1948-12-01T00:00:00",
          "1949-01-01T00:00:00",
          "1949-02-01T00:00:00",
          "1949-03-01T00:00:00",
          "1949-04-01T00:00:00",
          "1949-05-01T00:00:00",
          "1949-06-01T00:00:00",
          "1949-07-01T00:00:00",
          "1949-08-01T00:00:00",
          "1949-09-01T00:00:00",
          "1949-10-01T00:00:00",
          "1949-11-01T00:00:00",
          "1949-12-01T00:00:00",
          "1950-01-01T00:00:00",
          "1950-02-01T00:00:00",
          "1950-03-01T00:00:00",
          "1950-04-01T00:00:00",
          "1950-05-01T00:00:00",
          "1950-06-01T00:00:00",
          "1950-07-01T00:00:00",
          "1950-08-01T00:00:00",
          "1950-09-01T00:00:00",
          "1950-10-01T00:00:00",
          "1950-11-01T00:00:00",
          "1950-12-01T00:00:00",
          "1951-01-01T00:00:00",
          "1951-02-01T00:00:00",
          "1951-03-01T00:00:00",
          "1951-04-01T00:00:00",
          "1951-05-01T00:00:00",
          "1951-06-01T00:00:00",
          "1951-07-01T00:00:00",
          "1951-08-01T00:00:00",
          "1951-09-01T00:00:00",
          "1951-10-01T00:00:00",
          "1951-11-01T00:00:00",
          "1951-12-01T00:00:00",
          "1952-01-01T00:00:00",
          "1952-02-01T00:00:00",
          "1952-03-01T00:00:00",
          "1952-04-01T00:00:00",
          "1952-05-01T00:00:00",
          "1952-06-01T00:00:00",
          "1952-07-01T00:00:00",
          "1952-08-01T00:00:00",
          "1952-09-01T00:00:00",
          "1952-10-01T00:00:00",
          "1952-11-01T00:00:00",
          "1952-12-01T00:00:00",
          "1953-01-01T00:00:00",
          "1953-02-01T00:00:00",
          "1953-03-01T00:00:00",
          "1953-04-01T00:00:00",
          "1953-05-01T00:00:00",
          "1953-06-01T00:00:00",
          "1953-07-01T00:00:00",
          "1953-08-01T00:00:00",
          "1953-09-01T00:00:00",
          "1953-10-01T00:00:00",
          "1953-11-01T00:00:00",
          "1953-12-01T00:00:00",
          "1954-01-01T00:00:00",
          "1954-02-01T00:00:00",
          "1954-03-01T00:00:00",
          "1954-04-01T00:00:00",
          "1954-05-01T00:00:00",
          "1954-06-01T00:00:00",
          "1954-07-01T00:00:00",
          "1954-08-01T00:00:00",
          "1954-09-01T00:00:00",
          "1954-10-01T00:00:00",
          "1954-11-01T00:00:00",
          "1954-12-01T00:00:00",
          "1955-01-01T00:00:00",
          "1955-02-01T00:00:00",
          "1955-03-01T00:00:00",
          "1955-04-01T00:00:00",
          "1955-05-01T00:00:00",
          "1955-06-01T00:00:00",
          "1955-07-01T00:00:00",
          "1955-08-01T00:00:00",
          "1955-09-01T00:00:00",
          "1955-10-01T00:00:00",
          "1955-11-01T00:00:00",
          "1955-12-01T00:00:00",
          "1956-01-01T00:00:00",
          "1956-02-01T00:00:00",
          "1956-03-01T00:00:00",
          "1956-04-01T00:00:00",
          "1956-05-01T00:00:00",
          "1956-06-01T00:00:00",
          "1956-07-01T00:00:00",
          "1956-08-01T00:00:00",
          "1956-09-01T00:00:00",
          "1956-10-01T00:00:00",
          "1956-11-01T00:00:00",
          "1956-12-01T00:00:00",
          "1957-01-01T00:00:00",
          "1957-02-01T00:00:00",
          "1957-03-01T00:00:00",
          "1957-04-01T00:00:00",
          "1957-05-01T00:00:00",
          "1957-06-01T00:00:00",
          "1957-07-01T00:00:00",
          "1957-08-01T00:00:00",
          "1957-09-01T00:00:00",
          "1957-10-01T00:00:00",
          "1957-11-01T00:00:00",
          "1957-12-01T00:00:00",
          "1958-01-01T00:00:00",
          "1958-02-01T00:00:00",
          "1958-03-01T00:00:00",
          "1958-04-01T00:00:00",
          "1958-05-01T00:00:00",
          "1958-06-01T00:00:00",
          "1958-07-01T00:00:00",
          "1958-08-01T00:00:00",
          "1958-09-01T00:00:00",
          "1958-10-01T00:00:00",
          "1958-11-01T00:00:00",
          "1958-12-01T00:00:00",
          "1959-01-01T00:00:00",
          "1959-02-01T00:00:00",
          "1959-03-01T00:00:00",
          "1959-04-01T00:00:00",
          "1959-05-01T00:00:00",
          "1959-06-01T00:00:00",
          "1959-07-01T00:00:00",
          "1959-08-01T00:00:00",
          "1959-09-01T00:00:00",
          "1959-10-01T00:00:00",
          "1959-11-01T00:00:00",
          "1959-12-01T00:00:00",
          "1960-01-01T00:00:00",
          "1960-02-01T00:00:00",
          "1960-03-01T00:00:00",
          "1960-04-01T00:00:00",
          "1960-05-01T00:00:00",
          "1960-06-01T00:00:00",
          "1960-07-01T00:00:00",
          "1960-08-01T00:00:00",
          "1960-09-01T00:00:00",
          "1960-10-01T00:00:00",
          "1960-11-01T00:00:00",
          "1960-12-01T00:00:00",
          "1961-01-01T00:00:00",
          "1961-02-01T00:00:00",
          "1961-03-01T00:00:00",
          "1961-04-01T00:00:00",
          "1961-05-01T00:00:00",
          "1961-06-01T00:00:00",
          "1961-07-01T00:00:00",
          "1961-08-01T00:00:00",
          "1961-09-01T00:00:00",
          "1961-10-01T00:00:00",
          "1961-11-01T00:00:00",
          "1961-12-01T00:00:00",
          "1962-01-01T00:00:00",
          "1962-02-01T00:00:00",
          "1962-03-01T00:00:00",
          "1962-04-01T00:00:00",
          "1962-05-01T00:00:00",
          "1962-06-01T00:00:00",
          "1962-07-01T00:00:00",
          "1962-08-01T00:00:00",
          "1962-09-01T00:00:00",
          "1962-10-01T00:00:00",
          "1962-11-01T00:00:00",
          "1962-12-01T00:00:00",
          "1963-01-01T00:00:00",
          "1963-02-01T00:00:00",
          "1963-03-01T00:00:00",
          "1963-04-01T00:00:00",
          "1963-05-01T00:00:00",
          "1963-06-01T00:00:00",
          "1963-07-01T00:00:00",
          "1963-08-01T00:00:00",
          "1963-09-01T00:00:00",
          "1963-10-01T00:00:00",
          "1963-11-01T00:00:00",
          "1963-12-01T00:00:00",
          "1964-01-01T00:00:00",
          "1964-02-01T00:00:00",
          "1964-03-01T00:00:00",
          "1964-04-01T00:00:00",
          "1964-05-01T00:00:00",
          "1964-06-01T00:00:00",
          "1964-07-01T00:00:00",
          "1964-08-01T00:00:00",
          "1964-09-01T00:00:00",
          "1964-10-01T00:00:00",
          "1964-11-01T00:00:00",
          "1964-12-01T00:00:00",
          "1965-01-01T00:00:00",
          "1965-02-01T00:00:00",
          "1965-03-01T00:00:00",
          "1965-04-01T00:00:00",
          "1965-05-01T00:00:00",
          "1965-06-01T00:00:00",
          "1965-07-01T00:00:00",
          "1965-08-01T00:00:00",
          "1965-09-01T00:00:00",
          "1965-10-01T00:00:00",
          "1965-11-01T00:00:00",
          "1965-12-01T00:00:00",
          "1966-01-01T00:00:00",
          "1966-02-01T00:00:00",
          "1966-03-01T00:00:00",
          "1966-04-01T00:00:00",
          "1966-05-01T00:00:00",
          "1966-06-01T00:00:00",
          "1966-07-01T00:00:00",
          "1966-08-01T00:00:00",
          "1966-09-01T00:00:00",
          "1966-10-01T00:00:00",
          "1966-11-01T00:00:00",
          "1966-12-01T00:00:00",
          "1967-01-01T00:00:00",
          "1967-02-01T00:00:00",
          "1967-03-01T00:00:00",
          "1967-04-01T00:00:00",
          "1967-05-01T00:00:00",
          "1967-06-01T00:00:00",
          "1967-07-01T00:00:00",
          "1967-08-01T00:00:00",
          "1967-09-01T00:00:00",
          "1967-10-01T00:00:00",
          "1967-11-01T00:00:00",
          "1967-12-01T00:00:00",
          "1968-01-01T00:00:00",
          "1968-02-01T00:00:00",
          "1968-03-01T00:00:00",
          "1968-04-01T00:00:00",
          "1968-05-01T00:00:00",
          "1968-06-01T00:00:00",
          "1968-07-01T00:00:00",
          "1968-08-01T00:00:00",
          "1968-09-01T00:00:00",
          "1968-10-01T00:00:00",
          "1968-11-01T00:00:00",
          "1968-12-01T00:00:00",
          "1969-01-01T00:00:00",
          "1969-02-01T00:00:00",
          "1969-03-01T00:00:00",
          "1969-04-01T00:00:00",
          "1969-05-01T00:00:00",
          "1969-06-01T00:00:00",
          "1969-07-01T00:00:00",
          "1969-08-01T00:00:00",
          "1969-09-01T00:00:00",
          "1969-10-01T00:00:00",
          "1969-11-01T00:00:00",
          "1969-12-01T00:00:00",
          "1970-01-01T00:00:00",
          "1970-02-01T00:00:00",
          "1970-03-01T00:00:00",
          "1970-04-01T00:00:00",
          "1970-05-01T00:00:00",
          "1970-06-01T00:00:00",
          "1970-07-01T00:00:00",
          "1970-08-01T00:00:00",
          "1970-09-01T00:00:00",
          "1970-10-01T00:00:00",
          "1970-11-01T00:00:00",
          "1970-12-01T00:00:00",
          "1971-01-01T00:00:00",
          "1971-02-01T00:00:00",
          "1971-03-01T00:00:00",
          "1971-04-01T00:00:00",
          "1971-05-01T00:00:00",
          "1971-06-01T00:00:00",
          "1971-07-01T00:00:00",
          "1971-08-01T00:00:00",
          "1971-09-01T00:00:00",
          "1971-10-01T00:00:00",
          "1971-11-01T00:00:00",
          "1971-12-01T00:00:00",
          "1972-01-01T00:00:00",
          "1972-02-01T00:00:00",
          "1972-03-01T00:00:00",
          "1972-04-01T00:00:00",
          "1972-05-01T00:00:00",
          "1972-06-01T00:00:00",
          "1972-07-01T00:00:00",
          "1972-08-01T00:00:00",
          "1972-09-01T00:00:00",
          "1972-10-01T00:00:00",
          "1972-11-01T00:00:00",
          "1972-12-01T00:00:00",
          "1973-01-01T00:00:00",
          "1973-02-01T00:00:00",
          "1973-03-01T00:00:00",
          "1973-04-01T00:00:00",
          "1973-05-01T00:00:00",
          "1973-06-01T00:00:00",
          "1973-07-01T00:00:00",
          "1973-08-01T00:00:00",
          "1973-09-01T00:00:00",
          "1973-10-01T00:00:00",
          "1973-11-01T00:00:00",
          "1973-12-01T00:00:00",
          "1974-01-01T00:00:00",
          "1974-02-01T00:00:00",
          "1974-03-01T00:00:00",
          "1974-04-01T00:00:00",
          "1974-05-01T00:00:00",
          "1974-06-01T00:00:00",
          "1974-07-01T00:00:00",
          "1974-08-01T00:00:00",
          "1974-09-01T00:00:00",
          "1974-10-01T00:00:00",
          "1974-11-01T00:00:00",
          "1974-12-01T00:00:00",
          "1975-01-01T00:00:00",
          "1975-02-01T00:00:00",
          "1975-03-01T00:00:00",
          "1975-04-01T00:00:00",
          "1975-05-01T00:00:00",
          "1975-06-01T00:00:00",
          "1975-07-01T00:00:00",
          "1975-08-01T00:00:00",
          "1975-09-01T00:00:00",
          "1975-10-01T00:00:00",
          "1975-11-01T00:00:00",
          "1975-12-01T00:00:00",
          "1976-01-01T00:00:00",
          "1976-02-01T00:00:00",
          "1976-03-01T00:00:00",
          "1976-04-01T00:00:00",
          "1976-05-01T00:00:00",
          "1976-06-01T00:00:00",
          "1976-07-01T00:00:00",
          "1976-08-01T00:00:00",
          "1976-09-01T00:00:00",
          "1976-10-01T00:00:00",
          "1976-11-01T00:00:00",
          "1976-12-01T00:00:00",
          "1977-01-01T00:00:00",
          "1977-02-01T00:00:00",
          "1977-03-01T00:00:00",
          "1977-04-01T00:00:00",
          "1977-05-01T00:00:00",
          "1977-06-01T00:00:00",
          "1977-07-01T00:00:00",
          "1977-08-01T00:00:00",
          "1977-09-01T00:00:00",
          "1977-10-01T00:00:00",
          "1977-11-01T00:00:00",
          "1977-12-01T00:00:00",
          "1978-01-01T00:00:00",
          "1978-02-01T00:00:00",
          "1978-03-01T00:00:00",
          "1978-04-01T00:00:00",
          "1978-05-01T00:00:00",
          "1978-06-01T00:00:00",
          "1978-07-01T00:00:00",
          "1978-08-01T00:00:00",
          "1978-09-01T00:00:00",
          "1978-10-01T00:00:00",
          "1978-11-01T00:00:00",
          "1978-12-01T00:00:00",
          "1979-01-01T00:00:00",
          "1979-02-01T00:00:00",
          "1979-03-01T00:00:00",
          "1979-04-01T00:00:00",
          "1979-05-01T00:00:00",
          "1979-06-01T00:00:00",
          "1979-07-01T00:00:00",
          "1979-08-01T00:00:00",
          "1979-09-01T00:00:00",
          "1979-10-01T00:00:00",
          "1979-11-01T00:00:00",
          "1979-12-01T00:00:00",
          "1980-01-01T00:00:00",
          "1980-02-01T00:00:00",
          "1980-03-01T00:00:00",
          "1980-04-01T00:00:00",
          "1980-05-01T00:00:00",
          "1980-06-01T00:00:00",
          "1980-07-01T00:00:00",
          "1980-08-01T00:00:00",
          "1980-09-01T00:00:00",
          "1980-10-01T00:00:00",
          "1980-11-01T00:00:00",
          "1980-12-01T00:00:00",
          "1981-01-01T00:00:00",
          "1981-02-01T00:00:00",
          "1981-03-01T00:00:00",
          "1981-04-01T00:00:00",
          "1981-05-01T00:00:00",
          "1981-06-01T00:00:00",
          "1981-07-01T00:00:00",
          "1981-08-01T00:00:00",
          "1981-09-01T00:00:00",
          "1981-10-01T00:00:00",
          "1981-11-01T00:00:00",
          "1981-12-01T00:00:00",
          "1982-01-01T00:00:00",
          "1982-02-01T00:00:00",
          "1982-03-01T00:00:00",
          "1982-04-01T00:00:00",
          "1982-05-01T00:00:00",
          "1982-06-01T00:00:00",
          "1982-07-01T00:00:00",
          "1982-08-01T00:00:00",
          "1982-09-01T00:00:00",
          "1982-10-01T00:00:00",
          "1982-11-01T00:00:00",
          "1982-12-01T00:00:00",
          "1983-01-01T00:00:00",
          "1983-02-01T00:00:00",
          "1983-03-01T00:00:00",
          "1983-04-01T00:00:00",
          "1983-05-01T00:00:00",
          "1983-06-01T00:00:00",
          "1983-07-01T00:00:00",
          "1983-08-01T00:00:00",
          "1983-09-01T00:00:00",
          "1983-10-01T00:00:00",
          "1983-11-01T00:00:00",
          "1983-12-01T00:00:00",
          "1984-01-01T00:00:00",
          "1984-02-01T00:00:00",
          "1984-03-01T00:00:00",
          "1984-04-01T00:00:00",
          "1984-05-01T00:00:00",
          "1984-06-01T00:00:00",
          "1984-07-01T00:00:00",
          "1984-08-01T00:00:00",
          "1984-09-01T00:00:00",
          "1984-10-01T00:00:00",
          "1984-11-01T00:00:00",
          "1984-12-01T00:00:00",
          "1985-01-01T00:00:00",
          "1985-02-01T00:00:00",
          "1985-03-01T00:00:00",
          "1985-04-01T00:00:00",
          "1985-05-01T00:00:00",
          "1985-06-01T00:00:00",
          "1985-07-01T00:00:00",
          "1985-08-01T00:00:00",
          "1985-09-01T00:00:00",
          "1985-10-01T00:00:00",
          "1985-11-01T00:00:00",
          "1985-12-01T00:00:00",
          "1986-01-01T00:00:00",
          "1986-02-01T00:00:00",
          "1986-03-01T00:00:00",
          "1986-04-01T00:00:00",
          "1986-05-01T00:00:00",
          "1986-06-01T00:00:00",
          "1986-07-01T00:00:00",
          "1986-08-01T00:00:00",
          "1986-09-01T00:00:00",
          "1986-10-01T00:00:00",
          "1986-11-01T00:00:00",
          "1986-12-01T00:00:00",
          "1987-01-01T00:00:00",
          "1987-02-01T00:00:00",
          "1987-03-01T00:00:00",
          "1987-04-01T00:00:00",
          "1987-05-01T00:00:00",
          "1987-06-01T00:00:00",
          "1987-07-01T00:00:00",
          "1987-08-01T00:00:00",
          "1987-09-01T00:00:00",
          "1987-10-01T00:00:00",
          "1987-11-01T00:00:00",
          "1987-12-01T00:00:00",
          "1988-01-01T00:00:00",
          "1988-02-01T00:00:00",
          "1988-03-01T00:00:00",
          "1988-04-01T00:00:00",
          "1988-05-01T00:00:00",
          "1988-06-01T00:00:00",
          "1988-07-01T00:00:00",
          "1988-08-01T00:00:00",
          "1988-09-01T00:00:00",
          "1988-10-01T00:00:00",
          "1988-11-01T00:00:00",
          "1988-12-01T00:00:00",
          "1989-01-01T00:00:00",
          "1989-02-01T00:00:00",
          "1989-03-01T00:00:00",
          "1989-04-01T00:00:00",
          "1989-05-01T00:00:00",
          "1989-06-01T00:00:00",
          "1989-07-01T00:00:00",
          "1989-08-01T00:00:00",
          "1989-09-01T00:00:00",
          "1989-10-01T00:00:00",
          "1989-11-01T00:00:00",
          "1989-12-01T00:00:00",
          "1990-01-01T00:00:00",
          "1990-02-01T00:00:00",
          "1990-03-01T00:00:00",
          "1990-04-01T00:00:00",
          "1990-05-01T00:00:00",
          "1990-06-01T00:00:00",
          "1990-07-01T00:00:00",
          "1990-08-01T00:00:00",
          "1990-09-01T00:00:00",
          "1990-10-01T00:00:00",
          "1990-11-01T00:00:00",
          "1990-12-01T00:00:00",
          "1991-01-01T00:00:00",
          "1991-02-01T00:00:00",
          "1991-03-01T00:00:00",
          "1991-04-01T00:00:00",
          "1991-05-01T00:00:00",
          "1991-06-01T00:00:00",
          "1991-07-01T00:00:00",
          "1991-08-01T00:00:00",
          "1991-09-01T00:00:00",
          "1991-10-01T00:00:00",
          "1991-11-01T00:00:00",
          "1991-12-01T00:00:00",
          "1992-01-01T00:00:00",
          "1992-02-01T00:00:00",
          "1992-03-01T00:00:00",
          "1992-04-01T00:00:00",
          "1992-05-01T00:00:00",
          "1992-06-01T00:00:00",
          "1992-07-01T00:00:00",
          "1992-08-01T00:00:00",
          "1992-09-01T00:00:00",
          "1992-10-01T00:00:00",
          "1992-11-01T00:00:00",
          "1992-12-01T00:00:00",
          "1993-01-01T00:00:00",
          "1993-02-01T00:00:00",
          "1993-03-01T00:00:00",
          "1993-04-01T00:00:00",
          "1993-05-01T00:00:00",
          "1993-06-01T00:00:00",
          "1993-07-01T00:00:00",
          "1993-08-01T00:00:00",
          "1993-09-01T00:00:00",
          "1993-10-01T00:00:00",
          "1993-11-01T00:00:00",
          "1993-12-01T00:00:00",
          "1994-01-01T00:00:00",
          "1994-02-01T00:00:00",
          "1994-03-01T00:00:00",
          "1994-04-01T00:00:00",
          "1994-05-01T00:00:00",
          "1994-06-01T00:00:00",
          "1994-07-01T00:00:00",
          "1994-08-01T00:00:00",
          "1994-09-01T00:00:00",
          "1994-10-01T00:00:00",
          "1994-11-01T00:00:00",
          "1994-12-01T00:00:00",
          "1995-01-01T00:00:00",
          "1995-02-01T00:00:00",
          "1995-03-01T00:00:00",
          "1995-04-01T00:00:00",
          "1995-05-01T00:00:00",
          "1995-06-01T00:00:00",
          "1995-07-01T00:00:00",
          "1995-08-01T00:00:00",
          "1995-09-01T00:00:00",
          "1995-10-01T00:00:00",
          "1995-11-01T00:00:00",
          "1995-12-01T00:00:00",
          "1996-01-01T00:00:00",
          "1996-02-01T00:00:00",
          "1996-03-01T00:00:00",
          "1996-04-01T00:00:00",
          "1996-05-01T00:00:00",
          "1996-06-01T00:00:00",
          "1996-07-01T00:00:00",
          "1996-08-01T00:00:00",
          "1996-09-01T00:00:00",
          "1996-10-01T00:00:00",
          "1996-11-01T00:00:00",
          "1996-12-01T00:00:00",
          "1997-01-01T00:00:00",
          "1997-02-01T00:00:00",
          "1997-03-01T00:00:00",
          "1997-04-01T00:00:00",
          "1997-05-01T00:00:00",
          "1997-06-01T00:00:00",
          "1997-07-01T00:00:00",
          "1997-08-01T00:00:00",
          "1997-09-01T00:00:00",
          "1997-10-01T00:00:00",
          "1997-11-01T00:00:00",
          "1997-12-01T00:00:00",
          "1998-01-01T00:00:00",
          "1998-02-01T00:00:00",
          "1998-03-01T00:00:00",
          "1998-04-01T00:00:00",
          "1998-05-01T00:00:00",
          "1998-06-01T00:00:00",
          "1998-07-01T00:00:00",
          "1998-08-01T00:00:00",
          "1998-09-01T00:00:00",
          "1998-10-01T00:00:00",
          "1998-11-01T00:00:00",
          "1998-12-01T00:00:00",
          "1999-01-01T00:00:00",
          "1999-02-01T00:00:00",
          "1999-03-01T00:00:00",
          "1999-04-01T00:00:00",
          "1999-05-01T00:00:00",
          "1999-06-01T00:00:00",
          "1999-07-01T00:00:00",
          "1999-08-01T00:00:00",
          "1999-09-01T00:00:00",
          "1999-10-01T00:00:00",
          "1999-11-01T00:00:00",
          "1999-12-01T00:00:00",
          "2000-01-01T00:00:00",
          "2000-02-01T00:00:00",
          "2000-03-01T00:00:00",
          "2000-04-01T00:00:00",
          "2000-05-01T00:00:00",
          "2000-06-01T00:00:00",
          "2000-07-01T00:00:00",
          "2000-08-01T00:00:00",
          "2000-09-01T00:00:00",
          "2000-10-01T00:00:00",
          "2000-11-01T00:00:00",
          "2000-12-01T00:00:00",
          "2001-01-01T00:00:00",
          "2001-02-01T00:00:00",
          "2001-03-01T00:00:00",
          "2001-04-01T00:00:00",
          "2001-05-01T00:00:00",
          "2001-06-01T00:00:00",
          "2001-07-01T00:00:00",
          "2001-08-01T00:00:00",
          "2001-09-01T00:00:00",
          "2001-10-01T00:00:00",
          "2001-11-01T00:00:00",
          "2001-12-01T00:00:00",
          "2002-01-01T00:00:00",
          "2002-02-01T00:00:00",
          "2002-03-01T00:00:00",
          "2002-04-01T00:00:00",
          "2002-05-01T00:00:00",
          "2002-06-01T00:00:00",
          "2002-07-01T00:00:00",
          "2002-08-01T00:00:00",
          "2002-09-01T00:00:00",
          "2002-10-01T00:00:00",
          "2002-11-01T00:00:00",
          "2002-12-01T00:00:00",
          "2003-01-01T00:00:00",
          "2003-02-01T00:00:00",
          "2003-03-01T00:00:00",
          "2003-04-01T00:00:00",
          "2003-05-01T00:00:00",
          "2003-06-01T00:00:00",
          "2003-07-01T00:00:00",
          "2003-08-01T00:00:00",
          "2003-09-01T00:00:00",
          "2003-10-01T00:00:00",
          "2003-11-01T00:00:00",
          "2003-12-01T00:00:00",
          "2004-01-01T00:00:00",
          "2004-02-01T00:00:00",
          "2004-03-01T00:00:00",
          "2004-04-01T00:00:00",
          "2004-05-01T00:00:00",
          "2004-06-01T00:00:00",
          "2004-07-01T00:00:00",
          "2004-08-01T00:00:00",
          "2004-09-01T00:00:00",
          "2004-10-01T00:00:00",
          "2004-11-01T00:00:00",
          "2004-12-01T00:00:00",
          "2005-01-01T00:00:00",
          "2005-02-01T00:00:00",
          "2005-03-01T00:00:00",
          "2005-04-01T00:00:00",
          "2005-05-01T00:00:00",
          "2005-06-01T00:00:00",
          "2005-07-01T00:00:00",
          "2005-08-01T00:00:00",
          "2005-09-01T00:00:00",
          "2005-10-01T00:00:00",
          "2005-11-01T00:00:00",
          "2005-12-01T00:00:00",
          "2006-01-01T00:00:00",
          "2006-02-01T00:00:00",
          "2006-03-01T00:00:00",
          "2006-04-01T00:00:00",
          "2006-05-01T00:00:00",
          "2006-06-01T00:00:00",
          "2006-07-01T00:00:00",
          "2006-08-01T00:00:00",
          "2006-09-01T00:00:00",
          "2006-10-01T00:00:00",
          "2006-11-01T00:00:00",
          "2006-12-01T00:00:00",
          "2007-01-01T00:00:00",
          "2007-02-01T00:00:00",
          "2007-03-01T00:00:00",
          "2007-04-01T00:00:00",
          "2007-05-01T00:00:00",
          "2007-06-01T00:00:00",
          "2007-07-01T00:00:00",
          "2007-08-01T00:00:00",
          "2007-09-01T00:00:00",
          "2007-10-01T00:00:00",
          "2007-11-01T00:00:00",
          "2007-12-01T00:00:00",
          "2008-01-01T00:00:00",
          "2008-02-01T00:00:00",
          "2008-03-01T00:00:00",
          "2008-04-01T00:00:00",
          "2008-05-01T00:00:00",
          "2008-06-01T00:00:00",
          "2008-07-01T00:00:00",
          "2008-08-01T00:00:00",
          "2008-09-01T00:00:00",
          "2008-10-01T00:00:00",
          "2008-11-01T00:00:00",
          "2008-12-01T00:00:00",
          "2009-01-01T00:00:00",
          "2009-02-01T00:00:00",
          "2009-03-01T00:00:00",
          "2009-04-01T00:00:00",
          "2009-05-01T00:00:00",
          "2009-06-01T00:00:00",
          "2009-07-01T00:00:00",
          "2009-08-01T00:00:00",
          "2009-09-01T00:00:00",
          "2009-10-01T00:00:00",
          "2009-11-01T00:00:00",
          "2009-12-01T00:00:00",
          "2010-01-01T00:00:00",
          "2010-02-01T00:00:00",
          "2010-03-01T00:00:00",
          "2010-04-01T00:00:00",
          "2010-05-01T00:00:00",
          "2010-06-01T00:00:00",
          "2010-07-01T00:00:00",
          "2010-08-01T00:00:00",
          "2010-09-01T00:00:00",
          "2010-10-01T00:00:00",
          "2010-11-01T00:00:00",
          "2010-12-01T00:00:00",
          "2011-01-01T00:00:00",
          "2011-02-01T00:00:00",
          "2011-03-01T00:00:00",
          "2011-04-01T00:00:00",
          "2011-05-01T00:00:00",
          "2011-06-01T00:00:00",
          "2011-07-01T00:00:00",
          "2011-08-01T00:00:00",
          "2011-09-01T00:00:00",
          "2011-10-01T00:00:00",
          "2011-11-01T00:00:00",
          "2011-12-01T00:00:00",
          "2012-01-01T00:00:00",
          "2012-02-01T00:00:00",
          "2012-03-01T00:00:00",
          "2012-04-01T00:00:00",
          "2012-05-01T00:00:00",
          "2012-06-01T00:00:00",
          "2012-07-01T00:00:00",
          "2012-08-01T00:00:00",
          "2012-09-01T00:00:00",
          "2012-10-01T00:00:00",
          "2012-11-01T00:00:00",
          "2012-12-01T00:00:00",
          "2013-01-01T00:00:00",
          "2013-02-01T00:00:00",
          "2013-03-01T00:00:00",
          "2013-04-01T00:00:00",
          "2013-05-01T00:00:00",
          "2013-06-01T00:00:00",
          "2013-07-01T00:00:00",
          "2013-08-01T00:00:00",
          "2013-09-01T00:00:00",
          "2013-10-01T00:00:00",
          "2013-11-01T00:00:00",
          "2013-12-01T00:00:00",
          "2014-01-01T00:00:00",
          "2014-02-01T00:00:00",
          "2014-03-01T00:00:00",
          "2014-04-01T00:00:00",
          "2014-05-01T00:00:00",
          "2014-06-01T00:00:00",
          "2014-07-01T00:00:00",
          "2014-08-01T00:00:00",
          "2014-09-01T00:00:00",
          "2014-10-01T00:00:00",
          "2014-11-01T00:00:00",
          "2014-12-01T00:00:00",
          "2015-01-01T00:00:00",
          "2015-02-01T00:00:00",
          "2015-03-01T00:00:00",
          "2015-04-01T00:00:00",
          "2015-05-01T00:00:00",
          "2015-06-01T00:00:00",
          "2015-07-01T00:00:00",
          "2015-08-01T00:00:00",
          "2015-09-01T00:00:00",
          "2015-10-01T00:00:00",
          "2015-11-01T00:00:00",
          "2015-12-01T00:00:00",
          "2016-01-01T00:00:00",
          "2016-02-01T00:00:00",
          "2016-03-01T00:00:00",
          "2016-04-01T00:00:00",
          "2016-05-01T00:00:00",
          "2016-06-01T00:00:00",
          "2016-07-01T00:00:00",
          "2016-08-01T00:00:00",
          "2016-09-01T00:00:00"
         ],
         "y": [
          116.09677419354838,
          154.06666666666666,
          275.6774193548387,
          692.7741935483871,
          1193.75,
          1926.4193548387098,
          3198.5666666666666,
          2213.935483870968,
          1178.3666666666666,
          520.6451612903226,
          276.64516129032256,
          202.36666666666667,
          171.32258064516128,
          199.73333333333332,
          332.96774193548384,
          495.1290322580645,
          733.0714285714286,
          2626.3548387096776,
          3961.366666666667,
          2508.1935483870966,
          1195.5333333333333,
          549.7096774193549,
          334.5806451612903,
          234.76666666666668,
          198.70967741935485,
          217.66666666666666,
          426.64516129032256,
          644.6129032258065,
          1220.9642857142858,
          1787.4516129032259,
          2844.3333333333335,
          2287.3870967741937,
          1257.7,
          511.03225806451616,
          311.64516129032256,
          217.86666666666667,
          187.67741935483872,
          245.66666666666666,
          361.5806451612903,
          605.9354838709677,
          829.1034482758621,
          1844.1612903225807,
          2199,
          1970.5806451612902,
          988.7333333333333,
          425.741935483871,
          284.2258064516129,
          242.3,
          246.90322580645162,
          256.5,
          351.64516129032256,
          531,
          698.3928571428571,
          925.741935483871,
          1386.8666666666666,
          1128.8709677419354,
          453.03333333333336,
          329.741935483871,
          265.5483870967742,
          214.36666666666667,
          191.90322580645162,
          230,
          447.61290322580646,
          588.0322580645161,
          717.7857142857143,
          909.5806451612904,
          1083.9,
          1805.9354838709678,
          1358.2,
          623.6129032258065,
          399.19354838709677,
          289.5,
          239.2258064516129,
          219.53333333333333,
          355.35483870967744,
          510.80645161290323,
          666.8571428571429,
          1091.032258064516,
          2881.866666666667,
          2674.3225806451615,
          1372.3,
          615.9354838709677,
          397.6774193548387,
          292.4,
          242.38709677419354,
          307.3333333333333,
          571.3225806451613,
          818.1935483870968,
          1082.9310344827586,
          2941.2903225806454,
          2978.9,
          1713.258064516129,
          964.4333333333333,
          512.0322580645161,
          370.19354838709677,
          284,
          218.93548387096774,
          220.36666666666667,
          343.4516129032258,
          614.8387096774194,
          797.7142857142857,
          1155.9032258064517,
          1467.2,
          957.2258064516129,
          465.8333333333333,
          331.19354838709677,
          247.32258064516128,
          198.7,
          173.90322580645162,
          212.93333333333334,
          400.51612903225805,
          648.9032258064516,
          916.4642857142857,
          3647.483870967742,
          3964.233333333333,
          2323.7741935483873,
          1178.0666666666666,
          519.1935483870968,
          357.83870967741933,
          265.46666666666664,
          202.48387096774192,
          268.23333333333335,
          471.741935483871,
          672.1935483870968,
          1121.642857142857,
          2650.2903225806454,
          2322.1,
          1685.032258064516,
          934.1666666666666,
          488.2258064516129,
          351.35483870967744,
          276.1666666666667,
          225.19354838709677,
          213.36666666666667,
          349.5806451612903,
          535.483870967742,
          809.2758620689655,
          1382.516129032258,
          2367.5,
          2014.6774193548388,
          855.5,
          428.35483870967744,
          306.4193548387097,
          236.06666666666666,
          202.58064516129033,
          234.06666666666666,
          346.7096774193548,
          607.1612903225806,
          1839.892857142857,
          3127.3225806451615,
          2959.633333333333,
          2363,
          1414,
          630.2903225806451,
          408.3225806451613,
          297.1666666666667,
          243.70967741935485,
          267.9,
          428.2258064516129,
          627.1612903225806,
          876.7857142857143,
          1249.258064516129,
          2753.2,
          1659.0645161290322,
          844.9,
          436.19354838709677,
          326.7741935483871,
          260.6666666666667,
          224.61290322580646,
          273.46666666666664,
          448.96774193548384,
          713.258064516129,
          1184.5357142857142,
          2628.4193548387098,
          2211.4,
          1294.967741935484,
          633.4333333333333,
          396.3225806451613,
          313.83870967741933,
          253.5,
          232.74193548387098,
          312.93333333333334,
          546.0322580645161,
          829.741935483871,
          1111.5862068965516,
          3101.1612903225805,
          4457.533333333334,
          2675.2903225806454,
          1435.6333333333334,
          690.2903225806451,
          431.06451612903226,
          298.6666666666667,
          276.7096774193548,
          328.5,
          407.16129032258067,
          709.7096774193549,
          1219.857142857143,
          2294.6451612903224,
          2759.6,
          1678.1290322580646,
          814.9666666666667,
          449.5483870967742,
          319.5483870967742,
          259.7,
          204.70967741935485,
          238.96666666666667,
          337.741935483871,
          477.2258064516129,
          667.0357142857143,
          974.741935483871,
          1833.1666666666667,
          1558.258064516129,
          646.7666666666667,
          373.51612903225805,
          281.1290322580645,
          213.66666666666666,
          195.90322580645162,
          231.46666666666667,
          316.16129032258067,
          471.5483870967742,
          614.4642857142857,
          952.483870967742,
          1630.5666666666666,
          1604.8064516129032,
          992.2666666666667,
          465.4193548387097,
          325.0967741935484,
          240.9,
          189.41935483870967,
          216.43333333333334,
          386.16129032258067,
          710.3225806451613,
          1335.896551724138,
          2103.6774193548385,
          2436.733333333333,
          1949.0967741935483,
          889.7333333333333,
          426.48387096774195,
          297.5483870967742,
          220.8,
          194.61290322580646,
          233.76666666666668,
          402.3225806451613,
          557.3548387096774,
          907.5,
          2555.0967741935483,
          3187.6666666666665,
          1958.032258064516,
          922.7,
          469.3225806451613,
          334.96774193548384,
          247.93333333333334,
          205.61290322580646,
          238.33333333333334,
          393.4193548387097,
          730.2258064516129,
          971,
          1110.967741935484,
          1378,
          1438.9354838709678,
          820.7666666666667,
          399.741935483871,
          289.38709677419354,
          218.56666666666666,
          195.25806451612902,
          208.86666666666667,
          374.19354838709677,
          584.8387096774194,
          822.8571428571429,
          2081,
          4281.9,
          3125.2580645161293,
          1609.2333333333333,
          762.741935483871,
          448.83870967741933,
          327.43333333333334,
          274.4193548387097,
          280.73333333333335,
          399.9032258064516,
          687.0322580645161,
          1471.2413793103449,
          5741.741935483871,
          5018,
          3176.516129032258,
          1756.3666666666666,
          852.8709677419355,
          477,
          336,
          292.2903225806452,
          348.3,
          400.51612903225805,
          445.5483870967742,
          520.8214285714286,
          703.4516129032259,
          862.2333333333333,
          709.9354838709677,
          410.23333333333335,
          323.7741935483871,
          262.7096774193548,
          213.6,
          174.90322580645162,
          194.6,
          317.48387096774195,
          574.9677419354839,
          2308.1428571428573,
          4350.645161290323,
          3698.0666666666666,
          2564.0967741935483,
          1209.1333333333334,
          551.3548387096774,
          368.38709677419354,
          259.96666666666664,
          204.93548387096774,
          227.36666666666667,
          373.38709677419354,
          588.516129032258,
          916.2857142857143,
          3566.1290322580644,
          3025.0333333333333,
          2565.9032258064517,
          1637.5333333333333,
          782.0322580645161,
          458.96774193548384,
          325.6666666666667,
          282.48387096774195,
          342.76666666666665,
          600.9677419354839,
          1656.4516129032259,
          3599.2758620689656,
          5569.967741935484,
          3427.1666666666665,
          1736.0645161290322,
          837.8333333333334,
          484.6774193548387,
          364.64516129032256,
          285.2,
          237.48387096774192,
          323.23333333333335,
          429.38709677419354,
          609.0645161290323,
          964.2142857142857,
          4101.8387096774195,
          4584.266666666666,
          3191.8064516129034,
          1759.1333333333334,
          812.8064516129032,
          470.03225806451616,
          331.8333333333333,
          270.61290322580646,
          291.6666666666667,
          507.1290322580645,
          779.0967741935484,
          1048.7857142857142,
          2090.8709677419356,
          3464.1666666666665,
          2306.483870967742,
          1203.8666666666666,
          586.1612903225806,
          406.1290322580645,
          301.2,
          228.61290322580646,
          255.5,
          474.6774193548387,
          918.2903225806451,
          1997.892857142857,
          2971.6774193548385,
          3314.4,
          2351,
          1491.1666666666667,
          729.1612903225806,
          449.5483870967742,
          332.43333333333334,
          267.6774193548387,
          300.5,
          422.06451612903226,
          651.6451612903226,
          1106.551724137931,
          3883.3225806451615,
          4063.7,
          5181.8387096774195,
          2822,
          1321.516129032258,
          659.4516129032259,
          427.43333333333334,
          329.96774193548384,
          376.1333333333333,
          541.6774193548387,
          642.0645161290323,
          937.8928571428571,
          7260.548387096775,
          3648,
          2039.5483870967741,
          1075.0666666666666,
          591.741935483871,
          418.93548387096774,
          320.6,
          295.7741935483871,
          335.76666666666665,
          552.3225806451613,
          1646.225806451613,
          8630.107142857143,
          7995.387096774193,
          4178.9,
          2192.3225806451615,
          1108.3,
          656.8387096774194,
          509.5483870967742,
          408.73333333333335,
          348.5483870967742,
          408.76666666666665,
          678.8387096774194,
          857.483870967742,
          1025.142857142857,
          2694.4193548387098,
          3163.766666666667,
          1886.967741935484,
          1003.9666666666667,
          520.9354838709677,
          381.2903225806452,
          283.3666666666667,
          210.4516129032258,
          238.53333333333333,
          396.64516129032256,
          588.4193548387096,
          811.4827586206897,
          2441.3548387096776,
          4072.1,
          2236.2903225806454,
          1287.3,
          643.3225806451613,
          409.35483870967744,
          295.2,
          220.58064516129033,
          289.46666666666664,
          393.06451612903226,
          595.6129032258065,
          890.3928571428571,
          2621.8387096774195,
          5657.066666666667,
          3373.451612903226,
          1823.8666666666666,
          944.4193548387096,
          522.1935483870968,
          367.46666666666664,
          277.64516129032256,
          336.8666666666667,
          490.0967741935484,
          876.741935483871,
          1967.7142857142858,
          4357.419354838709,
          5234.833333333333,
          3461.2258064516127,
          1877.8333333333333,
          949.483870967742,
          555.7096774193549,
          410.8,
          313.06451612903226,
          348.4,
          741.9677419354839,
          1688.1935483870968,
          4062.3214285714284,
          6540.258064516129,
          5356.666666666667,
          3024,
          1532.1666666666667,
          831.6774193548387,
          544.3870967741935,
          421.1666666666667,
          359,
          469.3666666666667,
          803.1290322580645,
          1002.258064516129,
          1329.8620689655172,
          2236.2580645161293,
          2274.8,
          1689.3225806451612,
          834,
          505.4516129032258,
          404.2903225806452,
          326.03333333333336,
          274.03225806451616,
          330.26666666666665,
          466.93548387096774,
          690,
          1052.7142857142858,
          2318.3225806451615,
          2552.4333333333334,
          1803.225806451613,
          926.1666666666666,
          513.741935483871,
          390.4193548387097,
          315.8666666666667,
          268.61290322580646,
          286.8333333333333,
          436.3225806451613,
          620.6129032258065,
          991.8571428571429,
          2806.1290322580644,
          4140.433333333333,
          2306.9032258064517,
          1258.5666666666666,
          633.9354838709677,
          436.5806451612903,
          346.76666666666665,
          279.48387096774195,
          287.8,
          372.06451612903226,
          544.0645161290323,
          783.8571428571429,
          1145.8387096774193,
          2745.1,
          2443.0967741935483,
          1582.0333333333333,
          769.1935483870968,
          441.80645161290323,
          326.93333333333334,
          277.80645161290323,
          378.43333333333334,
          566.1290322580645,
          1700.0645161290322,
          4719.379310344828,
          4205.129032258064,
          4707.866666666667,
          2634.4193548387098,
          1426.7,
          781.4193548387096,
          516.4516129032259,
          397.6333333333333,
          305.51612903225805,
          356.4,
          554.0322580645161,
          790.1935483870968,
          1755.25,
          6893.096774193548,
          7422.7,
          3738.8064516129034,
          1862.9666666666667,
          1015.483870967742,
          637.9354838709677,
          469.06666666666666,
          437.0967741935484,
          525.9333333333333,
          775.6129032258065,
          1226.225806451613,
          2996.8214285714284,
          4635.903225806452,
          3484.233333333333,
          1987.8064516129032,
          1056.5333333333333,
          619.516129032258,
          470.80645161290323,
          374.9,
          326.35483870967744,
          378.73333333333335,
          550.0967741935484,
          850.483870967742,
          1385.392857142857,
          2781.1290322580644,
          2570.3,
          1688.258064516129,
          1038.6333333333334,
          589.483870967742,
          436.48387096774195,
          353.2,
          292.35483870967744,
          344.3666666666667,
          447.9032258064516,
          718.7741935483871,
          829.7586206896551,
          989.9354838709677,
          1573.6,
          1699.032258064516,
          1154.3,
          582.8709677419355,
          415.4193548387097,
          325.26666666666665,
          285.48387096774195,
          310.23333333333335,
          387.1290322580645,
          526.9677419354839,
          703.8214285714286,
          894.9677419354839,
          1145.4,
          1110.516129032258,
          631.5,
          403.5483870967742,
          316.741935483871,
          248.96666666666667,
          232.90322580645162,
          278.73333333333335,
          525.5483870967741,
          909.0967741935484,
          1768.892857142857,
          2613.9032258064517,
          2300.7,
          2288.8064516129034,
          1301.5333333333333,
          551.6451612903226,
          381.61290322580646,
          298.96666666666664,
          234.1290322580645,
          283.8333333333333,
          510.83870967741933,
          911.6774193548387,
          2641.8214285714284,
          4019.2903225806454,
          4807.266666666666,
          2846.2903225806454,
          1467.2666666666667,
          735.3548387096774,
          472,
          335.73333333333335,
          265.5806451612903,
          262.93333333333334,
          400.48387096774195,
          602.4193548387096,
          877.8965517241379,
          3622.064516129032,
          4745.8,
          3830.2903225806454,
          2140.233333333333,
          1034.3548387096773,
          541.2258064516129,
          403,
          379.51612903225805,
          378.43333333333334,
          470.5483870967742,
          691.5483870967741,
          1043.75,
          2081.4193548387098,
          2609.866666666667,
          2665.0967741935483,
          1634.5666666666666,
          781.2258064516129,
          492.48387096774195,
          373.6333333333333,
          309.19354838709677,
          303.6666666666667,
          529.1612903225806,
          983.3548387096774,
          1475.2142857142858,
          3519.4193548387098,
          6021.133333333333,
          4600.258064516129,
          2476.4,
          1217.967741935484,
          676.483870967742,
          490.5,
          416.83870967741933,
          519.1333333333333,
          698.8709677419355,
          939.3548387096774,
          1466.392857142857,
          2786.3870967741937,
          4659.033333333334,
          3071.0967741935483,
          1526.7,
          787.9677419354839,
          521,
          401.1666666666667,
          339.06451612903226,
          441.73333333333335,
          709.7096774193549,
          1379.7096774193549,
          2260.3793103448274,
          2590.935483870968,
          2941.3,
          2278.1290322580644,
          1277.4666666666667,
          652.8387096774194,
          466.2903225806452,
          360.8666666666667,
          302.8709677419355,
          374.8,
          515.1935483870968,
          744.0967741935484,
          1071.357142857143,
          2109.0967741935483,
          3166.6,
          2733.8064516129034,
          1366.5666666666666,
          648.258064516129,
          450.80645161290323,
          345.7,
          268.3225806451613,
          281.26666666666665,
          373.9032258064516,
          484.51612903225805,
          631.7142857142857,
          811.7741935483871,
          1277.9666666666667,
          1132.3870967741937,
          729.7333333333333,
          450.7096774193548,
          350.96774193548384,
          281.26666666666665,
          269.38709677419354,
          338.9,
          525.1935483870968,
          701.9354838709677,
          842.5357142857143,
          1040.4516129032259,
          1084.1,
          968.258064516129,
          555.4333333333333,
          391.80645161290323,
          315,
          250.36666666666667,
          224.74193548387098,
          270.3,
          391.93548387096774,
          540.1290322580645,
          737.9655172413793,
          1313.0645161290322,
          1677.9333333333334,
          1224.5483870967741,
          586.7666666666667,
          363,
          283.7096774193548,
          230.23333333333332,
          210.80645161290323,
          261.2,
          376,
          554.2903225806451,
          798.8214285714286,
          1044,
          1648.1,
          1781.967741935484,
          1018.1,
          469.2258064516129,
          334.2258064516129,
          252.93333333333334,
          211.7741935483871,
          223.23333333333332,
          305.80645161290323,
          421.5806451612903,
          621.0714285714286,
          896.7741935483871,
          2171.0666666666666,
          2029.2903225806451,
          1040.1666666666667,
          469.51612903225805,
          339.2903225806452,
          268.23333333333335,
          285.3225806451613,
          411.93333333333334,
          571.741935483871,
          718.7741935483871,
          888.6428571428571,
          1500.2903225806451,
          1925.3,
          1427,
          763.3666666666667,
          438.4516129032258,
          339.64516129032256,
          264.73333333333335,
          236.38709677419354,
          244.23333333333332,
          364.1290322580645,
          455.7741935483871,
          817.7241379310345,
          1109.6774193548388,
          2057.5333333333333,
          1872.483870967742,
          1041.3333333333333,
          487.5806451612903,
          343.4193548387097,
          272.76666666666665,
          229.2258064516129,
          287.26666666666665,
          406.96774193548384,
          590.9032258064516,
          1298.3214285714287,
          3122.6774193548385,
          3321.266666666667,
          3312.3870967741937,
          1833.5666666666666,
          799.9677419354839,
          428.2903225806452,
          312.3333333333333,
          265.96774193548384,
          242.1,
          290.48387096774195,
          501.258064516129,
          703.1428571428571,
          853.9354838709677,
          900.3,
          984.0322580645161,
          747.5333333333333,
          405.83870967741933,
          306.9032258064516,
          232.36666666666667,
          212.5483870967742,
          214.1,
          319.258064516129,
          511.741935483871,
          938.75,
          2139.3870967741937,
          1889.9666666666667,
          1478.483870967742,
          687.8666666666667,
          369.35483870967744,
          283.258064516129,
          221.43333333333334,
          200.96774193548387,
          261.3,
          434.8709677419355,
          538.3225806451613,
          659.551724137931,
          845.3870967741935,
          838,
          756.8064516129032,
          446.5,
          322.4516129032258,
          253.48387096774192,
          197.96666666666667,
          172.5483870967742,
          202.9,
          288.61290322580646,
          409.6774193548387,
          734.6785714285714,
          1185.516129032258,
          2885.8,
          2473,
          1166.3666666666666,
          458.51612903225805,
          299.6774193548387,
          219.96666666666667,
          188.06451612903226,
          223.83333333333334,
          312.9032258064516,
          519.9677419354839,
          840.4285714285714,
          1511.6129032258063,
          1541.4666666666667,
          741.3870967741935,
          359.93333333333334,
          277.741935483871,
          226.83870967741936,
          181.5,
          155.58064516129033,
          170.63333333333333,
          233.03225806451613,
          329.93548387096774,
          458.57142857142856,
          730.8387096774194,
          1174.8,
          757.5483870967741,
          326.73333333333335,
          243.7741935483871,
          198.93548387096774,
          152.73333333333332,
          121.61290322580645,
          153.83333333333334,
          233.25806451612902,
          369.4193548387097,
          451.7241379310345,
          588.1612903225806,
          758.7666666666667,
          685.8709677419355,
          345.1333333333333,
          254.38709677419354,
          204,
          157.73333333333332,
          117.12903225806451,
          156.7,
          229.51612903225808,
          410.1290322580645,
          694.25,
          890.9032258064516,
          1253.3,
          1315,
          734.4333333333333,
          347.38709677419354,
          242.09677419354838,
          194.23333333333332,
          168.29032258064515,
          181.63333333333333,
          297.2258064516129,
          565.258064516129,
          1152.9642857142858,
          2611.516129032258,
          3313.4,
          2518,
          1192.7333333333333,
          513.9354838709677,
          353.16129032258067,
          248.5,
          195.70967741935485,
          195.7,
          342.64516129032256,
          570.6774193548387,
          987.5,
          2292.1290322580644,
          2972.633333333333,
          2725.451612903226,
          1314.2666666666667,
          508.2903225806452,
          334.64516129032256,
          232.63333333333333,
          196.29032258064515,
          205.13333333333333,
          309.2903225806452,
          457.64516129032256,
          690.6896551724138,
          1247.5806451612902,
          3047.8,
          2132.9032258064517,
          1062.7666666666667,
          448.2258064516129,
          299.06451612903226,
          223.33333333333334,
          162.29032258064515,
          170.93333333333334,
          339.4193548387097,
          605.0322580645161,
          1135.5714285714287,
          2909.3870967741937,
          3284.9666666666667,
          3005.2903225806454,
          1623.6666666666667,
          687.8387096774194,
          397.2903225806452,
          287.8333333333333,
          210.32258064516128,
          283.23333333333335,
          420.06451612903226,
          548.0322580645161,
          709.4642857142857,
          1241.774193548387,
          1785.1,
          1934.225806451613,
          1271.1333333333334,
          543.1290322580645,
          343.96774193548384,
          251.93333333333334,
          205.6451612903226,
          212.96666666666667,
          307.51612903225805,
          551.483870967742,
          887.5714285714286,
          1523.258064516129,
          2915.3,
          3122.1935483870966,
          1757.1333333333334,
          729.2258064516129,
          401.03225806451616,
          271.7,
          205.96774193548387,
          220.8,
          342.61290322580646,
          600.1612903225806,
          1061.551724137931,
          3066.7741935483873,
          3990.6,
          3163.2580645161293,
          1775.4333333333334,
          718.516129032258,
          402.83870967741933,
          277.8666666666667,
          215.25806451612902,
          236.86666666666667,
          341.83870967741933,
          528.3548387096774,
          806.3571428571429,
          1184.741935483871,
          1239.8666666666666,
          1269.774193548387,
          812.9666666666667,
          424.5806451612903,
          305.7096774193548,
          230.5,
          170.03225806451613,
          211.3,
          336.61290322580646,
          601.516129032258,
          971.5,
          1610.967741935484,
          2587.1,
          2370.483870967742,
          1497.6,
          592,
          349.4193548387097,
          246.63333333333333,
          218.29032258064515,
          265.46666666666664,
          439.03225806451616,
          811.9354838709677,
          3307.785714285714,
          3978.0967741935483,
          3291.133333333333,
          2503.4193548387098,
          1404.6,
          680.1935483870968,
          431.4193548387097,
          315.23333333333335,
          259.80645161290323,
          279.1,
          501.16129032258067,
          1204.4193548387098,
          2523.137931034483,
          2939.6129032258063,
          3033.4666666666667,
          2374.8064516129034,
          1336.9666666666667,
          573.0967741935484,
          373.06451612903226,
          274.1333333333333,
          195.90322580645162,
          264.5,
          522.0645161290323,
          895.4516129032259,
          1607.5,
          4706.903225806452,
          4503.9,
          2604.967741935484,
          1450.4333333333334,
          642.3225806451613,
          398.9032258064516,
          282.2,
          222.67741935483872,
          290.43333333333334,
          466.83870967741933,
          788.0645161290323,
          1646,
          4335.935483870968,
          4639.466666666666,
          3824.548387096774,
          2130.6666666666665,
          1011.6451612903226,
          532.4193548387096,
          354.6,
          250.58064516129033,
          262.06666666666666,
          453.7741935483871,
          1273.5483870967741,
          2841.964285714286,
          3835.4193548387098,
          4196.333333333333,
          3545.7096774193546,
          1905.2,
          875.1290322580645,
          500.03225806451616,
          354.7,
          274.741935483871,
          297.4,
          504.35483870967744,
          838.8387096774194,
          1581.3793103448277,
          2339.7096774193546,
          3195.5333333333333,
          2800.3870967741937,
          1426.5666666666666,
          602.5483870967741,
          403.64516129032256,
          291.8666666666667,
          236.48387096774192,
          292.7,
          501.16129032258067,
          1223.967741935484,
          3129.8571428571427,
          3378.8064516129034,
          3030.1666666666665,
          2273.1935483870966,
          1003.7333333333333,
          499.2258064516129,
          354.6774193548387,
          264.6333333333333,
          209.4516129032258,
          248.93333333333334,
          544.5806451612904,
          804.741935483871,
          1419.607142857143,
          2362.6451612903224,
          3451.0333333333333,
          3225,
          2076.133333333333,
          961.2903225806451,
          483.61290322580646,
          330.96666666666664,
          252.1290322580645,
          266.53333333333336,
          389.4193548387097,
          601.6774193548387,
          863.5,
          1149.1290322580646,
          1333.2,
          1414.1935483870968,
          1045.2333333333333,
          497.6774193548387,
          332.83870967741933,
          239.96666666666667,
          194.7741935483871,
          203.8,
          302.96774193548384,
          491.16129032258067,
          847.4137931034483,
          2420.935483870968,
          2933.2,
          2458.935483870968,
          1241.4333333333334,
          500.48387096774195,
          331.83870967741933,
          241.5
         ]
        }
       ],
       "layout": {
        "autosize": true,
        "template": {
         "data": {
          "bar": [
           {
            "error_x": {
             "color": "#2a3f5f"
            },
            "error_y": {
             "color": "#2a3f5f"
            },
            "marker": {
             "line": {
              "color": "#E5ECF6",
              "width": 0.5
             }
            },
            "type": "bar"
           }
          ],
          "barpolar": [
           {
            "marker": {
             "line": {
              "color": "#E5ECF6",
              "width": 0.5
             }
            },
            "type": "barpolar"
           }
          ],
          "carpet": [
           {
            "aaxis": {
             "endlinecolor": "#2a3f5f",
             "gridcolor": "white",
             "linecolor": "white",
             "minorgridcolor": "white",
             "startlinecolor": "#2a3f5f"
            },
            "baxis": {
             "endlinecolor": "#2a3f5f",
             "gridcolor": "white",
             "linecolor": "white",
             "minorgridcolor": "white",
             "startlinecolor": "#2a3f5f"
            },
            "type": "carpet"
           }
          ],
          "choropleth": [
           {
            "colorbar": {
             "outlinewidth": 0,
             "ticks": ""
            },
            "type": "choropleth"
           }
          ],
          "contour": [
           {
            "colorbar": {
             "outlinewidth": 0,
             "ticks": ""
            },
            "colorscale": [
             [
              0,
              "#0d0887"
             ],
             [
              0.1111111111111111,
              "#46039f"
             ],
             [
              0.2222222222222222,
              "#7201a8"
             ],
             [
              0.3333333333333333,
              "#9c179e"
             ],
             [
              0.4444444444444444,
              "#bd3786"
             ],
             [
              0.5555555555555556,
              "#d8576b"
             ],
             [
              0.6666666666666666,
              "#ed7953"
             ],
             [
              0.7777777777777778,
              "#fb9f3a"
             ],
             [
              0.8888888888888888,
              "#fdca26"
             ],
             [
              1,
              "#f0f921"
             ]
            ],
            "type": "contour"
           }
          ],
          "contourcarpet": [
           {
            "colorbar": {
             "outlinewidth": 0,
             "ticks": ""
            },
            "type": "contourcarpet"
           }
          ],
          "heatmap": [
           {
            "colorbar": {
             "outlinewidth": 0,
             "ticks": ""
            },
            "colorscale": [
             [
              0,
              "#0d0887"
             ],
             [
              0.1111111111111111,
              "#46039f"
             ],
             [
              0.2222222222222222,
              "#7201a8"
             ],
             [
              0.3333333333333333,
              "#9c179e"
             ],
             [
              0.4444444444444444,
              "#bd3786"
             ],
             [
              0.5555555555555556,
              "#d8576b"
             ],
             [
              0.6666666666666666,
              "#ed7953"
             ],
             [
              0.7777777777777778,
              "#fb9f3a"
             ],
             [
              0.8888888888888888,
              "#fdca26"
             ],
             [
              1,
              "#f0f921"
             ]
            ],
            "type": "heatmap"
           }
          ],
          "heatmapgl": [
           {
            "colorbar": {
             "outlinewidth": 0,
             "ticks": ""
            },
            "colorscale": [
             [
              0,
              "#0d0887"
             ],
             [
              0.1111111111111111,
              "#46039f"
             ],
             [
              0.2222222222222222,
              "#7201a8"
             ],
             [
              0.3333333333333333,
              "#9c179e"
             ],
             [
              0.4444444444444444,
              "#bd3786"
             ],
             [
              0.5555555555555556,
              "#d8576b"
             ],
             [
              0.6666666666666666,
              "#ed7953"
             ],
             [
              0.7777777777777778,
              "#fb9f3a"
             ],
             [
              0.8888888888888888,
              "#fdca26"
             ],
             [
              1,
              "#f0f921"
             ]
            ],
            "type": "heatmapgl"
           }
          ],
          "histogram": [
           {
            "marker": {
             "colorbar": {
              "outlinewidth": 0,
              "ticks": ""
             }
            },
            "type": "histogram"
           }
          ],
          "histogram2d": [
           {
            "colorbar": {
             "outlinewidth": 0,
             "ticks": ""
            },
            "colorscale": [
             [
              0,
              "#0d0887"
             ],
             [
              0.1111111111111111,
              "#46039f"
             ],
             [
              0.2222222222222222,
              "#7201a8"
             ],
             [
              0.3333333333333333,
              "#9c179e"
             ],
             [
              0.4444444444444444,
              "#bd3786"
             ],
             [
              0.5555555555555556,
              "#d8576b"
             ],
             [
              0.6666666666666666,
              "#ed7953"
             ],
             [
              0.7777777777777778,
              "#fb9f3a"
             ],
             [
              0.8888888888888888,
              "#fdca26"
             ],
             [
              1,
              "#f0f921"
             ]
            ],
            "type": "histogram2d"
           }
          ],
          "histogram2dcontour": [
           {
            "colorbar": {
             "outlinewidth": 0,
             "ticks": ""
            },
            "colorscale": [
             [
              0,
              "#0d0887"
             ],
             [
              0.1111111111111111,
              "#46039f"
             ],
             [
              0.2222222222222222,
              "#7201a8"
             ],
             [
              0.3333333333333333,
              "#9c179e"
             ],
             [
              0.4444444444444444,
              "#bd3786"
             ],
             [
              0.5555555555555556,
              "#d8576b"
             ],
             [
              0.6666666666666666,
              "#ed7953"
             ],
             [
              0.7777777777777778,
              "#fb9f3a"
             ],
             [
              0.8888888888888888,
              "#fdca26"
             ],
             [
              1,
              "#f0f921"
             ]
            ],
            "type": "histogram2dcontour"
           }
          ],
          "mesh3d": [
           {
            "colorbar": {
             "outlinewidth": 0,
             "ticks": ""
            },
            "type": "mesh3d"
           }
          ],
          "parcoords": [
           {
            "line": {
             "colorbar": {
              "outlinewidth": 0,
              "ticks": ""
             }
            },
            "type": "parcoords"
           }
          ],
          "pie": [
           {
            "automargin": true,
            "type": "pie"
           }
          ],
          "scatter": [
           {
            "marker": {
             "colorbar": {
              "outlinewidth": 0,
              "ticks": ""
             }
            },
            "type": "scatter"
           }
          ],
          "scatter3d": [
           {
            "line": {
             "colorbar": {
              "outlinewidth": 0,
              "ticks": ""
             }
            },
            "marker": {
             "colorbar": {
              "outlinewidth": 0,
              "ticks": ""
             }
            },
            "type": "scatter3d"
           }
          ],
          "scattercarpet": [
           {
            "marker": {
             "colorbar": {
              "outlinewidth": 0,
              "ticks": ""
             }
            },
            "type": "scattercarpet"
           }
          ],
          "scattergeo": [
           {
            "marker": {
             "colorbar": {
              "outlinewidth": 0,
              "ticks": ""
             }
            },
            "type": "scattergeo"
           }
          ],
          "scattergl": [
           {
            "marker": {
             "colorbar": {
              "outlinewidth": 0,
              "ticks": ""
             }
            },
            "type": "scattergl"
           }
          ],
          "scattermapbox": [
           {
            "marker": {
             "colorbar": {
              "outlinewidth": 0,
              "ticks": ""
             }
            },
            "type": "scattermapbox"
           }
          ],
          "scatterpolar": [
           {
            "marker": {
             "colorbar": {
              "outlinewidth": 0,
              "ticks": ""
             }
            },
            "type": "scatterpolar"
           }
          ],
          "scatterpolargl": [
           {
            "marker": {
             "colorbar": {
              "outlinewidth": 0,
              "ticks": ""
             }
            },
            "type": "scatterpolargl"
           }
          ],
          "scatterternary": [
           {
            "marker": {
             "colorbar": {
              "outlinewidth": 0,
              "ticks": ""
             }
            },
            "type": "scatterternary"
           }
          ],
          "surface": [
           {
            "colorbar": {
             "outlinewidth": 0,
             "ticks": ""
            },
            "colorscale": [
             [
              0,
              "#0d0887"
             ],
             [
              0.1111111111111111,
              "#46039f"
             ],
             [
              0.2222222222222222,
              "#7201a8"
             ],
             [
              0.3333333333333333,
              "#9c179e"
             ],
             [
              0.4444444444444444,
              "#bd3786"
             ],
             [
              0.5555555555555556,
              "#d8576b"
             ],
             [
              0.6666666666666666,
              "#ed7953"
             ],
             [
              0.7777777777777778,
              "#fb9f3a"
             ],
             [
              0.8888888888888888,
              "#fdca26"
             ],
             [
              1,
              "#f0f921"
             ]
            ],
            "type": "surface"
           }
          ],
          "table": [
           {
            "cells": {
             "fill": {
              "color": "#EBF0F8"
             },
             "line": {
              "color": "white"
             }
            },
            "header": {
             "fill": {
              "color": "#C8D4E3"
             },
             "line": {
              "color": "white"
             }
            },
            "type": "table"
           }
          ]
         },
         "layout": {
          "annotationdefaults": {
           "arrowcolor": "#2a3f5f",
           "arrowhead": 0,
           "arrowwidth": 1
          },
          "coloraxis": {
           "colorbar": {
            "outlinewidth": 0,
            "ticks": ""
           }
          },
          "colorscale": {
           "diverging": [
            [
             0,
             "#8e0152"
            ],
            [
             0.1,
             "#c51b7d"
            ],
            [
             0.2,
             "#de77ae"
            ],
            [
             0.3,
             "#f1b6da"
            ],
            [
             0.4,
             "#fde0ef"
            ],
            [
             0.5,
             "#f7f7f7"
            ],
            [
             0.6,
             "#e6f5d0"
            ],
            [
             0.7,
             "#b8e186"
            ],
            [
             0.8,
             "#7fbc41"
            ],
            [
             0.9,
             "#4d9221"
            ],
            [
             1,
             "#276419"
            ]
           ],
           "sequential": [
            [
             0,
             "#0d0887"
            ],
            [
             0.1111111111111111,
             "#46039f"
            ],
            [
             0.2222222222222222,
             "#7201a8"
            ],
            [
             0.3333333333333333,
             "#9c179e"
            ],
            [
             0.4444444444444444,
             "#bd3786"
            ],
            [
             0.5555555555555556,
             "#d8576b"
            ],
            [
             0.6666666666666666,
             "#ed7953"
            ],
            [
             0.7777777777777778,
             "#fb9f3a"
            ],
            [
             0.8888888888888888,
             "#fdca26"
            ],
            [
             1,
             "#f0f921"
            ]
           ],
           "sequentialminus": [
            [
             0,
             "#0d0887"
            ],
            [
             0.1111111111111111,
             "#46039f"
            ],
            [
             0.2222222222222222,
             "#7201a8"
            ],
            [
             0.3333333333333333,
             "#9c179e"
            ],
            [
             0.4444444444444444,
             "#bd3786"
            ],
            [
             0.5555555555555556,
             "#d8576b"
            ],
            [
             0.6666666666666666,
             "#ed7953"
            ],
            [
             0.7777777777777778,
             "#fb9f3a"
            ],
            [
             0.8888888888888888,
             "#fdca26"
            ],
            [
             1,
             "#f0f921"
            ]
           ]
          },
          "colorway": [
           "#636efa",
           "#EF553B",
           "#00cc96",
           "#ab63fa",
           "#FFA15A",
           "#19d3f3",
           "#FF6692",
           "#B6E880",
           "#FF97FF",
           "#FECB52"
          ],
          "font": {
           "color": "#2a3f5f"
          },
          "geo": {
           "bgcolor": "white",
           "lakecolor": "white",
           "landcolor": "#E5ECF6",
           "showlakes": true,
           "showland": true,
           "subunitcolor": "white"
          },
          "hoverlabel": {
           "align": "left"
          },
          "hovermode": "closest",
          "mapbox": {
           "style": "light"
          },
          "paper_bgcolor": "white",
          "plot_bgcolor": "#E5ECF6",
          "polar": {
           "angularaxis": {
            "gridcolor": "white",
            "linecolor": "white",
            "ticks": ""
           },
           "bgcolor": "#E5ECF6",
           "radialaxis": {
            "gridcolor": "white",
            "linecolor": "white",
            "ticks": ""
           }
          },
          "scene": {
           "xaxis": {
            "backgroundcolor": "#E5ECF6",
            "gridcolor": "white",
            "gridwidth": 2,
            "linecolor": "white",
            "showbackground": true,
            "ticks": "",
            "zerolinecolor": "white"
           },
           "yaxis": {
            "backgroundcolor": "#E5ECF6",
            "gridcolor": "white",
            "gridwidth": 2,
            "linecolor": "white",
            "showbackground": true,
            "ticks": "",
            "zerolinecolor": "white"
           },
           "zaxis": {
            "backgroundcolor": "#E5ECF6",
            "gridcolor": "white",
            "gridwidth": 2,
            "linecolor": "white",
            "showbackground": true,
            "ticks": "",
            "zerolinecolor": "white"
           }
          },
          "shapedefaults": {
           "line": {
            "color": "#2a3f5f"
           }
          },
          "ternary": {
           "aaxis": {
            "gridcolor": "white",
            "linecolor": "white",
            "ticks": ""
           },
           "baxis": {
            "gridcolor": "white",
            "linecolor": "white",
            "ticks": ""
           },
           "bgcolor": "#E5ECF6",
           "caxis": {
            "gridcolor": "white",
            "linecolor": "white",
            "ticks": ""
           }
          },
          "title": {
           "x": 0.05
          },
          "xaxis": {
           "automargin": true,
           "gridcolor": "white",
           "linecolor": "white",
           "ticks": "",
           "title": {
            "standoff": 15
           },
           "zerolinecolor": "white",
           "zerolinewidth": 2
          },
          "yaxis": {
           "automargin": true,
           "gridcolor": "white",
           "linecolor": "white",
           "ticks": "",
           "title": {
            "standoff": 15
           },
           "zerolinecolor": "white",
           "zerolinewidth": 2
          }
         }
        },
        "title": {
         "text": "Mean Monthly Flow"
        },
        "xaxis": {
         "autorange": true,
         "range": [
          "1924-10-01",
          "2016-09-01"
         ],
         "type": "date"
        },
        "yaxis": {
         "range": [
          0,
          9000
         ],
         "separatethousands": true,
         "title": {
          "text": "Flow m³/s"
         },
         "type": "linear"
        }
       }
      },
      "image/png": "[encoded data removed]",
      "text/html": [
       "<div>\n",
       "        \n",
       "        \n",
       "            <div id=\"78c28c19-834b-493c-bcc0-0ce283be0bca\" class=\"plotly-graph-div\" style=\"height:525px; width:100%;\"></div>\n",
       "            <script type=\"text/javascript\">\n",
       "                require([\"plotly\"], function(Plotly) {\n",
       "                    window.PLOTLYENV=window.PLOTLYENV || {};\n",
       "                    \n",
       "                if (document.getElementById(\"78c28c19-834b-493c-bcc0-0ce283be0bca\")) {\n",
       "                    Plotly.newPlot(\n",
       "                        '78c28c19-834b-493c-bcc0-0ce283be0bca',\n",
       "                        [{\"type\": \"scatter\", \"x\": [\"1924-10-01T00:00:00\", \"1924-11-01T00:00:00\", \"1924-12-01T00:00:00\", \"1925-01-01T00:00:00\", \"1925-02-01T00:00:00\", \"1925-03-01T00:00:00\", \"1925-04-01T00:00:00\", \"1925-05-01T00:00:00\", \"1925-06-01T00:00:00\", \"1925-07-01T00:00:00\", \"1925-08-01T00:00:00\", \"1925-09-01T00:00:00\", \"1925-10-01T00:00:00\", \"1925-11-01T00:00:00\", \"1925-12-01T00:00:00\", \"1926-01-01T00:00:00\", \"1926-02-01T00:00:00\", \"1926-03-01T00:00:00\", \"1926-04-01T00:00:00\", \"1926-05-01T00:00:00\", \"1926-06-01T00:00:00\", \"1926-07-01T00:00:00\", \"1926-08-01T00:00:00\", \"1926-09-01T00:00:00\", \"1926-10-01T00:00:00\", \"1926-11-01T00:00:00\", \"1926-12-01T00:00:00\", \"1927-01-01T00:00:00\", \"1927-02-01T00:00:00\", \"1927-03-01T00:00:00\", \"1927-04-01T00:00:00\", \"1927-05-01T00:00:00\", \"1927-06-01T00:00:00\", \"1927-07-01T00:00:00\", \"1927-08-01T00:00:00\", \"1927-09-01T00:00:00\", \"1927-10-01T00:00:00\", \"1927-11-01T00:00:00\", \"1927-12-01T00:00:00\", \"1928-01-01T00:00:00\", \"1928-02-01T00:00:00\", \"1928-03-01T00:00:00\", \"1928-04-01T00:00:00\", \"1928-05-01T00:00:00\", \"1928-06-01T00:00:00\", \"1928-07-01T00:00:00\", \"1928-08-01T00:00:00\", \"1928-09-01T00:00:00\", \"1928-10-01T00:00:00\", \"1928-11-01T00:00:00\", \"1928-12-01T00:00:00\", \"1929-01-01T00:00:00\", \"1929-02-01T00:00:00\", \"1929-03-01T00:00:00\", \"1929-04-01T00:00:00\", \"1929-05-01T00:00:00\", \"1929-06-01T00:00:00\", \"1929-07-01T00:00:00\", \"1929-08-01T00:00:00\", \"1929-09-01T00:00:00\", \"1929-10-01T00:00:00\", \"1929-11-01T00:00:00\", \"1929-12-01T00:00:00\", \"1930-01-01T00:00:00\", \"1930-02-01T00:00:00\", \"1930-03-01T00:00:00\", \"1930-04-01T00:00:00\", \"1930-05-01T00:00:00\", \"1930-06-01T00:00:00\", \"1930-07-01T00:00:00\", \"1930-08-01T00:00:00\", \"1930-09-01T00:00:00\", \"1930-10-01T00:00:00\", \"1930-11-01T00:00:00\", \"1930-12-01T00:00:00\", \"1931-01-01T00:00:00\", \"1931-02-01T00:00:00\", \"1931-03-01T00:00:00\", \"1931-04-01T00:00:00\", \"1931-05-01T00:00:00\", \"1931-06-01T00:00:00\", \"1931-07-01T00:00:00\", \"1931-08-01T00:00:00\", \"1931-09-01T00:00:00\", \"1931-10-01T00:00:00\", \"1931-11-01T00:00:00\", \"1931-12-01T00:00:00\", \"1932-01-01T00:00:00\", \"1932-02-01T00:00:00\", \"1932-03-01T00:00:00\", \"1932-04-01T00:00:00\", \"1932-05-01T00:00:00\", \"1932-06-01T00:00:00\", \"1932-07-01T00:00:00\", \"1932-08-01T00:00:00\", \"1932-09-01T00:00:00\", \"1932-10-01T00:00:00\", \"1932-11-01T00:00:00\", \"1932-12-01T00:00:00\", \"1933-01-01T00:00:00\", \"1933-02-01T00:00:00\", \"1933-03-01T00:00:00\", \"1933-04-01T00:00:00\", \"1933-05-01T00:00:00\", \"1933-06-01T00:00:00\", \"1933-07-01T00:00:00\", \"1933-08-01T00:00:00\", \"1933-09-01T00:00:00\", \"1933-10-01T00:00:00\", \"1933-11-01T00:00:00\", \"1933-12-01T00:00:00\", \"1934-01-01T00:00:00\", \"1934-02-01T00:00:00\", \"1934-03-01T00:00:00\", \"1934-04-01T00:00:00\", \"1934-05-01T00:00:00\", \"1934-06-01T00:00:00\", \"1934-07-01T00:00:00\", \"1934-08-01T00:00:00\", \"1934-09-01T00:00:00\", \"1934-10-01T00:00:00\", \"1934-11-01T00:00:00\", \"1934-12-01T00:00:00\", \"1935-01-01T00:00:00\", \"1935-02-01T00:00:00\", \"1935-03-01T00:00:00\", \"1935-04-01T00:00:00\", \"1935-05-01T00:00:00\", \"1935-06-01T00:00:00\", \"1935-07-01T00:00:00\", \"1935-08-01T00:00:00\", \"1935-09-01T00:00:00\", \"1935-10-01T00:00:00\", \"1935-11-01T00:00:00\", \"1935-12-01T00:00:00\", \"1936-01-01T00:00:00\", \"1936-02-01T00:00:00\", \"1936-03-01T00:00:00\", \"1936-04-01T00:00:00\", \"1936-05-01T00:00:00\", \"1936-06-01T00:00:00\", \"1936-07-01T00:00:00\", \"1936-08-01T00:00:00\", \"1936-09-01T00:00:00\", \"1936-10-01T00:00:00\", \"1936-11-01T00:00:00\", \"1936-12-01T00:00:00\", \"1937-01-01T00:00:00\", \"1937-02-01T00:00:00\", \"1937-03-01T00:00:00\", \"1937-04-01T00:00:00\", \"1937-05-01T00:00:00\", \"1937-06-01T00:00:00\", \"1937-07-01T00:00:00\", \"1937-08-01T00:00:00\", \"1937-09-01T00:00:00\", \"1937-10-01T00:00:00\", \"1937-11-01T00:00:00\", \"1937-12-01T00:00:00\", \"1938-01-01T00:00:00\", \"1938-02-01T00:00:00\", \"1938-03-01T00:00:00\", \"1938-04-01T00:00:00\", \"1938-05-01T00:00:00\", \"1938-06-01T00:00:00\", \"1938-07-01T00:00:00\", \"1938-08-01T00:00:00\", \"1938-09-01T00:00:00\", \"1938-10-01T00:00:00\", \"1938-11-01T00:00:00\", \"1938-12-01T00:00:00\", \"1939-01-01T00:00:00\", \"1939-02-01T00:00:00\", \"1939-03-01T00:00:00\", \"1939-04-01T00:00:00\", \"1939-05-01T00:00:00\", \"1939-06-01T00:00:00\", \"1939-07-01T00:00:00\", \"1939-08-01T00:00:00\", \"1939-09-01T00:00:00\", \"1939-10-01T00:00:00\", \"1939-11-01T00:00:00\", \"1939-12-01T00:00:00\", \"1940-01-01T00:00:00\", \"1940-02-01T00:00:00\", \"1940-03-01T00:00:00\", \"1940-04-01T00:00:00\", \"1940-05-01T00:00:00\", \"1940-06-01T00:00:00\", \"1940-07-01T00:00:00\", \"1940-08-01T00:00:00\", \"1940-09-01T00:00:00\", \"1940-10-01T00:00:00\", \"1940-11-01T00:00:00\", \"1940-12-01T00:00:00\", \"1941-01-01T00:00:00\", \"1941-02-01T00:00:00\", \"1941-03-01T00:00:00\", \"1941-04-01T00:00:00\", \"1941-05-01T00:00:00\", \"1941-06-01T00:00:00\", \"1941-07-01T00:00:00\", \"1941-08-01T00:00:00\", \"1941-09-01T00:00:00\", \"1941-10-01T00:00:00\", \"1941-11-01T00:00:00\", \"1941-12-01T00:00:00\", \"1942-01-01T00:00:00\", \"1942-02-01T00:00:00\", \"1942-03-01T00:00:00\", \"1942-04-01T00:00:00\", \"1942-05-01T00:00:00\", \"1942-06-01T00:00:00\", \"1942-07-01T00:00:00\", \"1942-08-01T00:00:00\", \"1942-09-01T00:00:00\", \"1942-10-01T00:00:00\", \"1942-11-01T00:00:00\", \"1942-12-01T00:00:00\", \"1943-01-01T00:00:00\", \"1943-02-01T00:00:00\", \"1943-03-01T00:00:00\", \"1943-04-01T00:00:00\", \"1943-05-01T00:00:00\", \"1943-06-01T00:00:00\", \"1943-07-01T00:00:00\", \"1943-08-01T00:00:00\", \"1943-09-01T00:00:00\", \"1943-10-01T00:00:00\", \"1943-11-01T00:00:00\", \"1943-12-01T00:00:00\", \"1944-01-01T00:00:00\", \"1944-02-01T00:00:00\", \"1944-03-01T00:00:00\", \"1944-04-01T00:00:00\", \"1944-05-01T00:00:00\", \"1944-06-01T00:00:00\", \"1944-07-01T00:00:00\", \"1944-08-01T00:00:00\", \"1944-09-01T00:00:00\", \"1944-10-01T00:00:00\", \"1944-11-01T00:00:00\", \"1944-12-01T00:00:00\", \"1945-01-01T00:00:00\", \"1945-02-01T00:00:00\", \"1945-03-01T00:00:00\", \"1945-04-01T00:00:00\", \"1945-05-01T00:00:00\", \"1945-06-01T00:00:00\", \"1945-07-01T00:00:00\", \"1945-08-01T00:00:00\", \"1945-09-01T00:00:00\", \"1945-10-01T00:00:00\", \"1945-11-01T00:00:00\", \"1945-12-01T00:00:00\", \"1946-01-01T00:00:00\", \"1946-02-01T00:00:00\", \"1946-03-01T00:00:00\", \"1946-04-01T00:00:00\", \"1946-05-01T00:00:00\", \"1946-06-01T00:00:00\", \"1946-07-01T00:00:00\", \"1946-08-01T00:00:00\", \"1946-09-01T00:00:00\", \"1946-10-01T00:00:00\", \"1946-11-01T00:00:00\", \"1946-12-01T00:00:00\", \"1947-01-01T00:00:00\", \"1947-02-01T00:00:00\", \"1947-03-01T00:00:00\", \"1947-04-01T00:00:00\", \"1947-05-01T00:00:00\", \"1947-06-01T00:00:00\", \"1947-07-01T00:00:00\", \"1947-08-01T00:00:00\", \"1947-09-01T00:00:00\", \"1947-10-01T00:00:00\", \"1947-11-01T00:00:00\", \"1947-12-01T00:00:00\", \"1948-01-01T00:00:00\", \"1948-02-01T00:00:00\", \"1948-03-01T00:00:00\", \"1948-04-01T00:00:00\", \"1948-05-01T00:00:00\", \"1948-06-01T00:00:00\", \"1948-07-01T00:00:00\", \"1948-08-01T00:00:00\", \"1948-09-01T00:00:00\", \"1948-10-01T00:00:00\", \"1948-11-01T00:00:00\", \"1948-12-01T00:00:00\", \"1949-01-01T00:00:00\", \"1949-02-01T00:00:00\", \"1949-03-01T00:00:00\", \"1949-04-01T00:00:00\", \"1949-05-01T00:00:00\", \"1949-06-01T00:00:00\", \"1949-07-01T00:00:00\", \"1949-08-01T00:00:00\", \"1949-09-01T00:00:00\", \"1949-10-01T00:00:00\", \"1949-11-01T00:00:00\", \"1949-12-01T00:00:00\", \"1950-01-01T00:00:00\", \"1950-02-01T00:00:00\", \"1950-03-01T00:00:00\", \"1950-04-01T00:00:00\", \"1950-05-01T00:00:00\", \"1950-06-01T00:00:00\", \"1950-07-01T00:00:00\", \"1950-08-01T00:00:00\", \"1950-09-01T00:00:00\", \"1950-10-01T00:00:00\", \"1950-11-01T00:00:00\", \"1950-12-01T00:00:00\", \"1951-01-01T00:00:00\", \"1951-02-01T00:00:00\", \"1951-03-01T00:00:00\", \"1951-04-01T00:00:00\", \"1951-05-01T00:00:00\", \"1951-06-01T00:00:00\", \"1951-07-01T00:00:00\", \"1951-08-01T00:00:00\", \"1951-09-01T00:00:00\", \"1951-10-01T00:00:00\", \"1951-11-01T00:00:00\", \"1951-12-01T00:00:00\", \"1952-01-01T00:00:00\", \"1952-02-01T00:00:00\", \"1952-03-01T00:00:00\", \"1952-04-01T00:00:00\", \"1952-05-01T00:00:00\", \"1952-06-01T00:00:00\", \"1952-07-01T00:00:00\", \"1952-08-01T00:00:00\", \"1952-09-01T00:00:00\", \"1952-10-01T00:00:00\", \"1952-11-01T00:00:00\", \"1952-12-01T00:00:00\", \"1953-01-01T00:00:00\", \"1953-02-01T00:00:00\", \"1953-03-01T00:00:00\", \"1953-04-01T00:00:00\", \"1953-05-01T00:00:00\", \"1953-06-01T00:00:00\", \"1953-07-01T00:00:00\", \"1953-08-01T00:00:00\", \"1953-09-01T00:00:00\", \"1953-10-01T00:00:00\", \"1953-11-01T00:00:00\", \"1953-12-01T00:00:00\", \"1954-01-01T00:00:00\", \"1954-02-01T00:00:00\", \"1954-03-01T00:00:00\", \"1954-04-01T00:00:00\", \"1954-05-01T00:00:00\", \"1954-06-01T00:00:00\", \"1954-07-01T00:00:00\", \"1954-08-01T00:00:00\", \"1954-09-01T00:00:00\", \"1954-10-01T00:00:00\", \"1954-11-01T00:00:00\", \"1954-12-01T00:00:00\", \"1955-01-01T00:00:00\", \"1955-02-01T00:00:00\", \"1955-03-01T00:00:00\", \"1955-04-01T00:00:00\", \"1955-05-01T00:00:00\", \"1955-06-01T00:00:00\", \"1955-07-01T00:00:00\", \"1955-08-01T00:00:00\", \"1955-09-01T00:00:00\", \"1955-10-01T00:00:00\", \"1955-11-01T00:00:00\", \"1955-12-01T00:00:00\", \"1956-01-01T00:00:00\", \"1956-02-01T00:00:00\", \"1956-03-01T00:00:00\", \"1956-04-01T00:00:00\", \"1956-05-01T00:00:00\", \"1956-06-01T00:00:00\", \"1956-07-01T00:00:00\", \"1956-08-01T00:00:00\", \"1956-09-01T00:00:00\", \"1956-10-01T00:00:00\", \"1956-11-01T00:00:00\", \"1956-12-01T00:00:00\", \"1957-01-01T00:00:00\", \"1957-02-01T00:00:00\", \"1957-03-01T00:00:00\", \"1957-04-01T00:00:00\", \"1957-05-01T00:00:00\", \"1957-06-01T00:00:00\", \"1957-07-01T00:00:00\", \"1957-08-01T00:00:00\", \"1957-09-01T00:00:00\", \"1957-10-01T00:00:00\", \"1957-11-01T00:00:00\", \"1957-12-01T00:00:00\", \"1958-01-01T00:00:00\", \"1958-02-01T00:00:00\", \"1958-03-01T00:00:00\", \"1958-04-01T00:00:00\", \"1958-05-01T00:00:00\", \"1958-06-01T00:00:00\", \"1958-07-01T00:00:00\", \"1958-08-01T00:00:00\", \"1958-09-01T00:00:00\", \"1958-10-01T00:00:00\", \"1958-11-01T00:00:00\", \"1958-12-01T00:00:00\", \"1959-01-01T00:00:00\", \"1959-02-01T00:00:00\", \"1959-03-01T00:00:00\", \"1959-04-01T00:00:00\", \"1959-05-01T00:00:00\", \"1959-06-01T00:00:00\", \"1959-07-01T00:00:00\", \"1959-08-01T00:00:00\", \"1959-09-01T00:00:00\", \"1959-10-01T00:00:00\", \"1959-11-01T00:00:00\", \"1959-12-01T00:00:00\", \"1960-01-01T00:00:00\", \"1960-02-01T00:00:00\", \"1960-03-01T00:00:00\", \"1960-04-01T00:00:00\", \"1960-05-01T00:00:00\", \"1960-06-01T00:00:00\", \"1960-07-01T00:00:00\", \"1960-08-01T00:00:00\", \"1960-09-01T00:00:00\", \"1960-10-01T00:00:00\", \"1960-11-01T00:00:00\", \"1960-12-01T00:00:00\", \"1961-01-01T00:00:00\", \"1961-02-01T00:00:00\", \"1961-03-01T00:00:00\", \"1961-04-01T00:00:00\", \"1961-05-01T00:00:00\", \"1961-06-01T00:00:00\", \"1961-07-01T00:00:00\", \"1961-08-01T00:00:00\", \"1961-09-01T00:00:00\", \"1961-10-01T00:00:00\", \"1961-11-01T00:00:00\", \"1961-12-01T00:00:00\", \"1962-01-01T00:00:00\", \"1962-02-01T00:00:00\", \"1962-03-01T00:00:00\", \"1962-04-01T00:00:00\", \"1962-05-01T00:00:00\", \"1962-06-01T00:00:00\", \"1962-07-01T00:00:00\", \"1962-08-01T00:00:00\", \"1962-09-01T00:00:00\", \"1962-10-01T00:00:00\", \"1962-11-01T00:00:00\", \"1962-12-01T00:00:00\", \"1963-01-01T00:00:00\", \"1963-02-01T00:00:00\", \"1963-03-01T00:00:00\", \"1963-04-01T00:00:00\", \"1963-05-01T00:00:00\", \"1963-06-01T00:00:00\", \"1963-07-01T00:00:00\", \"1963-08-01T00:00:00\", \"1963-09-01T00:00:00\", \"1963-10-01T00:00:00\", \"1963-11-01T00:00:00\", \"1963-12-01T00:00:00\", \"1964-01-01T00:00:00\", \"1964-02-01T00:00:00\", \"1964-03-01T00:00:00\", \"1964-04-01T00:00:00\", \"1964-05-01T00:00:00\", \"1964-06-01T00:00:00\", \"1964-07-01T00:00:00\", \"1964-08-01T00:00:00\", \"1964-09-01T00:00:00\", \"1964-10-01T00:00:00\", \"1964-11-01T00:00:00\", \"1964-12-01T00:00:00\", \"1965-01-01T00:00:00\", \"1965-02-01T00:00:00\", \"1965-03-01T00:00:00\", \"1965-04-01T00:00:00\", \"1965-05-01T00:00:00\", \"1965-06-01T00:00:00\", \"1965-07-01T00:00:00\", \"1965-08-01T00:00:00\", \"1965-09-01T00:00:00\", \"1965-10-01T00:00:00\", \"1965-11-01T00:00:00\", \"1965-12-01T00:00:00\", \"1966-01-01T00:00:00\", \"1966-02-01T00:00:00\", \"1966-03-01T00:00:00\", \"1966-04-01T00:00:00\", \"1966-05-01T00:00:00\", \"1966-06-01T00:00:00\", \"1966-07-01T00:00:00\", \"1966-08-01T00:00:00\", \"1966-09-01T00:00:00\", \"1966-10-01T00:00:00\", \"1966-11-01T00:00:00\", \"1966-12-01T00:00:00\", \"1967-01-01T00:00:00\", \"1967-02-01T00:00:00\", \"1967-03-01T00:00:00\", \"1967-04-01T00:00:00\", \"1967-05-01T00:00:00\", \"1967-06-01T00:00:00\", \"1967-07-01T00:00:00\", \"1967-08-01T00:00:00\", \"1967-09-01T00:00:00\", \"1967-10-01T00:00:00\", \"1967-11-01T00:00:00\", \"1967-12-01T00:00:00\", \"1968-01-01T00:00:00\", \"1968-02-01T00:00:00\", \"1968-03-01T00:00:00\", \"1968-04-01T00:00:00\", \"1968-05-01T00:00:00\", \"1968-06-01T00:00:00\", \"1968-07-01T00:00:00\", \"1968-08-01T00:00:00\", \"1968-09-01T00:00:00\", \"1968-10-01T00:00:00\", \"1968-11-01T00:00:00\", \"1968-12-01T00:00:00\", \"1969-01-01T00:00:00\", \"1969-02-01T00:00:00\", \"1969-03-01T00:00:00\", \"1969-04-01T00:00:00\", \"1969-05-01T00:00:00\", \"1969-06-01T00:00:00\", \"1969-07-01T00:00:00\", \"1969-08-01T00:00:00\", \"1969-09-01T00:00:00\", \"1969-10-01T00:00:00\", \"1969-11-01T00:00:00\", \"1969-12-01T00:00:00\", \"1970-01-01T00:00:00\", \"1970-02-01T00:00:00\", \"1970-03-01T00:00:00\", \"1970-04-01T00:00:00\", \"1970-05-01T00:00:00\", \"1970-06-01T00:00:00\", \"1970-07-01T00:00:00\", \"1970-08-01T00:00:00\", \"1970-09-01T00:00:00\", \"1970-10-01T00:00:00\", \"1970-11-01T00:00:00\", \"1970-12-01T00:00:00\", \"1971-01-01T00:00:00\", \"1971-02-01T00:00:00\", \"1971-03-01T00:00:00\", \"1971-04-01T00:00:00\", \"1971-05-01T00:00:00\", \"1971-06-01T00:00:00\", \"1971-07-01T00:00:00\", \"1971-08-01T00:00:00\", \"1971-09-01T00:00:00\", \"1971-10-01T00:00:00\", \"1971-11-01T00:00:00\", \"1971-12-01T00:00:00\", \"1972-01-01T00:00:00\", \"1972-02-01T00:00:00\", \"1972-03-01T00:00:00\", \"1972-04-01T00:00:00\", \"1972-05-01T00:00:00\", \"1972-06-01T00:00:00\", \"1972-07-01T00:00:00\", \"1972-08-01T00:00:00\", \"1972-09-01T00:00:00\", \"1972-10-01T00:00:00\", \"1972-11-01T00:00:00\", \"1972-12-01T00:00:00\", \"1973-01-01T00:00:00\", \"1973-02-01T00:00:00\", \"1973-03-01T00:00:00\", \"1973-04-01T00:00:00\", \"1973-05-01T00:00:00\", \"1973-06-01T00:00:00\", \"1973-07-01T00:00:00\", \"1973-08-01T00:00:00\", \"1973-09-01T00:00:00\", \"1973-10-01T00:00:00\", \"1973-11-01T00:00:00\", \"1973-12-01T00:00:00\", \"1974-01-01T00:00:00\", \"1974-02-01T00:00:00\", \"1974-03-01T00:00:00\", \"1974-04-01T00:00:00\", \"1974-05-01T00:00:00\", \"1974-06-01T00:00:00\", \"1974-07-01T00:00:00\", \"1974-08-01T00:00:00\", \"1974-09-01T00:00:00\", \"1974-10-01T00:00:00\", \"1974-11-01T00:00:00\", \"1974-12-01T00:00:00\", \"1975-01-01T00:00:00\", \"1975-02-01T00:00:00\", \"1975-03-01T00:00:00\", \"1975-04-01T00:00:00\", \"1975-05-01T00:00:00\", \"1975-06-01T00:00:00\", \"1975-07-01T00:00:00\", \"1975-08-01T00:00:00\", \"1975-09-01T00:00:00\", \"1975-10-01T00:00:00\", \"1975-11-01T00:00:00\", \"1975-12-01T00:00:00\", \"1976-01-01T00:00:00\", \"1976-02-01T00:00:00\", \"1976-03-01T00:00:00\", \"1976-04-01T00:00:00\", \"1976-05-01T00:00:00\", \"1976-06-01T00:00:00\", \"1976-07-01T00:00:00\", \"1976-08-01T00:00:00\", \"1976-09-01T00:00:00\", \"1976-10-01T00:00:00\", \"1976-11-01T00:00:00\", \"1976-12-01T00:00:00\", \"1977-01-01T00:00:00\", \"1977-02-01T00:00:00\", \"1977-03-01T00:00:00\", \"1977-04-01T00:00:00\", \"1977-05-01T00:00:00\", \"1977-06-01T00:00:00\", \"1977-07-01T00:00:00\", \"1977-08-01T00:00:00\", \"1977-09-01T00:00:00\", \"1977-10-01T00:00:00\", \"1977-11-01T00:00:00\", \"1977-12-01T00:00:00\", \"1978-01-01T00:00:00\", \"1978-02-01T00:00:00\", \"1978-03-01T00:00:00\", \"1978-04-01T00:00:00\", \"1978-05-01T00:00:00\", \"1978-06-01T00:00:00\", \"1978-07-01T00:00:00\", \"1978-08-01T00:00:00\", \"1978-09-01T00:00:00\", \"1978-10-01T00:00:00\", \"1978-11-01T00:00:00\", \"1978-12-01T00:00:00\", \"1979-01-01T00:00:00\", \"1979-02-01T00:00:00\", \"1979-03-01T00:00:00\", \"1979-04-01T00:00:00\", \"1979-05-01T00:00:00\", \"1979-06-01T00:00:00\", \"1979-07-01T00:00:00\", \"1979-08-01T00:00:00\", \"1979-09-01T00:00:00\", \"1979-10-01T00:00:00\", \"1979-11-01T00:00:00\", \"1979-12-01T00:00:00\", \"1980-01-01T00:00:00\", \"1980-02-01T00:00:00\", \"1980-03-01T00:00:00\", \"1980-04-01T00:00:00\", \"1980-05-01T00:00:00\", \"1980-06-01T00:00:00\", \"1980-07-01T00:00:00\", \"1980-08-01T00:00:00\", \"1980-09-01T00:00:00\", \"1980-10-01T00:00:00\", \"1980-11-01T00:00:00\", \"1980-12-01T00:00:00\", \"1981-01-01T00:00:00\", \"1981-02-01T00:00:00\", \"1981-03-01T00:00:00\", \"1981-04-01T00:00:00\", \"1981-05-01T00:00:00\", \"1981-06-01T00:00:00\", \"1981-07-01T00:00:00\", \"1981-08-01T00:00:00\", \"1981-09-01T00:00:00\", \"1981-10-01T00:00:00\", \"1981-11-01T00:00:00\", \"1981-12-01T00:00:00\", \"1982-01-01T00:00:00\", \"1982-02-01T00:00:00\", \"1982-03-01T00:00:00\", \"1982-04-01T00:00:00\", \"1982-05-01T00:00:00\", \"1982-06-01T00:00:00\", \"1982-07-01T00:00:00\", \"1982-08-01T00:00:00\", \"1982-09-01T00:00:00\", \"1982-10-01T00:00:00\", \"1982-11-01T00:00:00\", \"1982-12-01T00:00:00\", \"1983-01-01T00:00:00\", \"1983-02-01T00:00:00\", \"1983-03-01T00:00:00\", \"1983-04-01T00:00:00\", \"1983-05-01T00:00:00\", \"1983-06-01T00:00:00\", \"1983-07-01T00:00:00\", \"1983-08-01T00:00:00\", \"1983-09-01T00:00:00\", \"1983-10-01T00:00:00\", \"1983-11-01T00:00:00\", \"1983-12-01T00:00:00\", \"1984-01-01T00:00:00\", \"1984-02-01T00:00:00\", \"1984-03-01T00:00:00\", \"1984-04-01T00:00:00\", \"1984-05-01T00:00:00\", \"1984-06-01T00:00:00\", \"1984-07-01T00:00:00\", \"1984-08-01T00:00:00\", \"1984-09-01T00:00:00\", \"1984-10-01T00:00:00\", \"1984-11-01T00:00:00\", \"1984-12-01T00:00:00\", \"1985-01-01T00:00:00\", \"1985-02-01T00:00:00\", \"1985-03-01T00:00:00\", \"1985-04-01T00:00:00\", \"1985-05-01T00:00:00\", \"1985-06-01T00:00:00\", \"1985-07-01T00:00:00\", \"1985-08-01T00:00:00\", \"1985-09-01T00:00:00\", \"1985-10-01T00:00:00\", \"1985-11-01T00:00:00\", \"1985-12-01T00:00:00\", \"1986-01-01T00:00:00\", \"1986-02-01T00:00:00\", \"1986-03-01T00:00:00\", \"1986-04-01T00:00:00\", \"1986-05-01T00:00:00\", \"1986-06-01T00:00:00\", \"1986-07-01T00:00:00\", \"1986-08-01T00:00:00\", \"1986-09-01T00:00:00\", \"1986-10-01T00:00:00\", \"1986-11-01T00:00:00\", \"1986-12-01T00:00:00\", \"1987-01-01T00:00:00\", \"1987-02-01T00:00:00\", \"1987-03-01T00:00:00\", \"1987-04-01T00:00:00\", \"1987-05-01T00:00:00\", \"1987-06-01T00:00:00\", \"1987-07-01T00:00:00\", \"1987-08-01T00:00:00\", \"1987-09-01T00:00:00\", \"1987-10-01T00:00:00\", \"1987-11-01T00:00:00\", \"1987-12-01T00:00:00\", \"1988-01-01T00:00:00\", \"1988-02-01T00:00:00\", \"1988-03-01T00:00:00\", \"1988-04-01T00:00:00\", \"1988-05-01T00:00:00\", \"1988-06-01T00:00:00\", \"1988-07-01T00:00:00\", \"1988-08-01T00:00:00\", \"1988-09-01T00:00:00\", \"1988-10-01T00:00:00\", \"1988-11-01T00:00:00\", \"1988-12-01T00:00:00\", \"1989-01-01T00:00:00\", \"1989-02-01T00:00:00\", \"1989-03-01T00:00:00\", \"1989-04-01T00:00:00\", \"1989-05-01T00:00:00\", \"1989-06-01T00:00:00\", \"1989-07-01T00:00:00\", \"1989-08-01T00:00:00\", \"1989-09-01T00:00:00\", \"1989-10-01T00:00:00\", \"1989-11-01T00:00:00\", \"1989-12-01T00:00:00\", \"1990-01-01T00:00:00\", \"1990-02-01T00:00:00\", \"1990-03-01T00:00:00\", \"1990-04-01T00:00:00\", \"1990-05-01T00:00:00\", \"1990-06-01T00:00:00\", \"1990-07-01T00:00:00\", \"1990-08-01T00:00:00\", \"1990-09-01T00:00:00\", \"1990-10-01T00:00:00\", \"1990-11-01T00:00:00\", \"1990-12-01T00:00:00\", \"1991-01-01T00:00:00\", \"1991-02-01T00:00:00\", \"1991-03-01T00:00:00\", \"1991-04-01T00:00:00\", \"1991-05-01T00:00:00\", \"1991-06-01T00:00:00\", \"1991-07-01T00:00:00\", \"1991-08-01T00:00:00\", \"1991-09-01T00:00:00\", \"1991-10-01T00:00:00\", \"1991-11-01T00:00:00\", \"1991-12-01T00:00:00\", \"1992-01-01T00:00:00\", \"1992-02-01T00:00:00\", \"1992-03-01T00:00:00\", \"1992-04-01T00:00:00\", \"1992-05-01T00:00:00\", \"1992-06-01T00:00:00\", \"1992-07-01T00:00:00\", \"1992-08-01T00:00:00\", \"1992-09-01T00:00:00\", \"1992-10-01T00:00:00\", \"1992-11-01T00:00:00\", \"1992-12-01T00:00:00\", \"1993-01-01T00:00:00\", \"1993-02-01T00:00:00\", \"1993-03-01T00:00:00\", \"1993-04-01T00:00:00\", \"1993-05-01T00:00:00\", \"1993-06-01T00:00:00\", \"1993-07-01T00:00:00\", \"1993-08-01T00:00:00\", \"1993-09-01T00:00:00\", \"1993-10-01T00:00:00\", \"1993-11-01T00:00:00\", \"1993-12-01T00:00:00\", \"1994-01-01T00:00:00\", \"1994-02-01T00:00:00\", \"1994-03-01T00:00:00\", \"1994-04-01T00:00:00\", \"1994-05-01T00:00:00\", \"1994-06-01T00:00:00\", \"1994-07-01T00:00:00\", \"1994-08-01T00:00:00\", \"1994-09-01T00:00:00\", \"1994-10-01T00:00:00\", \"1994-11-01T00:00:00\", \"1994-12-01T00:00:00\", \"1995-01-01T00:00:00\", \"1995-02-01T00:00:00\", \"1995-03-01T00:00:00\", \"1995-04-01T00:00:00\", \"1995-05-01T00:00:00\", \"1995-06-01T00:00:00\", \"1995-07-01T00:00:00\", \"1995-08-01T00:00:00\", \"1995-09-01T00:00:00\", \"1995-10-01T00:00:00\", \"1995-11-01T00:00:00\", \"1995-12-01T00:00:00\", \"1996-01-01T00:00:00\", \"1996-02-01T00:00:00\", \"1996-03-01T00:00:00\", \"1996-04-01T00:00:00\", \"1996-05-01T00:00:00\", \"1996-06-01T00:00:00\", \"1996-07-01T00:00:00\", \"1996-08-01T00:00:00\", \"1996-09-01T00:00:00\", \"1996-10-01T00:00:00\", \"1996-11-01T00:00:00\", \"1996-12-01T00:00:00\", \"1997-01-01T00:00:00\", \"1997-02-01T00:00:00\", \"1997-03-01T00:00:00\", \"1997-04-01T00:00:00\", \"1997-05-01T00:00:00\", \"1997-06-01T00:00:00\", \"1997-07-01T00:00:00\", \"1997-08-01T00:00:00\", \"1997-09-01T00:00:00\", \"1997-10-01T00:00:00\", \"1997-11-01T00:00:00\", \"1997-12-01T00:00:00\", \"1998-01-01T00:00:00\", \"1998-02-01T00:00:00\", \"1998-03-01T00:00:00\", \"1998-04-01T00:00:00\", \"1998-05-01T00:00:00\", \"1998-06-01T00:00:00\", \"1998-07-01T00:00:00\", \"1998-08-01T00:00:00\", \"1998-09-01T00:00:00\", \"1998-10-01T00:00:00\", \"1998-11-01T00:00:00\", \"1998-12-01T00:00:00\", \"1999-01-01T00:00:00\", \"1999-02-01T00:00:00\", \"1999-03-01T00:00:00\", \"1999-04-01T00:00:00\", \"1999-05-01T00:00:00\", \"1999-06-01T00:00:00\", \"1999-07-01T00:00:00\", \"1999-08-01T00:00:00\", \"1999-09-01T00:00:00\", \"1999-10-01T00:00:00\", \"1999-11-01T00:00:00\", \"1999-12-01T00:00:00\", \"2000-01-01T00:00:00\", \"2000-02-01T00:00:00\", \"2000-03-01T00:00:00\", \"2000-04-01T00:00:00\", \"2000-05-01T00:00:00\", \"2000-06-01T00:00:00\", \"2000-07-01T00:00:00\", \"2000-08-01T00:00:00\", \"2000-09-01T00:00:00\", \"2000-10-01T00:00:00\", \"2000-11-01T00:00:00\", \"2000-12-01T00:00:00\", \"2001-01-01T00:00:00\", \"2001-02-01T00:00:00\", \"2001-03-01T00:00:00\", \"2001-04-01T00:00:00\", \"2001-05-01T00:00:00\", \"2001-06-01T00:00:00\", \"2001-07-01T00:00:00\", \"2001-08-01T00:00:00\", \"2001-09-01T00:00:00\", \"2001-10-01T00:00:00\", \"2001-11-01T00:00:00\", \"2001-12-01T00:00:00\", \"2002-01-01T00:00:00\", \"2002-02-01T00:00:00\", \"2002-03-01T00:00:00\", \"2002-04-01T00:00:00\", \"2002-05-01T00:00:00\", \"2002-06-01T00:00:00\", \"2002-07-01T00:00:00\", \"2002-08-01T00:00:00\", \"2002-09-01T00:00:00\", \"2002-10-01T00:00:00\", \"2002-11-01T00:00:00\", \"2002-12-01T00:00:00\", \"2003-01-01T00:00:00\", \"2003-02-01T00:00:00\", \"2003-03-01T00:00:00\", \"2003-04-01T00:00:00\", \"2003-05-01T00:00:00\", \"2003-06-01T00:00:00\", \"2003-07-01T00:00:00\", \"2003-08-01T00:00:00\", \"2003-09-01T00:00:00\", \"2003-10-01T00:00:00\", \"2003-11-01T00:00:00\", \"2003-12-01T00:00:00\", \"2004-01-01T00:00:00\", \"2004-02-01T00:00:00\", \"2004-03-01T00:00:00\", \"2004-04-01T00:00:00\", \"2004-05-01T00:00:00\", \"2004-06-01T00:00:00\", \"2004-07-01T00:00:00\", \"2004-08-01T00:00:00\", \"2004-09-01T00:00:00\", \"2004-10-01T00:00:00\", \"2004-11-01T00:00:00\", \"2004-12-01T00:00:00\", \"2005-01-01T00:00:00\", \"2005-02-01T00:00:00\", \"2005-03-01T00:00:00\", \"2005-04-01T00:00:00\", \"2005-05-01T00:00:00\", \"2005-06-01T00:00:00\", \"2005-07-01T00:00:00\", \"2005-08-01T00:00:00\", \"2005-09-01T00:00:00\", \"2005-10-01T00:00:00\", \"2005-11-01T00:00:00\", \"2005-12-01T00:00:00\", \"2006-01-01T00:00:00\", \"2006-02-01T00:00:00\", \"2006-03-01T00:00:00\", \"2006-04-01T00:00:00\", \"2006-05-01T00:00:00\", \"2006-06-01T00:00:00\", \"2006-07-01T00:00:00\", \"2006-08-01T00:00:00\", \"2006-09-01T00:00:00\", \"2006-10-01T00:00:00\", \"2006-11-01T00:00:00\", \"2006-12-01T00:00:00\", \"2007-01-01T00:00:00\", \"2007-02-01T00:00:00\", \"2007-03-01T00:00:00\", \"2007-04-01T00:00:00\", \"2007-05-01T00:00:00\", \"2007-06-01T00:00:00\", \"2007-07-01T00:00:00\", \"2007-08-01T00:00:00\", \"2007-09-01T00:00:00\", \"2007-10-01T00:00:00\", \"2007-11-01T00:00:00\", \"2007-12-01T00:00:00\", \"2008-01-01T00:00:00\", \"2008-02-01T00:00:00\", \"2008-03-01T00:00:00\", \"2008-04-01T00:00:00\", \"2008-05-01T00:00:00\", \"2008-06-01T00:00:00\", \"2008-07-01T00:00:00\", \"2008-08-01T00:00:00\", \"2008-09-01T00:00:00\", \"2008-10-01T00:00:00\", \"2008-11-01T00:00:00\", \"2008-12-01T00:00:00\", \"2009-01-01T00:00:00\", \"2009-02-01T00:00:00\", \"2009-03-01T00:00:00\", \"2009-04-01T00:00:00\", \"2009-05-01T00:00:00\", \"2009-06-01T00:00:00\", \"2009-07-01T00:00:00\", \"2009-08-01T00:00:00\", \"2009-09-01T00:00:00\", \"2009-10-01T00:00:00\", \"2009-11-01T00:00:00\", \"2009-12-01T00:00:00\", \"2010-01-01T00:00:00\", \"2010-02-01T00:00:00\", \"2010-03-01T00:00:00\", \"2010-04-01T00:00:00\", \"2010-05-01T00:00:00\", \"2010-06-01T00:00:00\", \"2010-07-01T00:00:00\", \"2010-08-01T00:00:00\", \"2010-09-01T00:00:00\", \"2010-10-01T00:00:00\", \"2010-11-01T00:00:00\", \"2010-12-01T00:00:00\", \"2011-01-01T00:00:00\", \"2011-02-01T00:00:00\", \"2011-03-01T00:00:00\", \"2011-04-01T00:00:00\", \"2011-05-01T00:00:00\", \"2011-06-01T00:00:00\", \"2011-07-01T00:00:00\", \"2011-08-01T00:00:00\", \"2011-09-01T00:00:00\", \"2011-10-01T00:00:00\", \"2011-11-01T00:00:00\", \"2011-12-01T00:00:00\", \"2012-01-01T00:00:00\", \"2012-02-01T00:00:00\", \"2012-03-01T00:00:00\", \"2012-04-01T00:00:00\", \"2012-05-01T00:00:00\", \"2012-06-01T00:00:00\", \"2012-07-01T00:00:00\", \"2012-08-01T00:00:00\", \"2012-09-01T00:00:00\", \"2012-10-01T00:00:00\", \"2012-11-01T00:00:00\", \"2012-12-01T00:00:00\", \"2013-01-01T00:00:00\", \"2013-02-01T00:00:00\", \"2013-03-01T00:00:00\", \"2013-04-01T00:00:00\", \"2013-05-01T00:00:00\", \"2013-06-01T00:00:00\", \"2013-07-01T00:00:00\", \"2013-08-01T00:00:00\", \"2013-09-01T00:00:00\", \"2013-10-01T00:00:00\", \"2013-11-01T00:00:00\", \"2013-12-01T00:00:00\", \"2014-01-01T00:00:00\", \"2014-02-01T00:00:00\", \"2014-03-01T00:00:00\", \"2014-04-01T00:00:00\", \"2014-05-01T00:00:00\", \"2014-06-01T00:00:00\", \"2014-07-01T00:00:00\", \"2014-08-01T00:00:00\", \"2014-09-01T00:00:00\", \"2014-10-01T00:00:00\", \"2014-11-01T00:00:00\", \"2014-12-01T00:00:00\", \"2015-01-01T00:00:00\", \"2015-02-01T00:00:00\", \"2015-03-01T00:00:00\", \"2015-04-01T00:00:00\", \"2015-05-01T00:00:00\", \"2015-06-01T00:00:00\", \"2015-07-01T00:00:00\", \"2015-08-01T00:00:00\", \"2015-09-01T00:00:00\", \"2015-10-01T00:00:00\", \"2015-11-01T00:00:00\", \"2015-12-01T00:00:00\", \"2016-01-01T00:00:00\", \"2016-02-01T00:00:00\", \"2016-03-01T00:00:00\", \"2016-04-01T00:00:00\", \"2016-05-01T00:00:00\", \"2016-06-01T00:00:00\", \"2016-07-01T00:00:00\", \"2016-08-01T00:00:00\", \"2016-09-01T00:00:00\"], \"y\": [116.09677419354838, 154.06666666666666, 275.6774193548387, 692.7741935483871, 1193.75, 1926.4193548387098, 3198.5666666666666, 2213.935483870968, 1178.3666666666666, 520.6451612903226, 276.64516129032256, 202.36666666666667, 171.32258064516128, 199.73333333333332, 332.96774193548384, 495.1290322580645, 733.0714285714286, 2626.3548387096776, 3961.366666666667, 2508.1935483870966, 1195.5333333333333, 549.7096774193549, 334.5806451612903, 234.76666666666668, 198.70967741935485, 217.66666666666666, 426.64516129032256, 644.6129032258065, 1220.9642857142858, 1787.4516129032259, 2844.3333333333335, 2287.3870967741937, 1257.7, 511.03225806451616, 311.64516129032256, 217.86666666666667, 187.67741935483872, 245.66666666666666, 361.5806451612903, 605.9354838709677, 829.1034482758621, 1844.1612903225807, 2199.0, 1970.5806451612902, 988.7333333333333, 425.741935483871, 284.2258064516129, 242.3, 246.90322580645162, 256.5, 351.64516129032256, 531.0, 698.3928571428571, 925.741935483871, 1386.8666666666666, 1128.8709677419354, 453.03333333333336, 329.741935483871, 265.5483870967742, 214.36666666666667, 191.90322580645162, 230.0, 447.61290322580646, 588.0322580645161, 717.7857142857143, 909.5806451612904, 1083.9, 1805.9354838709678, 1358.2, 623.6129032258065, 399.19354838709677, 289.5, 239.2258064516129, 219.53333333333333, 355.35483870967744, 510.80645161290323, 666.8571428571429, 1091.032258064516, 2881.866666666667, 2674.3225806451615, 1372.3, 615.9354838709677, 397.6774193548387, 292.4, 242.38709677419354, 307.3333333333333, 571.3225806451613, 818.1935483870968, 1082.9310344827586, 2941.2903225806454, 2978.9, 1713.258064516129, 964.4333333333333, 512.0322580645161, 370.19354838709677, 284.0, 218.93548387096774, 220.36666666666667, 343.4516129032258, 614.8387096774194, 797.7142857142857, 1155.9032258064517, 1467.2, 957.2258064516129, 465.8333333333333, 331.19354838709677, 247.32258064516128, 198.7, 173.90322580645162, 212.93333333333334, 400.51612903225805, 648.9032258064516, 916.4642857142857, 3647.483870967742, 3964.233333333333, 2323.7741935483873, 1178.0666666666666, 519.1935483870968, 357.83870967741933, 265.46666666666664, 202.48387096774192, 268.23333333333335, 471.741935483871, 672.1935483870968, 1121.642857142857, 2650.2903225806454, 2322.1, 1685.032258064516, 934.1666666666666, 488.2258064516129, 351.35483870967744, 276.1666666666667, 225.19354838709677, 213.36666666666667, 349.5806451612903, 535.483870967742, 809.2758620689655, 1382.516129032258, 2367.5, 2014.6774193548388, 855.5, 428.35483870967744, 306.4193548387097, 236.06666666666666, 202.58064516129033, 234.06666666666666, 346.7096774193548, 607.1612903225806, 1839.892857142857, 3127.3225806451615, 2959.633333333333, 2363.0, 1414.0, 630.2903225806451, 408.3225806451613, 297.1666666666667, 243.70967741935485, 267.9, 428.2258064516129, 627.1612903225806, 876.7857142857143, 1249.258064516129, 2753.2, 1659.0645161290322, 844.9, 436.19354838709677, 326.7741935483871, 260.6666666666667, 224.61290322580646, 273.46666666666664, 448.96774193548384, 713.258064516129, 1184.5357142857142, 2628.4193548387098, 2211.4, 1294.967741935484, 633.4333333333333, 396.3225806451613, 313.83870967741933, 253.5, 232.74193548387098, 312.93333333333334, 546.0322580645161, 829.741935483871, 1111.5862068965516, 3101.1612903225805, 4457.533333333334, 2675.2903225806454, 1435.6333333333334, 690.2903225806451, 431.06451612903226, 298.6666666666667, 276.7096774193548, 328.5, 407.16129032258067, 709.7096774193549, 1219.857142857143, 2294.6451612903224, 2759.6, 1678.1290322580646, 814.9666666666667, 449.5483870967742, 319.5483870967742, 259.7, 204.70967741935485, 238.96666666666667, 337.741935483871, 477.2258064516129, 667.0357142857143, 974.741935483871, 1833.1666666666667, 1558.258064516129, 646.7666666666667, 373.51612903225805, 281.1290322580645, 213.66666666666666, 195.90322580645162, 231.46666666666667, 316.16129032258067, 471.5483870967742, 614.4642857142857, 952.483870967742, 1630.5666666666666, 1604.8064516129032, 992.2666666666667, 465.4193548387097, 325.0967741935484, 240.9, 189.41935483870967, 216.43333333333334, 386.16129032258067, 710.3225806451613, 1335.896551724138, 2103.6774193548385, 2436.733333333333, 1949.0967741935483, 889.7333333333333, 426.48387096774195, 297.5483870967742, 220.8, 194.61290322580646, 233.76666666666668, 402.3225806451613, 557.3548387096774, 907.5, 2555.0967741935483, 3187.6666666666665, 1958.032258064516, 922.7, 469.3225806451613, 334.96774193548384, 247.93333333333334, 205.61290322580646, 238.33333333333334, 393.4193548387097, 730.2258064516129, 971.0, 1110.967741935484, 1378.0, 1438.9354838709678, 820.7666666666667, 399.741935483871, 289.38709677419354, 218.56666666666666, 195.25806451612902, 208.86666666666667, 374.19354838709677, 584.8387096774194, 822.8571428571429, 2081.0, 4281.9, 3125.2580645161293, 1609.2333333333333, 762.741935483871, 448.83870967741933, 327.43333333333334, 274.4193548387097, 280.73333333333335, 399.9032258064516, 687.0322580645161, 1471.2413793103449, 5741.741935483871, 5018.0, 3176.516129032258, 1756.3666666666666, 852.8709677419355, 477.0, 336.0, 292.2903225806452, 348.3, 400.51612903225805, 445.5483870967742, 520.8214285714286, 703.4516129032259, 862.2333333333333, 709.9354838709677, 410.23333333333335, 323.7741935483871, 262.7096774193548, 213.6, 174.90322580645162, 194.6, 317.48387096774195, 574.9677419354839, 2308.1428571428573, 4350.645161290323, 3698.0666666666666, 2564.0967741935483, 1209.1333333333334, 551.3548387096774, 368.38709677419354, 259.96666666666664, 204.93548387096774, 227.36666666666667, 373.38709677419354, 588.516129032258, 916.2857142857143, 3566.1290322580644, 3025.0333333333333, 2565.9032258064517, 1637.5333333333333, 782.0322580645161, 458.96774193548384, 325.6666666666667, 282.48387096774195, 342.76666666666665, 600.9677419354839, 1656.4516129032259, 3599.2758620689656, 5569.967741935484, 3427.1666666666665, 1736.0645161290322, 837.8333333333334, 484.6774193548387, 364.64516129032256, 285.2, 237.48387096774192, 323.23333333333335, 429.38709677419354, 609.0645161290323, 964.2142857142857, 4101.8387096774195, 4584.266666666666, 3191.8064516129034, 1759.1333333333334, 812.8064516129032, 470.03225806451616, 331.8333333333333, 270.61290322580646, 291.6666666666667, 507.1290322580645, 779.0967741935484, 1048.7857142857142, 2090.8709677419356, 3464.1666666666665, 2306.483870967742, 1203.8666666666666, 586.1612903225806, 406.1290322580645, 301.2, 228.61290322580646, 255.5, 474.6774193548387, 918.2903225806451, 1997.892857142857, 2971.6774193548385, 3314.4, 2351.0, 1491.1666666666667, 729.1612903225806, 449.5483870967742, 332.43333333333334, 267.6774193548387, 300.5, 422.06451612903226, 651.6451612903226, 1106.551724137931, 3883.3225806451615, 4063.7, 5181.8387096774195, 2822.0, 1321.516129032258, 659.4516129032259, 427.43333333333334, 329.96774193548384, 376.1333333333333, 541.6774193548387, 642.0645161290323, 937.8928571428571, 7260.548387096775, 3648.0, 2039.5483870967741, 1075.0666666666666, 591.741935483871, 418.93548387096774, 320.6, 295.7741935483871, 335.76666666666665, 552.3225806451613, 1646.225806451613, 8630.107142857143, 7995.387096774193, 4178.9, 2192.3225806451615, 1108.3, 656.8387096774194, 509.5483870967742, 408.73333333333335, 348.5483870967742, 408.76666666666665, 678.8387096774194, 857.483870967742, 1025.142857142857, 2694.4193548387098, 3163.766666666667, 1886.967741935484, 1003.9666666666667, 520.9354838709677, 381.2903225806452, 283.3666666666667, 210.4516129032258, 238.53333333333333, 396.64516129032256, 588.4193548387096, 811.4827586206897, 2441.3548387096776, 4072.1, 2236.2903225806454, 1287.3, 643.3225806451613, 409.35483870967744, 295.2, 220.58064516129033, 289.46666666666664, 393.06451612903226, 595.6129032258065, 890.3928571428571, 2621.8387096774195, 5657.066666666667, 3373.451612903226, 1823.8666666666666, 944.4193548387096, 522.1935483870968, 367.46666666666664, 277.64516129032256, 336.8666666666667, 490.0967741935484, 876.741935483871, 1967.7142857142858, 4357.419354838709, 5234.833333333333, 3461.2258064516127, 1877.8333333333333, 949.483870967742, 555.7096774193549, 410.8, 313.06451612903226, 348.4, 741.9677419354839, 1688.1935483870968, 4062.3214285714284, 6540.258064516129, 5356.666666666667, 3024.0, 1532.1666666666667, 831.6774193548387, 544.3870967741935, 421.1666666666667, 359.0, 469.3666666666667, 803.1290322580645, 1002.258064516129, 1329.8620689655172, 2236.2580645161293, 2274.8, 1689.3225806451612, 834.0, 505.4516129032258, 404.2903225806452, 326.03333333333336, 274.03225806451616, 330.26666666666665, 466.93548387096774, 690.0, 1052.7142857142858, 2318.3225806451615, 2552.4333333333334, 1803.225806451613, 926.1666666666666, 513.741935483871, 390.4193548387097, 315.8666666666667, 268.61290322580646, 286.8333333333333, 436.3225806451613, 620.6129032258065, 991.8571428571429, 2806.1290322580644, 4140.433333333333, 2306.9032258064517, 1258.5666666666666, 633.9354838709677, 436.5806451612903, 346.76666666666665, 279.48387096774195, 287.8, 372.06451612903226, 544.0645161290323, 783.8571428571429, 1145.8387096774193, 2745.1, 2443.0967741935483, 1582.0333333333333, 769.1935483870968, 441.80645161290323, 326.93333333333334, 277.80645161290323, 378.43333333333334, 566.1290322580645, 1700.0645161290322, 4719.379310344828, 4205.129032258064, 4707.866666666667, 2634.4193548387098, 1426.7, 781.4193548387096, 516.4516129032259, 397.6333333333333, 305.51612903225805, 356.4, 554.0322580645161, 790.1935483870968, 1755.25, 6893.096774193548, 7422.7, 3738.8064516129034, 1862.9666666666667, 1015.483870967742, 637.9354838709677, 469.06666666666666, 437.0967741935484, 525.9333333333333, 775.6129032258065, 1226.225806451613, 2996.8214285714284, 4635.903225806452, 3484.233333333333, 1987.8064516129032, 1056.5333333333333, 619.516129032258, 470.80645161290323, 374.9, 326.35483870967744, 378.73333333333335, 550.0967741935484, 850.483870967742, 1385.392857142857, 2781.1290322580644, 2570.3, 1688.258064516129, 1038.6333333333334, 589.483870967742, 436.48387096774195, 353.2, 292.35483870967744, 344.3666666666667, 447.9032258064516, 718.7741935483871, 829.7586206896551, 989.9354838709677, 1573.6, 1699.032258064516, 1154.3, 582.8709677419355, 415.4193548387097, 325.26666666666665, 285.48387096774195, 310.23333333333335, 387.1290322580645, 526.9677419354839, 703.8214285714286, 894.9677419354839, 1145.4, 1110.516129032258, 631.5, 403.5483870967742, 316.741935483871, 248.96666666666667, 232.90322580645162, 278.73333333333335, 525.5483870967741, 909.0967741935484, 1768.892857142857, 2613.9032258064517, 2300.7, 2288.8064516129034, 1301.5333333333333, 551.6451612903226, 381.61290322580646, 298.96666666666664, 234.1290322580645, 283.8333333333333, 510.83870967741933, 911.6774193548387, 2641.8214285714284, 4019.2903225806454, 4807.266666666666, 2846.2903225806454, 1467.2666666666667, 735.3548387096774, 472.0, 335.73333333333335, 265.5806451612903, 262.93333333333334, 400.48387096774195, 602.4193548387096, 877.8965517241379, 3622.064516129032, 4745.8, 3830.2903225806454, 2140.233333333333, 1034.3548387096773, 541.2258064516129, 403.0, 379.51612903225805, 378.43333333333334, 470.5483870967742, 691.5483870967741, 1043.75, 2081.4193548387098, 2609.866666666667, 2665.0967741935483, 1634.5666666666666, 781.2258064516129, 492.48387096774195, 373.6333333333333, 309.19354838709677, 303.6666666666667, 529.1612903225806, 983.3548387096774, 1475.2142857142858, 3519.4193548387098, 6021.133333333333, 4600.258064516129, 2476.4, 1217.967741935484, 676.483870967742, 490.5, 416.83870967741933, 519.1333333333333, 698.8709677419355, 939.3548387096774, 1466.392857142857, 2786.3870967741937, 4659.033333333334, 3071.0967741935483, 1526.7, 787.9677419354839, 521.0, 401.1666666666667, 339.06451612903226, 441.73333333333335, 709.7096774193549, 1379.7096774193549, 2260.3793103448274, 2590.935483870968, 2941.3, 2278.1290322580644, 1277.4666666666667, 652.8387096774194, 466.2903225806452, 360.8666666666667, 302.8709677419355, 374.8, 515.1935483870968, 744.0967741935484, 1071.357142857143, 2109.0967741935483, 3166.6, 2733.8064516129034, 1366.5666666666666, 648.258064516129, 450.80645161290323, 345.7, 268.3225806451613, 281.26666666666665, 373.9032258064516, 484.51612903225805, 631.7142857142857, 811.7741935483871, 1277.9666666666667, 1132.3870967741937, 729.7333333333333, 450.7096774193548, 350.96774193548384, 281.26666666666665, 269.38709677419354, 338.9, 525.1935483870968, 701.9354838709677, 842.5357142857143, 1040.4516129032259, 1084.1, 968.258064516129, 555.4333333333333, 391.80645161290323, 315.0, 250.36666666666667, 224.74193548387098, 270.3, 391.93548387096774, 540.1290322580645, 737.9655172413793, 1313.0645161290322, 1677.9333333333334, 1224.5483870967741, 586.7666666666667, 363.0, 283.7096774193548, 230.23333333333332, 210.80645161290323, 261.2, 376.0, 554.2903225806451, 798.8214285714286, 1044.0, 1648.1, 1781.967741935484, 1018.1, 469.2258064516129, 334.2258064516129, 252.93333333333334, 211.7741935483871, 223.23333333333332, 305.80645161290323, 421.5806451612903, 621.0714285714286, 896.7741935483871, 2171.0666666666666, 2029.2903225806451, 1040.1666666666667, 469.51612903225805, 339.2903225806452, 268.23333333333335, 285.3225806451613, 411.93333333333334, 571.741935483871, 718.7741935483871, 888.6428571428571, 1500.2903225806451, 1925.3, 1427.0, 763.3666666666667, 438.4516129032258, 339.64516129032256, 264.73333333333335, 236.38709677419354, 244.23333333333332, 364.1290322580645, 455.7741935483871, 817.7241379310345, 1109.6774193548388, 2057.5333333333333, 1872.483870967742, 1041.3333333333333, 487.5806451612903, 343.4193548387097, 272.76666666666665, 229.2258064516129, 287.26666666666665, 406.96774193548384, 590.9032258064516, 1298.3214285714287, 3122.6774193548385, 3321.266666666667, 3312.3870967741937, 1833.5666666666666, 799.9677419354839, 428.2903225806452, 312.3333333333333, 265.96774193548384, 242.1, 290.48387096774195, 501.258064516129, 703.1428571428571, 853.9354838709677, 900.3, 984.0322580645161, 747.5333333333333, 405.83870967741933, 306.9032258064516, 232.36666666666667, 212.5483870967742, 214.1, 319.258064516129, 511.741935483871, 938.75, 2139.3870967741937, 1889.9666666666667, 1478.483870967742, 687.8666666666667, 369.35483870967744, 283.258064516129, 221.43333333333334, 200.96774193548387, 261.3, 434.8709677419355, 538.3225806451613, 659.551724137931, 845.3870967741935, 838.0, 756.8064516129032, 446.5, 322.4516129032258, 253.48387096774192, 197.96666666666667, 172.5483870967742, 202.9, 288.61290322580646, 409.6774193548387, 734.6785714285714, 1185.516129032258, 2885.8, 2473.0, 1166.3666666666666, 458.51612903225805, 299.6774193548387, 219.96666666666667, 188.06451612903226, 223.83333333333334, 312.9032258064516, 519.9677419354839, 840.4285714285714, 1511.6129032258063, 1541.4666666666667, 741.3870967741935, 359.93333333333334, 277.741935483871, 226.83870967741936, 181.5, 155.58064516129033, 170.63333333333333, 233.03225806451613, 329.93548387096774, 458.57142857142856, 730.8387096774194, 1174.8, 757.5483870967741, 326.73333333333335, 243.7741935483871, 198.93548387096774, 152.73333333333332, 121.61290322580645, 153.83333333333334, 233.25806451612902, 369.4193548387097, 451.7241379310345, 588.1612903225806, 758.7666666666667, 685.8709677419355, 345.1333333333333, 254.38709677419354, 204.0, 157.73333333333332, 117.12903225806451, 156.7, 229.51612903225808, 410.1290322580645, 694.25, 890.9032258064516, 1253.3, 1315.0, 734.4333333333333, 347.38709677419354, 242.09677419354838, 194.23333333333332, 168.29032258064515, 181.63333333333333, 297.2258064516129, 565.258064516129, 1152.9642857142858, 2611.516129032258, 3313.4, 2518.0, 1192.7333333333333, 513.9354838709677, 353.16129032258067, 248.5, 195.70967741935485, 195.7, 342.64516129032256, 570.6774193548387, 987.5, 2292.1290322580644, 2972.633333333333, 2725.451612903226, 1314.2666666666667, 508.2903225806452, 334.64516129032256, 232.63333333333333, 196.29032258064515, 205.13333333333333, 309.2903225806452, 457.64516129032256, 690.6896551724138, 1247.5806451612902, 3047.8, 2132.9032258064517, 1062.7666666666667, 448.2258064516129, 299.06451612903226, 223.33333333333334, 162.29032258064515, 170.93333333333334, 339.4193548387097, 605.0322580645161, 1135.5714285714287, 2909.3870967741937, 3284.9666666666667, 3005.2903225806454, 1623.6666666666667, 687.8387096774194, 397.2903225806452, 287.8333333333333, 210.32258064516128, 283.23333333333335, 420.06451612903226, 548.0322580645161, 709.4642857142857, 1241.774193548387, 1785.1, 1934.225806451613, 1271.1333333333334, 543.1290322580645, 343.96774193548384, 251.93333333333334, 205.6451612903226, 212.96666666666667, 307.51612903225805, 551.483870967742, 887.5714285714286, 1523.258064516129, 2915.3, 3122.1935483870966, 1757.1333333333334, 729.2258064516129, 401.03225806451616, 271.7, 205.96774193548387, 220.8, 342.61290322580646, 600.1612903225806, 1061.551724137931, 3066.7741935483873, 3990.6, 3163.2580645161293, 1775.4333333333334, 718.516129032258, 402.83870967741933, 277.8666666666667, 215.25806451612902, 236.86666666666667, 341.83870967741933, 528.3548387096774, 806.3571428571429, 1184.741935483871, 1239.8666666666666, 1269.774193548387, 812.9666666666667, 424.5806451612903, 305.7096774193548, 230.5, 170.03225806451613, 211.3, 336.61290322580646, 601.516129032258, 971.5, 1610.967741935484, 2587.1, 2370.483870967742, 1497.6, 592.0, 349.4193548387097, 246.63333333333333, 218.29032258064515, 265.46666666666664, 439.03225806451616, 811.9354838709677, 3307.785714285714, 3978.0967741935483, 3291.133333333333, 2503.4193548387098, 1404.6, 680.1935483870968, 431.4193548387097, 315.23333333333335, 259.80645161290323, 279.1, 501.16129032258067, 1204.4193548387098, 2523.137931034483, 2939.6129032258063, 3033.4666666666667, 2374.8064516129034, 1336.9666666666667, 573.0967741935484, 373.06451612903226, 274.1333333333333, 195.90322580645162, 264.5, 522.0645161290323, 895.4516129032259, 1607.5, 4706.903225806452, 4503.9, 2604.967741935484, 1450.4333333333334, 642.3225806451613, 398.9032258064516, 282.2, 222.67741935483872, 290.43333333333334, 466.83870967741933, 788.0645161290323, 1646.0, 4335.935483870968, 4639.466666666666, 3824.548387096774, 2130.6666666666665, 1011.6451612903226, 532.4193548387096, 354.6, 250.58064516129033, 262.06666666666666, 453.7741935483871, 1273.5483870967741, 2841.964285714286, 3835.4193548387098, 4196.333333333333, 3545.7096774193546, 1905.2, 875.1290322580645, 500.03225806451616, 354.7, 274.741935483871, 297.4, 504.35483870967744, 838.8387096774194, 1581.3793103448277, 2339.7096774193546, 3195.5333333333333, 2800.3870967741937, 1426.5666666666666, 602.5483870967741, 403.64516129032256, 291.8666666666667, 236.48387096774192, 292.7, 501.16129032258067, 1223.967741935484, 3129.8571428571427, 3378.8064516129034, 3030.1666666666665, 2273.1935483870966, 1003.7333333333333, 499.2258064516129, 354.6774193548387, 264.6333333333333, 209.4516129032258, 248.93333333333334, 544.5806451612904, 804.741935483871, 1419.607142857143, 2362.6451612903224, 3451.0333333333333, 3225.0, 2076.133333333333, 961.2903225806451, 483.61290322580646, 330.96666666666664, 252.1290322580645, 266.53333333333336, 389.4193548387097, 601.6774193548387, 863.5, 1149.1290322580646, 1333.2, 1414.1935483870968, 1045.2333333333333, 497.6774193548387, 332.83870967741933, 239.96666666666667, 194.7741935483871, 203.8, 302.96774193548384, 491.16129032258067, 847.4137931034483, 2420.935483870968, 2933.2, 2458.935483870968, 1241.4333333333334, 500.48387096774195, 331.83870967741933, 241.5]}],\n",
       "                        {\"template\": {\"data\": {\"bar\": [{\"error_x\": {\"color\": \"#2a3f5f\"}, \"error_y\": {\"color\": \"#2a3f5f\"}, \"marker\": {\"line\": {\"color\": \"#E5ECF6\", \"width\": 0.5}}, \"type\": \"bar\"}], \"barpolar\": [{\"marker\": {\"line\": {\"color\": \"#E5ECF6\", \"width\": 0.5}}, \"type\": \"barpolar\"}], \"carpet\": [{\"aaxis\": {\"endlinecolor\": \"#2a3f5f\", \"gridcolor\": \"white\", \"linecolor\": \"white\", \"minorgridcolor\": \"white\", \"startlinecolor\": \"#2a3f5f\"}, \"baxis\": {\"endlinecolor\": \"#2a3f5f\", \"gridcolor\": \"white\", \"linecolor\": \"white\", \"minorgridcolor\": \"white\", \"startlinecolor\": \"#2a3f5f\"}, \"type\": \"carpet\"}], \"choropleth\": [{\"colorbar\": {\"outlinewidth\": 0, \"ticks\": \"\"}, \"type\": \"choropleth\"}], \"contour\": [{\"colorbar\": {\"outlinewidth\": 0, \"ticks\": \"\"}, \"colorscale\": [[0.0, \"#0d0887\"], [0.1111111111111111, \"#46039f\"], [0.2222222222222222, \"#7201a8\"], [0.3333333333333333, \"#9c179e\"], [0.4444444444444444, \"#bd3786\"], [0.5555555555555556, \"#d8576b\"], [0.6666666666666666, \"#ed7953\"], [0.7777777777777778, \"#fb9f3a\"], [0.8888888888888888, \"#fdca26\"], [1.0, \"#f0f921\"]], \"type\": \"contour\"}], \"contourcarpet\": [{\"colorbar\": {\"outlinewidth\": 0, \"ticks\": \"\"}, \"type\": \"contourcarpet\"}], \"heatmap\": [{\"colorbar\": {\"outlinewidth\": 0, \"ticks\": \"\"}, \"colorscale\": [[0.0, \"#0d0887\"], [0.1111111111111111, \"#46039f\"], [0.2222222222222222, \"#7201a8\"], [0.3333333333333333, \"#9c179e\"], [0.4444444444444444, \"#bd3786\"], [0.5555555555555556, \"#d8576b\"], [0.6666666666666666, \"#ed7953\"], [0.7777777777777778, \"#fb9f3a\"], [0.8888888888888888, \"#fdca26\"], [1.0, \"#f0f921\"]], \"type\": \"heatmap\"}], \"heatmapgl\": [{\"colorbar\": {\"outlinewidth\": 0, \"ticks\": \"\"}, \"colorscale\": [[0.0, \"#0d0887\"], [0.1111111111111111, \"#46039f\"], [0.2222222222222222, \"#7201a8\"], [0.3333333333333333, \"#9c179e\"], [0.4444444444444444, \"#bd3786\"], [0.5555555555555556, \"#d8576b\"], [0.6666666666666666, \"#ed7953\"], [0.7777777777777778, \"#fb9f3a\"], [0.8888888888888888, \"#fdca26\"], [1.0, \"#f0f921\"]], \"type\": \"heatmapgl\"}], \"histogram\": [{\"marker\": {\"colorbar\": {\"outlinewidth\": 0, \"ticks\": \"\"}}, \"type\": \"histogram\"}], \"histogram2d\": [{\"colorbar\": {\"outlinewidth\": 0, \"ticks\": \"\"}, \"colorscale\": [[0.0, \"#0d0887\"], [0.1111111111111111, \"#46039f\"], [0.2222222222222222, \"#7201a8\"], [0.3333333333333333, \"#9c179e\"], [0.4444444444444444, \"#bd3786\"], [0.5555555555555556, \"#d8576b\"], [0.6666666666666666, \"#ed7953\"], [0.7777777777777778, \"#fb9f3a\"], [0.8888888888888888, \"#fdca26\"], [1.0, \"#f0f921\"]], \"type\": \"histogram2d\"}], \"histogram2dcontour\": [{\"colorbar\": {\"outlinewidth\": 0, \"ticks\": \"\"}, \"colorscale\": [[0.0, \"#0d0887\"], [0.1111111111111111, \"#46039f\"], [0.2222222222222222, \"#7201a8\"], [0.3333333333333333, \"#9c179e\"], [0.4444444444444444, \"#bd3786\"], [0.5555555555555556, \"#d8576b\"], [0.6666666666666666, \"#ed7953\"], [0.7777777777777778, \"#fb9f3a\"], [0.8888888888888888, \"#fdca26\"], [1.0, \"#f0f921\"]], \"type\": \"histogram2dcontour\"}], \"mesh3d\": [{\"colorbar\": {\"outlinewidth\": 0, \"ticks\": \"\"}, \"type\": \"mesh3d\"}], \"parcoords\": [{\"line\": {\"colorbar\": {\"outlinewidth\": 0, \"ticks\": \"\"}}, \"type\": \"parcoords\"}], \"pie\": [{\"automargin\": true, \"type\": \"pie\"}], \"scatter\": [{\"marker\": {\"colorbar\": {\"outlinewidth\": 0, \"ticks\": \"\"}}, \"type\": \"scatter\"}], \"scatter3d\": [{\"line\": {\"colorbar\": {\"outlinewidth\": 0, \"ticks\": \"\"}}, \"marker\": {\"colorbar\": {\"outlinewidth\": 0, \"ticks\": \"\"}}, \"type\": \"scatter3d\"}], \"scattercarpet\": [{\"marker\": {\"colorbar\": {\"outlinewidth\": 0, \"ticks\": \"\"}}, \"type\": \"scattercarpet\"}], \"scattergeo\": [{\"marker\": {\"colorbar\": {\"outlinewidth\": 0, \"ticks\": \"\"}}, \"type\": \"scattergeo\"}], \"scattergl\": [{\"marker\": {\"colorbar\": {\"outlinewidth\": 0, \"ticks\": \"\"}}, \"type\": \"scattergl\"}], \"scattermapbox\": [{\"marker\": {\"colorbar\": {\"outlinewidth\": 0, \"ticks\": \"\"}}, \"type\": \"scattermapbox\"}], \"scatterpolar\": [{\"marker\": {\"colorbar\": {\"outlinewidth\": 0, \"ticks\": \"\"}}, \"type\": \"scatterpolar\"}], \"scatterpolargl\": [{\"marker\": {\"colorbar\": {\"outlinewidth\": 0, \"ticks\": \"\"}}, \"type\": \"scatterpolargl\"}], \"scatterternary\": [{\"marker\": {\"colorbar\": {\"outlinewidth\": 0, \"ticks\": \"\"}}, \"type\": \"scatterternary\"}], \"surface\": [{\"colorbar\": {\"outlinewidth\": 0, \"ticks\": \"\"}, \"colorscale\": [[0.0, \"#0d0887\"], [0.1111111111111111, \"#46039f\"], [0.2222222222222222, \"#7201a8\"], [0.3333333333333333, \"#9c179e\"], [0.4444444444444444, \"#bd3786\"], [0.5555555555555556, \"#d8576b\"], [0.6666666666666666, \"#ed7953\"], [0.7777777777777778, \"#fb9f3a\"], [0.8888888888888888, \"#fdca26\"], [1.0, \"#f0f921\"]], \"type\": \"surface\"}], \"table\": [{\"cells\": {\"fill\": {\"color\": \"#EBF0F8\"}, \"line\": {\"color\": \"white\"}}, \"header\": {\"fill\": {\"color\": \"#C8D4E3\"}, \"line\": {\"color\": \"white\"}}, \"type\": \"table\"}]}, \"layout\": {\"annotationdefaults\": {\"arrowcolor\": \"#2a3f5f\", \"arrowhead\": 0, \"arrowwidth\": 1}, \"coloraxis\": {\"colorbar\": {\"outlinewidth\": 0, \"ticks\": \"\"}}, \"colorscale\": {\"diverging\": [[0, \"#8e0152\"], [0.1, \"#c51b7d\"], [0.2, \"#de77ae\"], [0.3, \"#f1b6da\"], [0.4, \"#fde0ef\"], [0.5, \"#f7f7f7\"], [0.6, \"#e6f5d0\"], [0.7, \"#b8e186\"], [0.8, \"#7fbc41\"], [0.9, \"#4d9221\"], [1, \"#276419\"]], \"sequential\": [[0.0, \"#0d0887\"], [0.1111111111111111, \"#46039f\"], [0.2222222222222222, \"#7201a8\"], [0.3333333333333333, \"#9c179e\"], [0.4444444444444444, \"#bd3786\"], [0.5555555555555556, \"#d8576b\"], [0.6666666666666666, \"#ed7953\"], [0.7777777777777778, \"#fb9f3a\"], [0.8888888888888888, \"#fdca26\"], [1.0, \"#f0f921\"]], \"sequentialminus\": [[0.0, \"#0d0887\"], [0.1111111111111111, \"#46039f\"], [0.2222222222222222, \"#7201a8\"], [0.3333333333333333, \"#9c179e\"], [0.4444444444444444, \"#bd3786\"], [0.5555555555555556, \"#d8576b\"], [0.6666666666666666, \"#ed7953\"], [0.7777777777777778, \"#fb9f3a\"], [0.8888888888888888, \"#fdca26\"], [1.0, \"#f0f921\"]]}, \"colorway\": [\"#636efa\", \"#EF553B\", \"#00cc96\", \"#ab63fa\", \"#FFA15A\", \"#19d3f3\", \"#FF6692\", \"#B6E880\", \"#FF97FF\", \"#FECB52\"], \"font\": {\"color\": \"#2a3f5f\"}, \"geo\": {\"bgcolor\": \"white\", \"lakecolor\": \"white\", \"landcolor\": \"#E5ECF6\", \"showlakes\": true, \"showland\": true, \"subunitcolor\": \"white\"}, \"hoverlabel\": {\"align\": \"left\"}, \"hovermode\": \"closest\", \"mapbox\": {\"style\": \"light\"}, \"paper_bgcolor\": \"white\", \"plot_bgcolor\": \"#E5ECF6\", \"polar\": {\"angularaxis\": {\"gridcolor\": \"white\", \"linecolor\": \"white\", \"ticks\": \"\"}, \"bgcolor\": \"#E5ECF6\", \"radialaxis\": {\"gridcolor\": \"white\", \"linecolor\": \"white\", \"ticks\": \"\"}}, \"scene\": {\"xaxis\": {\"backgroundcolor\": \"#E5ECF6\", \"gridcolor\": \"white\", \"gridwidth\": 2, \"linecolor\": \"white\", \"showbackground\": true, \"ticks\": \"\", \"zerolinecolor\": \"white\"}, \"yaxis\": {\"backgroundcolor\": \"#E5ECF6\", \"gridcolor\": \"white\", \"gridwidth\": 2, \"linecolor\": \"white\", \"showbackground\": true, \"ticks\": \"\", \"zerolinecolor\": \"white\"}, \"zaxis\": {\"backgroundcolor\": \"#E5ECF6\", \"gridcolor\": \"white\", \"gridwidth\": 2, \"linecolor\": \"white\", \"showbackground\": true, \"ticks\": \"\", \"zerolinecolor\": \"white\"}}, \"shapedefaults\": {\"line\": {\"color\": \"#2a3f5f\"}}, \"ternary\": {\"aaxis\": {\"gridcolor\": \"white\", \"linecolor\": \"white\", \"ticks\": \"\"}, \"baxis\": {\"gridcolor\": \"white\", \"linecolor\": \"white\", \"ticks\": \"\"}, \"bgcolor\": \"#E5ECF6\", \"caxis\": {\"gridcolor\": \"white\", \"linecolor\": \"white\", \"ticks\": \"\"}}, \"title\": {\"x\": 0.05}, \"xaxis\": {\"automargin\": true, \"gridcolor\": \"white\", \"linecolor\": \"white\", \"ticks\": \"\", \"title\": {\"standoff\": 15}, \"zerolinecolor\": \"white\", \"zerolinewidth\": 2}, \"yaxis\": {\"automargin\": true, \"gridcolor\": \"white\", \"linecolor\": \"white\", \"ticks\": \"\", \"title\": {\"standoff\": 15}, \"zerolinecolor\": \"white\", \"zerolinewidth\": 2}}}, \"title\": {\"text\": \"Mean Monthly Flow\"}, \"yaxis\": {\"range\": [0, 9000], \"separatethousands\": true, \"title\": {\"text\": \"Flow m\\u00b3/s\"}}},\n",
       "                        {\"responsive\": true}\n",
       "                    ).then(function(){\n",
       "                            \n",
       "var gd = document.getElementById('78c28c19-834b-493c-bcc0-0ce283be0bca');\n",
       "var x = new MutationObserver(function (mutations, observer) {{\n",
       "        var display = window.getComputedStyle(gd).display;\n",
       "        if (!display || display === 'none') {{\n",
       "            console.log([gd, 'removed!']);\n",
       "            Plotly.purge(gd);\n",
       "            observer.disconnect();\n",
       "        }}\n",
       "}});\n",
       "\n",
       "// Listen for the removal of the full notebook cells\n",
       "var notebookContainer = gd.closest('#notebook-container');\n",
       "if (notebookContainer) {{\n",
       "    x.observe(notebookContainer, {childList: true});\n",
       "}}\n",
       "\n",
       "// Listen for the clearing of the current output cell\n",
       "var outputEl = gd.closest('.output');\n",
       "if (outputEl) {{\n",
       "    x.observe(outputEl, {childList: true});\n",
       "}}\n",
       "\n",
       "                        })\n",
       "                };\n",
       "                });\n",
       "            </script>\n",
       "        </div>"
      ]
     },
     "metadata": {},
     "output_type": "display_data"
    }
   ],
   "source": [
    "fig = go.Figure(\n",
    "    data=[go.Scatter(x=monthly['DateFrom'], y=monthly['Flow_mean'])],\n",
    "    layout_title_text='Mean Monthly Flow',\n",
    "    layout_yaxis_title_text='Flow m\\u00B3/s',\n",
    "    layout_yaxis_separatethousands=True,\n",
    "    layout_yaxis_range=(0,9000)\n",
    "    \n",
    ")\n",
    "fig.show()\n"
   ]
  },
  {
   "cell_type": "code",
   "execution_count": 151,
   "metadata": {},
   "outputs": [
    {
     "data": {
      "text/plain": [
       "10    Oct\n",
       "11    Nov\n",
       "12    Dec\n",
       "1     Jan\n",
       "2     Feb\n",
       "3     Mar\n",
       "4     Apr\n",
       "5     May\n",
       "6     Jun\n",
       "7     Jul\n",
       "8     Aug\n",
       "9     Sep\n",
       "9     Sep\n",
       "8     Aug\n",
       "7     Jul\n",
       "6     Jun\n",
       "5     May\n",
       "4     Apr\n",
       "3     Mar\n",
       "2     Feb\n",
       "1     Jan\n",
       "12    Dec\n",
       "11    Nov\n",
       "10    Oct\n",
       "Name: MonthName, dtype: object"
      ]
     },
     "execution_count": 151,
     "metadata": {},
     "output_type": "execute_result"
    }
   ],
   "source": [
    "pd.concat([calmonthly_ps['MonthName'],calmonthly_ps['MonthName'][::-1]])"
   ]
  },
  {
   "cell_type": "code",
   "execution_count": 146,
   "metadata": {},
   "outputs": [
    {
     "data": {
      "text/plain": [
       "[1, 2, 3, 4, 4, 3, 2, 1]"
      ]
     },
     "execution_count": 146,
     "metadata": {},
     "output_type": "execute_result"
    }
   ],
   "source": [
    "x=[1,2,3,4]\n",
    "x_rev = x[::-1]\n",
    "x+x_rev"
   ]
  },
  {
   "cell_type": "code",
   "execution_count": null,
   "metadata": {},
   "outputs": [],
   "source": []
  }
 ],
 "metadata": {
  "kernelspec": {
   "display_name": "Python 3",
   "language": "python",
   "name": "python3"
  },
  "language_info": {
   "codemirror_mode": {
    "name": "ipython",
    "version": 3
   },
   "file_extension": ".py",
   "mimetype": "text/x-python",
   "name": "python",
   "nbconvert_exporter": "python",
   "pygments_lexer": "ipython3",
   "version": "3.8.1"
  }
 },
 "nbformat": 4,
 "nbformat_minor": 4
}
