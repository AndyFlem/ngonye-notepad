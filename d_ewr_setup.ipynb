{
 "cells": [
  {
   "cell_type": "markdown",
   "metadata": {},
   "source": [
    "# d) Setup Environmental Flow Requirements\n",
    "\n",
    "Calculated Environmental Flow exceedance percentiles for each day of the historic flow series. These are used later to determine environmental flows.\n",
    "\n",
    "## Procedure\n",
    "\n",
    "From: **Mott MacDonald** - *Ngonye Falls Hydropower Project - 2018 Feasibility Study Update - Final Report Version D*\n",
    "\n",
    "Based on the environmental flow bands, the methodology adopted for the energy modelling is as below:\n",
    "\n",
    "- The flow on the 8th, 18th and 28th day of each month is identified. \n",
    "- The equivalent percentile of this flow based on flow exceedance curves is calculated for that day from the 92 years of data.\n",
    "- This percentile is used to decide the environmental flow release for the succeeding ~10 day periods of 1st to 10th, 11th to 20th and 21st to end of the month.\n",
    "- Environmental flow in this band and month is released in the respective channels.\n",
    "\n",
    "In this notebook the exceedance percentiles for each day of the historic flow series are calculated. These will later be used to lookup the required EWR values for each channel depending on the Environmental Assurance Category selected for the channel. \n",
    "\n",
    "## Inputs\n",
    "\n",
    "| Data                       | Source                                        | Description                                 |\n",
    "|----------------------------|-----------------------------------------------|---------------------------------------------|\n",
    "| ngonye_flow_daily.csv        | Notebook: c_flow_data | Daily Flow series              |\n",
    "\n",
    "\n",
    "\n",
    "## Outputs\n",
    "| File                       | Description                                 |\n",
    "|----------------------------|---------------------------------------------|\n",
    "| ngonye_flow_daily_ewrx.csv  | Daily flow series for Ngonye with EWR Exceedance values  |\n"
   ]
  },
  {
   "cell_type": "markdown",
   "metadata": {},
   "source": [
    "## Parameters"
   ]
  },
  {
   "cell_type": "code",
   "execution_count": 1,
   "metadata": {
    "tags": [
     "parameters"
    ]
   },
   "outputs": [],
   "source": [
    "#Papermill parameters\n",
    "#input_file='CC/ngonye_daily_WC1_1'#'ngonye_daily'\n",
    "input_file=''"
   ]
  },
  {
   "cell_type": "code",
   "execution_count": 2,
   "metadata": {},
   "outputs": [],
   "source": [
    "input_data='./input_data/'\n",
    "output_data='./output_data/'"
   ]
  },
  {
   "cell_type": "markdown",
   "metadata": {},
   "source": [
    "## Libraries"
   ]
  },
  {
   "cell_type": "code",
   "execution_count": 3,
   "metadata": {},
   "outputs": [],
   "source": [
    "import numpy as np\n",
    "import pandas as pd"
   ]
  },
  {
   "cell_type": "markdown",
   "metadata": {},
   "source": [
    "## Load Daily Data"
   ]
  },
  {
   "cell_type": "code",
   "execution_count": 6,
   "metadata": {},
   "outputs": [],
   "source": [
    "daily=pd.read_csv(output_data + input_file + '.csv')\n",
    "daily=daily.set_index(pd.to_datetime(daily['Date'],format=\"%Y-%m-%d\"))\n",
    "daily=daily.drop('Date',axis=1)\n",
    "#daily.head(5)"
   ]
  },
  {
   "cell_type": "markdown",
   "metadata": {},
   "source": [
    "## Build FDCs\n",
    "Build FDCs for each of the 'measurement days' - 8th, 18th, 28th of each month"
   ]
  },
  {
   "cell_type": "code",
   "execution_count": 8,
   "metadata": {},
   "outputs": [],
   "source": [
    "cols=['9-28','10-8','10-18','10-28','11-8','11-18','11-28','12-8','12-18','12-28',\n",
    "      '1-8','1-18','1-28','2-8','2-18','2-28','3-8','3-18','3-28','4-8','4-18',\n",
    "      '4-28','5-8','5-18','5-28','6-8','6-18','6-28','7-8','7-18','7-28','8-8','8-18','8-28','9-8','9-18']\n",
    "ewr_fdcs=pd.DataFrame(columns=cols,index=np.arange(0,1.01,0.01))\n",
    "\n",
    "for column in ewr_fdcs:   \n",
    "    (month,day)=column.split('-')\n",
    "    ewr_fdcs[column]=np.percentile(daily[(daily['Month']==int(month)) & (daily['Day']==int(day))]['Flow'] ,(1-ewr_fdcs.index)*100,interpolation='linear')\n",
    "    \n",
    "#ewr_fdcs.tail(5)"
   ]
  },
  {
   "cell_type": "markdown",
   "metadata": {},
   "source": [
    "## Functions"
   ]
  },
  {
   "cell_type": "code",
   "execution_count": 9,
   "metadata": {},
   "outputs": [],
   "source": [
    "#Gives the measure date (proceeding 8th, 18th or 28th) for the given date\n",
    "def measureDate(obsDate):\n",
    "    if obsDate.day <= 10:\n",
    "        if obsDate.month==1:\n",
    "            mn=13\n",
    "            yr=obsDate.year-1\n",
    "        else:\n",
    "            mn=obsDate.month\n",
    "            yr=obsDate.year\n",
    "        return pd.Timestamp(yr, mn-1, 28)\n",
    "    elif obsDate.day <=20:\n",
    "        return pd.Timestamp(obsDate.year, obsDate.month, 8)\n",
    "    else:\n",
    "        return pd.Timestamp(obsDate.year, obsDate.month, 18)\n",
    "\n",
    "#If it is a measure date (8th, 18th or 28th) then returns the ID of an FDC for that date. Otherwise False.\n",
    "def isMeasureDay(obsDate):\n",
    "    if obsDate.day==8 or obsDate.day==18 or obsDate.day==28:\n",
    "        return str(obsDate.month) + '-' + str(obsDate.day) \n",
    "    else:\n",
    "        return False\n",
    "    \n",
    "#Given an FDC ID and flow looks up exceedance\n",
    "def lookupExceedance(measureDay,flow):\n",
    "    return ewr_fdcs[ewr_fdcs[measureDay]<=flow].index.min()"
   ]
  },
  {
   "cell_type": "markdown",
   "metadata": {},
   "source": [
    "## Exceedance Lookup\n",
    "Build a table of measurement days and lookup the exceedance value for these from the FDCs already built"
   ]
  },
  {
   "cell_type": "code",
   "execution_count": 10,
   "metadata": {},
   "outputs": [],
   "source": [
    "daily['dDate']=daily.index\n",
    "daily['MeasureDay']=daily.apply(lambda x: isMeasureDay(x['dDate']),axis=1)\n",
    "ewr_measure_days=pd.DataFrame(daily.loc[daily['MeasureDay']!=False]['MeasureDay'])\n",
    "ewr_measure_days['Flow']=daily['Flow']\n",
    "ewr_measure_days['Exceedance']=ewr_measure_days.apply(lambda x: lookupExceedance(x['MeasureDay'],x['Flow']),axis=1)\n",
    "#ewr_measure_days.tail(3)"
   ]
  },
  {
   "cell_type": "markdown",
   "metadata": {},
   "source": [
    "## EWR Measure Dates\n",
    "Mark the dates on the daily timeseries where the EWR will be re-measured (8th, 18th, 28th of each month) "
   ]
  },
  {
   "cell_type": "code",
   "execution_count": 11,
   "metadata": {},
   "outputs": [],
   "source": [
    "daily['dDate']=daily.index\n",
    "daily['EWRMeasureDate']=daily.apply(lambda x: measureDate(x['dDate']),axis=1)"
   ]
  },
  {
   "cell_type": "markdown",
   "metadata": {},
   "source": [
    "## Daily EWR Exceedance\n",
    "Lookup the EWR exceedance values for each day of the daily series based on the measure date"
   ]
  },
  {
   "cell_type": "code",
   "execution_count": 13,
   "metadata": {},
   "outputs": [],
   "source": [
    "daily['EWRRefExceedance']=daily.join(ewr_measure_days,on='EWRMeasureDate',lsuffix='_l')['Exceedance']"
   ]
  },
  {
   "cell_type": "code",
   "execution_count": 14,
   "metadata": {},
   "outputs": [],
   "source": [
    "daily=daily.drop(['MeasureDay','EWRMeasureDate','dDate'],axis=1)\n",
    "daily=daily.fillna(0.5)\n",
    "#daily.tail(3)"
   ]
  },
  {
   "cell_type": "markdown",
   "metadata": {},
   "source": [
    "## Save"
   ]
  },
  {
   "cell_type": "code",
   "execution_count": 15,
   "metadata": {},
   "outputs": [],
   "source": [
    "daily.to_csv(output_data + input_file + '.csv')"
   ]
  }
 ],
 "metadata": {
  "kernelspec": {
   "display_name": "Python 3",
   "language": "python",
   "name": "python3"
  },
  "language_info": {
   "codemirror_mode": {
    "name": "ipython",
    "version": 3
   },
   "file_extension": ".py",
   "mimetype": "text/x-python",
   "name": "python",
   "nbconvert_exporter": "python",
   "pygments_lexer": "ipython3",
   "version": "3.8.1"
  }
 },
 "nbformat": 4,
 "nbformat_minor": 4
}
