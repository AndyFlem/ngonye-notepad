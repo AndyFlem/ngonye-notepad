{
 "cells": [
  {
   "cell_type": "code",
   "execution_count": 1,
   "metadata": {},
   "outputs": [],
   "source": [
    "import numpy as np\n",
    "import pandas as pd"
   ]
  },
  {
   "cell_type": "code",
   "execution_count": 2,
   "metadata": {},
   "outputs": [],
   "source": [
    "output_data='./output_data/CC/'"
   ]
  },
  {
   "cell_type": "code",
   "execution_count": 40,
   "metadata": {},
   "outputs": [],
   "source": [
    "cc_case='WC1'"
   ]
  },
  {
   "cell_type": "code",
   "execution_count": 41,
   "metadata": {},
   "outputs": [
    {
     "data": {
      "text/html": [
       "<div>\n",
       "<style scoped>\n",
       "    .dataframe tbody tr th:only-of-type {\n",
       "        vertical-align: middle;\n",
       "    }\n",
       "\n",
       "    .dataframe tbody tr th {\n",
       "        vertical-align: top;\n",
       "    }\n",
       "\n",
       "    .dataframe thead th {\n",
       "        text-align: right;\n",
       "    }\n",
       "</style>\n",
       "<table border=\"1\" class=\"dataframe\">\n",
       "  <thead>\n",
       "    <tr style=\"text-align: right;\">\n",
       "      <th></th>\n",
       "      <th>StartDate</th>\n",
       "      <th>Mean_2023_2040</th>\n",
       "      <th>Mean_2023_2052</th>\n",
       "      <th>Energy_mean</th>\n",
       "      <th>Energy_median</th>\n",
       "      <th>Energy_mean_2023_2040</th>\n",
       "      <th>Energy_mean_2023_2052</th>\n",
       "      <th>Energy_mean_2025_2042</th>\n",
       "      <th>Energy_mean_2025_2049</th>\n",
       "    </tr>\n",
       "    <tr>\n",
       "      <th>SimNo</th>\n",
       "      <th></th>\n",
       "      <th></th>\n",
       "      <th></th>\n",
       "      <th></th>\n",
       "      <th></th>\n",
       "      <th></th>\n",
       "      <th></th>\n",
       "      <th></th>\n",
       "      <th></th>\n",
       "    </tr>\n",
       "  </thead>\n",
       "  <tbody>\n",
       "    <tr>\n",
       "      <th>1</th>\n",
       "      <td>1933-10-01</td>\n",
       "      <td>995.262002</td>\n",
       "      <td>1084.154116</td>\n",
       "      <td>817.180824</td>\n",
       "      <td>817.180824</td>\n",
       "      <td>801.998550</td>\n",
       "      <td>819.456187</td>\n",
       "      <td>796.60105</td>\n",
       "      <td>814.664174</td>\n",
       "    </tr>\n",
       "    <tr>\n",
       "      <th>2</th>\n",
       "      <td>1934-10-01</td>\n",
       "      <td>1040.548914</td>\n",
       "      <td>1089.245482</td>\n",
       "      <td>823.753350</td>\n",
       "      <td>823.753350</td>\n",
       "      <td>796.560298</td>\n",
       "      <td>823.646893</td>\n",
       "      <td>802.34879</td>\n",
       "      <td>820.292843</td>\n",
       "    </tr>\n",
       "    <tr>\n",
       "      <th>3</th>\n",
       "      <td>1935-10-01</td>\n",
       "      <td>1048.353237</td>\n",
       "      <td>1093.802597</td>\n",
       "      <td>827.073357</td>\n",
       "      <td>827.073357</td>\n",
       "      <td>799.809880</td>\n",
       "      <td>827.241241</td>\n",
       "      <td>806.77566</td>\n",
       "      <td>825.837659</td>\n",
       "    </tr>\n",
       "  </tbody>\n",
       "</table>\n",
       "</div>"
      ],
      "text/plain": [
       "        StartDate  Mean_2023_2040  Mean_2023_2052  Energy_mean  Energy_median  \\\n",
       "SimNo                                                                           \n",
       "1      1933-10-01      995.262002     1084.154116   817.180824     817.180824   \n",
       "2      1934-10-01     1040.548914     1089.245482   823.753350     823.753350   \n",
       "3      1935-10-01     1048.353237     1093.802597   827.073357     827.073357   \n",
       "\n",
       "       Energy_mean_2023_2040  Energy_mean_2023_2052  Energy_mean_2025_2042  \\\n",
       "SimNo                                                                        \n",
       "1                 801.998550             819.456187              796.60105   \n",
       "2                 796.560298             823.646893              802.34879   \n",
       "3                 799.809880             827.241241              806.77566   \n",
       "\n",
       "       Energy_mean_2025_2049  \n",
       "SimNo                         \n",
       "1                 814.664174  \n",
       "2                 820.292843  \n",
       "3                 825.837659  "
      ]
     },
     "execution_count": 41,
     "metadata": {},
     "output_type": "execute_result"
    }
   ],
   "source": [
    "sims=pd.read_csv(output_data+'climate_change_sims_' + cc_case + '.csv').set_index('SimNo')\n",
    "sims.head(3)"
   ]
  },
  {
   "cell_type": "code",
   "execution_count": 42,
   "metadata": {},
   "outputs": [],
   "source": [
    "for sim in sims.itertuples():\n",
    "    yearly=pd.read_csv(output_data+'ngonye_daily_' + cc_case + '_' + str(sim.Index) + '_base_pe_yearly.csv')\n",
    "    sims.at[sim.Index,'Energy_mean']=yearly['Energy'].mean()/1000\n",
    "    sims.at[sim.Index,'Energy_median']=yearly['Energy'].median()/1000\n",
    "    sims.at[sim.Index,'Energy_mean_2023_2040']=yearly.loc[(yearly['WaterYear']>=2023) & (yearly['WaterYear']<=2040)]['Energy'].mean()/1000\n",
    "    sims.at[sim.Index,'Energy_mean_2023_2052']=yearly.loc[(yearly['WaterYear']>=2023) & (yearly['WaterYear']<=2052)]['Energy'].mean()/1000\n",
    "    sims.at[sim.Index,'Energy_mean_2025_2042']=yearly.loc[(yearly['WaterYear']>=2025) & (yearly['WaterYear']<=2042)]['Energy'].mean()/1000\n",
    "    sims.at[sim.Index,'Energy_mean_2025_2049']=yearly.loc[(yearly['WaterYear']>=2025) & (yearly['WaterYear']<=2049)]['Energy'].mean()/1000\n",
    "    "
   ]
  },
  {
   "cell_type": "code",
   "execution_count": 43,
   "metadata": {},
   "outputs": [
    {
     "data": {
      "text/plain": [
       "815.111314033702"
      ]
     },
     "execution_count": 43,
     "metadata": {},
     "output_type": "execute_result"
    }
   ],
   "source": [
    "yearly.loc[(yearly['WaterYear']>=2023) & (yearly['WaterYear']<=2040)]['Energy'].mean()/1000"
   ]
  },
  {
   "cell_type": "code",
   "execution_count": 44,
   "metadata": {},
   "outputs": [
    {
     "data": {
      "text/html": [
       "<div>\n",
       "<style scoped>\n",
       "    .dataframe tbody tr th:only-of-type {\n",
       "        vertical-align: middle;\n",
       "    }\n",
       "\n",
       "    .dataframe tbody tr th {\n",
       "        vertical-align: top;\n",
       "    }\n",
       "\n",
       "    .dataframe thead th {\n",
       "        text-align: right;\n",
       "    }\n",
       "</style>\n",
       "<table border=\"1\" class=\"dataframe\">\n",
       "  <thead>\n",
       "    <tr style=\"text-align: right;\">\n",
       "      <th></th>\n",
       "      <th>StartDate</th>\n",
       "      <th>Mean_2023_2040</th>\n",
       "      <th>Mean_2023_2052</th>\n",
       "      <th>Energy_mean</th>\n",
       "      <th>Energy_median</th>\n",
       "      <th>Energy_mean_2023_2040</th>\n",
       "      <th>Energy_mean_2023_2052</th>\n",
       "      <th>Energy_mean_2025_2042</th>\n",
       "      <th>Energy_mean_2025_2049</th>\n",
       "    </tr>\n",
       "    <tr>\n",
       "      <th>SimNo</th>\n",
       "      <th></th>\n",
       "      <th></th>\n",
       "      <th></th>\n",
       "      <th></th>\n",
       "      <th></th>\n",
       "      <th></th>\n",
       "      <th></th>\n",
       "      <th></th>\n",
       "      <th></th>\n",
       "    </tr>\n",
       "  </thead>\n",
       "  <tbody>\n",
       "    <tr>\n",
       "      <th>1</th>\n",
       "      <td>1933-10-01</td>\n",
       "      <td>995.262002</td>\n",
       "      <td>1084.154116</td>\n",
       "      <td>817.180824</td>\n",
       "      <td>820.710677</td>\n",
       "      <td>801.998550</td>\n",
       "      <td>819.456187</td>\n",
       "      <td>796.601050</td>\n",
       "      <td>814.664174</td>\n",
       "    </tr>\n",
       "    <tr>\n",
       "      <th>2</th>\n",
       "      <td>1934-10-01</td>\n",
       "      <td>1040.548914</td>\n",
       "      <td>1089.245482</td>\n",
       "      <td>823.753350</td>\n",
       "      <td>826.095232</td>\n",
       "      <td>796.560298</td>\n",
       "      <td>823.646893</td>\n",
       "      <td>802.348790</td>\n",
       "      <td>820.292843</td>\n",
       "    </tr>\n",
       "    <tr>\n",
       "      <th>3</th>\n",
       "      <td>1935-10-01</td>\n",
       "      <td>1048.353237</td>\n",
       "      <td>1093.802597</td>\n",
       "      <td>827.073357</td>\n",
       "      <td>828.819208</td>\n",
       "      <td>799.809880</td>\n",
       "      <td>827.241241</td>\n",
       "      <td>806.775660</td>\n",
       "      <td>825.837659</td>\n",
       "    </tr>\n",
       "    <tr>\n",
       "      <th>4</th>\n",
       "      <td>1936-10-01</td>\n",
       "      <td>1072.257487</td>\n",
       "      <td>1099.729232</td>\n",
       "      <td>829.671298</td>\n",
       "      <td>831.442447</td>\n",
       "      <td>805.623021</td>\n",
       "      <td>831.956533</td>\n",
       "      <td>811.775048</td>\n",
       "      <td>826.712861</td>\n",
       "    </tr>\n",
       "    <tr>\n",
       "      <th>5</th>\n",
       "      <td>1937-10-01</td>\n",
       "      <td>1111.183712</td>\n",
       "      <td>1099.807323</td>\n",
       "      <td>823.988234</td>\n",
       "      <td>826.472203</td>\n",
       "      <td>807.794164</td>\n",
       "      <td>827.308944</td>\n",
       "      <td>816.807130</td>\n",
       "      <td>831.972220</td>\n",
       "    </tr>\n",
       "  </tbody>\n",
       "</table>\n",
       "</div>"
      ],
      "text/plain": [
       "        StartDate  Mean_2023_2040  Mean_2023_2052  Energy_mean  Energy_median  \\\n",
       "SimNo                                                                           \n",
       "1      1933-10-01      995.262002     1084.154116   817.180824     820.710677   \n",
       "2      1934-10-01     1040.548914     1089.245482   823.753350     826.095232   \n",
       "3      1935-10-01     1048.353237     1093.802597   827.073357     828.819208   \n",
       "4      1936-10-01     1072.257487     1099.729232   829.671298     831.442447   \n",
       "5      1937-10-01     1111.183712     1099.807323   823.988234     826.472203   \n",
       "\n",
       "       Energy_mean_2023_2040  Energy_mean_2023_2052  Energy_mean_2025_2042  \\\n",
       "SimNo                                                                        \n",
       "1                 801.998550             819.456187             796.601050   \n",
       "2                 796.560298             823.646893             802.348790   \n",
       "3                 799.809880             827.241241             806.775660   \n",
       "4                 805.623021             831.956533             811.775048   \n",
       "5                 807.794164             827.308944             816.807130   \n",
       "\n",
       "       Energy_mean_2025_2049  \n",
       "SimNo                         \n",
       "1                 814.664174  \n",
       "2                 820.292843  \n",
       "3                 825.837659  \n",
       "4                 826.712861  \n",
       "5                 831.972220  "
      ]
     },
     "execution_count": 44,
     "metadata": {},
     "output_type": "execute_result"
    }
   ],
   "source": [
    "sims.head(5)"
   ]
  },
  {
   "cell_type": "code",
   "execution_count": 45,
   "metadata": {},
   "outputs": [],
   "source": [
    "sims.to_csv(output_data+'climate_change_sims_' + cc_case + '.csv')"
   ]
  }
 ],
 "metadata": {
  "kernelspec": {
   "display_name": "Python 3",
   "language": "python",
   "name": "python3"
  },
  "language_info": {
   "codemirror_mode": {
    "name": "ipython",
    "version": 3
   },
   "file_extension": ".py",
   "mimetype": "text/x-python",
   "name": "python",
   "nbconvert_exporter": "python",
   "pygments_lexer": "ipython3",
   "version": "3.8.1"
  }
 },
 "nbformat": 4,
 "nbformat_minor": 4
}
