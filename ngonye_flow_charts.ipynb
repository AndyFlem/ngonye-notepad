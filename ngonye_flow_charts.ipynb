{
 "cells": [
  {
   "cell_type": "markdown",
   "metadata": {},
   "source": [
    "# Ngonye Falls Flow Analysis\n"
   ]
  },
  {
   "cell_type": "code",
   "execution_count": 37,
   "metadata": {
    "tags": [
     "remove_cell"
    ]
   },
   "outputs": [],
   "source": [
    "import numpy as np\n",
    "import pandas as pd\n",
    "\n",
    "import plotly.graph_objects as go\n",
    "from plotly.subplots import make_subplots\n",
    "\n",
    "import ipywidgets as widgets\n",
    "from ipywidgets import interact, interact_manual\n",
    "\n",
    "bookRenderer=\"\"\n",
    "#bookRenderer=\"notebook+plotly_mimetype\"\n"
   ]
  },
  {
   "cell_type": "markdown",
   "metadata": {},
   "source": [
    "# Load the Data"
   ]
  },
  {
   "cell_type": "code",
   "execution_count": 23,
   "metadata": {},
   "outputs": [],
   "source": [
    "daily = pd.read_csv(\"prepared_daily.csv\").set_index('Date')\n",
    "#daily"
   ]
  },
  {
   "cell_type": "code",
   "execution_count": 24,
   "metadata": {},
   "outputs": [],
   "source": [
    "monthly = pd.read_csv(\"prepared_monthly.csv\").set_index('MonthId')\n",
    "#monthly"
   ]
  },
  {
   "cell_type": "code",
   "execution_count": 25,
   "metadata": {},
   "outputs": [],
   "source": [
    "calmonthly = pd.read_csv(\"prepared_calmonthly.csv\").set_index('WaterMonth')\n",
    "#calmonthly"
   ]
  },
  {
   "cell_type": "code",
   "execution_count": 36,
   "metadata": {},
   "outputs": [],
   "source": [
    "yearly = pd.read_csv(\"prepared_yearly.csv\").set_index('WaterYear')\n",
    "#yearly"
   ]
  },
  {
   "cell_type": "markdown",
   "metadata": {},
   "source": [
    "# Charts"
   ]
  },
  {
   "cell_type": "code",
   "execution_count": 27,
   "metadata": {
    "jupyter": {
     "source_hidden": true
    }
   },
   "outputs": [
    {
     "data": {
      "application/vnd.plotly.v1+json": {
       "config": {
        "plotlyServerURL": "https://plot.ly"
       },
       "data": [
        {
         "fill": "toself",
         "fillcolor": "rgba(100,100,100,0.2)",
         "hoverlabel": {
          "bgcolor": "rgba(200,200,200,0.2)"
         },
         "hovertemplate": "%{x}: %{y:0f} m³/s</br><extra></extra>",
         "line": {
          "shape": "spline",
          "width": 0
         },
         "marker": {
          "color": "rgba(100,100,100,0.4)",
          "size": 2
         },
         "mode": "markers",
         "name": "P90 - P10",
         "type": "scatter",
         "x": [
          "Oct",
          "Nov",
          "Dec",
          "Jan",
          "Feb",
          "Mar",
          "Apr",
          "May",
          "Jun",
          "Jul",
          "Aug",
          "Sep",
          "Sep",
          "Aug",
          "Jul",
          "Jun",
          "May",
          "Apr",
          "Mar",
          "Feb",
          "Jan",
          "Dec",
          "Nov",
          "Oct"
         ],
         "xaxis": "x",
         "y": [
          174.1032258064516,
          200.36666666666667,
          307.8709677419355,
          478.68387096774194,
          691.4017241379311,
          912.8129032258064,
          1258.2333333333333,
          1129.574193548387,
          631.8866666666668,
          370.18709677419366,
          281.55483870967737,
          215.0666666666667,
          374.64666666666665,
          515.0709677419355,
          848.632258064516,
          1814.18,
          3218.361290322581,
          4655.12,
          4347.703225806452,
          2480.138916256157,
          998.4774193548386,
          563.7096774193548,
          375.86666666666673,
          308.458064516129
         ],
         "yaxis": "y"
        },
        {
         "fill": "toself",
         "fillcolor": "rgba(100,100,100,0.4)",
         "hoverlabel": {
          "bgcolor": "rgba(200,200,200,0.2)"
         },
         "hovertemplate": "%{x}: %{y:0f} m³/s</br><extra></extra>",
         "line": {
          "shape": "spline",
          "width": 0
         },
         "marker": {
          "color": "rgba(100,100,100,0.8)",
          "size": 2
         },
         "mode": "markers",
         "name": "P75 - P25",
         "type": "scatter",
         "x": [
          "Oct",
          "Nov",
          "Dec",
          "Jan",
          "Feb",
          "Mar",
          "Apr",
          "May",
          "Jun",
          "Jul",
          "Aug",
          "Sep",
          "Sep",
          "Aug",
          "Jul",
          "Jun",
          "May",
          "Apr",
          "Mar",
          "Feb",
          "Jan",
          "Dec",
          "Nov",
          "Oct"
         ],
         "xaxis": "x",
         "y": [
          198.70967741935485,
          220.8,
          346.70967741935476,
          544.0645161290323,
          809.2758620689655,
          1185.516129032258,
          1925.3,
          1685.032258064516,
          855.5,
          449.5483870967742,
          316.741935483871,
          239.96666666666667,
          327.43333333333334,
          441.80645161290323,
          690.2903225806451,
          1467.2666666666669,
          2674.322580645161,
          3698.066666666666,
          3122.677419354838,
          1419.607142857143,
          811.9354838709677,
          504.35483870967744,
          310.23333333333335,
          274.4193548387097
         ],
         "yaxis": "y"
        },
        {
         "hoverlabel": {
          "bgcolor": "rgba(200,200,200,0.2)"
         },
         "hovertemplate": "%{x}: %{y:0f} m³/s</br><extra></extra>",
         "line": {
          "color": "red",
          "shape": "spline",
          "width": 2
         },
         "mode": "lines+text+markers",
         "name": "Median (P50)",
         "text": [
          228.61290322580646,
          265.46666666666664,
          402.3225806451613,
          620.6129032258065,
          987.5,
          2339.7096774193546,
          2959.633333333333,
          2236.2903225806454,
          1178.3666666666666,
          543.1290322580645,
          370.19354838709677,
          277.8666666666667
         ],
         "textfont": {
          "size": 10
         },
         "textposition": "top center",
         "texttemplate": "%{text:0f}",
         "type": "scatter",
         "x": [
          "Oct",
          "Nov",
          "Dec",
          "Jan",
          "Feb",
          "Mar",
          "Apr",
          "May",
          "Jun",
          "Jul",
          "Aug",
          "Sep"
         ],
         "xaxis": "x",
         "y": [
          228.61290322580646,
          265.46666666666664,
          402.3225806451613,
          620.6129032258065,
          987.5,
          2339.7096774193546,
          2959.633333333333,
          2236.2903225806454,
          1178.3666666666666,
          543.1290322580645,
          370.19354838709677,
          277.8666666666667
         ],
         "yaxis": "y"
        },
        {
         "hoverlabel": {
          "bgcolor": "rgba(200,200,200,0.2)"
         },
         "hovertemplate": "%{x}: %{y:0f}%</br><extra></extra>",
         "line": {
          "color": "black",
          "shape": "spline",
          "width": 2
         },
         "mode": "lines+markers",
         "name": "Coefficient of Variation",
         "type": "scatter",
         "x": [
          "Oct",
          "Nov",
          "Dec",
          "Jan",
          "Feb",
          "Mar",
          "Apr",
          "May",
          "Jun",
          "Jul",
          "Aug",
          "Sep"
         ],
         "xaxis": "x2",
         "y": [
          25.2,
          29.3,
          32,
          48.1,
          86.4,
          65.4,
          45.7,
          41.6,
          45.8,
          40.1,
          26.9,
          24.6
         ],
         "yaxis": "y2"
        }
       ],
       "layout": {
        "autosize": false,
        "height": 600,
        "plot_bgcolor": "white",
        "template": {
         "data": {
          "bar": [
           {
            "error_x": {
             "color": "#2a3f5f"
            },
            "error_y": {
             "color": "#2a3f5f"
            },
            "marker": {
             "line": {
              "color": "#E5ECF6",
              "width": 0.5
             }
            },
            "type": "bar"
           }
          ],
          "barpolar": [
           {
            "marker": {
             "line": {
              "color": "#E5ECF6",
              "width": 0.5
             }
            },
            "type": "barpolar"
           }
          ],
          "carpet": [
           {
            "aaxis": {
             "endlinecolor": "#2a3f5f",
             "gridcolor": "white",
             "linecolor": "white",
             "minorgridcolor": "white",
             "startlinecolor": "#2a3f5f"
            },
            "baxis": {
             "endlinecolor": "#2a3f5f",
             "gridcolor": "white",
             "linecolor": "white",
             "minorgridcolor": "white",
             "startlinecolor": "#2a3f5f"
            },
            "type": "carpet"
           }
          ],
          "choropleth": [
           {
            "colorbar": {
             "outlinewidth": 0,
             "ticks": ""
            },
            "type": "choropleth"
           }
          ],
          "contour": [
           {
            "colorbar": {
             "outlinewidth": 0,
             "ticks": ""
            },
            "colorscale": [
             [
              0,
              "#0d0887"
             ],
             [
              0.1111111111111111,
              "#46039f"
             ],
             [
              0.2222222222222222,
              "#7201a8"
             ],
             [
              0.3333333333333333,
              "#9c179e"
             ],
             [
              0.4444444444444444,
              "#bd3786"
             ],
             [
              0.5555555555555556,
              "#d8576b"
             ],
             [
              0.6666666666666666,
              "#ed7953"
             ],
             [
              0.7777777777777778,
              "#fb9f3a"
             ],
             [
              0.8888888888888888,
              "#fdca26"
             ],
             [
              1,
              "#f0f921"
             ]
            ],
            "type": "contour"
           }
          ],
          "contourcarpet": [
           {
            "colorbar": {
             "outlinewidth": 0,
             "ticks": ""
            },
            "type": "contourcarpet"
           }
          ],
          "heatmap": [
           {
            "colorbar": {
             "outlinewidth": 0,
             "ticks": ""
            },
            "colorscale": [
             [
              0,
              "#0d0887"
             ],
             [
              0.1111111111111111,
              "#46039f"
             ],
             [
              0.2222222222222222,
              "#7201a8"
             ],
             [
              0.3333333333333333,
              "#9c179e"
             ],
             [
              0.4444444444444444,
              "#bd3786"
             ],
             [
              0.5555555555555556,
              "#d8576b"
             ],
             [
              0.6666666666666666,
              "#ed7953"
             ],
             [
              0.7777777777777778,
              "#fb9f3a"
             ],
             [
              0.8888888888888888,
              "#fdca26"
             ],
             [
              1,
              "#f0f921"
             ]
            ],
            "type": "heatmap"
           }
          ],
          "heatmapgl": [
           {
            "colorbar": {
             "outlinewidth": 0,
             "ticks": ""
            },
            "colorscale": [
             [
              0,
              "#0d0887"
             ],
             [
              0.1111111111111111,
              "#46039f"
             ],
             [
              0.2222222222222222,
              "#7201a8"
             ],
             [
              0.3333333333333333,
              "#9c179e"
             ],
             [
              0.4444444444444444,
              "#bd3786"
             ],
             [
              0.5555555555555556,
              "#d8576b"
             ],
             [
              0.6666666666666666,
              "#ed7953"
             ],
             [
              0.7777777777777778,
              "#fb9f3a"
             ],
             [
              0.8888888888888888,
              "#fdca26"
             ],
             [
              1,
              "#f0f921"
             ]
            ],
            "type": "heatmapgl"
           }
          ],
          "histogram": [
           {
            "marker": {
             "colorbar": {
              "outlinewidth": 0,
              "ticks": ""
             }
            },
            "type": "histogram"
           }
          ],
          "histogram2d": [
           {
            "colorbar": {
             "outlinewidth": 0,
             "ticks": ""
            },
            "colorscale": [
             [
              0,
              "#0d0887"
             ],
             [
              0.1111111111111111,
              "#46039f"
             ],
             [
              0.2222222222222222,
              "#7201a8"
             ],
             [
              0.3333333333333333,
              "#9c179e"
             ],
             [
              0.4444444444444444,
              "#bd3786"
             ],
             [
              0.5555555555555556,
              "#d8576b"
             ],
             [
              0.6666666666666666,
              "#ed7953"
             ],
             [
              0.7777777777777778,
              "#fb9f3a"
             ],
             [
              0.8888888888888888,
              "#fdca26"
             ],
             [
              1,
              "#f0f921"
             ]
            ],
            "type": "histogram2d"
           }
          ],
          "histogram2dcontour": [
           {
            "colorbar": {
             "outlinewidth": 0,
             "ticks": ""
            },
            "colorscale": [
             [
              0,
              "#0d0887"
             ],
             [
              0.1111111111111111,
              "#46039f"
             ],
             [
              0.2222222222222222,
              "#7201a8"
             ],
             [
              0.3333333333333333,
              "#9c179e"
             ],
             [
              0.4444444444444444,
              "#bd3786"
             ],
             [
              0.5555555555555556,
              "#d8576b"
             ],
             [
              0.6666666666666666,
              "#ed7953"
             ],
             [
              0.7777777777777778,
              "#fb9f3a"
             ],
             [
              0.8888888888888888,
              "#fdca26"
             ],
             [
              1,
              "#f0f921"
             ]
            ],
            "type": "histogram2dcontour"
           }
          ],
          "mesh3d": [
           {
            "colorbar": {
             "outlinewidth": 0,
             "ticks": ""
            },
            "type": "mesh3d"
           }
          ],
          "parcoords": [
           {
            "line": {
             "colorbar": {
              "outlinewidth": 0,
              "ticks": ""
             }
            },
            "type": "parcoords"
           }
          ],
          "pie": [
           {
            "automargin": true,
            "type": "pie"
           }
          ],
          "scatter": [
           {
            "marker": {
             "colorbar": {
              "outlinewidth": 0,
              "ticks": ""
             }
            },
            "type": "scatter"
           }
          ],
          "scatter3d": [
           {
            "line": {
             "colorbar": {
              "outlinewidth": 0,
              "ticks": ""
             }
            },
            "marker": {
             "colorbar": {
              "outlinewidth": 0,
              "ticks": ""
             }
            },
            "type": "scatter3d"
           }
          ],
          "scattercarpet": [
           {
            "marker": {
             "colorbar": {
              "outlinewidth": 0,
              "ticks": ""
             }
            },
            "type": "scattercarpet"
           }
          ],
          "scattergeo": [
           {
            "marker": {
             "colorbar": {
              "outlinewidth": 0,
              "ticks": ""
             }
            },
            "type": "scattergeo"
           }
          ],
          "scattergl": [
           {
            "marker": {
             "colorbar": {
              "outlinewidth": 0,
              "ticks": ""
             }
            },
            "type": "scattergl"
           }
          ],
          "scattermapbox": [
           {
            "marker": {
             "colorbar": {
              "outlinewidth": 0,
              "ticks": ""
             }
            },
            "type": "scattermapbox"
           }
          ],
          "scatterpolar": [
           {
            "marker": {
             "colorbar": {
              "outlinewidth": 0,
              "ticks": ""
             }
            },
            "type": "scatterpolar"
           }
          ],
          "scatterpolargl": [
           {
            "marker": {
             "colorbar": {
              "outlinewidth": 0,
              "ticks": ""
             }
            },
            "type": "scatterpolargl"
           }
          ],
          "scatterternary": [
           {
            "marker": {
             "colorbar": {
              "outlinewidth": 0,
              "ticks": ""
             }
            },
            "type": "scatterternary"
           }
          ],
          "surface": [
           {
            "colorbar": {
             "outlinewidth": 0,
             "ticks": ""
            },
            "colorscale": [
             [
              0,
              "#0d0887"
             ],
             [
              0.1111111111111111,
              "#46039f"
             ],
             [
              0.2222222222222222,
              "#7201a8"
             ],
             [
              0.3333333333333333,
              "#9c179e"
             ],
             [
              0.4444444444444444,
              "#bd3786"
             ],
             [
              0.5555555555555556,
              "#d8576b"
             ],
             [
              0.6666666666666666,
              "#ed7953"
             ],
             [
              0.7777777777777778,
              "#fb9f3a"
             ],
             [
              0.8888888888888888,
              "#fdca26"
             ],
             [
              1,
              "#f0f921"
             ]
            ],
            "type": "surface"
           }
          ],
          "table": [
           {
            "cells": {
             "fill": {
              "color": "#EBF0F8"
             },
             "line": {
              "color": "white"
             }
            },
            "header": {
             "fill": {
              "color": "#C8D4E3"
             },
             "line": {
              "color": "white"
             }
            },
            "type": "table"
           }
          ]
         },
         "layout": {
          "annotationdefaults": {
           "arrowcolor": "#2a3f5f",
           "arrowhead": 0,
           "arrowwidth": 1
          },
          "coloraxis": {
           "colorbar": {
            "outlinewidth": 0,
            "ticks": ""
           }
          },
          "colorscale": {
           "diverging": [
            [
             0,
             "#8e0152"
            ],
            [
             0.1,
             "#c51b7d"
            ],
            [
             0.2,
             "#de77ae"
            ],
            [
             0.3,
             "#f1b6da"
            ],
            [
             0.4,
             "#fde0ef"
            ],
            [
             0.5,
             "#f7f7f7"
            ],
            [
             0.6,
             "#e6f5d0"
            ],
            [
             0.7,
             "#b8e186"
            ],
            [
             0.8,
             "#7fbc41"
            ],
            [
             0.9,
             "#4d9221"
            ],
            [
             1,
             "#276419"
            ]
           ],
           "sequential": [
            [
             0,
             "#0d0887"
            ],
            [
             0.1111111111111111,
             "#46039f"
            ],
            [
             0.2222222222222222,
             "#7201a8"
            ],
            [
             0.3333333333333333,
             "#9c179e"
            ],
            [
             0.4444444444444444,
             "#bd3786"
            ],
            [
             0.5555555555555556,
             "#d8576b"
            ],
            [
             0.6666666666666666,
             "#ed7953"
            ],
            [
             0.7777777777777778,
             "#fb9f3a"
            ],
            [
             0.8888888888888888,
             "#fdca26"
            ],
            [
             1,
             "#f0f921"
            ]
           ],
           "sequentialminus": [
            [
             0,
             "#0d0887"
            ],
            [
             0.1111111111111111,
             "#46039f"
            ],
            [
             0.2222222222222222,
             "#7201a8"
            ],
            [
             0.3333333333333333,
             "#9c179e"
            ],
            [
             0.4444444444444444,
             "#bd3786"
            ],
            [
             0.5555555555555556,
             "#d8576b"
            ],
            [
             0.6666666666666666,
             "#ed7953"
            ],
            [
             0.7777777777777778,
             "#fb9f3a"
            ],
            [
             0.8888888888888888,
             "#fdca26"
            ],
            [
             1,
             "#f0f921"
            ]
           ]
          },
          "colorway": [
           "#636efa",
           "#EF553B",
           "#00cc96",
           "#ab63fa",
           "#FFA15A",
           "#19d3f3",
           "#FF6692",
           "#B6E880",
           "#FF97FF",
           "#FECB52"
          ],
          "font": {
           "color": "#2a3f5f"
          },
          "geo": {
           "bgcolor": "white",
           "lakecolor": "white",
           "landcolor": "#E5ECF6",
           "showlakes": true,
           "showland": true,
           "subunitcolor": "white"
          },
          "hoverlabel": {
           "align": "left"
          },
          "hovermode": "closest",
          "mapbox": {
           "style": "light"
          },
          "paper_bgcolor": "white",
          "plot_bgcolor": "#E5ECF6",
          "polar": {
           "angularaxis": {
            "gridcolor": "white",
            "linecolor": "white",
            "ticks": ""
           },
           "bgcolor": "#E5ECF6",
           "radialaxis": {
            "gridcolor": "white",
            "linecolor": "white",
            "ticks": ""
           }
          },
          "scene": {
           "xaxis": {
            "backgroundcolor": "#E5ECF6",
            "gridcolor": "white",
            "gridwidth": 2,
            "linecolor": "white",
            "showbackground": true,
            "ticks": "",
            "zerolinecolor": "white"
           },
           "yaxis": {
            "backgroundcolor": "#E5ECF6",
            "gridcolor": "white",
            "gridwidth": 2,
            "linecolor": "white",
            "showbackground": true,
            "ticks": "",
            "zerolinecolor": "white"
           },
           "zaxis": {
            "backgroundcolor": "#E5ECF6",
            "gridcolor": "white",
            "gridwidth": 2,
            "linecolor": "white",
            "showbackground": true,
            "ticks": "",
            "zerolinecolor": "white"
           }
          },
          "shapedefaults": {
           "line": {
            "color": "#2a3f5f"
           }
          },
          "ternary": {
           "aaxis": {
            "gridcolor": "white",
            "linecolor": "white",
            "ticks": ""
           },
           "baxis": {
            "gridcolor": "white",
            "linecolor": "white",
            "ticks": ""
           },
           "bgcolor": "#E5ECF6",
           "caxis": {
            "gridcolor": "white",
            "linecolor": "white",
            "ticks": ""
           }
          },
          "title": {
           "x": 0.05
          },
          "xaxis": {
           "automargin": true,
           "gridcolor": "white",
           "linecolor": "white",
           "ticks": "",
           "title": {
            "standoff": 15
           },
           "zerolinecolor": "white",
           "zerolinewidth": 2
          },
          "yaxis": {
           "automargin": true,
           "gridcolor": "white",
           "linecolor": "white",
           "ticks": "",
           "title": {
            "standoff": 15
           },
           "zerolinecolor": "white",
           "zerolinewidth": 2
          }
         }
        },
        "title": {
         "text": "Mean Monthly Flow"
        },
        "width": 900,
        "xaxis": {
         "anchor": "y",
         "autorange": true,
         "domain": [
          0,
          1
         ],
         "range": [
          -0.6953325983094449,
          11.695332598309445
         ],
         "showgrid": false,
         "showline": false,
         "type": "category"
        },
        "xaxis2": {
         "anchor": "y2",
         "autorange": true,
         "domain": [
          0,
          1
         ],
         "range": [
          -0.6953325983094449,
          11.695332598309445
         ],
         "type": "category"
        },
        "yaxis": {
         "anchor": "x",
         "autorange": true,
         "domain": [
          0.3625,
          1
         ],
         "gridcolor": "rgb(204, 204, 204)",
         "range": [
          -138.40943463443259,
          4967.632660440884
         ],
         "separatethousands": true,
         "showgrid": true,
         "showline": false,
         "title": {
          "text": "Flow (m³/s)"
         },
         "type": "linear"
        },
        "yaxis2": {
         "anchor": "x2",
         "autorange": true,
         "domain": [
          0,
          0.2125
         ],
         "gridcolor": "rgb(204, 204, 204)",
         "range": [
          17.6307929969104,
          93.3692070030896
         ],
         "title": {
          "text": "Coefficient of Variation (%)"
         },
         "type": "linear"
        }
       }
      },
      "image/png": "[encoded data removed]",
      "text/html": [
       "<div>\n",
       "        \n",
       "        \n",
       "            <div id=\"c2ea8833-48b7-4c4c-8958-d22d7ab7824b\" class=\"plotly-graph-div\" style=\"height:600px; width:900px;\"></div>\n",
       "            <script type=\"text/javascript\">\n",
       "                require([\"plotly\"], function(Plotly) {\n",
       "                    window.PLOTLYENV=window.PLOTLYENV || {};\n",
       "                    \n",
       "                if (document.getElementById(\"c2ea8833-48b7-4c4c-8958-d22d7ab7824b\")) {\n",
       "                    Plotly.newPlot(\n",
       "                        'c2ea8833-48b7-4c4c-8958-d22d7ab7824b',\n",
       "                        [{\"fill\": \"toself\", \"fillcolor\": \"rgba(100,100,100,0.2)\", \"hoverlabel\": {\"bgcolor\": \"rgba(200,200,200,0.2)\"}, \"hovertemplate\": \"%{x}: %{y:0f} m\\u00b3/s</br><extra></extra>\", \"line\": {\"shape\": \"spline\", \"width\": 0}, \"marker\": {\"color\": \"rgba(100,100,100,0.4)\", \"size\": 2}, \"mode\": \"markers\", \"name\": \"P90 - P10\", \"type\": \"scatter\", \"x\": [\"Oct\", \"Nov\", \"Dec\", \"Jan\", \"Feb\", \"Mar\", \"Apr\", \"May\", \"Jun\", \"Jul\", \"Aug\", \"Sep\", \"Sep\", \"Aug\", \"Jul\", \"Jun\", \"May\", \"Apr\", \"Mar\", \"Feb\", \"Jan\", \"Dec\", \"Nov\", \"Oct\"], \"xaxis\": \"x\", \"y\": [174.1032258064516, 200.36666666666667, 307.8709677419355, 478.68387096774194, 691.4017241379311, 912.8129032258064, 1258.2333333333333, 1129.574193548387, 631.8866666666668, 370.18709677419366, 281.55483870967737, 215.0666666666667, 374.64666666666665, 515.0709677419355, 848.632258064516, 1814.18, 3218.361290322581, 4655.12, 4347.703225806452, 2480.138916256157, 998.4774193548386, 563.7096774193548, 375.86666666666673, 308.458064516129], \"yaxis\": \"y\"}, {\"fill\": \"toself\", \"fillcolor\": \"rgba(100,100,100,0.4)\", \"hoverlabel\": {\"bgcolor\": \"rgba(200,200,200,0.2)\"}, \"hovertemplate\": \"%{x}: %{y:0f} m\\u00b3/s</br><extra></extra>\", \"line\": {\"shape\": \"spline\", \"width\": 0}, \"marker\": {\"color\": \"rgba(100,100,100,0.8)\", \"size\": 2}, \"mode\": \"markers\", \"name\": \"P75 - P25\", \"type\": \"scatter\", \"x\": [\"Oct\", \"Nov\", \"Dec\", \"Jan\", \"Feb\", \"Mar\", \"Apr\", \"May\", \"Jun\", \"Jul\", \"Aug\", \"Sep\", \"Sep\", \"Aug\", \"Jul\", \"Jun\", \"May\", \"Apr\", \"Mar\", \"Feb\", \"Jan\", \"Dec\", \"Nov\", \"Oct\"], \"xaxis\": \"x\", \"y\": [198.70967741935485, 220.8, 346.70967741935476, 544.0645161290323, 809.2758620689655, 1185.516129032258, 1925.3, 1685.032258064516, 855.5, 449.5483870967742, 316.741935483871, 239.96666666666667, 327.43333333333334, 441.80645161290323, 690.2903225806451, 1467.2666666666669, 2674.322580645161, 3698.066666666666, 3122.677419354838, 1419.607142857143, 811.9354838709677, 504.35483870967744, 310.23333333333335, 274.4193548387097], \"yaxis\": \"y\"}, {\"hoverlabel\": {\"bgcolor\": \"rgba(200,200,200,0.2)\"}, \"hovertemplate\": \"%{x}: %{y:0f} m\\u00b3/s</br><extra></extra>\", \"line\": {\"color\": \"red\", \"shape\": \"spline\", \"width\": 2}, \"mode\": \"lines+text+markers\", \"name\": \"Median (P50)\", \"text\": [228.61290322580646, 265.46666666666664, 402.3225806451613, 620.6129032258065, 987.5, 2339.7096774193546, 2959.633333333333, 2236.2903225806454, 1178.3666666666666, 543.1290322580645, 370.19354838709677, 277.8666666666667], \"textfont\": {\"size\": 10}, \"textposition\": \"top center\", \"texttemplate\": \"%{text:0f}\", \"type\": \"scatter\", \"x\": [\"Oct\", \"Nov\", \"Dec\", \"Jan\", \"Feb\", \"Mar\", \"Apr\", \"May\", \"Jun\", \"Jul\", \"Aug\", \"Sep\"], \"xaxis\": \"x\", \"y\": [228.61290322580646, 265.46666666666664, 402.3225806451613, 620.6129032258065, 987.5, 2339.7096774193546, 2959.633333333333, 2236.2903225806454, 1178.3666666666666, 543.1290322580645, 370.19354838709677, 277.8666666666667], \"yaxis\": \"y\"}, {\"hoverlabel\": {\"bgcolor\": \"rgba(200,200,200,0.2)\"}, \"hovertemplate\": \"%{x}: %{y:0f}%</br><extra></extra>\", \"line\": {\"color\": \"black\", \"shape\": \"spline\", \"width\": 2}, \"mode\": \"lines+markers\", \"name\": \"Coefficient of Variation\", \"type\": \"scatter\", \"x\": [\"Oct\", \"Nov\", \"Dec\", \"Jan\", \"Feb\", \"Mar\", \"Apr\", \"May\", \"Jun\", \"Jul\", \"Aug\", \"Sep\"], \"xaxis\": \"x2\", \"y\": [25.2, 29.3, 32.0, 48.1, 86.4, 65.4, 45.7, 41.6, 45.8, 40.1, 26.9, 24.6], \"yaxis\": \"y2\"}],\n",
       "                        {\"autosize\": false, \"height\": 600, \"plot_bgcolor\": \"white\", \"template\": {\"data\": {\"bar\": [{\"error_x\": {\"color\": \"#2a3f5f\"}, \"error_y\": {\"color\": \"#2a3f5f\"}, \"marker\": {\"line\": {\"color\": \"#E5ECF6\", \"width\": 0.5}}, \"type\": \"bar\"}], \"barpolar\": [{\"marker\": {\"line\": {\"color\": \"#E5ECF6\", \"width\": 0.5}}, \"type\": \"barpolar\"}], \"carpet\": [{\"aaxis\": {\"endlinecolor\": \"#2a3f5f\", \"gridcolor\": \"white\", \"linecolor\": \"white\", \"minorgridcolor\": \"white\", \"startlinecolor\": \"#2a3f5f\"}, \"baxis\": {\"endlinecolor\": \"#2a3f5f\", \"gridcolor\": \"white\", \"linecolor\": \"white\", \"minorgridcolor\": \"white\", \"startlinecolor\": \"#2a3f5f\"}, \"type\": \"carpet\"}], \"choropleth\": [{\"colorbar\": {\"outlinewidth\": 0, \"ticks\": \"\"}, \"type\": \"choropleth\"}], \"contour\": [{\"colorbar\": {\"outlinewidth\": 0, \"ticks\": \"\"}, \"colorscale\": [[0.0, \"#0d0887\"], [0.1111111111111111, \"#46039f\"], [0.2222222222222222, \"#7201a8\"], [0.3333333333333333, \"#9c179e\"], [0.4444444444444444, \"#bd3786\"], [0.5555555555555556, \"#d8576b\"], [0.6666666666666666, \"#ed7953\"], [0.7777777777777778, \"#fb9f3a\"], [0.8888888888888888, \"#fdca26\"], [1.0, \"#f0f921\"]], \"type\": \"contour\"}], \"contourcarpet\": [{\"colorbar\": {\"outlinewidth\": 0, \"ticks\": \"\"}, \"type\": \"contourcarpet\"}], \"heatmap\": [{\"colorbar\": {\"outlinewidth\": 0, \"ticks\": \"\"}, \"colorscale\": [[0.0, \"#0d0887\"], [0.1111111111111111, \"#46039f\"], [0.2222222222222222, \"#7201a8\"], [0.3333333333333333, \"#9c179e\"], [0.4444444444444444, \"#bd3786\"], [0.5555555555555556, \"#d8576b\"], [0.6666666666666666, \"#ed7953\"], [0.7777777777777778, \"#fb9f3a\"], [0.8888888888888888, \"#fdca26\"], [1.0, \"#f0f921\"]], \"type\": \"heatmap\"}], \"heatmapgl\": [{\"colorbar\": {\"outlinewidth\": 0, \"ticks\": \"\"}, \"colorscale\": [[0.0, \"#0d0887\"], [0.1111111111111111, \"#46039f\"], [0.2222222222222222, \"#7201a8\"], [0.3333333333333333, \"#9c179e\"], [0.4444444444444444, \"#bd3786\"], [0.5555555555555556, \"#d8576b\"], [0.6666666666666666, \"#ed7953\"], [0.7777777777777778, \"#fb9f3a\"], [0.8888888888888888, \"#fdca26\"], [1.0, \"#f0f921\"]], \"type\": \"heatmapgl\"}], \"histogram\": [{\"marker\": {\"colorbar\": {\"outlinewidth\": 0, \"ticks\": \"\"}}, \"type\": \"histogram\"}], \"histogram2d\": [{\"colorbar\": {\"outlinewidth\": 0, \"ticks\": \"\"}, \"colorscale\": [[0.0, \"#0d0887\"], [0.1111111111111111, \"#46039f\"], [0.2222222222222222, \"#7201a8\"], [0.3333333333333333, \"#9c179e\"], [0.4444444444444444, \"#bd3786\"], [0.5555555555555556, \"#d8576b\"], [0.6666666666666666, \"#ed7953\"], [0.7777777777777778, \"#fb9f3a\"], [0.8888888888888888, \"#fdca26\"], [1.0, \"#f0f921\"]], \"type\": \"histogram2d\"}], \"histogram2dcontour\": [{\"colorbar\": {\"outlinewidth\": 0, \"ticks\": \"\"}, \"colorscale\": [[0.0, \"#0d0887\"], [0.1111111111111111, \"#46039f\"], [0.2222222222222222, \"#7201a8\"], [0.3333333333333333, \"#9c179e\"], [0.4444444444444444, \"#bd3786\"], [0.5555555555555556, \"#d8576b\"], [0.6666666666666666, \"#ed7953\"], [0.7777777777777778, \"#fb9f3a\"], [0.8888888888888888, \"#fdca26\"], [1.0, \"#f0f921\"]], \"type\": \"histogram2dcontour\"}], \"mesh3d\": [{\"colorbar\": {\"outlinewidth\": 0, \"ticks\": \"\"}, \"type\": \"mesh3d\"}], \"parcoords\": [{\"line\": {\"colorbar\": {\"outlinewidth\": 0, \"ticks\": \"\"}}, \"type\": \"parcoords\"}], \"pie\": [{\"automargin\": true, \"type\": \"pie\"}], \"scatter\": [{\"marker\": {\"colorbar\": {\"outlinewidth\": 0, \"ticks\": \"\"}}, \"type\": \"scatter\"}], \"scatter3d\": [{\"line\": {\"colorbar\": {\"outlinewidth\": 0, \"ticks\": \"\"}}, \"marker\": {\"colorbar\": {\"outlinewidth\": 0, \"ticks\": \"\"}}, \"type\": \"scatter3d\"}], \"scattercarpet\": [{\"marker\": {\"colorbar\": {\"outlinewidth\": 0, \"ticks\": \"\"}}, \"type\": \"scattercarpet\"}], \"scattergeo\": [{\"marker\": {\"colorbar\": {\"outlinewidth\": 0, \"ticks\": \"\"}}, \"type\": \"scattergeo\"}], \"scattergl\": [{\"marker\": {\"colorbar\": {\"outlinewidth\": 0, \"ticks\": \"\"}}, \"type\": \"scattergl\"}], \"scattermapbox\": [{\"marker\": {\"colorbar\": {\"outlinewidth\": 0, \"ticks\": \"\"}}, \"type\": \"scattermapbox\"}], \"scatterpolar\": [{\"marker\": {\"colorbar\": {\"outlinewidth\": 0, \"ticks\": \"\"}}, \"type\": \"scatterpolar\"}], \"scatterpolargl\": [{\"marker\": {\"colorbar\": {\"outlinewidth\": 0, \"ticks\": \"\"}}, \"type\": \"scatterpolargl\"}], \"scatterternary\": [{\"marker\": {\"colorbar\": {\"outlinewidth\": 0, \"ticks\": \"\"}}, \"type\": \"scatterternary\"}], \"surface\": [{\"colorbar\": {\"outlinewidth\": 0, \"ticks\": \"\"}, \"colorscale\": [[0.0, \"#0d0887\"], [0.1111111111111111, \"#46039f\"], [0.2222222222222222, \"#7201a8\"], [0.3333333333333333, \"#9c179e\"], [0.4444444444444444, \"#bd3786\"], [0.5555555555555556, \"#d8576b\"], [0.6666666666666666, \"#ed7953\"], [0.7777777777777778, \"#fb9f3a\"], [0.8888888888888888, \"#fdca26\"], [1.0, \"#f0f921\"]], \"type\": \"surface\"}], \"table\": [{\"cells\": {\"fill\": {\"color\": \"#EBF0F8\"}, \"line\": {\"color\": \"white\"}}, \"header\": {\"fill\": {\"color\": \"#C8D4E3\"}, \"line\": {\"color\": \"white\"}}, \"type\": \"table\"}]}, \"layout\": {\"annotationdefaults\": {\"arrowcolor\": \"#2a3f5f\", \"arrowhead\": 0, \"arrowwidth\": 1}, \"coloraxis\": {\"colorbar\": {\"outlinewidth\": 0, \"ticks\": \"\"}}, \"colorscale\": {\"diverging\": [[0, \"#8e0152\"], [0.1, \"#c51b7d\"], [0.2, \"#de77ae\"], [0.3, \"#f1b6da\"], [0.4, \"#fde0ef\"], [0.5, \"#f7f7f7\"], [0.6, \"#e6f5d0\"], [0.7, \"#b8e186\"], [0.8, \"#7fbc41\"], [0.9, \"#4d9221\"], [1, \"#276419\"]], \"sequential\": [[0.0, \"#0d0887\"], [0.1111111111111111, \"#46039f\"], [0.2222222222222222, \"#7201a8\"], [0.3333333333333333, \"#9c179e\"], [0.4444444444444444, \"#bd3786\"], [0.5555555555555556, \"#d8576b\"], [0.6666666666666666, \"#ed7953\"], [0.7777777777777778, \"#fb9f3a\"], [0.8888888888888888, \"#fdca26\"], [1.0, \"#f0f921\"]], \"sequentialminus\": [[0.0, \"#0d0887\"], [0.1111111111111111, \"#46039f\"], [0.2222222222222222, \"#7201a8\"], [0.3333333333333333, \"#9c179e\"], [0.4444444444444444, \"#bd3786\"], [0.5555555555555556, \"#d8576b\"], [0.6666666666666666, \"#ed7953\"], [0.7777777777777778, \"#fb9f3a\"], [0.8888888888888888, \"#fdca26\"], [1.0, \"#f0f921\"]]}, \"colorway\": [\"#636efa\", \"#EF553B\", \"#00cc96\", \"#ab63fa\", \"#FFA15A\", \"#19d3f3\", \"#FF6692\", \"#B6E880\", \"#FF97FF\", \"#FECB52\"], \"font\": {\"color\": \"#2a3f5f\"}, \"geo\": {\"bgcolor\": \"white\", \"lakecolor\": \"white\", \"landcolor\": \"#E5ECF6\", \"showlakes\": true, \"showland\": true, \"subunitcolor\": \"white\"}, \"hoverlabel\": {\"align\": \"left\"}, \"hovermode\": \"closest\", \"mapbox\": {\"style\": \"light\"}, \"paper_bgcolor\": \"white\", \"plot_bgcolor\": \"#E5ECF6\", \"polar\": {\"angularaxis\": {\"gridcolor\": \"white\", \"linecolor\": \"white\", \"ticks\": \"\"}, \"bgcolor\": \"#E5ECF6\", \"radialaxis\": {\"gridcolor\": \"white\", \"linecolor\": \"white\", \"ticks\": \"\"}}, \"scene\": {\"xaxis\": {\"backgroundcolor\": \"#E5ECF6\", \"gridcolor\": \"white\", \"gridwidth\": 2, \"linecolor\": \"white\", \"showbackground\": true, \"ticks\": \"\", \"zerolinecolor\": \"white\"}, \"yaxis\": {\"backgroundcolor\": \"#E5ECF6\", \"gridcolor\": \"white\", \"gridwidth\": 2, \"linecolor\": \"white\", \"showbackground\": true, \"ticks\": \"\", \"zerolinecolor\": \"white\"}, \"zaxis\": {\"backgroundcolor\": \"#E5ECF6\", \"gridcolor\": \"white\", \"gridwidth\": 2, \"linecolor\": \"white\", \"showbackground\": true, \"ticks\": \"\", \"zerolinecolor\": \"white\"}}, \"shapedefaults\": {\"line\": {\"color\": \"#2a3f5f\"}}, \"ternary\": {\"aaxis\": {\"gridcolor\": \"white\", \"linecolor\": \"white\", \"ticks\": \"\"}, \"baxis\": {\"gridcolor\": \"white\", \"linecolor\": \"white\", \"ticks\": \"\"}, \"bgcolor\": \"#E5ECF6\", \"caxis\": {\"gridcolor\": \"white\", \"linecolor\": \"white\", \"ticks\": \"\"}}, \"title\": {\"x\": 0.05}, \"xaxis\": {\"automargin\": true, \"gridcolor\": \"white\", \"linecolor\": \"white\", \"ticks\": \"\", \"title\": {\"standoff\": 15}, \"zerolinecolor\": \"white\", \"zerolinewidth\": 2}, \"yaxis\": {\"automargin\": true, \"gridcolor\": \"white\", \"linecolor\": \"white\", \"ticks\": \"\", \"title\": {\"standoff\": 15}, \"zerolinecolor\": \"white\", \"zerolinewidth\": 2}}}, \"title\": {\"text\": \"Mean Monthly Flow\"}, \"width\": 900, \"xaxis\": {\"anchor\": \"y\", \"domain\": [0.0, 1.0], \"showgrid\": false, \"showline\": false}, \"xaxis2\": {\"anchor\": \"y2\", \"domain\": [0.0, 1.0]}, \"yaxis\": {\"anchor\": \"x\", \"domain\": [0.3625, 1.0], \"gridcolor\": \"rgb(204, 204, 204)\", \"separatethousands\": true, \"showgrid\": true, \"showline\": false, \"title\": {\"text\": \"Flow (m\\u00b3/s)\"}}, \"yaxis2\": {\"anchor\": \"x2\", \"domain\": [0.0, 0.2125], \"gridcolor\": \"rgb(204, 204, 204)\", \"title\": {\"text\": \"Coefficient of Variation (%)\"}}},\n",
       "                        {\"responsive\": true}\n",
       "                    ).then(function(){\n",
       "                            \n",
       "var gd = document.getElementById('c2ea8833-48b7-4c4c-8958-d22d7ab7824b');\n",
       "var x = new MutationObserver(function (mutations, observer) {{\n",
       "        var display = window.getComputedStyle(gd).display;\n",
       "        if (!display || display === 'none') {{\n",
       "            console.log([gd, 'removed!']);\n",
       "            Plotly.purge(gd);\n",
       "            observer.disconnect();\n",
       "        }}\n",
       "}});\n",
       "\n",
       "// Listen for the removal of the full notebook cells\n",
       "var notebookContainer = gd.closest('#notebook-container');\n",
       "if (notebookContainer) {{\n",
       "    x.observe(notebookContainer, {childList: true});\n",
       "}}\n",
       "\n",
       "// Listen for the clearing of the current output cell\n",
       "var outputEl = gd.closest('.output');\n",
       "if (outputEl) {{\n",
       "    x.observe(outputEl, {childList: true});\n",
       "}}\n",
       "\n",
       "                        })\n",
       "                };\n",
       "                });\n",
       "            </script>\n",
       "        </div>"
      ]
     },
     "metadata": {},
     "output_type": "display_data"
    }
   ],
   "source": [
    "fig = make_subplots(rows=2, cols=1,row_heights=[0.75, 0.25])\n",
    "\n",
    "fig.add_trace(\n",
    "        go.Scatter(\n",
    "            x=pd.concat([calmonthly['MonthName'],calmonthly['MonthName'][::-1]]), \n",
    "            y=pd.concat([calmonthly['Flow_P90'],calmonthly['Flow_P10'][::-1]]),\n",
    "            name='P90 - P10',mode='markers',\n",
    "            fill='toself',fillcolor='rgba(100,100,100,0.2)',\n",
    "            line_shape='spline', line_width=0,  \n",
    "            marker_size=2,marker_color='rgba(100,100,100,0.4)',\n",
    "            hoverlabel=dict(bgcolor='rgba(200,200,200,0.2)'),hovertemplate='%{x}: %{y:0f} m\\u00B3/s</br><extra></extra>'), row=1, col=1)\n",
    "fig.add_trace(\n",
    "        go.Scatter(\n",
    "            x=pd.concat([calmonthly['MonthName'],calmonthly['MonthName'][::-1]]), \n",
    "            y=pd.concat([calmonthly['Flow_P75'],calmonthly['Flow_P25'][::-1]]),\n",
    "            name='P75 - P25', mode='markers',\n",
    "            fill='toself', fillcolor='rgba(100,100,100,0.4)',\n",
    "            line_shape='spline', line_width=0, \n",
    "            marker_size=2,marker_color='rgba(100,100,100,0.8)',\n",
    "            hoverlabel=dict(bgcolor='rgba(200,200,200,0.2)'),hovertemplate='%{x}: %{y:0f} m\\u00B3/s</br><extra></extra>'), row=1, col=1)\n",
    "fig.add_trace(\n",
    "        go.Scatter(\n",
    "            x=calmonthly['MonthName'], \n",
    "            y=calmonthly['Flow_P50'],\n",
    "            name='Median (P50)',mode='lines+text+markers',\n",
    "            text=calmonthly['Flow_P50'], texttemplate='%{text:0f}',textfont_size=10, textposition='top center',\n",
    "            hoverlabel=dict(bgcolor='rgba(200,200,200,0.2)'),hovertemplate='%{x}: %{y:0f} m\\u00B3/s</br><extra></extra>',\n",
    "            line_shape='spline',line = dict(color='red', width=2) ), row=1, col=1)\n",
    "\n",
    "fig.add_trace(\n",
    "        go.Scatter(\n",
    "            x=calmonthly['MonthName'], \n",
    "            y=calmonthly['Flow_coefvar'],\n",
    "            name='Coefficient of Variation',mode='lines+markers',\n",
    "            #text=calmonthly['Flow_coefvar'], texttemplate='%{text:0f}%',textfont_size=10, textposition='bottom center',\n",
    "            hoverlabel=dict(bgcolor='rgba(200,200,200,0.2)'),hovertemplate='%{x}: %{y:0f}%</br><extra></extra>',\n",
    "            line_shape='spline',line = dict(color='black', width=2) ), row=2, col=1)\n",
    "\n",
    "\n",
    "fig.update_layout(\n",
    "    xaxis=dict(\n",
    "        showgrid=False,\n",
    "        showline=False,\n",
    "    ),\n",
    "    yaxis=dict(\n",
    "        showline=False, showgrid=True,\n",
    "        separatethousands=True,\n",
    "        gridcolor='rgb(204, 204, 204)',\n",
    "    ),\n",
    "    width=900, height=600, autosize=False,\n",
    "    title_text='Mean Monthly Flow',\n",
    "    plot_bgcolor='white'\n",
    ")\n",
    "\n",
    "fig.update_yaxes(title_text='Flow (m\\u00B3/s)',row=1,col=1)\n",
    "fig.update_yaxes(title_text='Coefficient of Variation (%)',gridcolor='rgb(204, 204, 204)',row=2,col=1)\n",
    "\n",
    "fig.show(renderer=bookRenderer)"
   ]
  },
  {
   "cell_type": "code",
   "execution_count": 28,
   "metadata": {
    "jupyter": {
     "source_hidden": true
    }
   },
   "outputs": [
    {
     "data": {
      "application/vnd.plotly.v1+json": {
       "config": {
        "plotlyServerURL": "https://plot.ly"
       },
       "data": [
        {
         "boxmean": true,
         "line": {
          "color": "royalblue",
          "width": 1.5
         },
         "marker": {
          "color": "royalblue"
         },
         "name": "Oct",
         "type": "box",
         "y": [
          116.09677419354837,
          171.32258064516128,
          198.70967741935485,
          187.67741935483872,
          246.90322580645162,
          191.90322580645162,
          239.2258064516129,
          242.38709677419357,
          218.93548387096772,
          173.90322580645162,
          202.4838709677419,
          225.19354838709683,
          202.58064516129036,
          243.70967741935485,
          224.61290322580646,
          232.74193548387098,
          276.7096774193548,
          204.70967741935485,
          195.90322580645162,
          189.41935483870967,
          194.61290322580646,
          205.61290322580646,
          195.25806451612902,
          274.4193548387097,
          292.2903225806452,
          174.90322580645162,
          204.93548387096772,
          282.48387096774195,
          237.4838709677419,
          270.61290322580646,
          228.61290322580646,
          267.67741935483866,
          329.96774193548384,
          295.77419354838713,
          348.5483870967742,
          210.45161290322582,
          220.58064516129036,
          277.64516129032256,
          313.06451612903226,
          359,
          274.03225806451616,
          268.61290322580646,
          279.48387096774195,
          277.80645161290323,
          305.51612903225805,
          437.09677419354836,
          326.35483870967744,
          292.35483870967744,
          285.48387096774195,
          232.90322580645162,
          234.1290322580645,
          265.5806451612903,
          379.51612903225805,
          309.1935483870968,
          416.8387096774193,
          339.06451612903226,
          302.8709677419355,
          268.32258064516134,
          269.3870967741936,
          224.74193548387098,
          210.80645161290326,
          211.7741935483871,
          285.32258064516134,
          236.38709677419357,
          229.2258064516129,
          265.96774193548384,
          212.54838709677418,
          200.96774193548384,
          172.54838709677418,
          188.06451612903226,
          155.58064516129033,
          121.61290322580645,
          117.12903225806451,
          168.29032258064515,
          195.70967741935485,
          196.29032258064515,
          162.29032258064515,
          210.32258064516128,
          205.64516129032262,
          205.96774193548384,
          215.25806451612902,
          170.03225806451613,
          218.29032258064515,
          259.80645161290323,
          195.90322580645162,
          222.67741935483872,
          250.58064516129036,
          274.741935483871,
          236.4838709677419,
          209.45161290322582,
          252.1290322580645,
          194.7741935483871,
          186.96774193548384
         ]
        },
        {
         "boxmean": true,
         "line": {
          "color": "royalblue",
          "width": 1.5
         },
         "marker": {
          "color": "royalblue"
         },
         "name": "Nov",
         "type": "box",
         "y": [
          154.06666666666666,
          199.7333333333333,
          217.66666666666663,
          245.66666666666663,
          256.5,
          230,
          219.53333333333333,
          307.3333333333333,
          220.36666666666667,
          212.9333333333333,
          268.23333333333335,
          213.36666666666667,
          234.06666666666663,
          267.9,
          273.46666666666664,
          312.93333333333334,
          328.5,
          238.96666666666667,
          231.46666666666667,
          216.4333333333333,
          233.76666666666668,
          238.33333333333331,
          208.86666666666667,
          280.73333333333335,
          348.3,
          194.6,
          227.36666666666667,
          342.76666666666665,
          323.23333333333335,
          291.6666666666667,
          255.5,
          300.5,
          376.13333333333327,
          335.76666666666665,
          408.76666666666665,
          238.53333333333333,
          289.46666666666664,
          336.8666666666667,
          348.4,
          469.36666666666673,
          330.26666666666665,
          286.8333333333333,
          287.8,
          378.4333333333333,
          356.4,
          525.9333333333333,
          378.73333333333335,
          344.36666666666673,
          310.23333333333335,
          278.73333333333335,
          283.8333333333333,
          262.93333333333334,
          378.4333333333333,
          303.6666666666667,
          519.1333333333333,
          441.73333333333335,
          374.8,
          281.26666666666665,
          338.9,
          270.3,
          261.2,
          223.2333333333333,
          411.9333333333333,
          244.2333333333333,
          287.26666666666665,
          242.1,
          214.1,
          261.3,
          202.9,
          223.83333333333331,
          170.63333333333333,
          153.83333333333334,
          156.7,
          181.63333333333333,
          195.7,
          205.13333333333333,
          170.93333333333334,
          283.23333333333335,
          212.96666666666667,
          220.8,
          236.86666666666667,
          211.3,
          265.46666666666664,
          279.1,
          264.5,
          290.43333333333334,
          262.06666666666666,
          297.4,
          292.7,
          248.9333333333333,
          266.53333333333336,
          203.8,
          186.8
         ]
        },
        {
         "boxmean": true,
         "line": {
          "color": "royalblue",
          "width": 1.5
         },
         "marker": {
          "color": "royalblue"
         },
         "name": "Dec",
         "type": "box",
         "y": [
          275.67741935483866,
          332.96774193548384,
          426.64516129032256,
          361.5806451612903,
          351.64516129032256,
          447.6129032258065,
          355.35483870967744,
          571.3225806451613,
          343.45161290322585,
          400.51612903225805,
          471.741935483871,
          349.5806451612903,
          346.70967741935476,
          428.22580645161287,
          448.9677419354838,
          546.0322580645161,
          407.1612903225807,
          337.741935483871,
          316.16129032258067,
          386.1612903225807,
          402.3225806451613,
          393.4193548387097,
          374.19354838709677,
          399.90322580645164,
          400.51612903225805,
          317.48387096774195,
          373.38709677419365,
          600.9677419354839,
          429.38709677419365,
          507.1290322580645,
          474.6774193548387,
          422.0645161290323,
          541.6774193548387,
          552.3225806451613,
          678.8387096774194,
          396.64516129032256,
          393.0645161290323,
          490.09677419354836,
          741.9677419354839,
          803.1290322580646,
          466.9354838709677,
          436.3225806451613,
          372.0645161290323,
          566.1290322580645,
          554.0322580645161,
          775.6129032258065,
          550.0967741935483,
          447.90322580645164,
          387.1290322580645,
          525.5483870967741,
          510.8387096774193,
          400.483870967742,
          470.5483870967742,
          529.1612903225806,
          698.8709677419354,
          709.7096774193549,
          515.1935483870968,
          373.90322580645164,
          525.1935483870968,
          391.9354838709677,
          376,
          305.80645161290323,
          571.741935483871,
          364.1290322580645,
          406.9677419354838,
          290.48387096774195,
          319.258064516129,
          434.8709677419355,
          288.6129032258065,
          312.9032258064516,
          233.03225806451616,
          233.25806451612902,
          229.5161290322581,
          297.22580645161287,
          342.64516129032256,
          309.2903225806452,
          339.4193548387097,
          420.0645161290323,
          307.51612903225805,
          342.6129032258065,
          341.83870967741933,
          336.6129032258065,
          439.0322580645162,
          501.1612903225807,
          522.0645161290323,
          466.8387096774193,
          453.77419354838713,
          504.35483870967744,
          501.1612903225807,
          544.5806451612904,
          389.4193548387097,
          302.96774193548384,
          369.483870967742
         ]
        },
        {
         "boxmean": true,
         "line": {
          "color": "royalblue",
          "width": 1.5
         },
         "marker": {
          "color": "royalblue"
         },
         "name": "Jan",
         "type": "box",
         "y": [
          692.7741935483872,
          495.1290322580645,
          644.6129032258065,
          605.9354838709677,
          531,
          588.0322580645161,
          510.80645161290323,
          818.1935483870967,
          614.8387096774194,
          648.9032258064517,
          672.1935483870968,
          535.483870967742,
          607.1612903225806,
          627.1612903225806,
          713.258064516129,
          829.741935483871,
          709.7096774193549,
          477.22580645161287,
          471.5483870967742,
          710.3225806451613,
          557.3548387096773,
          730.2258064516128,
          584.8387096774194,
          687.0322580645161,
          445.5483870967742,
          574.9677419354839,
          588.516129032258,
          1656.451612903226,
          609.0645161290323,
          779.0967741935484,
          918.2903225806452,
          651.6451612903227,
          642.0645161290323,
          1646.225806451613,
          857.483870967742,
          588.4193548387096,
          595.6129032258065,
          876.741935483871,
          1688.1935483870968,
          1002.258064516129,
          690,
          620.6129032258065,
          544.0645161290323,
          1700.0645161290322,
          790.1935483870967,
          1226.225806451613,
          850.483870967742,
          718.7741935483872,
          526.9677419354839,
          909.0967741935484,
          911.6774193548387,
          602.4193548387096,
          691.5483870967741,
          983.3548387096774,
          939.3548387096774,
          1379.7096774193549,
          744.0967741935484,
          484.51612903225805,
          701.9354838709677,
          540.1290322580645,
          554.2903225806451,
          421.5806451612903,
          718.7741935483872,
          455.77419354838713,
          590.9032258064517,
          501.258064516129,
          511.741935483871,
          538.3225806451613,
          409.6774193548387,
          519.9677419354839,
          329.93548387096774,
          369.4193548387097,
          410.1290322580645,
          565.258064516129,
          570.6774193548387,
          457.64516129032256,
          605.0322580645161,
          548.0322580645161,
          551.483870967742,
          600.1612903225806,
          528.3548387096773,
          601.516129032258,
          811.9354838709677,
          1204.4193548387098,
          895.4516129032259,
          788.0645161290323,
          1273.548387096774,
          838.8387096774194,
          1223.967741935484,
          804.741935483871,
          601.6774193548387,
          491.1612903225807,
          851.516129032258
         ]
        },
        {
         "boxmean": true,
         "line": {
          "color": "royalblue",
          "width": 1.5
         },
         "marker": {
          "color": "royalblue"
         },
         "name": "Feb",
         "type": "box",
         "y": [
          1193.75,
          733.0714285714287,
          1220.9642857142858,
          829.1034482758621,
          698.3928571428571,
          717.7857142857142,
          666.8571428571429,
          1082.9310344827586,
          797.7142857142858,
          916.4642857142856,
          1121.642857142857,
          809.2758620689655,
          1839.892857142857,
          876.7857142857142,
          1184.5357142857142,
          1111.5862068965516,
          1219.857142857143,
          667.0357142857142,
          614.4642857142858,
          1335.8965517241381,
          907.5,
          971,
          822.8571428571429,
          1471.2413793103449,
          520.8214285714286,
          2308.142857142857,
          916.2857142857144,
          3599.2758620689656,
          964.2142857142856,
          1048.7857142857142,
          1997.892857142857,
          1106.5517241379312,
          937.8928571428572,
          8630.107142857143,
          1025.142857142857,
          811.4827586206897,
          890.3928571428571,
          1967.7142857142856,
          4062.321428571429,
          1329.8620689655172,
          1052.7142857142858,
          991.8571428571428,
          783.8571428571429,
          4719.379310344828,
          1755.25,
          2996.8214285714284,
          1385.392857142857,
          829.7586206896551,
          703.8214285714287,
          1768.892857142857,
          2641.8214285714284,
          877.8965517241379,
          1043.75,
          1475.2142857142858,
          1466.392857142857,
          2260.3793103448274,
          1071.357142857143,
          631.7142857142858,
          842.5357142857142,
          737.9655172413792,
          798.8214285714287,
          621.0714285714286,
          888.6428571428571,
          817.7241379310345,
          1298.3214285714287,
          703.1428571428571,
          938.75,
          659.5517241379309,
          734.6785714285713,
          840.4285714285713,
          458.57142857142856,
          451.7241379310345,
          694.25,
          1152.9642857142858,
          987.5,
          690.6896551724138,
          1135.5714285714287,
          709.4642857142858,
          887.5714285714287,
          1061.5517241379312,
          806.3571428571429,
          971.5,
          3307.785714285714,
          2523.1379310344832,
          1607.5,
          1646,
          2841.964285714286,
          1581.3793103448277,
          3129.857142857143,
          1419.607142857143,
          863.5,
          847.4137931034481,
          1237.25
         ]
        },
        {
         "boxmean": true,
         "line": {
          "color": "royalblue",
          "width": 1.5
         },
         "marker": {
          "color": "royalblue"
         },
         "name": "Mar",
         "type": "box",
         "y": [
          1926.4193548387095,
          2626.3548387096776,
          1787.451612903226,
          1844.161290322581,
          925.741935483871,
          909.5806451612905,
          1091.032258064516,
          2941.2903225806454,
          1155.9032258064515,
          3647.4838709677415,
          2650.2903225806454,
          1382.516129032258,
          3127.322580645161,
          1249.258064516129,
          2628.4193548387093,
          3101.1612903225805,
          2294.6451612903224,
          974.741935483871,
          952.483870967742,
          2103.6774193548385,
          2555.0967741935488,
          1110.967741935484,
          2081,
          5741.741935483871,
          703.4516129032259,
          4350.645161290323,
          3566.1290322580644,
          5569.967741935483,
          4101.83870967742,
          2090.870967741936,
          2971.677419354838,
          3883.322580645162,
          7260.548387096775,
          7995.387096774193,
          2694.4193548387093,
          2441.3548387096776,
          2621.8387096774195,
          4357.419354838709,
          6540.258064516129,
          2236.2580645161293,
          2318.322580645161,
          2806.1290322580644,
          1145.8387096774193,
          4205.129032258064,
          6893.096774193548,
          4635.903225806452,
          2781.1290322580644,
          989.9354838709676,
          894.9677419354839,
          2613.903225806452,
          4019.2903225806454,
          3622.064516129032,
          2081.4193548387093,
          3519.4193548387098,
          2786.3870967741937,
          2590.935483870968,
          2109.0967741935488,
          811.7741935483872,
          1040.451612903226,
          1313.0645161290322,
          1044,
          896.7741935483872,
          1500.2903225806451,
          1109.6774193548388,
          3122.677419354838,
          853.9354838709677,
          2139.387096774193,
          845.3870967741935,
          1185.516129032258,
          1511.6129032258066,
          730.8387096774194,
          588.1612903225806,
          890.9032258064516,
          2611.516129032258,
          2292.1290322580644,
          1247.5806451612902,
          2909.3870967741937,
          1241.774193548387,
          1523.2580645161293,
          3066.7741935483873,
          1184.741935483871,
          1610.967741935484,
          3978.096774193548,
          2939.6129032258063,
          4706.903225806452,
          4335.935483870968,
          3835.4193548387098,
          2339.7096774193546,
          3378.8064516129034,
          2362.6451612903224,
          1149.1290322580646,
          2420.935483870968,
          2422.193548387097
         ]
        },
        {
         "boxmean": true,
         "line": {
          "color": "royalblue",
          "width": 1.5
         },
         "marker": {
          "color": "royalblue"
         },
         "name": "Apr",
         "type": "box",
         "y": [
          3198.566666666666,
          3961.366666666667,
          2844.333333333333,
          2199,
          1386.8666666666666,
          1083.9,
          2881.866666666667,
          2978.9,
          1467.2,
          3964.233333333333,
          2322.1,
          2367.5,
          2959.633333333333,
          2753.2,
          2211.4,
          4457.533333333334,
          2759.6,
          1833.166666666667,
          1630.5666666666666,
          2436.733333333333,
          3187.666666666666,
          1378,
          4281.9,
          5018,
          862.2333333333332,
          3698.066666666666,
          3025.0333333333333,
          3427.166666666666,
          4584.266666666666,
          3464.166666666666,
          3314.4,
          4063.7,
          3648,
          4178.9,
          3163.766666666667,
          4072.1,
          5657.0666666666675,
          5234.833333333333,
          5356.666666666667,
          2274.8,
          2552.433333333333,
          4140.433333333333,
          2745.1,
          4707.866666666667,
          7422.7,
          3484.233333333333,
          2570.3,
          1573.6,
          1145.4,
          2300.7,
          4807.266666666666,
          4745.8,
          2609.866666666667,
          6021.133333333332,
          4659.033333333334,
          2941.3,
          3166.6,
          1277.9666666666667,
          1084.1,
          1677.9333333333334,
          1648.1,
          2171.0666666666666,
          1925.3,
          2057.5333333333333,
          3321.266666666667,
          900.3,
          1889.966666666667,
          838,
          2885.8,
          1541.466666666667,
          1174.8,
          758.7666666666668,
          1253.3,
          3313.4,
          2972.633333333333,
          3047.8,
          3284.9666666666667,
          1785.1,
          2915.3,
          3990.6,
          1239.8666666666666,
          2587.1,
          3291.133333333333,
          3033.4666666666667,
          4503.9,
          4639.466666666666,
          4196.333333333333,
          3195.5333333333333,
          3030.166666666666,
          3451.0333333333333,
          1333.2,
          2933.2,
          3418.366666666667
         ]
        },
        {
         "boxmean": true,
         "line": {
          "color": "royalblue",
          "width": 1.5
         },
         "marker": {
          "color": "royalblue"
         },
         "name": "May",
         "type": "box",
         "y": [
          2213.935483870968,
          2508.193548387097,
          2287.387096774193,
          1970.5806451612905,
          1128.8709677419354,
          1805.935483870968,
          2674.322580645161,
          1713.2580645161293,
          957.2258064516127,
          2323.7741935483873,
          1685.032258064516,
          2014.6774193548388,
          2363,
          1659.0645161290322,
          1294.967741935484,
          2675.2903225806454,
          1678.1290322580646,
          1558.2580645161293,
          1604.8064516129032,
          1949.0967741935485,
          1958.032258064516,
          1438.9354838709678,
          3125.2580645161293,
          3176.5161290322585,
          709.9354838709677,
          2564.0967741935488,
          2565.903225806452,
          1736.0645161290322,
          3191.8064516129034,
          2306.483870967742,
          2351,
          5181.83870967742,
          2039.548387096774,
          2192.322580645161,
          1886.967741935484,
          2236.2903225806454,
          3373.451612903226,
          3461.225806451613,
          3024,
          1689.3225806451612,
          1803.225806451613,
          2306.903225806452,
          2443.0967741935488,
          2634.4193548387093,
          3738.806451612904,
          1987.8064516129032,
          1688.2580645161293,
          1699.032258064516,
          1110.516129032258,
          2288.8064516129034,
          2846.2903225806454,
          3830.2903225806454,
          2665.0967741935488,
          4600.258064516129,
          3071.0967741935488,
          2278.1290322580644,
          2733.8064516129034,
          1132.3870967741937,
          968.258064516129,
          1224.548387096774,
          1781.967741935484,
          2029.290322580645,
          1427,
          1872.483870967742,
          3312.3870967741937,
          984.032258064516,
          1478.483870967742,
          756.8064516129033,
          2473,
          741.3870967741935,
          757.5483870967741,
          685.8709677419355,
          1315,
          2518,
          2725.451612903226,
          2132.903225806452,
          3005.2903225806454,
          1934.225806451613,
          3122.193548387097,
          3163.2580645161293,
          1269.774193548387,
          2370.483870967742,
          2503.4193548387093,
          2374.8064516129034,
          2604.967741935484,
          3824.548387096774,
          3545.709677419354,
          2800.3870967741937,
          2273.193548387097,
          3225,
          1414.1935483870968,
          2458.935483870968,
          2195.3548387096776
         ]
        },
        {
         "boxmean": true,
         "line": {
          "color": "royalblue",
          "width": 1.5
         },
         "marker": {
          "color": "royalblue"
         },
         "name": "Jun",
         "type": "box",
         "y": [
          1178.3666666666666,
          1195.5333333333333,
          1257.7,
          988.7333333333332,
          453.03333333333336,
          1358.2,
          1372.3,
          964.4333333333333,
          465.83333333333326,
          1178.0666666666666,
          934.1666666666665,
          855.5,
          1414,
          844.9,
          633.4333333333333,
          1435.6333333333334,
          814.9666666666667,
          646.7666666666668,
          992.2666666666668,
          889.7333333333332,
          922.7,
          820.7666666666668,
          1609.2333333333331,
          1756.3666666666666,
          410.23333333333335,
          1209.1333333333334,
          1637.533333333333,
          837.8333333333335,
          1759.1333333333334,
          1203.8666666666666,
          1491.166666666667,
          2822,
          1075.0666666666666,
          1108.3,
          1003.9666666666667,
          1287.3,
          1823.8666666666666,
          1877.833333333333,
          1532.166666666667,
          834,
          926.1666666666665,
          1258.5666666666666,
          1582.033333333333,
          1426.7,
          1862.966666666667,
          1056.5333333333333,
          1038.6333333333334,
          1154.3,
          631.5,
          1301.5333333333333,
          1467.2666666666669,
          2140.233333333333,
          1634.5666666666666,
          2476.4,
          1526.7,
          1277.4666666666667,
          1366.5666666666666,
          729.7333333333332,
          555.4333333333333,
          586.7666666666668,
          1018.1,
          1040.1666666666667,
          763.3666666666667,
          1041.3333333333333,
          1833.5666666666666,
          747.5333333333333,
          687.8666666666667,
          446.5,
          1166.3666666666666,
          359.9333333333333,
          326.73333333333335,
          345.13333333333327,
          734.4333333333333,
          1192.7333333333333,
          1314.2666666666667,
          1062.7666666666667,
          1623.666666666667,
          1271.1333333333334,
          1757.1333333333334,
          1775.4333333333334,
          812.9666666666667,
          1497.6,
          1404.6,
          1336.9666666666667,
          1450.4333333333334,
          2130.6666666666665,
          1905.2,
          1426.5666666666666,
          1003.7333333333332,
          2076.133333333333,
          1045.2333333333333,
          1241.4333333333334,
          1118.8333333333333
         ]
        },
        {
         "boxmean": true,
         "line": {
          "color": "royalblue",
          "width": 1.5
         },
         "marker": {
          "color": "royalblue"
         },
         "name": "Jul",
         "type": "box",
         "y": [
          520.6451612903227,
          549.7096774193549,
          511.0322580645162,
          425.741935483871,
          329.741935483871,
          623.6129032258065,
          615.9354838709677,
          512.0322580645161,
          331.1935483870968,
          519.1935483870968,
          488.22580645161287,
          428.35483870967744,
          630.2903225806451,
          436.19354838709677,
          396.3225806451613,
          690.2903225806451,
          449.5483870967742,
          373.51612903225805,
          465.4193548387097,
          426.483870967742,
          469.3225806451613,
          399.741935483871,
          762.741935483871,
          852.8709677419354,
          323.77419354838713,
          551.3548387096773,
          782.0322580645161,
          484.6774193548387,
          812.8064516129033,
          586.1612903225806,
          729.1612903225806,
          1321.516129032258,
          591.741935483871,
          656.8387096774194,
          520.9354838709677,
          643.3225806451613,
          944.4193548387095,
          949.483870967742,
          831.6774193548387,
          505.4516129032258,
          513.741935483871,
          633.9354838709677,
          769.1935483870967,
          781.4193548387095,
          1015.483870967742,
          619.516129032258,
          589.483870967742,
          582.8709677419355,
          403.5483870967742,
          551.6451612903227,
          735.3548387096774,
          1034.3548387096773,
          781.2258064516128,
          1217.967741935484,
          787.9677419354839,
          652.8387096774194,
          648.258064516129,
          450.70967741935476,
          391.80645161290323,
          363,
          469.22580645161287,
          469.51612903225805,
          438.4516129032258,
          487.5806451612903,
          799.9677419354839,
          405.8387096774193,
          369.35483870967744,
          322.45161290322585,
          458.51612903225805,
          277.741935483871,
          243.7741935483871,
          254.38709677419357,
          347.3870967741936,
          513.9354838709677,
          508.29032258064524,
          448.22580645161287,
          687.8387096774194,
          543.1290322580645,
          729.2258064516128,
          718.516129032258,
          424.5806451612903,
          592,
          680.1935483870968,
          573.0967741935483,
          642.3225806451613,
          1011.6451612903226,
          875.1290322580646,
          602.5483870967741,
          499.22580645161287,
          961.2903225806452,
          497.6774193548387,
          500.483870967742,
          482.70967741935476
         ]
        },
        {
         "boxmean": true,
         "line": {
          "color": "royalblue",
          "width": 1.5
         },
         "marker": {
          "color": "royalblue"
         },
         "name": "Aug",
         "type": "box",
         "y": [
          276.64516129032256,
          334.5806451612903,
          311.64516129032256,
          284.22580645161287,
          265.54838709677415,
          399.19354838709677,
          397.6774193548387,
          370.19354838709677,
          247.32258064516128,
          357.8387096774193,
          351.35483870967744,
          306.4193548387097,
          408.3225806451613,
          326.77419354838713,
          313.83870967741933,
          431.0645161290323,
          319.54838709677415,
          281.1290322580645,
          325.0967741935484,
          297.54838709677415,
          334.96774193548384,
          289.3870967741936,
          448.8387096774193,
          477,
          262.7096774193548,
          368.38709677419365,
          458.9677419354838,
          364.64516129032256,
          470.0322580645162,
          406.1290322580645,
          449.5483870967742,
          659.4516129032259,
          418.9354838709677,
          509.5483870967742,
          381.29032258064524,
          409.35483870967744,
          522.1935483870968,
          555.7096774193549,
          544.3870967741935,
          404.29032258064524,
          390.4193548387097,
          436.5806451612903,
          441.80645161290323,
          516.4516129032259,
          637.9354838709677,
          470.80645161290323,
          436.483870967742,
          415.4193548387097,
          316.741935483871,
          381.6129032258065,
          472,
          541.2258064516128,
          492.483870967742,
          676.483870967742,
          521,
          466.29032258064524,
          450.80645161290323,
          350.9677419354838,
          315,
          283.7096774193548,
          334.22580645161287,
          339.2903225806452,
          339.64516129032256,
          343.4193548387097,
          428.29032258064524,
          306.9032258064516,
          283.258064516129,
          253.4838709677419,
          299.67741935483866,
          226.83870967741936,
          198.93548387096772,
          204,
          242.09677419354838,
          353.1612903225807,
          334.64516129032256,
          299.06451612903226,
          397.29032258064524,
          343.9677419354838,
          401.0322580645162,
          402.8387096774193,
          305.7096774193548,
          349.4193548387097,
          431.4193548387097,
          373.0645161290323,
          398.90322580645164,
          532.4193548387096,
          500.0322580645162,
          403.64516129032256,
          354.6774193548387,
          483.6129032258065,
          332.83870967741933,
          331.83870967741933,
          318.1290322580645
         ]
        },
        {
         "boxmean": true,
         "line": {
          "color": "royalblue",
          "width": 1.5
         },
         "marker": {
          "color": "royalblue"
         },
         "name": "Sep",
         "type": "box",
         "y": [
          202.36666666666667,
          234.76666666666668,
          217.86666666666667,
          242.3,
          214.36666666666667,
          289.5,
          292.4,
          284,
          198.7,
          265.46666666666664,
          276.1666666666667,
          236.06666666666663,
          297.1666666666667,
          260.6666666666667,
          253.5,
          298.6666666666667,
          259.7,
          213.66666666666663,
          240.9,
          220.8,
          247.9333333333333,
          218.56666666666663,
          327.43333333333334,
          336,
          213.6,
          259.96666666666664,
          325.6666666666667,
          285.2,
          331.8333333333333,
          301.2,
          332.43333333333334,
          427.4333333333333,
          320.6,
          408.73333333333335,
          283.3666666666667,
          295.2,
          367.4666666666666,
          410.8,
          421.16666666666674,
          326.03333333333336,
          315.8666666666667,
          346.76666666666665,
          326.93333333333334,
          397.63333333333327,
          469.06666666666666,
          374.9,
          353.2,
          325.26666666666665,
          248.96666666666667,
          298.96666666666664,
          335.73333333333335,
          403,
          373.63333333333327,
          490.5,
          401.16666666666674,
          360.86666666666673,
          345.7,
          281.26666666666665,
          250.36666666666667,
          230.2333333333333,
          252.9333333333333,
          268.23333333333335,
          264.73333333333335,
          272.76666666666665,
          312.3333333333333,
          232.36666666666667,
          221.4333333333333,
          197.96666666666667,
          219.96666666666667,
          181.5,
          152.73333333333332,
          157.73333333333332,
          194.2333333333333,
          248.5,
          232.63333333333333,
          223.33333333333331,
          287.8333333333333,
          251.9333333333333,
          271.7,
          277.8666666666667,
          230.5,
          246.63333333333333,
          315.23333333333335,
          274.1333333333333,
          282.2,
          354.6,
          354.7,
          291.8666666666667,
          264.6333333333333,
          330.96666666666664,
          239.96666666666667,
          241.5,
          223.9333333333333
         ]
        }
       ],
       "layout": {
        "autosize": false,
        "height": 600,
        "plot_bgcolor": "white",
        "showlegend": false,
        "template": {
         "data": {
          "bar": [
           {
            "error_x": {
             "color": "#2a3f5f"
            },
            "error_y": {
             "color": "#2a3f5f"
            },
            "marker": {
             "line": {
              "color": "#E5ECF6",
              "width": 0.5
             }
            },
            "type": "bar"
           }
          ],
          "barpolar": [
           {
            "marker": {
             "line": {
              "color": "#E5ECF6",
              "width": 0.5
             }
            },
            "type": "barpolar"
           }
          ],
          "carpet": [
           {
            "aaxis": {
             "endlinecolor": "#2a3f5f",
             "gridcolor": "white",
             "linecolor": "white",
             "minorgridcolor": "white",
             "startlinecolor": "#2a3f5f"
            },
            "baxis": {
             "endlinecolor": "#2a3f5f",
             "gridcolor": "white",
             "linecolor": "white",
             "minorgridcolor": "white",
             "startlinecolor": "#2a3f5f"
            },
            "type": "carpet"
           }
          ],
          "choropleth": [
           {
            "colorbar": {
             "outlinewidth": 0,
             "ticks": ""
            },
            "type": "choropleth"
           }
          ],
          "contour": [
           {
            "colorbar": {
             "outlinewidth": 0,
             "ticks": ""
            },
            "colorscale": [
             [
              0,
              "#0d0887"
             ],
             [
              0.1111111111111111,
              "#46039f"
             ],
             [
              0.2222222222222222,
              "#7201a8"
             ],
             [
              0.3333333333333333,
              "#9c179e"
             ],
             [
              0.4444444444444444,
              "#bd3786"
             ],
             [
              0.5555555555555556,
              "#d8576b"
             ],
             [
              0.6666666666666666,
              "#ed7953"
             ],
             [
              0.7777777777777778,
              "#fb9f3a"
             ],
             [
              0.8888888888888888,
              "#fdca26"
             ],
             [
              1,
              "#f0f921"
             ]
            ],
            "type": "contour"
           }
          ],
          "contourcarpet": [
           {
            "colorbar": {
             "outlinewidth": 0,
             "ticks": ""
            },
            "type": "contourcarpet"
           }
          ],
          "heatmap": [
           {
            "colorbar": {
             "outlinewidth": 0,
             "ticks": ""
            },
            "colorscale": [
             [
              0,
              "#0d0887"
             ],
             [
              0.1111111111111111,
              "#46039f"
             ],
             [
              0.2222222222222222,
              "#7201a8"
             ],
             [
              0.3333333333333333,
              "#9c179e"
             ],
             [
              0.4444444444444444,
              "#bd3786"
             ],
             [
              0.5555555555555556,
              "#d8576b"
             ],
             [
              0.6666666666666666,
              "#ed7953"
             ],
             [
              0.7777777777777778,
              "#fb9f3a"
             ],
             [
              0.8888888888888888,
              "#fdca26"
             ],
             [
              1,
              "#f0f921"
             ]
            ],
            "type": "heatmap"
           }
          ],
          "heatmapgl": [
           {
            "colorbar": {
             "outlinewidth": 0,
             "ticks": ""
            },
            "colorscale": [
             [
              0,
              "#0d0887"
             ],
             [
              0.1111111111111111,
              "#46039f"
             ],
             [
              0.2222222222222222,
              "#7201a8"
             ],
             [
              0.3333333333333333,
              "#9c179e"
             ],
             [
              0.4444444444444444,
              "#bd3786"
             ],
             [
              0.5555555555555556,
              "#d8576b"
             ],
             [
              0.6666666666666666,
              "#ed7953"
             ],
             [
              0.7777777777777778,
              "#fb9f3a"
             ],
             [
              0.8888888888888888,
              "#fdca26"
             ],
             [
              1,
              "#f0f921"
             ]
            ],
            "type": "heatmapgl"
           }
          ],
          "histogram": [
           {
            "marker": {
             "colorbar": {
              "outlinewidth": 0,
              "ticks": ""
             }
            },
            "type": "histogram"
           }
          ],
          "histogram2d": [
           {
            "colorbar": {
             "outlinewidth": 0,
             "ticks": ""
            },
            "colorscale": [
             [
              0,
              "#0d0887"
             ],
             [
              0.1111111111111111,
              "#46039f"
             ],
             [
              0.2222222222222222,
              "#7201a8"
             ],
             [
              0.3333333333333333,
              "#9c179e"
             ],
             [
              0.4444444444444444,
              "#bd3786"
             ],
             [
              0.5555555555555556,
              "#d8576b"
             ],
             [
              0.6666666666666666,
              "#ed7953"
             ],
             [
              0.7777777777777778,
              "#fb9f3a"
             ],
             [
              0.8888888888888888,
              "#fdca26"
             ],
             [
              1,
              "#f0f921"
             ]
            ],
            "type": "histogram2d"
           }
          ],
          "histogram2dcontour": [
           {
            "colorbar": {
             "outlinewidth": 0,
             "ticks": ""
            },
            "colorscale": [
             [
              0,
              "#0d0887"
             ],
             [
              0.1111111111111111,
              "#46039f"
             ],
             [
              0.2222222222222222,
              "#7201a8"
             ],
             [
              0.3333333333333333,
              "#9c179e"
             ],
             [
              0.4444444444444444,
              "#bd3786"
             ],
             [
              0.5555555555555556,
              "#d8576b"
             ],
             [
              0.6666666666666666,
              "#ed7953"
             ],
             [
              0.7777777777777778,
              "#fb9f3a"
             ],
             [
              0.8888888888888888,
              "#fdca26"
             ],
             [
              1,
              "#f0f921"
             ]
            ],
            "type": "histogram2dcontour"
           }
          ],
          "mesh3d": [
           {
            "colorbar": {
             "outlinewidth": 0,
             "ticks": ""
            },
            "type": "mesh3d"
           }
          ],
          "parcoords": [
           {
            "line": {
             "colorbar": {
              "outlinewidth": 0,
              "ticks": ""
             }
            },
            "type": "parcoords"
           }
          ],
          "pie": [
           {
            "automargin": true,
            "type": "pie"
           }
          ],
          "scatter": [
           {
            "marker": {
             "colorbar": {
              "outlinewidth": 0,
              "ticks": ""
             }
            },
            "type": "scatter"
           }
          ],
          "scatter3d": [
           {
            "line": {
             "colorbar": {
              "outlinewidth": 0,
              "ticks": ""
             }
            },
            "marker": {
             "colorbar": {
              "outlinewidth": 0,
              "ticks": ""
             }
            },
            "type": "scatter3d"
           }
          ],
          "scattercarpet": [
           {
            "marker": {
             "colorbar": {
              "outlinewidth": 0,
              "ticks": ""
             }
            },
            "type": "scattercarpet"
           }
          ],
          "scattergeo": [
           {
            "marker": {
             "colorbar": {
              "outlinewidth": 0,
              "ticks": ""
             }
            },
            "type": "scattergeo"
           }
          ],
          "scattergl": [
           {
            "marker": {
             "colorbar": {
              "outlinewidth": 0,
              "ticks": ""
             }
            },
            "type": "scattergl"
           }
          ],
          "scattermapbox": [
           {
            "marker": {
             "colorbar": {
              "outlinewidth": 0,
              "ticks": ""
             }
            },
            "type": "scattermapbox"
           }
          ],
          "scatterpolar": [
           {
            "marker": {
             "colorbar": {
              "outlinewidth": 0,
              "ticks": ""
             }
            },
            "type": "scatterpolar"
           }
          ],
          "scatterpolargl": [
           {
            "marker": {
             "colorbar": {
              "outlinewidth": 0,
              "ticks": ""
             }
            },
            "type": "scatterpolargl"
           }
          ],
          "scatterternary": [
           {
            "marker": {
             "colorbar": {
              "outlinewidth": 0,
              "ticks": ""
             }
            },
            "type": "scatterternary"
           }
          ],
          "surface": [
           {
            "colorbar": {
             "outlinewidth": 0,
             "ticks": ""
            },
            "colorscale": [
             [
              0,
              "#0d0887"
             ],
             [
              0.1111111111111111,
              "#46039f"
             ],
             [
              0.2222222222222222,
              "#7201a8"
             ],
             [
              0.3333333333333333,
              "#9c179e"
             ],
             [
              0.4444444444444444,
              "#bd3786"
             ],
             [
              0.5555555555555556,
              "#d8576b"
             ],
             [
              0.6666666666666666,
              "#ed7953"
             ],
             [
              0.7777777777777778,
              "#fb9f3a"
             ],
             [
              0.8888888888888888,
              "#fdca26"
             ],
             [
              1,
              "#f0f921"
             ]
            ],
            "type": "surface"
           }
          ],
          "table": [
           {
            "cells": {
             "fill": {
              "color": "#EBF0F8"
             },
             "line": {
              "color": "white"
             }
            },
            "header": {
             "fill": {
              "color": "#C8D4E3"
             },
             "line": {
              "color": "white"
             }
            },
            "type": "table"
           }
          ]
         },
         "layout": {
          "annotationdefaults": {
           "arrowcolor": "#2a3f5f",
           "arrowhead": 0,
           "arrowwidth": 1
          },
          "coloraxis": {
           "colorbar": {
            "outlinewidth": 0,
            "ticks": ""
           }
          },
          "colorscale": {
           "diverging": [
            [
             0,
             "#8e0152"
            ],
            [
             0.1,
             "#c51b7d"
            ],
            [
             0.2,
             "#de77ae"
            ],
            [
             0.3,
             "#f1b6da"
            ],
            [
             0.4,
             "#fde0ef"
            ],
            [
             0.5,
             "#f7f7f7"
            ],
            [
             0.6,
             "#e6f5d0"
            ],
            [
             0.7,
             "#b8e186"
            ],
            [
             0.8,
             "#7fbc41"
            ],
            [
             0.9,
             "#4d9221"
            ],
            [
             1,
             "#276419"
            ]
           ],
           "sequential": [
            [
             0,
             "#0d0887"
            ],
            [
             0.1111111111111111,
             "#46039f"
            ],
            [
             0.2222222222222222,
             "#7201a8"
            ],
            [
             0.3333333333333333,
             "#9c179e"
            ],
            [
             0.4444444444444444,
             "#bd3786"
            ],
            [
             0.5555555555555556,
             "#d8576b"
            ],
            [
             0.6666666666666666,
             "#ed7953"
            ],
            [
             0.7777777777777778,
             "#fb9f3a"
            ],
            [
             0.8888888888888888,
             "#fdca26"
            ],
            [
             1,
             "#f0f921"
            ]
           ],
           "sequentialminus": [
            [
             0,
             "#0d0887"
            ],
            [
             0.1111111111111111,
             "#46039f"
            ],
            [
             0.2222222222222222,
             "#7201a8"
            ],
            [
             0.3333333333333333,
             "#9c179e"
            ],
            [
             0.4444444444444444,
             "#bd3786"
            ],
            [
             0.5555555555555556,
             "#d8576b"
            ],
            [
             0.6666666666666666,
             "#ed7953"
            ],
            [
             0.7777777777777778,
             "#fb9f3a"
            ],
            [
             0.8888888888888888,
             "#fdca26"
            ],
            [
             1,
             "#f0f921"
            ]
           ]
          },
          "colorway": [
           "#636efa",
           "#EF553B",
           "#00cc96",
           "#ab63fa",
           "#FFA15A",
           "#19d3f3",
           "#FF6692",
           "#B6E880",
           "#FF97FF",
           "#FECB52"
          ],
          "font": {
           "color": "#2a3f5f"
          },
          "geo": {
           "bgcolor": "white",
           "lakecolor": "white",
           "landcolor": "#E5ECF6",
           "showlakes": true,
           "showland": true,
           "subunitcolor": "white"
          },
          "hoverlabel": {
           "align": "left"
          },
          "hovermode": "closest",
          "mapbox": {
           "style": "light"
          },
          "paper_bgcolor": "white",
          "plot_bgcolor": "#E5ECF6",
          "polar": {
           "angularaxis": {
            "gridcolor": "white",
            "linecolor": "white",
            "ticks": ""
           },
           "bgcolor": "#E5ECF6",
           "radialaxis": {
            "gridcolor": "white",
            "linecolor": "white",
            "ticks": ""
           }
          },
          "scene": {
           "xaxis": {
            "backgroundcolor": "#E5ECF6",
            "gridcolor": "white",
            "gridwidth": 2,
            "linecolor": "white",
            "showbackground": true,
            "ticks": "",
            "zerolinecolor": "white"
           },
           "yaxis": {
            "backgroundcolor": "#E5ECF6",
            "gridcolor": "white",
            "gridwidth": 2,
            "linecolor": "white",
            "showbackground": true,
            "ticks": "",
            "zerolinecolor": "white"
           },
           "zaxis": {
            "backgroundcolor": "#E5ECF6",
            "gridcolor": "white",
            "gridwidth": 2,
            "linecolor": "white",
            "showbackground": true,
            "ticks": "",
            "zerolinecolor": "white"
           }
          },
          "shapedefaults": {
           "line": {
            "color": "#2a3f5f"
           }
          },
          "ternary": {
           "aaxis": {
            "gridcolor": "white",
            "linecolor": "white",
            "ticks": ""
           },
           "baxis": {
            "gridcolor": "white",
            "linecolor": "white",
            "ticks": ""
           },
           "bgcolor": "#E5ECF6",
           "caxis": {
            "gridcolor": "white",
            "linecolor": "white",
            "ticks": ""
           }
          },
          "title": {
           "x": 0.05
          },
          "xaxis": {
           "automargin": true,
           "gridcolor": "white",
           "linecolor": "white",
           "ticks": "",
           "title": {
            "standoff": 15
           },
           "zerolinecolor": "white",
           "zerolinewidth": 2
          },
          "yaxis": {
           "automargin": true,
           "gridcolor": "white",
           "linecolor": "white",
           "ticks": "",
           "title": {
            "standoff": 15
           },
           "zerolinecolor": "white",
           "zerolinewidth": 2
          }
         }
        },
        "title": {
         "text": "Mean Monthly Flow"
        },
        "width": 900,
        "xaxis": {
         "autorange": true,
         "range": [
          -0.5,
          11.5
         ],
         "showgrid": false,
         "showline": false,
         "type": "category"
        },
        "yaxis": {
         "autorange": true,
         "gridcolor": "rgb(204, 204, 204)",
         "range": [
          -356.903801843318,
          9103.107718894009
         ],
         "separatethousands": true,
         "showgrid": true,
         "showline": false,
         "type": "linear"
        }
       }
      },
      "image/png": "[encoded data removed]",
      "text/html": [
       "<div>\n",
       "        \n",
       "        \n",
       "            <div id=\"f6737d0a-226e-4adf-8592-d991e58fee7d\" class=\"plotly-graph-div\" style=\"height:600px; width:900px;\"></div>\n",
       "            <script type=\"text/javascript\">\n",
       "                require([\"plotly\"], function(Plotly) {\n",
       "                    window.PLOTLYENV=window.PLOTLYENV || {};\n",
       "                    \n",
       "                if (document.getElementById(\"f6737d0a-226e-4adf-8592-d991e58fee7d\")) {\n",
       "                    Plotly.newPlot(\n",
       "                        'f6737d0a-226e-4adf-8592-d991e58fee7d',\n",
       "                        [{\"boxmean\": true, \"line\": {\"color\": \"royalblue\", \"width\": 1.5}, \"marker\": {\"color\": \"royalblue\"}, \"name\": \"Oct\", \"type\": \"box\", \"y\": [116.09677419354837, 171.32258064516128, 198.70967741935485, 187.67741935483872, 246.90322580645162, 191.90322580645162, 239.2258064516129, 242.38709677419357, 218.93548387096772, 173.90322580645162, 202.4838709677419, 225.19354838709683, 202.58064516129036, 243.70967741935485, 224.61290322580646, 232.74193548387098, 276.7096774193548, 204.70967741935485, 195.90322580645162, 189.41935483870967, 194.61290322580646, 205.61290322580646, 195.25806451612902, 274.4193548387097, 292.2903225806452, 174.90322580645162, 204.93548387096772, 282.48387096774195, 237.4838709677419, 270.61290322580646, 228.61290322580646, 267.67741935483866, 329.96774193548384, 295.77419354838713, 348.5483870967742, 210.45161290322582, 220.58064516129036, 277.64516129032256, 313.06451612903226, 359.0, 274.03225806451616, 268.61290322580646, 279.48387096774195, 277.80645161290323, 305.51612903225805, 437.09677419354836, 326.35483870967744, 292.35483870967744, 285.48387096774195, 232.90322580645162, 234.1290322580645, 265.5806451612903, 379.51612903225805, 309.1935483870968, 416.8387096774193, 339.06451612903226, 302.8709677419355, 268.32258064516134, 269.3870967741936, 224.74193548387098, 210.80645161290326, 211.7741935483871, 285.32258064516134, 236.38709677419357, 229.2258064516129, 265.96774193548384, 212.54838709677418, 200.96774193548384, 172.54838709677418, 188.06451612903226, 155.58064516129033, 121.61290322580645, 117.12903225806451, 168.29032258064515, 195.70967741935485, 196.29032258064515, 162.29032258064515, 210.32258064516128, 205.64516129032262, 205.96774193548384, 215.25806451612902, 170.03225806451613, 218.29032258064515, 259.80645161290323, 195.90322580645162, 222.67741935483872, 250.58064516129036, 274.741935483871, 236.4838709677419, 209.45161290322582, 252.1290322580645, 194.7741935483871, 186.96774193548384]}, {\"boxmean\": true, \"line\": {\"color\": \"royalblue\", \"width\": 1.5}, \"marker\": {\"color\": \"royalblue\"}, \"name\": \"Nov\", \"type\": \"box\", \"y\": [154.06666666666666, 199.7333333333333, 217.66666666666663, 245.66666666666663, 256.5, 230.0, 219.53333333333333, 307.3333333333333, 220.36666666666667, 212.9333333333333, 268.23333333333335, 213.36666666666667, 234.06666666666663, 267.9, 273.46666666666664, 312.93333333333334, 328.5, 238.96666666666667, 231.46666666666667, 216.4333333333333, 233.76666666666668, 238.33333333333331, 208.86666666666667, 280.73333333333335, 348.3, 194.6, 227.36666666666667, 342.76666666666665, 323.23333333333335, 291.6666666666667, 255.5, 300.5, 376.13333333333327, 335.76666666666665, 408.76666666666665, 238.53333333333333, 289.46666666666664, 336.8666666666667, 348.4, 469.36666666666673, 330.26666666666665, 286.8333333333333, 287.8, 378.4333333333333, 356.4, 525.9333333333333, 378.73333333333335, 344.36666666666673, 310.23333333333335, 278.73333333333335, 283.8333333333333, 262.93333333333334, 378.4333333333333, 303.6666666666667, 519.1333333333333, 441.73333333333335, 374.8, 281.26666666666665, 338.9, 270.3, 261.2, 223.2333333333333, 411.9333333333333, 244.2333333333333, 287.26666666666665, 242.1, 214.1, 261.3, 202.9, 223.83333333333331, 170.63333333333333, 153.83333333333334, 156.7, 181.63333333333333, 195.7, 205.13333333333333, 170.93333333333334, 283.23333333333335, 212.96666666666667, 220.8, 236.86666666666667, 211.3, 265.46666666666664, 279.1, 264.5, 290.43333333333334, 262.06666666666666, 297.4, 292.7, 248.9333333333333, 266.53333333333336, 203.8, 186.8]}, {\"boxmean\": true, \"line\": {\"color\": \"royalblue\", \"width\": 1.5}, \"marker\": {\"color\": \"royalblue\"}, \"name\": \"Dec\", \"type\": \"box\", \"y\": [275.67741935483866, 332.96774193548384, 426.64516129032256, 361.5806451612903, 351.64516129032256, 447.6129032258065, 355.35483870967744, 571.3225806451613, 343.45161290322585, 400.51612903225805, 471.741935483871, 349.5806451612903, 346.70967741935476, 428.22580645161287, 448.9677419354838, 546.0322580645161, 407.1612903225807, 337.741935483871, 316.16129032258067, 386.1612903225807, 402.3225806451613, 393.4193548387097, 374.19354838709677, 399.90322580645164, 400.51612903225805, 317.48387096774195, 373.38709677419365, 600.9677419354839, 429.38709677419365, 507.1290322580645, 474.6774193548387, 422.0645161290323, 541.6774193548387, 552.3225806451613, 678.8387096774194, 396.64516129032256, 393.0645161290323, 490.09677419354836, 741.9677419354839, 803.1290322580646, 466.9354838709677, 436.3225806451613, 372.0645161290323, 566.1290322580645, 554.0322580645161, 775.6129032258065, 550.0967741935483, 447.90322580645164, 387.1290322580645, 525.5483870967741, 510.8387096774193, 400.483870967742, 470.5483870967742, 529.1612903225806, 698.8709677419354, 709.7096774193549, 515.1935483870968, 373.90322580645164, 525.1935483870968, 391.9354838709677, 376.0, 305.80645161290323, 571.741935483871, 364.1290322580645, 406.9677419354838, 290.48387096774195, 319.258064516129, 434.8709677419355, 288.6129032258065, 312.9032258064516, 233.03225806451616, 233.25806451612902, 229.5161290322581, 297.22580645161287, 342.64516129032256, 309.2903225806452, 339.4193548387097, 420.0645161290323, 307.51612903225805, 342.6129032258065, 341.83870967741933, 336.6129032258065, 439.0322580645162, 501.1612903225807, 522.0645161290323, 466.8387096774193, 453.77419354838713, 504.35483870967744, 501.1612903225807, 544.5806451612904, 389.4193548387097, 302.96774193548384, 369.483870967742]}, {\"boxmean\": true, \"line\": {\"color\": \"royalblue\", \"width\": 1.5}, \"marker\": {\"color\": \"royalblue\"}, \"name\": \"Jan\", \"type\": \"box\", \"y\": [692.7741935483872, 495.1290322580645, 644.6129032258065, 605.9354838709677, 531.0, 588.0322580645161, 510.80645161290323, 818.1935483870967, 614.8387096774194, 648.9032258064517, 672.1935483870968, 535.483870967742, 607.1612903225806, 627.1612903225806, 713.258064516129, 829.741935483871, 709.7096774193549, 477.22580645161287, 471.5483870967742, 710.3225806451613, 557.3548387096773, 730.2258064516128, 584.8387096774194, 687.0322580645161, 445.5483870967742, 574.9677419354839, 588.516129032258, 1656.451612903226, 609.0645161290323, 779.0967741935484, 918.2903225806452, 651.6451612903227, 642.0645161290323, 1646.225806451613, 857.483870967742, 588.4193548387096, 595.6129032258065, 876.741935483871, 1688.1935483870968, 1002.258064516129, 690.0, 620.6129032258065, 544.0645161290323, 1700.0645161290322, 790.1935483870967, 1226.225806451613, 850.483870967742, 718.7741935483872, 526.9677419354839, 909.0967741935484, 911.6774193548387, 602.4193548387096, 691.5483870967741, 983.3548387096774, 939.3548387096774, 1379.7096774193549, 744.0967741935484, 484.51612903225805, 701.9354838709677, 540.1290322580645, 554.2903225806451, 421.5806451612903, 718.7741935483872, 455.77419354838713, 590.9032258064517, 501.258064516129, 511.741935483871, 538.3225806451613, 409.6774193548387, 519.9677419354839, 329.93548387096774, 369.4193548387097, 410.1290322580645, 565.258064516129, 570.6774193548387, 457.64516129032256, 605.0322580645161, 548.0322580645161, 551.483870967742, 600.1612903225806, 528.3548387096773, 601.516129032258, 811.9354838709677, 1204.4193548387098, 895.4516129032259, 788.0645161290323, 1273.548387096774, 838.8387096774194, 1223.967741935484, 804.741935483871, 601.6774193548387, 491.1612903225807, 851.516129032258]}, {\"boxmean\": true, \"line\": {\"color\": \"royalblue\", \"width\": 1.5}, \"marker\": {\"color\": \"royalblue\"}, \"name\": \"Feb\", \"type\": \"box\", \"y\": [1193.75, 733.0714285714287, 1220.9642857142858, 829.1034482758621, 698.3928571428571, 717.7857142857142, 666.8571428571429, 1082.9310344827586, 797.7142857142858, 916.4642857142856, 1121.642857142857, 809.2758620689655, 1839.892857142857, 876.7857142857142, 1184.5357142857142, 1111.5862068965516, 1219.857142857143, 667.0357142857142, 614.4642857142858, 1335.8965517241381, 907.5, 971.0, 822.8571428571429, 1471.2413793103449, 520.8214285714286, 2308.142857142857, 916.2857142857144, 3599.2758620689656, 964.2142857142856, 1048.7857142857142, 1997.892857142857, 1106.5517241379312, 937.8928571428572, 8630.107142857143, 1025.142857142857, 811.4827586206897, 890.3928571428571, 1967.7142857142856, 4062.321428571429, 1329.8620689655172, 1052.7142857142858, 991.8571428571428, 783.8571428571429, 4719.379310344828, 1755.25, 2996.8214285714284, 1385.392857142857, 829.7586206896551, 703.8214285714287, 1768.892857142857, 2641.8214285714284, 877.8965517241379, 1043.75, 1475.2142857142858, 1466.392857142857, 2260.3793103448274, 1071.357142857143, 631.7142857142858, 842.5357142857142, 737.9655172413792, 798.8214285714287, 621.0714285714286, 888.6428571428571, 817.7241379310345, 1298.3214285714287, 703.1428571428571, 938.75, 659.5517241379309, 734.6785714285713, 840.4285714285713, 458.57142857142856, 451.7241379310345, 694.25, 1152.9642857142858, 987.5, 690.6896551724138, 1135.5714285714287, 709.4642857142858, 887.5714285714287, 1061.5517241379312, 806.3571428571429, 971.5, 3307.785714285714, 2523.1379310344832, 1607.5, 1646.0, 2841.964285714286, 1581.3793103448277, 3129.857142857143, 1419.607142857143, 863.5, 847.4137931034481, 1237.25]}, {\"boxmean\": true, \"line\": {\"color\": \"royalblue\", \"width\": 1.5}, \"marker\": {\"color\": \"royalblue\"}, \"name\": \"Mar\", \"type\": \"box\", \"y\": [1926.4193548387095, 2626.3548387096776, 1787.451612903226, 1844.161290322581, 925.741935483871, 909.5806451612905, 1091.032258064516, 2941.2903225806454, 1155.9032258064515, 3647.4838709677415, 2650.2903225806454, 1382.516129032258, 3127.322580645161, 1249.258064516129, 2628.4193548387093, 3101.1612903225805, 2294.6451612903224, 974.741935483871, 952.483870967742, 2103.6774193548385, 2555.0967741935488, 1110.967741935484, 2081.0, 5741.741935483871, 703.4516129032259, 4350.645161290323, 3566.1290322580644, 5569.967741935483, 4101.83870967742, 2090.870967741936, 2971.677419354838, 3883.322580645162, 7260.548387096775, 7995.387096774193, 2694.4193548387093, 2441.3548387096776, 2621.8387096774195, 4357.419354838709, 6540.258064516129, 2236.2580645161293, 2318.322580645161, 2806.1290322580644, 1145.8387096774193, 4205.129032258064, 6893.096774193548, 4635.903225806452, 2781.1290322580644, 989.9354838709676, 894.9677419354839, 2613.903225806452, 4019.2903225806454, 3622.064516129032, 2081.4193548387093, 3519.4193548387098, 2786.3870967741937, 2590.935483870968, 2109.0967741935488, 811.7741935483872, 1040.451612903226, 1313.0645161290322, 1044.0, 896.7741935483872, 1500.2903225806451, 1109.6774193548388, 3122.677419354838, 853.9354838709677, 2139.387096774193, 845.3870967741935, 1185.516129032258, 1511.6129032258066, 730.8387096774194, 588.1612903225806, 890.9032258064516, 2611.516129032258, 2292.1290322580644, 1247.5806451612902, 2909.3870967741937, 1241.774193548387, 1523.2580645161293, 3066.7741935483873, 1184.741935483871, 1610.967741935484, 3978.096774193548, 2939.6129032258063, 4706.903225806452, 4335.935483870968, 3835.4193548387098, 2339.7096774193546, 3378.8064516129034, 2362.6451612903224, 1149.1290322580646, 2420.935483870968, 2422.193548387097]}, {\"boxmean\": true, \"line\": {\"color\": \"royalblue\", \"width\": 1.5}, \"marker\": {\"color\": \"royalblue\"}, \"name\": \"Apr\", \"type\": \"box\", \"y\": [3198.566666666666, 3961.366666666667, 2844.333333333333, 2199.0, 1386.8666666666666, 1083.9, 2881.866666666667, 2978.9, 1467.2, 3964.233333333333, 2322.1, 2367.5, 2959.633333333333, 2753.2, 2211.4, 4457.533333333334, 2759.6, 1833.166666666667, 1630.5666666666666, 2436.733333333333, 3187.666666666666, 1378.0, 4281.9, 5018.0, 862.2333333333332, 3698.066666666666, 3025.0333333333333, 3427.166666666666, 4584.266666666666, 3464.166666666666, 3314.4, 4063.7, 3648.0, 4178.9, 3163.766666666667, 4072.1, 5657.0666666666675, 5234.833333333333, 5356.666666666667, 2274.8, 2552.433333333333, 4140.433333333333, 2745.1, 4707.866666666667, 7422.7, 3484.233333333333, 2570.3, 1573.6, 1145.4, 2300.7, 4807.266666666666, 4745.8, 2609.866666666667, 6021.133333333332, 4659.033333333334, 2941.3, 3166.6, 1277.9666666666667, 1084.1, 1677.9333333333334, 1648.1, 2171.0666666666666, 1925.3, 2057.5333333333333, 3321.266666666667, 900.3, 1889.966666666667, 838.0, 2885.8, 1541.466666666667, 1174.8, 758.7666666666668, 1253.3, 3313.4, 2972.633333333333, 3047.8, 3284.9666666666667, 1785.1, 2915.3, 3990.6, 1239.8666666666666, 2587.1, 3291.133333333333, 3033.4666666666667, 4503.9, 4639.466666666666, 4196.333333333333, 3195.5333333333333, 3030.166666666666, 3451.0333333333333, 1333.2, 2933.2, 3418.366666666667]}, {\"boxmean\": true, \"line\": {\"color\": \"royalblue\", \"width\": 1.5}, \"marker\": {\"color\": \"royalblue\"}, \"name\": \"May\", \"type\": \"box\", \"y\": [2213.935483870968, 2508.193548387097, 2287.387096774193, 1970.5806451612905, 1128.8709677419354, 1805.935483870968, 2674.322580645161, 1713.2580645161293, 957.2258064516127, 2323.7741935483873, 1685.032258064516, 2014.6774193548388, 2363.0, 1659.0645161290322, 1294.967741935484, 2675.2903225806454, 1678.1290322580646, 1558.2580645161293, 1604.8064516129032, 1949.0967741935485, 1958.032258064516, 1438.9354838709678, 3125.2580645161293, 3176.5161290322585, 709.9354838709677, 2564.0967741935488, 2565.903225806452, 1736.0645161290322, 3191.8064516129034, 2306.483870967742, 2351.0, 5181.83870967742, 2039.548387096774, 2192.322580645161, 1886.967741935484, 2236.2903225806454, 3373.451612903226, 3461.225806451613, 3024.0, 1689.3225806451612, 1803.225806451613, 2306.903225806452, 2443.0967741935488, 2634.4193548387093, 3738.806451612904, 1987.8064516129032, 1688.2580645161293, 1699.032258064516, 1110.516129032258, 2288.8064516129034, 2846.2903225806454, 3830.2903225806454, 2665.0967741935488, 4600.258064516129, 3071.0967741935488, 2278.1290322580644, 2733.8064516129034, 1132.3870967741937, 968.258064516129, 1224.548387096774, 1781.967741935484, 2029.290322580645, 1427.0, 1872.483870967742, 3312.3870967741937, 984.032258064516, 1478.483870967742, 756.8064516129033, 2473.0, 741.3870967741935, 757.5483870967741, 685.8709677419355, 1315.0, 2518.0, 2725.451612903226, 2132.903225806452, 3005.2903225806454, 1934.225806451613, 3122.193548387097, 3163.2580645161293, 1269.774193548387, 2370.483870967742, 2503.4193548387093, 2374.8064516129034, 2604.967741935484, 3824.548387096774, 3545.709677419354, 2800.3870967741937, 2273.193548387097, 3225.0, 1414.1935483870968, 2458.935483870968, 2195.3548387096776]}, {\"boxmean\": true, \"line\": {\"color\": \"royalblue\", \"width\": 1.5}, \"marker\": {\"color\": \"royalblue\"}, \"name\": \"Jun\", \"type\": \"box\", \"y\": [1178.3666666666666, 1195.5333333333333, 1257.7, 988.7333333333332, 453.03333333333336, 1358.2, 1372.3, 964.4333333333333, 465.83333333333326, 1178.0666666666666, 934.1666666666665, 855.5, 1414.0, 844.9, 633.4333333333333, 1435.6333333333334, 814.9666666666667, 646.7666666666668, 992.2666666666668, 889.7333333333332, 922.7, 820.7666666666668, 1609.2333333333331, 1756.3666666666666, 410.23333333333335, 1209.1333333333334, 1637.533333333333, 837.8333333333335, 1759.1333333333334, 1203.8666666666666, 1491.166666666667, 2822.0, 1075.0666666666666, 1108.3, 1003.9666666666667, 1287.3, 1823.8666666666666, 1877.833333333333, 1532.166666666667, 834.0, 926.1666666666665, 1258.5666666666666, 1582.033333333333, 1426.7, 1862.966666666667, 1056.5333333333333, 1038.6333333333334, 1154.3, 631.5, 1301.5333333333333, 1467.2666666666669, 2140.233333333333, 1634.5666666666666, 2476.4, 1526.7, 1277.4666666666667, 1366.5666666666666, 729.7333333333332, 555.4333333333333, 586.7666666666668, 1018.1, 1040.1666666666667, 763.3666666666667, 1041.3333333333333, 1833.5666666666666, 747.5333333333333, 687.8666666666667, 446.5, 1166.3666666666666, 359.9333333333333, 326.73333333333335, 345.13333333333327, 734.4333333333333, 1192.7333333333333, 1314.2666666666667, 1062.7666666666667, 1623.666666666667, 1271.1333333333334, 1757.1333333333334, 1775.4333333333334, 812.9666666666667, 1497.6, 1404.6, 1336.9666666666667, 1450.4333333333334, 2130.6666666666665, 1905.2, 1426.5666666666666, 1003.7333333333332, 2076.133333333333, 1045.2333333333333, 1241.4333333333334, 1118.8333333333333]}, {\"boxmean\": true, \"line\": {\"color\": \"royalblue\", \"width\": 1.5}, \"marker\": {\"color\": \"royalblue\"}, \"name\": \"Jul\", \"type\": \"box\", \"y\": [520.6451612903227, 549.7096774193549, 511.0322580645162, 425.741935483871, 329.741935483871, 623.6129032258065, 615.9354838709677, 512.0322580645161, 331.1935483870968, 519.1935483870968, 488.22580645161287, 428.35483870967744, 630.2903225806451, 436.19354838709677, 396.3225806451613, 690.2903225806451, 449.5483870967742, 373.51612903225805, 465.4193548387097, 426.483870967742, 469.3225806451613, 399.741935483871, 762.741935483871, 852.8709677419354, 323.77419354838713, 551.3548387096773, 782.0322580645161, 484.6774193548387, 812.8064516129033, 586.1612903225806, 729.1612903225806, 1321.516129032258, 591.741935483871, 656.8387096774194, 520.9354838709677, 643.3225806451613, 944.4193548387095, 949.483870967742, 831.6774193548387, 505.4516129032258, 513.741935483871, 633.9354838709677, 769.1935483870967, 781.4193548387095, 1015.483870967742, 619.516129032258, 589.483870967742, 582.8709677419355, 403.5483870967742, 551.6451612903227, 735.3548387096774, 1034.3548387096773, 781.2258064516128, 1217.967741935484, 787.9677419354839, 652.8387096774194, 648.258064516129, 450.70967741935476, 391.80645161290323, 363.0, 469.22580645161287, 469.51612903225805, 438.4516129032258, 487.5806451612903, 799.9677419354839, 405.8387096774193, 369.35483870967744, 322.45161290322585, 458.51612903225805, 277.741935483871, 243.7741935483871, 254.38709677419357, 347.3870967741936, 513.9354838709677, 508.29032258064524, 448.22580645161287, 687.8387096774194, 543.1290322580645, 729.2258064516128, 718.516129032258, 424.5806451612903, 592.0, 680.1935483870968, 573.0967741935483, 642.3225806451613, 1011.6451612903226, 875.1290322580646, 602.5483870967741, 499.22580645161287, 961.2903225806452, 497.6774193548387, 500.483870967742, 482.70967741935476]}, {\"boxmean\": true, \"line\": {\"color\": \"royalblue\", \"width\": 1.5}, \"marker\": {\"color\": \"royalblue\"}, \"name\": \"Aug\", \"type\": \"box\", \"y\": [276.64516129032256, 334.5806451612903, 311.64516129032256, 284.22580645161287, 265.54838709677415, 399.19354838709677, 397.6774193548387, 370.19354838709677, 247.32258064516128, 357.8387096774193, 351.35483870967744, 306.4193548387097, 408.3225806451613, 326.77419354838713, 313.83870967741933, 431.0645161290323, 319.54838709677415, 281.1290322580645, 325.0967741935484, 297.54838709677415, 334.96774193548384, 289.3870967741936, 448.8387096774193, 477.0, 262.7096774193548, 368.38709677419365, 458.9677419354838, 364.64516129032256, 470.0322580645162, 406.1290322580645, 449.5483870967742, 659.4516129032259, 418.9354838709677, 509.5483870967742, 381.29032258064524, 409.35483870967744, 522.1935483870968, 555.7096774193549, 544.3870967741935, 404.29032258064524, 390.4193548387097, 436.5806451612903, 441.80645161290323, 516.4516129032259, 637.9354838709677, 470.80645161290323, 436.483870967742, 415.4193548387097, 316.741935483871, 381.6129032258065, 472.0, 541.2258064516128, 492.483870967742, 676.483870967742, 521.0, 466.29032258064524, 450.80645161290323, 350.9677419354838, 315.0, 283.7096774193548, 334.22580645161287, 339.2903225806452, 339.64516129032256, 343.4193548387097, 428.29032258064524, 306.9032258064516, 283.258064516129, 253.4838709677419, 299.67741935483866, 226.83870967741936, 198.93548387096772, 204.0, 242.09677419354838, 353.1612903225807, 334.64516129032256, 299.06451612903226, 397.29032258064524, 343.9677419354838, 401.0322580645162, 402.8387096774193, 305.7096774193548, 349.4193548387097, 431.4193548387097, 373.0645161290323, 398.90322580645164, 532.4193548387096, 500.0322580645162, 403.64516129032256, 354.6774193548387, 483.6129032258065, 332.83870967741933, 331.83870967741933, 318.1290322580645]}, {\"boxmean\": true, \"line\": {\"color\": \"royalblue\", \"width\": 1.5}, \"marker\": {\"color\": \"royalblue\"}, \"name\": \"Sep\", \"type\": \"box\", \"y\": [202.36666666666667, 234.76666666666668, 217.86666666666667, 242.3, 214.36666666666667, 289.5, 292.4, 284.0, 198.7, 265.46666666666664, 276.1666666666667, 236.06666666666663, 297.1666666666667, 260.6666666666667, 253.5, 298.6666666666667, 259.7, 213.66666666666663, 240.9, 220.8, 247.9333333333333, 218.56666666666663, 327.43333333333334, 336.0, 213.6, 259.96666666666664, 325.6666666666667, 285.2, 331.8333333333333, 301.2, 332.43333333333334, 427.4333333333333, 320.6, 408.73333333333335, 283.3666666666667, 295.2, 367.4666666666666, 410.8, 421.16666666666674, 326.03333333333336, 315.8666666666667, 346.76666666666665, 326.93333333333334, 397.63333333333327, 469.06666666666666, 374.9, 353.2, 325.26666666666665, 248.96666666666667, 298.96666666666664, 335.73333333333335, 403.0, 373.63333333333327, 490.5, 401.16666666666674, 360.86666666666673, 345.7, 281.26666666666665, 250.36666666666667, 230.2333333333333, 252.9333333333333, 268.23333333333335, 264.73333333333335, 272.76666666666665, 312.3333333333333, 232.36666666666667, 221.4333333333333, 197.96666666666667, 219.96666666666667, 181.5, 152.73333333333332, 157.73333333333332, 194.2333333333333, 248.5, 232.63333333333333, 223.33333333333331, 287.8333333333333, 251.9333333333333, 271.7, 277.8666666666667, 230.5, 246.63333333333333, 315.23333333333335, 274.1333333333333, 282.2, 354.6, 354.7, 291.8666666666667, 264.6333333333333, 330.96666666666664, 239.96666666666667, 241.5, 223.9333333333333]}],\n",
       "                        {\"autosize\": false, \"height\": 600, \"plot_bgcolor\": \"white\", \"showlegend\": false, \"template\": {\"data\": {\"bar\": [{\"error_x\": {\"color\": \"#2a3f5f\"}, \"error_y\": {\"color\": \"#2a3f5f\"}, \"marker\": {\"line\": {\"color\": \"#E5ECF6\", \"width\": 0.5}}, \"type\": \"bar\"}], \"barpolar\": [{\"marker\": {\"line\": {\"color\": \"#E5ECF6\", \"width\": 0.5}}, \"type\": \"barpolar\"}], \"carpet\": [{\"aaxis\": {\"endlinecolor\": \"#2a3f5f\", \"gridcolor\": \"white\", \"linecolor\": \"white\", \"minorgridcolor\": \"white\", \"startlinecolor\": \"#2a3f5f\"}, \"baxis\": {\"endlinecolor\": \"#2a3f5f\", \"gridcolor\": \"white\", \"linecolor\": \"white\", \"minorgridcolor\": \"white\", \"startlinecolor\": \"#2a3f5f\"}, \"type\": \"carpet\"}], \"choropleth\": [{\"colorbar\": {\"outlinewidth\": 0, \"ticks\": \"\"}, \"type\": \"choropleth\"}], \"contour\": [{\"colorbar\": {\"outlinewidth\": 0, \"ticks\": \"\"}, \"colorscale\": [[0.0, \"#0d0887\"], [0.1111111111111111, \"#46039f\"], [0.2222222222222222, \"#7201a8\"], [0.3333333333333333, \"#9c179e\"], [0.4444444444444444, \"#bd3786\"], [0.5555555555555556, \"#d8576b\"], [0.6666666666666666, \"#ed7953\"], [0.7777777777777778, \"#fb9f3a\"], [0.8888888888888888, \"#fdca26\"], [1.0, \"#f0f921\"]], \"type\": \"contour\"}], \"contourcarpet\": [{\"colorbar\": {\"outlinewidth\": 0, \"ticks\": \"\"}, \"type\": \"contourcarpet\"}], \"heatmap\": [{\"colorbar\": {\"outlinewidth\": 0, \"ticks\": \"\"}, \"colorscale\": [[0.0, \"#0d0887\"], [0.1111111111111111, \"#46039f\"], [0.2222222222222222, \"#7201a8\"], [0.3333333333333333, \"#9c179e\"], [0.4444444444444444, \"#bd3786\"], [0.5555555555555556, \"#d8576b\"], [0.6666666666666666, \"#ed7953\"], [0.7777777777777778, \"#fb9f3a\"], [0.8888888888888888, \"#fdca26\"], [1.0, \"#f0f921\"]], \"type\": \"heatmap\"}], \"heatmapgl\": [{\"colorbar\": {\"outlinewidth\": 0, \"ticks\": \"\"}, \"colorscale\": [[0.0, \"#0d0887\"], [0.1111111111111111, \"#46039f\"], [0.2222222222222222, \"#7201a8\"], [0.3333333333333333, \"#9c179e\"], [0.4444444444444444, \"#bd3786\"], [0.5555555555555556, \"#d8576b\"], [0.6666666666666666, \"#ed7953\"], [0.7777777777777778, \"#fb9f3a\"], [0.8888888888888888, \"#fdca26\"], [1.0, \"#f0f921\"]], \"type\": \"heatmapgl\"}], \"histogram\": [{\"marker\": {\"colorbar\": {\"outlinewidth\": 0, \"ticks\": \"\"}}, \"type\": \"histogram\"}], \"histogram2d\": [{\"colorbar\": {\"outlinewidth\": 0, \"ticks\": \"\"}, \"colorscale\": [[0.0, \"#0d0887\"], [0.1111111111111111, \"#46039f\"], [0.2222222222222222, \"#7201a8\"], [0.3333333333333333, \"#9c179e\"], [0.4444444444444444, \"#bd3786\"], [0.5555555555555556, \"#d8576b\"], [0.6666666666666666, \"#ed7953\"], [0.7777777777777778, \"#fb9f3a\"], [0.8888888888888888, \"#fdca26\"], [1.0, \"#f0f921\"]], \"type\": \"histogram2d\"}], \"histogram2dcontour\": [{\"colorbar\": {\"outlinewidth\": 0, \"ticks\": \"\"}, \"colorscale\": [[0.0, \"#0d0887\"], [0.1111111111111111, \"#46039f\"], [0.2222222222222222, \"#7201a8\"], [0.3333333333333333, \"#9c179e\"], [0.4444444444444444, \"#bd3786\"], [0.5555555555555556, \"#d8576b\"], [0.6666666666666666, \"#ed7953\"], [0.7777777777777778, \"#fb9f3a\"], [0.8888888888888888, \"#fdca26\"], [1.0, \"#f0f921\"]], \"type\": \"histogram2dcontour\"}], \"mesh3d\": [{\"colorbar\": {\"outlinewidth\": 0, \"ticks\": \"\"}, \"type\": \"mesh3d\"}], \"parcoords\": [{\"line\": {\"colorbar\": {\"outlinewidth\": 0, \"ticks\": \"\"}}, \"type\": \"parcoords\"}], \"pie\": [{\"automargin\": true, \"type\": \"pie\"}], \"scatter\": [{\"marker\": {\"colorbar\": {\"outlinewidth\": 0, \"ticks\": \"\"}}, \"type\": \"scatter\"}], \"scatter3d\": [{\"line\": {\"colorbar\": {\"outlinewidth\": 0, \"ticks\": \"\"}}, \"marker\": {\"colorbar\": {\"outlinewidth\": 0, \"ticks\": \"\"}}, \"type\": \"scatter3d\"}], \"scattercarpet\": [{\"marker\": {\"colorbar\": {\"outlinewidth\": 0, \"ticks\": \"\"}}, \"type\": \"scattercarpet\"}], \"scattergeo\": [{\"marker\": {\"colorbar\": {\"outlinewidth\": 0, \"ticks\": \"\"}}, \"type\": \"scattergeo\"}], \"scattergl\": [{\"marker\": {\"colorbar\": {\"outlinewidth\": 0, \"ticks\": \"\"}}, \"type\": \"scattergl\"}], \"scattermapbox\": [{\"marker\": {\"colorbar\": {\"outlinewidth\": 0, \"ticks\": \"\"}}, \"type\": \"scattermapbox\"}], \"scatterpolar\": [{\"marker\": {\"colorbar\": {\"outlinewidth\": 0, \"ticks\": \"\"}}, \"type\": \"scatterpolar\"}], \"scatterpolargl\": [{\"marker\": {\"colorbar\": {\"outlinewidth\": 0, \"ticks\": \"\"}}, \"type\": \"scatterpolargl\"}], \"scatterternary\": [{\"marker\": {\"colorbar\": {\"outlinewidth\": 0, \"ticks\": \"\"}}, \"type\": \"scatterternary\"}], \"surface\": [{\"colorbar\": {\"outlinewidth\": 0, \"ticks\": \"\"}, \"colorscale\": [[0.0, \"#0d0887\"], [0.1111111111111111, \"#46039f\"], [0.2222222222222222, \"#7201a8\"], [0.3333333333333333, \"#9c179e\"], [0.4444444444444444, \"#bd3786\"], [0.5555555555555556, \"#d8576b\"], [0.6666666666666666, \"#ed7953\"], [0.7777777777777778, \"#fb9f3a\"], [0.8888888888888888, \"#fdca26\"], [1.0, \"#f0f921\"]], \"type\": \"surface\"}], \"table\": [{\"cells\": {\"fill\": {\"color\": \"#EBF0F8\"}, \"line\": {\"color\": \"white\"}}, \"header\": {\"fill\": {\"color\": \"#C8D4E3\"}, \"line\": {\"color\": \"white\"}}, \"type\": \"table\"}]}, \"layout\": {\"annotationdefaults\": {\"arrowcolor\": \"#2a3f5f\", \"arrowhead\": 0, \"arrowwidth\": 1}, \"coloraxis\": {\"colorbar\": {\"outlinewidth\": 0, \"ticks\": \"\"}}, \"colorscale\": {\"diverging\": [[0, \"#8e0152\"], [0.1, \"#c51b7d\"], [0.2, \"#de77ae\"], [0.3, \"#f1b6da\"], [0.4, \"#fde0ef\"], [0.5, \"#f7f7f7\"], [0.6, \"#e6f5d0\"], [0.7, \"#b8e186\"], [0.8, \"#7fbc41\"], [0.9, \"#4d9221\"], [1, \"#276419\"]], \"sequential\": [[0.0, \"#0d0887\"], [0.1111111111111111, \"#46039f\"], [0.2222222222222222, \"#7201a8\"], [0.3333333333333333, \"#9c179e\"], [0.4444444444444444, \"#bd3786\"], [0.5555555555555556, \"#d8576b\"], [0.6666666666666666, \"#ed7953\"], [0.7777777777777778, \"#fb9f3a\"], [0.8888888888888888, \"#fdca26\"], [1.0, \"#f0f921\"]], \"sequentialminus\": [[0.0, \"#0d0887\"], [0.1111111111111111, \"#46039f\"], [0.2222222222222222, \"#7201a8\"], [0.3333333333333333, \"#9c179e\"], [0.4444444444444444, \"#bd3786\"], [0.5555555555555556, \"#d8576b\"], [0.6666666666666666, \"#ed7953\"], [0.7777777777777778, \"#fb9f3a\"], [0.8888888888888888, \"#fdca26\"], [1.0, \"#f0f921\"]]}, \"colorway\": [\"#636efa\", \"#EF553B\", \"#00cc96\", \"#ab63fa\", \"#FFA15A\", \"#19d3f3\", \"#FF6692\", \"#B6E880\", \"#FF97FF\", \"#FECB52\"], \"font\": {\"color\": \"#2a3f5f\"}, \"geo\": {\"bgcolor\": \"white\", \"lakecolor\": \"white\", \"landcolor\": \"#E5ECF6\", \"showlakes\": true, \"showland\": true, \"subunitcolor\": \"white\"}, \"hoverlabel\": {\"align\": \"left\"}, \"hovermode\": \"closest\", \"mapbox\": {\"style\": \"light\"}, \"paper_bgcolor\": \"white\", \"plot_bgcolor\": \"#E5ECF6\", \"polar\": {\"angularaxis\": {\"gridcolor\": \"white\", \"linecolor\": \"white\", \"ticks\": \"\"}, \"bgcolor\": \"#E5ECF6\", \"radialaxis\": {\"gridcolor\": \"white\", \"linecolor\": \"white\", \"ticks\": \"\"}}, \"scene\": {\"xaxis\": {\"backgroundcolor\": \"#E5ECF6\", \"gridcolor\": \"white\", \"gridwidth\": 2, \"linecolor\": \"white\", \"showbackground\": true, \"ticks\": \"\", \"zerolinecolor\": \"white\"}, \"yaxis\": {\"backgroundcolor\": \"#E5ECF6\", \"gridcolor\": \"white\", \"gridwidth\": 2, \"linecolor\": \"white\", \"showbackground\": true, \"ticks\": \"\", \"zerolinecolor\": \"white\"}, \"zaxis\": {\"backgroundcolor\": \"#E5ECF6\", \"gridcolor\": \"white\", \"gridwidth\": 2, \"linecolor\": \"white\", \"showbackground\": true, \"ticks\": \"\", \"zerolinecolor\": \"white\"}}, \"shapedefaults\": {\"line\": {\"color\": \"#2a3f5f\"}}, \"ternary\": {\"aaxis\": {\"gridcolor\": \"white\", \"linecolor\": \"white\", \"ticks\": \"\"}, \"baxis\": {\"gridcolor\": \"white\", \"linecolor\": \"white\", \"ticks\": \"\"}, \"bgcolor\": \"#E5ECF6\", \"caxis\": {\"gridcolor\": \"white\", \"linecolor\": \"white\", \"ticks\": \"\"}}, \"title\": {\"x\": 0.05}, \"xaxis\": {\"automargin\": true, \"gridcolor\": \"white\", \"linecolor\": \"white\", \"ticks\": \"\", \"title\": {\"standoff\": 15}, \"zerolinecolor\": \"white\", \"zerolinewidth\": 2}, \"yaxis\": {\"automargin\": true, \"gridcolor\": \"white\", \"linecolor\": \"white\", \"ticks\": \"\", \"title\": {\"standoff\": 15}, \"zerolinecolor\": \"white\", \"zerolinewidth\": 2}}}, \"title\": {\"text\": \"Mean Monthly Flow\"}, \"width\": 900, \"xaxis\": {\"showgrid\": false, \"showline\": false}, \"yaxis\": {\"gridcolor\": \"rgb(204, 204, 204)\", \"separatethousands\": true, \"showgrid\": true, \"showline\": false}},\n",
       "                        {\"responsive\": true}\n",
       "                    ).then(function(){\n",
       "                            \n",
       "var gd = document.getElementById('f6737d0a-226e-4adf-8592-d991e58fee7d');\n",
       "var x = new MutationObserver(function (mutations, observer) {{\n",
       "        var display = window.getComputedStyle(gd).display;\n",
       "        if (!display || display === 'none') {{\n",
       "            console.log([gd, 'removed!']);\n",
       "            Plotly.purge(gd);\n",
       "            observer.disconnect();\n",
       "        }}\n",
       "}});\n",
       "\n",
       "// Listen for the removal of the full notebook cells\n",
       "var notebookContainer = gd.closest('#notebook-container');\n",
       "if (notebookContainer) {{\n",
       "    x.observe(notebookContainer, {childList: true});\n",
       "}}\n",
       "\n",
       "// Listen for the clearing of the current output cell\n",
       "var outputEl = gd.closest('.output');\n",
       "if (outputEl) {{\n",
       "    x.observe(outputEl, {childList: true});\n",
       "}}\n",
       "\n",
       "                        })\n",
       "                };\n",
       "                });\n",
       "            </script>\n",
       "        </div>"
      ]
     },
     "metadata": {},
     "output_type": "display_data"
    }
   ],
   "source": [
    "\n",
    "#fig = go.Figure(data=[go.Box(\n",
    "#    y=3.5 * np.sin(np.pi * i/N) + i/N + (1.5 + 0.5 * np.cos(np.pi*i/N)) * np.random.rand(10),\n",
    "#    marker_color=c[i]\n",
    "#    ) for i in range(int(N))])\n",
    "\n",
    "fig=go.Figure(data=[\n",
    "    go.Box(\n",
    "        y=mnth['Flow_mean'],\n",
    "        boxmean=True,\n",
    "        marker_color='royalblue',\n",
    "        line_color='royalblue',\n",
    "        line_width=1.5,\n",
    "        name=calmonthly.loc[mnth_no,'MonthName']\n",
    "    ) for mnth_no, mnth in monthly.groupby('WaterMonth')\n",
    "])\n",
    "\n",
    "# format the layout\n",
    "fig.update_layout(\n",
    "    xaxis=dict(\n",
    "        showgrid=False,\n",
    "        showline=False,\n",
    "    ),\n",
    "    yaxis=dict(\n",
    "        showline=False, showgrid=True,\n",
    "        separatethousands=True,\n",
    "        gridcolor='rgb(204, 204, 204)',\n",
    "    ),\n",
    "    width=900, height=600, autosize=False,\n",
    "    title_text='Mean Monthly Flow',\n",
    "    plot_bgcolor='white',\n",
    "    showlegend=False\n",
    ")\n",
    "\n",
    "fig.show(renderer=bookRenderer)"
   ]
  },
  {
   "cell_type": "markdown",
   "metadata": {},
   "source": [
    "# Annual Mean, Max and Min"
   ]
  },
  {
   "cell_type": "code",
   "execution_count": 29,
   "metadata": {
    "jupyter": {
     "source_hidden": true
    }
   },
   "outputs": [
    {
     "data": {
      "application/vnd.plotly.v1+json": {
       "config": {
        "plotlyServerURL": "https://plot.ly"
       },
       "data": [
        {
         "histnorm": "percent",
         "type": "histogram",
         "x": [
          3452,
          4501,
          3313,
          2261,
          1589,
          2188,
          3356,
          3803,
          1617,
          5589,
          3279,
          2497,
          3600,
          3228,
          2873,
          5260,
          3356,
          2188,
          1708,
          2543,
          3886,
          1589,
          4629,
          6170,
          905,
          5187,
          4402,
          6170,
          5886,
          3812,
          3803,
          5673,
          9154,
          9912,
          4432,
          4629,
          6081,
          5570,
          7115,
          2450,
          2743,
          5396,
          3452,
          5513,
          8540,
          4874,
          3139,
          1881,
          1208,
          2840,
          5415,
          5434,
          2831,
          6348,
          5326,
          3068,
          3452,
          1437,
          1117,
          1808,
          1953,
          3050,
          2077,
          2467,
          3812,
          1028,
          2294,
          905,
          3573,
          1839,
          1232,
          819,
          1400,
          3525,
          3421,
          3411,
          3677,
          2029,
          3846,
          4339,
          1337,
          2684,
          4543,
          3367,
          5796,
          5149,
          4356,
          3544,
          3615,
          3575,
          1460,
          2976,
          3890
         ],
         "xaxis": "x",
         "yaxis": "y"
        },
        {
         "histnorm": "percent",
         "type": "histogram",
         "x": [
          111,
          159,
          193,
          180,
          195,
          189,
          201,
          236,
          189,
          159,
          178,
          189,
          201,
          225,
          221,
          215,
          225,
          189,
          171,
          178,
          193,
          195,
          193,
          261,
          193,
          171,
          193,
          257,
          221,
          259,
          212,
          250,
          291,
          284,
          243,
          195,
          201,
          267,
          284,
          291,
          264,
          246,
          267,
          257,
          281,
          335,
          320,
          276,
          229,
          209,
          221,
          240,
          335,
          274,
          338,
          312,
          284,
          243,
          222,
          212,
          199,
          201,
          240,
          225,
          209,
          212,
          199,
          175,
          164,
          156,
          133,
          115,
          103,
          157,
          174,
          193,
          140,
          195,
          194,
          189,
          194,
          157,
          210,
          237,
          182,
          213,
          225,
          244,
          222,
          195,
          209,
          176,
          157
         ],
         "xaxis": "x2",
         "yaxis": "y2"
        },
        {
         "histnorm": "percent",
         "type": "histogram",
         "x": [
          992.0931506849316,
          1111.8739726027395,
          990.427397260274,
          848.0655737704918,
          564.4958904109589,
          720.2410958904111,
          942.6575342465753,
          1064.6830601092895,
          583.1068493150685,
          1217.813698630137,
          952.2931506849317,
          809.155737704918,
          1197.013698630137,
          828.5808219178082,
          879.3232876712327,
          1341.7349726775956,
          956.8164383561644,
          649.5369863013699,
          669.4109589041096,
          927.8579234972676,
          996.6986301369864,
          680.7534246575343,
          1234.517808219178,
          1705.7185792349726,
          457.2575342465754,
          1373.8027397260273,
          1224.2739726027396,
          1592.133879781421,
          1485.964383561644,
          1102.8328767123287,
          1286.4602739726026,
          1760.9617486338798,
          1521.6821917808222,
          2333.9589041095887,
          1103.8986301369864,
          1133.9562841530055,
          1473.6246575342466,
          1728.5589041095889,
          2103.2520547945205,
          1018.2595628415302,
          968.1506849315068,
          1209.6767123287668,
          975.5232876712328,
          1845.0956284153006,
          2149.227397260274,
          1539.4547945205481,
          1076.4602739726026,
          780.1202185792349,
          579.386301369863,
          1116.5369863013698,
          1595.6465753424654,
          1560.674863387978,
          1132.978082191781,
          1882.104109589041,
          1479.745205479452,
          1303.5765027322404,
          1151.331506849315,
          588.6164383561644,
          605.5561643835616,
          652.8224043715848,
          727.8438356164385,
          748.9479452054794,
          793.3150684931506,
          773.6147540983608,
          1327.6410958904112,
          534.8438356164384,
          771.0164383561644,
          479.1284153005465,
          873.2493150684932,
          574.9808219178083,
          410.2082191780822,
          359.896174863388,
          547.1671232876712,
          1091.013698630137,
          1055.2410958904109,
          857.983606557377,
          1216.7698630136983,
          794.7780821917809,
          1072.9205479452057,
          1317.568306010929,
          631.6767123287673,
          960.117808219178,
          1457.109589041096,
          1300.2349726775956,
          1504.1178082191782,
          1685.4493150684934,
          1681.8739726027395,
          1210.0874316939892,
          1336.6191780821919,
          1340.5260273972603,
          697.1917808219179,
          1013.4071038251366,
          1081.3643835616438
         ],
         "xaxis": "x3",
         "yaxis": "y3"
        }
       ],
       "layout": {
        "annotations": [
         {
          "font": {
           "size": 16
          },
          "showarrow": false,
          "text": "Maximum Flow",
          "x": 0.225,
          "xanchor": "center",
          "xref": "paper",
          "y": 1,
          "yanchor": "bottom",
          "yref": "paper"
         },
         {
          "font": {
           "size": 16
          },
          "showarrow": false,
          "text": "Minimum Flow",
          "x": 0.775,
          "xanchor": "center",
          "xref": "paper",
          "y": 1,
          "yanchor": "bottom",
          "yref": "paper"
         },
         {
          "font": {
           "size": 16
          },
          "showarrow": false,
          "text": "Mean Flow",
          "x": 0.225,
          "xanchor": "center",
          "xref": "paper",
          "y": 0.375,
          "yanchor": "bottom",
          "yref": "paper"
         }
        ],
        "autosize": false,
        "height": 600,
        "plot_bgcolor": "white",
        "showlegend": false,
        "template": {
         "data": {
          "bar": [
           {
            "error_x": {
             "color": "#2a3f5f"
            },
            "error_y": {
             "color": "#2a3f5f"
            },
            "marker": {
             "line": {
              "color": "#E5ECF6",
              "width": 0.5
             }
            },
            "type": "bar"
           }
          ],
          "barpolar": [
           {
            "marker": {
             "line": {
              "color": "#E5ECF6",
              "width": 0.5
             }
            },
            "type": "barpolar"
           }
          ],
          "carpet": [
           {
            "aaxis": {
             "endlinecolor": "#2a3f5f",
             "gridcolor": "white",
             "linecolor": "white",
             "minorgridcolor": "white",
             "startlinecolor": "#2a3f5f"
            },
            "baxis": {
             "endlinecolor": "#2a3f5f",
             "gridcolor": "white",
             "linecolor": "white",
             "minorgridcolor": "white",
             "startlinecolor": "#2a3f5f"
            },
            "type": "carpet"
           }
          ],
          "choropleth": [
           {
            "colorbar": {
             "outlinewidth": 0,
             "ticks": ""
            },
            "type": "choropleth"
           }
          ],
          "contour": [
           {
            "colorbar": {
             "outlinewidth": 0,
             "ticks": ""
            },
            "colorscale": [
             [
              0,
              "#0d0887"
             ],
             [
              0.1111111111111111,
              "#46039f"
             ],
             [
              0.2222222222222222,
              "#7201a8"
             ],
             [
              0.3333333333333333,
              "#9c179e"
             ],
             [
              0.4444444444444444,
              "#bd3786"
             ],
             [
              0.5555555555555556,
              "#d8576b"
             ],
             [
              0.6666666666666666,
              "#ed7953"
             ],
             [
              0.7777777777777778,
              "#fb9f3a"
             ],
             [
              0.8888888888888888,
              "#fdca26"
             ],
             [
              1,
              "#f0f921"
             ]
            ],
            "type": "contour"
           }
          ],
          "contourcarpet": [
           {
            "colorbar": {
             "outlinewidth": 0,
             "ticks": ""
            },
            "type": "contourcarpet"
           }
          ],
          "heatmap": [
           {
            "colorbar": {
             "outlinewidth": 0,
             "ticks": ""
            },
            "colorscale": [
             [
              0,
              "#0d0887"
             ],
             [
              0.1111111111111111,
              "#46039f"
             ],
             [
              0.2222222222222222,
              "#7201a8"
             ],
             [
              0.3333333333333333,
              "#9c179e"
             ],
             [
              0.4444444444444444,
              "#bd3786"
             ],
             [
              0.5555555555555556,
              "#d8576b"
             ],
             [
              0.6666666666666666,
              "#ed7953"
             ],
             [
              0.7777777777777778,
              "#fb9f3a"
             ],
             [
              0.8888888888888888,
              "#fdca26"
             ],
             [
              1,
              "#f0f921"
             ]
            ],
            "type": "heatmap"
           }
          ],
          "heatmapgl": [
           {
            "colorbar": {
             "outlinewidth": 0,
             "ticks": ""
            },
            "colorscale": [
             [
              0,
              "#0d0887"
             ],
             [
              0.1111111111111111,
              "#46039f"
             ],
             [
              0.2222222222222222,
              "#7201a8"
             ],
             [
              0.3333333333333333,
              "#9c179e"
             ],
             [
              0.4444444444444444,
              "#bd3786"
             ],
             [
              0.5555555555555556,
              "#d8576b"
             ],
             [
              0.6666666666666666,
              "#ed7953"
             ],
             [
              0.7777777777777778,
              "#fb9f3a"
             ],
             [
              0.8888888888888888,
              "#fdca26"
             ],
             [
              1,
              "#f0f921"
             ]
            ],
            "type": "heatmapgl"
           }
          ],
          "histogram": [
           {
            "marker": {
             "colorbar": {
              "outlinewidth": 0,
              "ticks": ""
             }
            },
            "type": "histogram"
           }
          ],
          "histogram2d": [
           {
            "colorbar": {
             "outlinewidth": 0,
             "ticks": ""
            },
            "colorscale": [
             [
              0,
              "#0d0887"
             ],
             [
              0.1111111111111111,
              "#46039f"
             ],
             [
              0.2222222222222222,
              "#7201a8"
             ],
             [
              0.3333333333333333,
              "#9c179e"
             ],
             [
              0.4444444444444444,
              "#bd3786"
             ],
             [
              0.5555555555555556,
              "#d8576b"
             ],
             [
              0.6666666666666666,
              "#ed7953"
             ],
             [
              0.7777777777777778,
              "#fb9f3a"
             ],
             [
              0.8888888888888888,
              "#fdca26"
             ],
             [
              1,
              "#f0f921"
             ]
            ],
            "type": "histogram2d"
           }
          ],
          "histogram2dcontour": [
           {
            "colorbar": {
             "outlinewidth": 0,
             "ticks": ""
            },
            "colorscale": [
             [
              0,
              "#0d0887"
             ],
             [
              0.1111111111111111,
              "#46039f"
             ],
             [
              0.2222222222222222,
              "#7201a8"
             ],
             [
              0.3333333333333333,
              "#9c179e"
             ],
             [
              0.4444444444444444,
              "#bd3786"
             ],
             [
              0.5555555555555556,
              "#d8576b"
             ],
             [
              0.6666666666666666,
              "#ed7953"
             ],
             [
              0.7777777777777778,
              "#fb9f3a"
             ],
             [
              0.8888888888888888,
              "#fdca26"
             ],
             [
              1,
              "#f0f921"
             ]
            ],
            "type": "histogram2dcontour"
           }
          ],
          "mesh3d": [
           {
            "colorbar": {
             "outlinewidth": 0,
             "ticks": ""
            },
            "type": "mesh3d"
           }
          ],
          "parcoords": [
           {
            "line": {
             "colorbar": {
              "outlinewidth": 0,
              "ticks": ""
             }
            },
            "type": "parcoords"
           }
          ],
          "pie": [
           {
            "automargin": true,
            "type": "pie"
           }
          ],
          "scatter": [
           {
            "marker": {
             "colorbar": {
              "outlinewidth": 0,
              "ticks": ""
             }
            },
            "type": "scatter"
           }
          ],
          "scatter3d": [
           {
            "line": {
             "colorbar": {
              "outlinewidth": 0,
              "ticks": ""
             }
            },
            "marker": {
             "colorbar": {
              "outlinewidth": 0,
              "ticks": ""
             }
            },
            "type": "scatter3d"
           }
          ],
          "scattercarpet": [
           {
            "marker": {
             "colorbar": {
              "outlinewidth": 0,
              "ticks": ""
             }
            },
            "type": "scattercarpet"
           }
          ],
          "scattergeo": [
           {
            "marker": {
             "colorbar": {
              "outlinewidth": 0,
              "ticks": ""
             }
            },
            "type": "scattergeo"
           }
          ],
          "scattergl": [
           {
            "marker": {
             "colorbar": {
              "outlinewidth": 0,
              "ticks": ""
             }
            },
            "type": "scattergl"
           }
          ],
          "scattermapbox": [
           {
            "marker": {
             "colorbar": {
              "outlinewidth": 0,
              "ticks": ""
             }
            },
            "type": "scattermapbox"
           }
          ],
          "scatterpolar": [
           {
            "marker": {
             "colorbar": {
              "outlinewidth": 0,
              "ticks": ""
             }
            },
            "type": "scatterpolar"
           }
          ],
          "scatterpolargl": [
           {
            "marker": {
             "colorbar": {
              "outlinewidth": 0,
              "ticks": ""
             }
            },
            "type": "scatterpolargl"
           }
          ],
          "scatterternary": [
           {
            "marker": {
             "colorbar": {
              "outlinewidth": 0,
              "ticks": ""
             }
            },
            "type": "scatterternary"
           }
          ],
          "surface": [
           {
            "colorbar": {
             "outlinewidth": 0,
             "ticks": ""
            },
            "colorscale": [
             [
              0,
              "#0d0887"
             ],
             [
              0.1111111111111111,
              "#46039f"
             ],
             [
              0.2222222222222222,
              "#7201a8"
             ],
             [
              0.3333333333333333,
              "#9c179e"
             ],
             [
              0.4444444444444444,
              "#bd3786"
             ],
             [
              0.5555555555555556,
              "#d8576b"
             ],
             [
              0.6666666666666666,
              "#ed7953"
             ],
             [
              0.7777777777777778,
              "#fb9f3a"
             ],
             [
              0.8888888888888888,
              "#fdca26"
             ],
             [
              1,
              "#f0f921"
             ]
            ],
            "type": "surface"
           }
          ],
          "table": [
           {
            "cells": {
             "fill": {
              "color": "#EBF0F8"
             },
             "line": {
              "color": "white"
             }
            },
            "header": {
             "fill": {
              "color": "#C8D4E3"
             },
             "line": {
              "color": "white"
             }
            },
            "type": "table"
           }
          ]
         },
         "layout": {
          "annotationdefaults": {
           "arrowcolor": "#2a3f5f",
           "arrowhead": 0,
           "arrowwidth": 1
          },
          "coloraxis": {
           "colorbar": {
            "outlinewidth": 0,
            "ticks": ""
           }
          },
          "colorscale": {
           "diverging": [
            [
             0,
             "#8e0152"
            ],
            [
             0.1,
             "#c51b7d"
            ],
            [
             0.2,
             "#de77ae"
            ],
            [
             0.3,
             "#f1b6da"
            ],
            [
             0.4,
             "#fde0ef"
            ],
            [
             0.5,
             "#f7f7f7"
            ],
            [
             0.6,
             "#e6f5d0"
            ],
            [
             0.7,
             "#b8e186"
            ],
            [
             0.8,
             "#7fbc41"
            ],
            [
             0.9,
             "#4d9221"
            ],
            [
             1,
             "#276419"
            ]
           ],
           "sequential": [
            [
             0,
             "#0d0887"
            ],
            [
             0.1111111111111111,
             "#46039f"
            ],
            [
             0.2222222222222222,
             "#7201a8"
            ],
            [
             0.3333333333333333,
             "#9c179e"
            ],
            [
             0.4444444444444444,
             "#bd3786"
            ],
            [
             0.5555555555555556,
             "#d8576b"
            ],
            [
             0.6666666666666666,
             "#ed7953"
            ],
            [
             0.7777777777777778,
             "#fb9f3a"
            ],
            [
             0.8888888888888888,
             "#fdca26"
            ],
            [
             1,
             "#f0f921"
            ]
           ],
           "sequentialminus": [
            [
             0,
             "#0d0887"
            ],
            [
             0.1111111111111111,
             "#46039f"
            ],
            [
             0.2222222222222222,
             "#7201a8"
            ],
            [
             0.3333333333333333,
             "#9c179e"
            ],
            [
             0.4444444444444444,
             "#bd3786"
            ],
            [
             0.5555555555555556,
             "#d8576b"
            ],
            [
             0.6666666666666666,
             "#ed7953"
            ],
            [
             0.7777777777777778,
             "#fb9f3a"
            ],
            [
             0.8888888888888888,
             "#fdca26"
            ],
            [
             1,
             "#f0f921"
            ]
           ]
          },
          "colorway": [
           "#636efa",
           "#EF553B",
           "#00cc96",
           "#ab63fa",
           "#FFA15A",
           "#19d3f3",
           "#FF6692",
           "#B6E880",
           "#FF97FF",
           "#FECB52"
          ],
          "font": {
           "color": "#2a3f5f"
          },
          "geo": {
           "bgcolor": "white",
           "lakecolor": "white",
           "landcolor": "#E5ECF6",
           "showlakes": true,
           "showland": true,
           "subunitcolor": "white"
          },
          "hoverlabel": {
           "align": "left"
          },
          "hovermode": "closest",
          "mapbox": {
           "style": "light"
          },
          "paper_bgcolor": "white",
          "plot_bgcolor": "#E5ECF6",
          "polar": {
           "angularaxis": {
            "gridcolor": "white",
            "linecolor": "white",
            "ticks": ""
           },
           "bgcolor": "#E5ECF6",
           "radialaxis": {
            "gridcolor": "white",
            "linecolor": "white",
            "ticks": ""
           }
          },
          "scene": {
           "xaxis": {
            "backgroundcolor": "#E5ECF6",
            "gridcolor": "white",
            "gridwidth": 2,
            "linecolor": "white",
            "showbackground": true,
            "ticks": "",
            "zerolinecolor": "white"
           },
           "yaxis": {
            "backgroundcolor": "#E5ECF6",
            "gridcolor": "white",
            "gridwidth": 2,
            "linecolor": "white",
            "showbackground": true,
            "ticks": "",
            "zerolinecolor": "white"
           },
           "zaxis": {
            "backgroundcolor": "#E5ECF6",
            "gridcolor": "white",
            "gridwidth": 2,
            "linecolor": "white",
            "showbackground": true,
            "ticks": "",
            "zerolinecolor": "white"
           }
          },
          "shapedefaults": {
           "line": {
            "color": "#2a3f5f"
           }
          },
          "ternary": {
           "aaxis": {
            "gridcolor": "white",
            "linecolor": "white",
            "ticks": ""
           },
           "baxis": {
            "gridcolor": "white",
            "linecolor": "white",
            "ticks": ""
           },
           "bgcolor": "#E5ECF6",
           "caxis": {
            "gridcolor": "white",
            "linecolor": "white",
            "ticks": ""
           }
          },
          "title": {
           "x": 0.05
          },
          "xaxis": {
           "automargin": true,
           "gridcolor": "white",
           "linecolor": "white",
           "ticks": "",
           "title": {
            "standoff": 15
           },
           "zerolinecolor": "white",
           "zerolinewidth": 2
          },
          "yaxis": {
           "automargin": true,
           "gridcolor": "white",
           "linecolor": "white",
           "ticks": "",
           "title": {
            "standoff": 15
           },
           "zerolinecolor": "white",
           "zerolinewidth": 2
          }
         }
        },
        "title": {
         "text": "Histograms of Annual Flow"
        },
        "width": 1000,
        "xaxis": {
         "anchor": "y",
         "autorange": true,
         "domain": [
          0,
          0.45
         ],
         "range": [
          -0.5,
          9999.5
         ],
         "showgrid": false,
         "showline": false,
         "title": {
          "text": "Flow m³/s"
         },
         "type": "linear"
        },
        "xaxis2": {
         "anchor": "y2",
         "autorange": true,
         "domain": [
          0.55,
          1
         ],
         "range": [
          99.5,
          339.5
         ],
         "type": "linear"
        },
        "xaxis3": {
         "anchor": "y3",
         "autorange": true,
         "domain": [
          0,
          0.45
         ],
         "range": [
          200,
          2400
         ],
         "type": "linear"
        },
        "xaxis4": {
         "anchor": "y4",
         "domain": [
          0.55,
          1
         ]
        },
        "yaxis": {
         "anchor": "x",
         "domain": [
          0.625,
          1
         ],
         "gridcolor": "rgb(204, 204, 204)",
         "range": [
          0,
          30
         ],
         "showgrid": true,
         "showline": false,
         "title": {
          "text": "%"
         }
        },
        "yaxis2": {
         "anchor": "x2",
         "autorange": true,
         "domain": [
          0.625,
          1
         ],
         "range": [
          0,
          24.90096208262592
         ]
        },
        "yaxis3": {
         "anchor": "x3",
         "domain": [
          0,
          0.375
         ],
         "gridcolor": "rgb(204, 204, 204)",
         "range": [
          0,
          30
         ],
         "showgrid": true,
         "showline": false,
         "title": {
          "text": "%"
         }
        },
        "yaxis4": {
         "anchor": "x4",
         "domain": [
          0,
          0.375
         ]
        }
       }
      },
      "image/png": "[encoded data removed]",
      "text/html": [
       "<div>\n",
       "        \n",
       "        \n",
       "            <div id=\"fd292efd-1358-48fb-a11c-defad9a2e4e3\" class=\"plotly-graph-div\" style=\"height:600px; width:1000px;\"></div>\n",
       "            <script type=\"text/javascript\">\n",
       "                require([\"plotly\"], function(Plotly) {\n",
       "                    window.PLOTLYENV=window.PLOTLYENV || {};\n",
       "                    \n",
       "                if (document.getElementById(\"fd292efd-1358-48fb-a11c-defad9a2e4e3\")) {\n",
       "                    Plotly.newPlot(\n",
       "                        'fd292efd-1358-48fb-a11c-defad9a2e4e3',\n",
       "                        [{\"histnorm\": \"percent\", \"type\": \"histogram\", \"x\": [3452, 4501, 3313, 2261, 1589, 2188, 3356, 3803, 1617, 5589, 3279, 2497, 3600, 3228, 2873, 5260, 3356, 2188, 1708, 2543, 3886, 1589, 4629, 6170, 905, 5187, 4402, 6170, 5886, 3812, 3803, 5673, 9154, 9912, 4432, 4629, 6081, 5570, 7115, 2450, 2743, 5396, 3452, 5513, 8540, 4874, 3139, 1881, 1208, 2840, 5415, 5434, 2831, 6348, 5326, 3068, 3452, 1437, 1117, 1808, 1953, 3050, 2077, 2467, 3812, 1028, 2294, 905, 3573, 1839, 1232, 819, 1400, 3525, 3421, 3411, 3677, 2029, 3846, 4339, 1337, 2684, 4543, 3367, 5796, 5149, 4356, 3544, 3615, 3575, 1460, 2976, 3890], \"xaxis\": \"x\", \"yaxis\": \"y\"}, {\"histnorm\": \"percent\", \"type\": \"histogram\", \"x\": [111, 159, 193, 180, 195, 189, 201, 236, 189, 159, 178, 189, 201, 225, 221, 215, 225, 189, 171, 178, 193, 195, 193, 261, 193, 171, 193, 257, 221, 259, 212, 250, 291, 284, 243, 195, 201, 267, 284, 291, 264, 246, 267, 257, 281, 335, 320, 276, 229, 209, 221, 240, 335, 274, 338, 312, 284, 243, 222, 212, 199, 201, 240, 225, 209, 212, 199, 175, 164, 156, 133, 115, 103, 157, 174, 193, 140, 195, 194, 189, 194, 157, 210, 237, 182, 213, 225, 244, 222, 195, 209, 176, 157], \"xaxis\": \"x2\", \"yaxis\": \"y2\"}, {\"histnorm\": \"percent\", \"type\": \"histogram\", \"x\": [992.0931506849316, 1111.8739726027395, 990.427397260274, 848.0655737704918, 564.4958904109589, 720.2410958904111, 942.6575342465753, 1064.6830601092895, 583.1068493150685, 1217.813698630137, 952.2931506849317, 809.155737704918, 1197.013698630137, 828.5808219178082, 879.3232876712327, 1341.7349726775956, 956.8164383561644, 649.5369863013699, 669.4109589041096, 927.8579234972676, 996.6986301369864, 680.7534246575343, 1234.517808219178, 1705.7185792349726, 457.2575342465754, 1373.8027397260273, 1224.2739726027396, 1592.133879781421, 1485.964383561644, 1102.8328767123287, 1286.4602739726026, 1760.9617486338798, 1521.6821917808222, 2333.9589041095887, 1103.8986301369864, 1133.9562841530055, 1473.6246575342466, 1728.5589041095889, 2103.2520547945205, 1018.2595628415302, 968.1506849315068, 1209.6767123287668, 975.5232876712328, 1845.0956284153006, 2149.227397260274, 1539.4547945205481, 1076.4602739726026, 780.1202185792349, 579.386301369863, 1116.5369863013698, 1595.6465753424654, 1560.674863387978, 1132.978082191781, 1882.104109589041, 1479.745205479452, 1303.5765027322404, 1151.331506849315, 588.6164383561644, 605.5561643835616, 652.8224043715848, 727.8438356164385, 748.9479452054794, 793.3150684931506, 773.6147540983608, 1327.6410958904112, 534.8438356164384, 771.0164383561644, 479.1284153005465, 873.2493150684932, 574.9808219178083, 410.2082191780822, 359.896174863388, 547.1671232876712, 1091.013698630137, 1055.2410958904109, 857.983606557377, 1216.7698630136983, 794.7780821917809, 1072.9205479452057, 1317.568306010929, 631.6767123287673, 960.117808219178, 1457.109589041096, 1300.2349726775956, 1504.1178082191782, 1685.4493150684934, 1681.8739726027395, 1210.0874316939892, 1336.6191780821919, 1340.5260273972603, 697.1917808219179, 1013.4071038251366, 1081.3643835616438], \"xaxis\": \"x3\", \"yaxis\": \"y3\"}],\n",
       "                        {\"annotations\": [{\"font\": {\"size\": 16}, \"showarrow\": false, \"text\": \"Maximum Flow\", \"x\": 0.225, \"xanchor\": \"center\", \"xref\": \"paper\", \"y\": 1.0, \"yanchor\": \"bottom\", \"yref\": \"paper\"}, {\"font\": {\"size\": 16}, \"showarrow\": false, \"text\": \"Minimum Flow\", \"x\": 0.775, \"xanchor\": \"center\", \"xref\": \"paper\", \"y\": 1.0, \"yanchor\": \"bottom\", \"yref\": \"paper\"}, {\"font\": {\"size\": 16}, \"showarrow\": false, \"text\": \"Mean Flow\", \"x\": 0.225, \"xanchor\": \"center\", \"xref\": \"paper\", \"y\": 0.375, \"yanchor\": \"bottom\", \"yref\": \"paper\"}], \"autosize\": false, \"height\": 600, \"plot_bgcolor\": \"white\", \"showlegend\": false, \"template\": {\"data\": {\"bar\": [{\"error_x\": {\"color\": \"#2a3f5f\"}, \"error_y\": {\"color\": \"#2a3f5f\"}, \"marker\": {\"line\": {\"color\": \"#E5ECF6\", \"width\": 0.5}}, \"type\": \"bar\"}], \"barpolar\": [{\"marker\": {\"line\": {\"color\": \"#E5ECF6\", \"width\": 0.5}}, \"type\": \"barpolar\"}], \"carpet\": [{\"aaxis\": {\"endlinecolor\": \"#2a3f5f\", \"gridcolor\": \"white\", \"linecolor\": \"white\", \"minorgridcolor\": \"white\", \"startlinecolor\": \"#2a3f5f\"}, \"baxis\": {\"endlinecolor\": \"#2a3f5f\", \"gridcolor\": \"white\", \"linecolor\": \"white\", \"minorgridcolor\": \"white\", \"startlinecolor\": \"#2a3f5f\"}, \"type\": \"carpet\"}], \"choropleth\": [{\"colorbar\": {\"outlinewidth\": 0, \"ticks\": \"\"}, \"type\": \"choropleth\"}], \"contour\": [{\"colorbar\": {\"outlinewidth\": 0, \"ticks\": \"\"}, \"colorscale\": [[0.0, \"#0d0887\"], [0.1111111111111111, \"#46039f\"], [0.2222222222222222, \"#7201a8\"], [0.3333333333333333, \"#9c179e\"], [0.4444444444444444, \"#bd3786\"], [0.5555555555555556, \"#d8576b\"], [0.6666666666666666, \"#ed7953\"], [0.7777777777777778, \"#fb9f3a\"], [0.8888888888888888, \"#fdca26\"], [1.0, \"#f0f921\"]], \"type\": \"contour\"}], \"contourcarpet\": [{\"colorbar\": {\"outlinewidth\": 0, \"ticks\": \"\"}, \"type\": \"contourcarpet\"}], \"heatmap\": [{\"colorbar\": {\"outlinewidth\": 0, \"ticks\": \"\"}, \"colorscale\": [[0.0, \"#0d0887\"], [0.1111111111111111, \"#46039f\"], [0.2222222222222222, \"#7201a8\"], [0.3333333333333333, \"#9c179e\"], [0.4444444444444444, \"#bd3786\"], [0.5555555555555556, \"#d8576b\"], [0.6666666666666666, \"#ed7953\"], [0.7777777777777778, \"#fb9f3a\"], [0.8888888888888888, \"#fdca26\"], [1.0, \"#f0f921\"]], \"type\": \"heatmap\"}], \"heatmapgl\": [{\"colorbar\": {\"outlinewidth\": 0, \"ticks\": \"\"}, \"colorscale\": [[0.0, \"#0d0887\"], [0.1111111111111111, \"#46039f\"], [0.2222222222222222, \"#7201a8\"], [0.3333333333333333, \"#9c179e\"], [0.4444444444444444, \"#bd3786\"], [0.5555555555555556, \"#d8576b\"], [0.6666666666666666, \"#ed7953\"], [0.7777777777777778, \"#fb9f3a\"], [0.8888888888888888, \"#fdca26\"], [1.0, \"#f0f921\"]], \"type\": \"heatmapgl\"}], \"histogram\": [{\"marker\": {\"colorbar\": {\"outlinewidth\": 0, \"ticks\": \"\"}}, \"type\": \"histogram\"}], \"histogram2d\": [{\"colorbar\": {\"outlinewidth\": 0, \"ticks\": \"\"}, \"colorscale\": [[0.0, \"#0d0887\"], [0.1111111111111111, \"#46039f\"], [0.2222222222222222, \"#7201a8\"], [0.3333333333333333, \"#9c179e\"], [0.4444444444444444, \"#bd3786\"], [0.5555555555555556, \"#d8576b\"], [0.6666666666666666, \"#ed7953\"], [0.7777777777777778, \"#fb9f3a\"], [0.8888888888888888, \"#fdca26\"], [1.0, \"#f0f921\"]], \"type\": \"histogram2d\"}], \"histogram2dcontour\": [{\"colorbar\": {\"outlinewidth\": 0, \"ticks\": \"\"}, \"colorscale\": [[0.0, \"#0d0887\"], [0.1111111111111111, \"#46039f\"], [0.2222222222222222, \"#7201a8\"], [0.3333333333333333, \"#9c179e\"], [0.4444444444444444, \"#bd3786\"], [0.5555555555555556, \"#d8576b\"], [0.6666666666666666, \"#ed7953\"], [0.7777777777777778, \"#fb9f3a\"], [0.8888888888888888, \"#fdca26\"], [1.0, \"#f0f921\"]], \"type\": \"histogram2dcontour\"}], \"mesh3d\": [{\"colorbar\": {\"outlinewidth\": 0, \"ticks\": \"\"}, \"type\": \"mesh3d\"}], \"parcoords\": [{\"line\": {\"colorbar\": {\"outlinewidth\": 0, \"ticks\": \"\"}}, \"type\": \"parcoords\"}], \"pie\": [{\"automargin\": true, \"type\": \"pie\"}], \"scatter\": [{\"marker\": {\"colorbar\": {\"outlinewidth\": 0, \"ticks\": \"\"}}, \"type\": \"scatter\"}], \"scatter3d\": [{\"line\": {\"colorbar\": {\"outlinewidth\": 0, \"ticks\": \"\"}}, \"marker\": {\"colorbar\": {\"outlinewidth\": 0, \"ticks\": \"\"}}, \"type\": \"scatter3d\"}], \"scattercarpet\": [{\"marker\": {\"colorbar\": {\"outlinewidth\": 0, \"ticks\": \"\"}}, \"type\": \"scattercarpet\"}], \"scattergeo\": [{\"marker\": {\"colorbar\": {\"outlinewidth\": 0, \"ticks\": \"\"}}, \"type\": \"scattergeo\"}], \"scattergl\": [{\"marker\": {\"colorbar\": {\"outlinewidth\": 0, \"ticks\": \"\"}}, \"type\": \"scattergl\"}], \"scattermapbox\": [{\"marker\": {\"colorbar\": {\"outlinewidth\": 0, \"ticks\": \"\"}}, \"type\": \"scattermapbox\"}], \"scatterpolar\": [{\"marker\": {\"colorbar\": {\"outlinewidth\": 0, \"ticks\": \"\"}}, \"type\": \"scatterpolar\"}], \"scatterpolargl\": [{\"marker\": {\"colorbar\": {\"outlinewidth\": 0, \"ticks\": \"\"}}, \"type\": \"scatterpolargl\"}], \"scatterternary\": [{\"marker\": {\"colorbar\": {\"outlinewidth\": 0, \"ticks\": \"\"}}, \"type\": \"scatterternary\"}], \"surface\": [{\"colorbar\": {\"outlinewidth\": 0, \"ticks\": \"\"}, \"colorscale\": [[0.0, \"#0d0887\"], [0.1111111111111111, \"#46039f\"], [0.2222222222222222, \"#7201a8\"], [0.3333333333333333, \"#9c179e\"], [0.4444444444444444, \"#bd3786\"], [0.5555555555555556, \"#d8576b\"], [0.6666666666666666, \"#ed7953\"], [0.7777777777777778, \"#fb9f3a\"], [0.8888888888888888, \"#fdca26\"], [1.0, \"#f0f921\"]], \"type\": \"surface\"}], \"table\": [{\"cells\": {\"fill\": {\"color\": \"#EBF0F8\"}, \"line\": {\"color\": \"white\"}}, \"header\": {\"fill\": {\"color\": \"#C8D4E3\"}, \"line\": {\"color\": \"white\"}}, \"type\": \"table\"}]}, \"layout\": {\"annotationdefaults\": {\"arrowcolor\": \"#2a3f5f\", \"arrowhead\": 0, \"arrowwidth\": 1}, \"coloraxis\": {\"colorbar\": {\"outlinewidth\": 0, \"ticks\": \"\"}}, \"colorscale\": {\"diverging\": [[0, \"#8e0152\"], [0.1, \"#c51b7d\"], [0.2, \"#de77ae\"], [0.3, \"#f1b6da\"], [0.4, \"#fde0ef\"], [0.5, \"#f7f7f7\"], [0.6, \"#e6f5d0\"], [0.7, \"#b8e186\"], [0.8, \"#7fbc41\"], [0.9, \"#4d9221\"], [1, \"#276419\"]], \"sequential\": [[0.0, \"#0d0887\"], [0.1111111111111111, \"#46039f\"], [0.2222222222222222, \"#7201a8\"], [0.3333333333333333, \"#9c179e\"], [0.4444444444444444, \"#bd3786\"], [0.5555555555555556, \"#d8576b\"], [0.6666666666666666, \"#ed7953\"], [0.7777777777777778, \"#fb9f3a\"], [0.8888888888888888, \"#fdca26\"], [1.0, \"#f0f921\"]], \"sequentialminus\": [[0.0, \"#0d0887\"], [0.1111111111111111, \"#46039f\"], [0.2222222222222222, \"#7201a8\"], [0.3333333333333333, \"#9c179e\"], [0.4444444444444444, \"#bd3786\"], [0.5555555555555556, \"#d8576b\"], [0.6666666666666666, \"#ed7953\"], [0.7777777777777778, \"#fb9f3a\"], [0.8888888888888888, \"#fdca26\"], [1.0, \"#f0f921\"]]}, \"colorway\": [\"#636efa\", \"#EF553B\", \"#00cc96\", \"#ab63fa\", \"#FFA15A\", \"#19d3f3\", \"#FF6692\", \"#B6E880\", \"#FF97FF\", \"#FECB52\"], \"font\": {\"color\": \"#2a3f5f\"}, \"geo\": {\"bgcolor\": \"white\", \"lakecolor\": \"white\", \"landcolor\": \"#E5ECF6\", \"showlakes\": true, \"showland\": true, \"subunitcolor\": \"white\"}, \"hoverlabel\": {\"align\": \"left\"}, \"hovermode\": \"closest\", \"mapbox\": {\"style\": \"light\"}, \"paper_bgcolor\": \"white\", \"plot_bgcolor\": \"#E5ECF6\", \"polar\": {\"angularaxis\": {\"gridcolor\": \"white\", \"linecolor\": \"white\", \"ticks\": \"\"}, \"bgcolor\": \"#E5ECF6\", \"radialaxis\": {\"gridcolor\": \"white\", \"linecolor\": \"white\", \"ticks\": \"\"}}, \"scene\": {\"xaxis\": {\"backgroundcolor\": \"#E5ECF6\", \"gridcolor\": \"white\", \"gridwidth\": 2, \"linecolor\": \"white\", \"showbackground\": true, \"ticks\": \"\", \"zerolinecolor\": \"white\"}, \"yaxis\": {\"backgroundcolor\": \"#E5ECF6\", \"gridcolor\": \"white\", \"gridwidth\": 2, \"linecolor\": \"white\", \"showbackground\": true, \"ticks\": \"\", \"zerolinecolor\": \"white\"}, \"zaxis\": {\"backgroundcolor\": \"#E5ECF6\", \"gridcolor\": \"white\", \"gridwidth\": 2, \"linecolor\": \"white\", \"showbackground\": true, \"ticks\": \"\", \"zerolinecolor\": \"white\"}}, \"shapedefaults\": {\"line\": {\"color\": \"#2a3f5f\"}}, \"ternary\": {\"aaxis\": {\"gridcolor\": \"white\", \"linecolor\": \"white\", \"ticks\": \"\"}, \"baxis\": {\"gridcolor\": \"white\", \"linecolor\": \"white\", \"ticks\": \"\"}, \"bgcolor\": \"#E5ECF6\", \"caxis\": {\"gridcolor\": \"white\", \"linecolor\": \"white\", \"ticks\": \"\"}}, \"title\": {\"x\": 0.05}, \"xaxis\": {\"automargin\": true, \"gridcolor\": \"white\", \"linecolor\": \"white\", \"ticks\": \"\", \"title\": {\"standoff\": 15}, \"zerolinecolor\": \"white\", \"zerolinewidth\": 2}, \"yaxis\": {\"automargin\": true, \"gridcolor\": \"white\", \"linecolor\": \"white\", \"ticks\": \"\", \"title\": {\"standoff\": 15}, \"zerolinecolor\": \"white\", \"zerolinewidth\": 2}}}, \"title\": {\"text\": \"Histograms of Annual Flow\"}, \"width\": 1000, \"xaxis\": {\"anchor\": \"y\", \"domain\": [0.0, 0.45], \"showgrid\": false, \"showline\": false, \"title\": {\"text\": \"Flow m\\u00b3/s\"}}, \"xaxis2\": {\"anchor\": \"y2\", \"domain\": [0.55, 1.0]}, \"xaxis3\": {\"anchor\": \"y3\", \"domain\": [0.0, 0.45]}, \"xaxis4\": {\"anchor\": \"y4\", \"domain\": [0.55, 1.0]}, \"yaxis\": {\"anchor\": \"x\", \"domain\": [0.625, 1.0], \"gridcolor\": \"rgb(204, 204, 204)\", \"range\": [0, 30], \"showgrid\": true, \"showline\": false, \"title\": {\"text\": \"%\"}}, \"yaxis2\": {\"anchor\": \"x2\", \"domain\": [0.625, 1.0]}, \"yaxis3\": {\"anchor\": \"x3\", \"domain\": [0.0, 0.375], \"gridcolor\": \"rgb(204, 204, 204)\", \"range\": [0, 30], \"showgrid\": true, \"showline\": false, \"title\": {\"text\": \"%\"}}, \"yaxis4\": {\"anchor\": \"x4\", \"domain\": [0.0, 0.375]}},\n",
       "                        {\"responsive\": true}\n",
       "                    ).then(function(){\n",
       "                            \n",
       "var gd = document.getElementById('fd292efd-1358-48fb-a11c-defad9a2e4e3');\n",
       "var x = new MutationObserver(function (mutations, observer) {{\n",
       "        var display = window.getComputedStyle(gd).display;\n",
       "        if (!display || display === 'none') {{\n",
       "            console.log([gd, 'removed!']);\n",
       "            Plotly.purge(gd);\n",
       "            observer.disconnect();\n",
       "        }}\n",
       "}});\n",
       "\n",
       "// Listen for the removal of the full notebook cells\n",
       "var notebookContainer = gd.closest('#notebook-container');\n",
       "if (notebookContainer) {{\n",
       "    x.observe(notebookContainer, {childList: true});\n",
       "}}\n",
       "\n",
       "// Listen for the clearing of the current output cell\n",
       "var outputEl = gd.closest('.output');\n",
       "if (outputEl) {{\n",
       "    x.observe(outputEl, {childList: true});\n",
       "}}\n",
       "\n",
       "                        })\n",
       "                };\n",
       "                });\n",
       "            </script>\n",
       "        </div>"
      ]
     },
     "metadata": {},
     "output_type": "display_data"
    }
   ],
   "source": [
    "\n",
    "fig = make_subplots(rows=2, cols=2, subplot_titles=(\"Maximum Flow\",\"Minimum Flow\",\"Mean Flow\"))\n",
    "fig.add_trace(go.Histogram(x=yearly['Flow_max'],histnorm='percent'),row=1,col=1)\n",
    "fig.add_trace(go.Histogram(x=yearly['Flow_min'],histnorm='percent'),row=1,col=2)\n",
    "fig.add_trace(go.Histogram(x=yearly['Flow_mean'],histnorm='percent'),row=2,col=1)\n",
    "\n",
    "fig.update_layout(\n",
    "    xaxis=dict(\n",
    "        showgrid=False,\n",
    "        showline=False,\n",
    "        title_text=\"Flow m\\u00B3/s\"\n",
    "    ),\n",
    "    width=1000, height=600, autosize=False,\n",
    "    plot_bgcolor='white',\n",
    "    showlegend=False,\n",
    "    title_text=\"Histograms of Annual Flow\"\n",
    ")\n",
    "fig.update_yaxes(showline=False, showgrid=True,gridcolor='rgb(204, 204, 204)',title_text='%',row=1,col=1,range=(0,30))\n",
    "fig.update_yaxes(showline=False, showgrid=True,gridcolor='rgb(204, 204, 204)',title_text='%',row=2,col=1,range=(0,30))\n",
    "fig.update_yaxes(showline=False, showgrid=True,gridcolor='rgb(204, 204, 204)',title_text='%',row=2,col=1,range=(0,30))\n",
    "fig.show(renderer=bookRenderer)"
   ]
  },
  {
   "cell_type": "code",
   "execution_count": 30,
   "metadata": {
    "jupyter": {
     "source_hidden": true
    }
   },
   "outputs": [
    {
     "data": {
      "application/vnd.plotly.v1+json": {
       "config": {
        "plotlyServerURL": "https://plot.ly"
       },
       "data": [
        {
         "type": "scatter",
         "x": [
          "1924-10-01",
          "1924-11-01",
          "1924-12-01",
          "1925-01-01",
          "1925-02-01",
          "1925-03-01",
          "1925-04-01",
          "1925-05-01",
          "1925-06-01",
          "1925-07-01",
          "1925-08-01",
          "1925-09-01",
          "1925-10-01",
          "1925-11-01",
          "1925-12-01",
          "1926-01-01",
          "1926-02-01",
          "1926-03-01",
          "1926-04-01",
          "1926-05-01",
          "1926-06-01",
          "1926-07-01",
          "1926-08-01",
          "1926-09-01",
          "1926-10-01",
          "1926-11-01",
          "1926-12-01",
          "1927-01-01",
          "1927-02-01",
          "1927-03-01",
          "1927-04-01",
          "1927-05-01",
          "1927-06-01",
          "1927-07-01",
          "1927-08-01",
          "1927-09-01",
          "1927-10-01",
          "1927-11-01",
          "1927-12-01",
          "1928-01-01",
          "1928-02-01",
          "1928-03-01",
          "1928-04-01",
          "1928-05-01",
          "1928-06-01",
          "1928-07-01",
          "1928-08-01",
          "1928-09-01",
          "1928-10-01",
          "1928-11-01",
          "1928-12-01",
          "1929-01-01",
          "1929-02-01",
          "1929-03-01",
          "1929-04-01",
          "1929-05-01",
          "1929-06-01",
          "1929-07-01",
          "1929-08-01",
          "1929-09-01",
          "1929-10-01",
          "1929-11-01",
          "1929-12-01",
          "1930-01-01",
          "1930-02-01",
          "1930-03-01",
          "1930-04-01",
          "1930-05-01",
          "1930-06-01",
          "1930-07-01",
          "1930-08-01",
          "1930-09-01",
          "1930-10-01",
          "1930-11-01",
          "1930-12-01",
          "1931-01-01",
          "1931-02-01",
          "1931-03-01",
          "1931-04-01",
          "1931-05-01",
          "1931-06-01",
          "1931-07-01",
          "1931-08-01",
          "1931-09-01",
          "1931-10-01",
          "1931-11-01",
          "1931-12-01",
          "1932-01-01",
          "1932-02-01",
          "1932-03-01",
          "1932-04-01",
          "1932-05-01",
          "1932-06-01",
          "1932-07-01",
          "1932-08-01",
          "1932-09-01",
          "1932-10-01",
          "1932-11-01",
          "1932-12-01",
          "1933-01-01",
          "1933-02-01",
          "1933-03-01",
          "1933-04-01",
          "1933-05-01",
          "1933-06-01",
          "1933-07-01",
          "1933-08-01",
          "1933-09-01",
          "1933-10-01",
          "1933-11-01",
          "1933-12-01",
          "1934-01-01",
          "1934-02-01",
          "1934-03-01",
          "1934-04-01",
          "1934-05-01",
          "1934-06-01",
          "1934-07-01",
          "1934-08-01",
          "1934-09-01",
          "1934-10-01",
          "1934-11-01",
          "1934-12-01",
          "1935-01-01",
          "1935-02-01",
          "1935-03-01",
          "1935-04-01",
          "1935-05-01",
          "1935-06-01",
          "1935-07-01",
          "1935-08-01",
          "1935-09-01",
          "1935-10-01",
          "1935-11-01",
          "1935-12-01",
          "1936-01-01",
          "1936-02-01",
          "1936-03-01",
          "1936-04-01",
          "1936-05-01",
          "1936-06-01",
          "1936-07-01",
          "1936-08-01",
          "1936-09-01",
          "1936-10-01",
          "1936-11-01",
          "1936-12-01",
          "1937-01-01",
          "1937-02-01",
          "1937-03-01",
          "1937-04-01",
          "1937-05-01",
          "1937-06-01",
          "1937-07-01",
          "1937-08-01",
          "1937-09-01",
          "1937-10-01",
          "1937-11-01",
          "1937-12-01",
          "1938-01-01",
          "1938-02-01",
          "1938-03-01",
          "1938-04-01",
          "1938-05-01",
          "1938-06-01",
          "1938-07-01",
          "1938-08-01",
          "1938-09-01",
          "1938-10-01",
          "1938-11-01",
          "1938-12-01",
          "1939-01-01",
          "1939-02-01",
          "1939-03-01",
          "1939-04-01",
          "1939-05-01",
          "1939-06-01",
          "1939-07-01",
          "1939-08-01",
          "1939-09-01",
          "1939-10-01",
          "1939-11-01",
          "1939-12-01",
          "1940-01-01",
          "1940-02-01",
          "1940-03-01",
          "1940-04-01",
          "1940-05-01",
          "1940-06-01",
          "1940-07-01",
          "1940-08-01",
          "1940-09-01",
          "1940-10-01",
          "1940-11-01",
          "1940-12-01",
          "1941-01-01",
          "1941-02-01",
          "1941-03-01",
          "1941-04-01",
          "1941-05-01",
          "1941-06-01",
          "1941-07-01",
          "1941-08-01",
          "1941-09-01",
          "1941-10-01",
          "1941-11-01",
          "1941-12-01",
          "1942-01-01",
          "1942-02-01",
          "1942-03-01",
          "1942-04-01",
          "1942-05-01",
          "1942-06-01",
          "1942-07-01",
          "1942-08-01",
          "1942-09-01",
          "1942-10-01",
          "1942-11-01",
          "1942-12-01",
          "1943-01-01",
          "1943-02-01",
          "1943-03-01",
          "1943-04-01",
          "1943-05-01",
          "1943-06-01",
          "1943-07-01",
          "1943-08-01",
          "1943-09-01",
          "1943-10-01",
          "1943-11-01",
          "1943-12-01",
          "1944-01-01",
          "1944-02-01",
          "1944-03-01",
          "1944-04-01",
          "1944-05-01",
          "1944-06-01",
          "1944-07-01",
          "1944-08-01",
          "1944-09-01",
          "1944-10-01",
          "1944-11-01",
          "1944-12-01",
          "1945-01-01",
          "1945-02-01",
          "1945-03-01",
          "1945-04-01",
          "1945-05-01",
          "1945-06-01",
          "1945-07-01",
          "1945-08-01",
          "1945-09-01",
          "1945-10-01",
          "1945-11-01",
          "1945-12-01",
          "1946-01-01",
          "1946-02-01",
          "1946-03-01",
          "1946-04-01",
          "1946-05-01",
          "1946-06-01",
          "1946-07-01",
          "1946-08-01",
          "1946-09-01",
          "1946-10-01",
          "1946-11-01",
          "1946-12-01",
          "1947-01-01",
          "1947-02-01",
          "1947-03-01",
          "1947-04-01",
          "1947-05-01",
          "1947-06-01",
          "1947-07-01",
          "1947-08-01",
          "1947-09-01",
          "1947-10-01",
          "1947-11-01",
          "1947-12-01",
          "1948-01-01",
          "1948-02-01",
          "1948-03-01",
          "1948-04-01",
          "1948-05-01",
          "1948-06-01",
          "1948-07-01",
          "1948-08-01",
          "1948-09-01",
          "1948-10-01",
          "1948-11-01",
          "1948-12-01",
          "1949-01-01",
          "1949-02-01",
          "1949-03-01",
          "1949-04-01",
          "1949-05-01",
          "1949-06-01",
          "1949-07-01",
          "1949-08-01",
          "1949-09-01",
          "1949-10-01",
          "1949-11-01",
          "1949-12-01",
          "1950-01-01",
          "1950-02-01",
          "1950-03-01",
          "1950-04-01",
          "1950-05-01",
          "1950-06-01",
          "1950-07-01",
          "1950-08-01",
          "1950-09-01",
          "1950-10-01",
          "1950-11-01",
          "1950-12-01",
          "1951-01-01",
          "1951-02-01",
          "1951-03-01",
          "1951-04-01",
          "1951-05-01",
          "1951-06-01",
          "1951-07-01",
          "1951-08-01",
          "1951-09-01",
          "1951-10-01",
          "1951-11-01",
          "1951-12-01",
          "1952-01-01",
          "1952-02-01",
          "1952-03-01",
          "1952-04-01",
          "1952-05-01",
          "1952-06-01",
          "1952-07-01",
          "1952-08-01",
          "1952-09-01",
          "1952-10-01",
          "1952-11-01",
          "1952-12-01",
          "1953-01-01",
          "1953-02-01",
          "1953-03-01",
          "1953-04-01",
          "1953-05-01",
          "1953-06-01",
          "1953-07-01",
          "1953-08-01",
          "1953-09-01",
          "1953-10-01",
          "1953-11-01",
          "1953-12-01",
          "1954-01-01",
          "1954-02-01",
          "1954-03-01",
          "1954-04-01",
          "1954-05-01",
          "1954-06-01",
          "1954-07-01",
          "1954-08-01",
          "1954-09-01",
          "1954-10-01",
          "1954-11-01",
          "1954-12-01",
          "1955-01-01",
          "1955-02-01",
          "1955-03-01",
          "1955-04-01",
          "1955-05-01",
          "1955-06-01",
          "1955-07-01",
          "1955-08-01",
          "1955-09-01",
          "1955-10-01",
          "1955-11-01",
          "1955-12-01",
          "1956-01-01",
          "1956-02-01",
          "1956-03-01",
          "1956-04-01",
          "1956-05-01",
          "1956-06-01",
          "1956-07-01",
          "1956-08-01",
          "1956-09-01",
          "1956-10-01",
          "1956-11-01",
          "1956-12-01",
          "1957-01-01",
          "1957-02-01",
          "1957-03-01",
          "1957-04-01",
          "1957-05-01",
          "1957-06-01",
          "1957-07-01",
          "1957-08-01",
          "1957-09-01",
          "1957-10-01",
          "1957-11-01",
          "1957-12-01",
          "1958-01-01",
          "1958-02-01",
          "1958-03-01",
          "1958-04-01",
          "1958-05-01",
          "1958-06-01",
          "1958-07-01",
          "1958-08-01",
          "1958-09-01",
          "1958-10-01",
          "1958-11-01",
          "1958-12-01",
          "1959-01-01",
          "1959-02-01",
          "1959-03-01",
          "1959-04-01",
          "1959-05-01",
          "1959-06-01",
          "1959-07-01",
          "1959-08-01",
          "1959-09-01",
          "1959-10-01",
          "1959-11-01",
          "1959-12-01",
          "1960-01-01",
          "1960-02-01",
          "1960-03-01",
          "1960-04-01",
          "1960-05-01",
          "1960-06-01",
          "1960-07-01",
          "1960-08-01",
          "1960-09-01",
          "1960-10-01",
          "1960-11-01",
          "1960-12-01",
          "1961-01-01",
          "1961-02-01",
          "1961-03-01",
          "1961-04-01",
          "1961-05-01",
          "1961-06-01",
          "1961-07-01",
          "1961-08-01",
          "1961-09-01",
          "1961-10-01",
          "1961-11-01",
          "1961-12-01",
          "1962-01-01",
          "1962-02-01",
          "1962-03-01",
          "1962-04-01",
          "1962-05-01",
          "1962-06-01",
          "1962-07-01",
          "1962-08-01",
          "1962-09-01",
          "1962-10-01",
          "1962-11-01",
          "1962-12-01",
          "1963-01-01",
          "1963-02-01",
          "1963-03-01",
          "1963-04-01",
          "1963-05-01",
          "1963-06-01",
          "1963-07-01",
          "1963-08-01",
          "1963-09-01",
          "1963-10-01",
          "1963-11-01",
          "1963-12-01",
          "1964-01-01",
          "1964-02-01",
          "1964-03-01",
          "1964-04-01",
          "1964-05-01",
          "1964-06-01",
          "1964-07-01",
          "1964-08-01",
          "1964-09-01",
          "1964-10-01",
          "1964-11-01",
          "1964-12-01",
          "1965-01-01",
          "1965-02-01",
          "1965-03-01",
          "1965-04-01",
          "1965-05-01",
          "1965-06-01",
          "1965-07-01",
          "1965-08-01",
          "1965-09-01",
          "1965-10-01",
          "1965-11-01",
          "1965-12-01",
          "1966-01-01",
          "1966-02-01",
          "1966-03-01",
          "1966-04-01",
          "1966-05-01",
          "1966-06-01",
          "1966-07-01",
          "1966-08-01",
          "1966-09-01",
          "1966-10-01",
          "1966-11-01",
          "1966-12-01",
          "1967-01-01",
          "1967-02-01",
          "1967-03-01",
          "1967-04-01",
          "1967-05-01",
          "1967-06-01",
          "1967-07-01",
          "1967-08-01",
          "1967-09-01",
          "1967-10-01",
          "1967-11-01",
          "1967-12-01",
          "1968-01-01",
          "1968-02-01",
          "1968-03-01",
          "1968-04-01",
          "1968-05-01",
          "1968-06-01",
          "1968-07-01",
          "1968-08-01",
          "1968-09-01",
          "1968-10-01",
          "1968-11-01",
          "1968-12-01",
          "1969-01-01",
          "1969-02-01",
          "1969-03-01",
          "1969-04-01",
          "1969-05-01",
          "1969-06-01",
          "1969-07-01",
          "1969-08-01",
          "1969-09-01",
          "1969-10-01",
          "1969-11-01",
          "1969-12-01",
          "1970-01-01",
          "1970-02-01",
          "1970-03-01",
          "1970-04-01",
          "1970-05-01",
          "1970-06-01",
          "1970-07-01",
          "1970-08-01",
          "1970-09-01",
          "1970-10-01",
          "1970-11-01",
          "1970-12-01",
          "1971-01-01",
          "1971-02-01",
          "1971-03-01",
          "1971-04-01",
          "1971-05-01",
          "1971-06-01",
          "1971-07-01",
          "1971-08-01",
          "1971-09-01",
          "1971-10-01",
          "1971-11-01",
          "1971-12-01",
          "1972-01-01",
          "1972-02-01",
          "1972-03-01",
          "1972-04-01",
          "1972-05-01",
          "1972-06-01",
          "1972-07-01",
          "1972-08-01",
          "1972-09-01",
          "1972-10-01",
          "1972-11-01",
          "1972-12-01",
          "1973-01-01",
          "1973-02-01",
          "1973-03-01",
          "1973-04-01",
          "1973-05-01",
          "1973-06-01",
          "1973-07-01",
          "1973-08-01",
          "1973-09-01",
          "1973-10-01",
          "1973-11-01",
          "1973-12-01",
          "1974-01-01",
          "1974-02-01",
          "1974-03-01",
          "1974-04-01",
          "1974-05-01",
          "1974-06-01",
          "1974-07-01",
          "1974-08-01",
          "1974-09-01",
          "1974-10-01",
          "1974-11-01",
          "1974-12-01",
          "1975-01-01",
          "1975-02-01",
          "1975-03-01",
          "1975-04-01",
          "1975-05-01",
          "1975-06-01",
          "1975-07-01",
          "1975-08-01",
          "1975-09-01",
          "1975-10-01",
          "1975-11-01",
          "1975-12-01",
          "1976-01-01",
          "1976-02-01",
          "1976-03-01",
          "1976-04-01",
          "1976-05-01",
          "1976-06-01",
          "1976-07-01",
          "1976-08-01",
          "1976-09-01",
          "1976-10-01",
          "1976-11-01",
          "1976-12-01",
          "1977-01-01",
          "1977-02-01",
          "1977-03-01",
          "1977-04-01",
          "1977-05-01",
          "1977-06-01",
          "1977-07-01",
          "1977-08-01",
          "1977-09-01",
          "1977-10-01",
          "1977-11-01",
          "1977-12-01",
          "1978-01-01",
          "1978-02-01",
          "1978-03-01",
          "1978-04-01",
          "1978-05-01",
          "1978-06-01",
          "1978-07-01",
          "1978-08-01",
          "1978-09-01",
          "1978-10-01",
          "1978-11-01",
          "1978-12-01",
          "1979-01-01",
          "1979-02-01",
          "1979-03-01",
          "1979-04-01",
          "1979-05-01",
          "1979-06-01",
          "1979-07-01",
          "1979-08-01",
          "1979-09-01",
          "1979-10-01",
          "1979-11-01",
          "1979-12-01",
          "1980-01-01",
          "1980-02-01",
          "1980-03-01",
          "1980-04-01",
          "1980-05-01",
          "1980-06-01",
          "1980-07-01",
          "1980-08-01",
          "1980-09-01",
          "1980-10-01",
          "1980-11-01",
          "1980-12-01",
          "1981-01-01",
          "1981-02-01",
          "1981-03-01",
          "1981-04-01",
          "1981-05-01",
          "1981-06-01",
          "1981-07-01",
          "1981-08-01",
          "1981-09-01",
          "1981-10-01",
          "1981-11-01",
          "1981-12-01",
          "1982-01-01",
          "1982-02-01",
          "1982-03-01",
          "1982-04-01",
          "1982-05-01",
          "1982-06-01",
          "1982-07-01",
          "1982-08-01",
          "1982-09-01",
          "1982-10-01",
          "1982-11-01",
          "1982-12-01",
          "1983-01-01",
          "1983-02-01",
          "1983-03-01",
          "1983-04-01",
          "1983-05-01",
          "1983-06-01",
          "1983-07-01",
          "1983-08-01",
          "1983-09-01",
          "1983-10-01",
          "1983-11-01",
          "1983-12-01",
          "1984-01-01",
          "1984-02-01",
          "1984-03-01",
          "1984-04-01",
          "1984-05-01",
          "1984-06-01",
          "1984-07-01",
          "1984-08-01",
          "1984-09-01",
          "1984-10-01",
          "1984-11-01",
          "1984-12-01",
          "1985-01-01",
          "1985-02-01",
          "1985-03-01",
          "1985-04-01",
          "1985-05-01",
          "1985-06-01",
          "1985-07-01",
          "1985-08-01",
          "1985-09-01",
          "1985-10-01",
          "1985-11-01",
          "1985-12-01",
          "1986-01-01",
          "1986-02-01",
          "1986-03-01",
          "1986-04-01",
          "1986-05-01",
          "1986-06-01",
          "1986-07-01",
          "1986-08-01",
          "1986-09-01",
          "1986-10-01",
          "1986-11-01",
          "1986-12-01",
          "1987-01-01",
          "1987-02-01",
          "1987-03-01",
          "1987-04-01",
          "1987-05-01",
          "1987-06-01",
          "1987-07-01",
          "1987-08-01",
          "1987-09-01",
          "1987-10-01",
          "1987-11-01",
          "1987-12-01",
          "1988-01-01",
          "1988-02-01",
          "1988-03-01",
          "1988-04-01",
          "1988-05-01",
          "1988-06-01",
          "1988-07-01",
          "1988-08-01",
          "1988-09-01",
          "1988-10-01",
          "1988-11-01",
          "1988-12-01",
          "1989-01-01",
          "1989-02-01",
          "1989-03-01",
          "1989-04-01",
          "1989-05-01",
          "1989-06-01",
          "1989-07-01",
          "1989-08-01",
          "1989-09-01",
          "1989-10-01",
          "1989-11-01",
          "1989-12-01",
          "1990-01-01",
          "1990-02-01",
          "1990-03-01",
          "1990-04-01",
          "1990-05-01",
          "1990-06-01",
          "1990-07-01",
          "1990-08-01",
          "1990-09-01",
          "1990-10-01",
          "1990-11-01",
          "1990-12-01",
          "1991-01-01",
          "1991-02-01",
          "1991-03-01",
          "1991-04-01",
          "1991-05-01",
          "1991-06-01",
          "1991-07-01",
          "1991-08-01",
          "1991-09-01",
          "1991-10-01",
          "1991-11-01",
          "1991-12-01",
          "1992-01-01",
          "1992-02-01",
          "1992-03-01",
          "1992-04-01",
          "1992-05-01",
          "1992-06-01",
          "1992-07-01",
          "1992-08-01",
          "1992-09-01",
          "1992-10-01",
          "1992-11-01",
          "1992-12-01",
          "1993-01-01",
          "1993-02-01",
          "1993-03-01",
          "1993-04-01",
          "1993-05-01",
          "1993-06-01",
          "1993-07-01",
          "1993-08-01",
          "1993-09-01",
          "1993-10-01",
          "1993-11-01",
          "1993-12-01",
          "1994-01-01",
          "1994-02-01",
          "1994-03-01",
          "1994-04-01",
          "1994-05-01",
          "1994-06-01",
          "1994-07-01",
          "1994-08-01",
          "1994-09-01",
          "1994-10-01",
          "1994-11-01",
          "1994-12-01",
          "1995-01-01",
          "1995-02-01",
          "1995-03-01",
          "1995-04-01",
          "1995-05-01",
          "1995-06-01",
          "1995-07-01",
          "1995-08-01",
          "1995-09-01",
          "1995-10-01",
          "1995-11-01",
          "1995-12-01",
          "1996-01-01",
          "1996-02-01",
          "1996-03-01",
          "1996-04-01",
          "1996-05-01",
          "1996-06-01",
          "1996-07-01",
          "1996-08-01",
          "1996-09-01",
          "1996-10-01",
          "1996-11-01",
          "1996-12-01",
          "1997-01-01",
          "1997-02-01",
          "1997-03-01",
          "1997-04-01",
          "1997-05-01",
          "1997-06-01",
          "1997-07-01",
          "1997-08-01",
          "1997-09-01",
          "1997-10-01",
          "1997-11-01",
          "1997-12-01",
          "1998-01-01",
          "1998-02-01",
          "1998-03-01",
          "1998-04-01",
          "1998-05-01",
          "1998-06-01",
          "1998-07-01",
          "1998-08-01",
          "1998-09-01",
          "1998-10-01",
          "1998-11-01",
          "1998-12-01",
          "1999-01-01",
          "1999-02-01",
          "1999-03-01",
          "1999-04-01",
          "1999-05-01",
          "1999-06-01",
          "1999-07-01",
          "1999-08-01",
          "1999-09-01",
          "1999-10-01",
          "1999-11-01",
          "1999-12-01",
          "2000-01-01",
          "2000-02-01",
          "2000-03-01",
          "2000-04-01",
          "2000-05-01",
          "2000-06-01",
          "2000-07-01",
          "2000-08-01",
          "2000-09-01",
          "2000-10-01",
          "2000-11-01",
          "2000-12-01",
          "2001-01-01",
          "2001-02-01",
          "2001-03-01",
          "2001-04-01",
          "2001-05-01",
          "2001-06-01",
          "2001-07-01",
          "2001-08-01",
          "2001-09-01",
          "2001-10-01",
          "2001-11-01",
          "2001-12-01",
          "2002-01-01",
          "2002-02-01",
          "2002-03-01",
          "2002-04-01",
          "2002-05-01",
          "2002-06-01",
          "2002-07-01",
          "2002-08-01",
          "2002-09-01",
          "2002-10-01",
          "2002-11-01",
          "2002-12-01",
          "2003-01-01",
          "2003-02-01",
          "2003-03-01",
          "2003-04-01",
          "2003-05-01",
          "2003-06-01",
          "2003-07-01",
          "2003-08-01",
          "2003-09-01",
          "2003-10-01",
          "2003-11-01",
          "2003-12-01",
          "2004-01-01",
          "2004-02-01",
          "2004-03-01",
          "2004-04-01",
          "2004-05-01",
          "2004-06-01",
          "2004-07-01",
          "2004-08-01",
          "2004-09-01",
          "2004-10-01",
          "2004-11-01",
          "2004-12-01",
          "2005-01-01",
          "2005-02-01",
          "2005-03-01",
          "2005-04-01",
          "2005-05-01",
          "2005-06-01",
          "2005-07-01",
          "2005-08-01",
          "2005-09-01",
          "2005-10-01",
          "2005-11-01",
          "2005-12-01",
          "2006-01-01",
          "2006-02-01",
          "2006-03-01",
          "2006-04-01",
          "2006-05-01",
          "2006-06-01",
          "2006-07-01",
          "2006-08-01",
          "2006-09-01",
          "2006-10-01",
          "2006-11-01",
          "2006-12-01",
          "2007-01-01",
          "2007-02-01",
          "2007-03-01",
          "2007-04-01",
          "2007-05-01",
          "2007-06-01",
          "2007-07-01",
          "2007-08-01",
          "2007-09-01",
          "2007-10-01",
          "2007-11-01",
          "2007-12-01",
          "2008-01-01",
          "2008-02-01",
          "2008-03-01",
          "2008-04-01",
          "2008-05-01",
          "2008-06-01",
          "2008-07-01",
          "2008-08-01",
          "2008-09-01",
          "2008-10-01",
          "2008-11-01",
          "2008-12-01",
          "2009-01-01",
          "2009-02-01",
          "2009-03-01",
          "2009-04-01",
          "2009-05-01",
          "2009-06-01",
          "2009-07-01",
          "2009-08-01",
          "2009-09-01",
          "2009-10-01",
          "2009-11-01",
          "2009-12-01",
          "2010-01-01",
          "2010-02-01",
          "2010-03-01",
          "2010-04-01",
          "2010-05-01",
          "2010-06-01",
          "2010-07-01",
          "2010-08-01",
          "2010-09-01",
          "2010-10-01",
          "2010-11-01",
          "2010-12-01",
          "2011-01-01",
          "2011-02-01",
          "2011-03-01",
          "2011-04-01",
          "2011-05-01",
          "2011-06-01",
          "2011-07-01",
          "2011-08-01",
          "2011-09-01",
          "2011-10-01",
          "2011-11-01",
          "2011-12-01",
          "2012-01-01",
          "2012-02-01",
          "2012-03-01",
          "2012-04-01",
          "2012-05-01",
          "2012-06-01",
          "2012-07-01",
          "2012-08-01",
          "2012-09-01",
          "2012-10-01",
          "2012-11-01",
          "2012-12-01",
          "2013-01-01",
          "2013-02-01",
          "2013-03-01",
          "2013-04-01",
          "2013-05-01",
          "2013-06-01",
          "2013-07-01",
          "2013-08-01",
          "2013-09-01",
          "2013-10-01",
          "2013-11-01",
          "2013-12-01",
          "2014-01-01",
          "2014-02-01",
          "2014-03-01",
          "2014-04-01",
          "2014-05-01",
          "2014-06-01",
          "2014-07-01",
          "2014-08-01",
          "2014-09-01",
          "2014-10-01",
          "2014-11-01",
          "2014-12-01",
          "2015-01-01",
          "2015-02-01",
          "2015-03-01",
          "2015-04-01",
          "2015-05-01",
          "2015-06-01",
          "2015-07-01",
          "2015-08-01",
          "2015-09-01",
          "2015-10-01",
          "2015-11-01",
          "2015-12-01",
          "2016-01-01",
          "2016-02-01",
          "2016-03-01",
          "2016-04-01",
          "2016-05-01",
          "2016-06-01",
          "2016-07-01",
          "2016-08-01",
          "2016-09-01",
          "2016-10-01",
          "2016-11-01",
          "2016-12-01",
          "2017-01-01",
          "2017-02-01",
          "2017-03-01",
          "2017-04-01",
          "2017-05-01",
          "2017-06-01",
          "2017-07-01",
          "2017-08-01",
          "2017-09-01"
         ],
         "y": [
          116.09677419354837,
          154.06666666666666,
          275.67741935483866,
          692.7741935483872,
          1193.75,
          1926.4193548387095,
          3198.566666666666,
          2213.935483870968,
          1178.3666666666666,
          520.6451612903227,
          276.64516129032256,
          202.36666666666667,
          171.32258064516128,
          199.7333333333333,
          332.96774193548384,
          495.1290322580645,
          733.0714285714287,
          2626.3548387096776,
          3961.366666666667,
          2508.193548387097,
          1195.5333333333333,
          549.7096774193549,
          334.5806451612903,
          234.76666666666668,
          198.70967741935485,
          217.66666666666663,
          426.64516129032256,
          644.6129032258065,
          1220.9642857142858,
          1787.451612903226,
          2844.333333333333,
          2287.387096774193,
          1257.7,
          511.0322580645162,
          311.64516129032256,
          217.86666666666667,
          187.67741935483872,
          245.66666666666663,
          361.5806451612903,
          605.9354838709677,
          829.1034482758621,
          1844.161290322581,
          2199,
          1970.5806451612905,
          988.7333333333332,
          425.741935483871,
          284.22580645161287,
          242.3,
          246.90322580645162,
          256.5,
          351.64516129032256,
          531,
          698.3928571428571,
          925.741935483871,
          1386.8666666666666,
          1128.8709677419354,
          453.03333333333336,
          329.741935483871,
          265.54838709677415,
          214.36666666666667,
          191.90322580645162,
          230,
          447.6129032258065,
          588.0322580645161,
          717.7857142857142,
          909.5806451612905,
          1083.9,
          1805.935483870968,
          1358.2,
          623.6129032258065,
          399.19354838709677,
          289.5,
          239.2258064516129,
          219.53333333333333,
          355.35483870967744,
          510.80645161290323,
          666.8571428571429,
          1091.032258064516,
          2881.866666666667,
          2674.322580645161,
          1372.3,
          615.9354838709677,
          397.6774193548387,
          292.4,
          242.38709677419357,
          307.3333333333333,
          571.3225806451613,
          818.1935483870967,
          1082.9310344827586,
          2941.2903225806454,
          2978.9,
          1713.2580645161293,
          964.4333333333333,
          512.0322580645161,
          370.19354838709677,
          284,
          218.93548387096772,
          220.36666666666667,
          343.45161290322585,
          614.8387096774194,
          797.7142857142858,
          1155.9032258064515,
          1467.2,
          957.2258064516127,
          465.83333333333326,
          331.1935483870968,
          247.32258064516128,
          198.7,
          173.90322580645162,
          212.9333333333333,
          400.51612903225805,
          648.9032258064517,
          916.4642857142856,
          3647.4838709677415,
          3964.233333333333,
          2323.7741935483873,
          1178.0666666666666,
          519.1935483870968,
          357.8387096774193,
          265.46666666666664,
          202.4838709677419,
          268.23333333333335,
          471.741935483871,
          672.1935483870968,
          1121.642857142857,
          2650.2903225806454,
          2322.1,
          1685.032258064516,
          934.1666666666665,
          488.22580645161287,
          351.35483870967744,
          276.1666666666667,
          225.19354838709683,
          213.36666666666667,
          349.5806451612903,
          535.483870967742,
          809.2758620689655,
          1382.516129032258,
          2367.5,
          2014.6774193548388,
          855.5,
          428.35483870967744,
          306.4193548387097,
          236.06666666666663,
          202.58064516129036,
          234.06666666666663,
          346.70967741935476,
          607.1612903225806,
          1839.892857142857,
          3127.322580645161,
          2959.633333333333,
          2363,
          1414,
          630.2903225806451,
          408.3225806451613,
          297.1666666666667,
          243.70967741935485,
          267.9,
          428.22580645161287,
          627.1612903225806,
          876.7857142857142,
          1249.258064516129,
          2753.2,
          1659.0645161290322,
          844.9,
          436.19354838709677,
          326.77419354838713,
          260.6666666666667,
          224.61290322580646,
          273.46666666666664,
          448.9677419354838,
          713.258064516129,
          1184.5357142857142,
          2628.4193548387093,
          2211.4,
          1294.967741935484,
          633.4333333333333,
          396.3225806451613,
          313.83870967741933,
          253.5,
          232.74193548387098,
          312.93333333333334,
          546.0322580645161,
          829.741935483871,
          1111.5862068965516,
          3101.1612903225805,
          4457.533333333334,
          2675.2903225806454,
          1435.6333333333334,
          690.2903225806451,
          431.0645161290323,
          298.6666666666667,
          276.7096774193548,
          328.5,
          407.1612903225807,
          709.7096774193549,
          1219.857142857143,
          2294.6451612903224,
          2759.6,
          1678.1290322580646,
          814.9666666666667,
          449.5483870967742,
          319.54838709677415,
          259.7,
          204.70967741935485,
          238.96666666666667,
          337.741935483871,
          477.22580645161287,
          667.0357142857142,
          974.741935483871,
          1833.166666666667,
          1558.2580645161293,
          646.7666666666668,
          373.51612903225805,
          281.1290322580645,
          213.66666666666663,
          195.90322580645162,
          231.46666666666667,
          316.16129032258067,
          471.5483870967742,
          614.4642857142858,
          952.483870967742,
          1630.5666666666666,
          1604.8064516129032,
          992.2666666666668,
          465.4193548387097,
          325.0967741935484,
          240.9,
          189.41935483870967,
          216.4333333333333,
          386.1612903225807,
          710.3225806451613,
          1335.8965517241381,
          2103.6774193548385,
          2436.733333333333,
          1949.0967741935485,
          889.7333333333332,
          426.483870967742,
          297.54838709677415,
          220.8,
          194.61290322580646,
          233.76666666666668,
          402.3225806451613,
          557.3548387096773,
          907.5,
          2555.0967741935488,
          3187.666666666666,
          1958.032258064516,
          922.7,
          469.3225806451613,
          334.96774193548384,
          247.9333333333333,
          205.61290322580646,
          238.33333333333331,
          393.4193548387097,
          730.2258064516128,
          971,
          1110.967741935484,
          1378,
          1438.9354838709678,
          820.7666666666668,
          399.741935483871,
          289.3870967741936,
          218.56666666666663,
          195.25806451612902,
          208.86666666666667,
          374.19354838709677,
          584.8387096774194,
          822.8571428571429,
          2081,
          4281.9,
          3125.2580645161293,
          1609.2333333333331,
          762.741935483871,
          448.8387096774193,
          327.43333333333334,
          274.4193548387097,
          280.73333333333335,
          399.90322580645164,
          687.0322580645161,
          1471.2413793103449,
          5741.741935483871,
          5018,
          3176.5161290322585,
          1756.3666666666666,
          852.8709677419354,
          477,
          336,
          292.2903225806452,
          348.3,
          400.51612903225805,
          445.5483870967742,
          520.8214285714286,
          703.4516129032259,
          862.2333333333332,
          709.9354838709677,
          410.23333333333335,
          323.77419354838713,
          262.7096774193548,
          213.6,
          174.90322580645162,
          194.6,
          317.48387096774195,
          574.9677419354839,
          2308.142857142857,
          4350.645161290323,
          3698.066666666666,
          2564.0967741935488,
          1209.1333333333334,
          551.3548387096773,
          368.38709677419365,
          259.96666666666664,
          204.93548387096772,
          227.36666666666667,
          373.38709677419365,
          588.516129032258,
          916.2857142857144,
          3566.1290322580644,
          3025.0333333333333,
          2565.903225806452,
          1637.533333333333,
          782.0322580645161,
          458.9677419354838,
          325.6666666666667,
          282.48387096774195,
          342.76666666666665,
          600.9677419354839,
          1656.451612903226,
          3599.2758620689656,
          5569.967741935483,
          3427.166666666666,
          1736.0645161290322,
          837.8333333333335,
          484.6774193548387,
          364.64516129032256,
          285.2,
          237.4838709677419,
          323.23333333333335,
          429.38709677419365,
          609.0645161290323,
          964.2142857142856,
          4101.83870967742,
          4584.266666666666,
          3191.8064516129034,
          1759.1333333333334,
          812.8064516129033,
          470.0322580645162,
          331.8333333333333,
          270.61290322580646,
          291.6666666666667,
          507.1290322580645,
          779.0967741935484,
          1048.7857142857142,
          2090.870967741936,
          3464.166666666666,
          2306.483870967742,
          1203.8666666666666,
          586.1612903225806,
          406.1290322580645,
          301.2,
          228.61290322580646,
          255.5,
          474.6774193548387,
          918.2903225806452,
          1997.892857142857,
          2971.677419354838,
          3314.4,
          2351,
          1491.166666666667,
          729.1612903225806,
          449.5483870967742,
          332.43333333333334,
          267.67741935483866,
          300.5,
          422.0645161290323,
          651.6451612903227,
          1106.5517241379312,
          3883.322580645162,
          4063.7,
          5181.83870967742,
          2822,
          1321.516129032258,
          659.4516129032259,
          427.4333333333333,
          329.96774193548384,
          376.13333333333327,
          541.6774193548387,
          642.0645161290323,
          937.8928571428572,
          7260.548387096775,
          3648,
          2039.548387096774,
          1075.0666666666666,
          591.741935483871,
          418.9354838709677,
          320.6,
          295.77419354838713,
          335.76666666666665,
          552.3225806451613,
          1646.225806451613,
          8630.107142857143,
          7995.387096774193,
          4178.9,
          2192.322580645161,
          1108.3,
          656.8387096774194,
          509.5483870967742,
          408.73333333333335,
          348.5483870967742,
          408.76666666666665,
          678.8387096774194,
          857.483870967742,
          1025.142857142857,
          2694.4193548387093,
          3163.766666666667,
          1886.967741935484,
          1003.9666666666667,
          520.9354838709677,
          381.29032258064524,
          283.3666666666667,
          210.45161290322582,
          238.53333333333333,
          396.64516129032256,
          588.4193548387096,
          811.4827586206897,
          2441.3548387096776,
          4072.1,
          2236.2903225806454,
          1287.3,
          643.3225806451613,
          409.35483870967744,
          295.2,
          220.58064516129036,
          289.46666666666664,
          393.0645161290323,
          595.6129032258065,
          890.3928571428571,
          2621.8387096774195,
          5657.0666666666675,
          3373.451612903226,
          1823.8666666666666,
          944.4193548387095,
          522.1935483870968,
          367.4666666666666,
          277.64516129032256,
          336.8666666666667,
          490.09677419354836,
          876.741935483871,
          1967.7142857142856,
          4357.419354838709,
          5234.833333333333,
          3461.225806451613,
          1877.833333333333,
          949.483870967742,
          555.7096774193549,
          410.8,
          313.06451612903226,
          348.4,
          741.9677419354839,
          1688.1935483870968,
          4062.321428571429,
          6540.258064516129,
          5356.666666666667,
          3024,
          1532.166666666667,
          831.6774193548387,
          544.3870967741935,
          421.16666666666674,
          359,
          469.36666666666673,
          803.1290322580646,
          1002.258064516129,
          1329.8620689655172,
          2236.2580645161293,
          2274.8,
          1689.3225806451612,
          834,
          505.4516129032258,
          404.29032258064524,
          326.03333333333336,
          274.03225806451616,
          330.26666666666665,
          466.9354838709677,
          690,
          1052.7142857142858,
          2318.322580645161,
          2552.433333333333,
          1803.225806451613,
          926.1666666666665,
          513.741935483871,
          390.4193548387097,
          315.8666666666667,
          268.61290322580646,
          286.8333333333333,
          436.3225806451613,
          620.6129032258065,
          991.8571428571428,
          2806.1290322580644,
          4140.433333333333,
          2306.903225806452,
          1258.5666666666666,
          633.9354838709677,
          436.5806451612903,
          346.76666666666665,
          279.48387096774195,
          287.8,
          372.0645161290323,
          544.0645161290323,
          783.8571428571429,
          1145.8387096774193,
          2745.1,
          2443.0967741935488,
          1582.033333333333,
          769.1935483870967,
          441.80645161290323,
          326.93333333333334,
          277.80645161290323,
          378.4333333333333,
          566.1290322580645,
          1700.0645161290322,
          4719.379310344828,
          4205.129032258064,
          4707.866666666667,
          2634.4193548387093,
          1426.7,
          781.4193548387095,
          516.4516129032259,
          397.63333333333327,
          305.51612903225805,
          356.4,
          554.0322580645161,
          790.1935483870967,
          1755.25,
          6893.096774193548,
          7422.7,
          3738.806451612904,
          1862.966666666667,
          1015.483870967742,
          637.9354838709677,
          469.06666666666666,
          437.09677419354836,
          525.9333333333333,
          775.6129032258065,
          1226.225806451613,
          2996.8214285714284,
          4635.903225806452,
          3484.233333333333,
          1987.8064516129032,
          1056.5333333333333,
          619.516129032258,
          470.80645161290323,
          374.9,
          326.35483870967744,
          378.73333333333335,
          550.0967741935483,
          850.483870967742,
          1385.392857142857,
          2781.1290322580644,
          2570.3,
          1688.2580645161293,
          1038.6333333333334,
          589.483870967742,
          436.483870967742,
          353.2,
          292.35483870967744,
          344.36666666666673,
          447.90322580645164,
          718.7741935483872,
          829.7586206896551,
          989.9354838709676,
          1573.6,
          1699.032258064516,
          1154.3,
          582.8709677419355,
          415.4193548387097,
          325.26666666666665,
          285.48387096774195,
          310.23333333333335,
          387.1290322580645,
          526.9677419354839,
          703.8214285714287,
          894.9677419354839,
          1145.4,
          1110.516129032258,
          631.5,
          403.5483870967742,
          316.741935483871,
          248.96666666666667,
          232.90322580645162,
          278.73333333333335,
          525.5483870967741,
          909.0967741935484,
          1768.892857142857,
          2613.903225806452,
          2300.7,
          2288.8064516129034,
          1301.5333333333333,
          551.6451612903227,
          381.6129032258065,
          298.96666666666664,
          234.1290322580645,
          283.8333333333333,
          510.8387096774193,
          911.6774193548387,
          2641.8214285714284,
          4019.2903225806454,
          4807.266666666666,
          2846.2903225806454,
          1467.2666666666669,
          735.3548387096774,
          472,
          335.73333333333335,
          265.5806451612903,
          262.93333333333334,
          400.483870967742,
          602.4193548387096,
          877.8965517241379,
          3622.064516129032,
          4745.8,
          3830.2903225806454,
          2140.233333333333,
          1034.3548387096773,
          541.2258064516128,
          403,
          379.51612903225805,
          378.4333333333333,
          470.5483870967742,
          691.5483870967741,
          1043.75,
          2081.4193548387093,
          2609.866666666667,
          2665.0967741935488,
          1634.5666666666666,
          781.2258064516128,
          492.483870967742,
          373.63333333333327,
          309.1935483870968,
          303.6666666666667,
          529.1612903225806,
          983.3548387096774,
          1475.2142857142858,
          3519.4193548387098,
          6021.133333333332,
          4600.258064516129,
          2476.4,
          1217.967741935484,
          676.483870967742,
          490.5,
          416.8387096774193,
          519.1333333333333,
          698.8709677419354,
          939.3548387096774,
          1466.392857142857,
          2786.3870967741937,
          4659.033333333334,
          3071.0967741935488,
          1526.7,
          787.9677419354839,
          521,
          401.16666666666674,
          339.06451612903226,
          441.73333333333335,
          709.7096774193549,
          1379.7096774193549,
          2260.3793103448274,
          2590.935483870968,
          2941.3,
          2278.1290322580644,
          1277.4666666666667,
          652.8387096774194,
          466.29032258064524,
          360.86666666666673,
          302.8709677419355,
          374.8,
          515.1935483870968,
          744.0967741935484,
          1071.357142857143,
          2109.0967741935488,
          3166.6,
          2733.8064516129034,
          1366.5666666666666,
          648.258064516129,
          450.80645161290323,
          345.7,
          268.32258064516134,
          281.26666666666665,
          373.90322580645164,
          484.51612903225805,
          631.7142857142858,
          811.7741935483872,
          1277.9666666666667,
          1132.3870967741937,
          729.7333333333332,
          450.70967741935476,
          350.9677419354838,
          281.26666666666665,
          269.3870967741936,
          338.9,
          525.1935483870968,
          701.9354838709677,
          842.5357142857142,
          1040.451612903226,
          1084.1,
          968.258064516129,
          555.4333333333333,
          391.80645161290323,
          315,
          250.36666666666667,
          224.74193548387098,
          270.3,
          391.9354838709677,
          540.1290322580645,
          737.9655172413792,
          1313.0645161290322,
          1677.9333333333334,
          1224.548387096774,
          586.7666666666668,
          363,
          283.7096774193548,
          230.2333333333333,
          210.80645161290326,
          261.2,
          376,
          554.2903225806451,
          798.8214285714287,
          1044,
          1648.1,
          1781.967741935484,
          1018.1,
          469.22580645161287,
          334.22580645161287,
          252.9333333333333,
          211.7741935483871,
          223.2333333333333,
          305.80645161290323,
          421.5806451612903,
          621.0714285714286,
          896.7741935483872,
          2171.0666666666666,
          2029.290322580645,
          1040.1666666666667,
          469.51612903225805,
          339.2903225806452,
          268.23333333333335,
          285.32258064516134,
          411.9333333333333,
          571.741935483871,
          718.7741935483872,
          888.6428571428571,
          1500.2903225806451,
          1925.3,
          1427,
          763.3666666666667,
          438.4516129032258,
          339.64516129032256,
          264.73333333333335,
          236.38709677419357,
          244.2333333333333,
          364.1290322580645,
          455.77419354838713,
          817.7241379310345,
          1109.6774193548388,
          2057.5333333333333,
          1872.483870967742,
          1041.3333333333333,
          487.5806451612903,
          343.4193548387097,
          272.76666666666665,
          229.2258064516129,
          287.26666666666665,
          406.9677419354838,
          590.9032258064517,
          1298.3214285714287,
          3122.677419354838,
          3321.266666666667,
          3312.3870967741937,
          1833.5666666666666,
          799.9677419354839,
          428.29032258064524,
          312.3333333333333,
          265.96774193548384,
          242.1,
          290.48387096774195,
          501.258064516129,
          703.1428571428571,
          853.9354838709677,
          900.3,
          984.032258064516,
          747.5333333333333,
          405.8387096774193,
          306.9032258064516,
          232.36666666666667,
          212.54838709677418,
          214.1,
          319.258064516129,
          511.741935483871,
          938.75,
          2139.387096774193,
          1889.966666666667,
          1478.483870967742,
          687.8666666666667,
          369.35483870967744,
          283.258064516129,
          221.4333333333333,
          200.96774193548384,
          261.3,
          434.8709677419355,
          538.3225806451613,
          659.5517241379309,
          845.3870967741935,
          838,
          756.8064516129033,
          446.5,
          322.45161290322585,
          253.4838709677419,
          197.96666666666667,
          172.54838709677418,
          202.9,
          288.6129032258065,
          409.6774193548387,
          734.6785714285713,
          1185.516129032258,
          2885.8,
          2473,
          1166.3666666666666,
          458.51612903225805,
          299.67741935483866,
          219.96666666666667,
          188.06451612903226,
          223.83333333333331,
          312.9032258064516,
          519.9677419354839,
          840.4285714285713,
          1511.6129032258066,
          1541.466666666667,
          741.3870967741935,
          359.9333333333333,
          277.741935483871,
          226.83870967741936,
          181.5,
          155.58064516129033,
          170.63333333333333,
          233.03225806451616,
          329.93548387096774,
          458.57142857142856,
          730.8387096774194,
          1174.8,
          757.5483870967741,
          326.73333333333335,
          243.7741935483871,
          198.93548387096772,
          152.73333333333332,
          121.61290322580645,
          153.83333333333334,
          233.25806451612902,
          369.4193548387097,
          451.7241379310345,
          588.1612903225806,
          758.7666666666668,
          685.8709677419355,
          345.13333333333327,
          254.38709677419357,
          204,
          157.73333333333332,
          117.12903225806451,
          156.7,
          229.5161290322581,
          410.1290322580645,
          694.25,
          890.9032258064516,
          1253.3,
          1315,
          734.4333333333333,
          347.3870967741936,
          242.09677419354838,
          194.2333333333333,
          168.29032258064515,
          181.63333333333333,
          297.22580645161287,
          565.258064516129,
          1152.9642857142858,
          2611.516129032258,
          3313.4,
          2518,
          1192.7333333333333,
          513.9354838709677,
          353.1612903225807,
          248.5,
          195.70967741935485,
          195.7,
          342.64516129032256,
          570.6774193548387,
          987.5,
          2292.1290322580644,
          2972.633333333333,
          2725.451612903226,
          1314.2666666666667,
          508.29032258064524,
          334.64516129032256,
          232.63333333333333,
          196.29032258064515,
          205.13333333333333,
          309.2903225806452,
          457.64516129032256,
          690.6896551724138,
          1247.5806451612902,
          3047.8,
          2132.903225806452,
          1062.7666666666667,
          448.22580645161287,
          299.06451612903226,
          223.33333333333331,
          162.29032258064515,
          170.93333333333334,
          339.4193548387097,
          605.0322580645161,
          1135.5714285714287,
          2909.3870967741937,
          3284.9666666666667,
          3005.2903225806454,
          1623.666666666667,
          687.8387096774194,
          397.29032258064524,
          287.8333333333333,
          210.32258064516128,
          283.23333333333335,
          420.0645161290323,
          548.0322580645161,
          709.4642857142858,
          1241.774193548387,
          1785.1,
          1934.225806451613,
          1271.1333333333334,
          543.1290322580645,
          343.9677419354838,
          251.9333333333333,
          205.64516129032262,
          212.96666666666667,
          307.51612903225805,
          551.483870967742,
          887.5714285714287,
          1523.2580645161293,
          2915.3,
          3122.193548387097,
          1757.1333333333334,
          729.2258064516128,
          401.0322580645162,
          271.7,
          205.96774193548384,
          220.8,
          342.6129032258065,
          600.1612903225806,
          1061.5517241379312,
          3066.7741935483873,
          3990.6,
          3163.2580645161293,
          1775.4333333333334,
          718.516129032258,
          402.8387096774193,
          277.8666666666667,
          215.25806451612902,
          236.86666666666667,
          341.83870967741933,
          528.3548387096773,
          806.3571428571429,
          1184.741935483871,
          1239.8666666666666,
          1269.774193548387,
          812.9666666666667,
          424.5806451612903,
          305.7096774193548,
          230.5,
          170.03225806451613,
          211.3,
          336.6129032258065,
          601.516129032258,
          971.5,
          1610.967741935484,
          2587.1,
          2370.483870967742,
          1497.6,
          592,
          349.4193548387097,
          246.63333333333333,
          218.29032258064515,
          265.46666666666664,
          439.0322580645162,
          811.9354838709677,
          3307.785714285714,
          3978.096774193548,
          3291.133333333333,
          2503.4193548387093,
          1404.6,
          680.1935483870968,
          431.4193548387097,
          315.23333333333335,
          259.80645161290323,
          279.1,
          501.1612903225807,
          1204.4193548387098,
          2523.1379310344832,
          2939.6129032258063,
          3033.4666666666667,
          2374.8064516129034,
          1336.9666666666667,
          573.0967741935483,
          373.0645161290323,
          274.1333333333333,
          195.90322580645162,
          264.5,
          522.0645161290323,
          895.4516129032259,
          1607.5,
          4706.903225806452,
          4503.9,
          2604.967741935484,
          1450.4333333333334,
          642.3225806451613,
          398.90322580645164,
          282.2,
          222.67741935483872,
          290.43333333333334,
          466.8387096774193,
          788.0645161290323,
          1646,
          4335.935483870968,
          4639.466666666666,
          3824.548387096774,
          2130.6666666666665,
          1011.6451612903226,
          532.4193548387096,
          354.6,
          250.58064516129036,
          262.06666666666666,
          453.77419354838713,
          1273.548387096774,
          2841.964285714286,
          3835.4193548387098,
          4196.333333333333,
          3545.709677419354,
          1905.2,
          875.1290322580646,
          500.0322580645162,
          354.7,
          274.741935483871,
          297.4,
          504.35483870967744,
          838.8387096774194,
          1581.3793103448277,
          2339.7096774193546,
          3195.5333333333333,
          2800.3870967741937,
          1426.5666666666666,
          602.5483870967741,
          403.64516129032256,
          291.8666666666667,
          236.4838709677419,
          292.7,
          501.1612903225807,
          1223.967741935484,
          3129.857142857143,
          3378.8064516129034,
          3030.166666666666,
          2273.193548387097,
          1003.7333333333332,
          499.22580645161287,
          354.6774193548387,
          264.6333333333333,
          209.45161290322582,
          248.9333333333333,
          544.5806451612904,
          804.741935483871,
          1419.607142857143,
          2362.6451612903224,
          3451.0333333333333,
          3225,
          2076.133333333333,
          961.2903225806452,
          483.6129032258065,
          330.96666666666664,
          252.1290322580645,
          266.53333333333336,
          389.4193548387097,
          601.6774193548387,
          863.5,
          1149.1290322580646,
          1333.2,
          1414.1935483870968,
          1045.2333333333333,
          497.6774193548387,
          332.83870967741933,
          239.96666666666667,
          194.7741935483871,
          203.8,
          302.96774193548384,
          491.1612903225807,
          847.4137931034481,
          2420.935483870968,
          2933.2,
          2458.935483870968,
          1241.4333333333334,
          500.483870967742,
          331.83870967741933,
          241.5,
          186.96774193548384,
          186.8,
          369.483870967742,
          851.516129032258,
          1237.25,
          2422.193548387097,
          3418.366666666667,
          2195.3548387096776,
          1118.8333333333333,
          482.70967741935476,
          318.1290322580645,
          223.9333333333333
         ]
        }
       ],
       "layout": {
        "autosize": true,
        "plot_bgcolor": "white",
        "template": {
         "data": {
          "bar": [
           {
            "error_x": {
             "color": "#2a3f5f"
            },
            "error_y": {
             "color": "#2a3f5f"
            },
            "marker": {
             "line": {
              "color": "#E5ECF6",
              "width": 0.5
             }
            },
            "type": "bar"
           }
          ],
          "barpolar": [
           {
            "marker": {
             "line": {
              "color": "#E5ECF6",
              "width": 0.5
             }
            },
            "type": "barpolar"
           }
          ],
          "carpet": [
           {
            "aaxis": {
             "endlinecolor": "#2a3f5f",
             "gridcolor": "white",
             "linecolor": "white",
             "minorgridcolor": "white",
             "startlinecolor": "#2a3f5f"
            },
            "baxis": {
             "endlinecolor": "#2a3f5f",
             "gridcolor": "white",
             "linecolor": "white",
             "minorgridcolor": "white",
             "startlinecolor": "#2a3f5f"
            },
            "type": "carpet"
           }
          ],
          "choropleth": [
           {
            "colorbar": {
             "outlinewidth": 0,
             "ticks": ""
            },
            "type": "choropleth"
           }
          ],
          "contour": [
           {
            "colorbar": {
             "outlinewidth": 0,
             "ticks": ""
            },
            "colorscale": [
             [
              0,
              "#0d0887"
             ],
             [
              0.1111111111111111,
              "#46039f"
             ],
             [
              0.2222222222222222,
              "#7201a8"
             ],
             [
              0.3333333333333333,
              "#9c179e"
             ],
             [
              0.4444444444444444,
              "#bd3786"
             ],
             [
              0.5555555555555556,
              "#d8576b"
             ],
             [
              0.6666666666666666,
              "#ed7953"
             ],
             [
              0.7777777777777778,
              "#fb9f3a"
             ],
             [
              0.8888888888888888,
              "#fdca26"
             ],
             [
              1,
              "#f0f921"
             ]
            ],
            "type": "contour"
           }
          ],
          "contourcarpet": [
           {
            "colorbar": {
             "outlinewidth": 0,
             "ticks": ""
            },
            "type": "contourcarpet"
           }
          ],
          "heatmap": [
           {
            "colorbar": {
             "outlinewidth": 0,
             "ticks": ""
            },
            "colorscale": [
             [
              0,
              "#0d0887"
             ],
             [
              0.1111111111111111,
              "#46039f"
             ],
             [
              0.2222222222222222,
              "#7201a8"
             ],
             [
              0.3333333333333333,
              "#9c179e"
             ],
             [
              0.4444444444444444,
              "#bd3786"
             ],
             [
              0.5555555555555556,
              "#d8576b"
             ],
             [
              0.6666666666666666,
              "#ed7953"
             ],
             [
              0.7777777777777778,
              "#fb9f3a"
             ],
             [
              0.8888888888888888,
              "#fdca26"
             ],
             [
              1,
              "#f0f921"
             ]
            ],
            "type": "heatmap"
           }
          ],
          "heatmapgl": [
           {
            "colorbar": {
             "outlinewidth": 0,
             "ticks": ""
            },
            "colorscale": [
             [
              0,
              "#0d0887"
             ],
             [
              0.1111111111111111,
              "#46039f"
             ],
             [
              0.2222222222222222,
              "#7201a8"
             ],
             [
              0.3333333333333333,
              "#9c179e"
             ],
             [
              0.4444444444444444,
              "#bd3786"
             ],
             [
              0.5555555555555556,
              "#d8576b"
             ],
             [
              0.6666666666666666,
              "#ed7953"
             ],
             [
              0.7777777777777778,
              "#fb9f3a"
             ],
             [
              0.8888888888888888,
              "#fdca26"
             ],
             [
              1,
              "#f0f921"
             ]
            ],
            "type": "heatmapgl"
           }
          ],
          "histogram": [
           {
            "marker": {
             "colorbar": {
              "outlinewidth": 0,
              "ticks": ""
             }
            },
            "type": "histogram"
           }
          ],
          "histogram2d": [
           {
            "colorbar": {
             "outlinewidth": 0,
             "ticks": ""
            },
            "colorscale": [
             [
              0,
              "#0d0887"
             ],
             [
              0.1111111111111111,
              "#46039f"
             ],
             [
              0.2222222222222222,
              "#7201a8"
             ],
             [
              0.3333333333333333,
              "#9c179e"
             ],
             [
              0.4444444444444444,
              "#bd3786"
             ],
             [
              0.5555555555555556,
              "#d8576b"
             ],
             [
              0.6666666666666666,
              "#ed7953"
             ],
             [
              0.7777777777777778,
              "#fb9f3a"
             ],
             [
              0.8888888888888888,
              "#fdca26"
             ],
             [
              1,
              "#f0f921"
             ]
            ],
            "type": "histogram2d"
           }
          ],
          "histogram2dcontour": [
           {
            "colorbar": {
             "outlinewidth": 0,
             "ticks": ""
            },
            "colorscale": [
             [
              0,
              "#0d0887"
             ],
             [
              0.1111111111111111,
              "#46039f"
             ],
             [
              0.2222222222222222,
              "#7201a8"
             ],
             [
              0.3333333333333333,
              "#9c179e"
             ],
             [
              0.4444444444444444,
              "#bd3786"
             ],
             [
              0.5555555555555556,
              "#d8576b"
             ],
             [
              0.6666666666666666,
              "#ed7953"
             ],
             [
              0.7777777777777778,
              "#fb9f3a"
             ],
             [
              0.8888888888888888,
              "#fdca26"
             ],
             [
              1,
              "#f0f921"
             ]
            ],
            "type": "histogram2dcontour"
           }
          ],
          "mesh3d": [
           {
            "colorbar": {
             "outlinewidth": 0,
             "ticks": ""
            },
            "type": "mesh3d"
           }
          ],
          "parcoords": [
           {
            "line": {
             "colorbar": {
              "outlinewidth": 0,
              "ticks": ""
             }
            },
            "type": "parcoords"
           }
          ],
          "pie": [
           {
            "automargin": true,
            "type": "pie"
           }
          ],
          "scatter": [
           {
            "marker": {
             "colorbar": {
              "outlinewidth": 0,
              "ticks": ""
             }
            },
            "type": "scatter"
           }
          ],
          "scatter3d": [
           {
            "line": {
             "colorbar": {
              "outlinewidth": 0,
              "ticks": ""
             }
            },
            "marker": {
             "colorbar": {
              "outlinewidth": 0,
              "ticks": ""
             }
            },
            "type": "scatter3d"
           }
          ],
          "scattercarpet": [
           {
            "marker": {
             "colorbar": {
              "outlinewidth": 0,
              "ticks": ""
             }
            },
            "type": "scattercarpet"
           }
          ],
          "scattergeo": [
           {
            "marker": {
             "colorbar": {
              "outlinewidth": 0,
              "ticks": ""
             }
            },
            "type": "scattergeo"
           }
          ],
          "scattergl": [
           {
            "marker": {
             "colorbar": {
              "outlinewidth": 0,
              "ticks": ""
             }
            },
            "type": "scattergl"
           }
          ],
          "scattermapbox": [
           {
            "marker": {
             "colorbar": {
              "outlinewidth": 0,
              "ticks": ""
             }
            },
            "type": "scattermapbox"
           }
          ],
          "scatterpolar": [
           {
            "marker": {
             "colorbar": {
              "outlinewidth": 0,
              "ticks": ""
             }
            },
            "type": "scatterpolar"
           }
          ],
          "scatterpolargl": [
           {
            "marker": {
             "colorbar": {
              "outlinewidth": 0,
              "ticks": ""
             }
            },
            "type": "scatterpolargl"
           }
          ],
          "scatterternary": [
           {
            "marker": {
             "colorbar": {
              "outlinewidth": 0,
              "ticks": ""
             }
            },
            "type": "scatterternary"
           }
          ],
          "surface": [
           {
            "colorbar": {
             "outlinewidth": 0,
             "ticks": ""
            },
            "colorscale": [
             [
              0,
              "#0d0887"
             ],
             [
              0.1111111111111111,
              "#46039f"
             ],
             [
              0.2222222222222222,
              "#7201a8"
             ],
             [
              0.3333333333333333,
              "#9c179e"
             ],
             [
              0.4444444444444444,
              "#bd3786"
             ],
             [
              0.5555555555555556,
              "#d8576b"
             ],
             [
              0.6666666666666666,
              "#ed7953"
             ],
             [
              0.7777777777777778,
              "#fb9f3a"
             ],
             [
              0.8888888888888888,
              "#fdca26"
             ],
             [
              1,
              "#f0f921"
             ]
            ],
            "type": "surface"
           }
          ],
          "table": [
           {
            "cells": {
             "fill": {
              "color": "#EBF0F8"
             },
             "line": {
              "color": "white"
             }
            },
            "header": {
             "fill": {
              "color": "#C8D4E3"
             },
             "line": {
              "color": "white"
             }
            },
            "type": "table"
           }
          ]
         },
         "layout": {
          "annotationdefaults": {
           "arrowcolor": "#2a3f5f",
           "arrowhead": 0,
           "arrowwidth": 1
          },
          "coloraxis": {
           "colorbar": {
            "outlinewidth": 0,
            "ticks": ""
           }
          },
          "colorscale": {
           "diverging": [
            [
             0,
             "#8e0152"
            ],
            [
             0.1,
             "#c51b7d"
            ],
            [
             0.2,
             "#de77ae"
            ],
            [
             0.3,
             "#f1b6da"
            ],
            [
             0.4,
             "#fde0ef"
            ],
            [
             0.5,
             "#f7f7f7"
            ],
            [
             0.6,
             "#e6f5d0"
            ],
            [
             0.7,
             "#b8e186"
            ],
            [
             0.8,
             "#7fbc41"
            ],
            [
             0.9,
             "#4d9221"
            ],
            [
             1,
             "#276419"
            ]
           ],
           "sequential": [
            [
             0,
             "#0d0887"
            ],
            [
             0.1111111111111111,
             "#46039f"
            ],
            [
             0.2222222222222222,
             "#7201a8"
            ],
            [
             0.3333333333333333,
             "#9c179e"
            ],
            [
             0.4444444444444444,
             "#bd3786"
            ],
            [
             0.5555555555555556,
             "#d8576b"
            ],
            [
             0.6666666666666666,
             "#ed7953"
            ],
            [
             0.7777777777777778,
             "#fb9f3a"
            ],
            [
             0.8888888888888888,
             "#fdca26"
            ],
            [
             1,
             "#f0f921"
            ]
           ],
           "sequentialminus": [
            [
             0,
             "#0d0887"
            ],
            [
             0.1111111111111111,
             "#46039f"
            ],
            [
             0.2222222222222222,
             "#7201a8"
            ],
            [
             0.3333333333333333,
             "#9c179e"
            ],
            [
             0.4444444444444444,
             "#bd3786"
            ],
            [
             0.5555555555555556,
             "#d8576b"
            ],
            [
             0.6666666666666666,
             "#ed7953"
            ],
            [
             0.7777777777777778,
             "#fb9f3a"
            ],
            [
             0.8888888888888888,
             "#fdca26"
            ],
            [
             1,
             "#f0f921"
            ]
           ]
          },
          "colorway": [
           "#636efa",
           "#EF553B",
           "#00cc96",
           "#ab63fa",
           "#FFA15A",
           "#19d3f3",
           "#FF6692",
           "#B6E880",
           "#FF97FF",
           "#FECB52"
          ],
          "font": {
           "color": "#2a3f5f"
          },
          "geo": {
           "bgcolor": "white",
           "lakecolor": "white",
           "landcolor": "#E5ECF6",
           "showlakes": true,
           "showland": true,
           "subunitcolor": "white"
          },
          "hoverlabel": {
           "align": "left"
          },
          "hovermode": "closest",
          "mapbox": {
           "style": "light"
          },
          "paper_bgcolor": "white",
          "plot_bgcolor": "#E5ECF6",
          "polar": {
           "angularaxis": {
            "gridcolor": "white",
            "linecolor": "white",
            "ticks": ""
           },
           "bgcolor": "#E5ECF6",
           "radialaxis": {
            "gridcolor": "white",
            "linecolor": "white",
            "ticks": ""
           }
          },
          "scene": {
           "xaxis": {
            "backgroundcolor": "#E5ECF6",
            "gridcolor": "white",
            "gridwidth": 2,
            "linecolor": "white",
            "showbackground": true,
            "ticks": "",
            "zerolinecolor": "white"
           },
           "yaxis": {
            "backgroundcolor": "#E5ECF6",
            "gridcolor": "white",
            "gridwidth": 2,
            "linecolor": "white",
            "showbackground": true,
            "ticks": "",
            "zerolinecolor": "white"
           },
           "zaxis": {
            "backgroundcolor": "#E5ECF6",
            "gridcolor": "white",
            "gridwidth": 2,
            "linecolor": "white",
            "showbackground": true,
            "ticks": "",
            "zerolinecolor": "white"
           }
          },
          "shapedefaults": {
           "line": {
            "color": "#2a3f5f"
           }
          },
          "ternary": {
           "aaxis": {
            "gridcolor": "white",
            "linecolor": "white",
            "ticks": ""
           },
           "baxis": {
            "gridcolor": "white",
            "linecolor": "white",
            "ticks": ""
           },
           "bgcolor": "#E5ECF6",
           "caxis": {
            "gridcolor": "white",
            "linecolor": "white",
            "ticks": ""
           }
          },
          "title": {
           "x": 0.05
          },
          "xaxis": {
           "automargin": true,
           "gridcolor": "white",
           "linecolor": "white",
           "ticks": "",
           "title": {
            "standoff": 15
           },
           "zerolinecolor": "white",
           "zerolinewidth": 2
          },
          "yaxis": {
           "automargin": true,
           "gridcolor": "white",
           "linecolor": "white",
           "ticks": "",
           "title": {
            "standoff": 15
           },
           "zerolinecolor": "white",
           "zerolinewidth": 2
          }
         }
        },
        "title": {
         "text": "Monthly Flows"
        },
        "xaxis": {
         "autorange": true,
         "range": [
          "1924-10-01",
          "2017-09-01"
         ],
         "showgrid": false,
         "showline": false,
         "showticklabels": true,
         "ticks": "outside",
         "type": "date"
        },
        "yaxis": {
         "gridcolor": "rgb(204, 204, 204)",
         "range": [
          0,
          9000
         ],
         "separatethousands": true,
         "title": {
          "text": "Flow m³/s"
         },
         "type": "linear"
        }
       }
      },
      "image/png": "[encoded data removed]",
      "text/html": [
       "<div>\n",
       "        \n",
       "        \n",
       "            <div id=\"09729cfe-b0b7-42ff-8b74-04d0f289188f\" class=\"plotly-graph-div\" style=\"height:525px; width:100%;\"></div>\n",
       "            <script type=\"text/javascript\">\n",
       "                require([\"plotly\"], function(Plotly) {\n",
       "                    window.PLOTLYENV=window.PLOTLYENV || {};\n",
       "                    \n",
       "                if (document.getElementById(\"09729cfe-b0b7-42ff-8b74-04d0f289188f\")) {\n",
       "                    Plotly.newPlot(\n",
       "                        '09729cfe-b0b7-42ff-8b74-04d0f289188f',\n",
       "                        [{\"type\": \"scatter\", \"x\": [\"1924-10-01\", \"1924-11-01\", \"1924-12-01\", \"1925-01-01\", \"1925-02-01\", \"1925-03-01\", \"1925-04-01\", \"1925-05-01\", \"1925-06-01\", \"1925-07-01\", \"1925-08-01\", \"1925-09-01\", \"1925-10-01\", \"1925-11-01\", \"1925-12-01\", \"1926-01-01\", \"1926-02-01\", \"1926-03-01\", \"1926-04-01\", \"1926-05-01\", \"1926-06-01\", \"1926-07-01\", \"1926-08-01\", \"1926-09-01\", \"1926-10-01\", \"1926-11-01\", \"1926-12-01\", \"1927-01-01\", \"1927-02-01\", \"1927-03-01\", \"1927-04-01\", \"1927-05-01\", \"1927-06-01\", \"1927-07-01\", \"1927-08-01\", \"1927-09-01\", \"1927-10-01\", \"1927-11-01\", \"1927-12-01\", \"1928-01-01\", \"1928-02-01\", \"1928-03-01\", \"1928-04-01\", \"1928-05-01\", \"1928-06-01\", \"1928-07-01\", \"1928-08-01\", \"1928-09-01\", \"1928-10-01\", \"1928-11-01\", \"1928-12-01\", \"1929-01-01\", \"1929-02-01\", \"1929-03-01\", \"1929-04-01\", \"1929-05-01\", \"1929-06-01\", \"1929-07-01\", \"1929-08-01\", \"1929-09-01\", \"1929-10-01\", \"1929-11-01\", \"1929-12-01\", \"1930-01-01\", \"1930-02-01\", \"1930-03-01\", \"1930-04-01\", \"1930-05-01\", \"1930-06-01\", \"1930-07-01\", \"1930-08-01\", \"1930-09-01\", \"1930-10-01\", \"1930-11-01\", \"1930-12-01\", \"1931-01-01\", \"1931-02-01\", \"1931-03-01\", \"1931-04-01\", \"1931-05-01\", \"1931-06-01\", \"1931-07-01\", \"1931-08-01\", \"1931-09-01\", \"1931-10-01\", \"1931-11-01\", \"1931-12-01\", \"1932-01-01\", \"1932-02-01\", \"1932-03-01\", \"1932-04-01\", \"1932-05-01\", \"1932-06-01\", \"1932-07-01\", \"1932-08-01\", \"1932-09-01\", \"1932-10-01\", \"1932-11-01\", \"1932-12-01\", \"1933-01-01\", \"1933-02-01\", \"1933-03-01\", \"1933-04-01\", \"1933-05-01\", \"1933-06-01\", \"1933-07-01\", \"1933-08-01\", \"1933-09-01\", \"1933-10-01\", \"1933-11-01\", \"1933-12-01\", \"1934-01-01\", \"1934-02-01\", \"1934-03-01\", \"1934-04-01\", \"1934-05-01\", \"1934-06-01\", \"1934-07-01\", \"1934-08-01\", \"1934-09-01\", \"1934-10-01\", \"1934-11-01\", \"1934-12-01\", \"1935-01-01\", \"1935-02-01\", \"1935-03-01\", \"1935-04-01\", \"1935-05-01\", \"1935-06-01\", \"1935-07-01\", \"1935-08-01\", \"1935-09-01\", \"1935-10-01\", \"1935-11-01\", \"1935-12-01\", \"1936-01-01\", \"1936-02-01\", \"1936-03-01\", \"1936-04-01\", \"1936-05-01\", \"1936-06-01\", \"1936-07-01\", \"1936-08-01\", \"1936-09-01\", \"1936-10-01\", \"1936-11-01\", \"1936-12-01\", \"1937-01-01\", \"1937-02-01\", \"1937-03-01\", \"1937-04-01\", \"1937-05-01\", \"1937-06-01\", \"1937-07-01\", \"1937-08-01\", \"1937-09-01\", \"1937-10-01\", \"1937-11-01\", \"1937-12-01\", \"1938-01-01\", \"1938-02-01\", \"1938-03-01\", \"1938-04-01\", \"1938-05-01\", \"1938-06-01\", \"1938-07-01\", \"1938-08-01\", \"1938-09-01\", \"1938-10-01\", \"1938-11-01\", \"1938-12-01\", \"1939-01-01\", \"1939-02-01\", \"1939-03-01\", \"1939-04-01\", \"1939-05-01\", \"1939-06-01\", \"1939-07-01\", \"1939-08-01\", \"1939-09-01\", \"1939-10-01\", \"1939-11-01\", \"1939-12-01\", \"1940-01-01\", \"1940-02-01\", \"1940-03-01\", \"1940-04-01\", \"1940-05-01\", \"1940-06-01\", \"1940-07-01\", \"1940-08-01\", \"1940-09-01\", \"1940-10-01\", \"1940-11-01\", \"1940-12-01\", \"1941-01-01\", \"1941-02-01\", \"1941-03-01\", \"1941-04-01\", \"1941-05-01\", \"1941-06-01\", \"1941-07-01\", \"1941-08-01\", \"1941-09-01\", \"1941-10-01\", \"1941-11-01\", \"1941-12-01\", \"1942-01-01\", \"1942-02-01\", \"1942-03-01\", \"1942-04-01\", \"1942-05-01\", \"1942-06-01\", \"1942-07-01\", \"1942-08-01\", \"1942-09-01\", \"1942-10-01\", \"1942-11-01\", \"1942-12-01\", \"1943-01-01\", \"1943-02-01\", \"1943-03-01\", \"1943-04-01\", \"1943-05-01\", \"1943-06-01\", \"1943-07-01\", \"1943-08-01\", \"1943-09-01\", \"1943-10-01\", \"1943-11-01\", \"1943-12-01\", \"1944-01-01\", \"1944-02-01\", \"1944-03-01\", \"1944-04-01\", \"1944-05-01\", \"1944-06-01\", \"1944-07-01\", \"1944-08-01\", \"1944-09-01\", \"1944-10-01\", \"1944-11-01\", \"1944-12-01\", \"1945-01-01\", \"1945-02-01\", \"1945-03-01\", \"1945-04-01\", \"1945-05-01\", \"1945-06-01\", \"1945-07-01\", \"1945-08-01\", \"1945-09-01\", \"1945-10-01\", \"1945-11-01\", \"1945-12-01\", \"1946-01-01\", \"1946-02-01\", \"1946-03-01\", \"1946-04-01\", \"1946-05-01\", \"1946-06-01\", \"1946-07-01\", \"1946-08-01\", \"1946-09-01\", \"1946-10-01\", \"1946-11-01\", \"1946-12-01\", \"1947-01-01\", \"1947-02-01\", \"1947-03-01\", \"1947-04-01\", \"1947-05-01\", \"1947-06-01\", \"1947-07-01\", \"1947-08-01\", \"1947-09-01\", \"1947-10-01\", \"1947-11-01\", \"1947-12-01\", \"1948-01-01\", \"1948-02-01\", \"1948-03-01\", \"1948-04-01\", \"1948-05-01\", \"1948-06-01\", \"1948-07-01\", \"1948-08-01\", \"1948-09-01\", \"1948-10-01\", \"1948-11-01\", \"1948-12-01\", \"1949-01-01\", \"1949-02-01\", \"1949-03-01\", \"1949-04-01\", \"1949-05-01\", \"1949-06-01\", \"1949-07-01\", \"1949-08-01\", \"1949-09-01\", \"1949-10-01\", \"1949-11-01\", \"1949-12-01\", \"1950-01-01\", \"1950-02-01\", \"1950-03-01\", \"1950-04-01\", \"1950-05-01\", \"1950-06-01\", \"1950-07-01\", \"1950-08-01\", \"1950-09-01\", \"1950-10-01\", \"1950-11-01\", \"1950-12-01\", \"1951-01-01\", \"1951-02-01\", \"1951-03-01\", \"1951-04-01\", \"1951-05-01\", \"1951-06-01\", \"1951-07-01\", \"1951-08-01\", \"1951-09-01\", \"1951-10-01\", \"1951-11-01\", \"1951-12-01\", \"1952-01-01\", \"1952-02-01\", \"1952-03-01\", \"1952-04-01\", \"1952-05-01\", \"1952-06-01\", \"1952-07-01\", \"1952-08-01\", \"1952-09-01\", \"1952-10-01\", \"1952-11-01\", \"1952-12-01\", \"1953-01-01\", \"1953-02-01\", \"1953-03-01\", \"1953-04-01\", \"1953-05-01\", \"1953-06-01\", \"1953-07-01\", \"1953-08-01\", \"1953-09-01\", \"1953-10-01\", \"1953-11-01\", \"1953-12-01\", \"1954-01-01\", \"1954-02-01\", \"1954-03-01\", \"1954-04-01\", \"1954-05-01\", \"1954-06-01\", \"1954-07-01\", \"1954-08-01\", \"1954-09-01\", \"1954-10-01\", \"1954-11-01\", \"1954-12-01\", \"1955-01-01\", \"1955-02-01\", \"1955-03-01\", \"1955-04-01\", \"1955-05-01\", \"1955-06-01\", \"1955-07-01\", \"1955-08-01\", \"1955-09-01\", \"1955-10-01\", \"1955-11-01\", \"1955-12-01\", \"1956-01-01\", \"1956-02-01\", \"1956-03-01\", \"1956-04-01\", \"1956-05-01\", \"1956-06-01\", \"1956-07-01\", \"1956-08-01\", \"1956-09-01\", \"1956-10-01\", \"1956-11-01\", \"1956-12-01\", \"1957-01-01\", \"1957-02-01\", \"1957-03-01\", \"1957-04-01\", \"1957-05-01\", \"1957-06-01\", \"1957-07-01\", \"1957-08-01\", \"1957-09-01\", \"1957-10-01\", \"1957-11-01\", \"1957-12-01\", \"1958-01-01\", \"1958-02-01\", \"1958-03-01\", \"1958-04-01\", \"1958-05-01\", \"1958-06-01\", \"1958-07-01\", \"1958-08-01\", \"1958-09-01\", \"1958-10-01\", \"1958-11-01\", \"1958-12-01\", \"1959-01-01\", \"1959-02-01\", \"1959-03-01\", \"1959-04-01\", \"1959-05-01\", \"1959-06-01\", \"1959-07-01\", \"1959-08-01\", \"1959-09-01\", \"1959-10-01\", \"1959-11-01\", \"1959-12-01\", \"1960-01-01\", \"1960-02-01\", \"1960-03-01\", \"1960-04-01\", \"1960-05-01\", \"1960-06-01\", \"1960-07-01\", \"1960-08-01\", \"1960-09-01\", \"1960-10-01\", \"1960-11-01\", \"1960-12-01\", \"1961-01-01\", \"1961-02-01\", \"1961-03-01\", \"1961-04-01\", \"1961-05-01\", \"1961-06-01\", \"1961-07-01\", \"1961-08-01\", \"1961-09-01\", \"1961-10-01\", \"1961-11-01\", \"1961-12-01\", \"1962-01-01\", \"1962-02-01\", \"1962-03-01\", \"1962-04-01\", \"1962-05-01\", \"1962-06-01\", \"1962-07-01\", \"1962-08-01\", \"1962-09-01\", \"1962-10-01\", \"1962-11-01\", \"1962-12-01\", \"1963-01-01\", \"1963-02-01\", \"1963-03-01\", \"1963-04-01\", \"1963-05-01\", \"1963-06-01\", \"1963-07-01\", \"1963-08-01\", \"1963-09-01\", \"1963-10-01\", \"1963-11-01\", \"1963-12-01\", \"1964-01-01\", \"1964-02-01\", \"1964-03-01\", \"1964-04-01\", \"1964-05-01\", \"1964-06-01\", \"1964-07-01\", \"1964-08-01\", \"1964-09-01\", \"1964-10-01\", \"1964-11-01\", \"1964-12-01\", \"1965-01-01\", \"1965-02-01\", \"1965-03-01\", \"1965-04-01\", \"1965-05-01\", \"1965-06-01\", \"1965-07-01\", \"1965-08-01\", \"1965-09-01\", \"1965-10-01\", \"1965-11-01\", \"1965-12-01\", \"1966-01-01\", \"1966-02-01\", \"1966-03-01\", \"1966-04-01\", \"1966-05-01\", \"1966-06-01\", \"1966-07-01\", \"1966-08-01\", \"1966-09-01\", \"1966-10-01\", \"1966-11-01\", \"1966-12-01\", \"1967-01-01\", \"1967-02-01\", \"1967-03-01\", \"1967-04-01\", \"1967-05-01\", \"1967-06-01\", \"1967-07-01\", \"1967-08-01\", \"1967-09-01\", \"1967-10-01\", \"1967-11-01\", \"1967-12-01\", \"1968-01-01\", \"1968-02-01\", \"1968-03-01\", \"1968-04-01\", \"1968-05-01\", \"1968-06-01\", \"1968-07-01\", \"1968-08-01\", \"1968-09-01\", \"1968-10-01\", \"1968-11-01\", \"1968-12-01\", \"1969-01-01\", \"1969-02-01\", \"1969-03-01\", \"1969-04-01\", \"1969-05-01\", \"1969-06-01\", \"1969-07-01\", \"1969-08-01\", \"1969-09-01\", \"1969-10-01\", \"1969-11-01\", \"1969-12-01\", \"1970-01-01\", \"1970-02-01\", \"1970-03-01\", \"1970-04-01\", \"1970-05-01\", \"1970-06-01\", \"1970-07-01\", \"1970-08-01\", \"1970-09-01\", \"1970-10-01\", \"1970-11-01\", \"1970-12-01\", \"1971-01-01\", \"1971-02-01\", \"1971-03-01\", \"1971-04-01\", \"1971-05-01\", \"1971-06-01\", \"1971-07-01\", \"1971-08-01\", \"1971-09-01\", \"1971-10-01\", \"1971-11-01\", \"1971-12-01\", \"1972-01-01\", \"1972-02-01\", \"1972-03-01\", \"1972-04-01\", \"1972-05-01\", \"1972-06-01\", \"1972-07-01\", \"1972-08-01\", \"1972-09-01\", \"1972-10-01\", \"1972-11-01\", \"1972-12-01\", \"1973-01-01\", \"1973-02-01\", \"1973-03-01\", \"1973-04-01\", \"1973-05-01\", \"1973-06-01\", \"1973-07-01\", \"1973-08-01\", \"1973-09-01\", \"1973-10-01\", \"1973-11-01\", \"1973-12-01\", \"1974-01-01\", \"1974-02-01\", \"1974-03-01\", \"1974-04-01\", \"1974-05-01\", \"1974-06-01\", \"1974-07-01\", \"1974-08-01\", \"1974-09-01\", \"1974-10-01\", \"1974-11-01\", \"1974-12-01\", \"1975-01-01\", \"1975-02-01\", \"1975-03-01\", \"1975-04-01\", \"1975-05-01\", \"1975-06-01\", \"1975-07-01\", \"1975-08-01\", \"1975-09-01\", \"1975-10-01\", \"1975-11-01\", \"1975-12-01\", \"1976-01-01\", \"1976-02-01\", \"1976-03-01\", \"1976-04-01\", \"1976-05-01\", \"1976-06-01\", \"1976-07-01\", \"1976-08-01\", \"1976-09-01\", \"1976-10-01\", \"1976-11-01\", \"1976-12-01\", \"1977-01-01\", \"1977-02-01\", \"1977-03-01\", \"1977-04-01\", \"1977-05-01\", \"1977-06-01\", \"1977-07-01\", \"1977-08-01\", \"1977-09-01\", \"1977-10-01\", \"1977-11-01\", \"1977-12-01\", \"1978-01-01\", \"1978-02-01\", \"1978-03-01\", \"1978-04-01\", \"1978-05-01\", \"1978-06-01\", \"1978-07-01\", \"1978-08-01\", \"1978-09-01\", \"1978-10-01\", \"1978-11-01\", \"1978-12-01\", \"1979-01-01\", \"1979-02-01\", \"1979-03-01\", \"1979-04-01\", \"1979-05-01\", \"1979-06-01\", \"1979-07-01\", \"1979-08-01\", \"1979-09-01\", \"1979-10-01\", \"1979-11-01\", \"1979-12-01\", \"1980-01-01\", \"1980-02-01\", \"1980-03-01\", \"1980-04-01\", \"1980-05-01\", \"1980-06-01\", \"1980-07-01\", \"1980-08-01\", \"1980-09-01\", \"1980-10-01\", \"1980-11-01\", \"1980-12-01\", \"1981-01-01\", \"1981-02-01\", \"1981-03-01\", \"1981-04-01\", \"1981-05-01\", \"1981-06-01\", \"1981-07-01\", \"1981-08-01\", \"1981-09-01\", \"1981-10-01\", \"1981-11-01\", \"1981-12-01\", \"1982-01-01\", \"1982-02-01\", \"1982-03-01\", \"1982-04-01\", \"1982-05-01\", \"1982-06-01\", \"1982-07-01\", \"1982-08-01\", \"1982-09-01\", \"1982-10-01\", \"1982-11-01\", \"1982-12-01\", \"1983-01-01\", \"1983-02-01\", \"1983-03-01\", \"1983-04-01\", \"1983-05-01\", \"1983-06-01\", \"1983-07-01\", \"1983-08-01\", \"1983-09-01\", \"1983-10-01\", \"1983-11-01\", \"1983-12-01\", \"1984-01-01\", \"1984-02-01\", \"1984-03-01\", \"1984-04-01\", \"1984-05-01\", \"1984-06-01\", \"1984-07-01\", \"1984-08-01\", \"1984-09-01\", \"1984-10-01\", \"1984-11-01\", \"1984-12-01\", \"1985-01-01\", \"1985-02-01\", \"1985-03-01\", \"1985-04-01\", \"1985-05-01\", \"1985-06-01\", \"1985-07-01\", \"1985-08-01\", \"1985-09-01\", \"1985-10-01\", \"1985-11-01\", \"1985-12-01\", \"1986-01-01\", \"1986-02-01\", \"1986-03-01\", \"1986-04-01\", \"1986-05-01\", \"1986-06-01\", \"1986-07-01\", \"1986-08-01\", \"1986-09-01\", \"1986-10-01\", \"1986-11-01\", \"1986-12-01\", \"1987-01-01\", \"1987-02-01\", \"1987-03-01\", \"1987-04-01\", \"1987-05-01\", \"1987-06-01\", \"1987-07-01\", \"1987-08-01\", \"1987-09-01\", \"1987-10-01\", \"1987-11-01\", \"1987-12-01\", \"1988-01-01\", \"1988-02-01\", \"1988-03-01\", \"1988-04-01\", \"1988-05-01\", \"1988-06-01\", \"1988-07-01\", \"1988-08-01\", \"1988-09-01\", \"1988-10-01\", \"1988-11-01\", \"1988-12-01\", \"1989-01-01\", \"1989-02-01\", \"1989-03-01\", \"1989-04-01\", \"1989-05-01\", \"1989-06-01\", \"1989-07-01\", \"1989-08-01\", \"1989-09-01\", \"1989-10-01\", \"1989-11-01\", \"1989-12-01\", \"1990-01-01\", \"1990-02-01\", \"1990-03-01\", \"1990-04-01\", \"1990-05-01\", \"1990-06-01\", \"1990-07-01\", \"1990-08-01\", \"1990-09-01\", \"1990-10-01\", \"1990-11-01\", \"1990-12-01\", \"1991-01-01\", \"1991-02-01\", \"1991-03-01\", \"1991-04-01\", \"1991-05-01\", \"1991-06-01\", \"1991-07-01\", \"1991-08-01\", \"1991-09-01\", \"1991-10-01\", \"1991-11-01\", \"1991-12-01\", \"1992-01-01\", \"1992-02-01\", \"1992-03-01\", \"1992-04-01\", \"1992-05-01\", \"1992-06-01\", \"1992-07-01\", \"1992-08-01\", \"1992-09-01\", \"1992-10-01\", \"1992-11-01\", \"1992-12-01\", \"1993-01-01\", \"1993-02-01\", \"1993-03-01\", \"1993-04-01\", \"1993-05-01\", \"1993-06-01\", \"1993-07-01\", \"1993-08-01\", \"1993-09-01\", \"1993-10-01\", \"1993-11-01\", \"1993-12-01\", \"1994-01-01\", \"1994-02-01\", \"1994-03-01\", \"1994-04-01\", \"1994-05-01\", \"1994-06-01\", \"1994-07-01\", \"1994-08-01\", \"1994-09-01\", \"1994-10-01\", \"1994-11-01\", \"1994-12-01\", \"1995-01-01\", \"1995-02-01\", \"1995-03-01\", \"1995-04-01\", \"1995-05-01\", \"1995-06-01\", \"1995-07-01\", \"1995-08-01\", \"1995-09-01\", \"1995-10-01\", \"1995-11-01\", \"1995-12-01\", \"1996-01-01\", \"1996-02-01\", \"1996-03-01\", \"1996-04-01\", \"1996-05-01\", \"1996-06-01\", \"1996-07-01\", \"1996-08-01\", \"1996-09-01\", \"1996-10-01\", \"1996-11-01\", \"1996-12-01\", \"1997-01-01\", \"1997-02-01\", \"1997-03-01\", \"1997-04-01\", \"1997-05-01\", \"1997-06-01\", \"1997-07-01\", \"1997-08-01\", \"1997-09-01\", \"1997-10-01\", \"1997-11-01\", \"1997-12-01\", \"1998-01-01\", \"1998-02-01\", \"1998-03-01\", \"1998-04-01\", \"1998-05-01\", \"1998-06-01\", \"1998-07-01\", \"1998-08-01\", \"1998-09-01\", \"1998-10-01\", \"1998-11-01\", \"1998-12-01\", \"1999-01-01\", \"1999-02-01\", \"1999-03-01\", \"1999-04-01\", \"1999-05-01\", \"1999-06-01\", \"1999-07-01\", \"1999-08-01\", \"1999-09-01\", \"1999-10-01\", \"1999-11-01\", \"1999-12-01\", \"2000-01-01\", \"2000-02-01\", \"2000-03-01\", \"2000-04-01\", \"2000-05-01\", \"2000-06-01\", \"2000-07-01\", \"2000-08-01\", \"2000-09-01\", \"2000-10-01\", \"2000-11-01\", \"2000-12-01\", \"2001-01-01\", \"2001-02-01\", \"2001-03-01\", \"2001-04-01\", \"2001-05-01\", \"2001-06-01\", \"2001-07-01\", \"2001-08-01\", \"2001-09-01\", \"2001-10-01\", \"2001-11-01\", \"2001-12-01\", \"2002-01-01\", \"2002-02-01\", \"2002-03-01\", \"2002-04-01\", \"2002-05-01\", \"2002-06-01\", \"2002-07-01\", \"2002-08-01\", \"2002-09-01\", \"2002-10-01\", \"2002-11-01\", \"2002-12-01\", \"2003-01-01\", \"2003-02-01\", \"2003-03-01\", \"2003-04-01\", \"2003-05-01\", \"2003-06-01\", \"2003-07-01\", \"2003-08-01\", \"2003-09-01\", \"2003-10-01\", \"2003-11-01\", \"2003-12-01\", \"2004-01-01\", \"2004-02-01\", \"2004-03-01\", \"2004-04-01\", \"2004-05-01\", \"2004-06-01\", \"2004-07-01\", \"2004-08-01\", \"2004-09-01\", \"2004-10-01\", \"2004-11-01\", \"2004-12-01\", \"2005-01-01\", \"2005-02-01\", \"2005-03-01\", \"2005-04-01\", \"2005-05-01\", \"2005-06-01\", \"2005-07-01\", \"2005-08-01\", \"2005-09-01\", \"2005-10-01\", \"2005-11-01\", \"2005-12-01\", \"2006-01-01\", \"2006-02-01\", \"2006-03-01\", \"2006-04-01\", \"2006-05-01\", \"2006-06-01\", \"2006-07-01\", \"2006-08-01\", \"2006-09-01\", \"2006-10-01\", \"2006-11-01\", \"2006-12-01\", \"2007-01-01\", \"2007-02-01\", \"2007-03-01\", \"2007-04-01\", \"2007-05-01\", \"2007-06-01\", \"2007-07-01\", \"2007-08-01\", \"2007-09-01\", \"2007-10-01\", \"2007-11-01\", \"2007-12-01\", \"2008-01-01\", \"2008-02-01\", \"2008-03-01\", \"2008-04-01\", \"2008-05-01\", \"2008-06-01\", \"2008-07-01\", \"2008-08-01\", \"2008-09-01\", \"2008-10-01\", \"2008-11-01\", \"2008-12-01\", \"2009-01-01\", \"2009-02-01\", \"2009-03-01\", \"2009-04-01\", \"2009-05-01\", \"2009-06-01\", \"2009-07-01\", \"2009-08-01\", \"2009-09-01\", \"2009-10-01\", \"2009-11-01\", \"2009-12-01\", \"2010-01-01\", \"2010-02-01\", \"2010-03-01\", \"2010-04-01\", \"2010-05-01\", \"2010-06-01\", \"2010-07-01\", \"2010-08-01\", \"2010-09-01\", \"2010-10-01\", \"2010-11-01\", \"2010-12-01\", \"2011-01-01\", \"2011-02-01\", \"2011-03-01\", \"2011-04-01\", \"2011-05-01\", \"2011-06-01\", \"2011-07-01\", \"2011-08-01\", \"2011-09-01\", \"2011-10-01\", \"2011-11-01\", \"2011-12-01\", \"2012-01-01\", \"2012-02-01\", \"2012-03-01\", \"2012-04-01\", \"2012-05-01\", \"2012-06-01\", \"2012-07-01\", \"2012-08-01\", \"2012-09-01\", \"2012-10-01\", \"2012-11-01\", \"2012-12-01\", \"2013-01-01\", \"2013-02-01\", \"2013-03-01\", \"2013-04-01\", \"2013-05-01\", \"2013-06-01\", \"2013-07-01\", \"2013-08-01\", \"2013-09-01\", \"2013-10-01\", \"2013-11-01\", \"2013-12-01\", \"2014-01-01\", \"2014-02-01\", \"2014-03-01\", \"2014-04-01\", \"2014-05-01\", \"2014-06-01\", \"2014-07-01\", \"2014-08-01\", \"2014-09-01\", \"2014-10-01\", \"2014-11-01\", \"2014-12-01\", \"2015-01-01\", \"2015-02-01\", \"2015-03-01\", \"2015-04-01\", \"2015-05-01\", \"2015-06-01\", \"2015-07-01\", \"2015-08-01\", \"2015-09-01\", \"2015-10-01\", \"2015-11-01\", \"2015-12-01\", \"2016-01-01\", \"2016-02-01\", \"2016-03-01\", \"2016-04-01\", \"2016-05-01\", \"2016-06-01\", \"2016-07-01\", \"2016-08-01\", \"2016-09-01\", \"2016-10-01\", \"2016-11-01\", \"2016-12-01\", \"2017-01-01\", \"2017-02-01\", \"2017-03-01\", \"2017-04-01\", \"2017-05-01\", \"2017-06-01\", \"2017-07-01\", \"2017-08-01\", \"2017-09-01\"], \"y\": [116.09677419354837, 154.06666666666666, 275.67741935483866, 692.7741935483872, 1193.75, 1926.4193548387095, 3198.566666666666, 2213.935483870968, 1178.3666666666666, 520.6451612903227, 276.64516129032256, 202.36666666666667, 171.32258064516128, 199.7333333333333, 332.96774193548384, 495.1290322580645, 733.0714285714287, 2626.3548387096776, 3961.366666666667, 2508.193548387097, 1195.5333333333333, 549.7096774193549, 334.5806451612903, 234.76666666666668, 198.70967741935485, 217.66666666666663, 426.64516129032256, 644.6129032258065, 1220.9642857142858, 1787.451612903226, 2844.333333333333, 2287.387096774193, 1257.7, 511.0322580645162, 311.64516129032256, 217.86666666666667, 187.67741935483872, 245.66666666666663, 361.5806451612903, 605.9354838709677, 829.1034482758621, 1844.161290322581, 2199.0, 1970.5806451612905, 988.7333333333332, 425.741935483871, 284.22580645161287, 242.3, 246.90322580645162, 256.5, 351.64516129032256, 531.0, 698.3928571428571, 925.741935483871, 1386.8666666666666, 1128.8709677419354, 453.03333333333336, 329.741935483871, 265.54838709677415, 214.36666666666667, 191.90322580645162, 230.0, 447.6129032258065, 588.0322580645161, 717.7857142857142, 909.5806451612905, 1083.9, 1805.935483870968, 1358.2, 623.6129032258065, 399.19354838709677, 289.5, 239.2258064516129, 219.53333333333333, 355.35483870967744, 510.80645161290323, 666.8571428571429, 1091.032258064516, 2881.866666666667, 2674.322580645161, 1372.3, 615.9354838709677, 397.6774193548387, 292.4, 242.38709677419357, 307.3333333333333, 571.3225806451613, 818.1935483870967, 1082.9310344827586, 2941.2903225806454, 2978.9, 1713.2580645161293, 964.4333333333333, 512.0322580645161, 370.19354838709677, 284.0, 218.93548387096772, 220.36666666666667, 343.45161290322585, 614.8387096774194, 797.7142857142858, 1155.9032258064515, 1467.2, 957.2258064516127, 465.83333333333326, 331.1935483870968, 247.32258064516128, 198.7, 173.90322580645162, 212.9333333333333, 400.51612903225805, 648.9032258064517, 916.4642857142856, 3647.4838709677415, 3964.233333333333, 2323.7741935483873, 1178.0666666666666, 519.1935483870968, 357.8387096774193, 265.46666666666664, 202.4838709677419, 268.23333333333335, 471.741935483871, 672.1935483870968, 1121.642857142857, 2650.2903225806454, 2322.1, 1685.032258064516, 934.1666666666665, 488.22580645161287, 351.35483870967744, 276.1666666666667, 225.19354838709683, 213.36666666666667, 349.5806451612903, 535.483870967742, 809.2758620689655, 1382.516129032258, 2367.5, 2014.6774193548388, 855.5, 428.35483870967744, 306.4193548387097, 236.06666666666663, 202.58064516129036, 234.06666666666663, 346.70967741935476, 607.1612903225806, 1839.892857142857, 3127.322580645161, 2959.633333333333, 2363.0, 1414.0, 630.2903225806451, 408.3225806451613, 297.1666666666667, 243.70967741935485, 267.9, 428.22580645161287, 627.1612903225806, 876.7857142857142, 1249.258064516129, 2753.2, 1659.0645161290322, 844.9, 436.19354838709677, 326.77419354838713, 260.6666666666667, 224.61290322580646, 273.46666666666664, 448.9677419354838, 713.258064516129, 1184.5357142857142, 2628.4193548387093, 2211.4, 1294.967741935484, 633.4333333333333, 396.3225806451613, 313.83870967741933, 253.5, 232.74193548387098, 312.93333333333334, 546.0322580645161, 829.741935483871, 1111.5862068965516, 3101.1612903225805, 4457.533333333334, 2675.2903225806454, 1435.6333333333334, 690.2903225806451, 431.0645161290323, 298.6666666666667, 276.7096774193548, 328.5, 407.1612903225807, 709.7096774193549, 1219.857142857143, 2294.6451612903224, 2759.6, 1678.1290322580646, 814.9666666666667, 449.5483870967742, 319.54838709677415, 259.7, 204.70967741935485, 238.96666666666667, 337.741935483871, 477.22580645161287, 667.0357142857142, 974.741935483871, 1833.166666666667, 1558.2580645161293, 646.7666666666668, 373.51612903225805, 281.1290322580645, 213.66666666666663, 195.90322580645162, 231.46666666666667, 316.16129032258067, 471.5483870967742, 614.4642857142858, 952.483870967742, 1630.5666666666666, 1604.8064516129032, 992.2666666666668, 465.4193548387097, 325.0967741935484, 240.9, 189.41935483870967, 216.4333333333333, 386.1612903225807, 710.3225806451613, 1335.8965517241381, 2103.6774193548385, 2436.733333333333, 1949.0967741935485, 889.7333333333332, 426.483870967742, 297.54838709677415, 220.8, 194.61290322580646, 233.76666666666668, 402.3225806451613, 557.3548387096773, 907.5, 2555.0967741935488, 3187.666666666666, 1958.032258064516, 922.7, 469.3225806451613, 334.96774193548384, 247.9333333333333, 205.61290322580646, 238.33333333333331, 393.4193548387097, 730.2258064516128, 971.0, 1110.967741935484, 1378.0, 1438.9354838709678, 820.7666666666668, 399.741935483871, 289.3870967741936, 218.56666666666663, 195.25806451612902, 208.86666666666667, 374.19354838709677, 584.8387096774194, 822.8571428571429, 2081.0, 4281.9, 3125.2580645161293, 1609.2333333333331, 762.741935483871, 448.8387096774193, 327.43333333333334, 274.4193548387097, 280.73333333333335, 399.90322580645164, 687.0322580645161, 1471.2413793103449, 5741.741935483871, 5018.0, 3176.5161290322585, 1756.3666666666666, 852.8709677419354, 477.0, 336.0, 292.2903225806452, 348.3, 400.51612903225805, 445.5483870967742, 520.8214285714286, 703.4516129032259, 862.2333333333332, 709.9354838709677, 410.23333333333335, 323.77419354838713, 262.7096774193548, 213.6, 174.90322580645162, 194.6, 317.48387096774195, 574.9677419354839, 2308.142857142857, 4350.645161290323, 3698.066666666666, 2564.0967741935488, 1209.1333333333334, 551.3548387096773, 368.38709677419365, 259.96666666666664, 204.93548387096772, 227.36666666666667, 373.38709677419365, 588.516129032258, 916.2857142857144, 3566.1290322580644, 3025.0333333333333, 2565.903225806452, 1637.533333333333, 782.0322580645161, 458.9677419354838, 325.6666666666667, 282.48387096774195, 342.76666666666665, 600.9677419354839, 1656.451612903226, 3599.2758620689656, 5569.967741935483, 3427.166666666666, 1736.0645161290322, 837.8333333333335, 484.6774193548387, 364.64516129032256, 285.2, 237.4838709677419, 323.23333333333335, 429.38709677419365, 609.0645161290323, 964.2142857142856, 4101.83870967742, 4584.266666666666, 3191.8064516129034, 1759.1333333333334, 812.8064516129033, 470.0322580645162, 331.8333333333333, 270.61290322580646, 291.6666666666667, 507.1290322580645, 779.0967741935484, 1048.7857142857142, 2090.870967741936, 3464.166666666666, 2306.483870967742, 1203.8666666666666, 586.1612903225806, 406.1290322580645, 301.2, 228.61290322580646, 255.5, 474.6774193548387, 918.2903225806452, 1997.892857142857, 2971.677419354838, 3314.4, 2351.0, 1491.166666666667, 729.1612903225806, 449.5483870967742, 332.43333333333334, 267.67741935483866, 300.5, 422.0645161290323, 651.6451612903227, 1106.5517241379312, 3883.322580645162, 4063.7, 5181.83870967742, 2822.0, 1321.516129032258, 659.4516129032259, 427.4333333333333, 329.96774193548384, 376.13333333333327, 541.6774193548387, 642.0645161290323, 937.8928571428572, 7260.548387096775, 3648.0, 2039.548387096774, 1075.0666666666666, 591.741935483871, 418.9354838709677, 320.6, 295.77419354838713, 335.76666666666665, 552.3225806451613, 1646.225806451613, 8630.107142857143, 7995.387096774193, 4178.9, 2192.322580645161, 1108.3, 656.8387096774194, 509.5483870967742, 408.73333333333335, 348.5483870967742, 408.76666666666665, 678.8387096774194, 857.483870967742, 1025.142857142857, 2694.4193548387093, 3163.766666666667, 1886.967741935484, 1003.9666666666667, 520.9354838709677, 381.29032258064524, 283.3666666666667, 210.45161290322582, 238.53333333333333, 396.64516129032256, 588.4193548387096, 811.4827586206897, 2441.3548387096776, 4072.1, 2236.2903225806454, 1287.3, 643.3225806451613, 409.35483870967744, 295.2, 220.58064516129036, 289.46666666666664, 393.0645161290323, 595.6129032258065, 890.3928571428571, 2621.8387096774195, 5657.0666666666675, 3373.451612903226, 1823.8666666666666, 944.4193548387095, 522.1935483870968, 367.4666666666666, 277.64516129032256, 336.8666666666667, 490.09677419354836, 876.741935483871, 1967.7142857142856, 4357.419354838709, 5234.833333333333, 3461.225806451613, 1877.833333333333, 949.483870967742, 555.7096774193549, 410.8, 313.06451612903226, 348.4, 741.9677419354839, 1688.1935483870968, 4062.321428571429, 6540.258064516129, 5356.666666666667, 3024.0, 1532.166666666667, 831.6774193548387, 544.3870967741935, 421.16666666666674, 359.0, 469.36666666666673, 803.1290322580646, 1002.258064516129, 1329.8620689655172, 2236.2580645161293, 2274.8, 1689.3225806451612, 834.0, 505.4516129032258, 404.29032258064524, 326.03333333333336, 274.03225806451616, 330.26666666666665, 466.9354838709677, 690.0, 1052.7142857142858, 2318.322580645161, 2552.433333333333, 1803.225806451613, 926.1666666666665, 513.741935483871, 390.4193548387097, 315.8666666666667, 268.61290322580646, 286.8333333333333, 436.3225806451613, 620.6129032258065, 991.8571428571428, 2806.1290322580644, 4140.433333333333, 2306.903225806452, 1258.5666666666666, 633.9354838709677, 436.5806451612903, 346.76666666666665, 279.48387096774195, 287.8, 372.0645161290323, 544.0645161290323, 783.8571428571429, 1145.8387096774193, 2745.1, 2443.0967741935488, 1582.033333333333, 769.1935483870967, 441.80645161290323, 326.93333333333334, 277.80645161290323, 378.4333333333333, 566.1290322580645, 1700.0645161290322, 4719.379310344828, 4205.129032258064, 4707.866666666667, 2634.4193548387093, 1426.7, 781.4193548387095, 516.4516129032259, 397.63333333333327, 305.51612903225805, 356.4, 554.0322580645161, 790.1935483870967, 1755.25, 6893.096774193548, 7422.7, 3738.806451612904, 1862.966666666667, 1015.483870967742, 637.9354838709677, 469.06666666666666, 437.09677419354836, 525.9333333333333, 775.6129032258065, 1226.225806451613, 2996.8214285714284, 4635.903225806452, 3484.233333333333, 1987.8064516129032, 1056.5333333333333, 619.516129032258, 470.80645161290323, 374.9, 326.35483870967744, 378.73333333333335, 550.0967741935483, 850.483870967742, 1385.392857142857, 2781.1290322580644, 2570.3, 1688.2580645161293, 1038.6333333333334, 589.483870967742, 436.483870967742, 353.2, 292.35483870967744, 344.36666666666673, 447.90322580645164, 718.7741935483872, 829.7586206896551, 989.9354838709676, 1573.6, 1699.032258064516, 1154.3, 582.8709677419355, 415.4193548387097, 325.26666666666665, 285.48387096774195, 310.23333333333335, 387.1290322580645, 526.9677419354839, 703.8214285714287, 894.9677419354839, 1145.4, 1110.516129032258, 631.5, 403.5483870967742, 316.741935483871, 248.96666666666667, 232.90322580645162, 278.73333333333335, 525.5483870967741, 909.0967741935484, 1768.892857142857, 2613.903225806452, 2300.7, 2288.8064516129034, 1301.5333333333333, 551.6451612903227, 381.6129032258065, 298.96666666666664, 234.1290322580645, 283.8333333333333, 510.8387096774193, 911.6774193548387, 2641.8214285714284, 4019.2903225806454, 4807.266666666666, 2846.2903225806454, 1467.2666666666669, 735.3548387096774, 472.0, 335.73333333333335, 265.5806451612903, 262.93333333333334, 400.483870967742, 602.4193548387096, 877.8965517241379, 3622.064516129032, 4745.8, 3830.2903225806454, 2140.233333333333, 1034.3548387096773, 541.2258064516128, 403.0, 379.51612903225805, 378.4333333333333, 470.5483870967742, 691.5483870967741, 1043.75, 2081.4193548387093, 2609.866666666667, 2665.0967741935488, 1634.5666666666666, 781.2258064516128, 492.483870967742, 373.63333333333327, 309.1935483870968, 303.6666666666667, 529.1612903225806, 983.3548387096774, 1475.2142857142858, 3519.4193548387098, 6021.133333333332, 4600.258064516129, 2476.4, 1217.967741935484, 676.483870967742, 490.5, 416.8387096774193, 519.1333333333333, 698.8709677419354, 939.3548387096774, 1466.392857142857, 2786.3870967741937, 4659.033333333334, 3071.0967741935488, 1526.7, 787.9677419354839, 521.0, 401.16666666666674, 339.06451612903226, 441.73333333333335, 709.7096774193549, 1379.7096774193549, 2260.3793103448274, 2590.935483870968, 2941.3, 2278.1290322580644, 1277.4666666666667, 652.8387096774194, 466.29032258064524, 360.86666666666673, 302.8709677419355, 374.8, 515.1935483870968, 744.0967741935484, 1071.357142857143, 2109.0967741935488, 3166.6, 2733.8064516129034, 1366.5666666666666, 648.258064516129, 450.80645161290323, 345.7, 268.32258064516134, 281.26666666666665, 373.90322580645164, 484.51612903225805, 631.7142857142858, 811.7741935483872, 1277.9666666666667, 1132.3870967741937, 729.7333333333332, 450.70967741935476, 350.9677419354838, 281.26666666666665, 269.3870967741936, 338.9, 525.1935483870968, 701.9354838709677, 842.5357142857142, 1040.451612903226, 1084.1, 968.258064516129, 555.4333333333333, 391.80645161290323, 315.0, 250.36666666666667, 224.74193548387098, 270.3, 391.9354838709677, 540.1290322580645, 737.9655172413792, 1313.0645161290322, 1677.9333333333334, 1224.548387096774, 586.7666666666668, 363.0, 283.7096774193548, 230.2333333333333, 210.80645161290326, 261.2, 376.0, 554.2903225806451, 798.8214285714287, 1044.0, 1648.1, 1781.967741935484, 1018.1, 469.22580645161287, 334.22580645161287, 252.9333333333333, 211.7741935483871, 223.2333333333333, 305.80645161290323, 421.5806451612903, 621.0714285714286, 896.7741935483872, 2171.0666666666666, 2029.290322580645, 1040.1666666666667, 469.51612903225805, 339.2903225806452, 268.23333333333335, 285.32258064516134, 411.9333333333333, 571.741935483871, 718.7741935483872, 888.6428571428571, 1500.2903225806451, 1925.3, 1427.0, 763.3666666666667, 438.4516129032258, 339.64516129032256, 264.73333333333335, 236.38709677419357, 244.2333333333333, 364.1290322580645, 455.77419354838713, 817.7241379310345, 1109.6774193548388, 2057.5333333333333, 1872.483870967742, 1041.3333333333333, 487.5806451612903, 343.4193548387097, 272.76666666666665, 229.2258064516129, 287.26666666666665, 406.9677419354838, 590.9032258064517, 1298.3214285714287, 3122.677419354838, 3321.266666666667, 3312.3870967741937, 1833.5666666666666, 799.9677419354839, 428.29032258064524, 312.3333333333333, 265.96774193548384, 242.1, 290.48387096774195, 501.258064516129, 703.1428571428571, 853.9354838709677, 900.3, 984.032258064516, 747.5333333333333, 405.8387096774193, 306.9032258064516, 232.36666666666667, 212.54838709677418, 214.1, 319.258064516129, 511.741935483871, 938.75, 2139.387096774193, 1889.966666666667, 1478.483870967742, 687.8666666666667, 369.35483870967744, 283.258064516129, 221.4333333333333, 200.96774193548384, 261.3, 434.8709677419355, 538.3225806451613, 659.5517241379309, 845.3870967741935, 838.0, 756.8064516129033, 446.5, 322.45161290322585, 253.4838709677419, 197.96666666666667, 172.54838709677418, 202.9, 288.6129032258065, 409.6774193548387, 734.6785714285713, 1185.516129032258, 2885.8, 2473.0, 1166.3666666666666, 458.51612903225805, 299.67741935483866, 219.96666666666667, 188.06451612903226, 223.83333333333331, 312.9032258064516, 519.9677419354839, 840.4285714285713, 1511.6129032258066, 1541.466666666667, 741.3870967741935, 359.9333333333333, 277.741935483871, 226.83870967741936, 181.5, 155.58064516129033, 170.63333333333333, 233.03225806451616, 329.93548387096774, 458.57142857142856, 730.8387096774194, 1174.8, 757.5483870967741, 326.73333333333335, 243.7741935483871, 198.93548387096772, 152.73333333333332, 121.61290322580645, 153.83333333333334, 233.25806451612902, 369.4193548387097, 451.7241379310345, 588.1612903225806, 758.7666666666668, 685.8709677419355, 345.13333333333327, 254.38709677419357, 204.0, 157.73333333333332, 117.12903225806451, 156.7, 229.5161290322581, 410.1290322580645, 694.25, 890.9032258064516, 1253.3, 1315.0, 734.4333333333333, 347.3870967741936, 242.09677419354838, 194.2333333333333, 168.29032258064515, 181.63333333333333, 297.22580645161287, 565.258064516129, 1152.9642857142858, 2611.516129032258, 3313.4, 2518.0, 1192.7333333333333, 513.9354838709677, 353.1612903225807, 248.5, 195.70967741935485, 195.7, 342.64516129032256, 570.6774193548387, 987.5, 2292.1290322580644, 2972.633333333333, 2725.451612903226, 1314.2666666666667, 508.29032258064524, 334.64516129032256, 232.63333333333333, 196.29032258064515, 205.13333333333333, 309.2903225806452, 457.64516129032256, 690.6896551724138, 1247.5806451612902, 3047.8, 2132.903225806452, 1062.7666666666667, 448.22580645161287, 299.06451612903226, 223.33333333333331, 162.29032258064515, 170.93333333333334, 339.4193548387097, 605.0322580645161, 1135.5714285714287, 2909.3870967741937, 3284.9666666666667, 3005.2903225806454, 1623.666666666667, 687.8387096774194, 397.29032258064524, 287.8333333333333, 210.32258064516128, 283.23333333333335, 420.0645161290323, 548.0322580645161, 709.4642857142858, 1241.774193548387, 1785.1, 1934.225806451613, 1271.1333333333334, 543.1290322580645, 343.9677419354838, 251.9333333333333, 205.64516129032262, 212.96666666666667, 307.51612903225805, 551.483870967742, 887.5714285714287, 1523.2580645161293, 2915.3, 3122.193548387097, 1757.1333333333334, 729.2258064516128, 401.0322580645162, 271.7, 205.96774193548384, 220.8, 342.6129032258065, 600.1612903225806, 1061.5517241379312, 3066.7741935483873, 3990.6, 3163.2580645161293, 1775.4333333333334, 718.516129032258, 402.8387096774193, 277.8666666666667, 215.25806451612902, 236.86666666666667, 341.83870967741933, 528.3548387096773, 806.3571428571429, 1184.741935483871, 1239.8666666666666, 1269.774193548387, 812.9666666666667, 424.5806451612903, 305.7096774193548, 230.5, 170.03225806451613, 211.3, 336.6129032258065, 601.516129032258, 971.5, 1610.967741935484, 2587.1, 2370.483870967742, 1497.6, 592.0, 349.4193548387097, 246.63333333333333, 218.29032258064515, 265.46666666666664, 439.0322580645162, 811.9354838709677, 3307.785714285714, 3978.096774193548, 3291.133333333333, 2503.4193548387093, 1404.6, 680.1935483870968, 431.4193548387097, 315.23333333333335, 259.80645161290323, 279.1, 501.1612903225807, 1204.4193548387098, 2523.1379310344832, 2939.6129032258063, 3033.4666666666667, 2374.8064516129034, 1336.9666666666667, 573.0967741935483, 373.0645161290323, 274.1333333333333, 195.90322580645162, 264.5, 522.0645161290323, 895.4516129032259, 1607.5, 4706.903225806452, 4503.9, 2604.967741935484, 1450.4333333333334, 642.3225806451613, 398.90322580645164, 282.2, 222.67741935483872, 290.43333333333334, 466.8387096774193, 788.0645161290323, 1646.0, 4335.935483870968, 4639.466666666666, 3824.548387096774, 2130.6666666666665, 1011.6451612903226, 532.4193548387096, 354.6, 250.58064516129036, 262.06666666666666, 453.77419354838713, 1273.548387096774, 2841.964285714286, 3835.4193548387098, 4196.333333333333, 3545.709677419354, 1905.2, 875.1290322580646, 500.0322580645162, 354.7, 274.741935483871, 297.4, 504.35483870967744, 838.8387096774194, 1581.3793103448277, 2339.7096774193546, 3195.5333333333333, 2800.3870967741937, 1426.5666666666666, 602.5483870967741, 403.64516129032256, 291.8666666666667, 236.4838709677419, 292.7, 501.1612903225807, 1223.967741935484, 3129.857142857143, 3378.8064516129034, 3030.166666666666, 2273.193548387097, 1003.7333333333332, 499.22580645161287, 354.6774193548387, 264.6333333333333, 209.45161290322582, 248.9333333333333, 544.5806451612904, 804.741935483871, 1419.607142857143, 2362.6451612903224, 3451.0333333333333, 3225.0, 2076.133333333333, 961.2903225806452, 483.6129032258065, 330.96666666666664, 252.1290322580645, 266.53333333333336, 389.4193548387097, 601.6774193548387, 863.5, 1149.1290322580646, 1333.2, 1414.1935483870968, 1045.2333333333333, 497.6774193548387, 332.83870967741933, 239.96666666666667, 194.7741935483871, 203.8, 302.96774193548384, 491.1612903225807, 847.4137931034481, 2420.935483870968, 2933.2, 2458.935483870968, 1241.4333333333334, 500.483870967742, 331.83870967741933, 241.5, 186.96774193548384, 186.8, 369.483870967742, 851.516129032258, 1237.25, 2422.193548387097, 3418.366666666667, 2195.3548387096776, 1118.8333333333333, 482.70967741935476, 318.1290322580645, 223.9333333333333]}],\n",
       "                        {\"plot_bgcolor\": \"white\", \"template\": {\"data\": {\"bar\": [{\"error_x\": {\"color\": \"#2a3f5f\"}, \"error_y\": {\"color\": \"#2a3f5f\"}, \"marker\": {\"line\": {\"color\": \"#E5ECF6\", \"width\": 0.5}}, \"type\": \"bar\"}], \"barpolar\": [{\"marker\": {\"line\": {\"color\": \"#E5ECF6\", \"width\": 0.5}}, \"type\": \"barpolar\"}], \"carpet\": [{\"aaxis\": {\"endlinecolor\": \"#2a3f5f\", \"gridcolor\": \"white\", \"linecolor\": \"white\", \"minorgridcolor\": \"white\", \"startlinecolor\": \"#2a3f5f\"}, \"baxis\": {\"endlinecolor\": \"#2a3f5f\", \"gridcolor\": \"white\", \"linecolor\": \"white\", \"minorgridcolor\": \"white\", \"startlinecolor\": \"#2a3f5f\"}, \"type\": \"carpet\"}], \"choropleth\": [{\"colorbar\": {\"outlinewidth\": 0, \"ticks\": \"\"}, \"type\": \"choropleth\"}], \"contour\": [{\"colorbar\": {\"outlinewidth\": 0, \"ticks\": \"\"}, \"colorscale\": [[0.0, \"#0d0887\"], [0.1111111111111111, \"#46039f\"], [0.2222222222222222, \"#7201a8\"], [0.3333333333333333, \"#9c179e\"], [0.4444444444444444, \"#bd3786\"], [0.5555555555555556, \"#d8576b\"], [0.6666666666666666, \"#ed7953\"], [0.7777777777777778, \"#fb9f3a\"], [0.8888888888888888, \"#fdca26\"], [1.0, \"#f0f921\"]], \"type\": \"contour\"}], \"contourcarpet\": [{\"colorbar\": {\"outlinewidth\": 0, \"ticks\": \"\"}, \"type\": \"contourcarpet\"}], \"heatmap\": [{\"colorbar\": {\"outlinewidth\": 0, \"ticks\": \"\"}, \"colorscale\": [[0.0, \"#0d0887\"], [0.1111111111111111, \"#46039f\"], [0.2222222222222222, \"#7201a8\"], [0.3333333333333333, \"#9c179e\"], [0.4444444444444444, \"#bd3786\"], [0.5555555555555556, \"#d8576b\"], [0.6666666666666666, \"#ed7953\"], [0.7777777777777778, \"#fb9f3a\"], [0.8888888888888888, \"#fdca26\"], [1.0, \"#f0f921\"]], \"type\": \"heatmap\"}], \"heatmapgl\": [{\"colorbar\": {\"outlinewidth\": 0, \"ticks\": \"\"}, \"colorscale\": [[0.0, \"#0d0887\"], [0.1111111111111111, \"#46039f\"], [0.2222222222222222, \"#7201a8\"], [0.3333333333333333, \"#9c179e\"], [0.4444444444444444, \"#bd3786\"], [0.5555555555555556, \"#d8576b\"], [0.6666666666666666, \"#ed7953\"], [0.7777777777777778, \"#fb9f3a\"], [0.8888888888888888, \"#fdca26\"], [1.0, \"#f0f921\"]], \"type\": \"heatmapgl\"}], \"histogram\": [{\"marker\": {\"colorbar\": {\"outlinewidth\": 0, \"ticks\": \"\"}}, \"type\": \"histogram\"}], \"histogram2d\": [{\"colorbar\": {\"outlinewidth\": 0, \"ticks\": \"\"}, \"colorscale\": [[0.0, \"#0d0887\"], [0.1111111111111111, \"#46039f\"], [0.2222222222222222, \"#7201a8\"], [0.3333333333333333, \"#9c179e\"], [0.4444444444444444, \"#bd3786\"], [0.5555555555555556, \"#d8576b\"], [0.6666666666666666, \"#ed7953\"], [0.7777777777777778, \"#fb9f3a\"], [0.8888888888888888, \"#fdca26\"], [1.0, \"#f0f921\"]], \"type\": \"histogram2d\"}], \"histogram2dcontour\": [{\"colorbar\": {\"outlinewidth\": 0, \"ticks\": \"\"}, \"colorscale\": [[0.0, \"#0d0887\"], [0.1111111111111111, \"#46039f\"], [0.2222222222222222, \"#7201a8\"], [0.3333333333333333, \"#9c179e\"], [0.4444444444444444, \"#bd3786\"], [0.5555555555555556, \"#d8576b\"], [0.6666666666666666, \"#ed7953\"], [0.7777777777777778, \"#fb9f3a\"], [0.8888888888888888, \"#fdca26\"], [1.0, \"#f0f921\"]], \"type\": \"histogram2dcontour\"}], \"mesh3d\": [{\"colorbar\": {\"outlinewidth\": 0, \"ticks\": \"\"}, \"type\": \"mesh3d\"}], \"parcoords\": [{\"line\": {\"colorbar\": {\"outlinewidth\": 0, \"ticks\": \"\"}}, \"type\": \"parcoords\"}], \"pie\": [{\"automargin\": true, \"type\": \"pie\"}], \"scatter\": [{\"marker\": {\"colorbar\": {\"outlinewidth\": 0, \"ticks\": \"\"}}, \"type\": \"scatter\"}], \"scatter3d\": [{\"line\": {\"colorbar\": {\"outlinewidth\": 0, \"ticks\": \"\"}}, \"marker\": {\"colorbar\": {\"outlinewidth\": 0, \"ticks\": \"\"}}, \"type\": \"scatter3d\"}], \"scattercarpet\": [{\"marker\": {\"colorbar\": {\"outlinewidth\": 0, \"ticks\": \"\"}}, \"type\": \"scattercarpet\"}], \"scattergeo\": [{\"marker\": {\"colorbar\": {\"outlinewidth\": 0, \"ticks\": \"\"}}, \"type\": \"scattergeo\"}], \"scattergl\": [{\"marker\": {\"colorbar\": {\"outlinewidth\": 0, \"ticks\": \"\"}}, \"type\": \"scattergl\"}], \"scattermapbox\": [{\"marker\": {\"colorbar\": {\"outlinewidth\": 0, \"ticks\": \"\"}}, \"type\": \"scattermapbox\"}], \"scatterpolar\": [{\"marker\": {\"colorbar\": {\"outlinewidth\": 0, \"ticks\": \"\"}}, \"type\": \"scatterpolar\"}], \"scatterpolargl\": [{\"marker\": {\"colorbar\": {\"outlinewidth\": 0, \"ticks\": \"\"}}, \"type\": \"scatterpolargl\"}], \"scatterternary\": [{\"marker\": {\"colorbar\": {\"outlinewidth\": 0, \"ticks\": \"\"}}, \"type\": \"scatterternary\"}], \"surface\": [{\"colorbar\": {\"outlinewidth\": 0, \"ticks\": \"\"}, \"colorscale\": [[0.0, \"#0d0887\"], [0.1111111111111111, \"#46039f\"], [0.2222222222222222, \"#7201a8\"], [0.3333333333333333, \"#9c179e\"], [0.4444444444444444, \"#bd3786\"], [0.5555555555555556, \"#d8576b\"], [0.6666666666666666, \"#ed7953\"], [0.7777777777777778, \"#fb9f3a\"], [0.8888888888888888, \"#fdca26\"], [1.0, \"#f0f921\"]], \"type\": \"surface\"}], \"table\": [{\"cells\": {\"fill\": {\"color\": \"#EBF0F8\"}, \"line\": {\"color\": \"white\"}}, \"header\": {\"fill\": {\"color\": \"#C8D4E3\"}, \"line\": {\"color\": \"white\"}}, \"type\": \"table\"}]}, \"layout\": {\"annotationdefaults\": {\"arrowcolor\": \"#2a3f5f\", \"arrowhead\": 0, \"arrowwidth\": 1}, \"coloraxis\": {\"colorbar\": {\"outlinewidth\": 0, \"ticks\": \"\"}}, \"colorscale\": {\"diverging\": [[0, \"#8e0152\"], [0.1, \"#c51b7d\"], [0.2, \"#de77ae\"], [0.3, \"#f1b6da\"], [0.4, \"#fde0ef\"], [0.5, \"#f7f7f7\"], [0.6, \"#e6f5d0\"], [0.7, \"#b8e186\"], [0.8, \"#7fbc41\"], [0.9, \"#4d9221\"], [1, \"#276419\"]], \"sequential\": [[0.0, \"#0d0887\"], [0.1111111111111111, \"#46039f\"], [0.2222222222222222, \"#7201a8\"], [0.3333333333333333, \"#9c179e\"], [0.4444444444444444, \"#bd3786\"], [0.5555555555555556, \"#d8576b\"], [0.6666666666666666, \"#ed7953\"], [0.7777777777777778, \"#fb9f3a\"], [0.8888888888888888, \"#fdca26\"], [1.0, \"#f0f921\"]], \"sequentialminus\": [[0.0, \"#0d0887\"], [0.1111111111111111, \"#46039f\"], [0.2222222222222222, \"#7201a8\"], [0.3333333333333333, \"#9c179e\"], [0.4444444444444444, \"#bd3786\"], [0.5555555555555556, \"#d8576b\"], [0.6666666666666666, \"#ed7953\"], [0.7777777777777778, \"#fb9f3a\"], [0.8888888888888888, \"#fdca26\"], [1.0, \"#f0f921\"]]}, \"colorway\": [\"#636efa\", \"#EF553B\", \"#00cc96\", \"#ab63fa\", \"#FFA15A\", \"#19d3f3\", \"#FF6692\", \"#B6E880\", \"#FF97FF\", \"#FECB52\"], \"font\": {\"color\": \"#2a3f5f\"}, \"geo\": {\"bgcolor\": \"white\", \"lakecolor\": \"white\", \"landcolor\": \"#E5ECF6\", \"showlakes\": true, \"showland\": true, \"subunitcolor\": \"white\"}, \"hoverlabel\": {\"align\": \"left\"}, \"hovermode\": \"closest\", \"mapbox\": {\"style\": \"light\"}, \"paper_bgcolor\": \"white\", \"plot_bgcolor\": \"#E5ECF6\", \"polar\": {\"angularaxis\": {\"gridcolor\": \"white\", \"linecolor\": \"white\", \"ticks\": \"\"}, \"bgcolor\": \"#E5ECF6\", \"radialaxis\": {\"gridcolor\": \"white\", \"linecolor\": \"white\", \"ticks\": \"\"}}, \"scene\": {\"xaxis\": {\"backgroundcolor\": \"#E5ECF6\", \"gridcolor\": \"white\", \"gridwidth\": 2, \"linecolor\": \"white\", \"showbackground\": true, \"ticks\": \"\", \"zerolinecolor\": \"white\"}, \"yaxis\": {\"backgroundcolor\": \"#E5ECF6\", \"gridcolor\": \"white\", \"gridwidth\": 2, \"linecolor\": \"white\", \"showbackground\": true, \"ticks\": \"\", \"zerolinecolor\": \"white\"}, \"zaxis\": {\"backgroundcolor\": \"#E5ECF6\", \"gridcolor\": \"white\", \"gridwidth\": 2, \"linecolor\": \"white\", \"showbackground\": true, \"ticks\": \"\", \"zerolinecolor\": \"white\"}}, \"shapedefaults\": {\"line\": {\"color\": \"#2a3f5f\"}}, \"ternary\": {\"aaxis\": {\"gridcolor\": \"white\", \"linecolor\": \"white\", \"ticks\": \"\"}, \"baxis\": {\"gridcolor\": \"white\", \"linecolor\": \"white\", \"ticks\": \"\"}, \"bgcolor\": \"#E5ECF6\", \"caxis\": {\"gridcolor\": \"white\", \"linecolor\": \"white\", \"ticks\": \"\"}}, \"title\": {\"x\": 0.05}, \"xaxis\": {\"automargin\": true, \"gridcolor\": \"white\", \"linecolor\": \"white\", \"ticks\": \"\", \"title\": {\"standoff\": 15}, \"zerolinecolor\": \"white\", \"zerolinewidth\": 2}, \"yaxis\": {\"automargin\": true, \"gridcolor\": \"white\", \"linecolor\": \"white\", \"ticks\": \"\", \"title\": {\"standoff\": 15}, \"zerolinecolor\": \"white\", \"zerolinewidth\": 2}}}, \"title\": {\"text\": \"Monthly Flows\"}, \"xaxis\": {\"showgrid\": false, \"showline\": false, \"showticklabels\": true, \"ticks\": \"outside\"}, \"yaxis\": {\"gridcolor\": \"rgb(204, 204, 204)\", \"range\": [0, 9000], \"separatethousands\": true, \"title\": {\"text\": \"Flow m\\u00b3/s\"}}},\n",
       "                        {\"responsive\": true}\n",
       "                    ).then(function(){\n",
       "                            \n",
       "var gd = document.getElementById('09729cfe-b0b7-42ff-8b74-04d0f289188f');\n",
       "var x = new MutationObserver(function (mutations, observer) {{\n",
       "        var display = window.getComputedStyle(gd).display;\n",
       "        if (!display || display === 'none') {{\n",
       "            console.log([gd, 'removed!']);\n",
       "            Plotly.purge(gd);\n",
       "            observer.disconnect();\n",
       "        }}\n",
       "}});\n",
       "\n",
       "// Listen for the removal of the full notebook cells\n",
       "var notebookContainer = gd.closest('#notebook-container');\n",
       "if (notebookContainer) {{\n",
       "    x.observe(notebookContainer, {childList: true});\n",
       "}}\n",
       "\n",
       "// Listen for the clearing of the current output cell\n",
       "var outputEl = gd.closest('.output');\n",
       "if (outputEl) {{\n",
       "    x.observe(outputEl, {childList: true});\n",
       "}}\n",
       "\n",
       "                        })\n",
       "                };\n",
       "                });\n",
       "            </script>\n",
       "        </div>"
      ]
     },
     "metadata": {},
     "output_type": "display_data"
    }
   ],
   "source": [
    "\n",
    "fig = go.Figure(\n",
    "    data=[\n",
    "        go.Scatter(x=monthly['DateStart'], y=monthly['Flow_mean'])\n",
    "         ]\n",
    ")\n",
    "fig.update_layout(\n",
    "    title_text='Monthly Flows',\n",
    "    plot_bgcolor='white',\n",
    "    xaxis=dict(\n",
    "        showline=False,\n",
    "        showgrid=False,\n",
    "        showticklabels=True,\n",
    "        ticks='outside',\n",
    "    ),\n",
    "    yaxis=dict(\n",
    "        title_text='Flow m\\u00B3/s',\n",
    "        range=(0,9000),\n",
    "        separatethousands=True,\n",
    "        gridcolor='rgb(204, 204, 204)',\n",
    "    )\n",
    ")\n",
    "fig.show(renderer=bookRenderer)\n"
   ]
  },
  {
   "cell_type": "code",
   "execution_count": 31,
   "metadata": {
    "jupyter": {
     "source_hidden": true
    }
   },
   "outputs": [
    {
     "data": {
      "application/vnd.plotly.v1+json": {
       "config": {
        "plotlyServerURL": "https://plot.ly"
       },
       "data": [
        {
         "line": {
          "color": "rgba(250.0,250.0,0.0,1)",
          "shape": "spline",
          "width": 1.3333333333333333
         },
         "name": "5 year ma",
         "type": "scatter",
         "x": [
          1924,
          1925,
          1926,
          1927,
          1928,
          1929,
          1930,
          1931,
          1932,
          1933,
          1934,
          1935,
          1936,
          1937,
          1938,
          1939,
          1940,
          1941,
          1942,
          1943,
          1944,
          1945,
          1946,
          1947,
          1948,
          1949,
          1950,
          1951,
          1952,
          1953,
          1954,
          1955,
          1956,
          1957,
          1958,
          1959,
          1960,
          1961,
          1962,
          1963,
          1964,
          1965,
          1966,
          1967,
          1968,
          1969,
          1970,
          1971,
          1972,
          1973,
          1974,
          1975,
          1976,
          1977,
          1978,
          1979,
          1980,
          1981,
          1982,
          1983,
          1984,
          1985,
          1986,
          1987,
          1988,
          1989,
          1990,
          1991,
          1992,
          1993,
          1994,
          1995,
          1996,
          1997,
          1998,
          1999,
          2000,
          2001,
          2002,
          2003,
          2004,
          2005,
          2006,
          2007,
          2008,
          2009,
          2010,
          2011,
          2012,
          2013,
          2014,
          2015,
          2016
         ],
         "y": [
          null,
          null,
          901.3911969458792,
          847.0207859869749,
          813.1774983157422,
          828.0286308855453,
          775.0368859944607,
          905.7004476382963,
          952.1108585972004,
          925.410499288869,
          951.8766269930384,
          1000.9714215135862,
          933.2733393218053,
          1011.1617037203381,
          1040.6938438505872,
          931.198501384834,
          899.3645287820943,
          909.0714559473014,
          840.0641874391795,
          784.8515846994535,
          901.847749083015,
          1109.1092731491876,
          1014.989195299049,
          1090.4100172168573,
          1199.1141268058984,
          1270.6373411183472,
          1226.6865019836814,
          1355.801570476832,
          1338.333077326147,
          1445.670632532375,
          1431.5802949322556,
          1601.1791990418446,
          1601.392349726776,
          1570.8915517628566,
          1513.4241335429301,
          1554.7994760086835,
          1508.6581061456695,
          1491.5302926865784,
          1458.3691728422787,
          1405.5795838011825,
          1254.9724605135111,
          1203.3411752376674,
          1429.534742121416,
          1543.7955640392242,
          1517.1522763679918,
          1478.0716625495922,
          1224.9297971405047,
          1018.3917149487239,
          1029.6300711131073,
          1126.4729889961823,
          1197.0445617186917,
          1457.5881233625273,
          1530.229767198144,
          1471.8157526760992,
          1389.9470813683668,
          1281.0747526012433,
          1025.7651635601476,
          860.3806033385741,
          745.2340699154138,
          664.7573575866467,
          705.6970836140439,
          739.3088015570038,
          874.2725398607693,
          835.672539860769,
          840.086238490906,
          777.2489078523852,
          797.1758200464117,
          646.643765251891,
          621.7166419642198,
          539.4925892656645,
          553.1003308630894,
          596.6532075754182,
          692.7052623699386,
          782.2603398457976,
          953.6350774758597,
          1003.1572692566815,
          999.5386391196953,
          1052.0040811437989,
          1006.742702298077,
          955.412291339173,
          1087.8785927090362,
          1133.3414776555142,
          1170.651378097164,
          1381.4058986451093,
          1525.7571315218215,
          1476.3527000524002,
          1483.6295411333194,
          1450.9111849689357,
          1253.2596781196207,
          1119.5663043641002,
          1093.821694737631,
          null,
          null
         ]
        },
        {
         "line": {
          "color": "rgba(187.5,187.5,62.5,1)",
          "shape": "spline",
          "width": 2
         },
         "name": "10 year ma",
         "type": "scatter",
         "x": [
          1924,
          1925,
          1926,
          1927,
          1928,
          1929,
          1930,
          1931,
          1932,
          1933,
          1934,
          1935,
          1936,
          1937,
          1938,
          1939,
          1940,
          1941,
          1942,
          1943,
          1944,
          1945,
          1946,
          1947,
          1948,
          1949,
          1950,
          1951,
          1952,
          1953,
          1954,
          1955,
          1956,
          1957,
          1958,
          1959,
          1960,
          1961,
          1962,
          1963,
          1964,
          1965,
          1966,
          1967,
          1968,
          1969,
          1970,
          1971,
          1972,
          1973,
          1974,
          1975,
          1976,
          1977,
          1978,
          1979,
          1980,
          1981,
          1982,
          1983,
          1984,
          1985,
          1986,
          1987,
          1988,
          1989,
          1990,
          1991,
          1992,
          1993,
          1994,
          1995,
          1996,
          1997,
          1998,
          1999,
          2000,
          2001,
          2002,
          2003,
          2004,
          2005,
          2006,
          2007,
          2008,
          2009,
          2010,
          2011,
          2012,
          2013,
          2014,
          2015,
          2016
         ],
         "y": [
          null,
          null,
          null,
          null,
          null,
          903.5458222920879,
          899.5658222920878,
          869.2939988023056,
          889.9526289392919,
          888.0041537540237,
          919.486893480051,
          981.6362811587694,
          983.0521715697284,
          941.5375641889365,
          950.1679751478405,
          921.1723976345536,
          925.6129455797593,
          912.7727142750209,
          916.523125233925,
          1004.2369009656413,
          962.0303256231757,
          965.2371023280188,
          991.9828557526762,
          1086.2425451006814,
          1167.8978875664347,
          1185.395382887941,
          1214.3715472715025,
          1322.3923796691372,
          1351.1088180253016,
          1413.9328505127635,
          1478.5969601018046,
          1454.6123145445024,
          1479.5473830376532,
          1493.18988547047,
          1554.9186525937578,
          1546.4613212066777,
          1514.630362302568,
          1459.5018586720566,
          1404.8859682610978,
          1355.999640691669,
          1460.5325174039976,
          1501.082368440752,
          1461.3659300845877,
          1366.5220615315525,
          1214.1354861890866,
          1223.9632285350704,
          1286.7128175761663,
          1321.8126326820875,
          1337.5581121341424,
          1341.2589602515166,
          1274.3107410734342,
          1250.7229118946034,
          1258.2100351822746,
          1239.0596571599676,
          1241.6766434613373,
          1195.3051852683589,
          1108.5249112957563,
          1027.3522194775064,
          993.3859181076434,
          882.5369825585752,
          867.3265715996711,
          790.453304888091,
          752.4217980387759,
          741.4729957332141,
          768.2423108017073,
          760.4581525563297,
          728.6945909124939,
          689.7894138782848,
          665.1746193577369,
          696.9145138109145,
          669.6745138109145,
          701.9884909050085,
          746.5638333707618,
          778.1288000598853,
          798.0959233475565,
          872.3546717568686,
          894.5015210719372,
          954.5236844075162,
          1045.5179309828586,
          1066.4400583876045,
          1111.3277296204813,
          1194.074300471593,
          1240.5847114304972,
          1282.115646380718,
          1308.4855093944166,
          1310.7812815330497,
          1317.3327883823647,
          1322.6617179429606,
          1285.0871973950154,
          null,
          null,
          null,
          null
         ]
        },
        {
         "line": {
          "color": "rgba(125.0,125.0,125.0,1)",
          "shape": "spline",
          "width": 2.6666666666666665
         },
         "name": "15 year ma",
         "type": "scatter",
         "x": [
          1924,
          1925,
          1926,
          1927,
          1928,
          1929,
          1930,
          1931,
          1932,
          1933,
          1934,
          1935,
          1936,
          1937,
          1938,
          1939,
          1940,
          1941,
          1942,
          1943,
          1944,
          1945,
          1946,
          1947,
          1948,
          1949,
          1950,
          1951,
          1952,
          1953,
          1954,
          1955,
          1956,
          1957,
          1958,
          1959,
          1960,
          1961,
          1962,
          1963,
          1964,
          1965,
          1966,
          1967,
          1968,
          1969,
          1970,
          1971,
          1972,
          1973,
          1974,
          1975,
          1976,
          1977,
          1978,
          1979,
          1980,
          1981,
          1982,
          1983,
          1984,
          1985,
          1986,
          1987,
          1988,
          1989,
          1990,
          1991,
          1992,
          1993,
          1994,
          1995,
          1996,
          1997,
          1998,
          1999,
          2000,
          2001,
          2002,
          2003,
          2004,
          2005,
          2006,
          2007,
          2008,
          2009,
          2010,
          2011,
          2012,
          2013,
          2014,
          2015,
          2016
         ],
         "y": [
          null,
          null,
          null,
          null,
          null,
          null,
          null,
          913.4549946353271,
          936.7644494348381,
          926.4272804850664,
          903.7012530878061,
          891.7909454300474,
          916.0150809691346,
          934.4455832522397,
          916.9853092796369,
          928.3076258202962,
          1003.1484078149564,
          952.444663522719,
          980.5453027921253,
          1008.2198517853135,
          1034.561197195399,
          1078.3867679716548,
          1093.2874072410611,
          1089.6024273273952,
          1143.2121146792429,
          1201.3551283778731,
          1312.3249913915718,
          1324.0610385008865,
          1333.211548768621,
          1386.069630960402,
          1419.0057040197628,
          1445.5079357237325,
          1482.908070963396,
          1455.8646006437616,
          1454.8914499588302,
          1413.7840771514843,
          1437.7261601417279,
          1507.4857948449244,
          1524.3520962147875,
          1478.7186645707022,
          1429.2811996905964,
          1312.3096928412815,
          1313.152249918907,
          1343.931602664871,
          1349.7349497217865,
          1310.0295615939326,
          1295.2863652469007,
          1326.0520747560954,
          1348.413795942811,
          1344.524115577514,
          1318.730325623176,
          1236.0943613543934,
          1136.3340284951475,
          1082.2266312348734,
          1060.3924759837319,
          1061.2721326446595,
          1074.2206961598927,
          1088.2943034658288,
          1017.574120817427,
          964.930225815306,
          921.3402480225571,
          854.0832617211872,
          793.765636150411,
          734.2077505801338,
          681.4453951144054,
          678.6821074431724,
          711.0459430596109,
          737.8738558275326,
          746.5498405569284,
          777.7379684108096,
          777.835502657385,
          797.7892222471747,
          797.117702921876,
          803.5732280360313,
          816.1799860268989,
          881.3787309429355,
          909.8444414502089,
          971.7869072036336,
          1056.8029802629944,
          1144.9348334456179,
          1189.1295206727054,
          1205.5032193028426,
          1224.5222147366326,
          1213.802759687602,
          1200.2452424083644,
          1219.350995833022,
          null,
          null,
          null,
          null,
          null,
          null,
          null
         ]
        },
        {
         "line": {
          "color": "rgba(62.5,62.5,187.5,1)",
          "shape": "spline",
          "width": 3.3333333333333335
         },
         "name": "20 year ma",
         "type": "scatter",
         "x": [
          1924,
          1925,
          1926,
          1927,
          1928,
          1929,
          1930,
          1931,
          1932,
          1933,
          1934,
          1935,
          1936,
          1937,
          1938,
          1939,
          1940,
          1941,
          1942,
          1943,
          1944,
          1945,
          1946,
          1947,
          1948,
          1949,
          1950,
          1951,
          1952,
          1953,
          1954,
          1955,
          1956,
          1957,
          1958,
          1959,
          1960,
          1961,
          1962,
          1963,
          1964,
          1965,
          1966,
          1967,
          1968,
          1969,
          1970,
          1971,
          1972,
          1973,
          1974,
          1975,
          1976,
          1977,
          1978,
          1979,
          1980,
          1981,
          1982,
          1983,
          1984,
          1985,
          1986,
          1987,
          1988,
          1989,
          1990,
          1991,
          1992,
          1993,
          1994,
          1995,
          1996,
          1997,
          1998,
          1999,
          2000,
          2001,
          2002,
          2003,
          2004,
          2005,
          2006,
          2007,
          2008,
          2009,
          2010,
          2011,
          2012,
          2013,
          2014,
          2015,
          2016
         ],
         "y": [
          null,
          null,
          null,
          null,
          null,
          null,
          null,
          null,
          null,
          null,
          912.3591099633207,
          912.5893839359236,
          891.0333565386634,
          903.2378770866086,
          946.1205273598327,
          940.7586095516135,
          973.4366917433942,
          987.5175136612024,
          1013.8900546448091,
          1059.0329313571378,
          1053.2838902612475,
          1069.992246425631,
          1117.5825469720792,
          1133.8159716296136,
          1209.0848757392027,
          1220.3136428624905,
          1209.924708436261,
          1235.7651193951651,
          1289.716215285576,
          1361.4082700800966,
          1365.9283520473095,
          1364.5009547870357,
          1390.9471191705975,
          1377.9973931432,
          1384.9662456022165,
          1469.5647387529013,
          1477.8473414926275,
          1470.4566565611208,
          1429.8559735010115,
          1384.5270693914224,
          1385.2122748708746,
          1400.6715899393675,
          1390.6572456770723,
          1371.2220401976203,
          1348.6293004715928,
          1367.421629238716,
          1375.9026401676779,
          1359.7879826334313,
          1302.79085934576,
          1227.906064825212,
          1209.6342069017148,
          1197.6188644359613,
          1174.5824260797967,
          1165.4720151208926,
          1111.8979714050458,
          1070.8186563365527,
          1020.5881083913471,
          1005.3159166105252,
          990.2663264465907,
          1004.9594771315221,
          977.8816689123441,
          918.609751104125,
          858.5708166778957,
          829.2802687326903,
          789.725748184745,
          768.5005427052929,
          746.2208978965497,
          749.4928157047688,
          759.8008978965496,
          783.1691170746319,
          816.4064121565991,
          811.5980559922156,
          822.1565491429004,
          855.3462751702976,
          881.6772860992593,
          890.5011217156976,
          948.0313956883004,
          993.5742724006292,
          1030.1222232203013,
          1053.2907163709863,
          1091.567976644959,
          1105.9171547271505,
          1138.5927011752378,
          1165.3025641889365,
          null,
          null,
          null,
          null,
          null,
          null,
          null,
          null,
          null
         ]
        },
        {
         "marker": {
          "color": "rgb(204, 80, 80)"
         },
         "name": "Mean annual flow",
         "type": "bar",
         "x": [
          1924,
          1925,
          1926,
          1927,
          1928,
          1929,
          1930,
          1931,
          1932,
          1933,
          1934,
          1935,
          1936,
          1937,
          1938,
          1939,
          1940,
          1941,
          1942,
          1943,
          1944,
          1945,
          1946,
          1947,
          1948,
          1949,
          1950,
          1951,
          1952,
          1953,
          1954,
          1955,
          1956,
          1957,
          1958,
          1959,
          1960,
          1961,
          1962,
          1963,
          1964,
          1965,
          1966,
          1967,
          1968,
          1969,
          1970,
          1971,
          1972,
          1973,
          1974,
          1975,
          1976,
          1977,
          1978,
          1979,
          1980,
          1981,
          1982,
          1983,
          1984,
          1985,
          1986,
          1987,
          1988,
          1989,
          1990,
          1991,
          1992,
          1993,
          1994,
          1995,
          1996,
          1997,
          1998,
          1999,
          2000,
          2001,
          2002,
          2003,
          2004,
          2005,
          2006,
          2007,
          2008,
          2009,
          2010,
          2011,
          2012,
          2013,
          2014,
          2015,
          2016
         ],
         "y": [
          992.0931506849316,
          1111.8739726027395,
          990.427397260274,
          848.0655737704918,
          564.4958904109589,
          720.2410958904111,
          942.6575342465753,
          1064.6830601092895,
          583.1068493150685,
          1217.813698630137,
          952.2931506849317,
          809.155737704918,
          1197.013698630137,
          828.5808219178082,
          879.3232876712327,
          1341.7349726775956,
          956.8164383561644,
          649.5369863013699,
          669.4109589041096,
          927.8579234972676,
          996.6986301369864,
          680.7534246575343,
          1234.517808219178,
          1705.7185792349726,
          457.2575342465754,
          1373.8027397260273,
          1224.2739726027396,
          1592.133879781421,
          1485.964383561644,
          1102.8328767123287,
          1286.4602739726026,
          1760.9617486338798,
          1521.6821917808222,
          2333.9589041095887,
          1103.8986301369864,
          1133.9562841530055,
          1473.6246575342466,
          1728.5589041095889,
          2103.2520547945205,
          1018.2595628415302,
          968.1506849315068,
          1209.6767123287668,
          975.5232876712328,
          1845.0956284153006,
          2149.227397260274,
          1539.4547945205481,
          1076.4602739726026,
          780.1202185792349,
          579.386301369863,
          1116.5369863013698,
          1595.6465753424654,
          1560.674863387978,
          1132.978082191781,
          1882.104109589041,
          1479.745205479452,
          1303.5765027322404,
          1151.331506849315,
          588.6164383561644,
          605.5561643835616,
          652.8224043715848,
          727.8438356164385,
          748.9479452054794,
          793.3150684931506,
          773.6147540983608,
          1327.6410958904112,
          534.8438356164384,
          771.0164383561644,
          479.1284153005465,
          873.2493150684932,
          574.9808219178083,
          410.2082191780822,
          359.896174863388,
          547.1671232876712,
          1091.013698630137,
          1055.2410958904109,
          857.983606557377,
          1216.7698630136983,
          794.7780821917809,
          1072.9205479452057,
          1317.568306010929,
          631.6767123287673,
          960.117808219178,
          1457.109589041096,
          1300.2349726775956,
          1504.1178082191782,
          1685.4493150684934,
          1681.8739726027395,
          1210.0874316939892,
          1336.6191780821919,
          1340.5260273972603,
          697.1917808219179,
          1013.4071038251366,
          1081.3643835616438
         ]
        }
       ],
       "layout": {
        "autosize": false,
        "height": 400,
        "plot_bgcolor": "white",
        "template": {
         "data": {
          "bar": [
           {
            "error_x": {
             "color": "#2a3f5f"
            },
            "error_y": {
             "color": "#2a3f5f"
            },
            "marker": {
             "line": {
              "color": "#E5ECF6",
              "width": 0.5
             }
            },
            "type": "bar"
           }
          ],
          "barpolar": [
           {
            "marker": {
             "line": {
              "color": "#E5ECF6",
              "width": 0.5
             }
            },
            "type": "barpolar"
           }
          ],
          "carpet": [
           {
            "aaxis": {
             "endlinecolor": "#2a3f5f",
             "gridcolor": "white",
             "linecolor": "white",
             "minorgridcolor": "white",
             "startlinecolor": "#2a3f5f"
            },
            "baxis": {
             "endlinecolor": "#2a3f5f",
             "gridcolor": "white",
             "linecolor": "white",
             "minorgridcolor": "white",
             "startlinecolor": "#2a3f5f"
            },
            "type": "carpet"
           }
          ],
          "choropleth": [
           {
            "colorbar": {
             "outlinewidth": 0,
             "ticks": ""
            },
            "type": "choropleth"
           }
          ],
          "contour": [
           {
            "colorbar": {
             "outlinewidth": 0,
             "ticks": ""
            },
            "colorscale": [
             [
              0,
              "#0d0887"
             ],
             [
              0.1111111111111111,
              "#46039f"
             ],
             [
              0.2222222222222222,
              "#7201a8"
             ],
             [
              0.3333333333333333,
              "#9c179e"
             ],
             [
              0.4444444444444444,
              "#bd3786"
             ],
             [
              0.5555555555555556,
              "#d8576b"
             ],
             [
              0.6666666666666666,
              "#ed7953"
             ],
             [
              0.7777777777777778,
              "#fb9f3a"
             ],
             [
              0.8888888888888888,
              "#fdca26"
             ],
             [
              1,
              "#f0f921"
             ]
            ],
            "type": "contour"
           }
          ],
          "contourcarpet": [
           {
            "colorbar": {
             "outlinewidth": 0,
             "ticks": ""
            },
            "type": "contourcarpet"
           }
          ],
          "heatmap": [
           {
            "colorbar": {
             "outlinewidth": 0,
             "ticks": ""
            },
            "colorscale": [
             [
              0,
              "#0d0887"
             ],
             [
              0.1111111111111111,
              "#46039f"
             ],
             [
              0.2222222222222222,
              "#7201a8"
             ],
             [
              0.3333333333333333,
              "#9c179e"
             ],
             [
              0.4444444444444444,
              "#bd3786"
             ],
             [
              0.5555555555555556,
              "#d8576b"
             ],
             [
              0.6666666666666666,
              "#ed7953"
             ],
             [
              0.7777777777777778,
              "#fb9f3a"
             ],
             [
              0.8888888888888888,
              "#fdca26"
             ],
             [
              1,
              "#f0f921"
             ]
            ],
            "type": "heatmap"
           }
          ],
          "heatmapgl": [
           {
            "colorbar": {
             "outlinewidth": 0,
             "ticks": ""
            },
            "colorscale": [
             [
              0,
              "#0d0887"
             ],
             [
              0.1111111111111111,
              "#46039f"
             ],
             [
              0.2222222222222222,
              "#7201a8"
             ],
             [
              0.3333333333333333,
              "#9c179e"
             ],
             [
              0.4444444444444444,
              "#bd3786"
             ],
             [
              0.5555555555555556,
              "#d8576b"
             ],
             [
              0.6666666666666666,
              "#ed7953"
             ],
             [
              0.7777777777777778,
              "#fb9f3a"
             ],
             [
              0.8888888888888888,
              "#fdca26"
             ],
             [
              1,
              "#f0f921"
             ]
            ],
            "type": "heatmapgl"
           }
          ],
          "histogram": [
           {
            "marker": {
             "colorbar": {
              "outlinewidth": 0,
              "ticks": ""
             }
            },
            "type": "histogram"
           }
          ],
          "histogram2d": [
           {
            "colorbar": {
             "outlinewidth": 0,
             "ticks": ""
            },
            "colorscale": [
             [
              0,
              "#0d0887"
             ],
             [
              0.1111111111111111,
              "#46039f"
             ],
             [
              0.2222222222222222,
              "#7201a8"
             ],
             [
              0.3333333333333333,
              "#9c179e"
             ],
             [
              0.4444444444444444,
              "#bd3786"
             ],
             [
              0.5555555555555556,
              "#d8576b"
             ],
             [
              0.6666666666666666,
              "#ed7953"
             ],
             [
              0.7777777777777778,
              "#fb9f3a"
             ],
             [
              0.8888888888888888,
              "#fdca26"
             ],
             [
              1,
              "#f0f921"
             ]
            ],
            "type": "histogram2d"
           }
          ],
          "histogram2dcontour": [
           {
            "colorbar": {
             "outlinewidth": 0,
             "ticks": ""
            },
            "colorscale": [
             [
              0,
              "#0d0887"
             ],
             [
              0.1111111111111111,
              "#46039f"
             ],
             [
              0.2222222222222222,
              "#7201a8"
             ],
             [
              0.3333333333333333,
              "#9c179e"
             ],
             [
              0.4444444444444444,
              "#bd3786"
             ],
             [
              0.5555555555555556,
              "#d8576b"
             ],
             [
              0.6666666666666666,
              "#ed7953"
             ],
             [
              0.7777777777777778,
              "#fb9f3a"
             ],
             [
              0.8888888888888888,
              "#fdca26"
             ],
             [
              1,
              "#f0f921"
             ]
            ],
            "type": "histogram2dcontour"
           }
          ],
          "mesh3d": [
           {
            "colorbar": {
             "outlinewidth": 0,
             "ticks": ""
            },
            "type": "mesh3d"
           }
          ],
          "parcoords": [
           {
            "line": {
             "colorbar": {
              "outlinewidth": 0,
              "ticks": ""
             }
            },
            "type": "parcoords"
           }
          ],
          "pie": [
           {
            "automargin": true,
            "type": "pie"
           }
          ],
          "scatter": [
           {
            "marker": {
             "colorbar": {
              "outlinewidth": 0,
              "ticks": ""
             }
            },
            "type": "scatter"
           }
          ],
          "scatter3d": [
           {
            "line": {
             "colorbar": {
              "outlinewidth": 0,
              "ticks": ""
             }
            },
            "marker": {
             "colorbar": {
              "outlinewidth": 0,
              "ticks": ""
             }
            },
            "type": "scatter3d"
           }
          ],
          "scattercarpet": [
           {
            "marker": {
             "colorbar": {
              "outlinewidth": 0,
              "ticks": ""
             }
            },
            "type": "scattercarpet"
           }
          ],
          "scattergeo": [
           {
            "marker": {
             "colorbar": {
              "outlinewidth": 0,
              "ticks": ""
             }
            },
            "type": "scattergeo"
           }
          ],
          "scattergl": [
           {
            "marker": {
             "colorbar": {
              "outlinewidth": 0,
              "ticks": ""
             }
            },
            "type": "scattergl"
           }
          ],
          "scattermapbox": [
           {
            "marker": {
             "colorbar": {
              "outlinewidth": 0,
              "ticks": ""
             }
            },
            "type": "scattermapbox"
           }
          ],
          "scatterpolar": [
           {
            "marker": {
             "colorbar": {
              "outlinewidth": 0,
              "ticks": ""
             }
            },
            "type": "scatterpolar"
           }
          ],
          "scatterpolargl": [
           {
            "marker": {
             "colorbar": {
              "outlinewidth": 0,
              "ticks": ""
             }
            },
            "type": "scatterpolargl"
           }
          ],
          "scatterternary": [
           {
            "marker": {
             "colorbar": {
              "outlinewidth": 0,
              "ticks": ""
             }
            },
            "type": "scatterternary"
           }
          ],
          "surface": [
           {
            "colorbar": {
             "outlinewidth": 0,
             "ticks": ""
            },
            "colorscale": [
             [
              0,
              "#0d0887"
             ],
             [
              0.1111111111111111,
              "#46039f"
             ],
             [
              0.2222222222222222,
              "#7201a8"
             ],
             [
              0.3333333333333333,
              "#9c179e"
             ],
             [
              0.4444444444444444,
              "#bd3786"
             ],
             [
              0.5555555555555556,
              "#d8576b"
             ],
             [
              0.6666666666666666,
              "#ed7953"
             ],
             [
              0.7777777777777778,
              "#fb9f3a"
             ],
             [
              0.8888888888888888,
              "#fdca26"
             ],
             [
              1,
              "#f0f921"
             ]
            ],
            "type": "surface"
           }
          ],
          "table": [
           {
            "cells": {
             "fill": {
              "color": "#EBF0F8"
             },
             "line": {
              "color": "white"
             }
            },
            "header": {
             "fill": {
              "color": "#C8D4E3"
             },
             "line": {
              "color": "white"
             }
            },
            "type": "table"
           }
          ]
         },
         "layout": {
          "annotationdefaults": {
           "arrowcolor": "#2a3f5f",
           "arrowhead": 0,
           "arrowwidth": 1
          },
          "coloraxis": {
           "colorbar": {
            "outlinewidth": 0,
            "ticks": ""
           }
          },
          "colorscale": {
           "diverging": [
            [
             0,
             "#8e0152"
            ],
            [
             0.1,
             "#c51b7d"
            ],
            [
             0.2,
             "#de77ae"
            ],
            [
             0.3,
             "#f1b6da"
            ],
            [
             0.4,
             "#fde0ef"
            ],
            [
             0.5,
             "#f7f7f7"
            ],
            [
             0.6,
             "#e6f5d0"
            ],
            [
             0.7,
             "#b8e186"
            ],
            [
             0.8,
             "#7fbc41"
            ],
            [
             0.9,
             "#4d9221"
            ],
            [
             1,
             "#276419"
            ]
           ],
           "sequential": [
            [
             0,
             "#0d0887"
            ],
            [
             0.1111111111111111,
             "#46039f"
            ],
            [
             0.2222222222222222,
             "#7201a8"
            ],
            [
             0.3333333333333333,
             "#9c179e"
            ],
            [
             0.4444444444444444,
             "#bd3786"
            ],
            [
             0.5555555555555556,
             "#d8576b"
            ],
            [
             0.6666666666666666,
             "#ed7953"
            ],
            [
             0.7777777777777778,
             "#fb9f3a"
            ],
            [
             0.8888888888888888,
             "#fdca26"
            ],
            [
             1,
             "#f0f921"
            ]
           ],
           "sequentialminus": [
            [
             0,
             "#0d0887"
            ],
            [
             0.1111111111111111,
             "#46039f"
            ],
            [
             0.2222222222222222,
             "#7201a8"
            ],
            [
             0.3333333333333333,
             "#9c179e"
            ],
            [
             0.4444444444444444,
             "#bd3786"
            ],
            [
             0.5555555555555556,
             "#d8576b"
            ],
            [
             0.6666666666666666,
             "#ed7953"
            ],
            [
             0.7777777777777778,
             "#fb9f3a"
            ],
            [
             0.8888888888888888,
             "#fdca26"
            ],
            [
             1,
             "#f0f921"
            ]
           ]
          },
          "colorway": [
           "#636efa",
           "#EF553B",
           "#00cc96",
           "#ab63fa",
           "#FFA15A",
           "#19d3f3",
           "#FF6692",
           "#B6E880",
           "#FF97FF",
           "#FECB52"
          ],
          "font": {
           "color": "#2a3f5f"
          },
          "geo": {
           "bgcolor": "white",
           "lakecolor": "white",
           "landcolor": "#E5ECF6",
           "showlakes": true,
           "showland": true,
           "subunitcolor": "white"
          },
          "hoverlabel": {
           "align": "left"
          },
          "hovermode": "closest",
          "mapbox": {
           "style": "light"
          },
          "paper_bgcolor": "white",
          "plot_bgcolor": "#E5ECF6",
          "polar": {
           "angularaxis": {
            "gridcolor": "white",
            "linecolor": "white",
            "ticks": ""
           },
           "bgcolor": "#E5ECF6",
           "radialaxis": {
            "gridcolor": "white",
            "linecolor": "white",
            "ticks": ""
           }
          },
          "scene": {
           "xaxis": {
            "backgroundcolor": "#E5ECF6",
            "gridcolor": "white",
            "gridwidth": 2,
            "linecolor": "white",
            "showbackground": true,
            "ticks": "",
            "zerolinecolor": "white"
           },
           "yaxis": {
            "backgroundcolor": "#E5ECF6",
            "gridcolor": "white",
            "gridwidth": 2,
            "linecolor": "white",
            "showbackground": true,
            "ticks": "",
            "zerolinecolor": "white"
           },
           "zaxis": {
            "backgroundcolor": "#E5ECF6",
            "gridcolor": "white",
            "gridwidth": 2,
            "linecolor": "white",
            "showbackground": true,
            "ticks": "",
            "zerolinecolor": "white"
           }
          },
          "shapedefaults": {
           "line": {
            "color": "#2a3f5f"
           }
          },
          "ternary": {
           "aaxis": {
            "gridcolor": "white",
            "linecolor": "white",
            "ticks": ""
           },
           "baxis": {
            "gridcolor": "white",
            "linecolor": "white",
            "ticks": ""
           },
           "bgcolor": "#E5ECF6",
           "caxis": {
            "gridcolor": "white",
            "linecolor": "white",
            "ticks": ""
           }
          },
          "title": {
           "x": 0.05
          },
          "xaxis": {
           "automargin": true,
           "gridcolor": "white",
           "linecolor": "white",
           "ticks": "",
           "title": {
            "standoff": 15
           },
           "zerolinecolor": "white",
           "zerolinewidth": 2
          },
          "yaxis": {
           "automargin": true,
           "gridcolor": "white",
           "linecolor": "white",
           "ticks": "",
           "title": {
            "standoff": 15
           },
           "zerolinecolor": "white",
           "zerolinewidth": 2
          }
         }
        },
        "title": {
         "text": "Mean Annual Flow"
        },
        "width": 1200,
        "xaxis": {
         "autorange": true,
         "range": [
          1923.5,
          2016.5
         ],
         "showgrid": false,
         "showline": false,
         "showticklabels": true,
         "ticks": "outside",
         "type": "linear"
        },
        "yaxis": {
         "gridcolor": "rgb(204, 204, 204)",
         "range": [
          0,
          2500
         ],
         "separatethousands": true,
         "title": {
          "text": "Flow m³/s"
         },
         "type": "linear"
        }
       }
      },
      "image/png": "[encoded data removed]",
      "text/html": [
       "<div>\n",
       "        \n",
       "        \n",
       "            <div id=\"da0ea8a6-2d10-45c8-a36e-203eb4547120\" class=\"plotly-graph-div\" style=\"height:400px; width:1200px;\"></div>\n",
       "            <script type=\"text/javascript\">\n",
       "                require([\"plotly\"], function(Plotly) {\n",
       "                    window.PLOTLYENV=window.PLOTLYENV || {};\n",
       "                    \n",
       "                if (document.getElementById(\"da0ea8a6-2d10-45c8-a36e-203eb4547120\")) {\n",
       "                    Plotly.newPlot(\n",
       "                        'da0ea8a6-2d10-45c8-a36e-203eb4547120',\n",
       "                        [{\"line\": {\"color\": \"rgba(250.0,250.0,0.0,1)\", \"shape\": \"spline\", \"width\": 1.3333333333333333}, \"name\": \"5 year ma\", \"type\": \"scatter\", \"x\": [1924, 1925, 1926, 1927, 1928, 1929, 1930, 1931, 1932, 1933, 1934, 1935, 1936, 1937, 1938, 1939, 1940, 1941, 1942, 1943, 1944, 1945, 1946, 1947, 1948, 1949, 1950, 1951, 1952, 1953, 1954, 1955, 1956, 1957, 1958, 1959, 1960, 1961, 1962, 1963, 1964, 1965, 1966, 1967, 1968, 1969, 1970, 1971, 1972, 1973, 1974, 1975, 1976, 1977, 1978, 1979, 1980, 1981, 1982, 1983, 1984, 1985, 1986, 1987, 1988, 1989, 1990, 1991, 1992, 1993, 1994, 1995, 1996, 1997, 1998, 1999, 2000, 2001, 2002, 2003, 2004, 2005, 2006, 2007, 2008, 2009, 2010, 2011, 2012, 2013, 2014, 2015, 2016], \"y\": [null, null, 901.3911969458792, 847.0207859869749, 813.1774983157422, 828.0286308855453, 775.0368859944607, 905.7004476382963, 952.1108585972004, 925.410499288869, 951.8766269930384, 1000.9714215135862, 933.2733393218053, 1011.1617037203381, 1040.6938438505872, 931.198501384834, 899.3645287820943, 909.0714559473014, 840.0641874391795, 784.8515846994535, 901.847749083015, 1109.1092731491876, 1014.989195299049, 1090.4100172168573, 1199.1141268058984, 1270.6373411183472, 1226.6865019836814, 1355.801570476832, 1338.333077326147, 1445.670632532375, 1431.5802949322556, 1601.1791990418446, 1601.392349726776, 1570.8915517628566, 1513.4241335429301, 1554.7994760086835, 1508.6581061456695, 1491.5302926865784, 1458.3691728422787, 1405.5795838011825, 1254.9724605135111, 1203.3411752376674, 1429.534742121416, 1543.7955640392242, 1517.1522763679918, 1478.0716625495922, 1224.9297971405047, 1018.3917149487239, 1029.6300711131073, 1126.4729889961823, 1197.0445617186917, 1457.5881233625273, 1530.229767198144, 1471.8157526760992, 1389.9470813683668, 1281.0747526012433, 1025.7651635601476, 860.3806033385741, 745.2340699154138, 664.7573575866467, 705.6970836140439, 739.3088015570038, 874.2725398607693, 835.672539860769, 840.086238490906, 777.2489078523852, 797.1758200464117, 646.643765251891, 621.7166419642198, 539.4925892656645, 553.1003308630894, 596.6532075754182, 692.7052623699386, 782.2603398457976, 953.6350774758597, 1003.1572692566815, 999.5386391196953, 1052.0040811437989, 1006.742702298077, 955.412291339173, 1087.8785927090362, 1133.3414776555142, 1170.651378097164, 1381.4058986451093, 1525.7571315218215, 1476.3527000524002, 1483.6295411333194, 1450.9111849689357, 1253.2596781196207, 1119.5663043641002, 1093.821694737631, null, null]}, {\"line\": {\"color\": \"rgba(187.5,187.5,62.5,1)\", \"shape\": \"spline\", \"width\": 2.0}, \"name\": \"10 year ma\", \"type\": \"scatter\", \"x\": [1924, 1925, 1926, 1927, 1928, 1929, 1930, 1931, 1932, 1933, 1934, 1935, 1936, 1937, 1938, 1939, 1940, 1941, 1942, 1943, 1944, 1945, 1946, 1947, 1948, 1949, 1950, 1951, 1952, 1953, 1954, 1955, 1956, 1957, 1958, 1959, 1960, 1961, 1962, 1963, 1964, 1965, 1966, 1967, 1968, 1969, 1970, 1971, 1972, 1973, 1974, 1975, 1976, 1977, 1978, 1979, 1980, 1981, 1982, 1983, 1984, 1985, 1986, 1987, 1988, 1989, 1990, 1991, 1992, 1993, 1994, 1995, 1996, 1997, 1998, 1999, 2000, 2001, 2002, 2003, 2004, 2005, 2006, 2007, 2008, 2009, 2010, 2011, 2012, 2013, 2014, 2015, 2016], \"y\": [null, null, null, null, null, 903.5458222920879, 899.5658222920878, 869.2939988023056, 889.9526289392919, 888.0041537540237, 919.486893480051, 981.6362811587694, 983.0521715697284, 941.5375641889365, 950.1679751478405, 921.1723976345536, 925.6129455797593, 912.7727142750209, 916.523125233925, 1004.2369009656413, 962.0303256231757, 965.2371023280188, 991.9828557526762, 1086.2425451006814, 1167.8978875664347, 1185.395382887941, 1214.3715472715025, 1322.3923796691372, 1351.1088180253016, 1413.9328505127635, 1478.5969601018046, 1454.6123145445024, 1479.5473830376532, 1493.18988547047, 1554.9186525937578, 1546.4613212066777, 1514.630362302568, 1459.5018586720566, 1404.8859682610978, 1355.999640691669, 1460.5325174039976, 1501.082368440752, 1461.3659300845877, 1366.5220615315525, 1214.1354861890866, 1223.9632285350704, 1286.7128175761663, 1321.8126326820875, 1337.5581121341424, 1341.2589602515166, 1274.3107410734342, 1250.7229118946034, 1258.2100351822746, 1239.0596571599676, 1241.6766434613373, 1195.3051852683589, 1108.5249112957563, 1027.3522194775064, 993.3859181076434, 882.5369825585752, 867.3265715996711, 790.453304888091, 752.4217980387759, 741.4729957332141, 768.2423108017073, 760.4581525563297, 728.6945909124939, 689.7894138782848, 665.1746193577369, 696.9145138109145, 669.6745138109145, 701.9884909050085, 746.5638333707618, 778.1288000598853, 798.0959233475565, 872.3546717568686, 894.5015210719372, 954.5236844075162, 1045.5179309828586, 1066.4400583876045, 1111.3277296204813, 1194.074300471593, 1240.5847114304972, 1282.115646380718, 1308.4855093944166, 1310.7812815330497, 1317.3327883823647, 1322.6617179429606, 1285.0871973950154, null, null, null, null]}, {\"line\": {\"color\": \"rgba(125.0,125.0,125.0,1)\", \"shape\": \"spline\", \"width\": 2.6666666666666665}, \"name\": \"15 year ma\", \"type\": \"scatter\", \"x\": [1924, 1925, 1926, 1927, 1928, 1929, 1930, 1931, 1932, 1933, 1934, 1935, 1936, 1937, 1938, 1939, 1940, 1941, 1942, 1943, 1944, 1945, 1946, 1947, 1948, 1949, 1950, 1951, 1952, 1953, 1954, 1955, 1956, 1957, 1958, 1959, 1960, 1961, 1962, 1963, 1964, 1965, 1966, 1967, 1968, 1969, 1970, 1971, 1972, 1973, 1974, 1975, 1976, 1977, 1978, 1979, 1980, 1981, 1982, 1983, 1984, 1985, 1986, 1987, 1988, 1989, 1990, 1991, 1992, 1993, 1994, 1995, 1996, 1997, 1998, 1999, 2000, 2001, 2002, 2003, 2004, 2005, 2006, 2007, 2008, 2009, 2010, 2011, 2012, 2013, 2014, 2015, 2016], \"y\": [null, null, null, null, null, null, null, 913.4549946353271, 936.7644494348381, 926.4272804850664, 903.7012530878061, 891.7909454300474, 916.0150809691346, 934.4455832522397, 916.9853092796369, 928.3076258202962, 1003.1484078149564, 952.444663522719, 980.5453027921253, 1008.2198517853135, 1034.561197195399, 1078.3867679716548, 1093.2874072410611, 1089.6024273273952, 1143.2121146792429, 1201.3551283778731, 1312.3249913915718, 1324.0610385008865, 1333.211548768621, 1386.069630960402, 1419.0057040197628, 1445.5079357237325, 1482.908070963396, 1455.8646006437616, 1454.8914499588302, 1413.7840771514843, 1437.7261601417279, 1507.4857948449244, 1524.3520962147875, 1478.7186645707022, 1429.2811996905964, 1312.3096928412815, 1313.152249918907, 1343.931602664871, 1349.7349497217865, 1310.0295615939326, 1295.2863652469007, 1326.0520747560954, 1348.413795942811, 1344.524115577514, 1318.730325623176, 1236.0943613543934, 1136.3340284951475, 1082.2266312348734, 1060.3924759837319, 1061.2721326446595, 1074.2206961598927, 1088.2943034658288, 1017.574120817427, 964.930225815306, 921.3402480225571, 854.0832617211872, 793.765636150411, 734.2077505801338, 681.4453951144054, 678.6821074431724, 711.0459430596109, 737.8738558275326, 746.5498405569284, 777.7379684108096, 777.835502657385, 797.7892222471747, 797.117702921876, 803.5732280360313, 816.1799860268989, 881.3787309429355, 909.8444414502089, 971.7869072036336, 1056.8029802629944, 1144.9348334456179, 1189.1295206727054, 1205.5032193028426, 1224.5222147366326, 1213.802759687602, 1200.2452424083644, 1219.350995833022, null, null, null, null, null, null, null]}, {\"line\": {\"color\": \"rgba(62.5,62.5,187.5,1)\", \"shape\": \"spline\", \"width\": 3.3333333333333335}, \"name\": \"20 year ma\", \"type\": \"scatter\", \"x\": [1924, 1925, 1926, 1927, 1928, 1929, 1930, 1931, 1932, 1933, 1934, 1935, 1936, 1937, 1938, 1939, 1940, 1941, 1942, 1943, 1944, 1945, 1946, 1947, 1948, 1949, 1950, 1951, 1952, 1953, 1954, 1955, 1956, 1957, 1958, 1959, 1960, 1961, 1962, 1963, 1964, 1965, 1966, 1967, 1968, 1969, 1970, 1971, 1972, 1973, 1974, 1975, 1976, 1977, 1978, 1979, 1980, 1981, 1982, 1983, 1984, 1985, 1986, 1987, 1988, 1989, 1990, 1991, 1992, 1993, 1994, 1995, 1996, 1997, 1998, 1999, 2000, 2001, 2002, 2003, 2004, 2005, 2006, 2007, 2008, 2009, 2010, 2011, 2012, 2013, 2014, 2015, 2016], \"y\": [null, null, null, null, null, null, null, null, null, null, 912.3591099633207, 912.5893839359236, 891.0333565386634, 903.2378770866086, 946.1205273598327, 940.7586095516135, 973.4366917433942, 987.5175136612024, 1013.8900546448091, 1059.0329313571378, 1053.2838902612475, 1069.992246425631, 1117.5825469720792, 1133.8159716296136, 1209.0848757392027, 1220.3136428624905, 1209.924708436261, 1235.7651193951651, 1289.716215285576, 1361.4082700800966, 1365.9283520473095, 1364.5009547870357, 1390.9471191705975, 1377.9973931432, 1384.9662456022165, 1469.5647387529013, 1477.8473414926275, 1470.4566565611208, 1429.8559735010115, 1384.5270693914224, 1385.2122748708746, 1400.6715899393675, 1390.6572456770723, 1371.2220401976203, 1348.6293004715928, 1367.421629238716, 1375.9026401676779, 1359.7879826334313, 1302.79085934576, 1227.906064825212, 1209.6342069017148, 1197.6188644359613, 1174.5824260797967, 1165.4720151208926, 1111.8979714050458, 1070.8186563365527, 1020.5881083913471, 1005.3159166105252, 990.2663264465907, 1004.9594771315221, 977.8816689123441, 918.609751104125, 858.5708166778957, 829.2802687326903, 789.725748184745, 768.5005427052929, 746.2208978965497, 749.4928157047688, 759.8008978965496, 783.1691170746319, 816.4064121565991, 811.5980559922156, 822.1565491429004, 855.3462751702976, 881.6772860992593, 890.5011217156976, 948.0313956883004, 993.5742724006292, 1030.1222232203013, 1053.2907163709863, 1091.567976644959, 1105.9171547271505, 1138.5927011752378, 1165.3025641889365, null, null, null, null, null, null, null, null, null]}, {\"marker\": {\"color\": \"rgb(204, 80, 80)\"}, \"name\": \"Mean annual flow\", \"type\": \"bar\", \"x\": [1924, 1925, 1926, 1927, 1928, 1929, 1930, 1931, 1932, 1933, 1934, 1935, 1936, 1937, 1938, 1939, 1940, 1941, 1942, 1943, 1944, 1945, 1946, 1947, 1948, 1949, 1950, 1951, 1952, 1953, 1954, 1955, 1956, 1957, 1958, 1959, 1960, 1961, 1962, 1963, 1964, 1965, 1966, 1967, 1968, 1969, 1970, 1971, 1972, 1973, 1974, 1975, 1976, 1977, 1978, 1979, 1980, 1981, 1982, 1983, 1984, 1985, 1986, 1987, 1988, 1989, 1990, 1991, 1992, 1993, 1994, 1995, 1996, 1997, 1998, 1999, 2000, 2001, 2002, 2003, 2004, 2005, 2006, 2007, 2008, 2009, 2010, 2011, 2012, 2013, 2014, 2015, 2016], \"y\": [992.0931506849316, 1111.8739726027395, 990.427397260274, 848.0655737704918, 564.4958904109589, 720.2410958904111, 942.6575342465753, 1064.6830601092895, 583.1068493150685, 1217.813698630137, 952.2931506849317, 809.155737704918, 1197.013698630137, 828.5808219178082, 879.3232876712327, 1341.7349726775956, 956.8164383561644, 649.5369863013699, 669.4109589041096, 927.8579234972676, 996.6986301369864, 680.7534246575343, 1234.517808219178, 1705.7185792349726, 457.2575342465754, 1373.8027397260273, 1224.2739726027396, 1592.133879781421, 1485.964383561644, 1102.8328767123287, 1286.4602739726026, 1760.9617486338798, 1521.6821917808222, 2333.9589041095887, 1103.8986301369864, 1133.9562841530055, 1473.6246575342466, 1728.5589041095889, 2103.2520547945205, 1018.2595628415302, 968.1506849315068, 1209.6767123287668, 975.5232876712328, 1845.0956284153006, 2149.227397260274, 1539.4547945205481, 1076.4602739726026, 780.1202185792349, 579.386301369863, 1116.5369863013698, 1595.6465753424654, 1560.674863387978, 1132.978082191781, 1882.104109589041, 1479.745205479452, 1303.5765027322404, 1151.331506849315, 588.6164383561644, 605.5561643835616, 652.8224043715848, 727.8438356164385, 748.9479452054794, 793.3150684931506, 773.6147540983608, 1327.6410958904112, 534.8438356164384, 771.0164383561644, 479.1284153005465, 873.2493150684932, 574.9808219178083, 410.2082191780822, 359.896174863388, 547.1671232876712, 1091.013698630137, 1055.2410958904109, 857.983606557377, 1216.7698630136983, 794.7780821917809, 1072.9205479452057, 1317.568306010929, 631.6767123287673, 960.117808219178, 1457.109589041096, 1300.2349726775956, 1504.1178082191782, 1685.4493150684934, 1681.8739726027395, 1210.0874316939892, 1336.6191780821919, 1340.5260273972603, 697.1917808219179, 1013.4071038251366, 1081.3643835616438]}],\n",
       "                        {\"autosize\": false, \"height\": 400, \"plot_bgcolor\": \"white\", \"template\": {\"data\": {\"bar\": [{\"error_x\": {\"color\": \"#2a3f5f\"}, \"error_y\": {\"color\": \"#2a3f5f\"}, \"marker\": {\"line\": {\"color\": \"#E5ECF6\", \"width\": 0.5}}, \"type\": \"bar\"}], \"barpolar\": [{\"marker\": {\"line\": {\"color\": \"#E5ECF6\", \"width\": 0.5}}, \"type\": \"barpolar\"}], \"carpet\": [{\"aaxis\": {\"endlinecolor\": \"#2a3f5f\", \"gridcolor\": \"white\", \"linecolor\": \"white\", \"minorgridcolor\": \"white\", \"startlinecolor\": \"#2a3f5f\"}, \"baxis\": {\"endlinecolor\": \"#2a3f5f\", \"gridcolor\": \"white\", \"linecolor\": \"white\", \"minorgridcolor\": \"white\", \"startlinecolor\": \"#2a3f5f\"}, \"type\": \"carpet\"}], \"choropleth\": [{\"colorbar\": {\"outlinewidth\": 0, \"ticks\": \"\"}, \"type\": \"choropleth\"}], \"contour\": [{\"colorbar\": {\"outlinewidth\": 0, \"ticks\": \"\"}, \"colorscale\": [[0.0, \"#0d0887\"], [0.1111111111111111, \"#46039f\"], [0.2222222222222222, \"#7201a8\"], [0.3333333333333333, \"#9c179e\"], [0.4444444444444444, \"#bd3786\"], [0.5555555555555556, \"#d8576b\"], [0.6666666666666666, \"#ed7953\"], [0.7777777777777778, \"#fb9f3a\"], [0.8888888888888888, \"#fdca26\"], [1.0, \"#f0f921\"]], \"type\": \"contour\"}], \"contourcarpet\": [{\"colorbar\": {\"outlinewidth\": 0, \"ticks\": \"\"}, \"type\": \"contourcarpet\"}], \"heatmap\": [{\"colorbar\": {\"outlinewidth\": 0, \"ticks\": \"\"}, \"colorscale\": [[0.0, \"#0d0887\"], [0.1111111111111111, \"#46039f\"], [0.2222222222222222, \"#7201a8\"], [0.3333333333333333, \"#9c179e\"], [0.4444444444444444, \"#bd3786\"], [0.5555555555555556, \"#d8576b\"], [0.6666666666666666, \"#ed7953\"], [0.7777777777777778, \"#fb9f3a\"], [0.8888888888888888, \"#fdca26\"], [1.0, \"#f0f921\"]], \"type\": \"heatmap\"}], \"heatmapgl\": [{\"colorbar\": {\"outlinewidth\": 0, \"ticks\": \"\"}, \"colorscale\": [[0.0, \"#0d0887\"], [0.1111111111111111, \"#46039f\"], [0.2222222222222222, \"#7201a8\"], [0.3333333333333333, \"#9c179e\"], [0.4444444444444444, \"#bd3786\"], [0.5555555555555556, \"#d8576b\"], [0.6666666666666666, \"#ed7953\"], [0.7777777777777778, \"#fb9f3a\"], [0.8888888888888888, \"#fdca26\"], [1.0, \"#f0f921\"]], \"type\": \"heatmapgl\"}], \"histogram\": [{\"marker\": {\"colorbar\": {\"outlinewidth\": 0, \"ticks\": \"\"}}, \"type\": \"histogram\"}], \"histogram2d\": [{\"colorbar\": {\"outlinewidth\": 0, \"ticks\": \"\"}, \"colorscale\": [[0.0, \"#0d0887\"], [0.1111111111111111, \"#46039f\"], [0.2222222222222222, \"#7201a8\"], [0.3333333333333333, \"#9c179e\"], [0.4444444444444444, \"#bd3786\"], [0.5555555555555556, \"#d8576b\"], [0.6666666666666666, \"#ed7953\"], [0.7777777777777778, \"#fb9f3a\"], [0.8888888888888888, \"#fdca26\"], [1.0, \"#f0f921\"]], \"type\": \"histogram2d\"}], \"histogram2dcontour\": [{\"colorbar\": {\"outlinewidth\": 0, \"ticks\": \"\"}, \"colorscale\": [[0.0, \"#0d0887\"], [0.1111111111111111, \"#46039f\"], [0.2222222222222222, \"#7201a8\"], [0.3333333333333333, \"#9c179e\"], [0.4444444444444444, \"#bd3786\"], [0.5555555555555556, \"#d8576b\"], [0.6666666666666666, \"#ed7953\"], [0.7777777777777778, \"#fb9f3a\"], [0.8888888888888888, \"#fdca26\"], [1.0, \"#f0f921\"]], \"type\": \"histogram2dcontour\"}], \"mesh3d\": [{\"colorbar\": {\"outlinewidth\": 0, \"ticks\": \"\"}, \"type\": \"mesh3d\"}], \"parcoords\": [{\"line\": {\"colorbar\": {\"outlinewidth\": 0, \"ticks\": \"\"}}, \"type\": \"parcoords\"}], \"pie\": [{\"automargin\": true, \"type\": \"pie\"}], \"scatter\": [{\"marker\": {\"colorbar\": {\"outlinewidth\": 0, \"ticks\": \"\"}}, \"type\": \"scatter\"}], \"scatter3d\": [{\"line\": {\"colorbar\": {\"outlinewidth\": 0, \"ticks\": \"\"}}, \"marker\": {\"colorbar\": {\"outlinewidth\": 0, \"ticks\": \"\"}}, \"type\": \"scatter3d\"}], \"scattercarpet\": [{\"marker\": {\"colorbar\": {\"outlinewidth\": 0, \"ticks\": \"\"}}, \"type\": \"scattercarpet\"}], \"scattergeo\": [{\"marker\": {\"colorbar\": {\"outlinewidth\": 0, \"ticks\": \"\"}}, \"type\": \"scattergeo\"}], \"scattergl\": [{\"marker\": {\"colorbar\": {\"outlinewidth\": 0, \"ticks\": \"\"}}, \"type\": \"scattergl\"}], \"scattermapbox\": [{\"marker\": {\"colorbar\": {\"outlinewidth\": 0, \"ticks\": \"\"}}, \"type\": \"scattermapbox\"}], \"scatterpolar\": [{\"marker\": {\"colorbar\": {\"outlinewidth\": 0, \"ticks\": \"\"}}, \"type\": \"scatterpolar\"}], \"scatterpolargl\": [{\"marker\": {\"colorbar\": {\"outlinewidth\": 0, \"ticks\": \"\"}}, \"type\": \"scatterpolargl\"}], \"scatterternary\": [{\"marker\": {\"colorbar\": {\"outlinewidth\": 0, \"ticks\": \"\"}}, \"type\": \"scatterternary\"}], \"surface\": [{\"colorbar\": {\"outlinewidth\": 0, \"ticks\": \"\"}, \"colorscale\": [[0.0, \"#0d0887\"], [0.1111111111111111, \"#46039f\"], [0.2222222222222222, \"#7201a8\"], [0.3333333333333333, \"#9c179e\"], [0.4444444444444444, \"#bd3786\"], [0.5555555555555556, \"#d8576b\"], [0.6666666666666666, \"#ed7953\"], [0.7777777777777778, \"#fb9f3a\"], [0.8888888888888888, \"#fdca26\"], [1.0, \"#f0f921\"]], \"type\": \"surface\"}], \"table\": [{\"cells\": {\"fill\": {\"color\": \"#EBF0F8\"}, \"line\": {\"color\": \"white\"}}, \"header\": {\"fill\": {\"color\": \"#C8D4E3\"}, \"line\": {\"color\": \"white\"}}, \"type\": \"table\"}]}, \"layout\": {\"annotationdefaults\": {\"arrowcolor\": \"#2a3f5f\", \"arrowhead\": 0, \"arrowwidth\": 1}, \"coloraxis\": {\"colorbar\": {\"outlinewidth\": 0, \"ticks\": \"\"}}, \"colorscale\": {\"diverging\": [[0, \"#8e0152\"], [0.1, \"#c51b7d\"], [0.2, \"#de77ae\"], [0.3, \"#f1b6da\"], [0.4, \"#fde0ef\"], [0.5, \"#f7f7f7\"], [0.6, \"#e6f5d0\"], [0.7, \"#b8e186\"], [0.8, \"#7fbc41\"], [0.9, \"#4d9221\"], [1, \"#276419\"]], \"sequential\": [[0.0, \"#0d0887\"], [0.1111111111111111, \"#46039f\"], [0.2222222222222222, \"#7201a8\"], [0.3333333333333333, \"#9c179e\"], [0.4444444444444444, \"#bd3786\"], [0.5555555555555556, \"#d8576b\"], [0.6666666666666666, \"#ed7953\"], [0.7777777777777778, \"#fb9f3a\"], [0.8888888888888888, \"#fdca26\"], [1.0, \"#f0f921\"]], \"sequentialminus\": [[0.0, \"#0d0887\"], [0.1111111111111111, \"#46039f\"], [0.2222222222222222, \"#7201a8\"], [0.3333333333333333, \"#9c179e\"], [0.4444444444444444, \"#bd3786\"], [0.5555555555555556, \"#d8576b\"], [0.6666666666666666, \"#ed7953\"], [0.7777777777777778, \"#fb9f3a\"], [0.8888888888888888, \"#fdca26\"], [1.0, \"#f0f921\"]]}, \"colorway\": [\"#636efa\", \"#EF553B\", \"#00cc96\", \"#ab63fa\", \"#FFA15A\", \"#19d3f3\", \"#FF6692\", \"#B6E880\", \"#FF97FF\", \"#FECB52\"], \"font\": {\"color\": \"#2a3f5f\"}, \"geo\": {\"bgcolor\": \"white\", \"lakecolor\": \"white\", \"landcolor\": \"#E5ECF6\", \"showlakes\": true, \"showland\": true, \"subunitcolor\": \"white\"}, \"hoverlabel\": {\"align\": \"left\"}, \"hovermode\": \"closest\", \"mapbox\": {\"style\": \"light\"}, \"paper_bgcolor\": \"white\", \"plot_bgcolor\": \"#E5ECF6\", \"polar\": {\"angularaxis\": {\"gridcolor\": \"white\", \"linecolor\": \"white\", \"ticks\": \"\"}, \"bgcolor\": \"#E5ECF6\", \"radialaxis\": {\"gridcolor\": \"white\", \"linecolor\": \"white\", \"ticks\": \"\"}}, \"scene\": {\"xaxis\": {\"backgroundcolor\": \"#E5ECF6\", \"gridcolor\": \"white\", \"gridwidth\": 2, \"linecolor\": \"white\", \"showbackground\": true, \"ticks\": \"\", \"zerolinecolor\": \"white\"}, \"yaxis\": {\"backgroundcolor\": \"#E5ECF6\", \"gridcolor\": \"white\", \"gridwidth\": 2, \"linecolor\": \"white\", \"showbackground\": true, \"ticks\": \"\", \"zerolinecolor\": \"white\"}, \"zaxis\": {\"backgroundcolor\": \"#E5ECF6\", \"gridcolor\": \"white\", \"gridwidth\": 2, \"linecolor\": \"white\", \"showbackground\": true, \"ticks\": \"\", \"zerolinecolor\": \"white\"}}, \"shapedefaults\": {\"line\": {\"color\": \"#2a3f5f\"}}, \"ternary\": {\"aaxis\": {\"gridcolor\": \"white\", \"linecolor\": \"white\", \"ticks\": \"\"}, \"baxis\": {\"gridcolor\": \"white\", \"linecolor\": \"white\", \"ticks\": \"\"}, \"bgcolor\": \"#E5ECF6\", \"caxis\": {\"gridcolor\": \"white\", \"linecolor\": \"white\", \"ticks\": \"\"}}, \"title\": {\"x\": 0.05}, \"xaxis\": {\"automargin\": true, \"gridcolor\": \"white\", \"linecolor\": \"white\", \"ticks\": \"\", \"title\": {\"standoff\": 15}, \"zerolinecolor\": \"white\", \"zerolinewidth\": 2}, \"yaxis\": {\"automargin\": true, \"gridcolor\": \"white\", \"linecolor\": \"white\", \"ticks\": \"\", \"title\": {\"standoff\": 15}, \"zerolinecolor\": \"white\", \"zerolinewidth\": 2}}}, \"title\": {\"text\": \"Mean Annual Flow\"}, \"width\": 1200, \"xaxis\": {\"showgrid\": false, \"showline\": false, \"showticklabels\": true, \"ticks\": \"outside\"}, \"yaxis\": {\"gridcolor\": \"rgb(204, 204, 204)\", \"range\": [0, 2500], \"separatethousands\": true, \"title\": {\"text\": \"Flow m\\u00b3/s\"}}},\n",
       "                        {\"responsive\": true}\n",
       "                    ).then(function(){\n",
       "                            \n",
       "var gd = document.getElementById('da0ea8a6-2d10-45c8-a36e-203eb4547120');\n",
       "var x = new MutationObserver(function (mutations, observer) {{\n",
       "        var display = window.getComputedStyle(gd).display;\n",
       "        if (!display || display === 'none') {{\n",
       "            console.log([gd, 'removed!']);\n",
       "            Plotly.purge(gd);\n",
       "            observer.disconnect();\n",
       "        }}\n",
       "}});\n",
       "\n",
       "// Listen for the removal of the full notebook cells\n",
       "var notebookContainer = gd.closest('#notebook-container');\n",
       "if (notebookContainer) {{\n",
       "    x.observe(notebookContainer, {childList: true});\n",
       "}}\n",
       "\n",
       "// Listen for the clearing of the current output cell\n",
       "var outputEl = gd.closest('.output');\n",
       "if (outputEl) {{\n",
       "    x.observe(outputEl, {childList: true});\n",
       "}}\n",
       "\n",
       "                        })\n",
       "                };\n",
       "                });\n",
       "            </script>\n",
       "        </div>"
      ]
     },
     "metadata": {},
     "output_type": "display_data"
    }
   ],
   "source": [
    "windows=[w for w in range(5,25,5)]\n",
    "cols=['rgba('+ str((1-a)*250) +','+ str((1-a)*250) +','+ str((a)*250) +',1)' for a in np.linspace(0, 1, 5)]\n",
    "\n",
    "fig = go.Figure(\n",
    "    data=[\n",
    "        go.Scatter(\n",
    "            x=yearly.index, y=yearly['Flow_mean'].rolling(windows[i],center=True).mean(), \n",
    "            name=str(windows[i]) + ' year ma',\n",
    "            line_shape='spline',line = dict(color=cols[i], width=(i+2)/1.5)\n",
    "        ) for i in range(0,4) ])\n",
    "\n",
    "fig.add_trace(go.Bar(x=yearly.index, y=yearly['Flow_mean'],name='Mean annual flow',marker_color='rgb(204, 80, 80)'))#,line_shape='spline',line = dict(color='rgba(50,50,50,0.2)', width=2)))\n",
    "\n",
    "fig.update_layout(\n",
    "    title_text='Mean Annual Flow',\n",
    "    plot_bgcolor='white',\n",
    "    xaxis=dict(showline=False,showgrid=False,showticklabels=True,ticks='outside'),\n",
    "    yaxis=dict(title_text='Flow m\\u00B3/s',range=(0,2500),separatethousands=True,gridcolor='rgb(204, 204, 204)'),\n",
    "    width=1200, height=400, autosize=False\n",
    ")\n",
    "fig.show(renderer=bookRenderer)"
   ]
  },
  {
   "cell_type": "code",
   "execution_count": 32,
   "metadata": {
    "jupyter": {
     "source_hidden": true
    }
   },
   "outputs": [
    {
     "data": {
      "application/vnd.plotly.v1+json": {
       "config": {
        "plotlyServerURL": "https://plot.ly"
       },
       "data": [
        {
         "line": {
          "color": "rgba(250.0,250.0,0.0,1)",
          "shape": "spline",
          "width": 1
         },
         "name": "5 year ma",
         "type": "scatter",
         "x": [
          1924,
          1925,
          1926,
          1927,
          1928,
          1929,
          1930,
          1931,
          1932,
          1933,
          1934,
          1935,
          1936,
          1937,
          1938,
          1939,
          1940,
          1941,
          1942,
          1943,
          1944,
          1945,
          1946,
          1947,
          1948,
          1949,
          1950,
          1951,
          1952,
          1953,
          1954,
          1955,
          1956,
          1957,
          1958,
          1959,
          1960,
          1961,
          1962,
          1963,
          1964,
          1965,
          1966,
          1967,
          1968,
          1969,
          1970,
          1971,
          1972,
          1973,
          1974,
          1975,
          1976,
          1977,
          1978,
          1979,
          1980,
          1981,
          1982,
          1983,
          1984,
          1985,
          1986,
          1987,
          1988,
          1989,
          1990,
          1991,
          1992,
          1993,
          1994,
          1995,
          1996,
          1997,
          1998,
          1999,
          2000,
          2001,
          2002,
          2003,
          2004,
          2005,
          2006,
          2007,
          2008,
          2009,
          2010,
          2011,
          2012,
          2013,
          2014,
          2015,
          2016
         ],
         "y": [
          null,
          null,
          3023.2,
          2770.4,
          2541.4,
          2639.4,
          2510.6,
          3310.6,
          3528.8,
          3357,
          3316.4,
          3638.6,
          3095.4,
          3491.6,
          3663.4,
          3381,
          3077,
          3011,
          2736.2,
          2382.8,
          2871,
          3763.4,
          3435.8,
          3696,
          4258.6,
          4566.8,
          4510,
          5091.4,
          4814.6,
          5068.8,
          5665.6,
          6470.8,
          6594.8,
          6760,
          6841.6,
          6124.8,
          5565.4,
          5169,
          4791.8,
          4654.8,
          4231.2,
          3910.8,
          5128.8,
          5555,
          5103.6,
          4789.4,
          3928.4,
          2788.4,
          2896.6,
          3355.6,
          3545.6,
          4573.6,
          5070.8,
          4601.4,
          4205,
          3926.2,
          2880,
          2176.4,
          1953.4,
          1873,
          2001,
          2271,
          2671.8,
          2486.8,
          2335.6,
          2101.2,
          2322.4,
          1927.8,
          1968.6,
          1673.6,
          1772.6,
          1763,
          2079.4,
          2515.2,
          3086.8,
          3212.6,
          3276.8,
          3460.4,
          3045.6,
          2847,
          3349.8,
          3254,
          3545.4,
          4307.8,
          4642.2,
          4442.4,
          4492,
          4047.8,
          3310,
          3034,
          3103.2,
          null,
          null
         ]
        },
        {
         "line": {
          "color": "rgba(187.5,187.5,62.5,1)",
          "shape": "spline",
          "width": 1.5
         },
         "name": "10 year ma",
         "type": "scatter",
         "x": [
          1924,
          1925,
          1926,
          1927,
          1928,
          1929,
          1930,
          1931,
          1932,
          1933,
          1934,
          1935,
          1936,
          1937,
          1938,
          1939,
          1940,
          1941,
          1942,
          1943,
          1944,
          1945,
          1946,
          1947,
          1948,
          1949,
          1950,
          1951,
          1952,
          1953,
          1954,
          1955,
          1956,
          1957,
          1958,
          1959,
          1960,
          1961,
          1962,
          1963,
          1964,
          1965,
          1966,
          1967,
          1968,
          1969,
          1970,
          1971,
          1972,
          1973,
          1974,
          1975,
          1976,
          1977,
          1978,
          1979,
          1980,
          1981,
          1982,
          1983,
          1984,
          1985,
          1986,
          1987,
          1988,
          1989,
          1990,
          1991,
          1992,
          1993,
          1994,
          1995,
          1996,
          1997,
          1998,
          1999,
          2000,
          2001,
          2002,
          2003,
          2004,
          2005,
          2006,
          2007,
          2008,
          2009,
          2010,
          2011,
          2012,
          2013,
          2014,
          2015,
          2016
         ],
         "y": [
          null,
          null,
          null,
          null,
          null,
          3166.9,
          3149.6,
          2949.2,
          2977.9,
          3074.6,
          3203,
          3510.2,
          3510.2,
          3348.7,
          3357.8,
          3053.2,
          3113.9,
          3023.1,
          3126,
          3420.2,
          3223.4,
          3216.1,
          3320.7,
          3718.9,
          4136.7,
          4263.6,
          4255.3,
          4663.7,
          5116.2,
          5490.4,
          5843.1,
          5787.3,
          5955.2,
          5895.2,
          6018.1,
          5881.9,
          5775.9,
          5748.2,
          5178,
          4738.1,
          5148.9,
          5173.4,
          4879.2,
          4510.3,
          3919.6,
          3958.6,
          4225.8,
          4229.6,
          4167.5,
          4251,
          3929.6,
          3749,
          3780.3,
          3735.9,
          3726.8,
          3623.6,
          3277.4,
          3039,
          2963.6,
          2575.5,
          2424.1,
          2220.1,
          2104.3,
          2051.1,
          2296.7,
          2299.8,
          2227.7,
          2004.6,
          1936.9,
          2042.7,
          2003.6,
          2241.9,
          2380.2,
          2492.6,
          2519.9,
          2769.9,
          2780.4,
          2966.9,
          3281.2,
          3265.4,
          3502.9,
          3676.7,
          3744.6,
          3896.1,
          3873,
          3796.6,
          3808.9,
          3838.1,
          3772.8,
          null,
          null,
          null,
          null
         ]
        },
        {
         "line": {
          "color": "rgba(125.0,125.0,125.0,1)",
          "shape": "spline",
          "width": 2
         },
         "name": "15 year ma",
         "type": "scatter",
         "x": [
          1924,
          1925,
          1926,
          1927,
          1928,
          1929,
          1930,
          1931,
          1932,
          1933,
          1934,
          1935,
          1936,
          1937,
          1938,
          1939,
          1940,
          1941,
          1942,
          1943,
          1944,
          1945,
          1946,
          1947,
          1948,
          1949,
          1950,
          1951,
          1952,
          1953,
          1954,
          1955,
          1956,
          1957,
          1958,
          1959,
          1960,
          1961,
          1962,
          1963,
          1964,
          1965,
          1966,
          1967,
          1968,
          1969,
          1970,
          1971,
          1972,
          1973,
          1974,
          1975,
          1976,
          1977,
          1978,
          1979,
          1980,
          1981,
          1982,
          1983,
          1984,
          1985,
          1986,
          1987,
          1988,
          1989,
          1990,
          1991,
          1992,
          1993,
          1994,
          1995,
          1996,
          1997,
          1998,
          1999,
          2000,
          2001,
          2002,
          2003,
          2004,
          2005,
          2006,
          2007,
          2008,
          2009,
          2010,
          2011,
          2012,
          2013,
          2014,
          2015,
          2016
         ],
         "y": [
          null,
          null,
          null,
          null,
          null,
          null,
          null,
          3143.0666666666666,
          3263.6,
          3187.266666666667,
          3112.266666666667,
          3075.4,
          3139,
          3252.2,
          3134.4,
          3189.4666666666667,
          3493,
          3180.733333333333,
          3307.9333333333334,
          3434.9333333333334,
          3606.266666666667,
          3783.4666666666667,
          3846.0666666666666,
          3748.9333333333334,
          3903.4,
          4367.8,
          4914.733333333334,
          5040.666666666667,
          5090.2,
          5389.666666666667,
          5452.4,
          5515.4,
          5618.4,
          5455.466666666666,
          5521.733333333334,
          5340.533333333334,
          5315.666666666667,
          5630.866666666667,
          5702.266666666666,
          5533.333333333333,
          5048.466666666666,
          4468.2,
          4362.066666666667,
          4414.466666666666,
          4371.333333333333,
          4188.733333333334,
          4137.6,
          4329.333333333333,
          4351,
          4221.4,
          4087.0666666666666,
          3794,
          3345.2,
          3150.4666666666667,
          3144.5333333333333,
          3157.6,
          3241.5333333333333,
          3306.3333333333335,
          3013.866666666667,
          2804.5333333333333,
          2676.133333333333,
          2491.133333333333,
          2258.6666666666665,
          2136.266666666667,
          1960.7333333333333,
          1958.2666666666667,
          2118.8,
          2226.3333333333335,
          2323.5333333333333,
          2365.3333333333335,
          2362.133333333333,
          2454.0666666666666,
          2489.2,
          2509.8,
          2535.8,
          2778.3333333333335,
          2764.6,
          3028.4,
          3289.5333333333333,
          3525.3333333333335,
          3668.266666666667,
          3674.266666666667,
          3684.5333333333333,
          3554.4666666666667,
          3507.733333333333,
          3631.8,
          null,
          null,
          null,
          null,
          null,
          null,
          null
         ]
        },
        {
         "line": {
          "color": "rgba(62.5,62.5,187.5,1)",
          "shape": "spline",
          "width": 2.5
         },
         "name": "20 year ma",
         "type": "scatter",
         "x": [
          1924,
          1925,
          1926,
          1927,
          1928,
          1929,
          1930,
          1931,
          1932,
          1933,
          1934,
          1935,
          1936,
          1937,
          1938,
          1939,
          1940,
          1941,
          1942,
          1943,
          1944,
          1945,
          1946,
          1947,
          1948,
          1949,
          1950,
          1951,
          1952,
          1953,
          1954,
          1955,
          1956,
          1957,
          1958,
          1959,
          1960,
          1961,
          1962,
          1963,
          1964,
          1965,
          1966,
          1967,
          1968,
          1969,
          1970,
          1971,
          1972,
          1973,
          1974,
          1975,
          1976,
          1977,
          1978,
          1979,
          1980,
          1981,
          1982,
          1983,
          1984,
          1985,
          1986,
          1987,
          1988,
          1989,
          1990,
          1991,
          1992,
          1993,
          1994,
          1995,
          1996,
          1997,
          1998,
          1999,
          2000,
          2001,
          2002,
          2003,
          2004,
          2005,
          2006,
          2007,
          2008,
          2009,
          2010,
          2011,
          2012,
          2013,
          2014,
          2015,
          2016
         ],
         "y": [
          null,
          null,
          null,
          null,
          null,
          null,
          null,
          null,
          null,
          null,
          3110.05,
          3131.75,
          2986.15,
          3051.95,
          3247.4,
          3213.2,
          3363.15,
          3415.45,
          3533.8,
          3747.25,
          3658.4,
          3684.6,
          3843.4,
          4121.1,
          4455.3,
          4533.25,
          4501.7,
          4637.95,
          4807.05,
          5077.4,
          5072.75,
          5015.6,
          5205.95,
          5147.1,
          5114.25,
          5496,
          5480.35,
          5417.2,
          5202.75,
          4968.85,
          4920.25,
          5000.85,
          4988.9,
          4672.75,
          4494.55,
          4539.25,
          4461.2,
          4329.75,
          4123.1,
          3823.2,
          3791.1,
          3751.6,
          3634.3,
          3565.55,
          3413.25,
          3176.85,
          2984.55,
          2942.3,
          2893.5,
          3011.75,
          2961.7,
          2752.55,
          2521.8,
          2450.25,
          2309.1,
          2213.85,
          2231,
          2242.25,
          2271.85,
          2408.3,
          2534.85,
          2504.05,
          2485.75,
          2609.05,
          2654.05,
          2753.25,
          2959.3,
          3062.4,
          3194.35,
          3196.45,
          3283.25,
          3294.65,
          3402.5,
          3527,
          null,
          null,
          null,
          null,
          null,
          null,
          null,
          null,
          null
         ]
        },
        {
         "marker": {
          "color": "rgb(204, 80, 80)"
         },
         "name": "Max annual flow",
         "type": "bar",
         "x": [
          1924,
          1925,
          1926,
          1927,
          1928,
          1929,
          1930,
          1931,
          1932,
          1933,
          1934,
          1935,
          1936,
          1937,
          1938,
          1939,
          1940,
          1941,
          1942,
          1943,
          1944,
          1945,
          1946,
          1947,
          1948,
          1949,
          1950,
          1951,
          1952,
          1953,
          1954,
          1955,
          1956,
          1957,
          1958,
          1959,
          1960,
          1961,
          1962,
          1963,
          1964,
          1965,
          1966,
          1967,
          1968,
          1969,
          1970,
          1971,
          1972,
          1973,
          1974,
          1975,
          1976,
          1977,
          1978,
          1979,
          1980,
          1981,
          1982,
          1983,
          1984,
          1985,
          1986,
          1987,
          1988,
          1989,
          1990,
          1991,
          1992,
          1993,
          1994,
          1995,
          1996,
          1997,
          1998,
          1999,
          2000,
          2001,
          2002,
          2003,
          2004,
          2005,
          2006,
          2007,
          2008,
          2009,
          2010,
          2011,
          2012,
          2013,
          2014,
          2015,
          2016
         ],
         "y": [
          3452,
          4501,
          3313,
          2261,
          1589,
          2188,
          3356,
          3803,
          1617,
          5589,
          3279,
          2497,
          3600,
          3228,
          2873,
          5260,
          3356,
          2188,
          1708,
          2543,
          3886,
          1589,
          4629,
          6170,
          905,
          5187,
          4402,
          6170,
          5886,
          3812,
          3803,
          5673,
          9154,
          9912,
          4432,
          4629,
          6081,
          5570,
          7115,
          2450,
          2743,
          5396,
          3452,
          5513,
          8540,
          4874,
          3139,
          1881,
          1208,
          2840,
          5415,
          5434,
          2831,
          6348,
          5326,
          3068,
          3452,
          1437,
          1117,
          1808,
          1953,
          3050,
          2077,
          2467,
          3812,
          1028,
          2294,
          905,
          3573,
          1839,
          1232,
          819,
          1400,
          3525,
          3421,
          3411,
          3677,
          2029,
          3846,
          4339,
          1337,
          2684,
          4543,
          3367,
          5796,
          5149,
          4356,
          3544,
          3615,
          3575,
          1460,
          2976,
          3890
         ]
        }
       ],
       "layout": {
        "autosize": false,
        "height": 400,
        "plot_bgcolor": "white",
        "template": {
         "data": {
          "bar": [
           {
            "error_x": {
             "color": "#2a3f5f"
            },
            "error_y": {
             "color": "#2a3f5f"
            },
            "marker": {
             "line": {
              "color": "#E5ECF6",
              "width": 0.5
             }
            },
            "type": "bar"
           }
          ],
          "barpolar": [
           {
            "marker": {
             "line": {
              "color": "#E5ECF6",
              "width": 0.5
             }
            },
            "type": "barpolar"
           }
          ],
          "carpet": [
           {
            "aaxis": {
             "endlinecolor": "#2a3f5f",
             "gridcolor": "white",
             "linecolor": "white",
             "minorgridcolor": "white",
             "startlinecolor": "#2a3f5f"
            },
            "baxis": {
             "endlinecolor": "#2a3f5f",
             "gridcolor": "white",
             "linecolor": "white",
             "minorgridcolor": "white",
             "startlinecolor": "#2a3f5f"
            },
            "type": "carpet"
           }
          ],
          "choropleth": [
           {
            "colorbar": {
             "outlinewidth": 0,
             "ticks": ""
            },
            "type": "choropleth"
           }
          ],
          "contour": [
           {
            "colorbar": {
             "outlinewidth": 0,
             "ticks": ""
            },
            "colorscale": [
             [
              0,
              "#0d0887"
             ],
             [
              0.1111111111111111,
              "#46039f"
             ],
             [
              0.2222222222222222,
              "#7201a8"
             ],
             [
              0.3333333333333333,
              "#9c179e"
             ],
             [
              0.4444444444444444,
              "#bd3786"
             ],
             [
              0.5555555555555556,
              "#d8576b"
             ],
             [
              0.6666666666666666,
              "#ed7953"
             ],
             [
              0.7777777777777778,
              "#fb9f3a"
             ],
             [
              0.8888888888888888,
              "#fdca26"
             ],
             [
              1,
              "#f0f921"
             ]
            ],
            "type": "contour"
           }
          ],
          "contourcarpet": [
           {
            "colorbar": {
             "outlinewidth": 0,
             "ticks": ""
            },
            "type": "contourcarpet"
           }
          ],
          "heatmap": [
           {
            "colorbar": {
             "outlinewidth": 0,
             "ticks": ""
            },
            "colorscale": [
             [
              0,
              "#0d0887"
             ],
             [
              0.1111111111111111,
              "#46039f"
             ],
             [
              0.2222222222222222,
              "#7201a8"
             ],
             [
              0.3333333333333333,
              "#9c179e"
             ],
             [
              0.4444444444444444,
              "#bd3786"
             ],
             [
              0.5555555555555556,
              "#d8576b"
             ],
             [
              0.6666666666666666,
              "#ed7953"
             ],
             [
              0.7777777777777778,
              "#fb9f3a"
             ],
             [
              0.8888888888888888,
              "#fdca26"
             ],
             [
              1,
              "#f0f921"
             ]
            ],
            "type": "heatmap"
           }
          ],
          "heatmapgl": [
           {
            "colorbar": {
             "outlinewidth": 0,
             "ticks": ""
            },
            "colorscale": [
             [
              0,
              "#0d0887"
             ],
             [
              0.1111111111111111,
              "#46039f"
             ],
             [
              0.2222222222222222,
              "#7201a8"
             ],
             [
              0.3333333333333333,
              "#9c179e"
             ],
             [
              0.4444444444444444,
              "#bd3786"
             ],
             [
              0.5555555555555556,
              "#d8576b"
             ],
             [
              0.6666666666666666,
              "#ed7953"
             ],
             [
              0.7777777777777778,
              "#fb9f3a"
             ],
             [
              0.8888888888888888,
              "#fdca26"
             ],
             [
              1,
              "#f0f921"
             ]
            ],
            "type": "heatmapgl"
           }
          ],
          "histogram": [
           {
            "marker": {
             "colorbar": {
              "outlinewidth": 0,
              "ticks": ""
             }
            },
            "type": "histogram"
           }
          ],
          "histogram2d": [
           {
            "colorbar": {
             "outlinewidth": 0,
             "ticks": ""
            },
            "colorscale": [
             [
              0,
              "#0d0887"
             ],
             [
              0.1111111111111111,
              "#46039f"
             ],
             [
              0.2222222222222222,
              "#7201a8"
             ],
             [
              0.3333333333333333,
              "#9c179e"
             ],
             [
              0.4444444444444444,
              "#bd3786"
             ],
             [
              0.5555555555555556,
              "#d8576b"
             ],
             [
              0.6666666666666666,
              "#ed7953"
             ],
             [
              0.7777777777777778,
              "#fb9f3a"
             ],
             [
              0.8888888888888888,
              "#fdca26"
             ],
             [
              1,
              "#f0f921"
             ]
            ],
            "type": "histogram2d"
           }
          ],
          "histogram2dcontour": [
           {
            "colorbar": {
             "outlinewidth": 0,
             "ticks": ""
            },
            "colorscale": [
             [
              0,
              "#0d0887"
             ],
             [
              0.1111111111111111,
              "#46039f"
             ],
             [
              0.2222222222222222,
              "#7201a8"
             ],
             [
              0.3333333333333333,
              "#9c179e"
             ],
             [
              0.4444444444444444,
              "#bd3786"
             ],
             [
              0.5555555555555556,
              "#d8576b"
             ],
             [
              0.6666666666666666,
              "#ed7953"
             ],
             [
              0.7777777777777778,
              "#fb9f3a"
             ],
             [
              0.8888888888888888,
              "#fdca26"
             ],
             [
              1,
              "#f0f921"
             ]
            ],
            "type": "histogram2dcontour"
           }
          ],
          "mesh3d": [
           {
            "colorbar": {
             "outlinewidth": 0,
             "ticks": ""
            },
            "type": "mesh3d"
           }
          ],
          "parcoords": [
           {
            "line": {
             "colorbar": {
              "outlinewidth": 0,
              "ticks": ""
             }
            },
            "type": "parcoords"
           }
          ],
          "pie": [
           {
            "automargin": true,
            "type": "pie"
           }
          ],
          "scatter": [
           {
            "marker": {
             "colorbar": {
              "outlinewidth": 0,
              "ticks": ""
             }
            },
            "type": "scatter"
           }
          ],
          "scatter3d": [
           {
            "line": {
             "colorbar": {
              "outlinewidth": 0,
              "ticks": ""
             }
            },
            "marker": {
             "colorbar": {
              "outlinewidth": 0,
              "ticks": ""
             }
            },
            "type": "scatter3d"
           }
          ],
          "scattercarpet": [
           {
            "marker": {
             "colorbar": {
              "outlinewidth": 0,
              "ticks": ""
             }
            },
            "type": "scattercarpet"
           }
          ],
          "scattergeo": [
           {
            "marker": {
             "colorbar": {
              "outlinewidth": 0,
              "ticks": ""
             }
            },
            "type": "scattergeo"
           }
          ],
          "scattergl": [
           {
            "marker": {
             "colorbar": {
              "outlinewidth": 0,
              "ticks": ""
             }
            },
            "type": "scattergl"
           }
          ],
          "scattermapbox": [
           {
            "marker": {
             "colorbar": {
              "outlinewidth": 0,
              "ticks": ""
             }
            },
            "type": "scattermapbox"
           }
          ],
          "scatterpolar": [
           {
            "marker": {
             "colorbar": {
              "outlinewidth": 0,
              "ticks": ""
             }
            },
            "type": "scatterpolar"
           }
          ],
          "scatterpolargl": [
           {
            "marker": {
             "colorbar": {
              "outlinewidth": 0,
              "ticks": ""
             }
            },
            "type": "scatterpolargl"
           }
          ],
          "scatterternary": [
           {
            "marker": {
             "colorbar": {
              "outlinewidth": 0,
              "ticks": ""
             }
            },
            "type": "scatterternary"
           }
          ],
          "surface": [
           {
            "colorbar": {
             "outlinewidth": 0,
             "ticks": ""
            },
            "colorscale": [
             [
              0,
              "#0d0887"
             ],
             [
              0.1111111111111111,
              "#46039f"
             ],
             [
              0.2222222222222222,
              "#7201a8"
             ],
             [
              0.3333333333333333,
              "#9c179e"
             ],
             [
              0.4444444444444444,
              "#bd3786"
             ],
             [
              0.5555555555555556,
              "#d8576b"
             ],
             [
              0.6666666666666666,
              "#ed7953"
             ],
             [
              0.7777777777777778,
              "#fb9f3a"
             ],
             [
              0.8888888888888888,
              "#fdca26"
             ],
             [
              1,
              "#f0f921"
             ]
            ],
            "type": "surface"
           }
          ],
          "table": [
           {
            "cells": {
             "fill": {
              "color": "#EBF0F8"
             },
             "line": {
              "color": "white"
             }
            },
            "header": {
             "fill": {
              "color": "#C8D4E3"
             },
             "line": {
              "color": "white"
             }
            },
            "type": "table"
           }
          ]
         },
         "layout": {
          "annotationdefaults": {
           "arrowcolor": "#2a3f5f",
           "arrowhead": 0,
           "arrowwidth": 1
          },
          "coloraxis": {
           "colorbar": {
            "outlinewidth": 0,
            "ticks": ""
           }
          },
          "colorscale": {
           "diverging": [
            [
             0,
             "#8e0152"
            ],
            [
             0.1,
             "#c51b7d"
            ],
            [
             0.2,
             "#de77ae"
            ],
            [
             0.3,
             "#f1b6da"
            ],
            [
             0.4,
             "#fde0ef"
            ],
            [
             0.5,
             "#f7f7f7"
            ],
            [
             0.6,
             "#e6f5d0"
            ],
            [
             0.7,
             "#b8e186"
            ],
            [
             0.8,
             "#7fbc41"
            ],
            [
             0.9,
             "#4d9221"
            ],
            [
             1,
             "#276419"
            ]
           ],
           "sequential": [
            [
             0,
             "#0d0887"
            ],
            [
             0.1111111111111111,
             "#46039f"
            ],
            [
             0.2222222222222222,
             "#7201a8"
            ],
            [
             0.3333333333333333,
             "#9c179e"
            ],
            [
             0.4444444444444444,
             "#bd3786"
            ],
            [
             0.5555555555555556,
             "#d8576b"
            ],
            [
             0.6666666666666666,
             "#ed7953"
            ],
            [
             0.7777777777777778,
             "#fb9f3a"
            ],
            [
             0.8888888888888888,
             "#fdca26"
            ],
            [
             1,
             "#f0f921"
            ]
           ],
           "sequentialminus": [
            [
             0,
             "#0d0887"
            ],
            [
             0.1111111111111111,
             "#46039f"
            ],
            [
             0.2222222222222222,
             "#7201a8"
            ],
            [
             0.3333333333333333,
             "#9c179e"
            ],
            [
             0.4444444444444444,
             "#bd3786"
            ],
            [
             0.5555555555555556,
             "#d8576b"
            ],
            [
             0.6666666666666666,
             "#ed7953"
            ],
            [
             0.7777777777777778,
             "#fb9f3a"
            ],
            [
             0.8888888888888888,
             "#fdca26"
            ],
            [
             1,
             "#f0f921"
            ]
           ]
          },
          "colorway": [
           "#636efa",
           "#EF553B",
           "#00cc96",
           "#ab63fa",
           "#FFA15A",
           "#19d3f3",
           "#FF6692",
           "#B6E880",
           "#FF97FF",
           "#FECB52"
          ],
          "font": {
           "color": "#2a3f5f"
          },
          "geo": {
           "bgcolor": "white",
           "lakecolor": "white",
           "landcolor": "#E5ECF6",
           "showlakes": true,
           "showland": true,
           "subunitcolor": "white"
          },
          "hoverlabel": {
           "align": "left"
          },
          "hovermode": "closest",
          "mapbox": {
           "style": "light"
          },
          "paper_bgcolor": "white",
          "plot_bgcolor": "#E5ECF6",
          "polar": {
           "angularaxis": {
            "gridcolor": "white",
            "linecolor": "white",
            "ticks": ""
           },
           "bgcolor": "#E5ECF6",
           "radialaxis": {
            "gridcolor": "white",
            "linecolor": "white",
            "ticks": ""
           }
          },
          "scene": {
           "xaxis": {
            "backgroundcolor": "#E5ECF6",
            "gridcolor": "white",
            "gridwidth": 2,
            "linecolor": "white",
            "showbackground": true,
            "ticks": "",
            "zerolinecolor": "white"
           },
           "yaxis": {
            "backgroundcolor": "#E5ECF6",
            "gridcolor": "white",
            "gridwidth": 2,
            "linecolor": "white",
            "showbackground": true,
            "ticks": "",
            "zerolinecolor": "white"
           },
           "zaxis": {
            "backgroundcolor": "#E5ECF6",
            "gridcolor": "white",
            "gridwidth": 2,
            "linecolor": "white",
            "showbackground": true,
            "ticks": "",
            "zerolinecolor": "white"
           }
          },
          "shapedefaults": {
           "line": {
            "color": "#2a3f5f"
           }
          },
          "ternary": {
           "aaxis": {
            "gridcolor": "white",
            "linecolor": "white",
            "ticks": ""
           },
           "baxis": {
            "gridcolor": "white",
            "linecolor": "white",
            "ticks": ""
           },
           "bgcolor": "#E5ECF6",
           "caxis": {
            "gridcolor": "white",
            "linecolor": "white",
            "ticks": ""
           }
          },
          "title": {
           "x": 0.05
          },
          "xaxis": {
           "automargin": true,
           "gridcolor": "white",
           "linecolor": "white",
           "ticks": "",
           "title": {
            "standoff": 15
           },
           "zerolinecolor": "white",
           "zerolinewidth": 2
          },
          "yaxis": {
           "automargin": true,
           "gridcolor": "white",
           "linecolor": "white",
           "ticks": "",
           "title": {
            "standoff": 15
           },
           "zerolinecolor": "white",
           "zerolinewidth": 2
          }
         }
        },
        "title": {
         "text": "Max Annual Flow"
        },
        "width": 1200,
        "xaxis": {
         "autorange": true,
         "range": [
          1923.5,
          2016.5
         ],
         "showgrid": false,
         "showline": false,
         "showticklabels": true,
         "ticks": "outside",
         "type": "linear"
        },
        "yaxis": {
         "gridcolor": "rgb(204, 204, 204)",
         "range": [
          0,
          10000
         ],
         "separatethousands": true,
         "title": {
          "text": "Flow m³/s"
         },
         "type": "linear"
        }
       }
      },
      "image/png": "[encoded data removed]",
      "text/html": [
       "<div>\n",
       "        \n",
       "        \n",
       "            <div id=\"f6f1b01f-1d30-417d-b961-fb500a17713b\" class=\"plotly-graph-div\" style=\"height:400px; width:1200px;\"></div>\n",
       "            <script type=\"text/javascript\">\n",
       "                require([\"plotly\"], function(Plotly) {\n",
       "                    window.PLOTLYENV=window.PLOTLYENV || {};\n",
       "                    \n",
       "                if (document.getElementById(\"f6f1b01f-1d30-417d-b961-fb500a17713b\")) {\n",
       "                    Plotly.newPlot(\n",
       "                        'f6f1b01f-1d30-417d-b961-fb500a17713b',\n",
       "                        [{\"line\": {\"color\": \"rgba(250.0,250.0,0.0,1)\", \"shape\": \"spline\", \"width\": 1.0}, \"name\": \"5 year ma\", \"type\": \"scatter\", \"x\": [1924, 1925, 1926, 1927, 1928, 1929, 1930, 1931, 1932, 1933, 1934, 1935, 1936, 1937, 1938, 1939, 1940, 1941, 1942, 1943, 1944, 1945, 1946, 1947, 1948, 1949, 1950, 1951, 1952, 1953, 1954, 1955, 1956, 1957, 1958, 1959, 1960, 1961, 1962, 1963, 1964, 1965, 1966, 1967, 1968, 1969, 1970, 1971, 1972, 1973, 1974, 1975, 1976, 1977, 1978, 1979, 1980, 1981, 1982, 1983, 1984, 1985, 1986, 1987, 1988, 1989, 1990, 1991, 1992, 1993, 1994, 1995, 1996, 1997, 1998, 1999, 2000, 2001, 2002, 2003, 2004, 2005, 2006, 2007, 2008, 2009, 2010, 2011, 2012, 2013, 2014, 2015, 2016], \"y\": [null, null, 3023.2, 2770.4, 2541.4, 2639.4, 2510.6, 3310.6, 3528.8, 3357.0, 3316.4, 3638.6, 3095.4, 3491.6, 3663.4, 3381.0, 3077.0, 3011.0, 2736.2, 2382.8, 2871.0, 3763.4, 3435.8, 3696.0, 4258.6, 4566.8, 4510.0, 5091.4, 4814.6, 5068.8, 5665.6, 6470.8, 6594.8, 6760.0, 6841.6, 6124.8, 5565.4, 5169.0, 4791.8, 4654.8, 4231.2, 3910.8, 5128.8, 5555.0, 5103.6, 4789.4, 3928.4, 2788.4, 2896.6, 3355.6, 3545.6, 4573.6, 5070.8, 4601.4, 4205.0, 3926.2, 2880.0, 2176.4, 1953.4, 1873.0, 2001.0, 2271.0, 2671.8, 2486.8, 2335.6, 2101.2, 2322.4, 1927.8, 1968.6, 1673.6, 1772.6, 1763.0, 2079.4, 2515.2, 3086.8, 3212.6, 3276.8, 3460.4, 3045.6, 2847.0, 3349.8, 3254.0, 3545.4, 4307.8, 4642.2, 4442.4, 4492.0, 4047.8, 3310.0, 3034.0, 3103.2, null, null]}, {\"line\": {\"color\": \"rgba(187.5,187.5,62.5,1)\", \"shape\": \"spline\", \"width\": 1.5}, \"name\": \"10 year ma\", \"type\": \"scatter\", \"x\": [1924, 1925, 1926, 1927, 1928, 1929, 1930, 1931, 1932, 1933, 1934, 1935, 1936, 1937, 1938, 1939, 1940, 1941, 1942, 1943, 1944, 1945, 1946, 1947, 1948, 1949, 1950, 1951, 1952, 1953, 1954, 1955, 1956, 1957, 1958, 1959, 1960, 1961, 1962, 1963, 1964, 1965, 1966, 1967, 1968, 1969, 1970, 1971, 1972, 1973, 1974, 1975, 1976, 1977, 1978, 1979, 1980, 1981, 1982, 1983, 1984, 1985, 1986, 1987, 1988, 1989, 1990, 1991, 1992, 1993, 1994, 1995, 1996, 1997, 1998, 1999, 2000, 2001, 2002, 2003, 2004, 2005, 2006, 2007, 2008, 2009, 2010, 2011, 2012, 2013, 2014, 2015, 2016], \"y\": [null, null, null, null, null, 3166.9, 3149.6, 2949.2, 2977.9, 3074.6, 3203.0, 3510.2, 3510.2, 3348.7, 3357.8, 3053.2, 3113.9, 3023.1, 3126.0, 3420.2, 3223.4, 3216.1, 3320.7, 3718.9, 4136.7, 4263.6, 4255.3, 4663.7, 5116.2, 5490.4, 5843.1, 5787.3, 5955.2, 5895.2, 6018.1, 5881.9, 5775.9, 5748.2, 5178.0, 4738.1, 5148.9, 5173.4, 4879.2, 4510.3, 3919.6, 3958.6, 4225.8, 4229.6, 4167.5, 4251.0, 3929.6, 3749.0, 3780.3, 3735.9, 3726.8, 3623.6, 3277.4, 3039.0, 2963.6, 2575.5, 2424.1, 2220.1, 2104.3, 2051.1, 2296.7, 2299.8, 2227.7, 2004.6, 1936.9, 2042.7, 2003.6, 2241.9, 2380.2, 2492.6, 2519.9, 2769.9, 2780.4, 2966.9, 3281.2, 3265.4, 3502.9, 3676.7, 3744.6, 3896.1, 3873.0, 3796.6, 3808.9, 3838.1, 3772.8, null, null, null, null]}, {\"line\": {\"color\": \"rgba(125.0,125.0,125.0,1)\", \"shape\": \"spline\", \"width\": 2.0}, \"name\": \"15 year ma\", \"type\": \"scatter\", \"x\": [1924, 1925, 1926, 1927, 1928, 1929, 1930, 1931, 1932, 1933, 1934, 1935, 1936, 1937, 1938, 1939, 1940, 1941, 1942, 1943, 1944, 1945, 1946, 1947, 1948, 1949, 1950, 1951, 1952, 1953, 1954, 1955, 1956, 1957, 1958, 1959, 1960, 1961, 1962, 1963, 1964, 1965, 1966, 1967, 1968, 1969, 1970, 1971, 1972, 1973, 1974, 1975, 1976, 1977, 1978, 1979, 1980, 1981, 1982, 1983, 1984, 1985, 1986, 1987, 1988, 1989, 1990, 1991, 1992, 1993, 1994, 1995, 1996, 1997, 1998, 1999, 2000, 2001, 2002, 2003, 2004, 2005, 2006, 2007, 2008, 2009, 2010, 2011, 2012, 2013, 2014, 2015, 2016], \"y\": [null, null, null, null, null, null, null, 3143.0666666666666, 3263.6, 3187.266666666667, 3112.266666666667, 3075.4, 3139.0, 3252.2, 3134.4, 3189.4666666666667, 3493.0, 3180.733333333333, 3307.9333333333334, 3434.9333333333334, 3606.266666666667, 3783.4666666666667, 3846.0666666666666, 3748.9333333333334, 3903.4, 4367.8, 4914.733333333334, 5040.666666666667, 5090.2, 5389.666666666667, 5452.4, 5515.4, 5618.4, 5455.466666666666, 5521.733333333334, 5340.533333333334, 5315.666666666667, 5630.866666666667, 5702.266666666666, 5533.333333333333, 5048.466666666666, 4468.2, 4362.066666666667, 4414.466666666666, 4371.333333333333, 4188.733333333334, 4137.6, 4329.333333333333, 4351.0, 4221.4, 4087.0666666666666, 3794.0, 3345.2, 3150.4666666666667, 3144.5333333333333, 3157.6, 3241.5333333333333, 3306.3333333333335, 3013.866666666667, 2804.5333333333333, 2676.133333333333, 2491.133333333333, 2258.6666666666665, 2136.266666666667, 1960.7333333333333, 1958.2666666666667, 2118.8, 2226.3333333333335, 2323.5333333333333, 2365.3333333333335, 2362.133333333333, 2454.0666666666666, 2489.2, 2509.8, 2535.8, 2778.3333333333335, 2764.6, 3028.4, 3289.5333333333333, 3525.3333333333335, 3668.266666666667, 3674.266666666667, 3684.5333333333333, 3554.4666666666667, 3507.733333333333, 3631.8, null, null, null, null, null, null, null]}, {\"line\": {\"color\": \"rgba(62.5,62.5,187.5,1)\", \"shape\": \"spline\", \"width\": 2.5}, \"name\": \"20 year ma\", \"type\": \"scatter\", \"x\": [1924, 1925, 1926, 1927, 1928, 1929, 1930, 1931, 1932, 1933, 1934, 1935, 1936, 1937, 1938, 1939, 1940, 1941, 1942, 1943, 1944, 1945, 1946, 1947, 1948, 1949, 1950, 1951, 1952, 1953, 1954, 1955, 1956, 1957, 1958, 1959, 1960, 1961, 1962, 1963, 1964, 1965, 1966, 1967, 1968, 1969, 1970, 1971, 1972, 1973, 1974, 1975, 1976, 1977, 1978, 1979, 1980, 1981, 1982, 1983, 1984, 1985, 1986, 1987, 1988, 1989, 1990, 1991, 1992, 1993, 1994, 1995, 1996, 1997, 1998, 1999, 2000, 2001, 2002, 2003, 2004, 2005, 2006, 2007, 2008, 2009, 2010, 2011, 2012, 2013, 2014, 2015, 2016], \"y\": [null, null, null, null, null, null, null, null, null, null, 3110.05, 3131.75, 2986.15, 3051.95, 3247.4, 3213.2, 3363.15, 3415.45, 3533.8, 3747.25, 3658.4, 3684.6, 3843.4, 4121.1, 4455.3, 4533.25, 4501.7, 4637.95, 4807.05, 5077.4, 5072.75, 5015.6, 5205.95, 5147.1, 5114.25, 5496.0, 5480.35, 5417.2, 5202.75, 4968.85, 4920.25, 5000.85, 4988.9, 4672.75, 4494.55, 4539.25, 4461.2, 4329.75, 4123.1, 3823.2, 3791.1, 3751.6, 3634.3, 3565.55, 3413.25, 3176.85, 2984.55, 2942.3, 2893.5, 3011.75, 2961.7, 2752.55, 2521.8, 2450.25, 2309.1, 2213.85, 2231.0, 2242.25, 2271.85, 2408.3, 2534.85, 2504.05, 2485.75, 2609.05, 2654.05, 2753.25, 2959.3, 3062.4, 3194.35, 3196.45, 3283.25, 3294.65, 3402.5, 3527.0, null, null, null, null, null, null, null, null, null]}, {\"marker\": {\"color\": \"rgb(204, 80, 80)\"}, \"name\": \"Max annual flow\", \"type\": \"bar\", \"x\": [1924, 1925, 1926, 1927, 1928, 1929, 1930, 1931, 1932, 1933, 1934, 1935, 1936, 1937, 1938, 1939, 1940, 1941, 1942, 1943, 1944, 1945, 1946, 1947, 1948, 1949, 1950, 1951, 1952, 1953, 1954, 1955, 1956, 1957, 1958, 1959, 1960, 1961, 1962, 1963, 1964, 1965, 1966, 1967, 1968, 1969, 1970, 1971, 1972, 1973, 1974, 1975, 1976, 1977, 1978, 1979, 1980, 1981, 1982, 1983, 1984, 1985, 1986, 1987, 1988, 1989, 1990, 1991, 1992, 1993, 1994, 1995, 1996, 1997, 1998, 1999, 2000, 2001, 2002, 2003, 2004, 2005, 2006, 2007, 2008, 2009, 2010, 2011, 2012, 2013, 2014, 2015, 2016], \"y\": [3452, 4501, 3313, 2261, 1589, 2188, 3356, 3803, 1617, 5589, 3279, 2497, 3600, 3228, 2873, 5260, 3356, 2188, 1708, 2543, 3886, 1589, 4629, 6170, 905, 5187, 4402, 6170, 5886, 3812, 3803, 5673, 9154, 9912, 4432, 4629, 6081, 5570, 7115, 2450, 2743, 5396, 3452, 5513, 8540, 4874, 3139, 1881, 1208, 2840, 5415, 5434, 2831, 6348, 5326, 3068, 3452, 1437, 1117, 1808, 1953, 3050, 2077, 2467, 3812, 1028, 2294, 905, 3573, 1839, 1232, 819, 1400, 3525, 3421, 3411, 3677, 2029, 3846, 4339, 1337, 2684, 4543, 3367, 5796, 5149, 4356, 3544, 3615, 3575, 1460, 2976, 3890]}],\n",
       "                        {\"autosize\": false, \"height\": 400, \"plot_bgcolor\": \"white\", \"template\": {\"data\": {\"bar\": [{\"error_x\": {\"color\": \"#2a3f5f\"}, \"error_y\": {\"color\": \"#2a3f5f\"}, \"marker\": {\"line\": {\"color\": \"#E5ECF6\", \"width\": 0.5}}, \"type\": \"bar\"}], \"barpolar\": [{\"marker\": {\"line\": {\"color\": \"#E5ECF6\", \"width\": 0.5}}, \"type\": \"barpolar\"}], \"carpet\": [{\"aaxis\": {\"endlinecolor\": \"#2a3f5f\", \"gridcolor\": \"white\", \"linecolor\": \"white\", \"minorgridcolor\": \"white\", \"startlinecolor\": \"#2a3f5f\"}, \"baxis\": {\"endlinecolor\": \"#2a3f5f\", \"gridcolor\": \"white\", \"linecolor\": \"white\", \"minorgridcolor\": \"white\", \"startlinecolor\": \"#2a3f5f\"}, \"type\": \"carpet\"}], \"choropleth\": [{\"colorbar\": {\"outlinewidth\": 0, \"ticks\": \"\"}, \"type\": \"choropleth\"}], \"contour\": [{\"colorbar\": {\"outlinewidth\": 0, \"ticks\": \"\"}, \"colorscale\": [[0.0, \"#0d0887\"], [0.1111111111111111, \"#46039f\"], [0.2222222222222222, \"#7201a8\"], [0.3333333333333333, \"#9c179e\"], [0.4444444444444444, \"#bd3786\"], [0.5555555555555556, \"#d8576b\"], [0.6666666666666666, \"#ed7953\"], [0.7777777777777778, \"#fb9f3a\"], [0.8888888888888888, \"#fdca26\"], [1.0, \"#f0f921\"]], \"type\": \"contour\"}], \"contourcarpet\": [{\"colorbar\": {\"outlinewidth\": 0, \"ticks\": \"\"}, \"type\": \"contourcarpet\"}], \"heatmap\": [{\"colorbar\": {\"outlinewidth\": 0, \"ticks\": \"\"}, \"colorscale\": [[0.0, \"#0d0887\"], [0.1111111111111111, \"#46039f\"], [0.2222222222222222, \"#7201a8\"], [0.3333333333333333, \"#9c179e\"], [0.4444444444444444, \"#bd3786\"], [0.5555555555555556, \"#d8576b\"], [0.6666666666666666, \"#ed7953\"], [0.7777777777777778, \"#fb9f3a\"], [0.8888888888888888, \"#fdca26\"], [1.0, \"#f0f921\"]], \"type\": \"heatmap\"}], \"heatmapgl\": [{\"colorbar\": {\"outlinewidth\": 0, \"ticks\": \"\"}, \"colorscale\": [[0.0, \"#0d0887\"], [0.1111111111111111, \"#46039f\"], [0.2222222222222222, \"#7201a8\"], [0.3333333333333333, \"#9c179e\"], [0.4444444444444444, \"#bd3786\"], [0.5555555555555556, \"#d8576b\"], [0.6666666666666666, \"#ed7953\"], [0.7777777777777778, \"#fb9f3a\"], [0.8888888888888888, \"#fdca26\"], [1.0, \"#f0f921\"]], \"type\": \"heatmapgl\"}], \"histogram\": [{\"marker\": {\"colorbar\": {\"outlinewidth\": 0, \"ticks\": \"\"}}, \"type\": \"histogram\"}], \"histogram2d\": [{\"colorbar\": {\"outlinewidth\": 0, \"ticks\": \"\"}, \"colorscale\": [[0.0, \"#0d0887\"], [0.1111111111111111, \"#46039f\"], [0.2222222222222222, \"#7201a8\"], [0.3333333333333333, \"#9c179e\"], [0.4444444444444444, \"#bd3786\"], [0.5555555555555556, \"#d8576b\"], [0.6666666666666666, \"#ed7953\"], [0.7777777777777778, \"#fb9f3a\"], [0.8888888888888888, \"#fdca26\"], [1.0, \"#f0f921\"]], \"type\": \"histogram2d\"}], \"histogram2dcontour\": [{\"colorbar\": {\"outlinewidth\": 0, \"ticks\": \"\"}, \"colorscale\": [[0.0, \"#0d0887\"], [0.1111111111111111, \"#46039f\"], [0.2222222222222222, \"#7201a8\"], [0.3333333333333333, \"#9c179e\"], [0.4444444444444444, \"#bd3786\"], [0.5555555555555556, \"#d8576b\"], [0.6666666666666666, \"#ed7953\"], [0.7777777777777778, \"#fb9f3a\"], [0.8888888888888888, \"#fdca26\"], [1.0, \"#f0f921\"]], \"type\": \"histogram2dcontour\"}], \"mesh3d\": [{\"colorbar\": {\"outlinewidth\": 0, \"ticks\": \"\"}, \"type\": \"mesh3d\"}], \"parcoords\": [{\"line\": {\"colorbar\": {\"outlinewidth\": 0, \"ticks\": \"\"}}, \"type\": \"parcoords\"}], \"pie\": [{\"automargin\": true, \"type\": \"pie\"}], \"scatter\": [{\"marker\": {\"colorbar\": {\"outlinewidth\": 0, \"ticks\": \"\"}}, \"type\": \"scatter\"}], \"scatter3d\": [{\"line\": {\"colorbar\": {\"outlinewidth\": 0, \"ticks\": \"\"}}, \"marker\": {\"colorbar\": {\"outlinewidth\": 0, \"ticks\": \"\"}}, \"type\": \"scatter3d\"}], \"scattercarpet\": [{\"marker\": {\"colorbar\": {\"outlinewidth\": 0, \"ticks\": \"\"}}, \"type\": \"scattercarpet\"}], \"scattergeo\": [{\"marker\": {\"colorbar\": {\"outlinewidth\": 0, \"ticks\": \"\"}}, \"type\": \"scattergeo\"}], \"scattergl\": [{\"marker\": {\"colorbar\": {\"outlinewidth\": 0, \"ticks\": \"\"}}, \"type\": \"scattergl\"}], \"scattermapbox\": [{\"marker\": {\"colorbar\": {\"outlinewidth\": 0, \"ticks\": \"\"}}, \"type\": \"scattermapbox\"}], \"scatterpolar\": [{\"marker\": {\"colorbar\": {\"outlinewidth\": 0, \"ticks\": \"\"}}, \"type\": \"scatterpolar\"}], \"scatterpolargl\": [{\"marker\": {\"colorbar\": {\"outlinewidth\": 0, \"ticks\": \"\"}}, \"type\": \"scatterpolargl\"}], \"scatterternary\": [{\"marker\": {\"colorbar\": {\"outlinewidth\": 0, \"ticks\": \"\"}}, \"type\": \"scatterternary\"}], \"surface\": [{\"colorbar\": {\"outlinewidth\": 0, \"ticks\": \"\"}, \"colorscale\": [[0.0, \"#0d0887\"], [0.1111111111111111, \"#46039f\"], [0.2222222222222222, \"#7201a8\"], [0.3333333333333333, \"#9c179e\"], [0.4444444444444444, \"#bd3786\"], [0.5555555555555556, \"#d8576b\"], [0.6666666666666666, \"#ed7953\"], [0.7777777777777778, \"#fb9f3a\"], [0.8888888888888888, \"#fdca26\"], [1.0, \"#f0f921\"]], \"type\": \"surface\"}], \"table\": [{\"cells\": {\"fill\": {\"color\": \"#EBF0F8\"}, \"line\": {\"color\": \"white\"}}, \"header\": {\"fill\": {\"color\": \"#C8D4E3\"}, \"line\": {\"color\": \"white\"}}, \"type\": \"table\"}]}, \"layout\": {\"annotationdefaults\": {\"arrowcolor\": \"#2a3f5f\", \"arrowhead\": 0, \"arrowwidth\": 1}, \"coloraxis\": {\"colorbar\": {\"outlinewidth\": 0, \"ticks\": \"\"}}, \"colorscale\": {\"diverging\": [[0, \"#8e0152\"], [0.1, \"#c51b7d\"], [0.2, \"#de77ae\"], [0.3, \"#f1b6da\"], [0.4, \"#fde0ef\"], [0.5, \"#f7f7f7\"], [0.6, \"#e6f5d0\"], [0.7, \"#b8e186\"], [0.8, \"#7fbc41\"], [0.9, \"#4d9221\"], [1, \"#276419\"]], \"sequential\": [[0.0, \"#0d0887\"], [0.1111111111111111, \"#46039f\"], [0.2222222222222222, \"#7201a8\"], [0.3333333333333333, \"#9c179e\"], [0.4444444444444444, \"#bd3786\"], [0.5555555555555556, \"#d8576b\"], [0.6666666666666666, \"#ed7953\"], [0.7777777777777778, \"#fb9f3a\"], [0.8888888888888888, \"#fdca26\"], [1.0, \"#f0f921\"]], \"sequentialminus\": [[0.0, \"#0d0887\"], [0.1111111111111111, \"#46039f\"], [0.2222222222222222, \"#7201a8\"], [0.3333333333333333, \"#9c179e\"], [0.4444444444444444, \"#bd3786\"], [0.5555555555555556, \"#d8576b\"], [0.6666666666666666, \"#ed7953\"], [0.7777777777777778, \"#fb9f3a\"], [0.8888888888888888, \"#fdca26\"], [1.0, \"#f0f921\"]]}, \"colorway\": [\"#636efa\", \"#EF553B\", \"#00cc96\", \"#ab63fa\", \"#FFA15A\", \"#19d3f3\", \"#FF6692\", \"#B6E880\", \"#FF97FF\", \"#FECB52\"], \"font\": {\"color\": \"#2a3f5f\"}, \"geo\": {\"bgcolor\": \"white\", \"lakecolor\": \"white\", \"landcolor\": \"#E5ECF6\", \"showlakes\": true, \"showland\": true, \"subunitcolor\": \"white\"}, \"hoverlabel\": {\"align\": \"left\"}, \"hovermode\": \"closest\", \"mapbox\": {\"style\": \"light\"}, \"paper_bgcolor\": \"white\", \"plot_bgcolor\": \"#E5ECF6\", \"polar\": {\"angularaxis\": {\"gridcolor\": \"white\", \"linecolor\": \"white\", \"ticks\": \"\"}, \"bgcolor\": \"#E5ECF6\", \"radialaxis\": {\"gridcolor\": \"white\", \"linecolor\": \"white\", \"ticks\": \"\"}}, \"scene\": {\"xaxis\": {\"backgroundcolor\": \"#E5ECF6\", \"gridcolor\": \"white\", \"gridwidth\": 2, \"linecolor\": \"white\", \"showbackground\": true, \"ticks\": \"\", \"zerolinecolor\": \"white\"}, \"yaxis\": {\"backgroundcolor\": \"#E5ECF6\", \"gridcolor\": \"white\", \"gridwidth\": 2, \"linecolor\": \"white\", \"showbackground\": true, \"ticks\": \"\", \"zerolinecolor\": \"white\"}, \"zaxis\": {\"backgroundcolor\": \"#E5ECF6\", \"gridcolor\": \"white\", \"gridwidth\": 2, \"linecolor\": \"white\", \"showbackground\": true, \"ticks\": \"\", \"zerolinecolor\": \"white\"}}, \"shapedefaults\": {\"line\": {\"color\": \"#2a3f5f\"}}, \"ternary\": {\"aaxis\": {\"gridcolor\": \"white\", \"linecolor\": \"white\", \"ticks\": \"\"}, \"baxis\": {\"gridcolor\": \"white\", \"linecolor\": \"white\", \"ticks\": \"\"}, \"bgcolor\": \"#E5ECF6\", \"caxis\": {\"gridcolor\": \"white\", \"linecolor\": \"white\", \"ticks\": \"\"}}, \"title\": {\"x\": 0.05}, \"xaxis\": {\"automargin\": true, \"gridcolor\": \"white\", \"linecolor\": \"white\", \"ticks\": \"\", \"title\": {\"standoff\": 15}, \"zerolinecolor\": \"white\", \"zerolinewidth\": 2}, \"yaxis\": {\"automargin\": true, \"gridcolor\": \"white\", \"linecolor\": \"white\", \"ticks\": \"\", \"title\": {\"standoff\": 15}, \"zerolinecolor\": \"white\", \"zerolinewidth\": 2}}}, \"title\": {\"text\": \"Max Annual Flow\"}, \"width\": 1200, \"xaxis\": {\"showgrid\": false, \"showline\": false, \"showticklabels\": true, \"ticks\": \"outside\"}, \"yaxis\": {\"gridcolor\": \"rgb(204, 204, 204)\", \"range\": [0, 10000], \"separatethousands\": true, \"title\": {\"text\": \"Flow m\\u00b3/s\"}}},\n",
       "                        {\"responsive\": true}\n",
       "                    ).then(function(){\n",
       "                            \n",
       "var gd = document.getElementById('f6f1b01f-1d30-417d-b961-fb500a17713b');\n",
       "var x = new MutationObserver(function (mutations, observer) {{\n",
       "        var display = window.getComputedStyle(gd).display;\n",
       "        if (!display || display === 'none') {{\n",
       "            console.log([gd, 'removed!']);\n",
       "            Plotly.purge(gd);\n",
       "            observer.disconnect();\n",
       "        }}\n",
       "}});\n",
       "\n",
       "// Listen for the removal of the full notebook cells\n",
       "var notebookContainer = gd.closest('#notebook-container');\n",
       "if (notebookContainer) {{\n",
       "    x.observe(notebookContainer, {childList: true});\n",
       "}}\n",
       "\n",
       "// Listen for the clearing of the current output cell\n",
       "var outputEl = gd.closest('.output');\n",
       "if (outputEl) {{\n",
       "    x.observe(outputEl, {childList: true});\n",
       "}}\n",
       "\n",
       "                        })\n",
       "                };\n",
       "                });\n",
       "            </script>\n",
       "        </div>"
      ]
     },
     "metadata": {},
     "output_type": "display_data"
    }
   ],
   "source": [
    "windows=[w for w in range(5,25,5)]\n",
    "cols=['rgba('+ str((1-a)*250) +','+ str((1-a)*250) +','+ str((a)*250) +',1)' for a in np.linspace(0, 1, 5)]\n",
    "\n",
    "fig = go.Figure(\n",
    "    data=[\n",
    "        go.Scatter(\n",
    "            x=yearly.index, y=yearly['Flow_max'].rolling(windows[i],center=True).mean(), \n",
    "            name=str(windows[i]) + ' year ma',\n",
    "            line_shape='spline',line = dict(color=cols[i], width=(i+2)/2)\n",
    "        ) for i in range(0,4) ])\n",
    "\n",
    "fig.add_trace(go.Bar(x=yearly.index, y=yearly['Flow_max'],name='Max annual flow',marker_color='rgb(204, 80, 80)'))#,line_shape='spline',line = dict(color='rgba(50,50,50,0.2)', width=2)))\n",
    "\n",
    "fig.update_layout(\n",
    "    title_text='Max Annual Flow',\n",
    "    plot_bgcolor='white',\n",
    "    xaxis=dict(showline=False,showgrid=False,showticklabels=True,ticks='outside'),\n",
    "    yaxis=dict(title_text='Flow m\\u00B3/s',range=(0,10000),separatethousands=True,gridcolor='rgb(204, 204, 204)'),\n",
    "    width=1200, height=400, autosize=False,\n",
    ")\n",
    "fig.show(renderer=bookRenderer)"
   ]
  },
  {
   "cell_type": "code",
   "execution_count": 33,
   "metadata": {
    "jupyter": {
     "source_hidden": true
    }
   },
   "outputs": [
    {
     "data": {
      "application/vnd.plotly.v1+json": {
       "config": {
        "plotlyServerURL": "https://plot.ly"
       },
       "data": [
        {
         "line": {
          "color": "rgba(250.0,250.0,0.0,1)",
          "shape": "spline",
          "width": 1
         },
         "name": "5 year ma",
         "type": "scatter",
         "x": [
          1924,
          1925,
          1926,
          1927,
          1928,
          1929,
          1930,
          1931,
          1932,
          1933,
          1934,
          1935,
          1936,
          1937,
          1938,
          1939,
          1940,
          1941,
          1942,
          1943,
          1944,
          1945,
          1946,
          1947,
          1948,
          1949,
          1950,
          1951,
          1952,
          1953,
          1954,
          1955,
          1956,
          1957,
          1958,
          1959,
          1960,
          1961,
          1962,
          1963,
          1964,
          1965,
          1966,
          1967,
          1968,
          1969,
          1970,
          1971,
          1972,
          1973,
          1974,
          1975,
          1976,
          1977,
          1978,
          1979,
          1980,
          1981,
          1982,
          1983,
          1984,
          1985,
          1986,
          1987,
          1988,
          1989,
          1990,
          1991,
          1992,
          1993,
          1994,
          1995,
          1996,
          1997,
          1998,
          1999,
          2000,
          2001,
          2002,
          2003,
          2004,
          2005,
          2006,
          2007,
          2008,
          2009,
          2010,
          2011,
          2012,
          2013,
          2014,
          2015,
          2016
         ],
         "y": [
          null,
          null,
          167.6,
          183.2,
          191.6,
          200.2,
          202,
          194.8,
          192.6,
          190.2,
          183.2,
          190.4,
          202.8,
          210.2,
          217.4,
          215,
          204.2,
          195.6,
          191.2,
          185.2,
          186,
          204,
          207,
          202.6,
          202.2,
          215,
          207,
          220.2,
          228.4,
          239.8,
          246.6,
          259.2,
          256,
          252.6,
          242.8,
          238,
          238,
          247.6,
          261.4,
          270.4,
          270.4,
          265,
          263,
          277.2,
          292,
          293.8,
          288.2,
          273.8,
          251,
          235,
          246.8,
          255.8,
          281.6,
          299.8,
          308.6,
          290.2,
          279.8,
          254.6,
          232,
          215.4,
          214.8,
          215.4,
          214.8,
          217.4,
          217,
          204,
          191.8,
          181.2,
          165.4,
          148.6,
          134.2,
          132.8,
          136.4,
          148.4,
          153.4,
          171.8,
          179.2,
          182.2,
          182.4,
          185.8,
          188.8,
          197.4,
          196,
          199.8,
          213.4,
          220.2,
          217.2,
          219.8,
          219,
          209.2,
          191.8,
          null,
          null
         ]
        },
        {
         "line": {
          "color": "rgba(187.5,187.5,62.5,1)",
          "shape": "spline",
          "width": 1.5
         },
         "name": "10 year ma",
         "type": "scatter",
         "x": [
          1924,
          1925,
          1926,
          1927,
          1928,
          1929,
          1930,
          1931,
          1932,
          1933,
          1934,
          1935,
          1936,
          1937,
          1938,
          1939,
          1940,
          1941,
          1942,
          1943,
          1944,
          1945,
          1946,
          1947,
          1948,
          1949,
          1950,
          1951,
          1952,
          1953,
          1954,
          1955,
          1956,
          1957,
          1958,
          1959,
          1960,
          1961,
          1962,
          1963,
          1964,
          1965,
          1966,
          1967,
          1968,
          1969,
          1970,
          1971,
          1972,
          1973,
          1974,
          1975,
          1976,
          1977,
          1978,
          1979,
          1980,
          1981,
          1982,
          1983,
          1984,
          1985,
          1986,
          1987,
          1988,
          1989,
          1990,
          1991,
          1992,
          1993,
          1994,
          1995,
          1996,
          1997,
          1998,
          1999,
          2000,
          2001,
          2002,
          2003,
          2004,
          2005,
          2006,
          2007,
          2008,
          2009,
          2010,
          2011,
          2012,
          2013,
          2014,
          2015,
          2016
         ],
         "y": [
          null,
          null,
          null,
          null,
          null,
          181.2,
          187.9,
          190.9,
          191.7,
          196.2,
          198.8,
          201.4,
          203.8,
          199.1,
          197.3,
          199.2,
          200.7,
          201.3,
          200.5,
          204.1,
          201.3,
          196.9,
          193.7,
          200.5,
          205.5,
          213.6,
          215.5,
          221,
          230.8,
          233.1,
          238.1,
          240.5,
          241.3,
          242.3,
          248.6,
          251.8,
          257,
          256.6,
          254.2,
          251.5,
          255.3,
          269.3,
          281.2,
          282.1,
          276.6,
          268.4,
          264.1,
          263.5,
          270.3,
          272,
          277.7,
          275.4,
          271.8,
          268.5,
          267.8,
          268.1,
          265.9,
          262,
          252.5,
          247.6,
          234.7,
          224.7,
          216.2,
          209.4,
          203.6,
          198,
          191.4,
          182.8,
          169.1,
          162.3,
          158.8,
          156.9,
          151,
          153,
          156,
          159.3,
          165.4,
          169.6,
          180.3,
          188.3,
          189.1,
          191.1,
          199.6,
          204.5,
          207.3,
          207.9,
          209.4,
          211.3,
          206,
          null,
          null,
          null,
          null
         ]
        },
        {
         "line": {
          "color": "rgba(125.0,125.0,125.0,1)",
          "shape": "spline",
          "width": 2
         },
         "name": "15 year ma",
         "type": "scatter",
         "x": [
          1924,
          1925,
          1926,
          1927,
          1928,
          1929,
          1930,
          1931,
          1932,
          1933,
          1934,
          1935,
          1936,
          1937,
          1938,
          1939,
          1940,
          1941,
          1942,
          1943,
          1944,
          1945,
          1946,
          1947,
          1948,
          1949,
          1950,
          1951,
          1952,
          1953,
          1954,
          1955,
          1956,
          1957,
          1958,
          1959,
          1960,
          1961,
          1962,
          1963,
          1964,
          1965,
          1966,
          1967,
          1968,
          1969,
          1970,
          1971,
          1972,
          1973,
          1974,
          1975,
          1976,
          1977,
          1978,
          1979,
          1980,
          1981,
          1982,
          1983,
          1984,
          1985,
          1986,
          1987,
          1988,
          1989,
          1990,
          1991,
          1992,
          1993,
          1994,
          1995,
          1996,
          1997,
          1998,
          1999,
          2000,
          2001,
          2002,
          2003,
          2004,
          2005,
          2006,
          2007,
          2008,
          2009,
          2010,
          2011,
          2012,
          2013,
          2014,
          2015,
          2016
         ],
         "y": [
          null,
          null,
          null,
          null,
          null,
          null,
          null,
          188.4,
          195.33333333333334,
          199.73333333333332,
          199.46666666666667,
          198.86666666666667,
          197.73333333333332,
          198,
          197.6,
          194.73333333333332,
          199.53333333333333,
          201.8,
          201.33333333333334,
          201.6,
          205.33333333333334,
          205.06666666666666,
          207.6,
          207.4,
          209.06666666666666,
          215.86666666666667,
          223.4,
          227.73333333333332,
          227.86666666666667,
          228.26666666666668,
          233.2,
          234.73333333333332,
          241.26666666666668,
          247.46666666666667,
          251,
          251.66666666666666,
          254.06666666666666,
          255.53333333333333,
          263.73333333333335,
          268.4,
          267.4,
          263.73333333333335,
          261.46666666666664,
          263.2,
          265.8,
          270.3333333333333,
          269.6666666666667,
          272.8,
          276,
          278.53333333333336,
          276.93333333333334,
          274.6,
          270,
          260.93333333333334,
          253,
          250.6,
          250.33333333333334,
          250.33333333333334,
          249.73333333333332,
          247,
          236.33333333333334,
          229,
          216.86666666666667,
          204.93333333333334,
          193.66666666666666,
          184.33333333333334,
          180,
          177.46666666666667,
          177.06666666666666,
          173,
          170,
          167.93333333333334,
          166.6,
          165.4,
          162.6,
          164.93333333333334,
          169.8,
          171.53333333333333,
          176.86666666666667,
          184.2,
          193.6,
          197.93333333333334,
          199.33333333333334,
          200.4,
          202.8,
          200.26666666666668,
          null,
          null,
          null,
          null,
          null,
          null,
          null
         ]
        },
        {
         "line": {
          "color": "rgba(62.5,62.5,187.5,1)",
          "shape": "spline",
          "width": 2.5
         },
         "name": "20 year ma",
         "type": "scatter",
         "x": [
          1924,
          1925,
          1926,
          1927,
          1928,
          1929,
          1930,
          1931,
          1932,
          1933,
          1934,
          1935,
          1936,
          1937,
          1938,
          1939,
          1940,
          1941,
          1942,
          1943,
          1944,
          1945,
          1946,
          1947,
          1948,
          1949,
          1950,
          1951,
          1952,
          1953,
          1954,
          1955,
          1956,
          1957,
          1958,
          1959,
          1960,
          1961,
          1962,
          1963,
          1964,
          1965,
          1966,
          1967,
          1968,
          1969,
          1970,
          1971,
          1972,
          1973,
          1974,
          1975,
          1976,
          1977,
          1978,
          1979,
          1980,
          1981,
          1982,
          1983,
          1984,
          1985,
          1986,
          1987,
          1988,
          1989,
          1990,
          1991,
          1992,
          1993,
          1994,
          1995,
          1996,
          1997,
          1998,
          1999,
          2000,
          2001,
          2002,
          2003,
          2004,
          2005,
          2006,
          2007,
          2008,
          2009,
          2010,
          2011,
          2012,
          2013,
          2014,
          2015,
          2016
         ],
         "y": [
          null,
          null,
          null,
          null,
          null,
          null,
          null,
          null,
          null,
          null,
          190.2,
          194.3,
          196.1,
          196.1,
          200.15,
          200.05,
          199.15,
          198.75,
          199.8,
          201.4,
          206.4,
          208.1,
          211.15,
          215.65,
          218.6,
          219.7,
          218.7,
          217.5,
          221.4,
          227.05,
          232.7,
          236.25,
          238.8,
          242.5,
          242.3,
          246.7,
          254.9,
          261.25,
          262.2,
          262.6,
          260.1,
          260.55,
          260.05,
          262.25,
          261.75,
          266.5,
          272.35,
          276.5,
          275.3,
          272.2,
          268.25,
          265,
          262.75,
          261.4,
          259.8,
          256.2,
          250.05,
          244,
          238.95,
          235.7,
          233.05,
          228.65,
          222.4,
          210.8,
          204.95,
          196.75,
          190.8,
          183.6,
          181.2,
          179.8,
          178.65,
          178.4,
          176.2,
          174.7,
          175.3,
          173.95,
          174,
          175.3,
          178.75,
          181.65,
          183.6,
          187.4,
          190.45,
          193.15,
          null,
          null,
          null,
          null,
          null,
          null,
          null,
          null,
          null
         ]
        },
        {
         "marker": {
          "color": "rgb(204, 80, 80)"
         },
         "name": "Min annual flow",
         "type": "bar",
         "x": [
          1924,
          1925,
          1926,
          1927,
          1928,
          1929,
          1930,
          1931,
          1932,
          1933,
          1934,
          1935,
          1936,
          1937,
          1938,
          1939,
          1940,
          1941,
          1942,
          1943,
          1944,
          1945,
          1946,
          1947,
          1948,
          1949,
          1950,
          1951,
          1952,
          1953,
          1954,
          1955,
          1956,
          1957,
          1958,
          1959,
          1960,
          1961,
          1962,
          1963,
          1964,
          1965,
          1966,
          1967,
          1968,
          1969,
          1970,
          1971,
          1972,
          1973,
          1974,
          1975,
          1976,
          1977,
          1978,
          1979,
          1980,
          1981,
          1982,
          1983,
          1984,
          1985,
          1986,
          1987,
          1988,
          1989,
          1990,
          1991,
          1992,
          1993,
          1994,
          1995,
          1996,
          1997,
          1998,
          1999,
          2000,
          2001,
          2002,
          2003,
          2004,
          2005,
          2006,
          2007,
          2008,
          2009,
          2010,
          2011,
          2012,
          2013,
          2014,
          2015,
          2016
         ],
         "y": [
          111,
          159,
          193,
          180,
          195,
          189,
          201,
          236,
          189,
          159,
          178,
          189,
          201,
          225,
          221,
          215,
          225,
          189,
          171,
          178,
          193,
          195,
          193,
          261,
          193,
          171,
          193,
          257,
          221,
          259,
          212,
          250,
          291,
          284,
          243,
          195,
          201,
          267,
          284,
          291,
          264,
          246,
          267,
          257,
          281,
          335,
          320,
          276,
          229,
          209,
          221,
          240,
          335,
          274,
          338,
          312,
          284,
          243,
          222,
          212,
          199,
          201,
          240,
          225,
          209,
          212,
          199,
          175,
          164,
          156,
          133,
          115,
          103,
          157,
          174,
          193,
          140,
          195,
          194,
          189,
          194,
          157,
          210,
          237,
          182,
          213,
          225,
          244,
          222,
          195,
          209,
          176,
          157
         ]
        }
       ],
       "layout": {
        "autosize": false,
        "height": 400,
        "plot_bgcolor": "white",
        "template": {
         "data": {
          "bar": [
           {
            "error_x": {
             "color": "#2a3f5f"
            },
            "error_y": {
             "color": "#2a3f5f"
            },
            "marker": {
             "line": {
              "color": "#E5ECF6",
              "width": 0.5
             }
            },
            "type": "bar"
           }
          ],
          "barpolar": [
           {
            "marker": {
             "line": {
              "color": "#E5ECF6",
              "width": 0.5
             }
            },
            "type": "barpolar"
           }
          ],
          "carpet": [
           {
            "aaxis": {
             "endlinecolor": "#2a3f5f",
             "gridcolor": "white",
             "linecolor": "white",
             "minorgridcolor": "white",
             "startlinecolor": "#2a3f5f"
            },
            "baxis": {
             "endlinecolor": "#2a3f5f",
             "gridcolor": "white",
             "linecolor": "white",
             "minorgridcolor": "white",
             "startlinecolor": "#2a3f5f"
            },
            "type": "carpet"
           }
          ],
          "choropleth": [
           {
            "colorbar": {
             "outlinewidth": 0,
             "ticks": ""
            },
            "type": "choropleth"
           }
          ],
          "contour": [
           {
            "colorbar": {
             "outlinewidth": 0,
             "ticks": ""
            },
            "colorscale": [
             [
              0,
              "#0d0887"
             ],
             [
              0.1111111111111111,
              "#46039f"
             ],
             [
              0.2222222222222222,
              "#7201a8"
             ],
             [
              0.3333333333333333,
              "#9c179e"
             ],
             [
              0.4444444444444444,
              "#bd3786"
             ],
             [
              0.5555555555555556,
              "#d8576b"
             ],
             [
              0.6666666666666666,
              "#ed7953"
             ],
             [
              0.7777777777777778,
              "#fb9f3a"
             ],
             [
              0.8888888888888888,
              "#fdca26"
             ],
             [
              1,
              "#f0f921"
             ]
            ],
            "type": "contour"
           }
          ],
          "contourcarpet": [
           {
            "colorbar": {
             "outlinewidth": 0,
             "ticks": ""
            },
            "type": "contourcarpet"
           }
          ],
          "heatmap": [
           {
            "colorbar": {
             "outlinewidth": 0,
             "ticks": ""
            },
            "colorscale": [
             [
              0,
              "#0d0887"
             ],
             [
              0.1111111111111111,
              "#46039f"
             ],
             [
              0.2222222222222222,
              "#7201a8"
             ],
             [
              0.3333333333333333,
              "#9c179e"
             ],
             [
              0.4444444444444444,
              "#bd3786"
             ],
             [
              0.5555555555555556,
              "#d8576b"
             ],
             [
              0.6666666666666666,
              "#ed7953"
             ],
             [
              0.7777777777777778,
              "#fb9f3a"
             ],
             [
              0.8888888888888888,
              "#fdca26"
             ],
             [
              1,
              "#f0f921"
             ]
            ],
            "type": "heatmap"
           }
          ],
          "heatmapgl": [
           {
            "colorbar": {
             "outlinewidth": 0,
             "ticks": ""
            },
            "colorscale": [
             [
              0,
              "#0d0887"
             ],
             [
              0.1111111111111111,
              "#46039f"
             ],
             [
              0.2222222222222222,
              "#7201a8"
             ],
             [
              0.3333333333333333,
              "#9c179e"
             ],
             [
              0.4444444444444444,
              "#bd3786"
             ],
             [
              0.5555555555555556,
              "#d8576b"
             ],
             [
              0.6666666666666666,
              "#ed7953"
             ],
             [
              0.7777777777777778,
              "#fb9f3a"
             ],
             [
              0.8888888888888888,
              "#fdca26"
             ],
             [
              1,
              "#f0f921"
             ]
            ],
            "type": "heatmapgl"
           }
          ],
          "histogram": [
           {
            "marker": {
             "colorbar": {
              "outlinewidth": 0,
              "ticks": ""
             }
            },
            "type": "histogram"
           }
          ],
          "histogram2d": [
           {
            "colorbar": {
             "outlinewidth": 0,
             "ticks": ""
            },
            "colorscale": [
             [
              0,
              "#0d0887"
             ],
             [
              0.1111111111111111,
              "#46039f"
             ],
             [
              0.2222222222222222,
              "#7201a8"
             ],
             [
              0.3333333333333333,
              "#9c179e"
             ],
             [
              0.4444444444444444,
              "#bd3786"
             ],
             [
              0.5555555555555556,
              "#d8576b"
             ],
             [
              0.6666666666666666,
              "#ed7953"
             ],
             [
              0.7777777777777778,
              "#fb9f3a"
             ],
             [
              0.8888888888888888,
              "#fdca26"
             ],
             [
              1,
              "#f0f921"
             ]
            ],
            "type": "histogram2d"
           }
          ],
          "histogram2dcontour": [
           {
            "colorbar": {
             "outlinewidth": 0,
             "ticks": ""
            },
            "colorscale": [
             [
              0,
              "#0d0887"
             ],
             [
              0.1111111111111111,
              "#46039f"
             ],
             [
              0.2222222222222222,
              "#7201a8"
             ],
             [
              0.3333333333333333,
              "#9c179e"
             ],
             [
              0.4444444444444444,
              "#bd3786"
             ],
             [
              0.5555555555555556,
              "#d8576b"
             ],
             [
              0.6666666666666666,
              "#ed7953"
             ],
             [
              0.7777777777777778,
              "#fb9f3a"
             ],
             [
              0.8888888888888888,
              "#fdca26"
             ],
             [
              1,
              "#f0f921"
             ]
            ],
            "type": "histogram2dcontour"
           }
          ],
          "mesh3d": [
           {
            "colorbar": {
             "outlinewidth": 0,
             "ticks": ""
            },
            "type": "mesh3d"
           }
          ],
          "parcoords": [
           {
            "line": {
             "colorbar": {
              "outlinewidth": 0,
              "ticks": ""
             }
            },
            "type": "parcoords"
           }
          ],
          "pie": [
           {
            "automargin": true,
            "type": "pie"
           }
          ],
          "scatter": [
           {
            "marker": {
             "colorbar": {
              "outlinewidth": 0,
              "ticks": ""
             }
            },
            "type": "scatter"
           }
          ],
          "scatter3d": [
           {
            "line": {
             "colorbar": {
              "outlinewidth": 0,
              "ticks": ""
             }
            },
            "marker": {
             "colorbar": {
              "outlinewidth": 0,
              "ticks": ""
             }
            },
            "type": "scatter3d"
           }
          ],
          "scattercarpet": [
           {
            "marker": {
             "colorbar": {
              "outlinewidth": 0,
              "ticks": ""
             }
            },
            "type": "scattercarpet"
           }
          ],
          "scattergeo": [
           {
            "marker": {
             "colorbar": {
              "outlinewidth": 0,
              "ticks": ""
             }
            },
            "type": "scattergeo"
           }
          ],
          "scattergl": [
           {
            "marker": {
             "colorbar": {
              "outlinewidth": 0,
              "ticks": ""
             }
            },
            "type": "scattergl"
           }
          ],
          "scattermapbox": [
           {
            "marker": {
             "colorbar": {
              "outlinewidth": 0,
              "ticks": ""
             }
            },
            "type": "scattermapbox"
           }
          ],
          "scatterpolar": [
           {
            "marker": {
             "colorbar": {
              "outlinewidth": 0,
              "ticks": ""
             }
            },
            "type": "scatterpolar"
           }
          ],
          "scatterpolargl": [
           {
            "marker": {
             "colorbar": {
              "outlinewidth": 0,
              "ticks": ""
             }
            },
            "type": "scatterpolargl"
           }
          ],
          "scatterternary": [
           {
            "marker": {
             "colorbar": {
              "outlinewidth": 0,
              "ticks": ""
             }
            },
            "type": "scatterternary"
           }
          ],
          "surface": [
           {
            "colorbar": {
             "outlinewidth": 0,
             "ticks": ""
            },
            "colorscale": [
             [
              0,
              "#0d0887"
             ],
             [
              0.1111111111111111,
              "#46039f"
             ],
             [
              0.2222222222222222,
              "#7201a8"
             ],
             [
              0.3333333333333333,
              "#9c179e"
             ],
             [
              0.4444444444444444,
              "#bd3786"
             ],
             [
              0.5555555555555556,
              "#d8576b"
             ],
             [
              0.6666666666666666,
              "#ed7953"
             ],
             [
              0.7777777777777778,
              "#fb9f3a"
             ],
             [
              0.8888888888888888,
              "#fdca26"
             ],
             [
              1,
              "#f0f921"
             ]
            ],
            "type": "surface"
           }
          ],
          "table": [
           {
            "cells": {
             "fill": {
              "color": "#EBF0F8"
             },
             "line": {
              "color": "white"
             }
            },
            "header": {
             "fill": {
              "color": "#C8D4E3"
             },
             "line": {
              "color": "white"
             }
            },
            "type": "table"
           }
          ]
         },
         "layout": {
          "annotationdefaults": {
           "arrowcolor": "#2a3f5f",
           "arrowhead": 0,
           "arrowwidth": 1
          },
          "coloraxis": {
           "colorbar": {
            "outlinewidth": 0,
            "ticks": ""
           }
          },
          "colorscale": {
           "diverging": [
            [
             0,
             "#8e0152"
            ],
            [
             0.1,
             "#c51b7d"
            ],
            [
             0.2,
             "#de77ae"
            ],
            [
             0.3,
             "#f1b6da"
            ],
            [
             0.4,
             "#fde0ef"
            ],
            [
             0.5,
             "#f7f7f7"
            ],
            [
             0.6,
             "#e6f5d0"
            ],
            [
             0.7,
             "#b8e186"
            ],
            [
             0.8,
             "#7fbc41"
            ],
            [
             0.9,
             "#4d9221"
            ],
            [
             1,
             "#276419"
            ]
           ],
           "sequential": [
            [
             0,
             "#0d0887"
            ],
            [
             0.1111111111111111,
             "#46039f"
            ],
            [
             0.2222222222222222,
             "#7201a8"
            ],
            [
             0.3333333333333333,
             "#9c179e"
            ],
            [
             0.4444444444444444,
             "#bd3786"
            ],
            [
             0.5555555555555556,
             "#d8576b"
            ],
            [
             0.6666666666666666,
             "#ed7953"
            ],
            [
             0.7777777777777778,
             "#fb9f3a"
            ],
            [
             0.8888888888888888,
             "#fdca26"
            ],
            [
             1,
             "#f0f921"
            ]
           ],
           "sequentialminus": [
            [
             0,
             "#0d0887"
            ],
            [
             0.1111111111111111,
             "#46039f"
            ],
            [
             0.2222222222222222,
             "#7201a8"
            ],
            [
             0.3333333333333333,
             "#9c179e"
            ],
            [
             0.4444444444444444,
             "#bd3786"
            ],
            [
             0.5555555555555556,
             "#d8576b"
            ],
            [
             0.6666666666666666,
             "#ed7953"
            ],
            [
             0.7777777777777778,
             "#fb9f3a"
            ],
            [
             0.8888888888888888,
             "#fdca26"
            ],
            [
             1,
             "#f0f921"
            ]
           ]
          },
          "colorway": [
           "#636efa",
           "#EF553B",
           "#00cc96",
           "#ab63fa",
           "#FFA15A",
           "#19d3f3",
           "#FF6692",
           "#B6E880",
           "#FF97FF",
           "#FECB52"
          ],
          "font": {
           "color": "#2a3f5f"
          },
          "geo": {
           "bgcolor": "white",
           "lakecolor": "white",
           "landcolor": "#E5ECF6",
           "showlakes": true,
           "showland": true,
           "subunitcolor": "white"
          },
          "hoverlabel": {
           "align": "left"
          },
          "hovermode": "closest",
          "mapbox": {
           "style": "light"
          },
          "paper_bgcolor": "white",
          "plot_bgcolor": "#E5ECF6",
          "polar": {
           "angularaxis": {
            "gridcolor": "white",
            "linecolor": "white",
            "ticks": ""
           },
           "bgcolor": "#E5ECF6",
           "radialaxis": {
            "gridcolor": "white",
            "linecolor": "white",
            "ticks": ""
           }
          },
          "scene": {
           "xaxis": {
            "backgroundcolor": "#E5ECF6",
            "gridcolor": "white",
            "gridwidth": 2,
            "linecolor": "white",
            "showbackground": true,
            "ticks": "",
            "zerolinecolor": "white"
           },
           "yaxis": {
            "backgroundcolor": "#E5ECF6",
            "gridcolor": "white",
            "gridwidth": 2,
            "linecolor": "white",
            "showbackground": true,
            "ticks": "",
            "zerolinecolor": "white"
           },
           "zaxis": {
            "backgroundcolor": "#E5ECF6",
            "gridcolor": "white",
            "gridwidth": 2,
            "linecolor": "white",
            "showbackground": true,
            "ticks": "",
            "zerolinecolor": "white"
           }
          },
          "shapedefaults": {
           "line": {
            "color": "#2a3f5f"
           }
          },
          "ternary": {
           "aaxis": {
            "gridcolor": "white",
            "linecolor": "white",
            "ticks": ""
           },
           "baxis": {
            "gridcolor": "white",
            "linecolor": "white",
            "ticks": ""
           },
           "bgcolor": "#E5ECF6",
           "caxis": {
            "gridcolor": "white",
            "linecolor": "white",
            "ticks": ""
           }
          },
          "title": {
           "x": 0.05
          },
          "xaxis": {
           "automargin": true,
           "gridcolor": "white",
           "linecolor": "white",
           "ticks": "",
           "title": {
            "standoff": 15
           },
           "zerolinecolor": "white",
           "zerolinewidth": 2
          },
          "yaxis": {
           "automargin": true,
           "gridcolor": "white",
           "linecolor": "white",
           "ticks": "",
           "title": {
            "standoff": 15
           },
           "zerolinecolor": "white",
           "zerolinewidth": 2
          }
         }
        },
        "title": {
         "text": "Min Annual Flow"
        },
        "width": 1200,
        "xaxis": {
         "autorange": true,
         "range": [
          1923.5,
          2016.5
         ],
         "showgrid": false,
         "showline": false,
         "showticklabels": true,
         "ticks": "outside",
         "type": "linear"
        },
        "yaxis": {
         "gridcolor": "rgb(204, 204, 204)",
         "range": [
          100,
          400
         ],
         "separatethousands": true,
         "title": {
          "text": "Flow m³/s"
         },
         "type": "linear"
        }
       }
      },
      "image/png": "[encoded data removed]",
      "text/html": [
       "<div>\n",
       "        \n",
       "        \n",
       "            <div id=\"e0b1b814-a991-4d6b-9aca-6f075f129ab0\" class=\"plotly-graph-div\" style=\"height:400px; width:1200px;\"></div>\n",
       "            <script type=\"text/javascript\">\n",
       "                require([\"plotly\"], function(Plotly) {\n",
       "                    window.PLOTLYENV=window.PLOTLYENV || {};\n",
       "                    \n",
       "                if (document.getElementById(\"e0b1b814-a991-4d6b-9aca-6f075f129ab0\")) {\n",
       "                    Plotly.newPlot(\n",
       "                        'e0b1b814-a991-4d6b-9aca-6f075f129ab0',\n",
       "                        [{\"line\": {\"color\": \"rgba(250.0,250.0,0.0,1)\", \"shape\": \"spline\", \"width\": 1.0}, \"name\": \"5 year ma\", \"type\": \"scatter\", \"x\": [1924, 1925, 1926, 1927, 1928, 1929, 1930, 1931, 1932, 1933, 1934, 1935, 1936, 1937, 1938, 1939, 1940, 1941, 1942, 1943, 1944, 1945, 1946, 1947, 1948, 1949, 1950, 1951, 1952, 1953, 1954, 1955, 1956, 1957, 1958, 1959, 1960, 1961, 1962, 1963, 1964, 1965, 1966, 1967, 1968, 1969, 1970, 1971, 1972, 1973, 1974, 1975, 1976, 1977, 1978, 1979, 1980, 1981, 1982, 1983, 1984, 1985, 1986, 1987, 1988, 1989, 1990, 1991, 1992, 1993, 1994, 1995, 1996, 1997, 1998, 1999, 2000, 2001, 2002, 2003, 2004, 2005, 2006, 2007, 2008, 2009, 2010, 2011, 2012, 2013, 2014, 2015, 2016], \"y\": [null, null, 167.6, 183.2, 191.6, 200.2, 202.0, 194.8, 192.6, 190.2, 183.2, 190.4, 202.8, 210.2, 217.4, 215.0, 204.2, 195.6, 191.2, 185.2, 186.0, 204.0, 207.0, 202.6, 202.2, 215.0, 207.0, 220.2, 228.4, 239.8, 246.6, 259.2, 256.0, 252.6, 242.8, 238.0, 238.0, 247.6, 261.4, 270.4, 270.4, 265.0, 263.0, 277.2, 292.0, 293.8, 288.2, 273.8, 251.0, 235.0, 246.8, 255.8, 281.6, 299.8, 308.6, 290.2, 279.8, 254.6, 232.0, 215.4, 214.8, 215.4, 214.8, 217.4, 217.0, 204.0, 191.8, 181.2, 165.4, 148.6, 134.2, 132.8, 136.4, 148.4, 153.4, 171.8, 179.2, 182.2, 182.4, 185.8, 188.8, 197.4, 196.0, 199.8, 213.4, 220.2, 217.2, 219.8, 219.0, 209.2, 191.8, null, null]}, {\"line\": {\"color\": \"rgba(187.5,187.5,62.5,1)\", \"shape\": \"spline\", \"width\": 1.5}, \"name\": \"10 year ma\", \"type\": \"scatter\", \"x\": [1924, 1925, 1926, 1927, 1928, 1929, 1930, 1931, 1932, 1933, 1934, 1935, 1936, 1937, 1938, 1939, 1940, 1941, 1942, 1943, 1944, 1945, 1946, 1947, 1948, 1949, 1950, 1951, 1952, 1953, 1954, 1955, 1956, 1957, 1958, 1959, 1960, 1961, 1962, 1963, 1964, 1965, 1966, 1967, 1968, 1969, 1970, 1971, 1972, 1973, 1974, 1975, 1976, 1977, 1978, 1979, 1980, 1981, 1982, 1983, 1984, 1985, 1986, 1987, 1988, 1989, 1990, 1991, 1992, 1993, 1994, 1995, 1996, 1997, 1998, 1999, 2000, 2001, 2002, 2003, 2004, 2005, 2006, 2007, 2008, 2009, 2010, 2011, 2012, 2013, 2014, 2015, 2016], \"y\": [null, null, null, null, null, 181.2, 187.9, 190.9, 191.7, 196.2, 198.8, 201.4, 203.8, 199.1, 197.3, 199.2, 200.7, 201.3, 200.5, 204.1, 201.3, 196.9, 193.7, 200.5, 205.5, 213.6, 215.5, 221.0, 230.8, 233.1, 238.1, 240.5, 241.3, 242.3, 248.6, 251.8, 257.0, 256.6, 254.2, 251.5, 255.3, 269.3, 281.2, 282.1, 276.6, 268.4, 264.1, 263.5, 270.3, 272.0, 277.7, 275.4, 271.8, 268.5, 267.8, 268.1, 265.9, 262.0, 252.5, 247.6, 234.7, 224.7, 216.2, 209.4, 203.6, 198.0, 191.4, 182.8, 169.1, 162.3, 158.8, 156.9, 151.0, 153.0, 156.0, 159.3, 165.4, 169.6, 180.3, 188.3, 189.1, 191.1, 199.6, 204.5, 207.3, 207.9, 209.4, 211.3, 206.0, null, null, null, null]}, {\"line\": {\"color\": \"rgba(125.0,125.0,125.0,1)\", \"shape\": \"spline\", \"width\": 2.0}, \"name\": \"15 year ma\", \"type\": \"scatter\", \"x\": [1924, 1925, 1926, 1927, 1928, 1929, 1930, 1931, 1932, 1933, 1934, 1935, 1936, 1937, 1938, 1939, 1940, 1941, 1942, 1943, 1944, 1945, 1946, 1947, 1948, 1949, 1950, 1951, 1952, 1953, 1954, 1955, 1956, 1957, 1958, 1959, 1960, 1961, 1962, 1963, 1964, 1965, 1966, 1967, 1968, 1969, 1970, 1971, 1972, 1973, 1974, 1975, 1976, 1977, 1978, 1979, 1980, 1981, 1982, 1983, 1984, 1985, 1986, 1987, 1988, 1989, 1990, 1991, 1992, 1993, 1994, 1995, 1996, 1997, 1998, 1999, 2000, 2001, 2002, 2003, 2004, 2005, 2006, 2007, 2008, 2009, 2010, 2011, 2012, 2013, 2014, 2015, 2016], \"y\": [null, null, null, null, null, null, null, 188.4, 195.33333333333334, 199.73333333333332, 199.46666666666667, 198.86666666666667, 197.73333333333332, 198.0, 197.6, 194.73333333333332, 199.53333333333333, 201.8, 201.33333333333334, 201.6, 205.33333333333334, 205.06666666666666, 207.6, 207.4, 209.06666666666666, 215.86666666666667, 223.4, 227.73333333333332, 227.86666666666667, 228.26666666666668, 233.2, 234.73333333333332, 241.26666666666668, 247.46666666666667, 251.0, 251.66666666666666, 254.06666666666666, 255.53333333333333, 263.73333333333335, 268.4, 267.4, 263.73333333333335, 261.46666666666664, 263.2, 265.8, 270.3333333333333, 269.6666666666667, 272.8, 276.0, 278.53333333333336, 276.93333333333334, 274.6, 270.0, 260.93333333333334, 253.0, 250.6, 250.33333333333334, 250.33333333333334, 249.73333333333332, 247.0, 236.33333333333334, 229.0, 216.86666666666667, 204.93333333333334, 193.66666666666666, 184.33333333333334, 180.0, 177.46666666666667, 177.06666666666666, 173.0, 170.0, 167.93333333333334, 166.6, 165.4, 162.6, 164.93333333333334, 169.8, 171.53333333333333, 176.86666666666667, 184.2, 193.6, 197.93333333333334, 199.33333333333334, 200.4, 202.8, 200.26666666666668, null, null, null, null, null, null, null]}, {\"line\": {\"color\": \"rgba(62.5,62.5,187.5,1)\", \"shape\": \"spline\", \"width\": 2.5}, \"name\": \"20 year ma\", \"type\": \"scatter\", \"x\": [1924, 1925, 1926, 1927, 1928, 1929, 1930, 1931, 1932, 1933, 1934, 1935, 1936, 1937, 1938, 1939, 1940, 1941, 1942, 1943, 1944, 1945, 1946, 1947, 1948, 1949, 1950, 1951, 1952, 1953, 1954, 1955, 1956, 1957, 1958, 1959, 1960, 1961, 1962, 1963, 1964, 1965, 1966, 1967, 1968, 1969, 1970, 1971, 1972, 1973, 1974, 1975, 1976, 1977, 1978, 1979, 1980, 1981, 1982, 1983, 1984, 1985, 1986, 1987, 1988, 1989, 1990, 1991, 1992, 1993, 1994, 1995, 1996, 1997, 1998, 1999, 2000, 2001, 2002, 2003, 2004, 2005, 2006, 2007, 2008, 2009, 2010, 2011, 2012, 2013, 2014, 2015, 2016], \"y\": [null, null, null, null, null, null, null, null, null, null, 190.2, 194.3, 196.1, 196.1, 200.15, 200.05, 199.15, 198.75, 199.8, 201.4, 206.4, 208.1, 211.15, 215.65, 218.6, 219.7, 218.7, 217.5, 221.4, 227.05, 232.7, 236.25, 238.8, 242.5, 242.3, 246.7, 254.9, 261.25, 262.2, 262.6, 260.1, 260.55, 260.05, 262.25, 261.75, 266.5, 272.35, 276.5, 275.3, 272.2, 268.25, 265.0, 262.75, 261.4, 259.8, 256.2, 250.05, 244.0, 238.95, 235.7, 233.05, 228.65, 222.4, 210.8, 204.95, 196.75, 190.8, 183.6, 181.2, 179.8, 178.65, 178.4, 176.2, 174.7, 175.3, 173.95, 174.0, 175.3, 178.75, 181.65, 183.6, 187.4, 190.45, 193.15, null, null, null, null, null, null, null, null, null]}, {\"marker\": {\"color\": \"rgb(204, 80, 80)\"}, \"name\": \"Min annual flow\", \"type\": \"bar\", \"x\": [1924, 1925, 1926, 1927, 1928, 1929, 1930, 1931, 1932, 1933, 1934, 1935, 1936, 1937, 1938, 1939, 1940, 1941, 1942, 1943, 1944, 1945, 1946, 1947, 1948, 1949, 1950, 1951, 1952, 1953, 1954, 1955, 1956, 1957, 1958, 1959, 1960, 1961, 1962, 1963, 1964, 1965, 1966, 1967, 1968, 1969, 1970, 1971, 1972, 1973, 1974, 1975, 1976, 1977, 1978, 1979, 1980, 1981, 1982, 1983, 1984, 1985, 1986, 1987, 1988, 1989, 1990, 1991, 1992, 1993, 1994, 1995, 1996, 1997, 1998, 1999, 2000, 2001, 2002, 2003, 2004, 2005, 2006, 2007, 2008, 2009, 2010, 2011, 2012, 2013, 2014, 2015, 2016], \"y\": [111, 159, 193, 180, 195, 189, 201, 236, 189, 159, 178, 189, 201, 225, 221, 215, 225, 189, 171, 178, 193, 195, 193, 261, 193, 171, 193, 257, 221, 259, 212, 250, 291, 284, 243, 195, 201, 267, 284, 291, 264, 246, 267, 257, 281, 335, 320, 276, 229, 209, 221, 240, 335, 274, 338, 312, 284, 243, 222, 212, 199, 201, 240, 225, 209, 212, 199, 175, 164, 156, 133, 115, 103, 157, 174, 193, 140, 195, 194, 189, 194, 157, 210, 237, 182, 213, 225, 244, 222, 195, 209, 176, 157]}],\n",
       "                        {\"autosize\": false, \"height\": 400, \"plot_bgcolor\": \"white\", \"template\": {\"data\": {\"bar\": [{\"error_x\": {\"color\": \"#2a3f5f\"}, \"error_y\": {\"color\": \"#2a3f5f\"}, \"marker\": {\"line\": {\"color\": \"#E5ECF6\", \"width\": 0.5}}, \"type\": \"bar\"}], \"barpolar\": [{\"marker\": {\"line\": {\"color\": \"#E5ECF6\", \"width\": 0.5}}, \"type\": \"barpolar\"}], \"carpet\": [{\"aaxis\": {\"endlinecolor\": \"#2a3f5f\", \"gridcolor\": \"white\", \"linecolor\": \"white\", \"minorgridcolor\": \"white\", \"startlinecolor\": \"#2a3f5f\"}, \"baxis\": {\"endlinecolor\": \"#2a3f5f\", \"gridcolor\": \"white\", \"linecolor\": \"white\", \"minorgridcolor\": \"white\", \"startlinecolor\": \"#2a3f5f\"}, \"type\": \"carpet\"}], \"choropleth\": [{\"colorbar\": {\"outlinewidth\": 0, \"ticks\": \"\"}, \"type\": \"choropleth\"}], \"contour\": [{\"colorbar\": {\"outlinewidth\": 0, \"ticks\": \"\"}, \"colorscale\": [[0.0, \"#0d0887\"], [0.1111111111111111, \"#46039f\"], [0.2222222222222222, \"#7201a8\"], [0.3333333333333333, \"#9c179e\"], [0.4444444444444444, \"#bd3786\"], [0.5555555555555556, \"#d8576b\"], [0.6666666666666666, \"#ed7953\"], [0.7777777777777778, \"#fb9f3a\"], [0.8888888888888888, \"#fdca26\"], [1.0, \"#f0f921\"]], \"type\": \"contour\"}], \"contourcarpet\": [{\"colorbar\": {\"outlinewidth\": 0, \"ticks\": \"\"}, \"type\": \"contourcarpet\"}], \"heatmap\": [{\"colorbar\": {\"outlinewidth\": 0, \"ticks\": \"\"}, \"colorscale\": [[0.0, \"#0d0887\"], [0.1111111111111111, \"#46039f\"], [0.2222222222222222, \"#7201a8\"], [0.3333333333333333, \"#9c179e\"], [0.4444444444444444, \"#bd3786\"], [0.5555555555555556, \"#d8576b\"], [0.6666666666666666, \"#ed7953\"], [0.7777777777777778, \"#fb9f3a\"], [0.8888888888888888, \"#fdca26\"], [1.0, \"#f0f921\"]], \"type\": \"heatmap\"}], \"heatmapgl\": [{\"colorbar\": {\"outlinewidth\": 0, \"ticks\": \"\"}, \"colorscale\": [[0.0, \"#0d0887\"], [0.1111111111111111, \"#46039f\"], [0.2222222222222222, \"#7201a8\"], [0.3333333333333333, \"#9c179e\"], [0.4444444444444444, \"#bd3786\"], [0.5555555555555556, \"#d8576b\"], [0.6666666666666666, \"#ed7953\"], [0.7777777777777778, \"#fb9f3a\"], [0.8888888888888888, \"#fdca26\"], [1.0, \"#f0f921\"]], \"type\": \"heatmapgl\"}], \"histogram\": [{\"marker\": {\"colorbar\": {\"outlinewidth\": 0, \"ticks\": \"\"}}, \"type\": \"histogram\"}], \"histogram2d\": [{\"colorbar\": {\"outlinewidth\": 0, \"ticks\": \"\"}, \"colorscale\": [[0.0, \"#0d0887\"], [0.1111111111111111, \"#46039f\"], [0.2222222222222222, \"#7201a8\"], [0.3333333333333333, \"#9c179e\"], [0.4444444444444444, \"#bd3786\"], [0.5555555555555556, \"#d8576b\"], [0.6666666666666666, \"#ed7953\"], [0.7777777777777778, \"#fb9f3a\"], [0.8888888888888888, \"#fdca26\"], [1.0, \"#f0f921\"]], \"type\": \"histogram2d\"}], \"histogram2dcontour\": [{\"colorbar\": {\"outlinewidth\": 0, \"ticks\": \"\"}, \"colorscale\": [[0.0, \"#0d0887\"], [0.1111111111111111, \"#46039f\"], [0.2222222222222222, \"#7201a8\"], [0.3333333333333333, \"#9c179e\"], [0.4444444444444444, \"#bd3786\"], [0.5555555555555556, \"#d8576b\"], [0.6666666666666666, \"#ed7953\"], [0.7777777777777778, \"#fb9f3a\"], [0.8888888888888888, \"#fdca26\"], [1.0, \"#f0f921\"]], \"type\": \"histogram2dcontour\"}], \"mesh3d\": [{\"colorbar\": {\"outlinewidth\": 0, \"ticks\": \"\"}, \"type\": \"mesh3d\"}], \"parcoords\": [{\"line\": {\"colorbar\": {\"outlinewidth\": 0, \"ticks\": \"\"}}, \"type\": \"parcoords\"}], \"pie\": [{\"automargin\": true, \"type\": \"pie\"}], \"scatter\": [{\"marker\": {\"colorbar\": {\"outlinewidth\": 0, \"ticks\": \"\"}}, \"type\": \"scatter\"}], \"scatter3d\": [{\"line\": {\"colorbar\": {\"outlinewidth\": 0, \"ticks\": \"\"}}, \"marker\": {\"colorbar\": {\"outlinewidth\": 0, \"ticks\": \"\"}}, \"type\": \"scatter3d\"}], \"scattercarpet\": [{\"marker\": {\"colorbar\": {\"outlinewidth\": 0, \"ticks\": \"\"}}, \"type\": \"scattercarpet\"}], \"scattergeo\": [{\"marker\": {\"colorbar\": {\"outlinewidth\": 0, \"ticks\": \"\"}}, \"type\": \"scattergeo\"}], \"scattergl\": [{\"marker\": {\"colorbar\": {\"outlinewidth\": 0, \"ticks\": \"\"}}, \"type\": \"scattergl\"}], \"scattermapbox\": [{\"marker\": {\"colorbar\": {\"outlinewidth\": 0, \"ticks\": \"\"}}, \"type\": \"scattermapbox\"}], \"scatterpolar\": [{\"marker\": {\"colorbar\": {\"outlinewidth\": 0, \"ticks\": \"\"}}, \"type\": \"scatterpolar\"}], \"scatterpolargl\": [{\"marker\": {\"colorbar\": {\"outlinewidth\": 0, \"ticks\": \"\"}}, \"type\": \"scatterpolargl\"}], \"scatterternary\": [{\"marker\": {\"colorbar\": {\"outlinewidth\": 0, \"ticks\": \"\"}}, \"type\": \"scatterternary\"}], \"surface\": [{\"colorbar\": {\"outlinewidth\": 0, \"ticks\": \"\"}, \"colorscale\": [[0.0, \"#0d0887\"], [0.1111111111111111, \"#46039f\"], [0.2222222222222222, \"#7201a8\"], [0.3333333333333333, \"#9c179e\"], [0.4444444444444444, \"#bd3786\"], [0.5555555555555556, \"#d8576b\"], [0.6666666666666666, \"#ed7953\"], [0.7777777777777778, \"#fb9f3a\"], [0.8888888888888888, \"#fdca26\"], [1.0, \"#f0f921\"]], \"type\": \"surface\"}], \"table\": [{\"cells\": {\"fill\": {\"color\": \"#EBF0F8\"}, \"line\": {\"color\": \"white\"}}, \"header\": {\"fill\": {\"color\": \"#C8D4E3\"}, \"line\": {\"color\": \"white\"}}, \"type\": \"table\"}]}, \"layout\": {\"annotationdefaults\": {\"arrowcolor\": \"#2a3f5f\", \"arrowhead\": 0, \"arrowwidth\": 1}, \"coloraxis\": {\"colorbar\": {\"outlinewidth\": 0, \"ticks\": \"\"}}, \"colorscale\": {\"diverging\": [[0, \"#8e0152\"], [0.1, \"#c51b7d\"], [0.2, \"#de77ae\"], [0.3, \"#f1b6da\"], [0.4, \"#fde0ef\"], [0.5, \"#f7f7f7\"], [0.6, \"#e6f5d0\"], [0.7, \"#b8e186\"], [0.8, \"#7fbc41\"], [0.9, \"#4d9221\"], [1, \"#276419\"]], \"sequential\": [[0.0, \"#0d0887\"], [0.1111111111111111, \"#46039f\"], [0.2222222222222222, \"#7201a8\"], [0.3333333333333333, \"#9c179e\"], [0.4444444444444444, \"#bd3786\"], [0.5555555555555556, \"#d8576b\"], [0.6666666666666666, \"#ed7953\"], [0.7777777777777778, \"#fb9f3a\"], [0.8888888888888888, \"#fdca26\"], [1.0, \"#f0f921\"]], \"sequentialminus\": [[0.0, \"#0d0887\"], [0.1111111111111111, \"#46039f\"], [0.2222222222222222, \"#7201a8\"], [0.3333333333333333, \"#9c179e\"], [0.4444444444444444, \"#bd3786\"], [0.5555555555555556, \"#d8576b\"], [0.6666666666666666, \"#ed7953\"], [0.7777777777777778, \"#fb9f3a\"], [0.8888888888888888, \"#fdca26\"], [1.0, \"#f0f921\"]]}, \"colorway\": [\"#636efa\", \"#EF553B\", \"#00cc96\", \"#ab63fa\", \"#FFA15A\", \"#19d3f3\", \"#FF6692\", \"#B6E880\", \"#FF97FF\", \"#FECB52\"], \"font\": {\"color\": \"#2a3f5f\"}, \"geo\": {\"bgcolor\": \"white\", \"lakecolor\": \"white\", \"landcolor\": \"#E5ECF6\", \"showlakes\": true, \"showland\": true, \"subunitcolor\": \"white\"}, \"hoverlabel\": {\"align\": \"left\"}, \"hovermode\": \"closest\", \"mapbox\": {\"style\": \"light\"}, \"paper_bgcolor\": \"white\", \"plot_bgcolor\": \"#E5ECF6\", \"polar\": {\"angularaxis\": {\"gridcolor\": \"white\", \"linecolor\": \"white\", \"ticks\": \"\"}, \"bgcolor\": \"#E5ECF6\", \"radialaxis\": {\"gridcolor\": \"white\", \"linecolor\": \"white\", \"ticks\": \"\"}}, \"scene\": {\"xaxis\": {\"backgroundcolor\": \"#E5ECF6\", \"gridcolor\": \"white\", \"gridwidth\": 2, \"linecolor\": \"white\", \"showbackground\": true, \"ticks\": \"\", \"zerolinecolor\": \"white\"}, \"yaxis\": {\"backgroundcolor\": \"#E5ECF6\", \"gridcolor\": \"white\", \"gridwidth\": 2, \"linecolor\": \"white\", \"showbackground\": true, \"ticks\": \"\", \"zerolinecolor\": \"white\"}, \"zaxis\": {\"backgroundcolor\": \"#E5ECF6\", \"gridcolor\": \"white\", \"gridwidth\": 2, \"linecolor\": \"white\", \"showbackground\": true, \"ticks\": \"\", \"zerolinecolor\": \"white\"}}, \"shapedefaults\": {\"line\": {\"color\": \"#2a3f5f\"}}, \"ternary\": {\"aaxis\": {\"gridcolor\": \"white\", \"linecolor\": \"white\", \"ticks\": \"\"}, \"baxis\": {\"gridcolor\": \"white\", \"linecolor\": \"white\", \"ticks\": \"\"}, \"bgcolor\": \"#E5ECF6\", \"caxis\": {\"gridcolor\": \"white\", \"linecolor\": \"white\", \"ticks\": \"\"}}, \"title\": {\"x\": 0.05}, \"xaxis\": {\"automargin\": true, \"gridcolor\": \"white\", \"linecolor\": \"white\", \"ticks\": \"\", \"title\": {\"standoff\": 15}, \"zerolinecolor\": \"white\", \"zerolinewidth\": 2}, \"yaxis\": {\"automargin\": true, \"gridcolor\": \"white\", \"linecolor\": \"white\", \"ticks\": \"\", \"title\": {\"standoff\": 15}, \"zerolinecolor\": \"white\", \"zerolinewidth\": 2}}}, \"title\": {\"text\": \"Min Annual Flow\"}, \"width\": 1200, \"xaxis\": {\"showgrid\": false, \"showline\": false, \"showticklabels\": true, \"ticks\": \"outside\"}, \"yaxis\": {\"gridcolor\": \"rgb(204, 204, 204)\", \"range\": [100, 400], \"separatethousands\": true, \"title\": {\"text\": \"Flow m\\u00b3/s\"}}},\n",
       "                        {\"responsive\": true}\n",
       "                    ).then(function(){\n",
       "                            \n",
       "var gd = document.getElementById('e0b1b814-a991-4d6b-9aca-6f075f129ab0');\n",
       "var x = new MutationObserver(function (mutations, observer) {{\n",
       "        var display = window.getComputedStyle(gd).display;\n",
       "        if (!display || display === 'none') {{\n",
       "            console.log([gd, 'removed!']);\n",
       "            Plotly.purge(gd);\n",
       "            observer.disconnect();\n",
       "        }}\n",
       "}});\n",
       "\n",
       "// Listen for the removal of the full notebook cells\n",
       "var notebookContainer = gd.closest('#notebook-container');\n",
       "if (notebookContainer) {{\n",
       "    x.observe(notebookContainer, {childList: true});\n",
       "}}\n",
       "\n",
       "// Listen for the clearing of the current output cell\n",
       "var outputEl = gd.closest('.output');\n",
       "if (outputEl) {{\n",
       "    x.observe(outputEl, {childList: true});\n",
       "}}\n",
       "\n",
       "                        })\n",
       "                };\n",
       "                });\n",
       "            </script>\n",
       "        </div>"
      ]
     },
     "metadata": {},
     "output_type": "display_data"
    }
   ],
   "source": [
    "windows=[w for w in range(5,25,5)]\n",
    "cols=['rgba('+ str((1-a)*250) +','+ str((1-a)*250) +','+ str((a)*250) +',1)' for a in np.linspace(0, 1, 5)]\n",
    "\n",
    "fig = go.Figure(\n",
    "    data=[\n",
    "        go.Scatter(\n",
    "            x=yearly.index, y=yearly['Flow_min'].rolling(windows[i],center=True).mean(), \n",
    "            name=str(windows[i]) + ' year ma',\n",
    "            line_shape='spline',line = dict(color=cols[i], width=(i+2)/2)\n",
    "        ) for i in range(0,4) ])\n",
    "\n",
    "fig.add_trace(go.Bar(x=yearly.index, y=yearly['Flow_min'],name='Min annual flow',marker_color='rgb(204, 80, 80)'))#,line_shape='spline',line = dict(color='rgba(50,50,50,0.2)', width=2)))\n",
    "\n",
    "fig.update_layout(\n",
    "    title_text='Min Annual Flow',\n",
    "    plot_bgcolor='white',\n",
    "    xaxis=dict(showline=False,showgrid=False,showticklabels=True,ticks='outside'),\n",
    "    yaxis=dict(title_text='Flow m\\u00B3/s',range=(100,400),separatethousands=True,gridcolor='rgb(204, 204, 204)'),\n",
    "    width=1200, height=400, autosize=False,\n",
    ")\n",
    "fig.show(renderer=bookRenderer)"
   ]
  },
  {
   "cell_type": "code",
   "execution_count": 34,
   "metadata": {
    "jupyter": {
     "source_hidden": true
    }
   },
   "outputs": [
    {
     "data": {
      "application/vnd.plotly.v1+json": {
       "config": {
        "plotlyServerURL": "https://plot.ly"
       },
       "data": [
        {
         "line": {
          "color": "black",
          "shape": "spline",
          "width": 2
         },
         "name": "5 year av coefficient of variation",
         "type": "scatter",
         "x": [
          1924,
          1925,
          1926,
          1927,
          1928,
          1929,
          1930,
          1931,
          1932,
          1933,
          1934,
          1935,
          1936,
          1937,
          1938,
          1939,
          1940,
          1941,
          1942,
          1943,
          1944,
          1945,
          1946,
          1947,
          1948,
          1949,
          1950,
          1951,
          1952,
          1953,
          1954,
          1955,
          1956,
          1957,
          1958,
          1959,
          1960,
          1961,
          1962,
          1963,
          1964,
          1965,
          1966,
          1967,
          1968,
          1969,
          1970,
          1971,
          1972,
          1973,
          1974,
          1975,
          1976,
          1977,
          1978,
          1979,
          1980,
          1981,
          1982,
          1983,
          1984,
          1985,
          1986,
          1987,
          1988,
          1989,
          1990,
          1991,
          1992,
          1993,
          1994,
          1995,
          1996,
          1997,
          1998,
          1999,
          2000,
          2001,
          2002,
          2003,
          2004,
          2005,
          2006,
          2007,
          2008,
          2009,
          2010,
          2011,
          2012,
          2013,
          2014,
          2015,
          2016
         ],
         "y": [
          null,
          null,
          19.17128828520537,
          19.69586746802268,
          15.786411520292106,
          17.694731442059144,
          20.19365221153297,
          23.360940180608768,
          21.36248735580444,
          22.16401492860804,
          24.43343270859355,
          17.91193322801833,
          14.360194236199401,
          22.118811608671628,
          20.03711672451588,
          23.3268029395092,
          25.577021156006133,
          25.574546128089573,
          15.210775270614894,
          14.970157092533816,
          21.543128900701383,
          35.33625960967418,
          44.40272386314396,
          46.684325427826,
          41.77302354515549,
          44.836537880079604,
          41.14739100221919,
          17.91643183925936,
          18.08725099954881,
          23.487469649410414,
          22.73794967451495,
          43.64246516844752,
          43.61718064408664,
          46.26904434621711,
          45.28866750783165,
          46.14480089966616,
          38.346911691108716,
          40.333628493823106,
          43.80664428275468,
          44.92376319788226,
          44.1588100879975,
          33.91678753075209,
          49.06399473528595,
          43.05991739538596,
          45.48328990653528,
          50.7174796140969,
          57.49005787919197,
          33.31852370906722,
          35.17257570774164,
          41.488795549893744,
          37.686372432841395,
          29.953379829920486,
          24.52701902230865,
          25.768297815896087,
          28.132580456906325,
          43.195541743038866,
          37.22907287243351,
          31.022475512835058,
          21.278272615884298,
          6.530125867641449,
          6.893943323512428,
          4.952358044694217,
          23.220763446243485,
          26.807668443121553,
          26.67402696979629,
          30.606665930296874,
          30.85080189045418,
          15.293815359299543,
          17.823280819383168,
          18.535438832386593,
          18.280734873082334,
          26.512492084599852,
          32.299003152449565,
          29.16760461404645,
          23.814129977417878,
          15.831094684982169,
          15.638379945003527,
          20.487987991430067,
          26.21999649345593,
          23.93574376167223,
          29.328030804564534,
          30.527539639714178,
          33.65554803797314,
          24.860585799432712,
          14.838493001697747,
          19.803168517728206,
          19.176157465569148,
          19.957387394246574,
          32.540110218992325,
          24.713615667936484,
          24.28730741111659,
          null,
          null
         ]
        },
        {
         "marker": {
          "color": "rgb(204, 80, 80)"
         },
         "name": "% Variaiton from mean",
         "type": "bar",
         "x": [
          1924,
          1925,
          1926,
          1927,
          1928,
          1929,
          1930,
          1931,
          1932,
          1933,
          1934,
          1935,
          1936,
          1937,
          1938,
          1939,
          1940,
          1941,
          1942,
          1943,
          1944,
          1945,
          1946,
          1947,
          1948,
          1949,
          1950,
          1951,
          1952,
          1953,
          1954,
          1955,
          1956,
          1957,
          1958,
          1959,
          1960,
          1961,
          1962,
          1963,
          1964,
          1965,
          1966,
          1967,
          1968,
          1969,
          1970,
          1971,
          1972,
          1973,
          1974,
          1975,
          1976,
          1977,
          1978,
          1979,
          1980,
          1981,
          1982,
          1983,
          1984,
          1985,
          1986,
          1987,
          1988,
          1989,
          1990,
          1991,
          1992,
          1993,
          1994,
          1995,
          1996,
          1997,
          1998,
          1999,
          2000,
          2001,
          2002,
          2003,
          2004,
          2005,
          2006,
          2007,
          2008,
          2009,
          2010,
          2011,
          2012,
          2013,
          2014,
          2015,
          2016
         ],
         "y": [
          -9.532330417969913,
          1.3903251935953844,
          -9.684228281918484,
          -22.666015727661122,
          -48.524362194361274,
          -34.322161747182584,
          -14.040299261864796,
          -2.912952049861524,
          -46.82725332955425,
          11.050829475114293,
          -13.161640071885946,
          -26.21415250316558,
          9.154104831861694,
          -24.44280462221145,
          -19.8156659080806,
          22.35104747074284,
          -12.7491674183019,
          -40.7695765085656,
          -38.957295085731786,
          -15.389856301228152,
          -9.112362803993676,
          -37.922990551608265,
          12.57405525882229,
          55.54223383119168,
          -58.30328685007693,
          25.275264971456497,
          11.639933361941178,
          45.18459447782669,
          35.503137754664934,
          0.56587955045344,
          17.310620394679248,
          60.579785791301546,
          38.760197709101725,
          112.830642777091,
          0.6630642035389757,
          3.4039821405843584,
          34.377894367782716,
          57.62501301626768,
          91.79278862021332,
          -7.146249708213907,
          -11.715612380217607,
          10.308828396286543,
          -11.043314433037317,
          68.25184363331466,
          95.98521963159658,
          40.3808579779083,
          -1.8390034073902852,
          -28.861863303901888,
          -47.16652520330782,
          1.815539279846156,
          45.504912566041966,
          42.31588814869543,
          3.3147811902991307,
          71.6265983569485,
          34.9360190849885,
          18.871426783523184,
          4.988405845877249,
          -46.32484115126382,
          -44.780129814431525,
          -40.469983555817336,
          -33.62887791090414,
          -31.704421914200395,
          -27.65864229449115,
          -29.455088053742212,
          21.065845383184236,
          -51.22829407185375,
          -29.692025048894852,
          -56.308909971965726,
          -20.369543481064134,
          -47.568255080329706,
          -62.59365201058497,
          -67.18154115982043,
          -50.10454967705,
          -0.5118957539448286,
          -3.7739523486431032,
          -21.761603362301873,
          10.955643478133357,
          -27.52523199951,
          -2.1617863682809957,
          20.147320922091996,
          -42.39823140179053,
          -12.448119842548563,
          32.871906992976776,
          18.566717052714807,
          37.15852467328871,
          53.693906290559084,
          53.367875513498404,
          10.346281355011444,
          21.884544890025502,
          22.24080534066805,
          -36.423998473168375,
          -7.588739063827695,
          -1.39180410398905
         ]
        }
       ],
       "layout": {
        "autosize": false,
        "height": 400,
        "plot_bgcolor": "white",
        "template": {
         "data": {
          "bar": [
           {
            "error_x": {
             "color": "#2a3f5f"
            },
            "error_y": {
             "color": "#2a3f5f"
            },
            "marker": {
             "line": {
              "color": "#E5ECF6",
              "width": 0.5
             }
            },
            "type": "bar"
           }
          ],
          "barpolar": [
           {
            "marker": {
             "line": {
              "color": "#E5ECF6",
              "width": 0.5
             }
            },
            "type": "barpolar"
           }
          ],
          "carpet": [
           {
            "aaxis": {
             "endlinecolor": "#2a3f5f",
             "gridcolor": "white",
             "linecolor": "white",
             "minorgridcolor": "white",
             "startlinecolor": "#2a3f5f"
            },
            "baxis": {
             "endlinecolor": "#2a3f5f",
             "gridcolor": "white",
             "linecolor": "white",
             "minorgridcolor": "white",
             "startlinecolor": "#2a3f5f"
            },
            "type": "carpet"
           }
          ],
          "choropleth": [
           {
            "colorbar": {
             "outlinewidth": 0,
             "ticks": ""
            },
            "type": "choropleth"
           }
          ],
          "contour": [
           {
            "colorbar": {
             "outlinewidth": 0,
             "ticks": ""
            },
            "colorscale": [
             [
              0,
              "#0d0887"
             ],
             [
              0.1111111111111111,
              "#46039f"
             ],
             [
              0.2222222222222222,
              "#7201a8"
             ],
             [
              0.3333333333333333,
              "#9c179e"
             ],
             [
              0.4444444444444444,
              "#bd3786"
             ],
             [
              0.5555555555555556,
              "#d8576b"
             ],
             [
              0.6666666666666666,
              "#ed7953"
             ],
             [
              0.7777777777777778,
              "#fb9f3a"
             ],
             [
              0.8888888888888888,
              "#fdca26"
             ],
             [
              1,
              "#f0f921"
             ]
            ],
            "type": "contour"
           }
          ],
          "contourcarpet": [
           {
            "colorbar": {
             "outlinewidth": 0,
             "ticks": ""
            },
            "type": "contourcarpet"
           }
          ],
          "heatmap": [
           {
            "colorbar": {
             "outlinewidth": 0,
             "ticks": ""
            },
            "colorscale": [
             [
              0,
              "#0d0887"
             ],
             [
              0.1111111111111111,
              "#46039f"
             ],
             [
              0.2222222222222222,
              "#7201a8"
             ],
             [
              0.3333333333333333,
              "#9c179e"
             ],
             [
              0.4444444444444444,
              "#bd3786"
             ],
             [
              0.5555555555555556,
              "#d8576b"
             ],
             [
              0.6666666666666666,
              "#ed7953"
             ],
             [
              0.7777777777777778,
              "#fb9f3a"
             ],
             [
              0.8888888888888888,
              "#fdca26"
             ],
             [
              1,
              "#f0f921"
             ]
            ],
            "type": "heatmap"
           }
          ],
          "heatmapgl": [
           {
            "colorbar": {
             "outlinewidth": 0,
             "ticks": ""
            },
            "colorscale": [
             [
              0,
              "#0d0887"
             ],
             [
              0.1111111111111111,
              "#46039f"
             ],
             [
              0.2222222222222222,
              "#7201a8"
             ],
             [
              0.3333333333333333,
              "#9c179e"
             ],
             [
              0.4444444444444444,
              "#bd3786"
             ],
             [
              0.5555555555555556,
              "#d8576b"
             ],
             [
              0.6666666666666666,
              "#ed7953"
             ],
             [
              0.7777777777777778,
              "#fb9f3a"
             ],
             [
              0.8888888888888888,
              "#fdca26"
             ],
             [
              1,
              "#f0f921"
             ]
            ],
            "type": "heatmapgl"
           }
          ],
          "histogram": [
           {
            "marker": {
             "colorbar": {
              "outlinewidth": 0,
              "ticks": ""
             }
            },
            "type": "histogram"
           }
          ],
          "histogram2d": [
           {
            "colorbar": {
             "outlinewidth": 0,
             "ticks": ""
            },
            "colorscale": [
             [
              0,
              "#0d0887"
             ],
             [
              0.1111111111111111,
              "#46039f"
             ],
             [
              0.2222222222222222,
              "#7201a8"
             ],
             [
              0.3333333333333333,
              "#9c179e"
             ],
             [
              0.4444444444444444,
              "#bd3786"
             ],
             [
              0.5555555555555556,
              "#d8576b"
             ],
             [
              0.6666666666666666,
              "#ed7953"
             ],
             [
              0.7777777777777778,
              "#fb9f3a"
             ],
             [
              0.8888888888888888,
              "#fdca26"
             ],
             [
              1,
              "#f0f921"
             ]
            ],
            "type": "histogram2d"
           }
          ],
          "histogram2dcontour": [
           {
            "colorbar": {
             "outlinewidth": 0,
             "ticks": ""
            },
            "colorscale": [
             [
              0,
              "#0d0887"
             ],
             [
              0.1111111111111111,
              "#46039f"
             ],
             [
              0.2222222222222222,
              "#7201a8"
             ],
             [
              0.3333333333333333,
              "#9c179e"
             ],
             [
              0.4444444444444444,
              "#bd3786"
             ],
             [
              0.5555555555555556,
              "#d8576b"
             ],
             [
              0.6666666666666666,
              "#ed7953"
             ],
             [
              0.7777777777777778,
              "#fb9f3a"
             ],
             [
              0.8888888888888888,
              "#fdca26"
             ],
             [
              1,
              "#f0f921"
             ]
            ],
            "type": "histogram2dcontour"
           }
          ],
          "mesh3d": [
           {
            "colorbar": {
             "outlinewidth": 0,
             "ticks": ""
            },
            "type": "mesh3d"
           }
          ],
          "parcoords": [
           {
            "line": {
             "colorbar": {
              "outlinewidth": 0,
              "ticks": ""
             }
            },
            "type": "parcoords"
           }
          ],
          "pie": [
           {
            "automargin": true,
            "type": "pie"
           }
          ],
          "scatter": [
           {
            "marker": {
             "colorbar": {
              "outlinewidth": 0,
              "ticks": ""
             }
            },
            "type": "scatter"
           }
          ],
          "scatter3d": [
           {
            "line": {
             "colorbar": {
              "outlinewidth": 0,
              "ticks": ""
             }
            },
            "marker": {
             "colorbar": {
              "outlinewidth": 0,
              "ticks": ""
             }
            },
            "type": "scatter3d"
           }
          ],
          "scattercarpet": [
           {
            "marker": {
             "colorbar": {
              "outlinewidth": 0,
              "ticks": ""
             }
            },
            "type": "scattercarpet"
           }
          ],
          "scattergeo": [
           {
            "marker": {
             "colorbar": {
              "outlinewidth": 0,
              "ticks": ""
             }
            },
            "type": "scattergeo"
           }
          ],
          "scattergl": [
           {
            "marker": {
             "colorbar": {
              "outlinewidth": 0,
              "ticks": ""
             }
            },
            "type": "scattergl"
           }
          ],
          "scattermapbox": [
           {
            "marker": {
             "colorbar": {
              "outlinewidth": 0,
              "ticks": ""
             }
            },
            "type": "scattermapbox"
           }
          ],
          "scatterpolar": [
           {
            "marker": {
             "colorbar": {
              "outlinewidth": 0,
              "ticks": ""
             }
            },
            "type": "scatterpolar"
           }
          ],
          "scatterpolargl": [
           {
            "marker": {
             "colorbar": {
              "outlinewidth": 0,
              "ticks": ""
             }
            },
            "type": "scatterpolargl"
           }
          ],
          "scatterternary": [
           {
            "marker": {
             "colorbar": {
              "outlinewidth": 0,
              "ticks": ""
             }
            },
            "type": "scatterternary"
           }
          ],
          "surface": [
           {
            "colorbar": {
             "outlinewidth": 0,
             "ticks": ""
            },
            "colorscale": [
             [
              0,
              "#0d0887"
             ],
             [
              0.1111111111111111,
              "#46039f"
             ],
             [
              0.2222222222222222,
              "#7201a8"
             ],
             [
              0.3333333333333333,
              "#9c179e"
             ],
             [
              0.4444444444444444,
              "#bd3786"
             ],
             [
              0.5555555555555556,
              "#d8576b"
             ],
             [
              0.6666666666666666,
              "#ed7953"
             ],
             [
              0.7777777777777778,
              "#fb9f3a"
             ],
             [
              0.8888888888888888,
              "#fdca26"
             ],
             [
              1,
              "#f0f921"
             ]
            ],
            "type": "surface"
           }
          ],
          "table": [
           {
            "cells": {
             "fill": {
              "color": "#EBF0F8"
             },
             "line": {
              "color": "white"
             }
            },
            "header": {
             "fill": {
              "color": "#C8D4E3"
             },
             "line": {
              "color": "white"
             }
            },
            "type": "table"
           }
          ]
         },
         "layout": {
          "annotationdefaults": {
           "arrowcolor": "#2a3f5f",
           "arrowhead": 0,
           "arrowwidth": 1
          },
          "coloraxis": {
           "colorbar": {
            "outlinewidth": 0,
            "ticks": ""
           }
          },
          "colorscale": {
           "diverging": [
            [
             0,
             "#8e0152"
            ],
            [
             0.1,
             "#c51b7d"
            ],
            [
             0.2,
             "#de77ae"
            ],
            [
             0.3,
             "#f1b6da"
            ],
            [
             0.4,
             "#fde0ef"
            ],
            [
             0.5,
             "#f7f7f7"
            ],
            [
             0.6,
             "#e6f5d0"
            ],
            [
             0.7,
             "#b8e186"
            ],
            [
             0.8,
             "#7fbc41"
            ],
            [
             0.9,
             "#4d9221"
            ],
            [
             1,
             "#276419"
            ]
           ],
           "sequential": [
            [
             0,
             "#0d0887"
            ],
            [
             0.1111111111111111,
             "#46039f"
            ],
            [
             0.2222222222222222,
             "#7201a8"
            ],
            [
             0.3333333333333333,
             "#9c179e"
            ],
            [
             0.4444444444444444,
             "#bd3786"
            ],
            [
             0.5555555555555556,
             "#d8576b"
            ],
            [
             0.6666666666666666,
             "#ed7953"
            ],
            [
             0.7777777777777778,
             "#fb9f3a"
            ],
            [
             0.8888888888888888,
             "#fdca26"
            ],
            [
             1,
             "#f0f921"
            ]
           ],
           "sequentialminus": [
            [
             0,
             "#0d0887"
            ],
            [
             0.1111111111111111,
             "#46039f"
            ],
            [
             0.2222222222222222,
             "#7201a8"
            ],
            [
             0.3333333333333333,
             "#9c179e"
            ],
            [
             0.4444444444444444,
             "#bd3786"
            ],
            [
             0.5555555555555556,
             "#d8576b"
            ],
            [
             0.6666666666666666,
             "#ed7953"
            ],
            [
             0.7777777777777778,
             "#fb9f3a"
            ],
            [
             0.8888888888888888,
             "#fdca26"
            ],
            [
             1,
             "#f0f921"
            ]
           ]
          },
          "colorway": [
           "#636efa",
           "#EF553B",
           "#00cc96",
           "#ab63fa",
           "#FFA15A",
           "#19d3f3",
           "#FF6692",
           "#B6E880",
           "#FF97FF",
           "#FECB52"
          ],
          "font": {
           "color": "#2a3f5f"
          },
          "geo": {
           "bgcolor": "white",
           "lakecolor": "white",
           "landcolor": "#E5ECF6",
           "showlakes": true,
           "showland": true,
           "subunitcolor": "white"
          },
          "hoverlabel": {
           "align": "left"
          },
          "hovermode": "closest",
          "mapbox": {
           "style": "light"
          },
          "paper_bgcolor": "white",
          "plot_bgcolor": "#E5ECF6",
          "polar": {
           "angularaxis": {
            "gridcolor": "white",
            "linecolor": "white",
            "ticks": ""
           },
           "bgcolor": "#E5ECF6",
           "radialaxis": {
            "gridcolor": "white",
            "linecolor": "white",
            "ticks": ""
           }
          },
          "scene": {
           "xaxis": {
            "backgroundcolor": "#E5ECF6",
            "gridcolor": "white",
            "gridwidth": 2,
            "linecolor": "white",
            "showbackground": true,
            "ticks": "",
            "zerolinecolor": "white"
           },
           "yaxis": {
            "backgroundcolor": "#E5ECF6",
            "gridcolor": "white",
            "gridwidth": 2,
            "linecolor": "white",
            "showbackground": true,
            "ticks": "",
            "zerolinecolor": "white"
           },
           "zaxis": {
            "backgroundcolor": "#E5ECF6",
            "gridcolor": "white",
            "gridwidth": 2,
            "linecolor": "white",
            "showbackground": true,
            "ticks": "",
            "zerolinecolor": "white"
           }
          },
          "shapedefaults": {
           "line": {
            "color": "#2a3f5f"
           }
          },
          "ternary": {
           "aaxis": {
            "gridcolor": "white",
            "linecolor": "white",
            "ticks": ""
           },
           "baxis": {
            "gridcolor": "white",
            "linecolor": "white",
            "ticks": ""
           },
           "bgcolor": "#E5ECF6",
           "caxis": {
            "gridcolor": "white",
            "linecolor": "white",
            "ticks": ""
           }
          },
          "title": {
           "x": 0.05
          },
          "xaxis": {
           "automargin": true,
           "gridcolor": "white",
           "linecolor": "white",
           "ticks": "",
           "title": {
            "standoff": 15
           },
           "zerolinecolor": "white",
           "zerolinewidth": 2
          },
          "yaxis": {
           "automargin": true,
           "gridcolor": "white",
           "linecolor": "white",
           "ticks": "",
           "title": {
            "standoff": 15
           },
           "zerolinecolor": "white",
           "zerolinewidth": 2
          }
         }
        },
        "title": {
         "text": "Flow Variation"
        },
        "width": 1200,
        "xaxis": {
         "autorange": true,
         "range": [
          1923.5,
          2016.5
         ],
         "showgrid": false,
         "showline": false,
         "showticklabels": true,
         "ticks": "outside",
         "type": "linear"
        },
        "yaxis": {
         "autorange": true,
         "gridcolor": "rgb(204, 204, 204)",
         "range": [
          -77.1822180452044,
          122.83131966247497
         ],
         "separatethousands": true,
         "title": {
          "text": "%"
         },
         "type": "linear"
        }
       }
      },
      "image/png": "[encoded data removed]",
      "text/html": [
       "<div>\n",
       "        \n",
       "        \n",
       "            <div id=\"fcfbe818-eaea-40fd-bede-2bc164fa1eb3\" class=\"plotly-graph-div\" style=\"height:400px; width:1200px;\"></div>\n",
       "            <script type=\"text/javascript\">\n",
       "                require([\"plotly\"], function(Plotly) {\n",
       "                    window.PLOTLYENV=window.PLOTLYENV || {};\n",
       "                    \n",
       "                if (document.getElementById(\"fcfbe818-eaea-40fd-bede-2bc164fa1eb3\")) {\n",
       "                    Plotly.newPlot(\n",
       "                        'fcfbe818-eaea-40fd-bede-2bc164fa1eb3',\n",
       "                        [{\"line\": {\"color\": \"black\", \"shape\": \"spline\", \"width\": 2}, \"name\": \"5 year av coefficient of variation\", \"type\": \"scatter\", \"x\": [1924, 1925, 1926, 1927, 1928, 1929, 1930, 1931, 1932, 1933, 1934, 1935, 1936, 1937, 1938, 1939, 1940, 1941, 1942, 1943, 1944, 1945, 1946, 1947, 1948, 1949, 1950, 1951, 1952, 1953, 1954, 1955, 1956, 1957, 1958, 1959, 1960, 1961, 1962, 1963, 1964, 1965, 1966, 1967, 1968, 1969, 1970, 1971, 1972, 1973, 1974, 1975, 1976, 1977, 1978, 1979, 1980, 1981, 1982, 1983, 1984, 1985, 1986, 1987, 1988, 1989, 1990, 1991, 1992, 1993, 1994, 1995, 1996, 1997, 1998, 1999, 2000, 2001, 2002, 2003, 2004, 2005, 2006, 2007, 2008, 2009, 2010, 2011, 2012, 2013, 2014, 2015, 2016], \"y\": [null, null, 19.17128828520537, 19.69586746802268, 15.786411520292106, 17.694731442059144, 20.19365221153297, 23.360940180608768, 21.36248735580444, 22.16401492860804, 24.43343270859355, 17.91193322801833, 14.360194236199401, 22.118811608671628, 20.03711672451588, 23.3268029395092, 25.577021156006133, 25.574546128089573, 15.210775270614894, 14.970157092533816, 21.543128900701383, 35.33625960967418, 44.40272386314396, 46.684325427826, 41.77302354515549, 44.836537880079604, 41.14739100221919, 17.91643183925936, 18.08725099954881, 23.487469649410414, 22.73794967451495, 43.64246516844752, 43.61718064408664, 46.26904434621711, 45.28866750783165, 46.14480089966616, 38.346911691108716, 40.333628493823106, 43.80664428275468, 44.92376319788226, 44.1588100879975, 33.91678753075209, 49.06399473528595, 43.05991739538596, 45.48328990653528, 50.7174796140969, 57.49005787919197, 33.31852370906722, 35.17257570774164, 41.488795549893744, 37.686372432841395, 29.953379829920486, 24.52701902230865, 25.768297815896087, 28.132580456906325, 43.195541743038866, 37.22907287243351, 31.022475512835058, 21.278272615884298, 6.530125867641449, 6.893943323512428, 4.952358044694217, 23.220763446243485, 26.807668443121553, 26.67402696979629, 30.606665930296874, 30.85080189045418, 15.293815359299543, 17.823280819383168, 18.535438832386593, 18.280734873082334, 26.512492084599852, 32.299003152449565, 29.16760461404645, 23.814129977417878, 15.831094684982169, 15.638379945003527, 20.487987991430067, 26.21999649345593, 23.93574376167223, 29.328030804564534, 30.527539639714178, 33.65554803797314, 24.860585799432712, 14.838493001697747, 19.803168517728206, 19.176157465569148, 19.957387394246574, 32.540110218992325, 24.713615667936484, 24.28730741111659, null, null]}, {\"marker\": {\"color\": \"rgb(204, 80, 80)\"}, \"name\": \"% Variaiton from mean\", \"type\": \"bar\", \"x\": [1924, 1925, 1926, 1927, 1928, 1929, 1930, 1931, 1932, 1933, 1934, 1935, 1936, 1937, 1938, 1939, 1940, 1941, 1942, 1943, 1944, 1945, 1946, 1947, 1948, 1949, 1950, 1951, 1952, 1953, 1954, 1955, 1956, 1957, 1958, 1959, 1960, 1961, 1962, 1963, 1964, 1965, 1966, 1967, 1968, 1969, 1970, 1971, 1972, 1973, 1974, 1975, 1976, 1977, 1978, 1979, 1980, 1981, 1982, 1983, 1984, 1985, 1986, 1987, 1988, 1989, 1990, 1991, 1992, 1993, 1994, 1995, 1996, 1997, 1998, 1999, 2000, 2001, 2002, 2003, 2004, 2005, 2006, 2007, 2008, 2009, 2010, 2011, 2012, 2013, 2014, 2015, 2016], \"y\": [-9.532330417969913, 1.3903251935953844, -9.684228281918484, -22.666015727661122, -48.524362194361274, -34.322161747182584, -14.040299261864796, -2.912952049861524, -46.82725332955425, 11.050829475114293, -13.161640071885946, -26.21415250316558, 9.154104831861694, -24.44280462221145, -19.8156659080806, 22.35104747074284, -12.7491674183019, -40.7695765085656, -38.957295085731786, -15.389856301228152, -9.112362803993676, -37.922990551608265, 12.57405525882229, 55.54223383119168, -58.30328685007693, 25.275264971456497, 11.639933361941178, 45.18459447782669, 35.503137754664934, 0.56587955045344, 17.310620394679248, 60.579785791301546, 38.760197709101725, 112.830642777091, 0.6630642035389757, 3.4039821405843584, 34.377894367782716, 57.62501301626768, 91.79278862021332, -7.146249708213907, -11.715612380217607, 10.308828396286543, -11.043314433037317, 68.25184363331466, 95.98521963159658, 40.3808579779083, -1.8390034073902852, -28.861863303901888, -47.16652520330782, 1.815539279846156, 45.504912566041966, 42.31588814869543, 3.3147811902991307, 71.6265983569485, 34.9360190849885, 18.871426783523184, 4.988405845877249, -46.32484115126382, -44.780129814431525, -40.469983555817336, -33.62887791090414, -31.704421914200395, -27.65864229449115, -29.455088053742212, 21.065845383184236, -51.22829407185375, -29.692025048894852, -56.308909971965726, -20.369543481064134, -47.568255080329706, -62.59365201058497, -67.18154115982043, -50.10454967705, -0.5118957539448286, -3.7739523486431032, -21.761603362301873, 10.955643478133357, -27.52523199951, -2.1617863682809957, 20.147320922091996, -42.39823140179053, -12.448119842548563, 32.871906992976776, 18.566717052714807, 37.15852467328871, 53.693906290559084, 53.367875513498404, 10.346281355011444, 21.884544890025502, 22.24080534066805, -36.423998473168375, -7.588739063827695, -1.39180410398905]}],\n",
       "                        {\"autosize\": false, \"height\": 400, \"plot_bgcolor\": \"white\", \"template\": {\"data\": {\"bar\": [{\"error_x\": {\"color\": \"#2a3f5f\"}, \"error_y\": {\"color\": \"#2a3f5f\"}, \"marker\": {\"line\": {\"color\": \"#E5ECF6\", \"width\": 0.5}}, \"type\": \"bar\"}], \"barpolar\": [{\"marker\": {\"line\": {\"color\": \"#E5ECF6\", \"width\": 0.5}}, \"type\": \"barpolar\"}], \"carpet\": [{\"aaxis\": {\"endlinecolor\": \"#2a3f5f\", \"gridcolor\": \"white\", \"linecolor\": \"white\", \"minorgridcolor\": \"white\", \"startlinecolor\": \"#2a3f5f\"}, \"baxis\": {\"endlinecolor\": \"#2a3f5f\", \"gridcolor\": \"white\", \"linecolor\": \"white\", \"minorgridcolor\": \"white\", \"startlinecolor\": \"#2a3f5f\"}, \"type\": \"carpet\"}], \"choropleth\": [{\"colorbar\": {\"outlinewidth\": 0, \"ticks\": \"\"}, \"type\": \"choropleth\"}], \"contour\": [{\"colorbar\": {\"outlinewidth\": 0, \"ticks\": \"\"}, \"colorscale\": [[0.0, \"#0d0887\"], [0.1111111111111111, \"#46039f\"], [0.2222222222222222, \"#7201a8\"], [0.3333333333333333, \"#9c179e\"], [0.4444444444444444, \"#bd3786\"], [0.5555555555555556, \"#d8576b\"], [0.6666666666666666, \"#ed7953\"], [0.7777777777777778, \"#fb9f3a\"], [0.8888888888888888, \"#fdca26\"], [1.0, \"#f0f921\"]], \"type\": \"contour\"}], \"contourcarpet\": [{\"colorbar\": {\"outlinewidth\": 0, \"ticks\": \"\"}, \"type\": \"contourcarpet\"}], \"heatmap\": [{\"colorbar\": {\"outlinewidth\": 0, \"ticks\": \"\"}, \"colorscale\": [[0.0, \"#0d0887\"], [0.1111111111111111, \"#46039f\"], [0.2222222222222222, \"#7201a8\"], [0.3333333333333333, \"#9c179e\"], [0.4444444444444444, \"#bd3786\"], [0.5555555555555556, \"#d8576b\"], [0.6666666666666666, \"#ed7953\"], [0.7777777777777778, \"#fb9f3a\"], [0.8888888888888888, \"#fdca26\"], [1.0, \"#f0f921\"]], \"type\": \"heatmap\"}], \"heatmapgl\": [{\"colorbar\": {\"outlinewidth\": 0, \"ticks\": \"\"}, \"colorscale\": [[0.0, \"#0d0887\"], [0.1111111111111111, \"#46039f\"], [0.2222222222222222, \"#7201a8\"], [0.3333333333333333, \"#9c179e\"], [0.4444444444444444, \"#bd3786\"], [0.5555555555555556, \"#d8576b\"], [0.6666666666666666, \"#ed7953\"], [0.7777777777777778, \"#fb9f3a\"], [0.8888888888888888, \"#fdca26\"], [1.0, \"#f0f921\"]], \"type\": \"heatmapgl\"}], \"histogram\": [{\"marker\": {\"colorbar\": {\"outlinewidth\": 0, \"ticks\": \"\"}}, \"type\": \"histogram\"}], \"histogram2d\": [{\"colorbar\": {\"outlinewidth\": 0, \"ticks\": \"\"}, \"colorscale\": [[0.0, \"#0d0887\"], [0.1111111111111111, \"#46039f\"], [0.2222222222222222, \"#7201a8\"], [0.3333333333333333, \"#9c179e\"], [0.4444444444444444, \"#bd3786\"], [0.5555555555555556, \"#d8576b\"], [0.6666666666666666, \"#ed7953\"], [0.7777777777777778, \"#fb9f3a\"], [0.8888888888888888, \"#fdca26\"], [1.0, \"#f0f921\"]], \"type\": \"histogram2d\"}], \"histogram2dcontour\": [{\"colorbar\": {\"outlinewidth\": 0, \"ticks\": \"\"}, \"colorscale\": [[0.0, \"#0d0887\"], [0.1111111111111111, \"#46039f\"], [0.2222222222222222, \"#7201a8\"], [0.3333333333333333, \"#9c179e\"], [0.4444444444444444, \"#bd3786\"], [0.5555555555555556, \"#d8576b\"], [0.6666666666666666, \"#ed7953\"], [0.7777777777777778, \"#fb9f3a\"], [0.8888888888888888, \"#fdca26\"], [1.0, \"#f0f921\"]], \"type\": \"histogram2dcontour\"}], \"mesh3d\": [{\"colorbar\": {\"outlinewidth\": 0, \"ticks\": \"\"}, \"type\": \"mesh3d\"}], \"parcoords\": [{\"line\": {\"colorbar\": {\"outlinewidth\": 0, \"ticks\": \"\"}}, \"type\": \"parcoords\"}], \"pie\": [{\"automargin\": true, \"type\": \"pie\"}], \"scatter\": [{\"marker\": {\"colorbar\": {\"outlinewidth\": 0, \"ticks\": \"\"}}, \"type\": \"scatter\"}], \"scatter3d\": [{\"line\": {\"colorbar\": {\"outlinewidth\": 0, \"ticks\": \"\"}}, \"marker\": {\"colorbar\": {\"outlinewidth\": 0, \"ticks\": \"\"}}, \"type\": \"scatter3d\"}], \"scattercarpet\": [{\"marker\": {\"colorbar\": {\"outlinewidth\": 0, \"ticks\": \"\"}}, \"type\": \"scattercarpet\"}], \"scattergeo\": [{\"marker\": {\"colorbar\": {\"outlinewidth\": 0, \"ticks\": \"\"}}, \"type\": \"scattergeo\"}], \"scattergl\": [{\"marker\": {\"colorbar\": {\"outlinewidth\": 0, \"ticks\": \"\"}}, \"type\": \"scattergl\"}], \"scattermapbox\": [{\"marker\": {\"colorbar\": {\"outlinewidth\": 0, \"ticks\": \"\"}}, \"type\": \"scattermapbox\"}], \"scatterpolar\": [{\"marker\": {\"colorbar\": {\"outlinewidth\": 0, \"ticks\": \"\"}}, \"type\": \"scatterpolar\"}], \"scatterpolargl\": [{\"marker\": {\"colorbar\": {\"outlinewidth\": 0, \"ticks\": \"\"}}, \"type\": \"scatterpolargl\"}], \"scatterternary\": [{\"marker\": {\"colorbar\": {\"outlinewidth\": 0, \"ticks\": \"\"}}, \"type\": \"scatterternary\"}], \"surface\": [{\"colorbar\": {\"outlinewidth\": 0, \"ticks\": \"\"}, \"colorscale\": [[0.0, \"#0d0887\"], [0.1111111111111111, \"#46039f\"], [0.2222222222222222, \"#7201a8\"], [0.3333333333333333, \"#9c179e\"], [0.4444444444444444, \"#bd3786\"], [0.5555555555555556, \"#d8576b\"], [0.6666666666666666, \"#ed7953\"], [0.7777777777777778, \"#fb9f3a\"], [0.8888888888888888, \"#fdca26\"], [1.0, \"#f0f921\"]], \"type\": \"surface\"}], \"table\": [{\"cells\": {\"fill\": {\"color\": \"#EBF0F8\"}, \"line\": {\"color\": \"white\"}}, \"header\": {\"fill\": {\"color\": \"#C8D4E3\"}, \"line\": {\"color\": \"white\"}}, \"type\": \"table\"}]}, \"layout\": {\"annotationdefaults\": {\"arrowcolor\": \"#2a3f5f\", \"arrowhead\": 0, \"arrowwidth\": 1}, \"coloraxis\": {\"colorbar\": {\"outlinewidth\": 0, \"ticks\": \"\"}}, \"colorscale\": {\"diverging\": [[0, \"#8e0152\"], [0.1, \"#c51b7d\"], [0.2, \"#de77ae\"], [0.3, \"#f1b6da\"], [0.4, \"#fde0ef\"], [0.5, \"#f7f7f7\"], [0.6, \"#e6f5d0\"], [0.7, \"#b8e186\"], [0.8, \"#7fbc41\"], [0.9, \"#4d9221\"], [1, \"#276419\"]], \"sequential\": [[0.0, \"#0d0887\"], [0.1111111111111111, \"#46039f\"], [0.2222222222222222, \"#7201a8\"], [0.3333333333333333, \"#9c179e\"], [0.4444444444444444, \"#bd3786\"], [0.5555555555555556, \"#d8576b\"], [0.6666666666666666, \"#ed7953\"], [0.7777777777777778, \"#fb9f3a\"], [0.8888888888888888, \"#fdca26\"], [1.0, \"#f0f921\"]], \"sequentialminus\": [[0.0, \"#0d0887\"], [0.1111111111111111, \"#46039f\"], [0.2222222222222222, \"#7201a8\"], [0.3333333333333333, \"#9c179e\"], [0.4444444444444444, \"#bd3786\"], [0.5555555555555556, \"#d8576b\"], [0.6666666666666666, \"#ed7953\"], [0.7777777777777778, \"#fb9f3a\"], [0.8888888888888888, \"#fdca26\"], [1.0, \"#f0f921\"]]}, \"colorway\": [\"#636efa\", \"#EF553B\", \"#00cc96\", \"#ab63fa\", \"#FFA15A\", \"#19d3f3\", \"#FF6692\", \"#B6E880\", \"#FF97FF\", \"#FECB52\"], \"font\": {\"color\": \"#2a3f5f\"}, \"geo\": {\"bgcolor\": \"white\", \"lakecolor\": \"white\", \"landcolor\": \"#E5ECF6\", \"showlakes\": true, \"showland\": true, \"subunitcolor\": \"white\"}, \"hoverlabel\": {\"align\": \"left\"}, \"hovermode\": \"closest\", \"mapbox\": {\"style\": \"light\"}, \"paper_bgcolor\": \"white\", \"plot_bgcolor\": \"#E5ECF6\", \"polar\": {\"angularaxis\": {\"gridcolor\": \"white\", \"linecolor\": \"white\", \"ticks\": \"\"}, \"bgcolor\": \"#E5ECF6\", \"radialaxis\": {\"gridcolor\": \"white\", \"linecolor\": \"white\", \"ticks\": \"\"}}, \"scene\": {\"xaxis\": {\"backgroundcolor\": \"#E5ECF6\", \"gridcolor\": \"white\", \"gridwidth\": 2, \"linecolor\": \"white\", \"showbackground\": true, \"ticks\": \"\", \"zerolinecolor\": \"white\"}, \"yaxis\": {\"backgroundcolor\": \"#E5ECF6\", \"gridcolor\": \"white\", \"gridwidth\": 2, \"linecolor\": \"white\", \"showbackground\": true, \"ticks\": \"\", \"zerolinecolor\": \"white\"}, \"zaxis\": {\"backgroundcolor\": \"#E5ECF6\", \"gridcolor\": \"white\", \"gridwidth\": 2, \"linecolor\": \"white\", \"showbackground\": true, \"ticks\": \"\", \"zerolinecolor\": \"white\"}}, \"shapedefaults\": {\"line\": {\"color\": \"#2a3f5f\"}}, \"ternary\": {\"aaxis\": {\"gridcolor\": \"white\", \"linecolor\": \"white\", \"ticks\": \"\"}, \"baxis\": {\"gridcolor\": \"white\", \"linecolor\": \"white\", \"ticks\": \"\"}, \"bgcolor\": \"#E5ECF6\", \"caxis\": {\"gridcolor\": \"white\", \"linecolor\": \"white\", \"ticks\": \"\"}}, \"title\": {\"x\": 0.05}, \"xaxis\": {\"automargin\": true, \"gridcolor\": \"white\", \"linecolor\": \"white\", \"ticks\": \"\", \"title\": {\"standoff\": 15}, \"zerolinecolor\": \"white\", \"zerolinewidth\": 2}, \"yaxis\": {\"automargin\": true, \"gridcolor\": \"white\", \"linecolor\": \"white\", \"ticks\": \"\", \"title\": {\"standoff\": 15}, \"zerolinecolor\": \"white\", \"zerolinewidth\": 2}}}, \"title\": {\"text\": \"Flow Variation\"}, \"width\": 1200, \"xaxis\": {\"showgrid\": false, \"showline\": false, \"showticklabels\": true, \"ticks\": \"outside\"}, \"yaxis\": {\"gridcolor\": \"rgb(204, 204, 204)\", \"separatethousands\": true, \"title\": {\"text\": \"%\"}}},\n",
       "                        {\"responsive\": true}\n",
       "                    ).then(function(){\n",
       "                            \n",
       "var gd = document.getElementById('fcfbe818-eaea-40fd-bede-2bc164fa1eb3');\n",
       "var x = new MutationObserver(function (mutations, observer) {{\n",
       "        var display = window.getComputedStyle(gd).display;\n",
       "        if (!display || display === 'none') {{\n",
       "            console.log([gd, 'removed!']);\n",
       "            Plotly.purge(gd);\n",
       "            observer.disconnect();\n",
       "        }}\n",
       "}});\n",
       "\n",
       "// Listen for the removal of the full notebook cells\n",
       "var notebookContainer = gd.closest('#notebook-container');\n",
       "if (notebookContainer) {{\n",
       "    x.observe(notebookContainer, {childList: true});\n",
       "}}\n",
       "\n",
       "// Listen for the clearing of the current output cell\n",
       "var outputEl = gd.closest('.output');\n",
       "if (outputEl) {{\n",
       "    x.observe(outputEl, {childList: true});\n",
       "}}\n",
       "\n",
       "                        })\n",
       "                };\n",
       "                });\n",
       "            </script>\n",
       "        </div>"
      ]
     },
     "metadata": {},
     "output_type": "display_data"
    }
   ],
   "source": [
    "\n",
    "fig = go.Figure(\n",
    "    data=[\n",
    "        go.Scatter(\n",
    "            x=yearly.index, y=yearly['Flow_mean_5yr_mvCoefVar'], \n",
    "            name='5 year av coefficient of variation',\n",
    "            line_shape='spline',line = dict(color='black', width=2) )])\n",
    "\n",
    "fig.add_trace(go.Bar(x=yearly.index, y=yearly['Flow_mean_pct_var'],name='% Variaiton from mean',marker_color='rgb(204, 80, 80)'))\n",
    "        \n",
    "fig.update_layout(\n",
    "    title_text='Flow Variation',\n",
    "    plot_bgcolor='white',\n",
    "    xaxis=dict(showline=False,showgrid=False,showticklabels=True,ticks='outside'),\n",
    "    yaxis=dict(title_text='%',separatethousands=True,gridcolor='rgb(204, 204, 204)'),\n",
    "    width=1200, height=400, autosize=False,\n",
    ")\n",
    "fig.show(renderer=bookRenderer)"
   ]
  },
  {
   "cell_type": "code",
   "execution_count": 38,
   "metadata": {
    "jupyter": {
     "source_hidden": true
    }
   },
   "outputs": [
    {
     "data": {
      "application/vnd.jupyter.widget-view+json": {
       "model_id": "fdbd463ebd354e97a2657853a4132311",
       "version_major": 2,
       "version_minor": 0
      },
      "text/plain": [
       "interactive(children=(IntSlider(value=2, description='Window', max=24, min=2, step=2), Output()), _dom_classes…"
      ]
     },
     "metadata": {},
     "output_type": "display_data"
    }
   ],
   "source": [
    "\n",
    "@interact\n",
    "def show_average(Window=widgets.IntSlider(min=2, max=24, step=2, value=2)):\n",
    "    fig = go.Figure(data=[\n",
    "            go.Scatter(x=yearly.index, y=yearly['Flow_mean'].rolling(Window,center=True).mean(), \n",
    "                name=str(Window) + ' year ma',line_shape='spline',line = dict(color='black', width=2))])\n",
    "    \n",
    "    fig.add_trace(go.Bar(x=yearly.index, y=yearly['Flow_mean'],name='Mean annual flow',marker_color='rgb(204, 80, 80)'))\n",
    "\n",
    "    fig.update_layout(\n",
    "        title_text='Mean Annual Flow',\n",
    "        plot_bgcolor='white',\n",
    "        xaxis=dict(showline=False,showgrid=False,showticklabels=True,ticks='outside'),\n",
    "        yaxis=dict(title_text='Flow m\\u00B3/s',range=(0,2500),separatethousands=True,gridcolor='rgb(204, 204, 204)'),\n",
    "        width=1200, height=400, autosize=False,\n",
    "    )\n",
    "    fig.show(renderer=bookRenderer)\n",
    "    "
   ]
  }
 ],
 "metadata": {
  "kernelspec": {
   "display_name": "Python 3",
   "language": "python",
   "name": "python3"
  },
  "language_info": {
   "codemirror_mode": {
    "name": "ipython",
    "version": 3
   },
   "file_extension": ".py",
   "mimetype": "text/x-python",
   "name": "python",
   "nbconvert_exporter": "python",
   "pygments_lexer": "ipython3",
   "version": "3.8.1"
  }
 },
 "nbformat": 4,
 "nbformat_minor": 4
}
