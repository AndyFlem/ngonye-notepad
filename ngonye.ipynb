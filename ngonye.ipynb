{
 "cells": [
  {
   "cell_type": "code",
   "execution_count": 85,
   "metadata": {},
   "outputs": [
    {
     "name": "stdout",
     "output_type": "stream",
     "text": [
      "\u001b[32m\u001b[1m Resolving\u001b[22m\u001b[39m package versions...\n",
      "\u001b[32m\u001b[1m  Updating\u001b[22m\u001b[39m `C:\\Users\\Dell\\.julia\\environments\\v1.3\\Project.toml`\n",
      "\u001b[90m [no changes]\u001b[39m\n",
      "\u001b[32m\u001b[1m  Updating\u001b[22m\u001b[39m `C:\\Users\\Dell\\.julia\\environments\\v1.3\\Manifest.toml`\n",
      "\u001b[90m [no changes]\u001b[39m\n",
      "\u001b[32m\u001b[1m Resolving\u001b[22m\u001b[39m package versions...\n",
      "\u001b[32m\u001b[1m  Updating\u001b[22m\u001b[39m `C:\\Users\\Dell\\.julia\\environments\\v1.3\\Project.toml`\n",
      "\u001b[90m [no changes]\u001b[39m\n",
      "\u001b[32m\u001b[1m  Updating\u001b[22m\u001b[39m `C:\\Users\\Dell\\.julia\\environments\\v1.3\\Manifest.toml`\n",
      "\u001b[90m [no changes]\u001b[39m\n",
      "\u001b[32m\u001b[1m Resolving\u001b[22m\u001b[39m package versions...\n",
      "\u001b[32m\u001b[1m  Updating\u001b[22m\u001b[39m `C:\\Users\\Dell\\.julia\\environments\\v1.3\\Project.toml`\n",
      "\u001b[90m [no changes]\u001b[39m\n",
      "\u001b[32m\u001b[1m  Updating\u001b[22m\u001b[39m `C:\\Users\\Dell\\.julia\\environments\\v1.3\\Manifest.toml`\n",
      "\u001b[90m [no changes]\u001b[39m\n"
     ]
    }
   ],
   "source": [
    "#using Pkg\n",
    "#Pkg.add(\"CSV\")\n",
    "#Pkg.add(\"DataFrames\")\n",
    "#Pkg.add(\"Plots\")\n",
    "using CSV\n",
    "using DataFrames\n",
    "using Statistics\n",
    "using Dates\n",
    "using Plots"
   ]
  },
  {
   "cell_type": "code",
   "execution_count": 77,
   "metadata": {},
   "outputs": [
    {
     "data": {
      "text/html": [
       "<table class=\"data-frame\"><thead><tr><th></th><th>Date</th><th>Year</th><th>MonthNo</th><th>Day</th><th>Flow</th><th>MonthId</th></tr><tr><th></th><th>Date</th><th>Int64</th><th>Int64</th><th>Int64</th><th>Int64</th><th>Float64</th></tr></thead><tbody><p>33,968 rows × 6 columns</p><tr><th>1</th><td>1924-10-01</td><td>1924</td><td>10</td><td>1</td><td>111</td><td>1924.1</td></tr><tr><th>2</th><td>1924-10-02</td><td>1924</td><td>10</td><td>2</td><td>111</td><td>1924.1</td></tr><tr><th>3</th><td>1924-10-03</td><td>1924</td><td>10</td><td>3</td><td>111</td><td>1924.1</td></tr><tr><th>4</th><td>1924-10-04</td><td>1924</td><td>10</td><td>4</td><td>111</td><td>1924.1</td></tr><tr><th>5</th><td>1924-10-05</td><td>1924</td><td>10</td><td>5</td><td>111</td><td>1924.1</td></tr><tr><th>6</th><td>1924-10-06</td><td>1924</td><td>10</td><td>6</td><td>111</td><td>1924.1</td></tr><tr><th>7</th><td>1924-10-07</td><td>1924</td><td>10</td><td>7</td><td>111</td><td>1924.1</td></tr><tr><th>8</th><td>1924-10-08</td><td>1924</td><td>10</td><td>8</td><td>111</td><td>1924.1</td></tr><tr><th>9</th><td>1924-10-09</td><td>1924</td><td>10</td><td>9</td><td>111</td><td>1924.1</td></tr><tr><th>10</th><td>1924-10-10</td><td>1924</td><td>10</td><td>10</td><td>111</td><td>1924.1</td></tr><tr><th>11</th><td>1924-10-11</td><td>1924</td><td>10</td><td>11</td><td>111</td><td>1924.1</td></tr><tr><th>12</th><td>1924-10-12</td><td>1924</td><td>10</td><td>12</td><td>111</td><td>1924.1</td></tr><tr><th>13</th><td>1924-10-13</td><td>1924</td><td>10</td><td>13</td><td>111</td><td>1924.1</td></tr><tr><th>14</th><td>1924-10-14</td><td>1924</td><td>10</td><td>14</td><td>111</td><td>1924.1</td></tr><tr><th>15</th><td>1924-10-15</td><td>1924</td><td>10</td><td>15</td><td>111</td><td>1924.1</td></tr><tr><th>16</th><td>1924-10-16</td><td>1924</td><td>10</td><td>16</td><td>111</td><td>1924.1</td></tr><tr><th>17</th><td>1924-10-17</td><td>1924</td><td>10</td><td>17</td><td>111</td><td>1924.1</td></tr><tr><th>18</th><td>1924-10-18</td><td>1924</td><td>10</td><td>18</td><td>111</td><td>1924.1</td></tr><tr><th>19</th><td>1924-10-19</td><td>1924</td><td>10</td><td>19</td><td>111</td><td>1924.1</td></tr><tr><th>20</th><td>1924-10-20</td><td>1924</td><td>10</td><td>20</td><td>111</td><td>1924.1</td></tr><tr><th>21</th><td>1924-10-21</td><td>1924</td><td>10</td><td>21</td><td>122</td><td>1924.1</td></tr><tr><th>22</th><td>1924-10-22</td><td>1924</td><td>10</td><td>22</td><td>124</td><td>1924.1</td></tr><tr><th>23</th><td>1924-10-23</td><td>1924</td><td>10</td><td>23</td><td>124</td><td>1924.1</td></tr><tr><th>24</th><td>1924-10-24</td><td>1924</td><td>10</td><td>24</td><td>127</td><td>1924.1</td></tr><tr><th>25</th><td>1924-10-25</td><td>1924</td><td>10</td><td>25</td><td>126</td><td>1924.1</td></tr><tr><th>26</th><td>1924-10-26</td><td>1924</td><td>10</td><td>26</td><td>126</td><td>1924.1</td></tr><tr><th>27</th><td>1924-10-27</td><td>1924</td><td>10</td><td>27</td><td>126</td><td>1924.1</td></tr><tr><th>28</th><td>1924-10-28</td><td>1924</td><td>10</td><td>28</td><td>126</td><td>1924.1</td></tr><tr><th>29</th><td>1924-10-29</td><td>1924</td><td>10</td><td>29</td><td>126</td><td>1924.1</td></tr><tr><th>30</th><td>1924-10-30</td><td>1924</td><td>10</td><td>30</td><td>126</td><td>1924.1</td></tr><tr><th>&vellip;</th><td>&vellip;</td><td>&vellip;</td><td>&vellip;</td><td>&vellip;</td><td>&vellip;</td><td>&vellip;</td></tr></tbody></table>"
      ],
      "text/latex": [
       "\\begin{tabular}{r|cccccc}\n",
       "\t& Date & Year & MonthNo & Day & Flow & MonthId\\\\\n",
       "\t\\hline\n",
       "\t& Date & Int64 & Int64 & Int64 & Int64 & Float64\\\\\n",
       "\t\\hline\n",
       "\t1 & 1924-10-01 & 1924 & 10 & 1 & 111 & 1924.1 \\\\\n",
       "\t2 & 1924-10-02 & 1924 & 10 & 2 & 111 & 1924.1 \\\\\n",
       "\t3 & 1924-10-03 & 1924 & 10 & 3 & 111 & 1924.1 \\\\\n",
       "\t4 & 1924-10-04 & 1924 & 10 & 4 & 111 & 1924.1 \\\\\n",
       "\t5 & 1924-10-05 & 1924 & 10 & 5 & 111 & 1924.1 \\\\\n",
       "\t6 & 1924-10-06 & 1924 & 10 & 6 & 111 & 1924.1 \\\\\n",
       "\t7 & 1924-10-07 & 1924 & 10 & 7 & 111 & 1924.1 \\\\\n",
       "\t8 & 1924-10-08 & 1924 & 10 & 8 & 111 & 1924.1 \\\\\n",
       "\t9 & 1924-10-09 & 1924 & 10 & 9 & 111 & 1924.1 \\\\\n",
       "\t10 & 1924-10-10 & 1924 & 10 & 10 & 111 & 1924.1 \\\\\n",
       "\t11 & 1924-10-11 & 1924 & 10 & 11 & 111 & 1924.1 \\\\\n",
       "\t12 & 1924-10-12 & 1924 & 10 & 12 & 111 & 1924.1 \\\\\n",
       "\t13 & 1924-10-13 & 1924 & 10 & 13 & 111 & 1924.1 \\\\\n",
       "\t14 & 1924-10-14 & 1924 & 10 & 14 & 111 & 1924.1 \\\\\n",
       "\t15 & 1924-10-15 & 1924 & 10 & 15 & 111 & 1924.1 \\\\\n",
       "\t16 & 1924-10-16 & 1924 & 10 & 16 & 111 & 1924.1 \\\\\n",
       "\t17 & 1924-10-17 & 1924 & 10 & 17 & 111 & 1924.1 \\\\\n",
       "\t18 & 1924-10-18 & 1924 & 10 & 18 & 111 & 1924.1 \\\\\n",
       "\t19 & 1924-10-19 & 1924 & 10 & 19 & 111 & 1924.1 \\\\\n",
       "\t20 & 1924-10-20 & 1924 & 10 & 20 & 111 & 1924.1 \\\\\n",
       "\t21 & 1924-10-21 & 1924 & 10 & 21 & 122 & 1924.1 \\\\\n",
       "\t22 & 1924-10-22 & 1924 & 10 & 22 & 124 & 1924.1 \\\\\n",
       "\t23 & 1924-10-23 & 1924 & 10 & 23 & 124 & 1924.1 \\\\\n",
       "\t24 & 1924-10-24 & 1924 & 10 & 24 & 127 & 1924.1 \\\\\n",
       "\t25 & 1924-10-25 & 1924 & 10 & 25 & 126 & 1924.1 \\\\\n",
       "\t26 & 1924-10-26 & 1924 & 10 & 26 & 126 & 1924.1 \\\\\n",
       "\t27 & 1924-10-27 & 1924 & 10 & 27 & 126 & 1924.1 \\\\\n",
       "\t28 & 1924-10-28 & 1924 & 10 & 28 & 126 & 1924.1 \\\\\n",
       "\t29 & 1924-10-29 & 1924 & 10 & 29 & 126 & 1924.1 \\\\\n",
       "\t30 & 1924-10-30 & 1924 & 10 & 30 & 126 & 1924.1 \\\\\n",
       "\t$\\dots$ & $\\dots$ & $\\dots$ & $\\dots$ & $\\dots$ & $\\dots$ & $\\dots$ \\\\\n",
       "\\end{tabular}\n"
      ],
      "text/plain": [
       "33968×6 DataFrame\n",
       "│ Row   │ Date       │ Year  │ MonthNo │ Day   │ Flow  │ MonthId │\n",
       "│       │ \u001b[90mDate\u001b[39m       │ \u001b[90mInt64\u001b[39m │ \u001b[90mInt64\u001b[39m   │ \u001b[90mInt64\u001b[39m │ \u001b[90mInt64\u001b[39m │ \u001b[90mFloat64\u001b[39m │\n",
       "├───────┼────────────┼───────┼─────────┼───────┼───────┼─────────┤\n",
       "│ 1     │ 1924-10-01 │ 1924  │ 10      │ 1     │ 111   │ 1924.1  │\n",
       "│ 2     │ 1924-10-02 │ 1924  │ 10      │ 2     │ 111   │ 1924.1  │\n",
       "│ 3     │ 1924-10-03 │ 1924  │ 10      │ 3     │ 111   │ 1924.1  │\n",
       "│ 4     │ 1924-10-04 │ 1924  │ 10      │ 4     │ 111   │ 1924.1  │\n",
       "│ 5     │ 1924-10-05 │ 1924  │ 10      │ 5     │ 111   │ 1924.1  │\n",
       "│ 6     │ 1924-10-06 │ 1924  │ 10      │ 6     │ 111   │ 1924.1  │\n",
       "│ 7     │ 1924-10-07 │ 1924  │ 10      │ 7     │ 111   │ 1924.1  │\n",
       "│ 8     │ 1924-10-08 │ 1924  │ 10      │ 8     │ 111   │ 1924.1  │\n",
       "│ 9     │ 1924-10-09 │ 1924  │ 10      │ 9     │ 111   │ 1924.1  │\n",
       "│ 10    │ 1924-10-10 │ 1924  │ 10      │ 10    │ 111   │ 1924.1  │\n",
       "⋮\n",
       "│ 33958 │ 2017-09-20 │ 2017  │ 9       │ 20    │ 213   │ 2017.09 │\n",
       "│ 33959 │ 2017-09-21 │ 2017  │ 9       │ 21    │ 213   │ 2017.09 │\n",
       "│ 33960 │ 2017-09-22 │ 2017  │ 9       │ 22    │ 210   │ 2017.09 │\n",
       "│ 33961 │ 2017-09-23 │ 2017  │ 9       │ 23    │ 203   │ 2017.09 │\n",
       "│ 33962 │ 2017-09-24 │ 2017  │ 9       │ 24    │ 201   │ 2017.09 │\n",
       "│ 33963 │ 2017-09-25 │ 2017  │ 9       │ 25    │ 201   │ 2017.09 │\n",
       "│ 33964 │ 2017-09-26 │ 2017  │ 9       │ 26    │ 201   │ 2017.09 │\n",
       "│ 33965 │ 2017-09-27 │ 2017  │ 9       │ 27    │ 201   │ 2017.09 │\n",
       "│ 33966 │ 2017-09-28 │ 2017  │ 9       │ 28    │ 201   │ 2017.09 │\n",
       "│ 33967 │ 2017-09-29 │ 2017  │ 9       │ 29    │ 201   │ 2017.09 │\n",
       "│ 33968 │ 2017-09-30 │ 2017  │ 9       │ 30    │ 200   │ 2017.09 │"
      ]
     },
     "execution_count": 77,
     "metadata": {},
     "output_type": "execute_result"
    }
   ],
   "source": [
    "daily=DataFrame(CSV.File(\"daily.csv\"))\n",
    "daily.Date=Date.(daily.Date,\"dd/mm/yyyy\")\n",
    "daily.Year=Dates.year.(daily.Date)\n",
    "daily.MonthNo=Dates.month.(daily.Date)\n",
    "daily.Day=Dates.day.(daily.Date)\n",
    "daily.MonthId=daily.Year .+ (daily.MonthNo ./ 100)\n",
    "daily"
   ]
  },
  {
   "cell_type": "code",
   "execution_count": 78,
   "metadata": {},
   "outputs": [
    {
     "data": {
      "text/html": [
       "<table class=\"data-frame\"><thead><tr><th></th><th>Year</th><th>MonthNo</th><th>MonthName</th><th>Energy_sum</th></tr><tr><th></th><th>Int64</th><th>Int64</th><th>String</th><th>Float64</th></tr></thead><tbody><p>1,104 rows × 4 columns</p><tr><th>1</th><td>1924</td><td>10</td><td> Oct </td><td>0.0</td></tr><tr><th>2</th><td>1924</td><td>11</td><td> Nov </td><td>7.7</td></tr><tr><th>3</th><td>1924</td><td>12</td><td> Dec </td><td>24.3</td></tr><tr><th>4</th><td>1925</td><td>1</td><td> Jan </td><td>61.8</td></tr><tr><th>5</th><td>1925</td><td>2</td><td> Feb </td><td>109.5</td></tr><tr><th>6</th><td>1925</td><td>3</td><td> Mar </td><td>137.4</td></tr><tr><th>7</th><td>1925</td><td>4</td><td> Apr </td><td>103.7</td></tr><tr><th>8</th><td>1925</td><td>5</td><td> May </td><td>112.9</td></tr><tr><th>9</th><td>1925</td><td>6</td><td> Jun </td><td>129.0</td></tr><tr><th>10</th><td>1925</td><td>7</td><td> Jul </td><td>89.9</td></tr><tr><th>11</th><td>1925</td><td>8</td><td> Aug </td><td>41.3</td></tr><tr><th>12</th><td>1925</td><td>9</td><td> Sep </td><td>23.7</td></tr><tr><th>13</th><td>1925</td><td>10</td><td> Oct </td><td>16.6</td></tr><tr><th>14</th><td>1925</td><td>11</td><td> Nov </td><td>14.7</td></tr><tr><th>15</th><td>1925</td><td>12</td><td> Dec </td><td>34.0</td></tr><tr><th>16</th><td>1926</td><td>1</td><td> Jan </td><td>56.6</td></tr><tr><th>17</th><td>1926</td><td>2</td><td> Feb </td><td>72.6</td></tr><tr><th>18</th><td>1926</td><td>3</td><td> Mar </td><td>120.4</td></tr><tr><th>19</th><td>1926</td><td>4</td><td> Apr </td><td>81.5</td></tr><tr><th>20</th><td>1926</td><td>5</td><td> May </td><td>105.8</td></tr><tr><th>21</th><td>1926</td><td>6</td><td> Jun </td><td>127.8</td></tr><tr><th>22</th><td>1926</td><td>7</td><td> Jul </td><td>90.9</td></tr><tr><th>23</th><td>1926</td><td>8</td><td> Aug </td><td>49.6</td></tr><tr><th>24</th><td>1926</td><td>9</td><td> Sep </td><td>30.5</td></tr><tr><th>25</th><td>1926</td><td>10</td><td> Oct </td><td>21.9</td></tr><tr><th>26</th><td>1926</td><td>11</td><td> Nov </td><td>20.6</td></tr><tr><th>27</th><td>1926</td><td>12</td><td> Dec </td><td>41.2</td></tr><tr><th>28</th><td>1927</td><td>1</td><td> Jan </td><td>73.2</td></tr><tr><th>29</th><td>1927</td><td>2</td><td> Feb </td><td>102.2</td></tr><tr><th>30</th><td>1927</td><td>3</td><td> Mar </td><td>137.0</td></tr><tr><th>&vellip;</th><td>&vellip;</td><td>&vellip;</td><td>&vellip;</td><td>&vellip;</td></tr></tbody></table>"
      ],
      "text/latex": [
       "\\begin{tabular}{r|cccc}\n",
       "\t& Year & MonthNo & MonthName & Energy\\_sum\\\\\n",
       "\t\\hline\n",
       "\t& Int64 & Int64 & String & Float64\\\\\n",
       "\t\\hline\n",
       "\t1 & 1924 & 10 &  Oct  & 0.0 \\\\\n",
       "\t2 & 1924 & 11 &  Nov  & 7.7 \\\\\n",
       "\t3 & 1924 & 12 &  Dec  & 24.3 \\\\\n",
       "\t4 & 1925 & 1 &  Jan  & 61.8 \\\\\n",
       "\t5 & 1925 & 2 &  Feb  & 109.5 \\\\\n",
       "\t6 & 1925 & 3 &  Mar  & 137.4 \\\\\n",
       "\t7 & 1925 & 4 &  Apr  & 103.7 \\\\\n",
       "\t8 & 1925 & 5 &  May  & 112.9 \\\\\n",
       "\t9 & 1925 & 6 &  Jun  & 129.0 \\\\\n",
       "\t10 & 1925 & 7 &  Jul  & 89.9 \\\\\n",
       "\t11 & 1925 & 8 &  Aug  & 41.3 \\\\\n",
       "\t12 & 1925 & 9 &  Sep  & 23.7 \\\\\n",
       "\t13 & 1925 & 10 &  Oct  & 16.6 \\\\\n",
       "\t14 & 1925 & 11 &  Nov  & 14.7 \\\\\n",
       "\t15 & 1925 & 12 &  Dec  & 34.0 \\\\\n",
       "\t16 & 1926 & 1 &  Jan  & 56.6 \\\\\n",
       "\t17 & 1926 & 2 &  Feb  & 72.6 \\\\\n",
       "\t18 & 1926 & 3 &  Mar  & 120.4 \\\\\n",
       "\t19 & 1926 & 4 &  Apr  & 81.5 \\\\\n",
       "\t20 & 1926 & 5 &  May  & 105.8 \\\\\n",
       "\t21 & 1926 & 6 &  Jun  & 127.8 \\\\\n",
       "\t22 & 1926 & 7 &  Jul  & 90.9 \\\\\n",
       "\t23 & 1926 & 8 &  Aug  & 49.6 \\\\\n",
       "\t24 & 1926 & 9 &  Sep  & 30.5 \\\\\n",
       "\t25 & 1926 & 10 &  Oct  & 21.9 \\\\\n",
       "\t26 & 1926 & 11 &  Nov  & 20.6 \\\\\n",
       "\t27 & 1926 & 12 &  Dec  & 41.2 \\\\\n",
       "\t28 & 1927 & 1 &  Jan  & 73.2 \\\\\n",
       "\t29 & 1927 & 2 &  Feb  & 102.2 \\\\\n",
       "\t30 & 1927 & 3 &  Mar  & 137.0 \\\\\n",
       "\t$\\dots$ & $\\dots$ & $\\dots$ & $\\dots$ & $\\dots$ \\\\\n",
       "\\end{tabular}\n"
      ],
      "text/plain": [
       "1104×4 DataFrame\n",
       "│ Row  │ Year  │ MonthNo │ MonthName │ Energy_sum │\n",
       "│      │ \u001b[90mInt64\u001b[39m │ \u001b[90mInt64\u001b[39m   │ \u001b[90mString\u001b[39m    │ \u001b[90mFloat64\u001b[39m    │\n",
       "├──────┼───────┼─────────┼───────────┼────────────┤\n",
       "│ 1    │ 1924  │ 10      │  Oct      │ 0.0        │\n",
       "│ 2    │ 1924  │ 11      │  Nov      │ 7.7        │\n",
       "│ 3    │ 1924  │ 12      │  Dec      │ 24.3       │\n",
       "│ 4    │ 1925  │ 1       │  Jan      │ 61.8       │\n",
       "│ 5    │ 1925  │ 2       │  Feb      │ 109.5      │\n",
       "│ 6    │ 1925  │ 3       │  Mar      │ 137.4      │\n",
       "│ 7    │ 1925  │ 4       │  Apr      │ 103.7      │\n",
       "│ 8    │ 1925  │ 5       │  May      │ 112.9      │\n",
       "│ 9    │ 1925  │ 6       │  Jun      │ 129.0      │\n",
       "│ 10   │ 1925  │ 7       │  Jul      │ 89.9       │\n",
       "⋮\n",
       "│ 1094 │ 2015  │ 11      │  Nov      │ 28.4       │\n",
       "│ 1095 │ 2015  │ 12      │  Dec      │ 41.9       │\n",
       "│ 1096 │ 2016  │ 1       │  Jan      │ 67.7       │\n",
       "│ 1097 │ 2016  │ 2       │  Feb      │ 87.3       │\n",
       "│ 1098 │ 2016  │ 3       │  Mar      │ 119.7      │\n",
       "│ 1099 │ 2016  │ 4       │  Apr      │ 132.9      │\n",
       "│ 1100 │ 2016  │ 5       │  May      │ 139.0      │\n",
       "│ 1101 │ 2016  │ 6       │  Jun      │ 128.9      │\n",
       "│ 1102 │ 2016  │ 7       │  Jul      │ 81.4       │\n",
       "│ 1103 │ 2016  │ 8       │  Aug      │ 48.2       │\n",
       "│ 1104 │ 2016  │ 9       │  Sep      │ 31.2       │"
      ]
     },
     "execution_count": 78,
     "metadata": {},
     "output_type": "execute_result"
    }
   ],
   "source": [
    "monthly=DataFrame(CSV.File(\"monthly.csv\"))\n"
   ]
  },
  {
   "cell_type": "code",
   "execution_count": 87,
   "metadata": {},
   "outputs": [
    {
     "data": {
      "text/html": [
       "<table class=\"data-frame\"><thead><tr><th></th><th>Year</th><th>MonthNo</th><th>MonthName</th><th>Energy_sum</th><th>MonthId</th><th>Flow_max</th><th>Flow_mean</th><th>Flow_median</th></tr><tr><th></th><th>Int64</th><th>Int64</th><th>String</th><th>Float64</th><th>Float64</th><th>Int64</th><th>Float64</th><th>Float64</th></tr></thead><tbody><p>1,104 rows × 11 columns (omitted printing of 3 columns)</p><tr><th>1</th><td>1924</td><td>10</td><td> Oct </td><td>0.0</td><td>1924.1</td><td>127</td><td>116.097</td><td>111.0</td></tr><tr><th>2</th><td>1924</td><td>11</td><td> Nov </td><td>7.7</td><td>1924.11</td><td>191</td><td>154.067</td><td>145.0</td></tr><tr><th>3</th><td>1924</td><td>12</td><td> Dec </td><td>24.3</td><td>1924.12</td><td>440</td><td>275.677</td><td>271.0</td></tr><tr><th>4</th><td>1925</td><td>1</td><td> Jan </td><td>61.8</td><td>1925.01</td><td>1183</td><td>692.774</td><td>596.0</td></tr><tr><th>5</th><td>1925</td><td>2</td><td> Feb </td><td>109.5</td><td>1925.02</td><td>1437</td><td>1193.75</td><td>1151.0</td></tr><tr><th>6</th><td>1925</td><td>3</td><td> Mar </td><td>137.4</td><td>1925.03</td><td>3452</td><td>1926.42</td><td>1493.0</td></tr><tr><th>7</th><td>1925</td><td>4</td><td> Apr </td><td>103.7</td><td>1925.04</td><td>3441</td><td>3198.57</td><td>3169.0</td></tr><tr><th>8</th><td>1925</td><td>5</td><td> May </td><td>112.9</td><td>1925.05</td><td>3021</td><td>2213.94</td><td>2162.0</td></tr><tr><th>9</th><td>1925</td><td>6</td><td> Jun </td><td>129.0</td><td>1925.06</td><td>1551</td><td>1178.37</td><td>1135.0</td></tr><tr><th>10</th><td>1925</td><td>7</td><td> Jul </td><td>89.9</td><td>1925.07</td><td>819</td><td>520.645</td><td>486.0</td></tr><tr><th>11</th><td>1925</td><td>8</td><td> Aug </td><td>41.3</td><td>1925.08</td><td>341</td><td>276.645</td><td>274.0</td></tr><tr><th>12</th><td>1925</td><td>9</td><td> Sep </td><td>23.7</td><td>1925.09</td><td>229</td><td>202.367</td><td>200.0</td></tr><tr><th>13</th><td>1925</td><td>10</td><td> Oct </td><td>16.6</td><td>1925.1</td><td>189</td><td>171.323</td><td>169.0</td></tr><tr><th>14</th><td>1925</td><td>11</td><td> Nov </td><td>14.7</td><td>1925.11</td><td>287</td><td>199.733</td><td>190.0</td></tr><tr><th>15</th><td>1925</td><td>12</td><td> Dec </td><td>34.0</td><td>1925.12</td><td>422</td><td>332.968</td><td>329.0</td></tr><tr><th>16</th><td>1926</td><td>1</td><td> Jan </td><td>56.6</td><td>1926.01</td><td>583</td><td>495.129</td><td>489.0</td></tr><tr><th>17</th><td>1926</td><td>2</td><td> Feb </td><td>72.6</td><td>1926.02</td><td>971</td><td>733.071</td><td>704.5</td></tr><tr><th>18</th><td>1926</td><td>3</td><td> Mar </td><td>120.4</td><td>1926.03</td><td>4501</td><td>2626.35</td><td>2077.0</td></tr><tr><th>19</th><td>1926</td><td>4</td><td> Apr </td><td>81.5</td><td>1926.04</td><td>4415</td><td>3961.37</td><td>3938.0</td></tr><tr><th>20</th><td>1926</td><td>5</td><td> May </td><td>105.8</td><td>1926.05</td><td>3467</td><td>2508.19</td><td>2450.0</td></tr><tr><th>21</th><td>1926</td><td>6</td><td> Jun </td><td>127.8</td><td>1926.06</td><td>1646</td><td>1195.53</td><td>1149.5</td></tr><tr><th>22</th><td>1926</td><td>7</td><td> Jul </td><td>90.9</td><td>1926.07</td><td>779</td><td>549.71</td><td>517.0</td></tr><tr><th>23</th><td>1926</td><td>8</td><td> Aug </td><td>49.6</td><td>1926.08</td><td>403</td><td>334.581</td><td>332.0</td></tr><tr><th>24</th><td>1926</td><td>9</td><td> Sep </td><td>30.5</td><td>1926.09</td><td>271</td><td>234.767</td><td>230.0</td></tr><tr><th>25</th><td>1926</td><td>10</td><td> Oct </td><td>21.9</td><td>1926.1</td><td>201</td><td>198.71</td><td>200.0</td></tr><tr><th>26</th><td>1926</td><td>11</td><td> Nov </td><td>20.6</td><td>1926.11</td><td>284</td><td>217.667</td><td>202.0</td></tr><tr><th>27</th><td>1926</td><td>12</td><td> Dec </td><td>41.2</td><td>1926.12</td><td>609</td><td>426.645</td><td>420.0</td></tr><tr><th>28</th><td>1927</td><td>1</td><td> Jan </td><td>73.2</td><td>1927.01</td><td>892</td><td>644.613</td><td>578.0</td></tr><tr><th>29</th><td>1927</td><td>2</td><td> Feb </td><td>102.2</td><td>1927.02</td><td>1466</td><td>1220.96</td><td>1189.0</td></tr><tr><th>30</th><td>1927</td><td>3</td><td> Mar </td><td>137.0</td><td>1927.03</td><td>2646</td><td>1787.45</td><td>1660.0</td></tr><tr><th>&vellip;</th><td>&vellip;</td><td>&vellip;</td><td>&vellip;</td><td>&vellip;</td><td>&vellip;</td><td>&vellip;</td><td>&vellip;</td><td>&vellip;</td></tr></tbody></table>"
      ],
      "text/latex": [
       "\\begin{tabular}{r|ccccccccc}\n",
       "\t& Year & MonthNo & MonthName & Energy\\_sum & MonthId & Flow\\_max & Flow\\_mean & Flow\\_median & \\\\\n",
       "\t\\hline\n",
       "\t& Int64 & Int64 & String & Float64 & Float64 & Int64 & Float64 & Float64 & \\\\\n",
       "\t\\hline\n",
       "\t1 & 1924 & 10 &  Oct  & 0.0 & 1924.1 & 127 & 116.097 & 111.0 & $\\dots$ \\\\\n",
       "\t2 & 1924 & 11 &  Nov  & 7.7 & 1924.11 & 191 & 154.067 & 145.0 & $\\dots$ \\\\\n",
       "\t3 & 1924 & 12 &  Dec  & 24.3 & 1924.12 & 440 & 275.677 & 271.0 & $\\dots$ \\\\\n",
       "\t4 & 1925 & 1 &  Jan  & 61.8 & 1925.01 & 1183 & 692.774 & 596.0 & $\\dots$ \\\\\n",
       "\t5 & 1925 & 2 &  Feb  & 109.5 & 1925.02 & 1437 & 1193.75 & 1151.0 & $\\dots$ \\\\\n",
       "\t6 & 1925 & 3 &  Mar  & 137.4 & 1925.03 & 3452 & 1926.42 & 1493.0 & $\\dots$ \\\\\n",
       "\t7 & 1925 & 4 &  Apr  & 103.7 & 1925.04 & 3441 & 3198.57 & 3169.0 & $\\dots$ \\\\\n",
       "\t8 & 1925 & 5 &  May  & 112.9 & 1925.05 & 3021 & 2213.94 & 2162.0 & $\\dots$ \\\\\n",
       "\t9 & 1925 & 6 &  Jun  & 129.0 & 1925.06 & 1551 & 1178.37 & 1135.0 & $\\dots$ \\\\\n",
       "\t10 & 1925 & 7 &  Jul  & 89.9 & 1925.07 & 819 & 520.645 & 486.0 & $\\dots$ \\\\\n",
       "\t11 & 1925 & 8 &  Aug  & 41.3 & 1925.08 & 341 & 276.645 & 274.0 & $\\dots$ \\\\\n",
       "\t12 & 1925 & 9 &  Sep  & 23.7 & 1925.09 & 229 & 202.367 & 200.0 & $\\dots$ \\\\\n",
       "\t13 & 1925 & 10 &  Oct  & 16.6 & 1925.1 & 189 & 171.323 & 169.0 & $\\dots$ \\\\\n",
       "\t14 & 1925 & 11 &  Nov  & 14.7 & 1925.11 & 287 & 199.733 & 190.0 & $\\dots$ \\\\\n",
       "\t15 & 1925 & 12 &  Dec  & 34.0 & 1925.12 & 422 & 332.968 & 329.0 & $\\dots$ \\\\\n",
       "\t16 & 1926 & 1 &  Jan  & 56.6 & 1926.01 & 583 & 495.129 & 489.0 & $\\dots$ \\\\\n",
       "\t17 & 1926 & 2 &  Feb  & 72.6 & 1926.02 & 971 & 733.071 & 704.5 & $\\dots$ \\\\\n",
       "\t18 & 1926 & 3 &  Mar  & 120.4 & 1926.03 & 4501 & 2626.35 & 2077.0 & $\\dots$ \\\\\n",
       "\t19 & 1926 & 4 &  Apr  & 81.5 & 1926.04 & 4415 & 3961.37 & 3938.0 & $\\dots$ \\\\\n",
       "\t20 & 1926 & 5 &  May  & 105.8 & 1926.05 & 3467 & 2508.19 & 2450.0 & $\\dots$ \\\\\n",
       "\t21 & 1926 & 6 &  Jun  & 127.8 & 1926.06 & 1646 & 1195.53 & 1149.5 & $\\dots$ \\\\\n",
       "\t22 & 1926 & 7 &  Jul  & 90.9 & 1926.07 & 779 & 549.71 & 517.0 & $\\dots$ \\\\\n",
       "\t23 & 1926 & 8 &  Aug  & 49.6 & 1926.08 & 403 & 334.581 & 332.0 & $\\dots$ \\\\\n",
       "\t24 & 1926 & 9 &  Sep  & 30.5 & 1926.09 & 271 & 234.767 & 230.0 & $\\dots$ \\\\\n",
       "\t25 & 1926 & 10 &  Oct  & 21.9 & 1926.1 & 201 & 198.71 & 200.0 & $\\dots$ \\\\\n",
       "\t26 & 1926 & 11 &  Nov  & 20.6 & 1926.11 & 284 & 217.667 & 202.0 & $\\dots$ \\\\\n",
       "\t27 & 1926 & 12 &  Dec  & 41.2 & 1926.12 & 609 & 426.645 & 420.0 & $\\dots$ \\\\\n",
       "\t28 & 1927 & 1 &  Jan  & 73.2 & 1927.01 & 892 & 644.613 & 578.0 & $\\dots$ \\\\\n",
       "\t29 & 1927 & 2 &  Feb  & 102.2 & 1927.02 & 1466 & 1220.96 & 1189.0 & $\\dots$ \\\\\n",
       "\t30 & 1927 & 3 &  Mar  & 137.0 & 1927.03 & 2646 & 1787.45 & 1660.0 & $\\dots$ \\\\\n",
       "\t$\\dots$ & $\\dots$ & $\\dots$ & $\\dots$ & $\\dots$ & $\\dots$ & $\\dots$ & $\\dots$ & $\\dots$ &  \\\\\n",
       "\\end{tabular}\n"
      ],
      "text/plain": [
       "1104×11 DataFrame. Omitted printing of 5 columns\n",
       "│ Row  │ Year  │ MonthNo │ MonthName │ Energy_sum │ MonthId │ Flow_max │\n",
       "│      │ \u001b[90mInt64\u001b[39m │ \u001b[90mInt64\u001b[39m   │ \u001b[90mString\u001b[39m    │ \u001b[90mFloat64\u001b[39m    │ \u001b[90mFloat64\u001b[39m │ \u001b[90mInt64\u001b[39m    │\n",
       "├──────┼───────┼─────────┼───────────┼────────────┼─────────┼──────────┤\n",
       "│ 1    │ 1924  │ 10      │  Oct      │ 0.0        │ 1924.1  │ 127      │\n",
       "│ 2    │ 1924  │ 11      │  Nov      │ 7.7        │ 1924.11 │ 191      │\n",
       "│ 3    │ 1924  │ 12      │  Dec      │ 24.3       │ 1924.12 │ 440      │\n",
       "│ 4    │ 1925  │ 1       │  Jan      │ 61.8       │ 1925.01 │ 1183     │\n",
       "│ 5    │ 1925  │ 2       │  Feb      │ 109.5      │ 1925.02 │ 1437     │\n",
       "│ 6    │ 1925  │ 3       │  Mar      │ 137.4      │ 1925.03 │ 3452     │\n",
       "│ 7    │ 1925  │ 4       │  Apr      │ 103.7      │ 1925.04 │ 3441     │\n",
       "│ 8    │ 1925  │ 5       │  May      │ 112.9      │ 1925.05 │ 3021     │\n",
       "│ 9    │ 1925  │ 6       │  Jun      │ 129.0      │ 1925.06 │ 1551     │\n",
       "│ 10   │ 1925  │ 7       │  Jul      │ 89.9       │ 1925.07 │ 819      │\n",
       "⋮\n",
       "│ 1094 │ 2015  │ 11      │  Nov      │ 28.4       │ 2015.11 │ 235      │\n",
       "│ 1095 │ 2015  │ 12      │  Dec      │ 41.9       │ 2015.12 │ 386      │\n",
       "│ 1096 │ 2016  │ 1       │  Jan      │ 67.7       │ 2016.01 │ 600      │\n",
       "│ 1097 │ 2016  │ 2       │  Feb      │ 87.3       │ 2016.02 │ 1359     │\n",
       "│ 1098 │ 2016  │ 3       │  Mar      │ 119.7      │ 2016.03 │ 2717     │\n",
       "│ 1099 │ 2016  │ 4       │  Apr      │ 132.9      │ 2016.04 │ 2976     │\n",
       "│ 1100 │ 2016  │ 5       │  May      │ 139.0      │ 2016.05 │ 2897     │\n",
       "│ 1101 │ 2016  │ 6       │  Jun      │ 128.9      │ 2016.06 │ 1890     │\n",
       "│ 1102 │ 2016  │ 7       │  Jul      │ 81.4       │ 2016.07 │ 708      │\n",
       "│ 1103 │ 2016  │ 8       │  Aug      │ 48.2       │ 2016.08 │ 393      │\n",
       "│ 1104 │ 2016  │ 9       │  Sep      │ 31.2       │ 2016.09 │ 276      │"
      ]
     },
     "execution_count": 87,
     "metadata": {},
     "output_type": "execute_result"
    }
   ],
   "source": [
    "monthly.MonthId=monthly.Year .+ (monthly.MonthNo ./ 100)\n",
    "monthly.YearDecimal=monthly.Year .+ (monthly.MonthNo ./ 12)\n",
    "monthly"
   ]
  },
  {
   "cell_type": "code",
   "execution_count": 81,
   "metadata": {},
   "outputs": [
    {
     "data": {
      "text/html": [
       "<table class=\"data-frame\"><thead><tr><th></th><th>Year</th><th>MonthNo</th><th>MonthName</th><th>Energy_sum</th><th>MonthId</th><th>Flow_max</th><th>Flow_mean</th><th>Flow_median</th></tr><tr><th></th><th>Int64</th><th>Int64</th><th>String</th><th>Float64</th><th>Float64</th><th>Int64</th><th>Float64</th><th>Float64</th></tr></thead><tbody><p>1,104 rows × 10 columns (omitted printing of 2 columns)</p><tr><th>1</th><td>1924</td><td>10</td><td> Oct </td><td>0.0</td><td>1924.1</td><td>127</td><td>116.097</td><td>111.0</td></tr><tr><th>2</th><td>1924</td><td>11</td><td> Nov </td><td>7.7</td><td>1924.11</td><td>191</td><td>154.067</td><td>145.0</td></tr><tr><th>3</th><td>1924</td><td>12</td><td> Dec </td><td>24.3</td><td>1924.12</td><td>440</td><td>275.677</td><td>271.0</td></tr><tr><th>4</th><td>1925</td><td>1</td><td> Jan </td><td>61.8</td><td>1925.01</td><td>1183</td><td>692.774</td><td>596.0</td></tr><tr><th>5</th><td>1925</td><td>2</td><td> Feb </td><td>109.5</td><td>1925.02</td><td>1437</td><td>1193.75</td><td>1151.0</td></tr><tr><th>6</th><td>1925</td><td>3</td><td> Mar </td><td>137.4</td><td>1925.03</td><td>3452</td><td>1926.42</td><td>1493.0</td></tr><tr><th>7</th><td>1925</td><td>4</td><td> Apr </td><td>103.7</td><td>1925.04</td><td>3441</td><td>3198.57</td><td>3169.0</td></tr><tr><th>8</th><td>1925</td><td>5</td><td> May </td><td>112.9</td><td>1925.05</td><td>3021</td><td>2213.94</td><td>2162.0</td></tr><tr><th>9</th><td>1925</td><td>6</td><td> Jun </td><td>129.0</td><td>1925.06</td><td>1551</td><td>1178.37</td><td>1135.0</td></tr><tr><th>10</th><td>1925</td><td>7</td><td> Jul </td><td>89.9</td><td>1925.07</td><td>819</td><td>520.645</td><td>486.0</td></tr><tr><th>11</th><td>1925</td><td>8</td><td> Aug </td><td>41.3</td><td>1925.08</td><td>341</td><td>276.645</td><td>274.0</td></tr><tr><th>12</th><td>1925</td><td>9</td><td> Sep </td><td>23.7</td><td>1925.09</td><td>229</td><td>202.367</td><td>200.0</td></tr><tr><th>13</th><td>1925</td><td>10</td><td> Oct </td><td>16.6</td><td>1925.1</td><td>189</td><td>171.323</td><td>169.0</td></tr><tr><th>14</th><td>1925</td><td>11</td><td> Nov </td><td>14.7</td><td>1925.11</td><td>287</td><td>199.733</td><td>190.0</td></tr><tr><th>15</th><td>1925</td><td>12</td><td> Dec </td><td>34.0</td><td>1925.12</td><td>422</td><td>332.968</td><td>329.0</td></tr><tr><th>16</th><td>1926</td><td>1</td><td> Jan </td><td>56.6</td><td>1926.01</td><td>583</td><td>495.129</td><td>489.0</td></tr><tr><th>17</th><td>1926</td><td>2</td><td> Feb </td><td>72.6</td><td>1926.02</td><td>971</td><td>733.071</td><td>704.5</td></tr><tr><th>18</th><td>1926</td><td>3</td><td> Mar </td><td>120.4</td><td>1926.03</td><td>4501</td><td>2626.35</td><td>2077.0</td></tr><tr><th>19</th><td>1926</td><td>4</td><td> Apr </td><td>81.5</td><td>1926.04</td><td>4415</td><td>3961.37</td><td>3938.0</td></tr><tr><th>20</th><td>1926</td><td>5</td><td> May </td><td>105.8</td><td>1926.05</td><td>3467</td><td>2508.19</td><td>2450.0</td></tr><tr><th>21</th><td>1926</td><td>6</td><td> Jun </td><td>127.8</td><td>1926.06</td><td>1646</td><td>1195.53</td><td>1149.5</td></tr><tr><th>22</th><td>1926</td><td>7</td><td> Jul </td><td>90.9</td><td>1926.07</td><td>779</td><td>549.71</td><td>517.0</td></tr><tr><th>23</th><td>1926</td><td>8</td><td> Aug </td><td>49.6</td><td>1926.08</td><td>403</td><td>334.581</td><td>332.0</td></tr><tr><th>24</th><td>1926</td><td>9</td><td> Sep </td><td>30.5</td><td>1926.09</td><td>271</td><td>234.767</td><td>230.0</td></tr><tr><th>25</th><td>1926</td><td>10</td><td> Oct </td><td>21.9</td><td>1926.1</td><td>201</td><td>198.71</td><td>200.0</td></tr><tr><th>26</th><td>1926</td><td>11</td><td> Nov </td><td>20.6</td><td>1926.11</td><td>284</td><td>217.667</td><td>202.0</td></tr><tr><th>27</th><td>1926</td><td>12</td><td> Dec </td><td>41.2</td><td>1926.12</td><td>609</td><td>426.645</td><td>420.0</td></tr><tr><th>28</th><td>1927</td><td>1</td><td> Jan </td><td>73.2</td><td>1927.01</td><td>892</td><td>644.613</td><td>578.0</td></tr><tr><th>29</th><td>1927</td><td>2</td><td> Feb </td><td>102.2</td><td>1927.02</td><td>1466</td><td>1220.96</td><td>1189.0</td></tr><tr><th>30</th><td>1927</td><td>3</td><td> Mar </td><td>137.0</td><td>1927.03</td><td>2646</td><td>1787.45</td><td>1660.0</td></tr><tr><th>&vellip;</th><td>&vellip;</td><td>&vellip;</td><td>&vellip;</td><td>&vellip;</td><td>&vellip;</td><td>&vellip;</td><td>&vellip;</td><td>&vellip;</td></tr></tbody></table>"
      ],
      "text/latex": [
       "\\begin{tabular}{r|ccccccccc}\n",
       "\t& Year & MonthNo & MonthName & Energy\\_sum & MonthId & Flow\\_max & Flow\\_mean & Flow\\_median & \\\\\n",
       "\t\\hline\n",
       "\t& Int64 & Int64 & String & Float64 & Float64 & Int64 & Float64 & Float64 & \\\\\n",
       "\t\\hline\n",
       "\t1 & 1924 & 10 &  Oct  & 0.0 & 1924.1 & 127 & 116.097 & 111.0 & $\\dots$ \\\\\n",
       "\t2 & 1924 & 11 &  Nov  & 7.7 & 1924.11 & 191 & 154.067 & 145.0 & $\\dots$ \\\\\n",
       "\t3 & 1924 & 12 &  Dec  & 24.3 & 1924.12 & 440 & 275.677 & 271.0 & $\\dots$ \\\\\n",
       "\t4 & 1925 & 1 &  Jan  & 61.8 & 1925.01 & 1183 & 692.774 & 596.0 & $\\dots$ \\\\\n",
       "\t5 & 1925 & 2 &  Feb  & 109.5 & 1925.02 & 1437 & 1193.75 & 1151.0 & $\\dots$ \\\\\n",
       "\t6 & 1925 & 3 &  Mar  & 137.4 & 1925.03 & 3452 & 1926.42 & 1493.0 & $\\dots$ \\\\\n",
       "\t7 & 1925 & 4 &  Apr  & 103.7 & 1925.04 & 3441 & 3198.57 & 3169.0 & $\\dots$ \\\\\n",
       "\t8 & 1925 & 5 &  May  & 112.9 & 1925.05 & 3021 & 2213.94 & 2162.0 & $\\dots$ \\\\\n",
       "\t9 & 1925 & 6 &  Jun  & 129.0 & 1925.06 & 1551 & 1178.37 & 1135.0 & $\\dots$ \\\\\n",
       "\t10 & 1925 & 7 &  Jul  & 89.9 & 1925.07 & 819 & 520.645 & 486.0 & $\\dots$ \\\\\n",
       "\t11 & 1925 & 8 &  Aug  & 41.3 & 1925.08 & 341 & 276.645 & 274.0 & $\\dots$ \\\\\n",
       "\t12 & 1925 & 9 &  Sep  & 23.7 & 1925.09 & 229 & 202.367 & 200.0 & $\\dots$ \\\\\n",
       "\t13 & 1925 & 10 &  Oct  & 16.6 & 1925.1 & 189 & 171.323 & 169.0 & $\\dots$ \\\\\n",
       "\t14 & 1925 & 11 &  Nov  & 14.7 & 1925.11 & 287 & 199.733 & 190.0 & $\\dots$ \\\\\n",
       "\t15 & 1925 & 12 &  Dec  & 34.0 & 1925.12 & 422 & 332.968 & 329.0 & $\\dots$ \\\\\n",
       "\t16 & 1926 & 1 &  Jan  & 56.6 & 1926.01 & 583 & 495.129 & 489.0 & $\\dots$ \\\\\n",
       "\t17 & 1926 & 2 &  Feb  & 72.6 & 1926.02 & 971 & 733.071 & 704.5 & $\\dots$ \\\\\n",
       "\t18 & 1926 & 3 &  Mar  & 120.4 & 1926.03 & 4501 & 2626.35 & 2077.0 & $\\dots$ \\\\\n",
       "\t19 & 1926 & 4 &  Apr  & 81.5 & 1926.04 & 4415 & 3961.37 & 3938.0 & $\\dots$ \\\\\n",
       "\t20 & 1926 & 5 &  May  & 105.8 & 1926.05 & 3467 & 2508.19 & 2450.0 & $\\dots$ \\\\\n",
       "\t21 & 1926 & 6 &  Jun  & 127.8 & 1926.06 & 1646 & 1195.53 & 1149.5 & $\\dots$ \\\\\n",
       "\t22 & 1926 & 7 &  Jul  & 90.9 & 1926.07 & 779 & 549.71 & 517.0 & $\\dots$ \\\\\n",
       "\t23 & 1926 & 8 &  Aug  & 49.6 & 1926.08 & 403 & 334.581 & 332.0 & $\\dots$ \\\\\n",
       "\t24 & 1926 & 9 &  Sep  & 30.5 & 1926.09 & 271 & 234.767 & 230.0 & $\\dots$ \\\\\n",
       "\t25 & 1926 & 10 &  Oct  & 21.9 & 1926.1 & 201 & 198.71 & 200.0 & $\\dots$ \\\\\n",
       "\t26 & 1926 & 11 &  Nov  & 20.6 & 1926.11 & 284 & 217.667 & 202.0 & $\\dots$ \\\\\n",
       "\t27 & 1926 & 12 &  Dec  & 41.2 & 1926.12 & 609 & 426.645 & 420.0 & $\\dots$ \\\\\n",
       "\t28 & 1927 & 1 &  Jan  & 73.2 & 1927.01 & 892 & 644.613 & 578.0 & $\\dots$ \\\\\n",
       "\t29 & 1927 & 2 &  Feb  & 102.2 & 1927.02 & 1466 & 1220.96 & 1189.0 & $\\dots$ \\\\\n",
       "\t30 & 1927 & 3 &  Mar  & 137.0 & 1927.03 & 2646 & 1787.45 & 1660.0 & $\\dots$ \\\\\n",
       "\t$\\dots$ & $\\dots$ & $\\dots$ & $\\dots$ & $\\dots$ & $\\dots$ & $\\dots$ & $\\dots$ & $\\dots$ &  \\\\\n",
       "\\end{tabular}\n"
      ],
      "text/plain": [
       "1104×10 DataFrame. Omitted printing of 4 columns\n",
       "│ Row  │ Year  │ MonthNo │ MonthName │ Energy_sum │ MonthId │ Flow_max │\n",
       "│      │ \u001b[90mInt64\u001b[39m │ \u001b[90mInt64\u001b[39m   │ \u001b[90mString\u001b[39m    │ \u001b[90mFloat64\u001b[39m    │ \u001b[90mFloat64\u001b[39m │ \u001b[90mInt64\u001b[39m    │\n",
       "├──────┼───────┼─────────┼───────────┼────────────┼─────────┼──────────┤\n",
       "│ 1    │ 1924  │ 10      │  Oct      │ 0.0        │ 1924.1  │ 127      │\n",
       "│ 2    │ 1924  │ 11      │  Nov      │ 7.7        │ 1924.11 │ 191      │\n",
       "│ 3    │ 1924  │ 12      │  Dec      │ 24.3       │ 1924.12 │ 440      │\n",
       "│ 4    │ 1925  │ 1       │  Jan      │ 61.8       │ 1925.01 │ 1183     │\n",
       "│ 5    │ 1925  │ 2       │  Feb      │ 109.5      │ 1925.02 │ 1437     │\n",
       "│ 6    │ 1925  │ 3       │  Mar      │ 137.4      │ 1925.03 │ 3452     │\n",
       "│ 7    │ 1925  │ 4       │  Apr      │ 103.7      │ 1925.04 │ 3441     │\n",
       "│ 8    │ 1925  │ 5       │  May      │ 112.9      │ 1925.05 │ 3021     │\n",
       "│ 9    │ 1925  │ 6       │  Jun      │ 129.0      │ 1925.06 │ 1551     │\n",
       "│ 10   │ 1925  │ 7       │  Jul      │ 89.9       │ 1925.07 │ 819      │\n",
       "⋮\n",
       "│ 1094 │ 2015  │ 11      │  Nov      │ 28.4       │ 2015.11 │ 235      │\n",
       "│ 1095 │ 2015  │ 12      │  Dec      │ 41.9       │ 2015.12 │ 386      │\n",
       "│ 1096 │ 2016  │ 1       │  Jan      │ 67.7       │ 2016.01 │ 600      │\n",
       "│ 1097 │ 2016  │ 2       │  Feb      │ 87.3       │ 2016.02 │ 1359     │\n",
       "│ 1098 │ 2016  │ 3       │  Mar      │ 119.7      │ 2016.03 │ 2717     │\n",
       "│ 1099 │ 2016  │ 4       │  Apr      │ 132.9      │ 2016.04 │ 2976     │\n",
       "│ 1100 │ 2016  │ 5       │  May      │ 139.0      │ 2016.05 │ 2897     │\n",
       "│ 1101 │ 2016  │ 6       │  Jun      │ 128.9      │ 2016.06 │ 1890     │\n",
       "│ 1102 │ 2016  │ 7       │  Jul      │ 81.4       │ 2016.07 │ 708      │\n",
       "│ 1103 │ 2016  │ 8       │  Aug      │ 48.2       │ 2016.08 │ 393      │\n",
       "│ 1104 │ 2016  │ 9       │  Sep      │ 31.2       │ 2016.09 │ 276      │"
      ]
     },
     "execution_count": 81,
     "metadata": {},
     "output_type": "execute_result"
    }
   ],
   "source": [
    "monthly.Flow_max=join(monthly, by(daily,:MonthId,tmp_Flow_max=:Flow=>maximum), on = :MonthId)[!,:tmp_Flow_max]\n",
    "monthly.Flow_mean=join(monthly, by(daily,:MonthId,tmp_Flow_mean=:Flow=>mean), on = :MonthId)[!,:tmp_Flow_mean]\n",
    "monthly.Flow_median=join(monthly, by(daily,:MonthId,tmp_Flow_median=:Flow=>median), on = :MonthId)[!,:tmp_Flow_median]\n",
    "monthly.Flow_min=join(monthly, by(daily,:MonthId,tmp_Flow_min=:Flow=>minimum), on = :MonthId)[!,:tmp_Flow_min]\n",
    "monthly.Flow_range=monthly.Flow_max-monthly.Flow_min\n",
    "monthly\n"
   ]
  },
  {
   "cell_type": "code",
   "execution_count": 99,
   "metadata": {},
   "outputs": [
    {
     "ename": "ArgumentError",
     "evalue": "ArgumentError: Package PlotlyJS not found in current path:\n- Run `import Pkg; Pkg.add(\"PlotlyJS\")` to install the PlotlyJS package.\n",
     "output_type": "error",
     "traceback": [
      "ArgumentError: Package PlotlyJS not found in current path:\n- Run `import Pkg; Pkg.add(\"PlotlyJS\")` to install the PlotlyJS package.\n",
      "",
      "Stacktrace:",
      " [1] require(::Module, ::Symbol) at .\\loading.jl:887",
      " [2] top-level scope at C:\\Users\\Dell\\.julia\\packages\\Plots\\qZHsp\\src\\backends.jl:472",
      " [3] eval at .\\boot.jl:330 [inlined]",
      " [4] _initialize_backend(::Plots.PlotlyJSBackend) at C:\\Users\\Dell\\.julia\\packages\\Plots\\qZHsp\\src\\backends.jl:471",
      " [5] backend(::Plots.PlotlyJSBackend) at C:\\Users\\Dell\\.julia\\packages\\Plots\\qZHsp\\src\\backends.jl:176",
      " [6] #plotlyjs#281 at C:\\Users\\Dell\\.julia\\packages\\Plots\\qZHsp\\src\\backends.jl:33 [inlined]",
      " [7] plotlyjs() at C:\\Users\\Dell\\.julia\\packages\\Plots\\qZHsp\\src\\backends.jl:33",
      " [8] top-level scope at In[99]:1"
     ]
    }
   ],
   "source": [
    "plotlyjs()\n",
    "plot(monthly.YearDecimal,monthly.Flow_mean,title=\"Ngonye - Historic Flow\",label=\"\",ylabel=\"Flow m3/s\")\n",
    "\n"
   ]
  },
  {
   "cell_type": "code",
   "execution_count": null,
   "metadata": {
    "collapsed": true,
    "jupyter": {
     "outputs_hidden": true
    }
   },
   "outputs": [],
   "source": []
  },
  {
   "cell_type": "code",
   "execution_count": null,
   "metadata": {},
   "outputs": [],
   "source": []
  }
 ],
 "metadata": {
  "kernelspec": {
   "display_name": "Julia 1.3.1",
   "language": "julia",
   "name": "julia-1.3"
  },
  "language_info": {
   "file_extension": ".jl",
   "mimetype": "application/julia",
   "name": "julia",
   "version": "1.3.1"
  }
 },
 "nbformat": 4,
 "nbformat_minor": 4
}
