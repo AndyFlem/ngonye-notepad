{
 "cells": [
  {
   "cell_type": "code",
   "execution_count": 1,
   "metadata": {},
   "outputs": [],
   "source": [
    "import numpy as np\n",
    "import pandas as pd\n",
    "import datetime"
   ]
  },
  {
   "cell_type": "code",
   "execution_count": 4,
   "metadata": {},
   "outputs": [],
   "source": [
    "input_data='./input_data/'\n",
    "output_data='./output_data/'\n"
   ]
  },
  {
   "cell_type": "code",
   "execution_count": 5,
   "metadata": {},
   "outputs": [
    {
     "data": {
      "text/html": [
       "<div>\n",
       "<style scoped>\n",
       "    .dataframe tbody tr th:only-of-type {\n",
       "        vertical-align: middle;\n",
       "    }\n",
       "\n",
       "    .dataframe tbody tr th {\n",
       "        vertical-align: top;\n",
       "    }\n",
       "\n",
       "    .dataframe thead th {\n",
       "        text-align: right;\n",
       "    }\n",
       "</style>\n",
       "<table border=\"1\" class=\"dataframe\">\n",
       "  <thead>\n",
       "    <tr style=\"text-align: right;\">\n",
       "      <th></th>\n",
       "      <th>Date</th>\n",
       "      <th>Month</th>\n",
       "      <th>Day</th>\n",
       "      <th>Year</th>\n",
       "      <th>WaterYear</th>\n",
       "      <th>Flow</th>\n",
       "      <th>MonthId</th>\n",
       "      <th>WaterMonth</th>\n",
       "    </tr>\n",
       "    <tr>\n",
       "      <th>Date</th>\n",
       "      <th></th>\n",
       "      <th></th>\n",
       "      <th></th>\n",
       "      <th></th>\n",
       "      <th></th>\n",
       "      <th></th>\n",
       "      <th></th>\n",
       "      <th></th>\n",
       "    </tr>\n",
       "  </thead>\n",
       "  <tbody>\n",
       "    <tr>\n",
       "      <th>1959-10-10</th>\n",
       "      <td>1959-10-10</td>\n",
       "      <td>10</td>\n",
       "      <td>10</td>\n",
       "      <td>1959</td>\n",
       "      <td>1959</td>\n",
       "      <td>49.0</td>\n",
       "      <td>1959.10</td>\n",
       "      <td>1</td>\n",
       "    </tr>\n",
       "    <tr>\n",
       "      <th>1959-10-11</th>\n",
       "      <td>1959-10-11</td>\n",
       "      <td>10</td>\n",
       "      <td>11</td>\n",
       "      <td>1959</td>\n",
       "      <td>1959</td>\n",
       "      <td>49.0</td>\n",
       "      <td>1959.10</td>\n",
       "      <td>1</td>\n",
       "    </tr>\n",
       "    <tr>\n",
       "      <th>1959-10-12</th>\n",
       "      <td>1959-10-12</td>\n",
       "      <td>10</td>\n",
       "      <td>12</td>\n",
       "      <td>1959</td>\n",
       "      <td>1959</td>\n",
       "      <td>49.0</td>\n",
       "      <td>1959.10</td>\n",
       "      <td>1</td>\n",
       "    </tr>\n",
       "    <tr>\n",
       "      <th>1959-10-13</th>\n",
       "      <td>1959-10-13</td>\n",
       "      <td>10</td>\n",
       "      <td>13</td>\n",
       "      <td>1959</td>\n",
       "      <td>1959</td>\n",
       "      <td>49.0</td>\n",
       "      <td>1959.10</td>\n",
       "      <td>1</td>\n",
       "    </tr>\n",
       "    <tr>\n",
       "      <th>1959-10-14</th>\n",
       "      <td>1959-10-14</td>\n",
       "      <td>10</td>\n",
       "      <td>14</td>\n",
       "      <td>1959</td>\n",
       "      <td>1959</td>\n",
       "      <td>47.0</td>\n",
       "      <td>1959.10</td>\n",
       "      <td>1</td>\n",
       "    </tr>\n",
       "    <tr>\n",
       "      <th>...</th>\n",
       "      <td>...</td>\n",
       "      <td>...</td>\n",
       "      <td>...</td>\n",
       "      <td>...</td>\n",
       "      <td>...</td>\n",
       "      <td>...</td>\n",
       "      <td>...</td>\n",
       "      <td>...</td>\n",
       "    </tr>\n",
       "    <tr>\n",
       "      <th>2019-09-26</th>\n",
       "      <td>2019-09-26</td>\n",
       "      <td>9</td>\n",
       "      <td>26</td>\n",
       "      <td>2019</td>\n",
       "      <td>2018</td>\n",
       "      <td>44.0</td>\n",
       "      <td>2019.09</td>\n",
       "      <td>12</td>\n",
       "    </tr>\n",
       "    <tr>\n",
       "      <th>2019-09-27</th>\n",
       "      <td>2019-09-27</td>\n",
       "      <td>9</td>\n",
       "      <td>27</td>\n",
       "      <td>2019</td>\n",
       "      <td>2018</td>\n",
       "      <td>43.0</td>\n",
       "      <td>2019.09</td>\n",
       "      <td>12</td>\n",
       "    </tr>\n",
       "    <tr>\n",
       "      <th>2019-09-28</th>\n",
       "      <td>2019-09-28</td>\n",
       "      <td>9</td>\n",
       "      <td>28</td>\n",
       "      <td>2019</td>\n",
       "      <td>2018</td>\n",
       "      <td>43.0</td>\n",
       "      <td>2019.09</td>\n",
       "      <td>12</td>\n",
       "    </tr>\n",
       "    <tr>\n",
       "      <th>2019-09-29</th>\n",
       "      <td>2019-09-29</td>\n",
       "      <td>9</td>\n",
       "      <td>29</td>\n",
       "      <td>2019</td>\n",
       "      <td>2018</td>\n",
       "      <td>42.0</td>\n",
       "      <td>2019.09</td>\n",
       "      <td>12</td>\n",
       "    </tr>\n",
       "    <tr>\n",
       "      <th>2019-09-30</th>\n",
       "      <td>2019-09-30</td>\n",
       "      <td>9</td>\n",
       "      <td>30</td>\n",
       "      <td>2019</td>\n",
       "      <td>2018</td>\n",
       "      <td>42.0</td>\n",
       "      <td>2019.09</td>\n",
       "      <td>12</td>\n",
       "    </tr>\n",
       "  </tbody>\n",
       "</table>\n",
       "<p>21060 rows × 8 columns</p>\n",
       "</div>"
      ],
      "text/plain": [
       "                 Date  Month  Day  Year  WaterYear  Flow  MonthId  WaterMonth\n",
       "Date                                                                         \n",
       "1959-10-10 1959-10-10     10   10  1959       1959  49.0  1959.10           1\n",
       "1959-10-11 1959-10-11     10   11  1959       1959  49.0  1959.10           1\n",
       "1959-10-12 1959-10-12     10   12  1959       1959  49.0  1959.10           1\n",
       "1959-10-13 1959-10-13     10   13  1959       1959  49.0  1959.10           1\n",
       "1959-10-14 1959-10-14     10   14  1959       1959  47.0  1959.10           1\n",
       "...               ...    ...  ...   ...        ...   ...      ...         ...\n",
       "2019-09-26 2019-09-26      9   26  2019       2018  44.0  2019.09          12\n",
       "2019-09-27 2019-09-27      9   27  2019       2018  43.0  2019.09          12\n",
       "2019-09-28 2019-09-28      9   28  2019       2018  43.0  2019.09          12\n",
       "2019-09-29 2019-09-29      9   29  2019       2018  42.0  2019.09          12\n",
       "2019-09-30 2019-09-30      9   30  2019       2018  42.0  2019.09          12\n",
       "\n",
       "[21060 rows x 8 columns]"
      ]
     },
     "execution_count": 5,
     "metadata": {},
     "output_type": "execute_result"
    }
   ],
   "source": [
    "daily_raw = pd.read_csv(input_data + \"chavuma.csv\")\n",
    "daily=daily_raw.dropna().copy()\n",
    "daily['Date']=pd.to_datetime(daily['Date'],format=\"%d/%m/%Y\")\n",
    "daily=daily.set_index(pd.DatetimeIndex(daily['Date']))\n",
    "daily['MonthId']=daily['Year']+daily['Month']/100\n",
    "daily['WaterMonth']=daily.apply((lambda x: (x['Month']-9 if x['Month']>=10 else x['Month']+3)),axis=1)\n",
    "daily"
   ]
  },
  {
   "cell_type": "code",
   "execution_count": null,
   "metadata": {},
   "outputs": [],
   "source": [
    "daily['GapEnd']=daily['Date']!=daily['Date'].shift(1)+pd.DateOffset(1)\n",
    "daily['GapStart']=np.where(daily['GapEnd']==True,daily['Date'].shift(1),pd.NaT)\n",
    "daily=daily.astype({'GapStart': 'datetime64'})\n",
    "daily"
   ]
  },
  {
   "cell_type": "code",
   "execution_count": null,
   "metadata": {},
   "outputs": [],
   "source": [
    "gaps=daily.loc[daily['GapEnd']==True][['GapStart','Flow']].reset_index().rename(columns={'Date':'GapEnd','Flow':'FlowEnd'})\n",
    "gaps=gaps.drop(0)\n",
    "gaps.head(2)"
   ]
  },
  {
   "cell_type": "code",
   "execution_count": null,
   "metadata": {},
   "outputs": [],
   "source": [
    "gaps['FlowStart']=gaps.join(daily, on='GapStart',lsuffix='_L',how='inner')['Flow']\n",
    "gaps['Days']=((gaps['GapEnd']-pd.DateOffset(1))-gaps['GapStart']).dt.days"
   ]
  },
  {
   "cell_type": "code",
   "execution_count": null,
   "metadata": {},
   "outputs": [],
   "source": [
    "gaps.head(2)"
   ]
  },
  {
   "cell_type": "code",
   "execution_count": null,
   "metadata": {},
   "outputs": [],
   "source": [
    "fills=pd.DataFrame()\n",
    "\n",
    "for row in gaps.itertuples():\n",
    "    fillset=pd.DataFrame({'GapNo': row.Index, 'Date':pd.date_range(start=row.GapStart+pd.DateOffset(1), end=row.GapEnd-pd.DateOffset(1))})\n",
    "    joined=fillset.join(gaps,on='GapNo',lsuffix='_L')\n",
    "    fillset['DayNo']=(fillset['Date']-joined['GapStart']).dt.days\n",
    "    fillset['Flow']=joined['FlowStart']+((joined['FlowEnd']-joined['FlowStart'])/(joined['Days']+1)*fillset['DayNo'])\n",
    "    fills=fills.append(fillset)\n",
    "\n",
    "fills=fills.set_index('Date')\n",
    "fills"
   ]
  },
  {
   "cell_type": "code",
   "execution_count": null,
   "metadata": {},
   "outputs": [],
   "source": [
    "fills['Year']=fills.index.year\n",
    "fills['Month']=fills.index.month\n",
    "fills['Day']=fills.index.day\n",
    "fills['MonthId']=fills['Year']+fills['Month']/100\n",
    "fills['WaterYear']=fills.apply((lambda x: (x['Year'] if x['Month']>=10 else x['Year']-1)),axis=1)\n",
    "fills=fills.drop(['GapNo','DayNo'],axis=1)\n",
    "daily=daily.drop(['GapStart','GapEnd'],axis=1)\n",
    "fills"
   ]
  },
  {
   "cell_type": "code",
   "execution_count": null,
   "metadata": {},
   "outputs": [],
   "source": [
    "daily=daily.append(fills)\n",
    "daily"
   ]
  },
  {
   "cell_type": "code",
   "execution_count": null,
   "metadata": {},
   "outputs": [],
   "source": [
    "monthly=daily.groupby(['MonthId','Year','Month']).size().to_frame(name=\"DaysRecorded\").reset_index(['Month','Year'])\n",
    "monthly['Days']=monthly.apply(lambda x: datetime.datetime(x['Year'],x['Month'],1),axis=1).dt.daysinmonth\n",
    "monthly"
   ]
  },
  {
   "cell_type": "code",
   "execution_count": null,
   "metadata": {},
   "outputs": [],
   "source": [
    "monthly.drop(monthly.loc[monthly['DaysRecorded']!=monthly['Days']].index)\n",
    "monthly=monthly.drop(['DaysRecorded'],axis=1)\n",
    "monthly['Day']=1\n",
    "monthly['DateStart']=pd.to_datetime(monthly[['Year','Month','Day']])\n",
    "monthly=monthly.drop('Day',1)\n",
    "\n",
    "\n",
    "monthly['WaterYear']=monthly.apply((lambda x: (x['Year'] if x['Month']>=10 else x['Year']-1)),axis=1)\n",
    "monthly['WaterMonth']=monthly.apply((lambda x: (x['Month']-9 if x['Month']>=10 else x['Month']+3)),axis=1)\n",
    "\n",
    "\n",
    "monthly"
   ]
  },
  {
   "cell_type": "code",
   "execution_count": null,
   "metadata": {},
   "outputs": [],
   "source": [
    "monthly['Flow_min']=daily[['MonthId','Flow']].groupby('MonthId').min()\n",
    "monthly['Flow_mean']=daily[['MonthId','Flow']].groupby('MonthId').mean()\n",
    "monthly['Flow_median']=daily[['MonthId','Flow']].groupby('MonthId').median()\n",
    "monthly['Flow_max']=daily[['MonthId','Flow']].groupby('MonthId').max()\n",
    "monthly['Flow_range']=monthly['Flow_max']-monthly['Flow_min']\n",
    "monthly[['Flow_min','Flow_mean','Flow_median','Flow_max','Flow_range']]\n",
    "monthly"
   ]
  },
  {
   "cell_type": "code",
   "execution_count": null,
   "metadata": {},
   "outputs": [],
   "source": [
    "yearly=monthly[['WaterYear']].groupby('WaterYear').count()\n",
    "\n",
    "yearly['Flow_min']=daily[['WaterYear','Flow']].groupby('WaterYear').min()\n",
    "yearly['Flow_median']=daily[['WaterYear','Flow']].groupby('WaterYear').median()\n",
    "yearly['Flow_mean']=daily[['WaterYear','Flow']].groupby('WaterYear').mean()\n",
    "yearly['Flow_max']=daily[['WaterYear','Flow']].groupby('WaterYear').max()\n",
    "yearly['Flow_range']=yearly['Flow_max']-yearly['Flow_min']\n",
    "\n",
    "\n",
    "yearly"
   ]
  },
  {
   "cell_type": "code",
   "execution_count": null,
   "metadata": {},
   "outputs": [],
   "source": [
    "calmonthly=pd.DataFrame({'WaterMonth': [1,2,3,4,5,6,7,8,9,10,11,12],'MonthName': ['Oct','Nov','Dec','Jan','Feb','Mar','Apr','May','Jun','Jul','Aug','Sep'], 'Month':[10,11,12,1,2,3,4,5,6,7,8,9]})\n",
    "calmonthly=calmonthly.set_index('WaterMonth')\n",
    "calmonthly['Flow_min']=daily[['WaterMonth','Flow']].groupby('WaterMonth').min()\n",
    "calmonthly['Flow_mean']=daily[['WaterMonth','Flow']].groupby('WaterMonth').mean()\n",
    "calmonthly['Flow_median']=daily[['WaterMonth','Flow']].groupby('WaterMonth').median()\n",
    "calmonthly['Flow_max']=daily[['WaterMonth','Flow']].groupby('WaterMonth').max()\n",
    "calmonthly['Flow_std']=daily[['WaterMonth','Flow']].groupby('WaterMonth').std()\n",
    "calmonthly['Flow_coefvar']=(calmonthly['Flow_std']/calmonthly['Flow_mean']*100).round(1)\n",
    "\n",
    "\n",
    "calmonthly"
   ]
  },
  {
   "cell_type": "code",
   "execution_count": null,
   "metadata": {},
   "outputs": [],
   "source": [
    "daily.to_csv(output_data + 'chavuma_daily.csv')\n",
    "monthly.to_csv(output_data + 'chavuma_monthly.csv')\n",
    "yearly.to_csv(output_data + 'chavuma_yearly.csv')\n",
    "calmonthly.to_csv(output_data + 'chavuma_calmonthly.csv')"
   ]
  },
  {
   "cell_type": "code",
   "execution_count": null,
   "metadata": {},
   "outputs": [],
   "source": []
  }
 ],
 "metadata": {
  "kernelspec": {
   "display_name": "Python 3",
   "language": "python",
   "name": "python3"
  },
  "language_info": {
   "codemirror_mode": {
    "name": "ipython",
    "version": 3
   },
   "file_extension": ".py",
   "mimetype": "text/x-python",
   "name": "python",
   "nbconvert_exporter": "python",
   "pygments_lexer": "ipython3",
   "version": "3.8.1"
  }
 },
 "nbformat": 4,
 "nbformat_minor": 4
}
