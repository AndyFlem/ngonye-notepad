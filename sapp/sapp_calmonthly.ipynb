{
 "cells": [
  {
   "cell_type": "code",
   "execution_count": 1,
   "metadata": {},
   "outputs": [],
   "source": [
    "import numpy as np\n",
    "import pandas as pd\n",
    "import datetime\n",
    "import math"
   ]
  },
  {
   "cell_type": "code",
   "execution_count": 11,
   "metadata": {},
   "outputs": [],
   "source": [
    "daily=pd.read_csv('dam_daily.csv')\n",
    "daily\n",
    "daily=daily.loc[daily['year']<2020]"
   ]
  },
  {
   "cell_type": "code",
   "execution_count": 21,
   "metadata": {},
   "outputs": [],
   "source": [
    "monthly=pd.read_csv('dam_monthly.csv')\n",
    "monthly\n",
    "monthly=monthly.loc[monthly['year']<2020]"
   ]
  },
  {
   "cell_type": "code",
   "execution_count": 19,
   "metadata": {},
   "outputs": [
    {
     "data": {
      "text/plain": [
       "Index(['month', 'volume_mean', 'value_mean', 'price_weight_mean', 'price_mean',\n",
       "       'off_price_mean', 'standard_price_mean', 'morning_price_mean',\n",
       "       'evening_price_mean', 'off_hour_mean', 'standard_hour_mean',\n",
       "       'morning_hour_mean', 'evening_hour_mean'],\n",
       "      dtype='object')"
      ]
     },
     "execution_count": 19,
     "metadata": {},
     "output_type": "execute_result"
    }
   ],
   "source": [
    "calmonthly=daily.groupby(['month']).mean().reset_index()\n",
    "calmonthly=calmonthly.drop(['year','day','standard_volume','off_volume','morning_volume','evening_volume'],1)\n",
    "calmonthly.rename(columns={'value':'value_mean','volume':'volume_mean','price_weight_av': 'price_weight_mean','off_hour_count':'off_hour_mean','standard_hour_count':'standard_hour_mean','morning_hour_count':'morning_hour_mean','evening_hour_count':'evening_hour_mean'}, inplace=True)\n",
    "\n",
    "\n",
    "monthly[['volume','off_volume','standard_volume', 'morning_volume', 'evening_volume']]=monthly.groupby(['month']).mean().reset_index()[['off_volume','standard_volume', 'morning_volume', 'evening_volume']]\n",
    "\n",
    "\n",
    "\n",
    "calmonthly.columns"
   ]
  },
  {
   "cell_type": "code",
   "execution_count": 13,
   "metadata": {},
   "outputs": [],
   "source": [
    "calmonthly.to_csv('dam_calmonthly.csv')"
   ]
  },
  {
   "cell_type": "code",
   "execution_count": null,
   "metadata": {},
   "outputs": [],
   "source": []
  }
 ],
 "metadata": {
  "kernelspec": {
   "display_name": "Python 3",
   "language": "python",
   "name": "python3"
  },
  "language_info": {
   "codemirror_mode": {
    "name": "ipython",
    "version": 3
   },
   "file_extension": ".py",
   "mimetype": "text/x-python",
   "name": "python",
   "nbconvert_exporter": "python",
   "pygments_lexer": "ipython3",
   "version": "3.8.1"
  }
 },
 "nbformat": 4,
 "nbformat_minor": 4
}
